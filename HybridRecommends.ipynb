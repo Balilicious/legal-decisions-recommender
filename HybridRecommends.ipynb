{
 "cells": [
  {
   "cell_type": "markdown",
   "metadata": {},
   "source": [
    "# Hybrid Recommends\n",
    "\n",
    "recommend legal documents based on citation network analysis and document embeddings similarity\n",
    "\n",
    "- Berechnung der hybriden Empfehlungen\n",
    "- Anekdotische Evaluation\n",
    "- Vorbereitung Gesamtevaluation: Teil hybride Empfehlungen"
   ]
  },
  {
   "cell_type": "code",
   "execution_count": 65,
   "metadata": {},
   "outputs": [],
   "source": [
    "import pandas as pd\n",
    "import numpy as np\n",
    "\n",
    "import networkx as nx\n",
    "\n",
    "import heapq\n",
    "from operator import itemgetter\n",
    "\n",
    "import hvplot.networkx as hvnx\n",
    "\n",
    "from scipy.spatial import distance\n",
    "\n",
    "import datetime"
   ]
  },
  {
   "cell_type": "markdown",
   "metadata": {},
   "source": [
    "#### <span style='background:lightgreen'>Load df:</span>"
   ]
  },
  {
   "cell_type": "code",
   "execution_count": 14,
   "metadata": {},
   "outputs": [],
   "source": [
    "df_embeddings = pd.read_json(\"data/dataframes/df_with_docvectors.json\", orient='columns', encoding='utf-8')"
   ]
  },
  {
   "cell_type": "code",
   "execution_count": 15,
   "metadata": {},
   "outputs": [
    {
     "data": {
      "text/plain": [
       "Index(['az', 'datum', 'doknr', 'gertyp', 'spruchkoerper', 'doktyp', 'titel',\n",
       "       'tenor', 'gruende', 'clean_gruende', 'clean_tenor', 'clean_titel',\n",
       "       'combined_clean', 'doc_vector'],\n",
       "      dtype='object')"
      ]
     },
     "execution_count": 15,
     "metadata": {},
     "output_type": "execute_result"
    }
   ],
   "source": [
    "df_embeddings.columns"
   ]
  },
  {
   "cell_type": "code",
   "execution_count": 16,
   "metadata": {},
   "outputs": [],
   "source": [
    "# keep only necessary columns of df_embeddings\n",
    "df_embeddings_short = df_embeddings[['az', 'datum', \"doknr\", \"doktyp\", \"titel\", \"tenor\", \"gruende\", \"doc_vector\"]]"
   ]
  },
  {
   "cell_type": "markdown",
   "metadata": {},
   "source": [
    "### NETWORK"
   ]
  },
  {
   "cell_type": "markdown",
   "metadata": {},
   "source": [
    "### graph"
   ]
  },
  {
   "cell_type": "markdown",
   "metadata": {},
   "source": [
    "#### <span style='background:lightgreen'>Load graph / citation network dg from notebook CitationNetwork:</span>"
   ]
  },
  {
   "cell_type": "code",
   "execution_count": 17,
   "metadata": {},
   "outputs": [],
   "source": [
    "dg = nx.read_gpickle(\"graphs/dg.gpickle\")"
   ]
  },
  {
   "cell_type": "code",
   "execution_count": 18,
   "metadata": {},
   "outputs": [
    {
     "data": {
      "text/plain": [
       "13782"
      ]
     },
     "execution_count": 18,
     "metadata": {},
     "output_type": "execute_result"
    }
   ],
   "source": [
    "# show number of edges\n",
    "dg.number_of_edges()"
   ]
  },
  {
   "cell_type": "code",
   "execution_count": 19,
   "metadata": {},
   "outputs": [
    {
     "data": {
      "text/plain": [
       "5826"
      ]
     },
     "execution_count": 19,
     "metadata": {},
     "output_type": "execute_result"
    }
   ],
   "source": [
    "# show number of nodes\n",
    "dg.number_of_nodes()"
   ]
  },
  {
   "cell_type": "code",
   "execution_count": 20,
   "metadata": {},
   "outputs": [
    {
     "data": {
      "text/plain": [
       "True"
      ]
     },
     "execution_count": 20,
     "metadata": {},
     "output_type": "execute_result"
    }
   ],
   "source": [
    "# check if graph is acyclic\n",
    "nx.is_directed_acyclic_graph(dg)"
   ]
  },
  {
   "cell_type": "markdown",
   "metadata": {},
   "source": [
    "### network functions\n",
    "from notebook CitationNetwork"
   ]
  },
  {
   "cell_type": "code",
   "execution_count": 21,
   "metadata": {},
   "outputs": [],
   "source": [
    "# get n keys with maximum values from dictionary\n",
    "def getMaxValues(dictionary: dict, n: int):\n",
    "    top_n = heapq.nlargest(n, dictionary.items(), key=itemgetter(1))\n",
    "    return top_n   "
   ]
  },
  {
   "cell_type": "code",
   "execution_count": 22,
   "metadata": {},
   "outputs": [],
   "source": [
    "# create one level of sub citation net for document of interest from existing full network\n",
    "def createLevel(doi, network):\n",
    "        cites, edges_f = getEdgesForward(doi, network)\n",
    "        cited_by, edges_b = getEdgesBackward(doi, network)\n",
    "        return cites, edges_f, cited_by, edges_b"
   ]
  },
  {
   "cell_type": "code",
   "execution_count": 23,
   "metadata": {},
   "outputs": [],
   "source": [
    "# document of interest cites these documents\n",
    "# returns list of nodes (cites) and list of edges\n",
    "def getEdgesForward(doc_of_interest: str, main_network):\n",
    "    cites = list(main_network.successors(doc_of_interest))\n",
    "    source_nodes = [doc_of_interest]*len(cites)\n",
    "    edges = list(zip(source_nodes,cites))\n",
    "    return cites, edges"
   ]
  },
  {
   "cell_type": "code",
   "execution_count": 24,
   "metadata": {},
   "outputs": [],
   "source": [
    "# document of interest is cited by these documents\n",
    "# returns list of nodes (cited_by) and list of edges\n",
    "def getEdgesBackward(doc_of_interest: str, main_network):\n",
    "    cited_by = list(main_network.predecessors(doc_of_interest))\n",
    "    source_nodes = [doc_of_interest]*len(cited_by)\n",
    "    edges = list(zip(cited_by, source_nodes))\n",
    "    return cited_by, edges"
   ]
  },
  {
   "cell_type": "code",
   "execution_count": 25,
   "metadata": {},
   "outputs": [],
   "source": [
    "\"\"\"\n",
    "create multilevel citation net\n",
    "(3 in each direction -> 6-level)\n",
    "for document of interest doi \n",
    "based on given full network\n",
    "\"\"\"\n",
    "def create3levelNet(doi, orig_digraph):    \n",
    "    collected_edges = []\n",
    "    \n",
    "    cites1, citedby1, cites2, cites2_, citedby2, citedby2_ = [],[],[],[],[],[]\n",
    "    # first level\n",
    "    cites1, edges_forward, citedby1, edges_backward = createLevel(doi, orig_digraph)\n",
    "    collected_edges = collected_edges + edges_forward + edges_backward\n",
    "\n",
    "    # second level\n",
    "    if cites1:\n",
    "        for c in cites1:\n",
    "            cites2, edges_forward, citedby2, edges_backward = createLevel(c, orig_digraph)\n",
    "            collected_edges = collected_edges + edges_forward + edges_backward\n",
    "    if citedby1:\n",
    "        for cb in citedby1:\n",
    "            cites2_, edges_forward, citedby2_, edges_backward = createLevel(cb, orig_digraph)\n",
    "            collected_edges = collected_edges + edges_forward + edges_backward\n",
    "\n",
    "    # third level\n",
    "    if cites2:\n",
    "        for c in cites2:\n",
    "            cites3, edges_forward, citedby3, edges_backward = createLevel(c, orig_digraph)\n",
    "            collected_edges = collected_edges + edges_forward + edges_backward\n",
    "    if citedby2:\n",
    "        for bi in citedby2:\n",
    "            cites3_a, edges_forward, citedby3_a, edges_backward = createLevel(bi, orig_digraph)\n",
    "            collected_edges = collected_edges + edges_forward + edges_backward\n",
    "    if cites2_:\n",
    "        for c in cites2_:\n",
    "            cites3_b, edges_forward, citedby3_b, edges_backward = createLevel(c, orig_digraph)\n",
    "            collected_edges = collected_edges + edges_forward + edges_backward\n",
    "    if citedby2_:\n",
    "        for bi in citedby2_:\n",
    "            cites3_c, edges_forward, citedby3_c, edges_backward = createLevel(bi, orig_digraph)\n",
    "            collected_edges = collected_edges + edges_forward + edges_backward\n",
    "    \n",
    "    multCitNet = nx.DiGraph()\n",
    "    multCitNet.add_edges_from(collected_edges)\n",
    "    \n",
    "    return multCitNet "
   ]
  },
  {
   "cell_type": "code",
   "execution_count": 26,
   "metadata": {},
   "outputs": [],
   "source": [
    "\"\"\"\n",
    "calculate bibliographic coupling score\n",
    "as proposed in Son and Kim 2018\n",
    "for a document d in a given directed graph\n",
    "\"\"\"\n",
    "def calculateBiblioCouplingScore(d, di_graph):\n",
    "    coupled = []\n",
    "    successors = list(di_graph.successors(d))\n",
    "    for successor in successors:\n",
    "        predecessors = list(di_graph.predecessors(successor))\n",
    "        predecessors.remove(d)\n",
    "        coupled += predecessors\n",
    "    return len(coupled)    "
   ]
  },
  {
   "cell_type": "code",
   "execution_count": 27,
   "metadata": {},
   "outputs": [],
   "source": [
    "\"\"\"\n",
    "calculate cocitation score\n",
    "as proposed in Son and Kim 2018\n",
    "for a document d in a graph\n",
    "\"\"\"\n",
    "def calculateCocitationScore(d, di_graph):\n",
    "    cocited = []\n",
    "    predecessors = list(di_graph.predecessors(d))\n",
    "    for predecessor in predecessors:\n",
    "        successors = list(di_graph.successors(predecessor))\n",
    "        successors.remove(d)\n",
    "        cocited += successors\n",
    "    return len(cocited)    "
   ]
  },
  {
   "cell_type": "code",
   "execution_count": 28,
   "metadata": {},
   "outputs": [],
   "source": [
    "\"\"\"\n",
    "calculate (undirected) distance\n",
    "between document of interest\n",
    "and another document d\n",
    "\"\"\"\n",
    "def calculateDistance(doi, d, di_graph):\n",
    "    # convert to undirected\n",
    "    graph = di_graph.to_undirected()\n",
    "    return nx.shortest_path_length(graph, doi, d)"
   ]
  },
  {
   "cell_type": "code",
   "execution_count": 29,
   "metadata": {},
   "outputs": [],
   "source": [
    "\"\"\"\n",
    "calculate C-score\n",
    "as suggested in Son and Kim 2018\n",
    "for a document d in a graph\n",
    "relative to a given document of interest doi\n",
    "\"\"\"\n",
    "def calculateCScore(doi, d, di_graph):\n",
    "    bcs = calculateBiblioCouplingScore(d,di_graph)\n",
    "    ccs = calculateCocitationScore(d,di_graph)\n",
    "    d = calculateDistance(doi, d, di_graph)\n",
    "    return (bcs+ccs)/d"
   ]
  },
  {
   "cell_type": "code",
   "execution_count": 30,
   "metadata": {},
   "outputs": [],
   "source": [
    "# get all C-scores for a given document of interest in a network\n",
    "def getCScoresForNetwork(doi, di_graph) -> dict:\n",
    "    all_nodes = list(di_graph.nodes)\n",
    "    all_nodes.remove(doi)\n",
    "    c_score_dict = dict()\n",
    "    for node in all_nodes:\n",
    "        c = calculateCScore(doi, node, di_graph)\n",
    "        c_score_dict.update({node: c})\n",
    "    return c_score_dict"
   ]
  },
  {
   "cell_type": "code",
   "execution_count": 31,
   "metadata": {},
   "outputs": [],
   "source": [
    "\"\"\"\n",
    "get n candidate documents (with highest C-scores)\n",
    "for a given document of interest in a network\n",
    "\"\"\"\n",
    "def getNCandidateDocuments(n: int, doi, di_graph) -> list:\n",
    "    c_scores = getCScoresForNetwork(doi, di_graph)\n",
    "    return list(dict(getMaxValues(c_scores, n)).keys())"
   ]
  },
  {
   "cell_type": "code",
   "execution_count": 32,
   "metadata": {},
   "outputs": [],
   "source": [
    "\"\"\"\n",
    "calculate the indegree centrality\n",
    "of candidate documents in a network\n",
    "\"\"\"\n",
    "def getIndegree(net: nx.DiGraph, candidates: list) -> dict:\n",
    "    in_degree_dict = dict()\n",
    "    for candidate in candidates:\n",
    "        indegree = net.in_degree(candidate)\n",
    "        in_degree_dict.update({candidate: indegree})\n",
    "    return in_degree_dict "
   ]
  },
  {
   "cell_type": "code",
   "execution_count": 33,
   "metadata": {},
   "outputs": [],
   "source": [
    "\"\"\"\n",
    "calculate the closeness centrality\n",
    "of candidate documents in a network\n",
    "(undirected)\n",
    "\"\"\"\n",
    "def getClosenessCentralityUndirected(net: nx.DiGraph, candidates: list) -> dict:\n",
    "    closeness_dict = dict()\n",
    "    net_ud = net.to_undirected()\n",
    "    for candidate in candidates:\n",
    "        closeness = nx.closeness_centrality(net_ud, candidate)\n",
    "        closeness_dict.update({candidate: closeness})\n",
    "    return closeness_dict"
   ]
  },
  {
   "cell_type": "code",
   "execution_count": 34,
   "metadata": {},
   "outputs": [],
   "source": [
    "\"\"\"\n",
    "calculate the betweenness centrality\n",
    "of candidate documents in a network\n",
    "(undirected)\n",
    "\"\"\"\n",
    "def getBetweennessCentralityUndirected(net: nx.DiGraph, candidates: list) -> dict:\n",
    "    betweenness_dict = nx.betweenness_centrality(net.to_undirected())    \n",
    "    return {k:betweenness_dict[k] for k in candidates if k in betweenness_dict}"
   ]
  },
  {
   "cell_type": "code",
   "execution_count": 35,
   "metadata": {},
   "outputs": [],
   "source": [
    "\"\"\"\n",
    "calculate the Katz centrality\n",
    "(instead of eigenvector centrality as Kim/Son propose)\n",
    "of candidate documents in a network\n",
    "(directed)\n",
    "\"\"\"\n",
    "def getKatzCentralityDirected(net: nx.DiGraph, candidates: list) -> dict:\n",
    "    katz_dict = nx.katz_centrality(net)    \n",
    "    return {k: katz_dict[k] for k in candidates if k in katz_dict}"
   ]
  },
  {
   "cell_type": "code",
   "execution_count": 36,
   "metadata": {},
   "outputs": [],
   "source": [
    "# convert centrality values to ranks\n",
    "def revertToRanks(centrality_dict: dict) -> dict:\n",
    "    sorted_candidates = sorted(centrality_dict.items(), key=itemgetter(1), reverse=True)\n",
    "    rank_dict = dict()\n",
    "   \n",
    "    for i, candidate in enumerate(sorted_candidates):\n",
    "        # if first item in sorted_candidates:\n",
    "        if i == 0:\n",
    "            rank_dict.update({candidate[0]: i})   \n",
    "        elif i != len(sorted_candidates)-1 and i !=0 and sorted_candidates[i][1] == sorted_candidates[i-1][1]:\n",
    "            rank_dict.update({candidate[0]: rank_dict[sorted_candidates[i-1][0]]})\n",
    "        # if last item in list    \n",
    "        elif i == len(sorted_candidates)-1:\n",
    "            if sorted_candidates[i][1] < sorted_candidates[i-1][1]:\n",
    "                rank_dict.update({candidate[0]: rank_dict[sorted_candidates[i-1][0]]+1})\n",
    "            elif sorted_candidates[i][1] == sorted_candidates[i-1][1]:\n",
    "                rank_dict.update({candidate[0]: rank_dict[sorted_candidates[i-1][0]] })\n",
    "        else:\n",
    "            rank_dict.update({candidate[0]: rank_dict[sorted_candidates[i-1][0]]+1})\n",
    "            \n",
    "    return rank_dict"
   ]
  },
  {
   "cell_type": "code",
   "execution_count": 37,
   "metadata": {},
   "outputs": [],
   "source": [
    "# combine the 4 rankings based on the different centrality measures to one ranking\n",
    "def combineRanks(ranks1: dict, ranks2: dict, ranks3: dict, ranks4: dict) -> dict:\n",
    "    avg_rank_dict = dict()\n",
    "    for key in ranks1:\n",
    "        avg_rank = (ranks1[key] + ranks2[key] + ranks3[key] + ranks4[key]) / 4.0\n",
    "        avg_rank_dict.update({key: avg_rank})\n",
    "    return avg_rank_dict"
   ]
  },
  {
   "cell_type": "code",
   "execution_count": 38,
   "metadata": {},
   "outputs": [],
   "source": [
    "# normalize ranks to number between 0 and 1\n",
    "def normalizeRanks(xi: float, mini: float, maxi: float) -> float:\n",
    "    return (xi-mini)/(maxi-mini+5)"
   ]
  },
  {
   "cell_type": "code",
   "execution_count": 39,
   "metadata": {},
   "outputs": [],
   "source": [
    "\"\"\"\n",
    "adapted from function recommendNDecisions in notebook CitationNetwork\n",
    "calculates ranks for every document connected to doi in main_net\n",
    "returns dict with document, combined rank, normalized rank\n",
    "\"\"\"\n",
    "def calcNetworkScores(doi: str, main_net: nx.DiGraph, df) -> dict:\n",
    "    \n",
    "    # generate directional 6-level (3 levels backward, 3 forward) citation network\n",
    "    # from document of interest doi\n",
    "    print(\"creating multilevel directed citation net..\")\n",
    "    mult_level_net = create3levelNet(doi, main_net)\n",
    "    print(\"number of nodes: \" + str(mult_level_net.number_of_nodes()))\n",
    "    print(\"number of edges: \" + str(mult_level_net.number_of_edges()))\n",
    "    \n",
    "    # select candidate documents / get all documents\n",
    "    n_candidates = int(mult_level_net.number_of_nodes())\n",
    "    print(\"selecting \" + str(n_candidates) + \" candidate documents..\")\n",
    "    # get all possible candidates\n",
    "    candidates = getNCandidateDocuments(n_candidates, doi, mult_level_net)\n",
    "    \n",
    "    print(str(len(candidates)) + \" found\")\n",
    "    \n",
    "    # determine recommend documents\n",
    "    print(\"determining recommend documents..\")\n",
    "    # indegree \n",
    "    ic = getIndegree(mult_level_net, candidates)\n",
    "    ic_ranked = revertToRanks(ic)\n",
    "    print(\"document with highest indegree: \" + str(list(ic_ranked.keys())[0]))\n",
    "    # closeness\n",
    "    cc = getClosenessCentralityUndirected(mult_level_net, candidates)\n",
    "    cc_ranked = revertToRanks(cc)\n",
    "    print(\"document with highest closeness centrality: \" + str(list(cc_ranked.keys())[0]))\n",
    "    # betweenness\n",
    "    bc = getBetweennessCentralityUndirected(mult_level_net, candidates)\n",
    "    bc_ranked = revertToRanks(bc)\n",
    "    print(\"document with highest betweenness centrality: \" + str(list(bc_ranked.keys())[0]))\n",
    "    # Katz\n",
    "    kc = getKatzCentralityDirected(mult_level_net, candidates)\n",
    "    kc_ranked = revertToRanks(kc)\n",
    "    print(\"document with highest Katz centrality: \" + str(list(kc_ranked.keys())[0]))\n",
    "    \n",
    "    combined_ranks = combineRanks(ic_ranked, cc_ranked, bc_ranked, kc_ranked)\n",
    "    sorted_combined_ranks = sorted(combined_ranks.items(), key=itemgetter(1))\n",
    "    \n",
    "    # normalize ranks for sorted candidates\n",
    "    dict_norm_ranks = dict()\n",
    "    ranks = [x[1] for x in sorted_combined_ranks]\n",
    "    max_rank = max(ranks)\n",
    "    min_rank = min(ranks)\n",
    "    for i,rank_doc in enumerate(sorted_combined_ranks):\n",
    "        dict_norm_ranks.update({rank_doc[0]:{\"combined_rank\": rank_doc[1], \"normalized_rank\": 1-normalizeRanks(rank_doc[1],min_rank,max_rank)}})\n",
    "    \n",
    "    return dict_norm_ranks"
   ]
  },
  {
   "cell_type": "markdown",
   "metadata": {},
   "source": [
    "### example testing for doi \"KORE634712019\""
   ]
  },
  {
   "cell_type": "code",
   "execution_count": null,
   "metadata": {},
   "outputs": [],
   "source": [
    "#calcNetworkScores(\"KORE634712019\", dg, df_embeddings_short)\n",
    "\n",
    "\"\"\"\n",
    "{'JURE130006300': {'combined_rank': 0.5, 'normalized_rank': 1.0},\n",
    " 'JURE100065079': {'combined_rank': 0.5, 'normalized_rank': 1.0},\n",
    " 'JURE150002589': {'combined_rank': 3.0,\n",
    "  'normalized_rank': 0.9342105263157895},\n",
    " 'JURE130010202': {'combined_rank': 5.75,\n",
    "  'normalized_rank': 0.8618421052631579},\n",
    " 'KORE313582016': {'combined_rank': 6.0,\n",
    "  'normalized_rank': 0.8552631578947368},\n",
    " 'JURE140006565': {'combined_rank': 9.0,\n",
    "  'normalized_rank': 0.7763157894736842},\n",
    " 'JURE110009413': {'combined_rank': 9.0,\n",
    "  'normalized_rank': 0.7763157894736842},\n",
    " 'JURE150008053': {'combined_rank': 9.25,\n",
    "  'normalized_rank': 0.7697368421052632},\n",
    " 'JURE150001651': {'combined_rank': 9.5,\n",
    "  'normalized_rank': 0.7631578947368421},\n",
    " 'KORE304862018': {'combined_rank': 10.0, 'normalized_rank': 0.75},\n",
    " 'JURE150016039': {'combined_rank': 11.0,\n",
    "  'normalized_rank': 0.7236842105263157},\n",
    " 'JURE120021683': {'combined_rank': 12.25,\n",
    "  'normalized_rank': 0.6907894736842105},\n",
    " 'JURE160006718': {'combined_rank': 12.75,\n",
    "  'normalized_rank': 0.6776315789473684},\n",
    "  ....\n",
    "\"\"\""
   ]
  },
  {
   "cell_type": "markdown",
   "metadata": {},
   "source": [
    "explore"
   ]
  },
  {
   "cell_type": "code",
   "execution_count": 42,
   "metadata": {},
   "outputs": [],
   "source": [
    "KORE634712019_net = create3levelNet(\"KORE634712019\", dg)"
   ]
  },
  {
   "cell_type": "code",
   "execution_count": 43,
   "metadata": {},
   "outputs": [
    {
     "data": {},
     "metadata": {},
     "output_type": "display_data"
    },
    {
     "data": {
      "application/vnd.holoviews_exec.v0+json": "",
      "text/html": [
       "<div id='1003'>\n",
       "\n",
       "\n",
       "\n",
       "\n",
       "\n",
       "  <div class=\"bk-root\" id=\"4cc4d1db-7da6-405a-bee5-2674b32f5503\" data-root-id=\"1003\"></div>\n",
       "</div>\n",
       "<script type=\"application/javascript\">(function(root) {\n",
       "  function embed_document(root) {\n",
       "  var docs_json = {\"32669837-3591-4741-993d-155646f7895d\":{\"roots\":{\"references\":[{\"attributes\":{},\"id\":\"1094\",\"type\":\"NodesAndLinkedEdges\"},{\"attributes\":{},\"id\":\"1016\",\"type\":\"LinearScale\"},{\"attributes\":{\"high\":189,\"low\":2,\"palette\":[\"#f7fbff\",\"#f6fafe\",\"#f5f9fe\",\"#f4f9fe\",\"#f3f8fd\",\"#f3f8fd\",\"#f2f7fd\",\"#f1f7fd\",\"#f0f6fc\",\"#eff6fc\",\"#eff5fc\",\"#eef5fc\",\"#edf4fb\",\"#ecf4fb\",\"#ecf3fb\",\"#ebf3fb\",\"#eaf2fa\",\"#e9f2fa\",\"#e8f1fa\",\"#e8f1fa\",\"#e7f0f9\",\"#e6f0f9\",\"#e5eff9\",\"#e4eff9\",\"#e4eef8\",\"#e3eef8\",\"#e2edf8\",\"#e1edf8\",\"#e1ecf7\",\"#e0ecf7\",\"#dfebf7\",\"#deebf7\",\"#ddeaf6\",\"#ddeaf6\",\"#dce9f6\",\"#dbe9f6\",\"#dae8f5\",\"#dae8f5\",\"#d9e7f5\",\"#d8e7f5\",\"#d7e6f4\",\"#d7e6f4\",\"#d6e5f4\",\"#d5e5f4\",\"#d4e4f3\",\"#d4e4f3\",\"#d3e3f3\",\"#d2e3f3\",\"#d1e2f2\",\"#d1e2f2\",\"#d0e1f2\",\"#cfe1f2\",\"#cee0f1\",\"#cee0f1\",\"#cddff1\",\"#ccdff1\",\"#cbdef0\",\"#cbdef0\",\"#caddf0\",\"#c9ddf0\",\"#c8dcef\",\"#c8dcef\",\"#c7dbef\",\"#c6dbef\",\"#c5daee\",\"#c4daee\",\"#c3d9ee\",\"#c1d9ed\",\"#c0d8ed\",\"#bfd8ec\",\"#bed7ec\",\"#bcd7eb\",\"#bbd6eb\",\"#bad6ea\",\"#b9d5ea\",\"#b7d4ea\",\"#b6d4e9\",\"#b5d3e9\",\"#b4d3e8\",\"#b2d2e8\",\"#b1d2e7\",\"#b0d1e7\",\"#afd1e6\",\"#add0e6\",\"#acd0e6\",\"#abcfe5\",\"#aacfe5\",\"#a8cee4\",\"#a7cee4\",\"#a6cde3\",\"#a5cde3\",\"#a3cce3\",\"#a2cbe2\",\"#a1cbe2\",\"#a0cae1\",\"#9ecae1\",\"#9dc9e0\",\"#9bc8e0\",\"#9ac7e0\",\"#98c7df\",\"#97c6df\",\"#95c5df\",\"#93c4de\",\"#92c3de\",\"#90c2de\",\"#8fc1dd\",\"#8dc0dd\",\"#8bc0dd\",\"#8abfdc\",\"#88bedc\",\"#87bddc\",\"#85bcdb\",\"#83bbdb\",\"#82badb\",\"#80b9da\",\"#7fb8da\",\"#7db8d9\",\"#7bb7d9\",\"#7ab6d9\",\"#78b5d8\",\"#77b4d8\",\"#75b3d8\",\"#73b2d7\",\"#72b1d7\",\"#70b1d7\",\"#6fb0d6\",\"#6dafd6\",\"#6baed6\",\"#6aadd5\",\"#69acd5\",\"#67abd4\",\"#66aad4\",\"#65aad3\",\"#63a9d3\",\"#62a8d2\",\"#61a7d2\",\"#60a6d1\",\"#5ea5d1\",\"#5da4d0\",\"#5ca3d0\",\"#5aa3cf\",\"#59a2cf\",\"#58a1ce\",\"#57a0ce\",\"#559fcd\",\"#549ecd\",\"#539dcc\",\"#519ccc\",\"#509bcb\",\"#4f9bcb\",\"#4e9aca\",\"#4c99ca\",\"#4b98c9\",\"#4a97c9\",\"#4896c8\",\"#4795c8\",\"#4694c7\",\"#4594c7\",\"#4393c6\",\"#4292c6\",\"#4191c5\",\"#4090c5\",\"#3f8fc4\",\"#3e8ec4\",\"#3d8dc3\",\"#3c8cc3\",\"#3b8bc2\",\"#3a8ac1\",\"#3989c1\",\"#3888c0\",\"#3787c0\",\"#3585bf\",\"#3484bf\",\"#3383be\",\"#3282be\",\"#3181bd\",\"#3080bd\",\"#2f7fbc\",\"#2e7ebc\",\"#2d7dbb\",\"#2c7cbb\",\"#2b7bba\",\"#2a7ab9\",\"#2979b9\",\"#2878b8\",\"#2777b8\",\"#2676b7\",\"#2575b7\",\"#2474b6\",\"#2373b6\",\"#2272b5\",\"#2171b5\",\"#2070b4\",\"#1f6fb3\",\"#1e6eb2\",\"#1e6db2\",\"#1d6cb1\",\"#1c6bb0\",\"#1b6aaf\",\"#1a69ae\",\"#1a68ae\",\"#1967ad\",\"#1866ac\",\"#1765ab\",\"#1764ab\",\"#1663aa\",\"#1562a9\",\"#1461a8\",\"#1360a7\",\"#135fa7\",\"#125ea6\",\"#115da5\",\"#105ca4\",\"#0f5ba3\",\"#0f5aa3\",\"#0e59a2\",\"#0d58a1\",\"#0c57a0\",\"#0c56a0\",\"#0b559f\",\"#0a549e\",\"#09539d\",\"#08529c\",\"#08519c\",\"#08509a\",\"#084f99\",\"#084e97\",\"#084c96\",\"#084b94\",\"#084a92\",\"#084991\",\"#08488f\",\"#08478e\",\"#08468c\",\"#08458b\",\"#084489\",\"#084388\",\"#084286\",\"#084185\",\"#084083\",\"#083f82\",\"#083e80\",\"#083d7e\",\"#083c7d\",\"#083b7b\",\"#083a7a\",\"#083978\",\"#083877\",\"#083775\",\"#083674\",\"#083572\",\"#083471\",\"#08336f\",\"#08326e\",\"#08316c\",\"#08306b\"]},\"id\":\"1072\",\"type\":\"LinearColorMapper\"},{\"attributes\":{\"end\":1.1305752327619514,\"reset_end\":1.1305752327619514,\"reset_start\":-1.080360266234221,\"start\":-1.080360266234221,\"tags\":[[[\"x\",\"x\",null]]]},\"id\":\"1005\",\"type\":\"Range1d\"},{\"attributes\":{\"bottom_units\":\"screen\",\"fill_alpha\":0.5,\"fill_color\":\"lightgrey\",\"left_units\":\"screen\",\"level\":\"overlay\",\"line_alpha\":1.0,\"line_color\":\"black\",\"line_dash\":[4,4],\"line_width\":2,\"right_units\":\"screen\",\"top_units\":\"screen\"},\"id\":\"1032\",\"type\":\"BoxAnnotation\"},{\"attributes\":{\"fill_alpha\":{\"value\":0},\"fill_color\":{\"value\":\"limegreen\"},\"line_alpha\":{\"value\":0},\"size\":{\"field\":\"node_size\",\"units\":\"screen\"}},\"id\":\"1077\",\"type\":\"Circle\"},{\"attributes\":{},\"id\":\"1105\",\"type\":\"Selection\"},{\"attributes\":{\"graph_layout\":{\"0\":[0.10184584612739774,0.048684375716690605],\"1\":[0.3797008095424933,0.47783855544530257],\"10\":[-0.0515396318485651,0.15147175468374113],\"100\":[-0.2435133545353976,0.2578214332071906],\"101\":[-0.1985289484905143,0.27685009633232444],\"102\":[-0.6936604038533681,-0.1819167536633615],\"103\":[0.8913220247549635,-0.2670353545121431],\"104\":[0.017258942709414884,-0.9999999999999999],\"105\":[-0.8514168951522113,-0.19103286267212935],\"106\":[-0.11738828876700545,-0.17838686858600034],\"107\":[0.0023260329948206334,-0.19358442635916662],\"108\":[-0.10632031249582839,-0.27860854462065915],\"109\":[-0.0628268771057253,-0.17592845293269918],\"11\":[0.8265982361214324,-0.3026779158580079],\"110\":[-0.06876423582944281,-0.2982426626362633],\"111\":[-0.045119657776119475,-0.24414839710406946],\"112\":[0.0017273227337974172,-0.2156796212486586],\"113\":[-0.02903648460259178,-0.26234618963106504],\"114\":[-0.05469348735584392,-0.27603547572481385],\"115\":[-0.08260853081211388,-0.1511117199040268],\"116\":[-0.0781123644645631,-0.268676158180796],\"117\":[-0.04578263776797662,-0.297421092476674],\"118\":[-0.012950646981803647,-0.2364517342570967],\"119\":[-0.12437587886742166,-0.203141246079057],\"12\":[0.1987387501443127,0.4922218369866775],\"120\":[-0.05592643107432267,-0.14943190235072834],\"121\":[-0.026623080342055325,-0.28531710779334524],\"122\":[-0.12035305626304424,-0.25448560772670864],\"123\":[-0.12686738357689634,-0.2305304216556179],\"124\":[-0.08964412513282852,-0.2922382034867347],\"125\":[-0.09802360393150002,-0.1679290965226476],\"126\":[0.006791847964955487,-0.24369781792115086],\"127\":[-0.0967295312443503,-0.2516360421242719],\"128\":[-0.03323239181590867,-0.16097469376390114],\"13\":[0.48638439533893835,0.4879800745452612],\"14\":[0.5123353791479084,0.42035515113338134],\"15\":[-0.832594579981486,-0.14798516893147862],\"16\":[0.20787179082053953,0.7875178932008944],\"17\":[0.9241031031314045,0.13379166655995678],\"18\":[-0.32794221324172773,0.7666636472118012],\"19\":[0.86001402664003,0.2692948339504678],\"2\":[0.17652577681598913,0.24913651137793905],\"20\":[0.37186414932787015,0.4494454277649655],\"21\":[0.2899589210140037,0.49824487996014355],\"22\":[0.27719820128549405,0.3610752385935571],\"23\":[0.34047895776744264,0.4112815688256928],\"24\":[0.34715379586092754,0.48207387909511357],\"25\":[0.21155415758816123,-0.9769006896835591],\"26\":[-0.5492923902080129,0.5141461569833493],\"27\":[0.6301739973788015,0.6570656096377423],\"28\":[0.41343087199988077,-0.9033478767432505],\"29\":[-0.38554387460076633,0.6526914931328242],\"3\":[0.18479513401532588,0.10758457139034965],\"30\":[-0.6454309514615015,-0.7029805256999528],\"31\":[0.43725602904686645,0.38370951790925395],\"32\":[-0.8060689964707901,0.4018275623589498],\"33\":[0.08338344469038239,0.37558392912548],\"34\":[-0.16549604594382641,0.3246441701508664],\"35\":[0.2859675405770576,0.4263048934206272],\"36\":[0.11699049706388305,0.004432906206071567],\"37\":[-0.8673765549798342,-0.3555840312751547],\"38\":[0.6573608214285869,0.09319501861585737],\"39\":[0.6766011989300178,0.4413704995969018],\"4\":[0.06184433512534412,0.0008383418712342521],\"40\":[0.8019381848459046,0.48231221204139557],\"41\":[-0.695842826313336,0.5004268574899426],\"42\":[-0.5483442800992723,0.6351039674337644],\"43\":[0.18297464573765987,0.4465860490425941],\"44\":[0.194602358253572,0.5447497411684056],\"45\":[0.1603902192649518,0.44353679760592635],\"46\":[0.15781109270738283,0.7538722761978891],\"47\":[0.43113064463491474,0.400983596823106],\"48\":[-0.3643699568713295,-0.20570579809276515],\"49\":[0.06446475998983764,-0.27407079810007245],\"5\":[0.38638056995813336,0.38454629553328235],\"50\":[-0.27543395632885026,-0.3244728925602736],\"51\":[-0.32871783661110676,0.2726005989780421],\"52\":[-0.3845238128283886,-0.12564535652565917],\"53\":[-0.8552788015112677,-0.20166066543948521],\"54\":[0.24998050334094452,-0.0317342712409723],\"55\":[-0.09984307487290058,-0.2159507644538552],\"56\":[-0.19836334725610275,0.23301328226835855],\"57\":[-0.767805841351112,-0.17004546211866844],\"58\":[-0.06442006707695212,-0.21545298322082693],\"59\":[-0.007019636085716797,-0.2683093202495011],\"6\":[-0.19578101800039585,0.44514696106184704],\"60\":[-0.42425842919715995,-0.20645553394246735],\"61\":[-0.21636618088192955,-0.20684355149378691],\"62\":[-0.3907200735632449,-0.25345614421988855],\"63\":[-0.21626695767686288,-0.22521171906374632],\"64\":[-0.2216381852409609,-0.2159839376647234],\"65\":[-0.4216283887385485,-0.22786296545548793],\"66\":[-0.41302366254657885,-0.18582216994927356],\"67\":[-0.4116305455397264,-0.2472791119289882],\"68\":[-0.4776292619550467,-0.9326326707844231],\"69\":[0.8424480656411213,-0.4762451243484613],\"7\":[0.41494347958133976,0.48790756902116533],\"70\":[-0.8070843637050535,-0.1873753242828013],\"71\":[0.7981686110843467,0.12636681432996272],\"72\":[0.9463306078456036,-0.051886469747750893],\"73\":[0.11696342619386702,-0.31942567268547734],\"74\":[0.09725331255315327,-0.33371097413964473],\"75\":[0.12524519787104343,-0.2963397648378794],\"76\":[-0.7247502955107946,-0.4252058134813567],\"77\":[-0.013982658623000901,-0.17354043546096504],\"78\":[-0.8961156413178735,0.04038742709921147],\"79\":[0.6454844004270404,-0.7048876560280044],\"8\":[0.07428750135667476,-0.006883563550458674],\"80\":[-0.7282902627780655,0.27082436169947555],\"81\":[0.05258236802288673,0.7089607256203556],\"82\":[-0.12099126889899586,0.8028354486144583],\"83\":[-0.025509882039292994,-0.19943320343337848],\"84\":[-0.7798726312514342,0.13340362219036317],\"85\":[-0.22827030488839228,-0.1729726043449535],\"86\":[-0.22794132209797666,-0.16222941850150915],\"87\":[0.8605685830624666,-0.005234807993509581],\"88\":[0.8312062852619643,-0.1680251136319293],\"89\":[0.7238974935946999,0.2699906535902218],\"9\":[-0.3348396426255377,-0.934929817563367],\"90\":[0.2976424363118527,-0.011674041033065427],\"91\":[0.2937488039850507,-0.062209183673702075],\"92\":[0.30486278764432134,-0.038486611800916906],\"93\":[-0.16709200245207673,0.7249061642500647],\"94\":[-0.47291366302800053,-0.7739761123697155],\"95\":[0.7441993096261207,-0.774199911529052],\"96\":[-0.14519394319816922,-0.27794390196857394],\"97\":[0.4348971349341116,0.6152641481105725],\"98\":[-0.24130136547498424,0.22858551399662852],\"99\":[-0.22711988640762526,0.2794217258788883]}},\"id\":\"1047\",\"type\":\"StaticLayoutProvider\"},{\"attributes\":{},\"id\":\"1043\",\"type\":\"BasicTickFormatter\"},{\"attributes\":{\"fill_alpha\":{\"value\":0.2},\"fill_color\":{\"value\":\"#30a2da\"},\"line_alpha\":{\"value\":0.2},\"size\":{\"field\":\"node_size\",\"units\":\"screen\"}},\"id\":\"1049\",\"type\":\"Circle\"},{\"attributes\":{\"axis_label\":\"x\",\"bounds\":\"auto\",\"formatter\":{\"id\":\"1041\"},\"major_label_orientation\":\"horizontal\",\"ticker\":{\"id\":\"1019\"},\"visible\":false},\"id\":\"1018\",\"type\":\"LinearAxis\"},{\"attributes\":{\"overlay\":{\"id\":\"1032\"}},\"id\":\"1029\",\"type\":\"BoxZoomTool\"},{\"attributes\":{},\"id\":\"1096\",\"type\":\"NodesAndLinkedEdges\"},{\"attributes\":{\"data\":{\"index\":{\"__ndarray__\":\"AAAAAAEAAAACAAAAAwAAAAQAAAAFAAAABgAAAAcAAAAIAAAACQAAAAoAAAALAAAADAAAAA0AAAAOAAAADwAAABAAAAARAAAAEgAAABMAAAAUAAAAFQAAABYAAAAXAAAAGAAAABkAAAAaAAAAGwAAABwAAAAdAAAAHgAAAB8AAAAgAAAAIQAAACIAAAAjAAAAJAAAACUAAAAmAAAAJwAAACgAAAApAAAAKgAAACsAAAAsAAAALQAAAC4AAAAvAAAAMAAAADEAAAAyAAAAMwAAADQAAAA1AAAANgAAADcAAAA4AAAAOQAAADoAAAA7AAAAPAAAAD0AAAA+AAAAPwAAAEAAAABBAAAAQgAAAEMAAABEAAAARQAAAEYAAABHAAAASAAAAEkAAABKAAAASwAAAEwAAABNAAAATgAAAE8AAABQAAAAUQAAAFIAAABTAAAAVAAAAFUAAABWAAAAVwAAAFgAAABZAAAAWgAAAFsAAABcAAAAXQAAAF4AAABfAAAAYAAAAGEAAABiAAAAYwAAAGQAAABlAAAAZgAAAGcAAABoAAAAaQAAAGoAAABrAAAAbAAAAG0AAABuAAAAbwAAAHAAAABxAAAAcgAAAHMAAAB0AAAAdQAAAHYAAAB3AAAAeAAAAHkAAAB6AAAAewAAAHwAAAB9AAAAfgAAAH8AAACAAAAA\",\"dtype\":\"int32\",\"order\":\"little\",\"shape\":[129]},\"index_hover\":[\"KORE634712019\",\"JURE130010202\",\"KORE629092018\",\"KORE627792018\",\"KORE304862018\",\"KORE600102017\",\"JURE160006718\",\"JURE150016039\",\"KORE618122018\",\"JURE160020031\",\"KORE605192019\",\"JURE130000272\",\"KORE313582016\",\"JURE140006565\",\"KORE619142018\",\"JURE100065079\",\"JURE110022654\",\"JURE100072754\",\"JURE100060283\",\"JURE120016745\",\"JURE150000856\",\"JURE160014329\",\"KORE631092019\",\"KORE632702018\",\"JURE140006411\",\"JURE110023129\",\"JURE140004372\",\"JURE150003506\",\"JURE100069592\",\"KORE616652017\",\"JURE150009987\",\"JURE160012961\",\"JURE130014112\",\"KORE300462020\",\"KORE617182017\",\"KORE606252018\",\"KORE600092019\",\"KORE605182019\",\"JURE160015182\",\"JURE120010382\",\"JURE100061267\",\"JURE140004992\",\"JURE150002267\",\"KORE605662019\",\"KORE627552019\",\"KORE623942017\",\"JURE120006796\",\"JURE160012017\",\"JURE150002589\",\"JURE150001651\",\"KORE620182019\",\"KORE632042018\",\"JURE160006724\",\"KORE304162015\",\"JURE150008053\",\"KORE618052018\",\"JURE110009413\",\"JURE110015459\",\"JURE130006300\",\"JURE140011854\",\"JURE160007107\",\"KORE603292019\",\"KORE604472017\",\"JURE150016096\",\"KORE610002017\",\"KORE619912017\",\"KORE623622017\",\"KORE624692018\",\"JURE130018645\",\"JURE110004973\",\"JURE120009795\",\"JURE120021683\",\"JURE120021677\",\"JURE150012729\",\"JURE160003481\",\"KORE613462017\",\"KORE611872017\",\"JURE140012946\",\"JURE150002031\",\"JURE130005211\",\"JURE150003820\",\"JURE160006793\",\"JURE110021281\",\"JURE140010363\",\"JURE110019947\",\"KORE313142017\",\"KORE628912018\",\"JURE140010062\",\"JURE140006968\",\"JURE130014087\",\"JURE150009589\",\"JURE160003856\",\"JURE150013401\",\"JURE130015896\",\"JURE120006798\",\"JURE130016206\",\"KORE605362018\",\"JURE110000478\",\"JURE120023310\",\"KORE308972016\",\"KORE313102015\",\"KORE617612019\",\"JURE130014728\",\"JURE120001611\",\"JURE120004578\",\"JURE120010972\",\"JURE140007674\",\"JURE150008554\",\"KORE613902017\",\"JURE160020990\",\"KORE623112018\",\"JURE130021144\",\"JURE150005608\",\"KORE622292018\",\"KORE622422018\",\"KORE622602019\",\"KORE622862017\",\"JURE150000246\",\"JURE150002274\",\"KORE603062020\",\"KORE606322018\",\"KORE617162018\",\"KORE631122019\",\"JURE130018659\",\"KORE616592020\",\"KORE623032017\",\"KORE629562019\",\"KORE616792017\",\"KORE621962018\"],\"node_size\":{\"__ndarray__\":\"qkxY6Hq2+z+o9Jebd+MBQOr40ql/KgVAAAAAAAAACEA0b/2TcogKQPNZYUQr2AxA2k5Psd77DkAH7a9mD34QQPlNZDSDbxFAhR4VuY5UEkAWBHd17i4TQAAAAAAAABRAgDlCLtzIFEDz2aikaIoVQMPBaAVkRRZA8NBioW76FkAtwpPREKoXQDncY7O/VBhAitNaweD6GEAA/5+ZzJwZQGChHSrROhpA/O5jaTPVGkDmkzW4MGwbQAAAAAAAABxAzkMtndKQHEDp+3Yg1R4dQNjhqu8vqh1AXM9WzAczHkDbnltFfrkeQGh0TheyPR9AX3W8fr+/H0DQumE/4B8gQIvU+o7mXiBACdCOzf2cIEAG+5VNMNogQKMUrqiHFiFA6y830QxSIUDj09YhyIwhQHC4LWvBxiFAAAAAAAAAIkAonAXAijgiQJoukCFocCJA5tIsOp6nIkBBh2LGMt4iQKspqTArFCNAQAWxl4xJI0ChlQ/UW34jQGJWY32dsiNAZxP+7lXmI0DwKSNMiRkkQFNx5YM7TCRAiQmvVHB+JECICnxPK7AkQDf5z9pv4SRA4PZsNUESJUA20NJ4okIlQNhci5uWciVAdwNJcyCiJUDFrdu2QtElQAAAAAAAACZAvj4MzVouJkDS8X2CVVwmQNABa2zyiSZASMbYvzO3JkB1O/ubG+QmQDJeXgusECdAI3v7BOc8J0DgETxtzmgnQGzF6xZklCdAQLAaxKm/J0CEUvEmoeonQCY1d+JLFShAFUNNi6s/KEBGw1yowWkoQMHJe7OPkyhAiuMHGhe9KEC4sHc9WeYoQOQQ5HNXDylAxXiJCBM4KUBL+0E8jWApQJKF+EXHiClAzsIVU8KwKUAiFOeHf9gpQAAAAAAAACpA9XSWzkQnKkDeNNr+Tk4qQCS3R5QfdSpAvMr2irebKkBmO+XXF8IqQLS4PWlB6CpA9TibJjUOK0DvDUnx8zMrQKPdf6R+WStAyK2fFdZ+K0B8LWcU+6MrQLllKGvuyCtAYfb63rDtK0ApA+wvQxIsQGjxKxmmNixAkxU6UdpaLEBMbQ6K4H4sQPeAQXG5oixAIoYysGXGLECA2ivs5eksQKTthcY6DS1AZ67I3GQwLUCGj8vIZFMtQO811CA7di1AB+Kzd+iYLUAvpONcbbstQOhrn1zK3S1AAAAAAAAALkBg7RPNDiIuQFt590b3Qy5AjqPr7bllLkDFQmw/V4cuQKtHRbbPqC5Acy+nyiPKLkAosDryU+suQLOnM6BgDC9AQFZjRUotL0Am7ElQEU4vQA1zJy22bi9AqBkMRjmPL0Dy6OcCm68vQH3pmcnbzy9AH7/+/fvvL0BwYP8A/gcwQGPJzRruFzBA\",\"dtype\":\"float64\",\"order\":\"little\",\"shape\":[129]}},\"selected\":{\"id\":\"1111\"},\"selection_policy\":{\"id\":\"1110\"}},\"id\":\"1071\",\"type\":\"ColumnDataSource\"},{\"attributes\":{\"data\":{\"end\":{\"__ndarray__\":\"AQAAAAIAAAADAAAABAAAAAUAAAAGAAAABwAAAAgAAAAJAAAACgAAAAsAAAAMAAAADQAAAA4AAAAPAAAAEAAAABEAAAASAAAAEwAAAAQAAAAVAAAAAQAAABkAAAAaAAAAGwAAAA4AAAAVAAAAHAAAAB0AAAAPAAAAEQAAABUAAAAbAAAAHgAAABQAAAAfAAAABwAAACAAAAAHAAAAAQAAAAUAAAAGAAAABwAAAB8AAAAJAAAAAwAAAAUAAAAGAAAABwAAAAgAAAAlAAAAHwAAAAEAAAAnAAAAKAAAACkAAAANAAAAGwAAABMAAAAqAAAAAQAAABMAAAAuAAAAAQAAAAwAAAANAAAAGwAAABMAAAABAAAAAQAAAAwAAAABAAAAAgAAAAEAAAABAAAADQAAAAYAAAAHAAAACgAAAAYAAAAHAAAADAAAAAgAAAALAAAADQAAAAwAAAAMAAAADAAAAA0AAAAPAAAAOgAAADsAAAAPAAAARAAAAEUAAABGAAAARwAAAEgAAAAPAAAAMAAAAEwAAABNAAAATgAAAE8AAAAPAAAAUAAAADoAAABRAAAAUgAAAA8AAABTAAAAOgAAAFQAAAA7AAAADwAAAA8AAABXAAAAWAAAAFkAAABHAAAAOgAAAA8AAABdAAAAXgAAAF8AAAAPAAAAYQAAAA8AAAAPAAAAZwAAAGgAAABpAAAARwAAAFQAAAA6AAAAMAAAADAAAAA6AAAAMAAAADAAAAA6AAAAMAAAADoAAAAwAAAAMAAAADAAAAA5AAAAMQAAADEAAAAxAAAAOgAAADoAAAA0AAAAOgAAADQAAAA6AAAANgAAADYAAAA2AAAANwAAADgAAAA4AAAAOAAAADgAAAA5AAAAOgAAADoAAAA6AAAAOgAAADoAAAA6AAAAOgAAADoAAAA6AAAAOgAAADoAAAA6AAAAOgAAADoAAAA6AAAAOgAAADoAAAA6AAAAOgAAADoAAAA6AAAAOgAAADoAAAA=\",\"dtype\":\"int32\",\"order\":\"little\",\"shape\":[188]},\"start\":{\"__ndarray__\":\"AAAAAAAAAAAAAAAAAAAAAAAAAAAAAAAAAAAAAAAAAAAAAAAAAAAAAAAAAAAAAAAAAAAAAAAAAAAAAAAAAQAAAAEAAAABAAAAAQAAAAIAAAACAAAAAwAAAAMAAAADAAAAAwAAAAMAAAADAAAABAAAAAQAAAAEAAAABAAAAAQAAAAEAAAABAAAAAQAAAAFAAAABQAAAAYAAAAGAAAABwAAAAgAAAAIAAAACAAAAAgAAAAIAAAACgAAAAoAAAAKAAAACgAAAAoAAAAKAAAACgAAAAwAAAAMAAAADAAAAAwAAAAMAAAADAAAAAwAAAAMAAAADQAAAA0AAAANAAAADgAAAA4AAAAOAAAADgAAAA4AAAAUAAAAFQAAABUAAAAWAAAAFgAAABcAAAAYAAAAHwAAACEAAAAhAAAAIQAAACIAAAAjAAAAIwAAACQAAAAmAAAAJgAAACsAAAAsAAAALQAAAC8AAAAwAAAAMAAAADAAAAAxAAAAMQAAADEAAAAxAAAAMQAAADEAAAAyAAAAMgAAADIAAAAyAAAAMgAAADIAAAAzAAAAMwAAADMAAAAzAAAAMwAAADQAAAA0AAAANAAAADQAAAA0AAAANQAAADYAAAA2AAAANgAAADYAAAA2AAAANgAAADcAAAA3AAAANwAAADcAAAA4AAAAOAAAADkAAAA6AAAAOgAAADoAAAA6AAAAOgAAADoAAAA7AAAAPAAAAD0AAAA9AAAAPgAAAD8AAAA/AAAAQAAAAEAAAABBAAAAQgAAAEMAAABGAAAASQAAAEoAAABLAAAATQAAAFMAAABVAAAAVQAAAFYAAABWAAAAWgAAAFsAAABcAAAAYAAAAGIAAABjAAAAZAAAAGUAAABmAAAAagAAAGsAAABsAAAAbQAAAG4AAABvAAAAcAAAAHEAAAByAAAAcwAAAHQAAAB1AAAAdgAAAHcAAAB4AAAAeQAAAHoAAAB7AAAAfAAAAH0AAAB+AAAAfwAAAIAAAAA=\",\"dtype\":\"int32\",\"order\":\"little\",\"shape\":[188]},\"xs\":[{\"__ndarray__\":\"VcJZwpESuj+i+8+fBE3YPwAAAAAAAPh/CTYEkwmO1z+i+8+fBE3YP4BsgQCx59Q/\",\"dtype\":\"float64\",\"order\":\"little\",\"shape\":[6]},{\"__ndarray__\":\"VcJZwpESuj+ArymLZZjGPwAAAAAAAPh/3gpUaI3kxj+ArymLZZjGPwTTpc4F+sA/\",\"dtype\":\"float64\",\"order\":\"little\",\"shape\":[6]},{\"__ndarray__\":\"VcJZwpESuj80I4fwXafHPwAAAAAAAPh/K3/WwYNEwz80I4fwXafHP3xeEXWQOb8/\",\"dtype\":\"float64\",\"order\":\"little\",\"shape\":[6]},{\"__ndarray__\":\"VcJZwpESuj97yJyJD6qvPwAAAAAAAPh/HUkF2szDtD97yJyJD6qvP8HQ8tW4c74/\",\"dtype\":\"float64\",\"order\":\"little\",\"shape\":[6]},{\"__ndarray__\":\"VcJZwpESuj/l6/GRdbrYPwAAAAAAAPh/pm4EXTV41z/l6/GRdbrYP52HnlieD9U/\",\"dtype\":\"float64\",\"order\":\"little\",\"shape\":[6]},{\"__ndarray__\":\"VcJZwpESuj/5oL42Wg/JvwAAAAAAAPh/SMd9Ds71wb/5oL42Wg/JvzM/dWRYAse/\",\"dtype\":\"float64\",\"order\":\"little\",\"shape\":[6]},{\"__ndarray__\":\"VcJZwpESuj8LYZ8Yb47aPwAAAAAAAPh/w7nL1zmh2T8LYZ8Yb47aP6PZCaowD9c/\",\"dtype\":\"float64\",\"order\":\"little\",\"shape\":[6]},{\"__ndarray__\":\"VcJZwpESuj/bFtR0gQSzPwAAAAAAAPh/xV/kozAitD/bFtR0gQSzPxgw0OEQcr8/\",\"dtype\":\"float64\",\"order\":\"little\",\"shape\":[6]},{\"__ndarray__\":\"VcJZwpESuj/nyJ5AA27VvwAAAAAAAPh/LcZ35X1T1b/nyJ5AA27VvzClSbrlcNK/\",\"dtype\":\"float64\",\"order\":\"little\",\"shape\":[6]},{\"__ndarray__\":\"VcJZwpESuj9LlXkSZ2OqvwAAAAAAAPh/TCtfcXLbhz9LlXkSZ2Oqv7jU4cAfMJC/\",\"dtype\":\"float64\",\"order\":\"little\",\"shape\":[6]},{\"__ndarray__\":\"VcJZwpESuj+wVOIkfnPqPwAAAAAAAPh/LOxXbHpk6D+wVOIkfnPqP81PIGW+FOk/\",\"dtype\":\"float64\",\"order\":\"little\",\"shape\":[6]},{\"__ndarray__\":\"VcJZwpESuj+mqyh4RXDJPwAAAAAAAPh/EHeZamPlyj+mqyh4RXDJPwHotBNnusQ/\",\"dtype\":\"float64\",\"order\":\"little\",\"shape\":[6]},{\"__ndarray__\":\"VcJZwpESuj+L/dAD7CDfPwAAAAAAAPh/fe1rAHPO3T+L/dAD7CDfP/jpwrRjbts/\",\"dtype\":\"float64\",\"order\":\"little\",\"shape\":[6]},{\"__ndarray__\":\"VcJZwpESuj/UxEAqDWXgPwAAAAAAAPh/UzJmrzAG3z/UxEAqDWXgP4ZQEdvL59w/\",\"dtype\":\"float64\",\"order\":\"little\",\"shape\":[6]},{\"__ndarray__\":\"VcJZwpESuj9mHXtjnaTqvwAAAAAAAPh/7lljCPHw6L9mHXtjnaTqv6EmcFe5nei/\",\"dtype\":\"float64\",\"order\":\"little\",\"shape\":[6]},{\"__ndarray__\":\"ovvPnwRN2D/c5qr3ipvKPwAAAAAAAPh/5OpNWV2I0D/c5qr3ipvKP2/2PsV6i8s/\",\"dtype\":\"float64\",\"order\":\"little\",\"shape\":[6]},{\"__ndarray__\":\"ovvPnwRN2D+hm8KrQJLtPwAAAAAAAPh/H/DB0gSK6z+hm8KrQJLtP6SH9LHgYew/\",\"dtype\":\"float64\",\"order\":\"little\",\"shape\":[6]},{\"__ndarray__\":\"ovvPnwRN2D8TeDZWAf3UvwAAAAAAAPh/lA0ztSvd0L8TeDZWAf3Uv86PmLOLDtK/\",\"dtype\":\"float64\",\"order\":\"little\",\"shape\":[6]},{\"__ndarray__\":\"ovvPnwRN2D9+pdAiPIXrPwAAAAAAAPh/bvmT22J16T9+pdAiPIXrP4MnO4hOFuo/\",\"dtype\":\"float64\",\"order\":\"little\",\"shape\":[6]},{\"__ndarray__\":\"gK8pi2WYxj97yJyJD6qvPwAAAAAAAPh/u4/dNNh9sD97yJyJD6qvP7CMRIpn9Ls/\",\"dtype\":\"float64\",\"order\":\"little\",\"shape\":[6]},{\"__ndarray__\":\"gK8pi2WYxj/pEbzcr47SPwAAAAAAAPh/ocXDUClq0j/pEbzcr47SPwOTNstqFc8/\",\"dtype\":\"float64\",\"order\":\"little\",\"shape\":[6]},{\"__ndarray__\":\"NCOH8F2nxz+i+8+fBE3YPwAAAAAAAPh/97Ys2ivs1z+i+8+fBE3YP8oGzisWIdU/\",\"dtype\":\"float64\",\"order\":\"little\",\"shape\":[6]},{\"__ndarray__\":\"NCOH8F2nxz8RRRbmNBTLPwAAAAAAAPh/dhcyije8xz8RRRbmNBTLPxnQq8jyC84/\",\"dtype\":\"float64\",\"order\":\"little\",\"shape\":[6]},{\"__ndarray__\":\"NCOH8F2nxz+gUnyizZPhvwAAAAAAAPh/K2DpYIAO37+gUnyizZPhv26dixQDS+C/\",\"dtype\":\"float64\",\"order\":\"little\",\"shape\":[6]},{\"__ndarray__\":\"NCOH8F2nxz9lArGoYirkPwAAAAAAAPh/Kpgr4TaU4z9lArGoYirkP3gTtiFSWuI/\",\"dtype\":\"float64\",\"order\":\"little\",\"shape\":[6]},{\"__ndarray__\":\"NCOH8F2nxz/UxEAqDWXgPwAAAAAAAPh/ngXZ5Kgf3z/UxEAqDWXgP1j+KVCR8dw/\",\"dtype\":\"float64\",\"order\":\"little\",\"shape\":[6]},{\"__ndarray__\":\"NCOH8F2nxz/pEbzcr47SPwAAAAAAAPh/gLgHU0kX0z/pEbzcr47SP2EG5kD0CtA/\",\"dtype\":\"float64\",\"order\":\"little\",\"shape\":[6]},{\"__ndarray__\":\"e8iciQ+qrz8pXJnCpnXaPwAAAAAAAPh/hAY5uYqb1z8pXJnCpnXaPyUhH6O3jNo/\",\"dtype\":\"float64\",\"order\":\"little\",\"shape\":[6]},{\"__ndarray__\":\"e8iciQ+qrz+yViU3wKzYvwAAAAAAAPh/eMTRvpw31b+yViU3wKzYv6m/VJnk0de/\",\"dtype\":\"float64\",\"order\":\"little\",\"shape\":[6]},{\"__ndarray__\":\"e8iciQ+qrz9mHXtjnaTqvwAAAAAAAPh/l6FIWqbk6L9mHXtjnaTqv+7htOlUoui/\",\"dtype\":\"float64\",\"order\":\"little\",\"shape\":[6]},{\"__ndarray__\":\"e8iciQ+qrz+hm8KrQJLtPwAAAAAAAPh/j3wvff/O6z+hm8KrQJLtP0WYJW1skes/\",\"dtype\":\"float64\",\"order\":\"little\",\"shape\":[6]},{\"__ndarray__\":\"e8iciQ+qrz/pEbzcr47SPwAAAAAAAPh/CQTfyFJn0j/pEbzcr47SP9ugzEWMEc8/\",\"dtype\":\"float64\",\"order\":\"little\",\"shape\":[6]},{\"__ndarray__\":\"e8iciQ+qrz9lArGoYirkPwAAAAAAAPh/BEaTp8uD4z9lArGoYirkP7wy1tlcUuI/\",\"dtype\":\"float64\",\"order\":\"little\",\"shape\":[6]},{\"__ndarray__\":\"e8iciQ+qrz9WTovPXqfkvwAAAAAAAPh/MRZ4+yXc479WTovPXqfkv/rsaHIjv+K/\",\"dtype\":\"float64\",\"order\":\"little\",\"shape\":[6]},{\"__ndarray__\":\"e8iciQ+qrz+KwfpJn8zXPwAAAAAAAPh/ZiBK9HHu1j+KwfpJn8zXP7yTjEujVdQ/\",\"dtype\":\"float64\",\"order\":\"little\",\"shape\":[6]},{\"__ndarray__\":\"5evxkXW62D8qDC+2APzbPwAAAAAAAPh//nJzSwMm2D8qDC+2APzbPxq+g3NNM9g/\",\"dtype\":\"float64\",\"order\":\"little\",\"shape\":[6]},{\"__ndarray__\":\"5evxkXW62D8LYZ8Yb47aPwAAAAAAAPh/FuXHOxEQ2z8LYZ8Yb47aP95eyDkmBdg/\",\"dtype\":\"float64\",\"order\":\"little\",\"shape\":[6]},{\"__ndarray__\":\"+aC+NloPyb+wK0U1UcvpvwAAAAAAAPh/HalHbhvz57+wK0U1UcvpvwKotpx/1ue/\",\"dtype\":\"float64\",\"order\":\"little\",\"shape\":[6]},{\"__ndarray__\":\"+aC+NloPyb8LYZ8Yb47aPwAAAAAAAPh/S/kjhI/d1j8LYZ8Yb47aPwFW2S0epdY/\",\"dtype\":\"float64\",\"order\":\"little\",\"shape\":[6]},{\"__ndarray__\":\"C2GfGG+O2j+i+8+fBE3YPwAAAAAAAPh/VggHJfeH2z+i+8+fBE3YP/0I4dX2Zdw/\",\"dtype\":\"float64\",\"order\":\"little\",\"shape\":[6]},{\"__ndarray__\":\"2xbUdIEEsz/l6/GRdbrYPwAAAAAAAPh/CkjBxEKW1z/l6/GRdbrYPz60MLNnHtU/\",\"dtype\":\"float64\",\"order\":\"little\",\"shape\":[6]},{\"__ndarray__\":\"2xbUdIEEsz/5oL42Wg/JvwAAAAAAAPh/B8vXcwBxwr/5oL42Wg/Jv62is8503Me/\",\"dtype\":\"float64\",\"order\":\"little\",\"shape\":[6]},{\"__ndarray__\":\"2xbUdIEEsz8LYZ8Yb47aPwAAAAAAAPh/q7owLBGy2T8LYZ8Yb47aPyU6bo10GNc/\",\"dtype\":\"float64\",\"order\":\"little\",\"shape\":[6]},{\"__ndarray__\":\"2xbUdIEEsz8qDC+2APzbPwAAAAAAAPh/2d8EMfSL2j8qDC+2APzbP7j1aJf7O9g/\",\"dtype\":\"float64\",\"order\":\"little\",\"shape\":[6]},{\"__ndarray__\":\"2xbUdIEEsz/nyJ5AA27VvwAAAAAAAPh/zKmdQD1W1b/nyJ5AA27Vv8JiDzrLctK/\",\"dtype\":\"float64\",\"order\":\"little\",\"shape\":[6]},{\"__ndarray__\":\"S5V5Emdjqr80I4fwXafHPwAAAAAAAPh/KicOMVMrvz80I4fwXafHP7ydccS/vMA/\",\"dtype\":\"float64\",\"order\":\"little\",\"shape\":[6]},{\"__ndarray__\":\"S5V5Emdjqr/l6/GRdbrYPwAAAAAAAPh/crK8GzAb1j/l6/GRdbrYP9Kwbj+Dn9Q/\",\"dtype\":\"float64\",\"order\":\"little\",\"shape\":[6]},{\"__ndarray__\":\"S5V5Emdjqr/5oL42Wg/JvwAAAAAAAPh/pWZOEezdwr/5oL42Wg/Jv7IcAA6ciMi/\",\"dtype\":\"float64\",\"order\":\"little\",\"shape\":[6]},{\"__ndarray__\":\"S5V5Emdjqr8LYZ8Yb47aPwAAAAAAAPh/pDxdw5xj2D8LYZ8Yb47aP8zER0znitY/\",\"dtype\":\"float64\",\"order\":\"little\",\"shape\":[6]},{\"__ndarray__\":\"S5V5Emdjqr/bFtR0gQSzPwAAAAAAAPh/mFi9d9Nekj/bFtR0gQSzP0t0do/79Kw/\",\"dtype\":\"float64\",\"order\":\"little\",\"shape\":[6]},{\"__ndarray__\":\"S5V5Emdjqr+8kx56jMHrvwAAAAAAAPh/3zldwfGN6r+8kx56jMHrv9+pidenuOm/\",\"dtype\":\"float64\",\"order\":\"little\",\"shape\":[6]},{\"__ndarray__\":\"S5V5Emdjqr8qDC+2APzbPwAAAAAAAPh/VpVGR1E42T8qDC+2APzbPz6VP9GE3dc/\",\"dtype\":\"float64\",\"order\":\"little\",\"shape\":[6]},{\"__ndarray__\":\"pqsoeEVwyT+i+8+fBE3YPwAAAAAAAPh/03i37pdg1D+i+8+fBE3YP5LG0EOfoNQ/\",\"dtype\":\"float64\",\"order\":\"little\",\"shape\":[6]},{\"__ndarray__\":\"pqsoeEVwyT+W17qOt6blPwAAAAAAAPh/mgMgxFas4z+W17qOt6blP0C4TUQY1+M/\",\"dtype\":\"float64\",\"order\":\"little\",\"shape\":[6]},{\"__ndarray__\":\"pqsoeEVwyT/YdKpEeqnpPwAAAAAAAPh/bqtvgny+5z/YdKpEeqnpP8htGZwfxec/\",\"dtype\":\"float64\",\"order\":\"little\",\"shape\":[6]},{\"__ndarray__\":\"pqsoeEVwyT/qgMUsWETmvwAAAAAAAPh/dClEB8Za5L/qgMUsWETmv3jZCLd6XuS/\",\"dtype\":\"float64\",\"order\":\"little\",\"shape\":[6]},{\"__ndarray__\":\"pqsoeEVwyT+L/dAD7CDfPwAAAAAAAPh/u/cg3pdL2z+L/dAD7CDfP+niCj2CV9s/\",\"dtype\":\"float64\",\"order\":\"little\",\"shape\":[6]},{\"__ndarray__\":\"pqsoeEVwyT9lArGoYirkPwAAAAAAAPh/Neu/3uCq4j9lArGoYirkP8C02f+pGuI/\",\"dtype\":\"float64\",\"order\":\"little\",\"shape\":[6]},{\"__ndarray__\":\"pqsoeEVwyT9+pdAiPIXrPwAAAAAAAPh/hjY2tIN26T9+pdAiPIXrPyDKHFaX9+k/\",\"dtype\":\"float64\",\"order\":\"little\",\"shape\":[6]},{\"__ndarray__\":\"pqsoeEVwyT+DM79NCYzhvwAAAAAAAPh/guTaTw8O37+DM79NCYzhv2v/98vcpd+/\",\"dtype\":\"float64\",\"order\":\"little\",\"shape\":[6]},{\"__ndarray__\":\"i/3QA+wg3z+i+8+fBE3YPwAAAAAAAPh/fQXBGuHx2z+i+8+fBE3YP+vn8d9aPtw/\",\"dtype\":\"float64\",\"order\":\"little\",\"shape\":[6]},{\"__ndarray__\":\"i/3QA+wg3z9+pdAiPIXrPwAAAAAAAPh/dFaV5D566T9+pdAiPIXrP7t0ElpZRuo/\",\"dtype\":\"float64\",\"order\":\"little\",\"shape\":[6]},{\"__ndarray__\":\"i/3QA+wg3z/h5g9lJzPEPwAAAAAAAPh/GwIEORcczD/h5g9lJzPEP4ENQxVjI8g/\",\"dtype\":\"float64\",\"order\":\"little\",\"shape\":[6]},{\"__ndarray__\":\"1MRAKg1l4D+i+8+fBE3YPwAAAAAAAPh/fWW1Jbps3D+i+8+fBE3YP7+9tFVgK9s/\",\"dtype\":\"float64\",\"order\":\"little\",\"shape\":[6]},{\"__ndarray__\":\"1MRAKg1l4D+mqyh4RXDJPwAAAAAAAPh/fGsyszjJ0D+mqyh4RXDJP7/FZuy0FNA/\",\"dtype\":\"float64\",\"order\":\"little\",\"shape\":[6]},{\"__ndarray__\":\"1MRAKg1l4D+L/dAD7CDfPwAAAAAAAPh/fdslV9L74D+L/dAD7CDfP6hK/1EtBd8/\",\"dtype\":\"float64\",\"order\":\"little\",\"shape\":[6]},{\"__ndarray__\":\"1MRAKg1l4D9lArGoYirkPwAAAAAAAPh/tixBsuEF5D9lArGoYirkP1r2bfwqnOI/\",\"dtype\":\"float64\",\"order\":\"little\",\"shape\":[6]},{\"__ndarray__\":\"1MRAKg1l4D9+pdAiPIXrPwAAAAAAAPh/QH9ccGN16T9+pdAiPIXrPxMdVgtnFuo/\",\"dtype\":\"float64\",\"order\":\"little\",\"shape\":[6]},{\"__ndarray__\":\"isH6SZ/M1z+i+8+fBE3YPwAAAAAAAPh/NZD7QfrO2D+i+8+fBE3YP5Idnhv+w9U/\",\"dtype\":\"float64\",\"order\":\"little\",\"shape\":[6]},{\"__ndarray__\":\"6RG83K+O0j+i+8+fBE3YPwAAAAAAAPh/AqLVPzs81D+i+8+fBE3YPw2Tfsdp79Q/\",\"dtype\":\"float64\",\"order\":\"little\",\"shape\":[6]},{\"__ndarray__\":\"6RG83K+O0j+mqyh4RXDJPwAAAAAAAPh/9f5QVd9q0D+mqyh4RXDJPwrvaTQdoNA/\",\"dtype\":\"float64\",\"order\":\"little\",\"shape\":[6]},{\"__ndarray__\":\"i/9Bhp290T+i+8+fBE3YPwAAAAAAAPh/RotMtR/51j+i+8+fBE3YPzFmD0nSmdQ/\",\"dtype\":\"float64\",\"order\":\"little\",\"shape\":[6]},{\"__ndarray__\":\"i/9Bhp290T+ArymLZZjGPwAAAAAAAPh/bly3tiNYyT+ArymLZZjGP4WGg/XaCc4/\",\"dtype\":\"float64\",\"order\":\"little\",\"shape\":[6]},{\"__ndarray__\":\"1pYlQWjK1T+i+8+fBE3YPwAAAAAAAPh/MEUoZOC51z+i+8+fBE3YPynMIyypAdU/\",\"dtype\":\"float64\",\"order\":\"little\",\"shape\":[6]},{\"__ndarray__\":\"mur5jcQ31j+i+8+fBE3YPwAAAAAAAPh/0P0bkY5R1D+i+8+fBE3YP6EZuzbWudQ/\",\"dtype\":\"float64\",\"order\":\"little\",\"shape\":[6]},{\"__ndarray__\":\"KgwvtgD82z+L/dAD7CDfPwAAAAAAAPh/9Z46Fqvu3j+L/dAD7CDfPwBAhLeiE9w/\",\"dtype\":\"float64\",\"order\":\"little\",\"shape\":[6]},{\"__ndarray__\":\"qBf5D55YtT/5oL42Wg/JvwAAAAAAAPh/DlrwkOTmwL/5oL42Wg/Jv8hBKbGtbcK/\",\"dtype\":\"float64\",\"order\":\"little\",\"shape\":[6]},{\"__ndarray__\":\"qBf5D55YtT8LYZ8Yb47aPwAAAAAAAPh/Yc9/Bi501z8LYZ8Yb47aP625r2jjcNY/\",\"dtype\":\"float64\",\"order\":\"little\",\"shape\":[6]},{\"__ndarray__\":\"qBf5D55YtT9LlXkSZ2OqvwAAAAAAAPh/XJLnDbF7pb9LlXkSZ2Oqv4CQ6iJjdzM/\",\"dtype\":\"float64\",\"order\":\"little\",\"shape\":[6]},{\"__ndarray__\":\"GRh5dPkuxb/5oL42Wg/JvwAAAAAAAPh/rNwThhUkxL/5oL42Wg/Jv2L12+uPQ8q/\",\"dtype\":\"float64\",\"order\":\"little\",\"shape\":[6]},{\"__ndarray__\":\"t76fzEpN0j8LYZ8Yb47aPwAAAAAAAPh/BiME5FnM1z8LYZ8Yb47aP6ijytUPcNY/\",\"dtype\":\"float64\",\"order\":\"little\",\"shape\":[6]},{\"__ndarray__\":\"t76fzEpN0j+mqyh4RXDJPwAAAAAAAPh/SEZDiP610D+mqyh4RXDJPzabGBiTnc0/\",\"dtype\":\"float64\",\"order\":\"little\",\"shape\":[6]},{\"__ndarray__\":\"jQjV1hbzvT/bFtR0gQSzPwAAAAAAAPh/OOTChRoRwD/bFtR0gQSzP1wFP1Yer8E/\",\"dtype\":\"float64\",\"order\":\"little\",\"shape\":[6]},{\"__ndarray__\":\"pqO2jxkJ5T+wVOIkfnPqPwAAAAAAAPh/Up57vAD66D+wVOIkfnPqP2nagjqIbeo/\",\"dtype\":\"float64\",\"order\":\"little\",\"shape\":[6]},{\"__ndarray__\":\"pqO2jxkJ5T+L/dAD7CDfPwAAAAAAAPh/TYiaaa8L4T+L/dAD7CDfPwMrAAnRMd8/\",\"dtype\":\"float64\",\"order\":\"little\",\"shape\":[6]},{\"__ndarray__\":\"LGC4k7Zrxz+mqyh4RXDJPwAAAAAAAPh/Ind48BrvyT+mqyh4RXDJP2iT9+p098M/\",\"dtype\":\"float64\",\"order\":\"little\",\"shape\":[6]},{\"__ndarray__\":\"dTc25rroyD+mqyh4RXDJPwAAAAAAAPh/yJOiN3+xxT+mqyh4RXDJP1uq/3G7/Ms/\",\"dtype\":\"float64\",\"order\":\"little\",\"shape\":[6]},{\"__ndarray__\":\"qa0rraqHxD+mqyh4RXDJPwAAAAAAAPh/vqyp/eIzxz+mqyh4RXDJP4iW9+g8PsI/\",\"dtype\":\"float64\",\"order\":\"little\",\"shape\":[6]},{\"__ndarray__\":\"r6nA/KSX2z+L/dAD7CDfPwAAAAAAAPh/vrKv1QNr3j+L/dAD7CDfP/4RxzzcwNs/\",\"dtype\":\"float64\",\"order\":\"little\",\"shape\":[6]},{\"__ndarray__\":\"DREaXtZR179mHXtjnaTqvwAAAAAAAPh/uGpumdKn6L9mHXtjnaTqv5eG3jRC2ei/\",\"dtype\":\"float64\",\"order\":\"little\",\"shape\":[6]},{\"__ndarray__\":\"DREaXtZR17//N01h1X2wvwAAAAAAAPh/lpe9Ei3uv7//N01h1X2wvyq9M5Qwhb+/\",\"dtype\":\"float64\",\"order\":\"little\",\"shape\":[6]},{\"__ndarray__\":\"DREaXtZR17+nBrA2n8B8vwAAAAAAAPh/pJA0Vk/msb+nBrA2n8B8v9i5xIsJca+/\",\"dtype\":\"float64\",\"order\":\"little\",\"shape\":[6]},{\"__ndarray__\":\"lJ3mM8OAsD9mHXtjnaTqvwAAAAAAAPh/DNsaHIGl6L9mHXtjnaTqv9pPXUy+3ei/\",\"dtype\":\"float64\",\"order\":\"little\",\"shape\":[6]},{\"__ndarray__\":\"lJ3mM8OAsD8lae1SepHevwAAAAAAAPh/akd6C35d3b8lae1SepHev+yBFeSR7dq/\",\"dtype\":\"float64\",\"order\":\"little\",\"shape\":[6]},{\"__ndarray__\":\"lJ3mM8OAsD/6OVClVfXqPwAAAAAAAPh/SXZfS3bq6D/6OVClVfXqPyQsb6cWUOk/\",\"dtype\":\"float64\",\"order\":\"little\",\"shape\":[6]},{\"__ndarray__\":\"lJ3mM8OAsD/SPGeWotPpvwAAAAAAAPh/PlNpV0va57/SPGeWotPpv7EhhRxKAui/\",\"dtype\":\"float64\",\"order\":\"little\",\"shape\":[6]},{\"__ndarray__\":\"lJ3mM8OAsD/koSnmmIrpPwAAAAAAAPh/dWWuxkE/6D/koSnmmIrpPy+7Q6yvfec/\",\"dtype\":\"float64\",\"order\":\"little\",\"shape\":[6]},{\"__ndarray__\":\"lJ3mM8OAsD9H0nwgV0juPwAAAAAAAPh/PujreL2g7D9H0nwgV0juP+OQ9yUGPuw/\",\"dtype\":\"float64\",\"order\":\"little\",\"shape\":[6]},{\"__ndarray__\":\"vvqovrWg0b9mHXtjnaTqvwAAAAAAAPh/Imi8eqOW6L9mHXtjnaTqvzNq1T+nEOm/\",\"dtype\":\"float64\",\"order\":\"little\",\"shape\":[6]},{\"__ndarray__\":\"vvqovrWg0b8NERpe1lHXvwAAAAAAAPh/P7nv/LXF078NERpe1lHXvw9s9m+QTNa/\",\"dtype\":\"float64\",\"order\":\"little\",\"shape\":[6]},{\"__ndarray__\":\"vvqovrWg0b+/hh+IJzHnvwAAAAAAAPh/MCZu9GyB5b+/hh+IJzHnvzcAQqoIKeW/\",\"dtype\":\"float64\",\"order\":\"little\",\"shape\":[6]},{\"__ndarray__\":\"vvqovrWg0b/bsfmr8KKMvwAAAAAAAPh/bqGt2iE/q7/bsfmr8KKMv2k4Whqo77O/\",\"dtype\":\"float64\",\"order\":\"little\",\"shape\":[6]},{\"__ndarray__\":\"vvqovrWg0b9gnpy1+qzsvwAAAAAAAPh/YGyghiCi6r9gnpy1+qzsv8V953/jbuu/\",\"dtype\":\"float64\",\"order\":\"little\",\"shape\":[6]},{\"__ndarray__\":\"vvqovrWg0b+eMb3mzqfkPwAAAAAAAPh/jbUlVeKX4j+eMb3mzqfkP5+kWBcmMuM/\",\"dtype\":\"float64\",\"order\":\"little\",\"shape\":[6]},{\"__ndarray__\":\"INJ2ibYJ1b9mHXtjnaTqvwAAAAAAAPh/mpyWtaKv6b9mHXtjnaTqv1T+rB63rOi/\",\"dtype\":\"float64\",\"order\":\"little\",\"shape\":[6]},{\"__ndarray__\":\"INJ2ibYJ1b+xEJRhJ07nvwAAAAAAAPh/fgicd1Fn5b+xEJRhJ07nvy4GJaeFZeW/\",\"dtype\":\"float64\",\"order\":\"little\",\"shape\":[6]},{\"__ndarray__\":\"INJ2ibYJ1b//N01h1X2wvwAAAAAAAPh/SPihNRtNvb//N01h1X2wvz/3hUOvMrK/\",\"dtype\":\"float64\",\"order\":\"little\",\"shape\":[6]},{\"__ndarray__\":\"INJ2ibYJ1b9fUgJ+E+yqPwAAAAAAAPh/c2nKFz5foD9fUgJ+E+yqP4ix/FByJ3W/\",\"dtype\":\"float64\",\"order\":\"little\",\"shape\":[6]},{\"__ndarray__\":\"INJ2ibYJ1b+U0QWnSPm+vwAAAAAAAPh/mEUShrinvr+U0QWnSPm+v/40C9q4NMW/\",\"dtype\":\"float64\",\"order\":\"little\",\"shape\":[6]},{\"__ndarray__\":\"1WQoxAmc2L9mHXtjnaTqvwAAAAAAAPh/1R4jo4rH6L9mHXtjnaTqv5RVENVrs+i/\",\"dtype\":\"float64\",\"order\":\"little\",\"shape\":[6]},{\"__ndarray__\":\"1WQoxAmc2L9PllU0Qx+avwAAAAAAAPh/ZAzShja7tr9PllU0Qx+av8he3BZ0MLS/\",\"dtype\":\"float64\",\"order\":\"little\",\"shape\":[6]},{\"__ndarray__\":\"1WQoxAmc2L//N01h1X2wvwAAAAAAAPh/bFbN7qJvwL//N01h1X2wv5oLRkUZdr2/\",\"dtype\":\"float64\",\"order\":\"little\",\"shape\":[6]},{\"__ndarray__\":\"1WQoxAmc2L/vpshyt/TovwAAAAAAAPh/MISYzAfu5r/vpshyt/Tov5fVleF6y+e/\",\"dtype\":\"float64\",\"order\":\"little\",\"shape\":[6]},{\"__ndarray__\":\"1WQoxAmc2L+nBrA2n8B8vwAAAAAAAPh/ARDM11pJsr+nBrA2n8B8vzmv1EtLpau/\",\"dtype\":\"float64\",\"order\":\"little\",\"shape\":[6]},{\"__ndarray__\":\"u34upnFe679mHXtjnaTqvwAAAAAAAPh/AZeA+mOo6r9mHXtjnaTqv6qc0/CSHOy/\",\"dtype\":\"float64\",\"order\":\"little\",\"shape\":[6]},{\"__ndarray__\":\"NlU+c1z/zz9mHXtjnaTqvwAAAAAAAPh/ckVMHTzV6L9mHXtjnaTqv6SeNQYYqui/\",\"dtype\":\"float64\",\"order\":\"little\",\"shape\":[6]},{\"__ndarray__\":\"NlU+c1z/zz/B/AYgx4nrPwAAAAAAAPh/S+eK/UGr6T/B/AYgx4nrPzA3MwC9mek/\",\"dtype\":\"float64\",\"order\":\"little\",\"shape\":[6]},{\"__ndarray__\":\"NlU+c1z/zz/JwG3sPZnqPwAAAAAAAPh/noNK80KQ6D/JwG3sPZnqP48FeYSB7Og/\",\"dtype\":\"float64\",\"order\":\"little\",\"shape\":[6]},{\"__ndarray__\":\"NlU+c1z/zz/NqJQTKyrnPwAAAAAAAPh/iuH82Tz75T/NqJQTKyrnP+sGQdg8IuU/\",\"dtype\":\"float64\",\"order\":\"little\",\"shape\":[6]},{\"__ndarray__\":\"NlU+c1z/zz/koSnmmIrpPwAAAAAAAPh/kl6wsPHt5z/koSnmmIrpPzGtrLT5fec/\",\"dtype\":\"float64\",\"order\":\"little\",\"shape\":[6]},{\"__ndarray__\":\"NlU+c1z/zz//N01h1X2wvwAAAAAAAPh/BE+uMmwRmr//N01h1X2wv4CnPr50wUK/\",\"dtype\":\"float64\",\"order\":\"little\",\"shape\":[6]},{\"__ndarray__\":\"+alP1VCPub9mHXtjnaTqvwAAAAAAAPh/uV2PWU2s6L9mHXtjnaTqv91t+qae0ei/\",\"dtype\":\"float64\",\"order\":\"little\",\"shape\":[6]},{\"__ndarray__\":\"+alP1VCPub+WN/pORWPFvwAAAAAAAPh/J/QynR+ywb+WN/pORWPFv8Zp9OE7/se/\",\"dtype\":\"float64\",\"order\":\"little\",\"shape\":[6]},{\"__ndarray__\":\"+alP1VCPub9eWyKrN0TevwAAAAAAAPh/BVLgVvZ13b9eWyKrN0TevyiXXKgo1tq/\",\"dtype\":\"float64\",\"order\":\"little\",\"shape\":[6]},{\"__ndarray__\":\"+alP1VCPub9TmRESe9DnPwAAAAAAAPh/wPbByTjK5T9TmRESe9DnP6svAAkfqeY/\",\"dtype\":\"float64\",\"order\":\"little\",\"shape\":[6]},{\"__ndarray__\":\"pVOYXPhjyb9mHXtjnaTqvwAAAAAAAPh/0vVXEI1q6b9mHXtjnaTqvwn6YUF7mui/\",\"dtype\":\"float64\",\"order\":\"little\",\"shape\":[6]},{\"__ndarray__\":\"pVOYXPhjyb+FoerKWtXbPwAAAAAAAPh/FDPFrQhj2T+FoerKWtXbP+oICBBswdc/\",\"dtype\":\"float64\",\"order\":\"little\",\"shape\":[6]},{\"__ndarray__\":\"PPxIjt2R6L9mHXtjnaTqvwAAAAAAAPh/7zc87cmV6L9mHXtjnaTqv2BDuIEGGOm/\",\"dtype\":\"float64\",\"order\":\"little\",\"shape\":[6]},{\"__ndarray__\":\"/zdNYdV9sL9mHXtjnaTqvwAAAAAAAPh/wy+KIxKt6L9mHXtjnaTqv1zYGShs0Oi/\",\"dtype\":\"float64\",\"order\":\"little\",\"shape\":[6]},{\"__ndarray__\":\"/zdNYdV9sL/D3VDEtYXsPwAAAAAAAPh/qvzD48qT6j/D3VDEtYXsP+hoJnKRqeo/\",\"dtype\":\"float64\",\"order\":\"little\",\"shape\":[6]},{\"__ndarray__\":\"/zdNYdV9sL9nfAAKVKyRPwAAAAAAAPh/EpiBHfeDi79nfAAKVKyRP9wMmdIlPaI/\",\"dtype\":\"float64\",\"order\":\"little\",\"shape\":[6]},{\"__ndarray__\":\"/zdNYdV9sL93Gf6kzj7rvwAAAAAAAPh/oL/smwlR6b93Gf6kzj7rv+ZxH7SRXem/\",\"dtype\":\"float64\",\"order\":\"little\",\"shape\":[6]},{\"__ndarray__\":\"/zdNYdV9sL/koSnmmIrpPwAAAAAAAPh/6hpiFpcP6D/koSnmmIrpPw1Em1C8euc/\",\"dtype\":\"float64\",\"order\":\"little\",\"shape\":[6]},{\"__ndarray__\":\"/zdNYdV9sL/vpshyt/TovwAAAAAAAPh/DovwB8bl5r/vpshyt/Tovwh1i6Lclue/\",\"dtype\":\"float64\",\"order\":\"little\",\"shape\":[6]},{\"__ndarray__\":\"pwawNp/AfL//N01h1X2wvwAAAAAAAPh/GBsTqeUKcL//N01h1X2wv7JxRlucHKO/\",\"dtype\":\"float64\",\"order\":\"little\",\"shape\":[6]},{\"__ndarray__\":\"hhCd0wwn278NERpe1lHXvwAAAAAAAPh/MJMNFS4c278NERpe1lHXv8luW71LJtu/\",\"dtype\":\"float64\",\"order\":\"little\",\"shape\":[6]},{\"__ndarray__\":\"WpVsE+Oxy78NERpe1lHXvwAAAAAAAPh/aU73fkh/078NERpe1lHXv87r2sZ+hdO/\",\"dtype\":\"float64\",\"order\":\"little\",\"shape\":[6]},{\"__ndarray__\":\"WpVsE+Oxy7//N01h1X2wvwAAAAAAAPh/5JfML3YIwL//N01h1X2wv8ps7A0QWr+/\",\"dtype\":\"float64\",\"order\":\"little\",\"shape\":[6]},{\"__ndarray__\":\"ChJ2xI4B2b8NERpe1lHXvwAAAAAAAPh/6gtbMV/H178NERpe1lHXv1YeGYXnitq/\",\"dtype\":\"float64\",\"order\":\"little\",\"shape\":[6]},{\"__ndarray__\":\"tLk2u6Kuy78NERpe1lHXvwAAAAAAAPh/Z96GpPNV078NERpe1lHXv3tvQQ95v9O/\",\"dtype\":\"float64\",\"order\":\"little\",\"shape\":[6]},{\"__ndarray__\":\"tLk2u6Kuy7//N01h1X2wvwAAAAAAAPh/515mdA1Mv7//N01h1X2wv/w4ZqKuDcC/\",\"dtype\":\"float64\",\"order\":\"little\",\"shape\":[6]},{\"__ndarray__\":\"xM2T2qNezL8NERpe1lHXvwAAAAAAAPh/4M2W19tn078NERpe1lHXv8uhspXmodO/\",\"dtype\":\"float64\",\"order\":\"little\",\"shape\":[6]},{\"__ndarray__\":\"xM2T2qNezL//N01h1X2wvwAAAAAAAPh/yF1Gz0K2v7//N01h1X2wv3faL28twb+/\",\"dtype\":\"float64\",\"order\":\"little\",\"shape\":[6]},{\"__ndarray__\":\"l58so/X72r8NERpe1lHXvwAAAAAAAPh/IgMWkcFN2r8NERpe1lHXv9M1DiRlcdu/\",\"dtype\":\"float64\",\"order\":\"little\",\"shape\":[6]},{\"__ndarray__\":\"CCbHzPpu2r8NERpe1lHXvwAAAAAAAPh/lxrFmaxx278NERpe1lHXv2AJS1H2P9q/\",\"dtype\":\"float64\",\"order\":\"little\",\"shape\":[6]},{\"__ndarray__\":\"Ry3IpCdY2r8NERpe1lHXvwAAAAAAAPh/HfFqOWQj2b8NERpe1lHXv3v1hwIjOdu/\",\"dtype\":\"float64\",\"order\":\"little\",\"shape\":[6]},{\"__ndarray__\":\"0jxnlqLT6b88/EiO3ZHovwAAAAAAAPh/WzjN74z+6b88/EiO3ZHovw5SqwKnoeq/\",\"dtype\":\"float64\",\"order\":\"little\",\"shape\":[6]},{\"__ndarray__\":\"QK1UqlDxvT+UneYzw4CwPwAAAAAAAPh/bAZ8F/8UwD+UneYzw4CwP3UpPV3M6Lc/\",\"dtype\":\"float64\",\"order\":\"little\",\"shape\":[6]},{\"__ndarray__\":\"9+zX1JfluD+UneYzw4CwPwAAAAAAAPh/FiJcfd1gvT+UneYzw4CwPzmqRcxFULI/\",\"dtype\":\"float64\",\"order\":\"little\",\"shape\":[6]},{\"__ndarray__\":\"uihr3ggIwD+UneYzw4CwPwAAAAAAAPh/cT35l0J+wD+UneYzw4CwP0wTgRB+pLw/\",\"dtype\":\"float64\",\"order\":\"little\",\"shape\":[6]},{\"__ndarray__\":\"27H5q/CijL//N01h1X2wvwAAAAAAAPh/U/J79JSbob//N01h1X2wv3AX9hc5fGe/\",\"dtype\":\"float64\",\"order\":\"little\",\"shape\":[6]},{\"__ndarray__\":\"T5ZVNEMfmr//N01h1X2wvwAAAAAAAPh/vmCC90M0k7//N01h1X2wvwBQEBxH0/g+\",\"dtype\":\"float64\",\"order\":\"little\",\"shape\":[6]},{\"__ndarray__\":\"SGESG/Y3zb/VZCjECZzYvwAAAAAAAPh/V+SnOFGB1L/VZCjECZzYv2VwQhOTa9W/\",\"dtype\":\"float64\",\"order\":\"little\",\"shape\":[6]},{\"__ndarray__\":\"SGESG/Y3zb//N01h1X2wvwAAAAAAAPh/+39CoT1qwL//N01h1X2wv52WNFk/qb2/\",\"dtype\":\"float64\",\"order\":\"little\",\"shape\":[6]},{\"__ndarray__\":\"D67oZS4tzb/VZCjECZzYvwAAAAAAAPh/Q/YrBzeK1L/VZCjECZzYv9YPTEESQtW/\",\"dtype\":\"float64\",\"order\":\"little\",\"shape\":[6]},{\"__ndarray__\":\"D67oZS4tzb//N01h1X2wvwAAAAAAAPh/zcezUjB4wL//N01h1X2wv7x12XztB72/\",\"dtype\":\"float64\",\"order\":\"little\",\"shape\":[6]},{\"__ndarray__\":\"ah133JIM0z82VT5zXP/PPwAAAAAAAPh/2mqXPwbm0j82VT5zXP/PP36BQCCDH9Q/\",\"dtype\":\"float64\",\"order\":\"little\",\"shape\":[6]},{\"__ndarray__\":\"zbaWyMfM0j82VT5zXP/PPwAAAAAAAPh/93Xj+hkH1D82VT5zXP/PPzzPC4JWOdI/\",\"dtype\":\"float64\",\"order\":\"little\",\"shape\":[6]},{\"__ndarray__\":\"wcisNd+C0z82VT5zXP/PPwAAAAAAAPh/0vbflDL50z82VT5zXP/PPy6HrGKEltM/\",\"dtype\":\"float64\",\"order\":\"little\",\"shape\":[6]},{\"__ndarray__\":\"f4TOEreVwr/5qU/VUI+5vwAAAAAAAPh/rwLHIql2vb/5qU/VUI+5v+QCdHnF08O/\",\"dtype\":\"float64\",\"order\":\"little\",\"shape\":[6]},{\"__ndarray__\":\"V/yYkPbizr+lU5hc+GPJvwAAAAAAAPh/bcyUwd5S0L+lU5hc+GPJv4hgqlbDpdC/\",\"dtype\":\"float64\",\"order\":\"little\",\"shape\":[6]},{\"__ndarray__\":\"lCwyskMSzb+lU5hc+GPJvwAAAAAAAPh/ZL+nI0AL0L+lU5hc+GPJv3fM5LeluMq/\",\"dtype\":\"float64\",\"order\":\"little\",\"shape\":[6]},{\"__ndarray__\":\"YTTvEnIrz7+lU5hc+GPJvwAAAAAAAPh/FfFlzHvL0L+lU5hc+GPJv2FsT2KqjM6/\",\"dtype\":\"float64\",\"order\":\"little\",\"shape\":[6]},{\"__ndarray__\":\"RbuJhmVpyb+lU5hc+GPJvwAAAAAAAPh/e1/hLXKTzL+lU5hc+GPJvyXTOv47Q8a/\",\"dtype\":\"float64\",\"order\":\"little\",\"shape\":[6]},{\"__ndarray__\":\"YZKiTXcy5r88/EiO3ZHovwAAAAAAAPh//OcCPVKQ5r88/EiO3ZHov2mWW0cz0Oa/\",\"dtype\":\"float64\",\"order\":\"little\",\"shape\":[6]},{\"__ndarray__\":\"nwwwrSgNvr//N01h1X2wvwAAAAAAAPh/pISDgLBMwL//N01h1X2wv8EuiVEVXLm/\",\"dtype\":\"float64\",\"order\":\"little\",\"shape\":[6]},{\"__ndarray__\":\"XquMdAsOYz//N01h1X2wvwAAAAAAAPh/zFNxgrLIj7//N01h1X2wvwCCSt49UCW/\",\"dtype\":\"float64\",\"order\":\"little\",\"shape\":[6]},{\"__ndarray__\":\"9/AR2c43u7//N01h1X2wvwAAAAAAAPh/wZ+x9C+os7//N01h1X2wvx59JF6+Lb6/\",\"dtype\":\"float64\",\"order\":\"little\",\"shape\":[6]},{\"__ndarray__\":\"R5l6FmwVsL//N01h1X2wvwAAAAAAAPh/obANYZcvtr//N01h1X2wv9CkKBuJI6O/\",\"dtype\":\"float64\",\"order\":\"little\",\"shape\":[6]},{\"__ndarray__\":\"eZoFcIiasb//N01h1X2wvwAAAAAAAPh/jlbGXZX4pb//N01h1X2wvxKD3BlMmLe/\",\"dtype\":\"float64\",\"order\":\"little\",\"shape\":[6]},{\"__ndarray__\":\"/zscfewZp7//N01h1X2wvwAAAAAAAPh/sIDTqJn4hb//N01h1X2wv5zrraiKcqq/\",\"dtype\":\"float64\",\"order\":\"little\",\"shape\":[6]},{\"__ndarray__\":\"itquqepMXD//N01h1X2wvwAAAAAAAPh/MNHuApOmc7//N01h1X2wv7BR/r7GV3S/\",\"dtype\":\"float64\",\"order\":\"little\",\"shape\":[6]},{\"__ndarray__\":\"XycJf727nb//N01h1X2wvwAAAAAAAPh/eFdkZbYrgr//N01h1X2wv1gzH3uIs6i/\",\"dtype\":\"float64\",\"order\":\"little\",\"shape\":[6]},{\"__ndarray__\":\"dL3+5sgArL//N01h1X2wvwAAAAAAAPh//JeWrQxen7//N01h1X2wv2og2CMWT7S/\",\"dtype\":\"float64\",\"order\":\"little\",\"shape\":[6]},{\"__ndarray__\":\"Q2k1KtUltb//N01h1X2wvwAAAAAAAPh/hGY2eIi2ur//N01h1X2wv0FSipn3H62/\",\"dtype\":\"float64\",\"order\":\"little\",\"shape\":[6]},{\"__ndarray__\":\"LN3JAiz/s7//N01h1X2wvwAAAAAAAPh/4J0/WHhZrL//N01h1X2wv3azHiE/Z7q/\",\"dtype\":\"float64\",\"order\":\"little\",\"shape\":[6]},{\"__ndarray__\":\"PUvgZ9Jwp7//N01h1X2wvwAAAAAAAPh/YI3GAOXSm7//N01h1X2wv6NwjR64RLO/\",\"dtype\":\"float64\",\"order\":\"little\",\"shape\":[6]},{\"__ndarray__\":\"37j9ad6Fir//N01h1X2wvwAAAAAAAPh/AKDlNj4F+D7/N01h1X2wv5xd8uJKDpO/\",\"dtype\":\"float64\",\"order\":\"little\",\"shape\":[6]},{\"__ndarray__\":\"4pYl/BjXv7//N01h1X2wvwAAAAAAAPh/HnWQrotYwL//N01h1X2wv/P8Q8DiJr6/\",\"dtype\":\"float64\",\"order\":\"little\",\"shape\":[6]},{\"__ndarray__\":\"KnbkoGOirL//N01h1X2wvwAAAAAAAPh/fqTHhffOtL//N01h1X2wv0EYYsfikaC/\",\"dtype\":\"float64\",\"order\":\"little\",\"shape\":[6]},{\"__ndarray__\":\"yTeNrRRDm7//N01h1X2wvwAAAAAAAPh/BK/rmyt9jb//N01h1X2wv5zvdQpkla2/\",\"dtype\":\"float64\",\"order\":\"little\",\"shape\":[6]},{\"__ndarray__\":\"ppifOHXPvr//N01h1X2wvwAAAAAAAPh/yDM9ibVgub//N01h1X2wvxMEQ+dHTcC/\",\"dtype\":\"float64\",\"order\":\"little\",\"shape\":[6]},{\"__ndarray__\":\"YSiyvzA9wL//N01h1X2wvwAAAAAAAPh/tOLkxG3Tvb//N01h1X2wvyhulysKZcC/\",\"dtype\":\"float64\",\"order\":\"little\",\"shape\":[6]},{\"__ndarray__\":\"Clq52erytr//N01h1X2wvwAAAAAAAPh/AKW1ADKArr//N01h1X2wv8ZpdYsWP7u/\",\"dtype\":\"float64\",\"order\":\"little\",\"shape\":[6]},{\"__ndarray__\":\"iTEfLRMYub//N01h1X2wvwAAAAAAAPh/flUpbDZyvr//N01h1X2wv9OxNyzoIrS/\",\"dtype\":\"float64\",\"order\":\"little\",\"shape\":[6]},{\"__ndarray__\":\"mOI4zsTRez//N01h1X2wvwAAAAAAAPh/ANANZX5G8T7/N01h1X2wv37J9dnAmpK/\",\"dtype\":\"float64\",\"order\":\"little\",\"shape\":[6]},{\"__ndarray__\":\"LHxAPUTDuL//N01h1X2wvwAAAAAAAPh/zh2KZyjvtb//N01h1X2wv0+K57RBWr+/\",\"dtype\":\"float64\",\"order\":\"little\",\"shape\":[6]},{\"__ndarray__\":\"k8wICNYDob//N01h1X2wvwAAAAAAAPh/Hestxs7LrL//N01h1X2wv2jjPUz/hIu/\",\"dtype\":\"float64\",\"order\":\"little\",\"shape\":[6]}],\"ys\":[{\"__ndarray__\":\"oQgPkyjtqD8D8xkq6JTePwAAAAAAAPh//eZFWXmG2j8D8xkq6JTeP8sWmu2qPdw/\",\"dtype\":\"float64\",\"order\":\"little\",\"shape\":[6]},{\"__ndarray__\":\"oQgPkyjtqD+9y02ItOPPPwAAAAAAAPh/mEShqmGlxz+9y02ItOPPP1KGGnuh2ck/\",\"dtype\":\"float64\",\"order\":\"little\",\"shape\":[6]},{\"__ndarray__\":\"oQgPkyjtqD+T/KyXqYq7PwAAAAAAAPh/tAKOrJ4jqz+T/KyXqYq7P5TeQhBm3bc/\",\"dtype\":\"float64\",\"order\":\"little\",\"shape\":[6]},{\"__ndarray__\":\"oQgPkyjtqD9Mnbx1hXhLPwAAAAAAAPh/RxRdKUbqrz9Mnbx1hXhLPyXKclo6b58/\",\"dtype\":\"float64\",\"order\":\"little\",\"shape\":[6]},{\"__ndarray__\":\"oQgPkyjtqD/sQccQaJzYPwAAAAAAAPh/eDcZoO+u1D/sQccQaJzYP0wXlhhMudY/\",\"dtype\":\"float64\",\"order\":\"little\",\"shape\":[6]},{\"__ndarray__\":\"oQgPkyjtqD+sKeutSX3cPwAAAAAAAPh/gTpDCsBj2j+sKeutSX3cP3xQuFmXftg/\",\"dtype\":\"float64\",\"order\":\"little\",\"shape\":[6]},{\"__ndarray__\":\"oQgPkyjtqD9TrBqr4DnfPwAAAAAAAPh/C2GfBAU12z9TrBqr4DnfP2vhjbYYCt0/\",\"dtype\":\"float64\",\"order\":\"little\",\"shape\":[6]},{\"__ndarray__\":\"oQgPkyjtqD/QOkSF8DF8vwAAAAAAAPh/fhN7RDNlrT/QOkSF8DF8vzyCpT/XLKI/\",\"dtype\":\"float64\",\"order\":\"little\",\"shape\":[6]},{\"__ndarray__\":\"oQgPkyjtqD9Trc/v8ertvwAAAAAAAPh/7IQU8i/b679Trc/v8ertv/sUX/kjf+y/\",\"dtype\":\"float64\",\"order\":\"little\",\"shape\":[6]},{\"__ndarray__\":\"oQgPkyjtqD8eNFEsbWPDPwAAAAAAAPh/mqEY26vEwT8eNFEsbWPDPyYrvvETDLk/\",\"dtype\":\"float64\",\"order\":\"little\",\"shape\":[6]},{\"__ndarray__\":\"oQgPkyjtqD+rOHUxE1/TvwAAAAAAAPh/3P+JKx0h07+rOHUxE1/Tv/8oKGjzSdC/\",\"dtype\":\"float64\",\"order\":\"little\",\"shape\":[6]},{\"__ndarray__\":\"oQgPkyjtqD9XBw8FkIDfPwAAAAAAAPh/20jAfVNx2z9XBw8FkIDfP6ltfG/LHdw/\",\"dtype\":\"float64\",\"order\":\"little\",\"shape\":[6]},{\"__ndarray__\":\"oQgPkyjtqD/lYFHHEDvfPwAAAAAAAPh/t/A6cPBS2z/lYFHHEDvfP5R+8600Z90/\",\"dtype\":\"float64\",\"order\":\"little\",\"shape\":[6]},{\"__ndarray__\":\"oQgPkyjtqD8zrLRKGefaPwAAAAAAAPh/ccxuhNks1z8zrLRKGefaPyJWr67kg9k/\",\"dtype\":\"float64\",\"order\":\"little\",\"shape\":[6]},{\"__ndarray__\":\"oQgPkyjtqD84R22SLfHCvwAAAAAAAPh/qoocrSmRvL84R22SLfHCvxOxM6ondsS/\",\"dtype\":\"float64\",\"order\":\"little\",\"shape\":[6]},{\"__ndarray__\":\"A/MZKuiU3j9UAYq5WDPpPwAAAAAAAPh/0OPSYuHq5z9UAYq5WDPpP5pos1HXJuc/\",\"dtype\":\"float64\",\"order\":\"little\",\"shape\":[6]},{\"__ndarray__\":\"A/MZKuiU3j/YGS3YFSDBPwAAAAAAAPh/drrzSTeHwj/YGS3YFSDBP4Ipr+143cc/\",\"dtype\":\"float64\",\"order\":\"little\",\"shape\":[6]},{\"__ndarray__\":\"A/MZKuiU3j8L0XkzgojoPwAAAAAAAPh/w1K6ET+L6D8L0XkzgojoP+KwjI8mFec/\",\"dtype\":\"float64\",\"order\":\"little\",\"shape\":[6]},{\"__ndarray__\":\"A/MZKuiU3j/6IjNmIDzRPwAAAAAAAPh/ouRLmv5N0T/6IjNmIDzRP97Z7YFAM9Q/\",\"dtype\":\"float64\",\"order\":\"little\",\"shape\":[6]},{\"__ndarray__\":\"vctNiLTjzz9Mnbx1hXhLPwAAAAAAAPh/wImPC/aysD9Mnbx1hXhLP8HYUBUnz6Y/\",\"dtype\":\"float64\",\"order\":\"little\",\"shape\":[6]},{\"__ndarray__\":\"vctNiLTjzz9AAjV+PuPfPwAAAAAAAPh/MUMeAwfE2z9AAjV+PuPfPxv4m7LrEt0/\",\"dtype\":\"float64\",\"order\":\"little\",\"shape\":[6]},{\"__ndarray__\":\"k/ysl6mKuz8D8xkq6JTePwAAAAAAAPh/LnGOWYJ52j8D8xkq6JTeP//kWfzv8ds/\",\"dtype\":\"float64\",\"order\":\"little\",\"shape\":[6]},{\"__ndarray__\":\"k/ysl6mKuz/zLjQ8xULvvwAAAAAAAPh/gcFD7Clg7b/zLjQ8xULvv7FF/msyVu2/\",\"dtype\":\"float64\",\"order\":\"little\",\"shape\":[6]},{\"__ndarray__\":\"k/ysl6mKuz8xcTOk4nPgPwAAAAAAAPh/ZqrsVVA44D8xcTOk4nPgP/uGoMuxrd0/\",\"dtype\":\"float64\",\"order\":\"little\",\"shape\":[6]},{\"__ndarray__\":\"k/ysl6mKuz+QDRd1rgblPwAAAAAAAPh/XJl965AM4z+QDRd1rgblP2Ua8aT9CuQ/\",\"dtype\":\"float64\",\"order\":\"little\",\"shape\":[6]},{\"__ndarray__\":\"k/ysl6mKuz8zrLRKGefaPwAAAAAAAPh/wltN5zIh1z8zrLRKGefaP39sDSyladk/\",\"dtype\":\"float64\",\"order\":\"little\",\"shape\":[6]},{\"__ndarray__\":\"k/ysl6mKuz9AAjV+PuPfPwAAAAAAAPh/cEGU2ETM2z9AAjV+PuPfP2h8wZhUntw/\",\"dtype\":\"float64\",\"order\":\"little\",\"shape\":[6]},{\"__ndarray__\":\"TJ28dYV4Sz/fvnDOOejsvwAAAAAAAPh/sMnUaNxq67/fvnDOOejsvzfBf21t2Oq/\",\"dtype\":\"float64\",\"order\":\"little\",\"shape\":[6]},{\"__ndarray__\":\"TJ28dYV4Sz+fQCxF2eLkPwAAAAAAAPh/uU/wCgnD4z+fQCxF2eLkPzkzj+Jj3uI/\",\"dtype\":\"float64\",\"order\":\"little\",\"shape\":[6]},{\"__ndarray__\":\"TJ28dYV4Sz84R22SLfHCvwAAAAAAAPh/shqKcaAnvb84R22SLfHCv2SVzkIezsS/\",\"dtype\":\"float64\",\"order\":\"little\",\"shape\":[6]},{\"__ndarray__\":\"TJ28dYV4Sz/YGS3YFSDBPwAAAAAAAPh/xup5eDWwuT/YGS3YFSDBP63z4lpzFcM/\",\"dtype\":\"float64\",\"order\":\"little\",\"shape\":[6]},{\"__ndarray__\":\"TJ28dYV4Sz9AAjV+PuPfPwAAAAAAAPh/LAWIIyHE2z9AAjV+PuPfP+4kKej/FN0/\",\"dtype\":\"float64\",\"order\":\"little\",\"shape\":[6]},{\"__ndarray__\":\"TJ28dYV4Sz+QDRd1rgblPwAAAAAAAPh/Ajeq/roR4z+QDRd1rgblP7KkDp9AGuQ/\",\"dtype\":\"float64\",\"order\":\"little\",\"shape\":[6]},{\"__ndarray__\":\"TJ28dYV4Sz/eZfMD0X7mvwAAAAAAAPh/uiPSBJOX5L/eZfMD0X7mv3c6m977teW/\",\"dtype\":\"float64\",\"order\":\"little\",\"shape\":[6]},{\"__ndarray__\":\"TJ28dYV4Sz+flWXBtsPcPwAAAAAAAPh/pOUjdIG72D+flWXBtsPcP6chsnXvhto/\",\"dtype\":\"float64\",\"order\":\"little\",\"shape\":[6]},{\"__ndarray__\":\"7EHHEGic2D8TY6Vdso7YPwAAAAAAAPh/hf/y1bwK1z8TY6Vdso7YPwKKoG29Mto/\",\"dtype\":\"float64\",\"order\":\"little\",\"shape\":[6]},{\"__ndarray__\":\"7EHHEGic2D9TrBqr4DnfPwAAAAAAAPh/7irnYAQi2z9TrBqr4DnfP8LTLIND+ds/\",\"dtype\":\"float64\",\"order\":\"little\",\"shape\":[6]},{\"__ndarray__\":\"rCnrrUl93D9Eo73zirfZPwAAAAAAAPh//rxx5aaP2z9Eo73zirfZP4KXTYiRadg/\",\"dtype\":\"float64\",\"order\":\"little\",\"shape\":[6]},{\"__ndarray__\":\"rCnrrUl93D9TrBqr4DnfPwAAAAAAAPh/qnuMGq1i3T9TrBqr4DnfP6fzRzloROA/\",\"dtype\":\"float64\",\"order\":\"little\",\"shape\":[6]},{\"__ndarray__\":\"U6waq+A53z8D8xkq6JTePwAAAAAAAPh/Qzv3WrKS4D8D8xkq6JTeP+DK/nRfHN4/\",\"dtype\":\"float64\",\"order\":\"little\",\"shape\":[6]},{\"__ndarray__\":\"0DpEhfAxfL/sQccQaJzYPwAAAAAAAPh/ySjShMul1D/sQccQaJzYP6xT8lSVndY/\",\"dtype\":\"float64\",\"order\":\"little\",\"shape\":[6]},{\"__ndarray__\":\"0DpEhfAxfL+sKeutSX3cPwAAAAAAAPh/rDUr7h4H2j+sKeutSX3cP0oyFSimaNg/\",\"dtype\":\"float64\",\"order\":\"little\",\"shape\":[6]},{\"__ndarray__\":\"0DpEhfAxfL9TrBqr4DnfPwAAAAAAAPh/kRCAC0gx2z9TrBqr4DnfP5kq4XWL+9w/\",\"dtype\":\"float64\",\"order\":\"little\",\"shape\":[6]},{\"__ndarray__\":\"0DpEhfAxfL8TY6Vdso7YPwAAAAAAAPh/8fAShRKx1D8TY6Vdso7YP99Q3i4t19Y/\",\"dtype\":\"float64\",\"order\":\"little\",\"shape\":[6]},{\"__ndarray__\":\"0DpEhfAxfL9Trc/v8ertvwAAAAAAAPh/F5w7kSfb679Trc/v8ertv+qKNmAlfuy/\",\"dtype\":\"float64\",\"order\":\"little\",\"shape\":[6]},{\"__ndarray__\":\"HjRRLG1jwz+T/KyXqYq7PwAAAAAAAPh/vPauAAIeuD+T/KyXqYq7P0r8toYPRMI/\",\"dtype\":\"float64\",\"order\":\"little\",\"shape\":[6]},{\"__ndarray__\":\"HjRRLG1jwz/sQccQaJzYPwAAAAAAAPh//ozpOWpt1T/sQccQaJzYPzluBe3HNtg/\",\"dtype\":\"float64\",\"order\":\"little\",\"shape\":[6]},{\"__ndarray__\":\"HjRRLG1jwz+sKeutSX3cPwAAAAAAAPh/FT/8qNnD2T+sKeutSX3cP+AK7DmXX9g/\",\"dtype\":\"float64\",\"order\":\"little\",\"shape\":[6]},{\"__ndarray__\":\"HjRRLG1jwz9TrBqr4DnfPwAAAAAAAPh/K3/VPI232z9TrBqr4DnfP1naEcD7Rt4/\",\"dtype\":\"float64\",\"order\":\"little\",\"shape\":[6]},{\"__ndarray__\":\"HjRRLG1jwz/QOkSF8DF8vwAAAAAAAPh/2F5Mr135mD/QOkSF8DF8v+jvfc2KMqw/\",\"dtype\":\"float64\",\"order\":\"little\",\"shape\":[6]},{\"__ndarray__\":\"HjRRLG1jwz/Wn1OG48HWvwAAAAAAAPh/suNTEspn07/Wn1OG48HWvxJwQZ4jFta/\",\"dtype\":\"float64\",\"order\":\"little\",\"shape\":[6]},{\"__ndarray__\":\"HjRRLG1jwz8TY6Vdso7YPwAAAAAAAPh/0K9o0x1/1T8TY6Vdso7YP16FpOkHWdg/\",\"dtype\":\"float64\",\"order\":\"little\",\"shape\":[6]},{\"__ndarray__\":\"VwcPBZCA3z8D8xkq6JTePwAAAAAAAPh/B2wqKWlP3T8D8xkq6JTeP/eRLax9OuA/\",\"dtype\":\"float64\",\"order\":\"little\",\"shape\":[6]},{\"__ndarray__\":\"VwcPBZCA3z8iBkwNaj/cPwAAAAAAAPh/ERdHSNkU2z8iBkwNaj/cPw4Qv19sON4/\",\"dtype\":\"float64\",\"order\":\"little\",\"shape\":[6]},{\"__ndarray__\":\"VwcPBZCA3z8zeEsKNN7ePwAAAAAAAPh/tcbKszla3T8zeEsKNN7eP/4FDy4dQeA/\",\"dtype\":\"float64\",\"order\":\"little\",\"shape\":[6]},{\"__ndarray__\":\"VwcPBZCA3z8Ms14vfwPgPwAAAAAAAPh/eYZt/ArJ4D8Ms14vfwPgP08TnhoCat4/\",\"dtype\":\"float64\",\"order\":\"little\",\"shape\":[6]},{\"__ndarray__\":\"VwcPBZCA3z/lYFHHEDvfPwAAAAAAAPh/9pq23G+13T/lYFHHEDvfP1vLgfi6buA/\",\"dtype\":\"float64\",\"order\":\"little\",\"shape\":[6]},{\"__ndarray__\":\"VwcPBZCA3z+QDRd1rgblPwAAAAAAAPh/9I/Tt+Cb4z+QDRd1rgblP/gZiShSFeU/\",\"dtype\":\"float64\",\"order\":\"little\",\"shape\":[6]},{\"__ndarray__\":\"VwcPBZCA3z/6IjNmIDzRPwAAAAAAAPh/P+Qdb9z00D/6IjNmIDzRPxIfryKh8tM/\",\"dtype\":\"float64\",\"order\":\"little\",\"shape\":[6]},{\"__ndarray__\":\"VwcPBZCA3z8CAzaOxVLkPwAAAAAAAPh/5LgRA5W95D8CAzaOxVLkP0dcHiO4MOM/\",\"dtype\":\"float64\",\"order\":\"little\",\"shape\":[6]},{\"__ndarray__\":\"5WBRxxA73z8D8xkq6JTePwAAAAAAAPh/ZD0nV7tB4D8D8xkq6JTeP4zRCZH6Xt0/\",\"dtype\":\"float64\",\"order\":\"little\",\"shape\":[6]},{\"__ndarray__\":\"5WBRxxA73z/6IjNmIDzRPwAAAAAAAPh/W0f72CjM0T/6IjNmIDzRP6Kk7HuXhdQ/\",\"dtype\":\"float64\",\"order\":\"little\",\"shape\":[6]},{\"__ndarray__\":\"5WBRxxA73z9CMXTAuB/oPwAAAAAAAPh/H06jpPOJ5z9CMXTAuB/oPy4kWFDbT+Y/\",\"dtype\":\"float64\",\"order\":\"little\",\"shape\":[6]},{\"__ndarray__\":\"M6y0Shnn2j8D8xkq6JTePwAAAAAAAPh/MQCUubyD3j8D8xkq6JTeP+jSHF1Ents/\",\"dtype\":\"float64\",\"order\":\"little\",\"shape\":[6]},{\"__ndarray__\":\"M6y0Shnn2j9XBw8FkIDfPwAAAAAAAPh/NgD5BkEY4D9XBw8FkIDfP4DBKuPQHN0/\",\"dtype\":\"float64\",\"order\":\"little\",\"shape\":[6]},{\"__ndarray__\":\"M6y0Shnn2j/lYFHHEDvfPwAAAAAAAPh/O0i3Yhs93D/lYFHHEDvfPxok39mUG9s/\",\"dtype\":\"float64\",\"order\":\"little\",\"shape\":[6]},{\"__ndarray__\":\"M6y0Shnn2j+QDRd1rgblPwAAAAAAAPh/jU2TSwX44j+QDRd1rgblP6p/sY4WrOM/\",\"dtype\":\"float64\",\"order\":\"little\",\"shape\":[6]},{\"__ndarray__\":\"M6y0Shnn2j/6IjNmIDzRPwAAAAAAAPh/2m5oxUJO0T/6IjNmIDzRP50oUeNvM9Q/\",\"dtype\":\"float64\",\"order\":\"little\",\"shape\":[6]},{\"__ndarray__\":\"n5VlwbbD3D8D8xkq6JTePwAAAAAAAPh/Wc6hNxZ92j8D8xkq6JTePxBM/EcXVNs/\",\"dtype\":\"float64\",\"order\":\"little\",\"shape\":[6]},{\"__ndarray__\":\"QAI1fj7j3z8D8xkq6JTePwAAAAAAAPh/6JdIQjPj3T8D8xkq6JTeP5M8qCmZe+A/\",\"dtype\":\"float64\",\"order\":\"little\",\"shape\":[6]},{\"__ndarray__\":\"QAI1fj7j3z9XBw8FkIDfPwAAAAAAAPh/7FzlIgGq4D9XBw8FkIDfP1GV/S+nLd4/\",\"dtype\":\"float64\",\"order\":\"little\",\"shape\":[6]},{\"__ndarray__\":\"A+dJUdsb1z8D8xkq6JTePwAAAAAAAPh/QyqsREOt2j8D8xkq6JTeP30o7atkwtw/\",\"dtype\":\"float64\",\"order\":\"little\",\"shape\":[6]},{\"__ndarray__\":\"A+dJUdsb1z+9y02ItOPPPwAAAAAAAPh/AJCcCljV0z+9y02ItOPPP8mS/+j1uNE/\",\"dtype\":\"float64\",\"order\":\"little\",\"shape\":[6]},{\"__ndarray__\":\"fHPj7W9S2j8D8xkq6JTePwAAAAAAAPh/mH7udlx/2j8D8xkq6JTeP7JRfaOjGdw/\",\"dtype\":\"float64\",\"order\":\"little\",\"shape\":[6]},{\"__ndarray__\":\"LAo+Zkza3j8D8xkq6JTePwAAAAAAAPh/F2blMxuC3T8D8xkq6JTeP0wRQA+7UeA/\",\"dtype\":\"float64\",\"order\":\"little\",\"shape\":[6]},{\"__ndarray__\":\"E2OlXbKO2D/lYFHHEDvfPwAAAAAAAPh/2nFC2Gkc2z/lYFHHEDvfP9FcfjzZdNw/\",\"dtype\":\"float64\",\"order\":\"little\",\"shape\":[6]},{\"__ndarray__\":\"ytAfLZEJ2D+sKeutSX3cPwAAAAAAAPh/CSr4qH4Z3T+sKeutSX3cP6S3lGBcCdo/\",\"dtype\":\"float64\",\"order\":\"little\",\"shape\":[6]},{\"__ndarray__\":\"ytAfLZEJ2D9TrBqr4DnfPwAAAAAAAPh/jN1QeDGC3D9TrBqr4DnfP7dG7rWTf98/\",\"dtype\":\"float64\",\"order\":\"little\",\"shape\":[6]},{\"__ndarray__\":\"ytAfLZEJ2D8eNFEsbWPDPwAAAAAAAPh/uolRtKiLyz8eNFEsbWPDP+0K/6UMSsg/\",\"dtype\":\"float64\",\"order\":\"little\",\"shape\":[6]},{\"__ndarray__\":\"V6RoV/jG1D+sKeutSX3cPwAAAAAAAPh/8KfjZrct2T+sKeutSX3cP4UgD+m+aNg/\",\"dtype\":\"float64\",\"order\":\"little\",\"shape\":[6]},{\"__ndarray__\":\"b3LXUZRI2z9TrBqr4DnfPwAAAAAAAPh/0gLmZNoo3D9TrBqr4DnfPycS5rIOAt8/\",\"dtype\":\"float64\",\"order\":\"little\",\"shape\":[6]},{\"__ndarray__\":\"b3LXUZRI2z9XBw8FkIDfPwAAAAAAAPh//AMFyNB23j9XBw8FkIDfP6kH4IEW8ts/\",\"dtype\":\"float64\",\"order\":\"little\",\"shape\":[6]},{\"__ndarray__\":\"RajmMj0ocj/QOkSF8DF8vwAAAAAAAPh/O2QO+WN9oD/QOkSF8DF8v4RVpegsr4+/\",\"dtype\":\"float64\",\"order\":\"little\",\"shape\":[6]},{\"__ndarray__\":\"m+8a9aDbtz+rOHUxE1/TvwAAAAAAAPh/1ASDUfR80L+rOHUxE1/Tv9LhQFGWfs6/\",\"dtype\":\"float64\",\"order\":\"little\",\"shape\":[6]},{\"__ndarray__\":\"m+8a9aDbtz/lYFHHEDvfPwAAAAAAAPh/rNGDeIJc3D/lYFHHEDvfP0CglB5aG9s/\",\"dtype\":\"float64\",\"order\":\"little\",\"shape\":[6]},{\"__ndarray__\":\"Azjfpt2U3D9XBw8FkIDfPwAAAAAAAPh/29cGv55i2z9XBw8FkIDfP5PNkVx4atw/\",\"dtype\":\"float64\",\"order\":\"little\",\"shape\":[6]},{\"__ndarray__\":\"G1RaApdu4T9XBw8FkIDfPwAAAAAAAPh/m7hTlqeW4T9XBw8FkIDfPxyYxdtftuE/\",\"dtype\":\"float64\",\"order\":\"little\",\"shape\":[6]},{\"__ndarray__\":\"xI8SKuhi3D9XBw8FkIDfPwAAAAAAAPh/jnj6lj2I2z9XBw8FkIDfP5DhYW9IfN0/\",\"dtype\":\"float64\",\"order\":\"little\",\"shape\":[6]},{\"__ndarray__\":\"tpylGrep2T/lYFHHEDvfPwAAAAAAAPh/a5vDOwEr2z/lYFHHEDvfP1efZFpC3Nw/\",\"dtype\":\"float64\",\"order\":\"little\",\"shape\":[6]},{\"__ndarray__\":\"/fezTZFUyr84R22SLfHCvwAAAAAAAPh/QANu7NW9wL84R22SLfHCv5pWCpPqAce/\",\"dtype\":\"float64\",\"order\":\"little\",\"shape\":[6]},{\"__ndarray__\":\"/fezTZFUyr/PKWGe9pPLvwAAAAAAAPh/dnUbpUh8zr/PKWGe9pPLv3iCO8vpLMi/\",\"dtype\":\"float64\",\"order\":\"little\",\"shape\":[6]},{\"__ndarray__\":\"/fezTZFUyr8RwOva+ivRvwAAAAAAAPh/01e8Y6UR0r8RwOva+ivRvyFQ8FpQ682/\",\"dtype\":\"float64\",\"order\":\"little\",\"shape\":[6]},{\"__ndarray__\":\"MzioPmCK0b84R22SLfHCvwAAAAAAAPh/YO85eHrgwL84R22SLfHCv2hetDn4IMe/\",\"dtype\":\"float64\",\"order\":\"little\",\"shape\":[6]},{\"__ndarray__\":\"MzioPmCK0b9NaIZ4INjtvwAAAAAAAPh/NMHsQCnf679NaIZ4INjtvwf5JpTz3+y/\",\"dtype\":\"float64\",\"order\":\"little\",\"shape\":[6]},{\"__ndarray__\":\"MzioPmCK0b+nMH3UzHrevwAAAAAAAPh/O0lN24QM37+nMH3UzHrev/UW/LRi/tu/\",\"dtype\":\"float64\",\"order\":\"little\",\"shape\":[6]},{\"__ndarray__\":\"MzioPmCK0b+Onu8k6vvHvwAAAAAAAPh//GrFs+KYxb+Onu8k6vvHvz6WPuUr4cu/\",\"dtype\":\"float64\",\"order\":\"little\",\"shape\":[6]},{\"__ndarray__\":\"MzioPmCK0b8GZ2yrySzAPwAAAAAAAPh//CmsjpuBsz8GZ2yrySzAPyEdA575lr4/\",\"dtype\":\"float64\",\"order\":\"little\",\"shape\":[6]},{\"__ndarray__\":\"MzioPmCK0b+uzFcF3ZCqvwAAAAAAAPh/6Ua17/Ygt7+uzFcF3ZCqv34HDiTyxKW/\",\"dtype\":\"float64\",\"order\":\"little\",\"shape\":[6]},{\"__ndarray__\":\"jQh/8ynE1L84R22SLfHCvwAAAAAAAPh/sCjdfu47wr84R22SLfHCv0NUAu2zQMi/\",\"dtype\":\"float64\",\"order\":\"little\",\"shape\":[6]},{\"__ndarray__\":\"jQh/8ynE1L/997NNkVTKvwAAAAAAAPh/x0JTFdSJzr/997NNkVTKv5t6laBLKdG/\",\"dtype\":\"float64\",\"order\":\"little\",\"shape\":[6]},{\"__ndarray__\":\"jQh/8ynE1L8bLb5xkjbbvwAAAAAAAPh/Q/ZAE+jW2L8bLb5xkjbbvzcH9cNx69u/\",\"dtype\":\"float64\",\"order\":\"little\",\"shape\":[6]},{\"__ndarray__\":\"jQh/8ynE1L8eUmuvkjbGvwAAAAAAAPh/MtoPkNXBzL8eUmuvkjbGv/y3xgcbSse/\",\"dtype\":\"float64\",\"order\":\"little\",\"shape\":[6]},{\"__ndarray__\":\"jQh/8ynE1L+7Ex8tqa2kPwAAAAAAAPh/bHIsLpgdoD+7Ex8tqa2kP0RiYoq9noa/\",\"dtype\":\"float64\",\"order\":\"little\",\"shape\":[6]},{\"__ndarray__\":\"jQh/8ynE1L/u0b+OcI7mvwAAAAAAAPh/yTSpJfOO5r/u0b+OcI7mv4ohzm2AGeW/\",\"dtype\":\"float64\",\"order\":\"little\",\"shape\":[6]},{\"__ndarray__\":\"0sNeyEly0T84R22SLfHCvwAAAAAAAPh/h4GzxDdFt784R22SLfHCv+mA/Etke8C/\",\"dtype\":\"float64\",\"order\":\"little\",\"shape\":[6]},{\"__ndarray__\":\"0sNeyEly0T+KZR20L1XRPwAAAAAAAPh/ROpdDpPt0j+KZR20L1XRP7ag1w/xis8/\",\"dtype\":\"float64\",\"order\":\"little\",\"shape\":[6]},{\"__ndarray__\":\"0sNeyEly0T/PKWGe9pPLvwAAAAAAAPh/TfWTMzphxr/PKWGe9pPLv/c37ceXX8O/\",\"dtype\":\"float64\",\"order\":\"little\",\"shape\":[6]},{\"__ndarray__\":\"0sNeyEly0T/sAlZnzq/mPwAAAAAAAPh/OvATqpi75D/sAlZnzq/mP8ulIS53xeU/\",\"dtype\":\"float64\",\"order\":\"little\",\"shape\":[6]},{\"__ndarray__\":\"0sNeyEly0T93y3v307DpPwAAAAAAAPh/kL8yigCh5z93y3v307DpP1JzF7djNOg/\",\"dtype\":\"float64\",\"order\":\"little\",\"shape\":[6]},{\"__ndarray__\":\"/gKWpCUVwL84R22SLfHCvwAAAAAAAPh/Ui6vutbRvr84R22SLfHCv4Ey2TQjt8W/\",\"dtype\":\"float64\",\"order\":\"little\",\"shape\":[6]},{\"__ndarray__\":\"/gKWpCUVwL/dzj33BofJvwAAAAAAAPh/Nz3vKdMVy7/dzj33BofJv/BlJH6x5sS/\",\"dtype\":\"float64\",\"order\":\"little\",\"shape\":[6]},{\"__ndarray__\":\"/gKWpCUVwL/PKWGe9pPLvwAAAAAAAPh/jHzDkwaPzL/PKWGe9pPLv2Gy5/Liesa/\",\"dtype\":\"float64\",\"order\":\"little\",\"shape\":[6]},{\"__ndarray__\":\"/gKWpCUVwL/Q3jyxXhPBPwAAAAAAAPh/t0S5UBkUvz/Q3jyxXhPBPzaTBWxehLQ/\",\"dtype\":\"float64\",\"order\":\"little\",\"shape\":[6]},{\"__ndarray__\":\"/gKWpCUVwL8RwOva+ivRvwAAAAAAAPh/p1EAcBpN0b8RwOva+ivRvxQiDr5Xssy/\",\"dtype\":\"float64\",\"order\":\"little\",\"shape\":[6]},{\"__ndarray__\":\"P+F5RQTQyb84R22SLfHCvwAAAAAAAPh/CezYRdIwy784R22SLfHCv/c+E+ynu8i/\",\"dtype\":\"float64\",\"order\":\"little\",\"shape\":[6]},{\"__ndarray__\":\"o+RIcnk/oL84R22SLfHCvwAAAAAAAPh/3uqg8sP6vb84R22SLfHCv8ZZNABeRMW/\",\"dtype\":\"float64\",\"order\":\"little\",\"shape\":[6]},{\"__ndarray__\":\"o+RIcnk/oL/YnSASGHF1vwAAAAAAAPh/lkh01+idoL/YnSASGHF1v8xB8oTOOZE/\",\"dtype\":\"float64\",\"order\":\"little\",\"shape\":[6]},{\"__ndarray__\":\"o+RIcnk/oL9QWPrP2IHFvwAAAAAAAPh/rLpp6TjXxr9QWPrP2IHFv/LGvkeuscC/\",\"dtype\":\"float64\",\"order\":\"little\",\"shape\":[6]},{\"__ndarray__\":\"o+RIcnk/oL+eUtnghkfRPwAAAAAAAPh/KLozu5rNyz+eUtnghkfRPxZvHZN7kNA/\",\"dtype\":\"float64\",\"order\":\"little\",\"shape\":[6]},{\"__ndarray__\":\"o+RIcnk/oL8GZ2yrySzAPwAAAAAAAPh/SP2m1GEPtj8GZ2yrySzAP+MmCYGeGME/\",\"dtype\":\"float64\",\"order\":\"little\",\"shape\":[6]},{\"__ndarray__\":\"o+RIcnk/oL/PKWGe9pPLvwAAAAAAAPh/aLSJkfABxb/PKWGe9pPLvyT2DUBidcq/\",\"dtype\":\"float64\",\"order\":\"little\",\"shape\":[6]},{\"__ndarray__\":\"oBBwT0aky784R22SLfHCvwAAAAAAAPh/DenXorSAwL84R22SLfHCv3snXFsFysa/\",\"dtype\":\"float64\",\"order\":\"little\",\"shape\":[6]},{\"__ndarray__\":\"oBBwT0aky78+7oNpbjLnPwAAAAAAAPh/4MhfX1Za5T8+7oNpbjLnP2q2Lc6HPeU/\",\"dtype\":\"float64\",\"order\":\"little\",\"shape\":[6]},{\"__ndarray__\":\"oBBwT0aky7+4a1CNacTovwAAAAAAAPh/7AsVoKi+5r+4a1CNacTov5Budzk6n+e/\",\"dtype\":\"float64\",\"order\":\"little\",\"shape\":[6]},{\"__ndarray__\":\"oBBwT0aky7/7qpLkPsbovwAAAAAAAPh/0JgmLbBh6L/7qpLkPsbov+HunCitEOe/\",\"dtype\":\"float64\",\"order\":\"little\",\"shape\":[6]},{\"__ndarray__\":\"3idwFWHTzT84R22SLfHCvwAAAAAAAPh/BFgoE5qfuL84R22SLfHCv7ILPPVBucG/\",\"dtype\":\"float64\",\"order\":\"little\",\"shape\":[6]},{\"__ndarray__\":\"3idwFWHTzT+gKFFwPrDjPwAAAAAAAPh/hi9HhTsH4j+gKFFwPrDjP1bjxj0nYeM/\",\"dtype\":\"float64\",\"order\":\"little\",\"shape\":[6]},{\"__ndarray__\":\"eAJRuQzExb84R22SLfHCvwAAAAAAAPh/+Jd4pQhpwr84R22SLfHCv4XlkZ7/Ysi/\",\"dtype\":\"float64\",\"order\":\"little\",\"shape\":[6]},{\"__ndarray__\":\"zylhnvaTy784R22SLfHCvwAAAAAAAPh/4xHdrdt2wL84R22SLfHCv6hA9iriwMa/\",\"dtype\":\"float64\",\"order\":\"little\",\"shape\":[6]},{\"__ndarray__\":\"zylhnvaTy7/QWKB0GxfRvwAAAAAAAPh/nmOIPwF20r/QWKB0GxfRv8VCOaYins6/\",\"dtype\":\"float64\",\"order\":\"little\",\"shape\":[6]},{\"__ndarray__\":\"zylhnvaTy7/////////vvwAAAAAAAPh/9jbbsM0v7r/////////vvwkPYaX2Be6/\",\"dtype\":\"float64\",\"order\":\"little\",\"shape\":[6]},{\"__ndarray__\":\"zylhnvaTy7/Hq9HMw3PIvwAAAAAAAPh/lSeZzYyIxb/Hq9HMw3PIv0SS9OX+18u/\",\"dtype\":\"float64\",\"order\":\"little\",\"shape\":[6]},{\"__ndarray__\":\"zylhnvaTy78GZ2yrySzAPwAAAAAAAPh/sDp8Ko/dtD8GZ2yrySzAPzXYKjVUTcA/\",\"dtype\":\"float64\",\"order\":\"little\",\"shape\":[6]},{\"__ndarray__\":\"zylhnvaTy7/Q3jyxXhPBPwAAAAAAAPh/E3f+zaySwD/Q3jyxXhPBPxeOudXly7U/\",\"dtype\":\"float64\",\"order\":\"little\",\"shape\":[6]},{\"__ndarray__\":\"EcDr2vor0b/PKWGe9pPLvwAAAAAAAPh/7llVNQ1rzr/PKWGe9pPLv/4m7iP+h9G/\",\"dtype\":\"float64\",\"order\":\"little\",\"shape\":[6]},{\"__ndarray__\":\"BjkuiyJtyr/997NNkVTKvwAAAAAAAPh/AaxRpgmVzb/997NNkVTKvz6D+e3wRMe/\",\"dtype\":\"float64\",\"order\":\"little\",\"shape\":[6]},{\"__ndarray__\":\"hvOGeNl5yr/997NNkVTKvwAAAAAAAPh/tDfPH3o7x7/997NNkVTKv+FOrwmni82/\",\"dtype\":\"float64\",\"order\":\"little\",\"shape\":[6]},{\"__ndarray__\":\"hvOGeNl5yr/PKWGe9pPLvwAAAAAAAPh/ZINCKmpMzr/PKWGe9pPLv0TAwJrH/se/\",\"dtype\":\"float64\",\"order\":\"little\",\"shape\":[6]},{\"__ndarray__\":\"c0KZHqA40L/997NNkVTKvwAAAAAAAPh/XXns/JFD0b/997NNkVTKvwIjDo9Des+/\",\"dtype\":\"float64\",\"order\":\"little\",\"shape\":[6]},{\"__ndarray__\":\"ZgEH1LzTzL/997NNkVTKvwAAAAAAAPh/OOtnJSAyyL/997NNkVTKv2a4n8aCdM6/\",\"dtype\":\"float64\",\"order\":\"little\",\"shape\":[6]},{\"__ndarray__\":\"ZgEH1LzTzL/PKWGe9pPLvwAAAAAAAPh/I7WA9Ig3z7/PKWGe9pPLvyfv/qCj6si/\",\"dtype\":\"float64\",\"order\":\"little\",\"shape\":[6]},{\"__ndarray__\":\"5ppdllyly7/997NNkVTKvwAAAAAAAPh/7Wv4Nau6x7/997NNkVTKv/SticC3Bs6/\",\"dtype\":\"float64\",\"order\":\"little\",\"shape\":[6]},{\"__ndarray__\":\"5ppdllyly7/PKWGe9pPLvwAAAAAAAPh/0PCbtqjCzr/PKWGe9pPLvyOjNO9xcsi/\",\"dtype\":\"float64\",\"order\":\"little\",\"shape\":[6]},{\"__ndarray__\":\"PepMGJ0qzb/997NNkVTKvwAAAAAAAPh/ySDVKSYD0L/997NNkVTKv6kdy5f+Isq/\",\"dtype\":\"float64\",\"order\":\"little\",\"shape\":[6]},{\"__ndarray__\":\"q+VmVwXJx7/997NNkVTKvwAAAAAAAPh/vBemNpFeyr/997NNkVTKv4KTt6l1hsS/\",\"dtype\":\"float64\",\"order\":\"little\",\"shape\":[6]},{\"__ndarray__\":\"0wVcidemz7/997NNkVTKvwAAAAAAAPh/zusi0fPd0L/997NNkVTKv72eUGRh/sy/\",\"dtype\":\"float64\",\"order\":\"little\",\"shape\":[6]},{\"__ndarray__\":\"jp7vJOr7x794AlG5DMTFvwAAAAAAAPh/vOH1Uey6y794AlG5DMTFv4kRtiE69MW/\",\"dtype\":\"float64\",\"order\":\"little\",\"shape\":[6]},{\"__ndarray__\":\"l/ZrYHhx1L8zOKg+YIrRvwAAAAAAAPh/jFWca1XW0r8zOKg+YIrRv1ez8hDYOdW/\",\"dtype\":\"float64\",\"order\":\"little\",\"shape\":[6]},{\"__ndarray__\":\"tb8PRoVb1b8zOKg+YIrRvwAAAAAAAPh/lUX3qoYe1L8zOKg+YIrRv1woaMHYo9W/\",\"dtype\":\"float64\",\"order\":\"little\",\"shape\":[6]},{\"__ndarray__\":\"2OmeDzv30r8zOKg+YIrRvwAAAAAAAPh/PjAII5Fe0b8zOKg+YIrRv+S0CGdaVdS/\",\"dtype\":\"float64\",\"order\":\"little\",\"shape\":[6]},{\"__ndarray__\":\"HlJrr5I2xr/PKWGe9pPLvwAAAAAAAPh/tRfx1oxHxL/PKWGe9pPLvz+2TZWaIsm/\",\"dtype\":\"float64\",\"order\":\"little\",\"shape\":[6]},{\"__ndarray__\":\"3c499waHyb/PKWGe9pPLvwAAAAAAAPh/pw1pcvbBxb/PKWGe9pPLv5QSCQx6mMu/\",\"dtype\":\"float64\",\"order\":\"little\",\"shape\":[6]},{\"__ndarray__\":\"p/xhX/cjxr/+ApakJRXAvwAAAAAAAPh/2MiP0o+Kvr/+ApakJRXAv35ApHEbUMW/\",\"dtype\":\"float64\",\"order\":\"little\",\"shape\":[6]},{\"__ndarray__\":\"p/xhX/cjxr/PKWGe9pPLvwAAAAAAAPh/btKVypa4zL/PKWGe9pPLv5A58HEXnMa/\",\"dtype\":\"float64\",\"order\":\"little\",\"shape\":[6]},{\"__ndarray__\":\"x990/+7DxL/+ApakJRXAvwAAAAAAAPh/bAxeiTF8vb/+ApakJRXAv3ROfTHv48S/\",\"dtype\":\"float64\",\"order\":\"little\",\"shape\":[6]},{\"__ndarray__\":\"x990/+7DxL/PKWGe9pPLvwAAAAAAAPh/AzbPGZI4zL/PKWGe9pPLvz2Hwsq0N8a/\",\"dtype\":\"float64\",\"order\":\"little\",\"shape\":[6]},{\"__ndarray__\":\"q+qXQ4/oh7+j5EhyeT+gvwAAAAAAAPh/jNoc1JXcjD+j5EhyeT+gv65ejKp7D6C/\",\"dtype\":\"float64\",\"order\":\"little\",\"shape\":[6]},{\"__ndarray__\":\"bWDH0uHZr7+j5EhyeT+gvwAAAAAAAPh/aMkljOdNp7+j5EhyeT+gv67f+aC0A7a/\",\"dtype\":\"float64\",\"order\":\"little\",\"shape\":[6]},{\"__ndarray__\":\"Sp4JZoS0o7+j5EhyeT+gvwAAAAAAAPh/ZtGBX6XAjb+j5EhyeT+gv0a02h5WQLC/\",\"dtype\":\"float64\",\"order\":\"little\",\"shape\":[6]},{\"__ndarray__\":\"TfhEONXJ0b+gEHBPRqTLvwAAAAAAAPh/hakyggDU0b+gEHBPRqTLv2jvsZy+7c+/\",\"dtype\":\"float64\",\"order\":\"little\",\"shape\":[6]},{\"__ndarray__\":\"LDl6RUpCzT/eJ3AVYdPNPwAAAAAAAPh/TZaWvGjnyT/eJ3AVYdPNP5aAmrKNF9A/\",\"dtype\":\"float64\",\"order\":\"little\",\"shape\":[6]},{\"__ndarray__\":\"2UScqQvi0T/eJ3AVYdPNPwAAAAAAAPh/K3IrWA9S0T/eJ3AVYdPNPzoi+By1+9I/\",\"dtype\":\"float64\",\"order\":\"little\",\"shape\":[6]},{\"__ndarray__\":\"e0v1dyWA0D/eJ3AVYdPNPwAAAAAAAPh/x1+kgqG6zj/eJ3AVYdPNP9tbfJOOIdI/\",\"dtype\":\"float64\",\"order\":\"little\",\"shape\":[6]},{\"__ndarray__\":\"+RJpd+m30T/eJ3AVYdPNPwAAAAAAAPh/04+7HaK30j/eJ3AVYdPNP5DxfJ+vutI/\",\"dtype\":\"float64\",\"order\":\"little\",\"shape\":[6]},{\"__ndarray__\":\"aRDKVQxJx794AlG5DMTFvwAAAAAAAPh/tURyTonaw794AlG5DMTFv6MHthFvFsq/\",\"dtype\":\"float64\",\"order\":\"little\",\"shape\":[6]},{\"__ndarray__\":\"pm1Og2HVxr/PKWGe9pPLvwAAAAAAAPh/OAci6X/Lyb/PKWGe9pPLvxmH9yJNn8S/\",\"dtype\":\"float64\",\"order\":\"little\",\"shape\":[6]},{\"__ndarray__\":\"ECAd3l/HyL/PKWGe9pPLvwAAAAAAAPh/hC2UuZU0xr/PKWGe9pPLvyzAvgt5NMy/\",\"dtype\":\"float64\",\"order\":\"little\",\"shape\":[6]},{\"__ndarray__\":\"cwri7rjU0b/PKWGe9pPLvwAAAAAAAPh/SVbsZzbW0b/PKWGe9pPLv0UAqrN0F9C/\",\"dtype\":\"float64\",\"order\":\"little\",\"shape\":[6]},{\"__ndarray__\":\"nxLk09KExr/PKWGe9pPLvwAAAAAAAPh/VCIQdQvWw7/PKWGe9pPLv3WExtojF8S/\",\"dtype\":\"float64\",\"order\":\"little\",\"shape\":[6]},{\"__ndarray__\":\"kNySZGgW07/PKWGe9pPLvwAAAAAAAPh/HiS/iEqt0b/PKWGe9pPLv+K0BibygtG/\",\"dtype\":\"float64\",\"order\":\"little\",\"shape\":[6]},{\"__ndarray__\":\"+WV3MkFAz7/PKWGe9pPLvwAAAAAAAPh/y9Mo1+YR0L/PKWGe9pPLv/ythfXo1NG/\",\"dtype\":\"float64\",\"order\":\"little\",\"shape\":[6]},{\"__ndarray__\":\"pZzWy2Oby7/PKWGe9pPLvwAAAAAAAPh/jfh9eopyyL/PKWGe9pPLv9O2NjDBws6/\",\"dtype\":\"float64\",\"order\":\"little\",\"shape\":[6]},{\"__ndarray__\":\"WIUsrEfK0L/PKWGe9pPLvwAAAAAAAPh/bGEUS5HCz7/PKWGe9pPLv1CVu6cHyNG/\",\"dtype\":\"float64\",\"order\":\"little\",\"shape\":[6]},{\"__ndarray__\":\"NYcxs5Cq0b/PKWGe9pPLvwAAAAAAAPh/3YoltBJN0b/PKWGe9pPLv1rmVvgszdG/\",\"dtype\":\"float64\",\"order\":\"little\",\"shape\":[6]},{\"__ndarray__\":\"j9qD+6BXw7/PKWGe9pPLvwAAAAAAAPh/jkFYsGgaxb/PKWGe9pPLv2SkOJzAYsO/\",\"dtype\":\"float64\",\"order\":\"little\",\"shape\":[6]},{\"__ndarray__\":\"BX4mfP0x0b/PKWGe9pPLvwAAAAAAAPh/2EPoBl7f0b/PKWGe9pPLv/aXXeQGFtG/\",\"dtype\":\"float64\",\"order\":\"little\",\"shape\":[6]},{\"__ndarray__\":\"a/xUevII07/PKWGe9pPLvwAAAAAAAPh/7u/QXpgn0b/PKWGe9pPLv6vO9wnE2tG/\",\"dtype\":\"float64\",\"order\":\"little\",\"shape\":[6]},{\"__ndarray__\":\"Qr3b6AxEzr/PKWGe9pPLvwAAAAAAAPh/isWRSraIy7/PKWGe9pPLv5FzYUaXsNC/\",\"dtype\":\"float64\",\"order\":\"little\",\"shape\":[6]},{\"__ndarray__\":\"G2owSIgAyr/PKWGe9pPLvwAAAAAAAPh/5/kOsx8jzb/PKWGe9pPLv9lH1nXv88a/\",\"dtype\":\"float64\",\"order\":\"little\",\"shape\":[6]},{\"__ndarray__\":\"JKjJppUgw7/PKWGe9pPLvwAAAAAAAPh/YJxlutedw7/PKWGe9pPLvygqXB0SbMS/\",\"dtype\":\"float64\",\"order\":\"little\",\"shape\":[6]},{\"__ndarray__\":\"5Yy9r6JC0r/PKWGe9pPLvwAAAAAAAPh/BeWfFa9j0L/PKWGe9pPLv5VbRhs25NG/\",\"dtype\":\"float64\",\"order\":\"little\",\"shape\":[6]},{\"__ndarray__\":\"HUqfAH5J0L/PKWGe9pPLvwAAAAAAAPh/XjqLDZND0b/PKWGe9pPLvymgF1y/Wc2/\",\"dtype\":\"float64\",\"order\":\"little\",\"shape\":[6]},{\"__ndarray__\":\"YTrfVgWCzb/PKWGe9pPLvwAAAAAAAPh/tUiMzrE30L/PKWGe9pPLvyt6kVlPTMq/\",\"dtype\":\"float64\",\"order\":\"little\",\"shape\":[6]},{\"__ndarray__\":\"JoKn3Qe00r/PKWGe9pPLvwAAAAAAAPh/WKUmj9bm0b/PKWGe9pPLv3Y9ZsSh6tC/\",\"dtype\":\"float64\",\"order\":\"little\",\"shape\":[6]},{\"__ndarray__\":\"3kjOXLN+xb/PKWGe9pPLvwAAAAAAAPh/8VYkbY4tx7/PKWGe9pPLv/gu11NyiMO/\",\"dtype\":\"float64\",\"order\":\"little\",\"shape\":[6]},{\"__ndarray__\":\"0PgJd30xz7/PKWGe9pPLvwAAAAAAAPh/ramBnxN0y7/PKWGe9pPLv/OT2X04qdC/\",\"dtype\":\"float64\",\"order\":\"little\",\"shape\":[6]},{\"__ndarray__\":\"xcraDs4a0L/PKWGe9pPLvwAAAAAAAPh/4a8nobeu0b/PKWGe9pPLvx55zCPyKM+/\",\"dtype\":\"float64\",\"order\":\"little\",\"shape\":[6]},{\"__ndarray__\":\"h4uZmtGaxL/PKWGe9pPLvwAAAAAAAPh/DKzHNFZlw7/PKWGe9pPLv6h5FoRRiMa/\",\"dtype\":\"float64\",\"order\":\"little\",\"shape\":[6]}]},\"selected\":{\"id\":\"1105\"},\"selection_policy\":{\"id\":\"1104\"}},\"id\":\"1046\",\"type\":\"ColumnDataSource\"},{\"attributes\":{\"data_source\":{\"id\":\"1071\"},\"glyph\":{\"id\":\"1075\"},\"hover_glyph\":{\"id\":\"1077\"},\"muted_glyph\":null,\"nonselection_glyph\":{\"id\":\"1076\"},\"selection_glyph\":null,\"view\":{\"id\":\"1079\"}},\"id\":\"1078\",\"type\":\"GlyphRenderer\"},{\"attributes\":{\"line_alpha\":{\"value\":0},\"line_color\":{\"value\":\"limegreen\"},\"line_width\":{\"value\":2}},\"id\":\"1055\",\"type\":\"MultiLine\"},{\"attributes\":{},\"id\":\"1104\",\"type\":\"UnionRenderers\"},{\"attributes\":{\"end\":0.9831189934759041,\"reset_end\":0.9831189934759041,\"reset_start\":-1.1802835448614457,\"start\":-1.1802835448614457,\"tags\":[[[\"y\",\"y\",null]]]},\"id\":\"1006\",\"type\":\"Range1d\"},{\"attributes\":{},\"id\":\"1026\",\"type\":\"SaveTool\"},{\"attributes\":{\"line_alpha\":{\"value\":0},\"line_width\":{\"value\":2}},\"id\":\"1053\",\"type\":\"MultiLine\"},{\"attributes\":{},\"id\":\"1110\",\"type\":\"UnionRenderers\"},{\"attributes\":{\"fill_color\":{\"value\":\"limegreen\"},\"size\":{\"field\":\"node_size\",\"units\":\"screen\"}},\"id\":\"1050\",\"type\":\"Circle\"},{\"attributes\":{},\"id\":\"1030\",\"type\":\"ResetTool\"},{\"attributes\":{\"data_source\":{\"id\":\"1045\"},\"glyph\":{\"id\":\"1048\"},\"hover_glyph\":{\"id\":\"1050\"},\"muted_glyph\":null,\"nonselection_glyph\":{\"id\":\"1049\"},\"selection_glyph\":null,\"view\":{\"id\":\"1052\"}},\"id\":\"1051\",\"type\":\"GlyphRenderer\"},{\"attributes\":{\"text\":\"\",\"text_color\":{\"value\":\"black\"},\"text_font_size\":{\"value\":\"12pt\"}},\"id\":\"1010\",\"type\":\"Title\"},{\"attributes\":{},\"id\":\"1067\",\"type\":\"NodesAndLinkedEdges\"},{\"attributes\":{\"active_drag\":\"auto\",\"active_inspect\":\"auto\",\"active_multi\":null,\"active_scroll\":\"auto\",\"active_tap\":\"auto\",\"tools\":[{\"id\":\"1007\"},{\"id\":\"1026\"},{\"id\":\"1027\"},{\"id\":\"1028\"},{\"id\":\"1029\"},{\"id\":\"1030\"},{\"id\":\"1031\"}]},\"id\":\"1033\",\"type\":\"Toolbar\"},{\"attributes\":{},\"id\":\"1069\",\"type\":\"NodesAndLinkedEdges\"},{\"attributes\":{\"data_source\":{\"id\":\"1073\"},\"glyph\":{\"id\":\"1080\"},\"hover_glyph\":{\"id\":\"1082\"},\"muted_glyph\":null,\"nonselection_glyph\":{\"id\":\"1081\"},\"selection_glyph\":null,\"view\":{\"id\":\"1084\"}},\"id\":\"1083\",\"type\":\"GlyphRenderer\"},{\"attributes\":{},\"id\":\"1014\",\"type\":\"LinearScale\"},{\"attributes\":{\"margin\":[5,5,5,5],\"name\":\"HSpacer01562\",\"sizing_mode\":\"stretch_width\"},\"id\":\"1004\",\"type\":\"Spacer\"},{\"attributes\":{\"edge_renderer\":{\"id\":\"1056\"},\"inspection_policy\":{\"id\":\"1069\"},\"layout_provider\":{\"id\":\"1047\"},\"node_renderer\":{\"id\":\"1051\"},\"selection_policy\":{\"id\":\"1067\"}},\"id\":\"1058\",\"type\":\"GraphRenderer\"},{\"attributes\":{\"graph_layout\":{\"0\":[0.10184584612739774,0.048684375716690605],\"1\":[0.3797008095424933,0.47783855544530257],\"10\":[-0.0515396318485651,0.15147175468374113],\"100\":[-0.2435133545353976,0.2578214332071906],\"101\":[-0.1985289484905143,0.27685009633232444],\"102\":[-0.6936604038533681,-0.1819167536633615],\"103\":[0.8913220247549635,-0.2670353545121431],\"104\":[0.017258942709414884,-0.9999999999999999],\"105\":[-0.8514168951522113,-0.19103286267212935],\"106\":[-0.11738828876700545,-0.17838686858600034],\"107\":[0.0023260329948206334,-0.19358442635916662],\"108\":[-0.10632031249582839,-0.27860854462065915],\"109\":[-0.0628268771057253,-0.17592845293269918],\"11\":[0.8265982361214324,-0.3026779158580079],\"110\":[-0.06876423582944281,-0.2982426626362633],\"111\":[-0.045119657776119475,-0.24414839710406946],\"112\":[0.0017273227337974172,-0.2156796212486586],\"113\":[-0.02903648460259178,-0.26234618963106504],\"114\":[-0.05469348735584392,-0.27603547572481385],\"115\":[-0.08260853081211388,-0.1511117199040268],\"116\":[-0.0781123644645631,-0.268676158180796],\"117\":[-0.04578263776797662,-0.297421092476674],\"118\":[-0.012950646981803647,-0.2364517342570967],\"119\":[-0.12437587886742166,-0.203141246079057],\"12\":[0.1987387501443127,0.4922218369866775],\"120\":[-0.05592643107432267,-0.14943190235072834],\"121\":[-0.026623080342055325,-0.28531710779334524],\"122\":[-0.12035305626304424,-0.25448560772670864],\"123\":[-0.12686738357689634,-0.2305304216556179],\"124\":[-0.08964412513282852,-0.2922382034867347],\"125\":[-0.09802360393150002,-0.1679290965226476],\"126\":[0.006791847964955487,-0.24369781792115086],\"127\":[-0.0967295312443503,-0.2516360421242719],\"128\":[-0.03323239181590867,-0.16097469376390114],\"13\":[0.48638439533893835,0.4879800745452612],\"14\":[0.5123353791479084,0.42035515113338134],\"15\":[-0.832594579981486,-0.14798516893147862],\"16\":[0.20787179082053953,0.7875178932008944],\"17\":[0.9241031031314045,0.13379166655995678],\"18\":[-0.32794221324172773,0.7666636472118012],\"19\":[0.86001402664003,0.2692948339504678],\"2\":[0.17652577681598913,0.24913651137793905],\"20\":[0.37186414932787015,0.4494454277649655],\"21\":[0.2899589210140037,0.49824487996014355],\"22\":[0.27719820128549405,0.3610752385935571],\"23\":[0.34047895776744264,0.4112815688256928],\"24\":[0.34715379586092754,0.48207387909511357],\"25\":[0.21155415758816123,-0.9769006896835591],\"26\":[-0.5492923902080129,0.5141461569833493],\"27\":[0.6301739973788015,0.6570656096377423],\"28\":[0.41343087199988077,-0.9033478767432505],\"29\":[-0.38554387460076633,0.6526914931328242],\"3\":[0.18479513401532588,0.10758457139034965],\"30\":[-0.6454309514615015,-0.7029805256999528],\"31\":[0.43725602904686645,0.38370951790925395],\"32\":[-0.8060689964707901,0.4018275623589498],\"33\":[0.08338344469038239,0.37558392912548],\"34\":[-0.16549604594382641,0.3246441701508664],\"35\":[0.2859675405770576,0.4263048934206272],\"36\":[0.11699049706388305,0.004432906206071567],\"37\":[-0.8673765549798342,-0.3555840312751547],\"38\":[0.6573608214285869,0.09319501861585737],\"39\":[0.6766011989300178,0.4413704995969018],\"4\":[0.06184433512534412,0.0008383418712342521],\"40\":[0.8019381848459046,0.48231221204139557],\"41\":[-0.695842826313336,0.5004268574899426],\"42\":[-0.5483442800992723,0.6351039674337644],\"43\":[0.18297464573765987,0.4465860490425941],\"44\":[0.194602358253572,0.5447497411684056],\"45\":[0.1603902192649518,0.44353679760592635],\"46\":[0.15781109270738283,0.7538722761978891],\"47\":[0.43113064463491474,0.400983596823106],\"48\":[-0.3643699568713295,-0.20570579809276515],\"49\":[0.06446475998983764,-0.27407079810007245],\"5\":[0.38638056995813336,0.38454629553328235],\"50\":[-0.27543395632885026,-0.3244728925602736],\"51\":[-0.32871783661110676,0.2726005989780421],\"52\":[-0.3845238128283886,-0.12564535652565917],\"53\":[-0.8552788015112677,-0.20166066543948521],\"54\":[0.24998050334094452,-0.0317342712409723],\"55\":[-0.09984307487290058,-0.2159507644538552],\"56\":[-0.19836334725610275,0.23301328226835855],\"57\":[-0.767805841351112,-0.17004546211866844],\"58\":[-0.06442006707695212,-0.21545298322082693],\"59\":[-0.007019636085716797,-0.2683093202495011],\"6\":[-0.19578101800039585,0.44514696106184704],\"60\":[-0.42425842919715995,-0.20645553394246735],\"61\":[-0.21636618088192955,-0.20684355149378691],\"62\":[-0.3907200735632449,-0.25345614421988855],\"63\":[-0.21626695767686288,-0.22521171906374632],\"64\":[-0.2216381852409609,-0.2159839376647234],\"65\":[-0.4216283887385485,-0.22786296545548793],\"66\":[-0.41302366254657885,-0.18582216994927356],\"67\":[-0.4116305455397264,-0.2472791119289882],\"68\":[-0.4776292619550467,-0.9326326707844231],\"69\":[0.8424480656411213,-0.4762451243484613],\"7\":[0.41494347958133976,0.48790756902116533],\"70\":[-0.8070843637050535,-0.1873753242828013],\"71\":[0.7981686110843467,0.12636681432996272],\"72\":[0.9463306078456036,-0.051886469747750893],\"73\":[0.11696342619386702,-0.31942567268547734],\"74\":[0.09725331255315327,-0.33371097413964473],\"75\":[0.12524519787104343,-0.2963397648378794],\"76\":[-0.7247502955107946,-0.4252058134813567],\"77\":[-0.013982658623000901,-0.17354043546096504],\"78\":[-0.8961156413178735,0.04038742709921147],\"79\":[0.6454844004270404,-0.7048876560280044],\"8\":[0.07428750135667476,-0.006883563550458674],\"80\":[-0.7282902627780655,0.27082436169947555],\"81\":[0.05258236802288673,0.7089607256203556],\"82\":[-0.12099126889899586,0.8028354486144583],\"83\":[-0.025509882039292994,-0.19943320343337848],\"84\":[-0.7798726312514342,0.13340362219036317],\"85\":[-0.22827030488839228,-0.1729726043449535],\"86\":[-0.22794132209797666,-0.16222941850150915],\"87\":[0.8605685830624666,-0.005234807993509581],\"88\":[0.8312062852619643,-0.1680251136319293],\"89\":[0.7238974935946999,0.2699906535902218],\"9\":[-0.3348396426255377,-0.934929817563367],\"90\":[0.2976424363118527,-0.011674041033065427],\"91\":[0.2937488039850507,-0.062209183673702075],\"92\":[0.30486278764432134,-0.038486611800916906],\"93\":[-0.16709200245207673,0.7249061642500647],\"94\":[-0.47291366302800053,-0.7739761123697155],\"95\":[0.7441993096261207,-0.774199911529052],\"96\":[-0.14519394319816922,-0.27794390196857394],\"97\":[0.4348971349341116,0.6152641481105725],\"98\":[-0.24130136547498424,0.22858551399662852],\"99\":[-0.22711988640762526,0.2794217258788883]}},\"id\":\"1074\",\"type\":\"StaticLayoutProvider\"},{\"attributes\":{\"source\":{\"id\":\"1073\"}},\"id\":\"1084\",\"type\":\"CDSView\"},{\"attributes\":{},\"id\":\"1111\",\"type\":\"Selection\"},{\"attributes\":{\"callback\":null},\"id\":\"1031\",\"type\":\"TapTool\"},{\"attributes\":{\"align\":null,\"below\":[{\"id\":\"1018\"}],\"center\":[{\"id\":\"1021\"},{\"id\":\"1025\"}],\"left\":[{\"id\":\"1022\"}],\"margin\":null,\"min_border_bottom\":10,\"min_border_left\":10,\"min_border_right\":10,\"min_border_top\":10,\"outline_line_alpha\":0,\"plot_height\":400,\"plot_width\":400,\"renderers\":[{\"id\":\"1058\"},{\"id\":\"1085\"}],\"sizing_mode\":\"fixed\",\"title\":{\"id\":\"1010\"},\"toolbar\":{\"id\":\"1033\"},\"x_range\":{\"id\":\"1005\"},\"x_scale\":{\"id\":\"1014\"},\"y_range\":{\"id\":\"1006\"},\"y_scale\":{\"id\":\"1016\"}},\"id\":\"1009\",\"subtype\":\"Figure\",\"type\":\"Plot\"},{\"attributes\":{},\"id\":\"1027\",\"type\":\"PanTool\"},{\"attributes\":{\"fill_alpha\":{\"value\":0},\"fill_color\":{\"value\":\"red\"},\"line_alpha\":{\"value\":0},\"size\":{\"field\":\"node_size\",\"units\":\"screen\"}},\"id\":\"1075\",\"type\":\"Circle\"},{\"attributes\":{\"children\":[{\"id\":\"1004\"},{\"id\":\"1009\"},{\"id\":\"1224\"}],\"margin\":[0,0,0,0],\"name\":\"Row01558\",\"tags\":[\"embedded\"]},\"id\":\"1003\",\"type\":\"Row\"},{\"attributes\":{\"source\":{\"id\":\"1046\"}},\"id\":\"1057\",\"type\":\"CDSView\"},{\"attributes\":{\"edge_renderer\":{\"id\":\"1083\"},\"inspection_policy\":{\"id\":\"1096\"},\"layout_provider\":{\"id\":\"1074\"},\"node_renderer\":{\"id\":\"1078\"},\"selection_policy\":{\"id\":\"1094\"}},\"id\":\"1085\",\"type\":\"GraphRenderer\"},{\"attributes\":{},\"id\":\"1108\",\"type\":\"UnionRenderers\"},{\"attributes\":{},\"id\":\"1106\",\"type\":\"UnionRenderers\"},{\"attributes\":{},\"id\":\"1107\",\"type\":\"Selection\"},{\"attributes\":{\"margin\":[5,5,5,5],\"name\":\"HSpacer01563\",\"sizing_mode\":\"stretch_width\"},\"id\":\"1224\",\"type\":\"Spacer\"},{\"attributes\":{},\"id\":\"1109\",\"type\":\"Selection\"},{\"attributes\":{},\"id\":\"1041\",\"type\":\"BasicTickFormatter\"},{\"attributes\":{\"axis_label\":\"y\",\"bounds\":\"auto\",\"formatter\":{\"id\":\"1043\"},\"major_label_orientation\":\"horizontal\",\"ticker\":{\"id\":\"1023\"},\"visible\":false},\"id\":\"1022\",\"type\":\"LinearAxis\"},{\"attributes\":{\"axis\":{\"id\":\"1022\"},\"dimension\":1,\"grid_line_color\":null,\"ticker\":null},\"id\":\"1025\",\"type\":\"Grid\"},{\"attributes\":{\"fill_color\":{\"value\":\"blue\"},\"size\":{\"field\":\"node_size\",\"units\":\"screen\"}},\"id\":\"1048\",\"type\":\"Circle\"},{\"attributes\":{\"callback\":null,\"renderers\":[{\"id\":\"1058\"},{\"id\":\"1085\"}],\"tooltips\":[[\"index\",\"@{index_hover}\"]]},\"id\":\"1007\",\"type\":\"HoverTool\"},{\"attributes\":{\"data_source\":{\"id\":\"1046\"},\"glyph\":{\"id\":\"1053\"},\"hover_glyph\":{\"id\":\"1055\"},\"muted_glyph\":null,\"nonselection_glyph\":{\"id\":\"1054\"},\"selection_glyph\":null,\"view\":{\"id\":\"1057\"}},\"id\":\"1056\",\"type\":\"GlyphRenderer\"},{\"attributes\":{\"source\":{\"id\":\"1045\"}},\"id\":\"1052\",\"type\":\"CDSView\"},{\"attributes\":{\"line_alpha\":{\"value\":0.2},\"line_width\":{\"value\":2}},\"id\":\"1081\",\"type\":\"MultiLine\"},{\"attributes\":{},\"id\":\"1023\",\"type\":\"BasicTicker\"},{\"attributes\":{\"line_color\":{\"field\":\"edge_line_color\",\"transform\":{\"id\":\"1072\"}},\"line_width\":{\"value\":2}},\"id\":\"1080\",\"type\":\"MultiLine\"},{\"attributes\":{\"line_alpha\":{\"value\":0},\"line_width\":{\"value\":2}},\"id\":\"1054\",\"type\":\"MultiLine\"},{\"attributes\":{\"fill_alpha\":{\"value\":0},\"fill_color\":{\"value\":\"#fc4f30\"},\"line_alpha\":{\"value\":0},\"size\":{\"field\":\"node_size\",\"units\":\"screen\"}},\"id\":\"1076\",\"type\":\"Circle\"},{\"attributes\":{\"data\":{\"index\":{\"__ndarray__\":\"AAAAAAEAAAACAAAAAwAAAAQAAAAFAAAABgAAAAcAAAAIAAAACQAAAAoAAAALAAAADAAAAA0AAAAOAAAADwAAABAAAAARAAAAEgAAABMAAAAUAAAAFQAAABYAAAAXAAAAGAAAABkAAAAaAAAAGwAAABwAAAAdAAAAHgAAAB8AAAAgAAAAIQAAACIAAAAjAAAAJAAAACUAAAAmAAAAJwAAACgAAAApAAAAKgAAACsAAAAsAAAALQAAAC4AAAAvAAAAMAAAADEAAAAyAAAAMwAAADQAAAA1AAAANgAAADcAAAA4AAAAOQAAADoAAAA7AAAAPAAAAD0AAAA+AAAAPwAAAEAAAABBAAAAQgAAAEMAAABEAAAARQAAAEYAAABHAAAASAAAAEkAAABKAAAASwAAAEwAAABNAAAATgAAAE8AAABQAAAAUQAAAFIAAABTAAAAVAAAAFUAAABWAAAAVwAAAFgAAABZAAAAWgAAAFsAAABcAAAAXQAAAF4AAABfAAAAYAAAAGEAAABiAAAAYwAAAGQAAABlAAAAZgAAAGcAAABoAAAAaQAAAGoAAABrAAAAbAAAAG0AAABuAAAAbwAAAHAAAABxAAAAcgAAAHMAAAB0AAAAdQAAAHYAAAB3AAAAeAAAAHkAAAB6AAAAewAAAHwAAAB9AAAAfgAAAH8AAACAAAAA\",\"dtype\":\"int32\",\"order\":\"little\",\"shape\":[129]},\"index_hover\":[\"KORE634712019\",\"JURE130010202\",\"KORE629092018\",\"KORE627792018\",\"KORE304862018\",\"KORE600102017\",\"JURE160006718\",\"JURE150016039\",\"KORE618122018\",\"JURE160020031\",\"KORE605192019\",\"JURE130000272\",\"KORE313582016\",\"JURE140006565\",\"KORE619142018\",\"JURE100065079\",\"JURE110022654\",\"JURE100072754\",\"JURE100060283\",\"JURE120016745\",\"JURE150000856\",\"JURE160014329\",\"KORE631092019\",\"KORE632702018\",\"JURE140006411\",\"JURE110023129\",\"JURE140004372\",\"JURE150003506\",\"JURE100069592\",\"KORE616652017\",\"JURE150009987\",\"JURE160012961\",\"JURE130014112\",\"KORE300462020\",\"KORE617182017\",\"KORE606252018\",\"KORE600092019\",\"KORE605182019\",\"JURE160015182\",\"JURE120010382\",\"JURE100061267\",\"JURE140004992\",\"JURE150002267\",\"KORE605662019\",\"KORE627552019\",\"KORE623942017\",\"JURE120006796\",\"JURE160012017\",\"JURE150002589\",\"JURE150001651\",\"KORE620182019\",\"KORE632042018\",\"JURE160006724\",\"KORE304162015\",\"JURE150008053\",\"KORE618052018\",\"JURE110009413\",\"JURE110015459\",\"JURE130006300\",\"JURE140011854\",\"JURE160007107\",\"KORE603292019\",\"KORE604472017\",\"JURE150016096\",\"KORE610002017\",\"KORE619912017\",\"KORE623622017\",\"KORE624692018\",\"JURE130018645\",\"JURE110004973\",\"JURE120009795\",\"JURE120021683\",\"JURE120021677\",\"JURE150012729\",\"JURE160003481\",\"KORE613462017\",\"KORE611872017\",\"JURE140012946\",\"JURE150002031\",\"JURE130005211\",\"JURE150003820\",\"JURE160006793\",\"JURE110021281\",\"JURE140010363\",\"JURE110019947\",\"KORE313142017\",\"KORE628912018\",\"JURE140010062\",\"JURE140006968\",\"JURE130014087\",\"JURE150009589\",\"JURE160003856\",\"JURE150013401\",\"JURE130015896\",\"JURE120006798\",\"JURE130016206\",\"KORE605362018\",\"JURE110000478\",\"JURE120023310\",\"KORE308972016\",\"KORE313102015\",\"KORE617612019\",\"JURE130014728\",\"JURE120001611\",\"JURE120004578\",\"JURE120010972\",\"JURE140007674\",\"JURE150008554\",\"KORE613902017\",\"JURE160020990\",\"KORE623112018\",\"JURE130021144\",\"JURE150005608\",\"KORE622292018\",\"KORE622422018\",\"KORE622602019\",\"KORE622862017\",\"JURE150000246\",\"JURE150002274\",\"KORE603062020\",\"KORE606322018\",\"KORE617162018\",\"KORE631122019\",\"JURE130018659\",\"KORE616592020\",\"KORE623032017\",\"KORE629562019\",\"KORE616792017\",\"KORE621962018\"],\"node_size\":{\"__ndarray__\":\"qkxY6Hq2+z+o9Jebd+MBQOr40ql/KgVAAAAAAAAACEA0b/2TcogKQPNZYUQr2AxA2k5Psd77DkAH7a9mD34QQPlNZDSDbxFAhR4VuY5UEkAWBHd17i4TQAAAAAAAABRAgDlCLtzIFEDz2aikaIoVQMPBaAVkRRZA8NBioW76FkAtwpPREKoXQDncY7O/VBhAitNaweD6GEAA/5+ZzJwZQGChHSrROhpA/O5jaTPVGkDmkzW4MGwbQAAAAAAAABxAzkMtndKQHEDp+3Yg1R4dQNjhqu8vqh1AXM9WzAczHkDbnltFfrkeQGh0TheyPR9AX3W8fr+/H0DQumE/4B8gQIvU+o7mXiBACdCOzf2cIEAG+5VNMNogQKMUrqiHFiFA6y830QxSIUDj09YhyIwhQHC4LWvBxiFAAAAAAAAAIkAonAXAijgiQJoukCFocCJA5tIsOp6nIkBBh2LGMt4iQKspqTArFCNAQAWxl4xJI0ChlQ/UW34jQGJWY32dsiNAZxP+7lXmI0DwKSNMiRkkQFNx5YM7TCRAiQmvVHB+JECICnxPK7AkQDf5z9pv4SRA4PZsNUESJUA20NJ4okIlQNhci5uWciVAdwNJcyCiJUDFrdu2QtElQAAAAAAAACZAvj4MzVouJkDS8X2CVVwmQNABa2zyiSZASMbYvzO3JkB1O/ubG+QmQDJeXgusECdAI3v7BOc8J0DgETxtzmgnQGzF6xZklCdAQLAaxKm/J0CEUvEmoeonQCY1d+JLFShAFUNNi6s/KEBGw1yowWkoQMHJe7OPkyhAiuMHGhe9KEC4sHc9WeYoQOQQ5HNXDylAxXiJCBM4KUBL+0E8jWApQJKF+EXHiClAzsIVU8KwKUAiFOeHf9gpQAAAAAAAACpA9XSWzkQnKkDeNNr+Tk4qQCS3R5QfdSpAvMr2irebKkBmO+XXF8IqQLS4PWlB6CpA9TibJjUOK0DvDUnx8zMrQKPdf6R+WStAyK2fFdZ+K0B8LWcU+6MrQLllKGvuyCtAYfb63rDtK0ApA+wvQxIsQGjxKxmmNixAkxU6UdpaLEBMbQ6K4H4sQPeAQXG5oixAIoYysGXGLECA2ivs5eksQKTthcY6DS1AZ67I3GQwLUCGj8vIZFMtQO811CA7di1AB+Kzd+iYLUAvpONcbbstQOhrn1zK3S1AAAAAAAAALkBg7RPNDiIuQFt590b3Qy5AjqPr7bllLkDFQmw/V4cuQKtHRbbPqC5Acy+nyiPKLkAosDryU+suQLOnM6BgDC9AQFZjRUotL0Am7ElQEU4vQA1zJy22bi9AqBkMRjmPL0Dy6OcCm68vQH3pmcnbzy9AH7/+/fvvL0BwYP8A/gcwQGPJzRruFzBA\",\"dtype\":\"float64\",\"order\":\"little\",\"shape\":[129]}},\"selected\":{\"id\":\"1107\"},\"selection_policy\":{\"id\":\"1106\"}},\"id\":\"1045\",\"type\":\"ColumnDataSource\"},{\"attributes\":{},\"id\":\"1019\",\"type\":\"BasicTicker\"},{\"attributes\":{\"source\":{\"id\":\"1071\"}},\"id\":\"1079\",\"type\":\"CDSView\"},{\"attributes\":{\"axis\":{\"id\":\"1018\"},\"grid_line_color\":null,\"ticker\":null},\"id\":\"1021\",\"type\":\"Grid\"},{\"attributes\":{\"data\":{\"edge_line_color\":[2,3,4,5,6,7,8,9,10,11,12,13,14,15,16,17,18,19,20,21,22,23,24,25,26,27,28,29,30,31,32,33,34,35,36,37,38,39,40,41,42,43,44,45,46,47,48,49,50,51,52,53,54,55,56,57,58,59,60,61,62,63,64,65,66,67,68,69,70,71,72,73,74,75,76,77,78,79,80,81,82,83,84,85,86,87,88,89,90,91,92,93,94,95,96,97,98,99,100,101,102,103,104,105,106,107,108,109,110,111,112,113,114,115,116,117,118,119,120,121,122,123,124,125,126,127,128,129,130,131,132,133,134,135,136,137,138,139,140,141,142,143,144,145,146,147,148,149,150,151,152,153,154,155,156,157,158,159,160,161,162,163,164,165,166,167,168,169,170,171,172,173,174,175,176,177,178,179,180,181,182,183,184,185,186,187,188,189],\"end\":{\"__ndarray__\":\"AQAAAAIAAAADAAAABAAAAAUAAAAGAAAABwAAAAgAAAAJAAAACgAAAAsAAAAMAAAADQAAAA4AAAAPAAAAEAAAABEAAAASAAAAEwAAAAQAAAAVAAAAAQAAABkAAAAaAAAAGwAAAA4AAAAVAAAAHAAAAB0AAAAPAAAAEQAAABUAAAAbAAAAHgAAABQAAAAfAAAABwAAACAAAAAHAAAAAQAAAAUAAAAGAAAABwAAAB8AAAAJAAAAAwAAAAUAAAAGAAAABwAAAAgAAAAlAAAAHwAAAAEAAAAnAAAAKAAAACkAAAANAAAAGwAAABMAAAAqAAAAAQAAABMAAAAuAAAAAQAAAAwAAAANAAAAGwAAABMAAAABAAAAAQAAAAwAAAABAAAAAgAAAAEAAAABAAAADQAAAAYAAAAHAAAACgAAAAYAAAAHAAAADAAAAAgAAAALAAAADQAAAAwAAAAMAAAADAAAAA0AAAAPAAAAOgAAADsAAAAPAAAARAAAAEUAAABGAAAARwAAAEgAAAAPAAAAMAAAAEwAAABNAAAATgAAAE8AAAAPAAAAUAAAADoAAABRAAAAUgAAAA8AAABTAAAAOgAAAFQAAAA7AAAADwAAAA8AAABXAAAAWAAAAFkAAABHAAAAOgAAAA8AAABdAAAAXgAAAF8AAAAPAAAAYQAAAA8AAAAPAAAAZwAAAGgAAABpAAAARwAAAFQAAAA6AAAAMAAAADAAAAA6AAAAMAAAADAAAAA6AAAAMAAAADoAAAAwAAAAMAAAADAAAAA5AAAAMQAAADEAAAAxAAAAOgAAADoAAAA0AAAAOgAAADQAAAA6AAAANgAAADYAAAA2AAAANwAAADgAAAA4AAAAOAAAADgAAAA5AAAAOgAAADoAAAA6AAAAOgAAADoAAAA6AAAAOgAAADoAAAA6AAAAOgAAADoAAAA6AAAAOgAAADoAAAA6AAAAOgAAADoAAAA6AAAAOgAAADoAAAA6AAAAOgAAADoAAAA=\",\"dtype\":\"int32\",\"order\":\"little\",\"shape\":[188]},\"start\":{\"__ndarray__\":\"AAAAAAAAAAAAAAAAAAAAAAAAAAAAAAAAAAAAAAAAAAAAAAAAAAAAAAAAAAAAAAAAAAAAAAAAAAAAAAAAAQAAAAEAAAABAAAAAQAAAAIAAAACAAAAAwAAAAMAAAADAAAAAwAAAAMAAAADAAAABAAAAAQAAAAEAAAABAAAAAQAAAAEAAAABAAAAAQAAAAFAAAABQAAAAYAAAAGAAAABwAAAAgAAAAIAAAACAAAAAgAAAAIAAAACgAAAAoAAAAKAAAACgAAAAoAAAAKAAAACgAAAAwAAAAMAAAADAAAAAwAAAAMAAAADAAAAAwAAAAMAAAADQAAAA0AAAANAAAADgAAAA4AAAAOAAAADgAAAA4AAAAUAAAAFQAAABUAAAAWAAAAFgAAABcAAAAYAAAAHwAAACEAAAAhAAAAIQAAACIAAAAjAAAAIwAAACQAAAAmAAAAJgAAACsAAAAsAAAALQAAAC8AAAAwAAAAMAAAADAAAAAxAAAAMQAAADEAAAAxAAAAMQAAADEAAAAyAAAAMgAAADIAAAAyAAAAMgAAADIAAAAzAAAAMwAAADMAAAAzAAAAMwAAADQAAAA0AAAANAAAADQAAAA0AAAANQAAADYAAAA2AAAANgAAADYAAAA2AAAANgAAADcAAAA3AAAANwAAADcAAAA4AAAAOAAAADkAAAA6AAAAOgAAADoAAAA6AAAAOgAAADoAAAA7AAAAPAAAAD0AAAA9AAAAPgAAAD8AAAA/AAAAQAAAAEAAAABBAAAAQgAAAEMAAABGAAAASQAAAEoAAABLAAAATQAAAFMAAABVAAAAVQAAAFYAAABWAAAAWgAAAFsAAABcAAAAYAAAAGIAAABjAAAAZAAAAGUAAABmAAAAagAAAGsAAABsAAAAbQAAAG4AAABvAAAAcAAAAHEAAAByAAAAcwAAAHQAAAB1AAAAdgAAAHcAAAB4AAAAeQAAAHoAAAB7AAAAfAAAAH0AAAB+AAAAfwAAAIAAAAA=\",\"dtype\":\"int32\",\"order\":\"little\",\"shape\":[188]},\"xs\":[{\"__ndarray__\":\"VcJZwpESuj+i+8+fBE3YPwAAAAAAAPh/CTYEkwmO1z+i+8+fBE3YP4BsgQCx59Q/\",\"dtype\":\"float64\",\"order\":\"little\",\"shape\":[6]},{\"__ndarray__\":\"VcJZwpESuj+ArymLZZjGPwAAAAAAAPh/3gpUaI3kxj+ArymLZZjGPwTTpc4F+sA/\",\"dtype\":\"float64\",\"order\":\"little\",\"shape\":[6]},{\"__ndarray__\":\"VcJZwpESuj80I4fwXafHPwAAAAAAAPh/K3/WwYNEwz80I4fwXafHP3xeEXWQOb8/\",\"dtype\":\"float64\",\"order\":\"little\",\"shape\":[6]},{\"__ndarray__\":\"VcJZwpESuj97yJyJD6qvPwAAAAAAAPh/HUkF2szDtD97yJyJD6qvP8HQ8tW4c74/\",\"dtype\":\"float64\",\"order\":\"little\",\"shape\":[6]},{\"__ndarray__\":\"VcJZwpESuj/l6/GRdbrYPwAAAAAAAPh/pm4EXTV41z/l6/GRdbrYP52HnlieD9U/\",\"dtype\":\"float64\",\"order\":\"little\",\"shape\":[6]},{\"__ndarray__\":\"VcJZwpESuj/5oL42Wg/JvwAAAAAAAPh/SMd9Ds71wb/5oL42Wg/JvzM/dWRYAse/\",\"dtype\":\"float64\",\"order\":\"little\",\"shape\":[6]},{\"__ndarray__\":\"VcJZwpESuj8LYZ8Yb47aPwAAAAAAAPh/w7nL1zmh2T8LYZ8Yb47aP6PZCaowD9c/\",\"dtype\":\"float64\",\"order\":\"little\",\"shape\":[6]},{\"__ndarray__\":\"VcJZwpESuj/bFtR0gQSzPwAAAAAAAPh/xV/kozAitD/bFtR0gQSzPxgw0OEQcr8/\",\"dtype\":\"float64\",\"order\":\"little\",\"shape\":[6]},{\"__ndarray__\":\"VcJZwpESuj/nyJ5AA27VvwAAAAAAAPh/LcZ35X1T1b/nyJ5AA27VvzClSbrlcNK/\",\"dtype\":\"float64\",\"order\":\"little\",\"shape\":[6]},{\"__ndarray__\":\"VcJZwpESuj9LlXkSZ2OqvwAAAAAAAPh/TCtfcXLbhz9LlXkSZ2Oqv7jU4cAfMJC/\",\"dtype\":\"float64\",\"order\":\"little\",\"shape\":[6]},{\"__ndarray__\":\"VcJZwpESuj+wVOIkfnPqPwAAAAAAAPh/LOxXbHpk6D+wVOIkfnPqP81PIGW+FOk/\",\"dtype\":\"float64\",\"order\":\"little\",\"shape\":[6]},{\"__ndarray__\":\"VcJZwpESuj+mqyh4RXDJPwAAAAAAAPh/EHeZamPlyj+mqyh4RXDJPwHotBNnusQ/\",\"dtype\":\"float64\",\"order\":\"little\",\"shape\":[6]},{\"__ndarray__\":\"VcJZwpESuj+L/dAD7CDfPwAAAAAAAPh/fe1rAHPO3T+L/dAD7CDfP/jpwrRjbts/\",\"dtype\":\"float64\",\"order\":\"little\",\"shape\":[6]},{\"__ndarray__\":\"VcJZwpESuj/UxEAqDWXgPwAAAAAAAPh/UzJmrzAG3z/UxEAqDWXgP4ZQEdvL59w/\",\"dtype\":\"float64\",\"order\":\"little\",\"shape\":[6]},{\"__ndarray__\":\"VcJZwpESuj9mHXtjnaTqvwAAAAAAAPh/7lljCPHw6L9mHXtjnaTqv6EmcFe5nei/\",\"dtype\":\"float64\",\"order\":\"little\",\"shape\":[6]},{\"__ndarray__\":\"ovvPnwRN2D/c5qr3ipvKPwAAAAAAAPh/5OpNWV2I0D/c5qr3ipvKP2/2PsV6i8s/\",\"dtype\":\"float64\",\"order\":\"little\",\"shape\":[6]},{\"__ndarray__\":\"ovvPnwRN2D+hm8KrQJLtPwAAAAAAAPh/H/DB0gSK6z+hm8KrQJLtP6SH9LHgYew/\",\"dtype\":\"float64\",\"order\":\"little\",\"shape\":[6]},{\"__ndarray__\":\"ovvPnwRN2D8TeDZWAf3UvwAAAAAAAPh/lA0ztSvd0L8TeDZWAf3Uv86PmLOLDtK/\",\"dtype\":\"float64\",\"order\":\"little\",\"shape\":[6]},{\"__ndarray__\":\"ovvPnwRN2D9+pdAiPIXrPwAAAAAAAPh/bvmT22J16T9+pdAiPIXrP4MnO4hOFuo/\",\"dtype\":\"float64\",\"order\":\"little\",\"shape\":[6]},{\"__ndarray__\":\"gK8pi2WYxj97yJyJD6qvPwAAAAAAAPh/u4/dNNh9sD97yJyJD6qvP7CMRIpn9Ls/\",\"dtype\":\"float64\",\"order\":\"little\",\"shape\":[6]},{\"__ndarray__\":\"gK8pi2WYxj/pEbzcr47SPwAAAAAAAPh/ocXDUClq0j/pEbzcr47SPwOTNstqFc8/\",\"dtype\":\"float64\",\"order\":\"little\",\"shape\":[6]},{\"__ndarray__\":\"NCOH8F2nxz+i+8+fBE3YPwAAAAAAAPh/97Ys2ivs1z+i+8+fBE3YP8oGzisWIdU/\",\"dtype\":\"float64\",\"order\":\"little\",\"shape\":[6]},{\"__ndarray__\":\"NCOH8F2nxz8RRRbmNBTLPwAAAAAAAPh/dhcyije8xz8RRRbmNBTLPxnQq8jyC84/\",\"dtype\":\"float64\",\"order\":\"little\",\"shape\":[6]},{\"__ndarray__\":\"NCOH8F2nxz+gUnyizZPhvwAAAAAAAPh/K2DpYIAO37+gUnyizZPhv26dixQDS+C/\",\"dtype\":\"float64\",\"order\":\"little\",\"shape\":[6]},{\"__ndarray__\":\"NCOH8F2nxz9lArGoYirkPwAAAAAAAPh/Kpgr4TaU4z9lArGoYirkP3gTtiFSWuI/\",\"dtype\":\"float64\",\"order\":\"little\",\"shape\":[6]},{\"__ndarray__\":\"NCOH8F2nxz/UxEAqDWXgPwAAAAAAAPh/ngXZ5Kgf3z/UxEAqDWXgP1j+KVCR8dw/\",\"dtype\":\"float64\",\"order\":\"little\",\"shape\":[6]},{\"__ndarray__\":\"NCOH8F2nxz/pEbzcr47SPwAAAAAAAPh/gLgHU0kX0z/pEbzcr47SP2EG5kD0CtA/\",\"dtype\":\"float64\",\"order\":\"little\",\"shape\":[6]},{\"__ndarray__\":\"e8iciQ+qrz8pXJnCpnXaPwAAAAAAAPh/hAY5uYqb1z8pXJnCpnXaPyUhH6O3jNo/\",\"dtype\":\"float64\",\"order\":\"little\",\"shape\":[6]},{\"__ndarray__\":\"e8iciQ+qrz+yViU3wKzYvwAAAAAAAPh/eMTRvpw31b+yViU3wKzYv6m/VJnk0de/\",\"dtype\":\"float64\",\"order\":\"little\",\"shape\":[6]},{\"__ndarray__\":\"e8iciQ+qrz9mHXtjnaTqvwAAAAAAAPh/l6FIWqbk6L9mHXtjnaTqv+7htOlUoui/\",\"dtype\":\"float64\",\"order\":\"little\",\"shape\":[6]},{\"__ndarray__\":\"e8iciQ+qrz+hm8KrQJLtPwAAAAAAAPh/j3wvff/O6z+hm8KrQJLtP0WYJW1skes/\",\"dtype\":\"float64\",\"order\":\"little\",\"shape\":[6]},{\"__ndarray__\":\"e8iciQ+qrz/pEbzcr47SPwAAAAAAAPh/CQTfyFJn0j/pEbzcr47SP9ugzEWMEc8/\",\"dtype\":\"float64\",\"order\":\"little\",\"shape\":[6]},{\"__ndarray__\":\"e8iciQ+qrz9lArGoYirkPwAAAAAAAPh/BEaTp8uD4z9lArGoYirkP7wy1tlcUuI/\",\"dtype\":\"float64\",\"order\":\"little\",\"shape\":[6]},{\"__ndarray__\":\"e8iciQ+qrz9WTovPXqfkvwAAAAAAAPh/MRZ4+yXc479WTovPXqfkv/rsaHIjv+K/\",\"dtype\":\"float64\",\"order\":\"little\",\"shape\":[6]},{\"__ndarray__\":\"e8iciQ+qrz+KwfpJn8zXPwAAAAAAAPh/ZiBK9HHu1j+KwfpJn8zXP7yTjEujVdQ/\",\"dtype\":\"float64\",\"order\":\"little\",\"shape\":[6]},{\"__ndarray__\":\"5evxkXW62D8qDC+2APzbPwAAAAAAAPh//nJzSwMm2D8qDC+2APzbPxq+g3NNM9g/\",\"dtype\":\"float64\",\"order\":\"little\",\"shape\":[6]},{\"__ndarray__\":\"5evxkXW62D8LYZ8Yb47aPwAAAAAAAPh/FuXHOxEQ2z8LYZ8Yb47aP95eyDkmBdg/\",\"dtype\":\"float64\",\"order\":\"little\",\"shape\":[6]},{\"__ndarray__\":\"+aC+NloPyb+wK0U1UcvpvwAAAAAAAPh/HalHbhvz57+wK0U1UcvpvwKotpx/1ue/\",\"dtype\":\"float64\",\"order\":\"little\",\"shape\":[6]},{\"__ndarray__\":\"+aC+NloPyb8LYZ8Yb47aPwAAAAAAAPh/S/kjhI/d1j8LYZ8Yb47aPwFW2S0epdY/\",\"dtype\":\"float64\",\"order\":\"little\",\"shape\":[6]},{\"__ndarray__\":\"C2GfGG+O2j+i+8+fBE3YPwAAAAAAAPh/VggHJfeH2z+i+8+fBE3YP/0I4dX2Zdw/\",\"dtype\":\"float64\",\"order\":\"little\",\"shape\":[6]},{\"__ndarray__\":\"2xbUdIEEsz/l6/GRdbrYPwAAAAAAAPh/CkjBxEKW1z/l6/GRdbrYPz60MLNnHtU/\",\"dtype\":\"float64\",\"order\":\"little\",\"shape\":[6]},{\"__ndarray__\":\"2xbUdIEEsz/5oL42Wg/JvwAAAAAAAPh/B8vXcwBxwr/5oL42Wg/Jv62is8503Me/\",\"dtype\":\"float64\",\"order\":\"little\",\"shape\":[6]},{\"__ndarray__\":\"2xbUdIEEsz8LYZ8Yb47aPwAAAAAAAPh/q7owLBGy2T8LYZ8Yb47aPyU6bo10GNc/\",\"dtype\":\"float64\",\"order\":\"little\",\"shape\":[6]},{\"__ndarray__\":\"2xbUdIEEsz8qDC+2APzbPwAAAAAAAPh/2d8EMfSL2j8qDC+2APzbP7j1aJf7O9g/\",\"dtype\":\"float64\",\"order\":\"little\",\"shape\":[6]},{\"__ndarray__\":\"2xbUdIEEsz/nyJ5AA27VvwAAAAAAAPh/zKmdQD1W1b/nyJ5AA27Vv8JiDzrLctK/\",\"dtype\":\"float64\",\"order\":\"little\",\"shape\":[6]},{\"__ndarray__\":\"S5V5Emdjqr80I4fwXafHPwAAAAAAAPh/KicOMVMrvz80I4fwXafHP7ydccS/vMA/\",\"dtype\":\"float64\",\"order\":\"little\",\"shape\":[6]},{\"__ndarray__\":\"S5V5Emdjqr/l6/GRdbrYPwAAAAAAAPh/crK8GzAb1j/l6/GRdbrYP9Kwbj+Dn9Q/\",\"dtype\":\"float64\",\"order\":\"little\",\"shape\":[6]},{\"__ndarray__\":\"S5V5Emdjqr/5oL42Wg/JvwAAAAAAAPh/pWZOEezdwr/5oL42Wg/Jv7IcAA6ciMi/\",\"dtype\":\"float64\",\"order\":\"little\",\"shape\":[6]},{\"__ndarray__\":\"S5V5Emdjqr8LYZ8Yb47aPwAAAAAAAPh/pDxdw5xj2D8LYZ8Yb47aP8zER0znitY/\",\"dtype\":\"float64\",\"order\":\"little\",\"shape\":[6]},{\"__ndarray__\":\"S5V5Emdjqr/bFtR0gQSzPwAAAAAAAPh/mFi9d9Nekj/bFtR0gQSzP0t0do/79Kw/\",\"dtype\":\"float64\",\"order\":\"little\",\"shape\":[6]},{\"__ndarray__\":\"S5V5Emdjqr+8kx56jMHrvwAAAAAAAPh/3zldwfGN6r+8kx56jMHrv9+pidenuOm/\",\"dtype\":\"float64\",\"order\":\"little\",\"shape\":[6]},{\"__ndarray__\":\"S5V5Emdjqr8qDC+2APzbPwAAAAAAAPh/VpVGR1E42T8qDC+2APzbPz6VP9GE3dc/\",\"dtype\":\"float64\",\"order\":\"little\",\"shape\":[6]},{\"__ndarray__\":\"pqsoeEVwyT+i+8+fBE3YPwAAAAAAAPh/03i37pdg1D+i+8+fBE3YP5LG0EOfoNQ/\",\"dtype\":\"float64\",\"order\":\"little\",\"shape\":[6]},{\"__ndarray__\":\"pqsoeEVwyT+W17qOt6blPwAAAAAAAPh/mgMgxFas4z+W17qOt6blP0C4TUQY1+M/\",\"dtype\":\"float64\",\"order\":\"little\",\"shape\":[6]},{\"__ndarray__\":\"pqsoeEVwyT/YdKpEeqnpPwAAAAAAAPh/bqtvgny+5z/YdKpEeqnpP8htGZwfxec/\",\"dtype\":\"float64\",\"order\":\"little\",\"shape\":[6]},{\"__ndarray__\":\"pqsoeEVwyT/qgMUsWETmvwAAAAAAAPh/dClEB8Za5L/qgMUsWETmv3jZCLd6XuS/\",\"dtype\":\"float64\",\"order\":\"little\",\"shape\":[6]},{\"__ndarray__\":\"pqsoeEVwyT+L/dAD7CDfPwAAAAAAAPh/u/cg3pdL2z+L/dAD7CDfP+niCj2CV9s/\",\"dtype\":\"float64\",\"order\":\"little\",\"shape\":[6]},{\"__ndarray__\":\"pqsoeEVwyT9lArGoYirkPwAAAAAAAPh/Neu/3uCq4j9lArGoYirkP8C02f+pGuI/\",\"dtype\":\"float64\",\"order\":\"little\",\"shape\":[6]},{\"__ndarray__\":\"pqsoeEVwyT9+pdAiPIXrPwAAAAAAAPh/hjY2tIN26T9+pdAiPIXrPyDKHFaX9+k/\",\"dtype\":\"float64\",\"order\":\"little\",\"shape\":[6]},{\"__ndarray__\":\"pqsoeEVwyT+DM79NCYzhvwAAAAAAAPh/guTaTw8O37+DM79NCYzhv2v/98vcpd+/\",\"dtype\":\"float64\",\"order\":\"little\",\"shape\":[6]},{\"__ndarray__\":\"i/3QA+wg3z+i+8+fBE3YPwAAAAAAAPh/fQXBGuHx2z+i+8+fBE3YP+vn8d9aPtw/\",\"dtype\":\"float64\",\"order\":\"little\",\"shape\":[6]},{\"__ndarray__\":\"i/3QA+wg3z9+pdAiPIXrPwAAAAAAAPh/dFaV5D566T9+pdAiPIXrP7t0ElpZRuo/\",\"dtype\":\"float64\",\"order\":\"little\",\"shape\":[6]},{\"__ndarray__\":\"i/3QA+wg3z/h5g9lJzPEPwAAAAAAAPh/GwIEORcczD/h5g9lJzPEP4ENQxVjI8g/\",\"dtype\":\"float64\",\"order\":\"little\",\"shape\":[6]},{\"__ndarray__\":\"1MRAKg1l4D+i+8+fBE3YPwAAAAAAAPh/fWW1Jbps3D+i+8+fBE3YP7+9tFVgK9s/\",\"dtype\":\"float64\",\"order\":\"little\",\"shape\":[6]},{\"__ndarray__\":\"1MRAKg1l4D+mqyh4RXDJPwAAAAAAAPh/fGsyszjJ0D+mqyh4RXDJP7/FZuy0FNA/\",\"dtype\":\"float64\",\"order\":\"little\",\"shape\":[6]},{\"__ndarray__\":\"1MRAKg1l4D+L/dAD7CDfPwAAAAAAAPh/fdslV9L74D+L/dAD7CDfP6hK/1EtBd8/\",\"dtype\":\"float64\",\"order\":\"little\",\"shape\":[6]},{\"__ndarray__\":\"1MRAKg1l4D9lArGoYirkPwAAAAAAAPh/tixBsuEF5D9lArGoYirkP1r2bfwqnOI/\",\"dtype\":\"float64\",\"order\":\"little\",\"shape\":[6]},{\"__ndarray__\":\"1MRAKg1l4D9+pdAiPIXrPwAAAAAAAPh/QH9ccGN16T9+pdAiPIXrPxMdVgtnFuo/\",\"dtype\":\"float64\",\"order\":\"little\",\"shape\":[6]},{\"__ndarray__\":\"isH6SZ/M1z+i+8+fBE3YPwAAAAAAAPh/NZD7QfrO2D+i+8+fBE3YP5Idnhv+w9U/\",\"dtype\":\"float64\",\"order\":\"little\",\"shape\":[6]},{\"__ndarray__\":\"6RG83K+O0j+i+8+fBE3YPwAAAAAAAPh/AqLVPzs81D+i+8+fBE3YPw2Tfsdp79Q/\",\"dtype\":\"float64\",\"order\":\"little\",\"shape\":[6]},{\"__ndarray__\":\"6RG83K+O0j+mqyh4RXDJPwAAAAAAAPh/9f5QVd9q0D+mqyh4RXDJPwrvaTQdoNA/\",\"dtype\":\"float64\",\"order\":\"little\",\"shape\":[6]},{\"__ndarray__\":\"i/9Bhp290T+i+8+fBE3YPwAAAAAAAPh/RotMtR/51j+i+8+fBE3YPzFmD0nSmdQ/\",\"dtype\":\"float64\",\"order\":\"little\",\"shape\":[6]},{\"__ndarray__\":\"i/9Bhp290T+ArymLZZjGPwAAAAAAAPh/bly3tiNYyT+ArymLZZjGP4WGg/XaCc4/\",\"dtype\":\"float64\",\"order\":\"little\",\"shape\":[6]},{\"__ndarray__\":\"1pYlQWjK1T+i+8+fBE3YPwAAAAAAAPh/MEUoZOC51z+i+8+fBE3YPynMIyypAdU/\",\"dtype\":\"float64\",\"order\":\"little\",\"shape\":[6]},{\"__ndarray__\":\"mur5jcQ31j+i+8+fBE3YPwAAAAAAAPh/0P0bkY5R1D+i+8+fBE3YP6EZuzbWudQ/\",\"dtype\":\"float64\",\"order\":\"little\",\"shape\":[6]},{\"__ndarray__\":\"KgwvtgD82z+L/dAD7CDfPwAAAAAAAPh/9Z46Fqvu3j+L/dAD7CDfPwBAhLeiE9w/\",\"dtype\":\"float64\",\"order\":\"little\",\"shape\":[6]},{\"__ndarray__\":\"qBf5D55YtT/5oL42Wg/JvwAAAAAAAPh/DlrwkOTmwL/5oL42Wg/Jv8hBKbGtbcK/\",\"dtype\":\"float64\",\"order\":\"little\",\"shape\":[6]},{\"__ndarray__\":\"qBf5D55YtT8LYZ8Yb47aPwAAAAAAAPh/Yc9/Bi501z8LYZ8Yb47aP625r2jjcNY/\",\"dtype\":\"float64\",\"order\":\"little\",\"shape\":[6]},{\"__ndarray__\":\"qBf5D55YtT9LlXkSZ2OqvwAAAAAAAPh/XJLnDbF7pb9LlXkSZ2Oqv4CQ6iJjdzM/\",\"dtype\":\"float64\",\"order\":\"little\",\"shape\":[6]},{\"__ndarray__\":\"GRh5dPkuxb/5oL42Wg/JvwAAAAAAAPh/rNwThhUkxL/5oL42Wg/Jv2L12+uPQ8q/\",\"dtype\":\"float64\",\"order\":\"little\",\"shape\":[6]},{\"__ndarray__\":\"t76fzEpN0j8LYZ8Yb47aPwAAAAAAAPh/BiME5FnM1z8LYZ8Yb47aP6ijytUPcNY/\",\"dtype\":\"float64\",\"order\":\"little\",\"shape\":[6]},{\"__ndarray__\":\"t76fzEpN0j+mqyh4RXDJPwAAAAAAAPh/SEZDiP610D+mqyh4RXDJPzabGBiTnc0/\",\"dtype\":\"float64\",\"order\":\"little\",\"shape\":[6]},{\"__ndarray__\":\"jQjV1hbzvT/bFtR0gQSzPwAAAAAAAPh/OOTChRoRwD/bFtR0gQSzP1wFP1Yer8E/\",\"dtype\":\"float64\",\"order\":\"little\",\"shape\":[6]},{\"__ndarray__\":\"pqO2jxkJ5T+wVOIkfnPqPwAAAAAAAPh/Up57vAD66D+wVOIkfnPqP2nagjqIbeo/\",\"dtype\":\"float64\",\"order\":\"little\",\"shape\":[6]},{\"__ndarray__\":\"pqO2jxkJ5T+L/dAD7CDfPwAAAAAAAPh/TYiaaa8L4T+L/dAD7CDfPwMrAAnRMd8/\",\"dtype\":\"float64\",\"order\":\"little\",\"shape\":[6]},{\"__ndarray__\":\"LGC4k7Zrxz+mqyh4RXDJPwAAAAAAAPh/Ind48BrvyT+mqyh4RXDJP2iT9+p098M/\",\"dtype\":\"float64\",\"order\":\"little\",\"shape\":[6]},{\"__ndarray__\":\"dTc25rroyD+mqyh4RXDJPwAAAAAAAPh/yJOiN3+xxT+mqyh4RXDJP1uq/3G7/Ms/\",\"dtype\":\"float64\",\"order\":\"little\",\"shape\":[6]},{\"__ndarray__\":\"qa0rraqHxD+mqyh4RXDJPwAAAAAAAPh/vqyp/eIzxz+mqyh4RXDJP4iW9+g8PsI/\",\"dtype\":\"float64\",\"order\":\"little\",\"shape\":[6]},{\"__ndarray__\":\"r6nA/KSX2z+L/dAD7CDfPwAAAAAAAPh/vrKv1QNr3j+L/dAD7CDfP/4RxzzcwNs/\",\"dtype\":\"float64\",\"order\":\"little\",\"shape\":[6]},{\"__ndarray__\":\"DREaXtZR179mHXtjnaTqvwAAAAAAAPh/uGpumdKn6L9mHXtjnaTqv5eG3jRC2ei/\",\"dtype\":\"float64\",\"order\":\"little\",\"shape\":[6]},{\"__ndarray__\":\"DREaXtZR17//N01h1X2wvwAAAAAAAPh/lpe9Ei3uv7//N01h1X2wvyq9M5Qwhb+/\",\"dtype\":\"float64\",\"order\":\"little\",\"shape\":[6]},{\"__ndarray__\":\"DREaXtZR17+nBrA2n8B8vwAAAAAAAPh/pJA0Vk/msb+nBrA2n8B8v9i5xIsJca+/\",\"dtype\":\"float64\",\"order\":\"little\",\"shape\":[6]},{\"__ndarray__\":\"lJ3mM8OAsD9mHXtjnaTqvwAAAAAAAPh/DNsaHIGl6L9mHXtjnaTqv9pPXUy+3ei/\",\"dtype\":\"float64\",\"order\":\"little\",\"shape\":[6]},{\"__ndarray__\":\"lJ3mM8OAsD8lae1SepHevwAAAAAAAPh/akd6C35d3b8lae1SepHev+yBFeSR7dq/\",\"dtype\":\"float64\",\"order\":\"little\",\"shape\":[6]},{\"__ndarray__\":\"lJ3mM8OAsD/6OVClVfXqPwAAAAAAAPh/SXZfS3bq6D/6OVClVfXqPyQsb6cWUOk/\",\"dtype\":\"float64\",\"order\":\"little\",\"shape\":[6]},{\"__ndarray__\":\"lJ3mM8OAsD/SPGeWotPpvwAAAAAAAPh/PlNpV0va57/SPGeWotPpv7EhhRxKAui/\",\"dtype\":\"float64\",\"order\":\"little\",\"shape\":[6]},{\"__ndarray__\":\"lJ3mM8OAsD/koSnmmIrpPwAAAAAAAPh/dWWuxkE/6D/koSnmmIrpPy+7Q6yvfec/\",\"dtype\":\"float64\",\"order\":\"little\",\"shape\":[6]},{\"__ndarray__\":\"lJ3mM8OAsD9H0nwgV0juPwAAAAAAAPh/PujreL2g7D9H0nwgV0juP+OQ9yUGPuw/\",\"dtype\":\"float64\",\"order\":\"little\",\"shape\":[6]},{\"__ndarray__\":\"vvqovrWg0b9mHXtjnaTqvwAAAAAAAPh/Imi8eqOW6L9mHXtjnaTqvzNq1T+nEOm/\",\"dtype\":\"float64\",\"order\":\"little\",\"shape\":[6]},{\"__ndarray__\":\"vvqovrWg0b8NERpe1lHXvwAAAAAAAPh/P7nv/LXF078NERpe1lHXvw9s9m+QTNa/\",\"dtype\":\"float64\",\"order\":\"little\",\"shape\":[6]},{\"__ndarray__\":\"vvqovrWg0b+/hh+IJzHnvwAAAAAAAPh/MCZu9GyB5b+/hh+IJzHnvzcAQqoIKeW/\",\"dtype\":\"float64\",\"order\":\"little\",\"shape\":[6]},{\"__ndarray__\":\"vvqovrWg0b/bsfmr8KKMvwAAAAAAAPh/bqGt2iE/q7/bsfmr8KKMv2k4Whqo77O/\",\"dtype\":\"float64\",\"order\":\"little\",\"shape\":[6]},{\"__ndarray__\":\"vvqovrWg0b9gnpy1+qzsvwAAAAAAAPh/YGyghiCi6r9gnpy1+qzsv8V953/jbuu/\",\"dtype\":\"float64\",\"order\":\"little\",\"shape\":[6]},{\"__ndarray__\":\"vvqovrWg0b+eMb3mzqfkPwAAAAAAAPh/jbUlVeKX4j+eMb3mzqfkP5+kWBcmMuM/\",\"dtype\":\"float64\",\"order\":\"little\",\"shape\":[6]},{\"__ndarray__\":\"INJ2ibYJ1b9mHXtjnaTqvwAAAAAAAPh/mpyWtaKv6b9mHXtjnaTqv1T+rB63rOi/\",\"dtype\":\"float64\",\"order\":\"little\",\"shape\":[6]},{\"__ndarray__\":\"INJ2ibYJ1b+xEJRhJ07nvwAAAAAAAPh/fgicd1Fn5b+xEJRhJ07nvy4GJaeFZeW/\",\"dtype\":\"float64\",\"order\":\"little\",\"shape\":[6]},{\"__ndarray__\":\"INJ2ibYJ1b//N01h1X2wvwAAAAAAAPh/SPihNRtNvb//N01h1X2wvz/3hUOvMrK/\",\"dtype\":\"float64\",\"order\":\"little\",\"shape\":[6]},{\"__ndarray__\":\"INJ2ibYJ1b9fUgJ+E+yqPwAAAAAAAPh/c2nKFz5foD9fUgJ+E+yqP4ix/FByJ3W/\",\"dtype\":\"float64\",\"order\":\"little\",\"shape\":[6]},{\"__ndarray__\":\"INJ2ibYJ1b+U0QWnSPm+vwAAAAAAAPh/mEUShrinvr+U0QWnSPm+v/40C9q4NMW/\",\"dtype\":\"float64\",\"order\":\"little\",\"shape\":[6]},{\"__ndarray__\":\"1WQoxAmc2L9mHXtjnaTqvwAAAAAAAPh/1R4jo4rH6L9mHXtjnaTqv5RVENVrs+i/\",\"dtype\":\"float64\",\"order\":\"little\",\"shape\":[6]},{\"__ndarray__\":\"1WQoxAmc2L9PllU0Qx+avwAAAAAAAPh/ZAzShja7tr9PllU0Qx+av8he3BZ0MLS/\",\"dtype\":\"float64\",\"order\":\"little\",\"shape\":[6]},{\"__ndarray__\":\"1WQoxAmc2L//N01h1X2wvwAAAAAAAPh/bFbN7qJvwL//N01h1X2wv5oLRkUZdr2/\",\"dtype\":\"float64\",\"order\":\"little\",\"shape\":[6]},{\"__ndarray__\":\"1WQoxAmc2L/vpshyt/TovwAAAAAAAPh/MISYzAfu5r/vpshyt/Tov5fVleF6y+e/\",\"dtype\":\"float64\",\"order\":\"little\",\"shape\":[6]},{\"__ndarray__\":\"1WQoxAmc2L+nBrA2n8B8vwAAAAAAAPh/ARDM11pJsr+nBrA2n8B8vzmv1EtLpau/\",\"dtype\":\"float64\",\"order\":\"little\",\"shape\":[6]},{\"__ndarray__\":\"u34upnFe679mHXtjnaTqvwAAAAAAAPh/AZeA+mOo6r9mHXtjnaTqv6qc0/CSHOy/\",\"dtype\":\"float64\",\"order\":\"little\",\"shape\":[6]},{\"__ndarray__\":\"NlU+c1z/zz9mHXtjnaTqvwAAAAAAAPh/ckVMHTzV6L9mHXtjnaTqv6SeNQYYqui/\",\"dtype\":\"float64\",\"order\":\"little\",\"shape\":[6]},{\"__ndarray__\":\"NlU+c1z/zz/B/AYgx4nrPwAAAAAAAPh/S+eK/UGr6T/B/AYgx4nrPzA3MwC9mek/\",\"dtype\":\"float64\",\"order\":\"little\",\"shape\":[6]},{\"__ndarray__\":\"NlU+c1z/zz/JwG3sPZnqPwAAAAAAAPh/noNK80KQ6D/JwG3sPZnqP48FeYSB7Og/\",\"dtype\":\"float64\",\"order\":\"little\",\"shape\":[6]},{\"__ndarray__\":\"NlU+c1z/zz/NqJQTKyrnPwAAAAAAAPh/iuH82Tz75T/NqJQTKyrnP+sGQdg8IuU/\",\"dtype\":\"float64\",\"order\":\"little\",\"shape\":[6]},{\"__ndarray__\":\"NlU+c1z/zz/koSnmmIrpPwAAAAAAAPh/kl6wsPHt5z/koSnmmIrpPzGtrLT5fec/\",\"dtype\":\"float64\",\"order\":\"little\",\"shape\":[6]},{\"__ndarray__\":\"NlU+c1z/zz//N01h1X2wvwAAAAAAAPh/BE+uMmwRmr//N01h1X2wv4CnPr50wUK/\",\"dtype\":\"float64\",\"order\":\"little\",\"shape\":[6]},{\"__ndarray__\":\"+alP1VCPub9mHXtjnaTqvwAAAAAAAPh/uV2PWU2s6L9mHXtjnaTqv91t+qae0ei/\",\"dtype\":\"float64\",\"order\":\"little\",\"shape\":[6]},{\"__ndarray__\":\"+alP1VCPub+WN/pORWPFvwAAAAAAAPh/J/QynR+ywb+WN/pORWPFv8Zp9OE7/se/\",\"dtype\":\"float64\",\"order\":\"little\",\"shape\":[6]},{\"__ndarray__\":\"+alP1VCPub9eWyKrN0TevwAAAAAAAPh/BVLgVvZ13b9eWyKrN0TevyiXXKgo1tq/\",\"dtype\":\"float64\",\"order\":\"little\",\"shape\":[6]},{\"__ndarray__\":\"+alP1VCPub9TmRESe9DnPwAAAAAAAPh/wPbByTjK5T9TmRESe9DnP6svAAkfqeY/\",\"dtype\":\"float64\",\"order\":\"little\",\"shape\":[6]},{\"__ndarray__\":\"pVOYXPhjyb9mHXtjnaTqvwAAAAAAAPh/0vVXEI1q6b9mHXtjnaTqvwn6YUF7mui/\",\"dtype\":\"float64\",\"order\":\"little\",\"shape\":[6]},{\"__ndarray__\":\"pVOYXPhjyb+FoerKWtXbPwAAAAAAAPh/FDPFrQhj2T+FoerKWtXbP+oICBBswdc/\",\"dtype\":\"float64\",\"order\":\"little\",\"shape\":[6]},{\"__ndarray__\":\"PPxIjt2R6L9mHXtjnaTqvwAAAAAAAPh/7zc87cmV6L9mHXtjnaTqv2BDuIEGGOm/\",\"dtype\":\"float64\",\"order\":\"little\",\"shape\":[6]},{\"__ndarray__\":\"/zdNYdV9sL9mHXtjnaTqvwAAAAAAAPh/wy+KIxKt6L9mHXtjnaTqv1zYGShs0Oi/\",\"dtype\":\"float64\",\"order\":\"little\",\"shape\":[6]},{\"__ndarray__\":\"/zdNYdV9sL/D3VDEtYXsPwAAAAAAAPh/qvzD48qT6j/D3VDEtYXsP+hoJnKRqeo/\",\"dtype\":\"float64\",\"order\":\"little\",\"shape\":[6]},{\"__ndarray__\":\"/zdNYdV9sL9nfAAKVKyRPwAAAAAAAPh/EpiBHfeDi79nfAAKVKyRP9wMmdIlPaI/\",\"dtype\":\"float64\",\"order\":\"little\",\"shape\":[6]},{\"__ndarray__\":\"/zdNYdV9sL93Gf6kzj7rvwAAAAAAAPh/oL/smwlR6b93Gf6kzj7rv+ZxH7SRXem/\",\"dtype\":\"float64\",\"order\":\"little\",\"shape\":[6]},{\"__ndarray__\":\"/zdNYdV9sL/koSnmmIrpPwAAAAAAAPh/6hpiFpcP6D/koSnmmIrpPw1Em1C8euc/\",\"dtype\":\"float64\",\"order\":\"little\",\"shape\":[6]},{\"__ndarray__\":\"/zdNYdV9sL/vpshyt/TovwAAAAAAAPh/DovwB8bl5r/vpshyt/Tovwh1i6Lclue/\",\"dtype\":\"float64\",\"order\":\"little\",\"shape\":[6]},{\"__ndarray__\":\"pwawNp/AfL//N01h1X2wvwAAAAAAAPh/GBsTqeUKcL//N01h1X2wv7JxRlucHKO/\",\"dtype\":\"float64\",\"order\":\"little\",\"shape\":[6]},{\"__ndarray__\":\"hhCd0wwn278NERpe1lHXvwAAAAAAAPh/MJMNFS4c278NERpe1lHXv8luW71LJtu/\",\"dtype\":\"float64\",\"order\":\"little\",\"shape\":[6]},{\"__ndarray__\":\"WpVsE+Oxy78NERpe1lHXvwAAAAAAAPh/aU73fkh/078NERpe1lHXv87r2sZ+hdO/\",\"dtype\":\"float64\",\"order\":\"little\",\"shape\":[6]},{\"__ndarray__\":\"WpVsE+Oxy7//N01h1X2wvwAAAAAAAPh/5JfML3YIwL//N01h1X2wv8ps7A0QWr+/\",\"dtype\":\"float64\",\"order\":\"little\",\"shape\":[6]},{\"__ndarray__\":\"ChJ2xI4B2b8NERpe1lHXvwAAAAAAAPh/6gtbMV/H178NERpe1lHXv1YeGYXnitq/\",\"dtype\":\"float64\",\"order\":\"little\",\"shape\":[6]},{\"__ndarray__\":\"tLk2u6Kuy78NERpe1lHXvwAAAAAAAPh/Z96GpPNV078NERpe1lHXv3tvQQ95v9O/\",\"dtype\":\"float64\",\"order\":\"little\",\"shape\":[6]},{\"__ndarray__\":\"tLk2u6Kuy7//N01h1X2wvwAAAAAAAPh/515mdA1Mv7//N01h1X2wv/w4ZqKuDcC/\",\"dtype\":\"float64\",\"order\":\"little\",\"shape\":[6]},{\"__ndarray__\":\"xM2T2qNezL8NERpe1lHXvwAAAAAAAPh/4M2W19tn078NERpe1lHXv8uhspXmodO/\",\"dtype\":\"float64\",\"order\":\"little\",\"shape\":[6]},{\"__ndarray__\":\"xM2T2qNezL//N01h1X2wvwAAAAAAAPh/yF1Gz0K2v7//N01h1X2wv3faL28twb+/\",\"dtype\":\"float64\",\"order\":\"little\",\"shape\":[6]},{\"__ndarray__\":\"l58so/X72r8NERpe1lHXvwAAAAAAAPh/IgMWkcFN2r8NERpe1lHXv9M1DiRlcdu/\",\"dtype\":\"float64\",\"order\":\"little\",\"shape\":[6]},{\"__ndarray__\":\"CCbHzPpu2r8NERpe1lHXvwAAAAAAAPh/lxrFmaxx278NERpe1lHXv2AJS1H2P9q/\",\"dtype\":\"float64\",\"order\":\"little\",\"shape\":[6]},{\"__ndarray__\":\"Ry3IpCdY2r8NERpe1lHXvwAAAAAAAPh/HfFqOWQj2b8NERpe1lHXv3v1hwIjOdu/\",\"dtype\":\"float64\",\"order\":\"little\",\"shape\":[6]},{\"__ndarray__\":\"0jxnlqLT6b88/EiO3ZHovwAAAAAAAPh/WzjN74z+6b88/EiO3ZHovw5SqwKnoeq/\",\"dtype\":\"float64\",\"order\":\"little\",\"shape\":[6]},{\"__ndarray__\":\"QK1UqlDxvT+UneYzw4CwPwAAAAAAAPh/bAZ8F/8UwD+UneYzw4CwP3UpPV3M6Lc/\",\"dtype\":\"float64\",\"order\":\"little\",\"shape\":[6]},{\"__ndarray__\":\"9+zX1JfluD+UneYzw4CwPwAAAAAAAPh/FiJcfd1gvT+UneYzw4CwPzmqRcxFULI/\",\"dtype\":\"float64\",\"order\":\"little\",\"shape\":[6]},{\"__ndarray__\":\"uihr3ggIwD+UneYzw4CwPwAAAAAAAPh/cT35l0J+wD+UneYzw4CwP0wTgRB+pLw/\",\"dtype\":\"float64\",\"order\":\"little\",\"shape\":[6]},{\"__ndarray__\":\"27H5q/CijL//N01h1X2wvwAAAAAAAPh/U/J79JSbob//N01h1X2wv3AX9hc5fGe/\",\"dtype\":\"float64\",\"order\":\"little\",\"shape\":[6]},{\"__ndarray__\":\"T5ZVNEMfmr//N01h1X2wvwAAAAAAAPh/vmCC90M0k7//N01h1X2wvwBQEBxH0/g+\",\"dtype\":\"float64\",\"order\":\"little\",\"shape\":[6]},{\"__ndarray__\":\"SGESG/Y3zb/VZCjECZzYvwAAAAAAAPh/V+SnOFGB1L/VZCjECZzYv2VwQhOTa9W/\",\"dtype\":\"float64\",\"order\":\"little\",\"shape\":[6]},{\"__ndarray__\":\"SGESG/Y3zb//N01h1X2wvwAAAAAAAPh/+39CoT1qwL//N01h1X2wv52WNFk/qb2/\",\"dtype\":\"float64\",\"order\":\"little\",\"shape\":[6]},{\"__ndarray__\":\"D67oZS4tzb/VZCjECZzYvwAAAAAAAPh/Q/YrBzeK1L/VZCjECZzYv9YPTEESQtW/\",\"dtype\":\"float64\",\"order\":\"little\",\"shape\":[6]},{\"__ndarray__\":\"D67oZS4tzb//N01h1X2wvwAAAAAAAPh/zcezUjB4wL//N01h1X2wv7x12XztB72/\",\"dtype\":\"float64\",\"order\":\"little\",\"shape\":[6]},{\"__ndarray__\":\"ah133JIM0z82VT5zXP/PPwAAAAAAAPh/2mqXPwbm0j82VT5zXP/PP36BQCCDH9Q/\",\"dtype\":\"float64\",\"order\":\"little\",\"shape\":[6]},{\"__ndarray__\":\"zbaWyMfM0j82VT5zXP/PPwAAAAAAAPh/93Xj+hkH1D82VT5zXP/PPzzPC4JWOdI/\",\"dtype\":\"float64\",\"order\":\"little\",\"shape\":[6]},{\"__ndarray__\":\"wcisNd+C0z82VT5zXP/PPwAAAAAAAPh/0vbflDL50z82VT5zXP/PPy6HrGKEltM/\",\"dtype\":\"float64\",\"order\":\"little\",\"shape\":[6]},{\"__ndarray__\":\"f4TOEreVwr/5qU/VUI+5vwAAAAAAAPh/rwLHIql2vb/5qU/VUI+5v+QCdHnF08O/\",\"dtype\":\"float64\",\"order\":\"little\",\"shape\":[6]},{\"__ndarray__\":\"V/yYkPbizr+lU5hc+GPJvwAAAAAAAPh/bcyUwd5S0L+lU5hc+GPJv4hgqlbDpdC/\",\"dtype\":\"float64\",\"order\":\"little\",\"shape\":[6]},{\"__ndarray__\":\"lCwyskMSzb+lU5hc+GPJvwAAAAAAAPh/ZL+nI0AL0L+lU5hc+GPJv3fM5LeluMq/\",\"dtype\":\"float64\",\"order\":\"little\",\"shape\":[6]},{\"__ndarray__\":\"YTTvEnIrz7+lU5hc+GPJvwAAAAAAAPh/FfFlzHvL0L+lU5hc+GPJv2FsT2KqjM6/\",\"dtype\":\"float64\",\"order\":\"little\",\"shape\":[6]},{\"__ndarray__\":\"RbuJhmVpyb+lU5hc+GPJvwAAAAAAAPh/e1/hLXKTzL+lU5hc+GPJvyXTOv47Q8a/\",\"dtype\":\"float64\",\"order\":\"little\",\"shape\":[6]},{\"__ndarray__\":\"YZKiTXcy5r88/EiO3ZHovwAAAAAAAPh//OcCPVKQ5r88/EiO3ZHov2mWW0cz0Oa/\",\"dtype\":\"float64\",\"order\":\"little\",\"shape\":[6]},{\"__ndarray__\":\"nwwwrSgNvr//N01h1X2wvwAAAAAAAPh/pISDgLBMwL//N01h1X2wv8EuiVEVXLm/\",\"dtype\":\"float64\",\"order\":\"little\",\"shape\":[6]},{\"__ndarray__\":\"XquMdAsOYz//N01h1X2wvwAAAAAAAPh/zFNxgrLIj7//N01h1X2wvwCCSt49UCW/\",\"dtype\":\"float64\",\"order\":\"little\",\"shape\":[6]},{\"__ndarray__\":\"9/AR2c43u7//N01h1X2wvwAAAAAAAPh/wZ+x9C+os7//N01h1X2wvx59JF6+Lb6/\",\"dtype\":\"float64\",\"order\":\"little\",\"shape\":[6]},{\"__ndarray__\":\"R5l6FmwVsL//N01h1X2wvwAAAAAAAPh/obANYZcvtr//N01h1X2wv9CkKBuJI6O/\",\"dtype\":\"float64\",\"order\":\"little\",\"shape\":[6]},{\"__ndarray__\":\"eZoFcIiasb//N01h1X2wvwAAAAAAAPh/jlbGXZX4pb//N01h1X2wvxKD3BlMmLe/\",\"dtype\":\"float64\",\"order\":\"little\",\"shape\":[6]},{\"__ndarray__\":\"/zscfewZp7//N01h1X2wvwAAAAAAAPh/sIDTqJn4hb//N01h1X2wv5zrraiKcqq/\",\"dtype\":\"float64\",\"order\":\"little\",\"shape\":[6]},{\"__ndarray__\":\"itquqepMXD//N01h1X2wvwAAAAAAAPh/MNHuApOmc7//N01h1X2wv7BR/r7GV3S/\",\"dtype\":\"float64\",\"order\":\"little\",\"shape\":[6]},{\"__ndarray__\":\"XycJf727nb//N01h1X2wvwAAAAAAAPh/eFdkZbYrgr//N01h1X2wv1gzH3uIs6i/\",\"dtype\":\"float64\",\"order\":\"little\",\"shape\":[6]},{\"__ndarray__\":\"dL3+5sgArL//N01h1X2wvwAAAAAAAPh//JeWrQxen7//N01h1X2wv2og2CMWT7S/\",\"dtype\":\"float64\",\"order\":\"little\",\"shape\":[6]},{\"__ndarray__\":\"Q2k1KtUltb//N01h1X2wvwAAAAAAAPh/hGY2eIi2ur//N01h1X2wv0FSipn3H62/\",\"dtype\":\"float64\",\"order\":\"little\",\"shape\":[6]},{\"__ndarray__\":\"LN3JAiz/s7//N01h1X2wvwAAAAAAAPh/4J0/WHhZrL//N01h1X2wv3azHiE/Z7q/\",\"dtype\":\"float64\",\"order\":\"little\",\"shape\":[6]},{\"__ndarray__\":\"PUvgZ9Jwp7//N01h1X2wvwAAAAAAAPh/YI3GAOXSm7//N01h1X2wv6NwjR64RLO/\",\"dtype\":\"float64\",\"order\":\"little\",\"shape\":[6]},{\"__ndarray__\":\"37j9ad6Fir//N01h1X2wvwAAAAAAAPh/AKDlNj4F+D7/N01h1X2wv5xd8uJKDpO/\",\"dtype\":\"float64\",\"order\":\"little\",\"shape\":[6]},{\"__ndarray__\":\"4pYl/BjXv7//N01h1X2wvwAAAAAAAPh/HnWQrotYwL//N01h1X2wv/P8Q8DiJr6/\",\"dtype\":\"float64\",\"order\":\"little\",\"shape\":[6]},{\"__ndarray__\":\"KnbkoGOirL//N01h1X2wvwAAAAAAAPh/fqTHhffOtL//N01h1X2wv0EYYsfikaC/\",\"dtype\":\"float64\",\"order\":\"little\",\"shape\":[6]},{\"__ndarray__\":\"yTeNrRRDm7//N01h1X2wvwAAAAAAAPh/BK/rmyt9jb//N01h1X2wv5zvdQpkla2/\",\"dtype\":\"float64\",\"order\":\"little\",\"shape\":[6]},{\"__ndarray__\":\"ppifOHXPvr//N01h1X2wvwAAAAAAAPh/yDM9ibVgub//N01h1X2wvxMEQ+dHTcC/\",\"dtype\":\"float64\",\"order\":\"little\",\"shape\":[6]},{\"__ndarray__\":\"YSiyvzA9wL//N01h1X2wvwAAAAAAAPh/tOLkxG3Tvb//N01h1X2wvyhulysKZcC/\",\"dtype\":\"float64\",\"order\":\"little\",\"shape\":[6]},{\"__ndarray__\":\"Clq52erytr//N01h1X2wvwAAAAAAAPh/AKW1ADKArr//N01h1X2wv8ZpdYsWP7u/\",\"dtype\":\"float64\",\"order\":\"little\",\"shape\":[6]},{\"__ndarray__\":\"iTEfLRMYub//N01h1X2wvwAAAAAAAPh/flUpbDZyvr//N01h1X2wv9OxNyzoIrS/\",\"dtype\":\"float64\",\"order\":\"little\",\"shape\":[6]},{\"__ndarray__\":\"mOI4zsTRez//N01h1X2wvwAAAAAAAPh/ANANZX5G8T7/N01h1X2wv37J9dnAmpK/\",\"dtype\":\"float64\",\"order\":\"little\",\"shape\":[6]},{\"__ndarray__\":\"LHxAPUTDuL//N01h1X2wvwAAAAAAAPh/zh2KZyjvtb//N01h1X2wv0+K57RBWr+/\",\"dtype\":\"float64\",\"order\":\"little\",\"shape\":[6]},{\"__ndarray__\":\"k8wICNYDob//N01h1X2wvwAAAAAAAPh/Hestxs7LrL//N01h1X2wv2jjPUz/hIu/\",\"dtype\":\"float64\",\"order\":\"little\",\"shape\":[6]}],\"ys\":[{\"__ndarray__\":\"oQgPkyjtqD8D8xkq6JTePwAAAAAAAPh//eZFWXmG2j8D8xkq6JTeP8sWmu2qPdw/\",\"dtype\":\"float64\",\"order\":\"little\",\"shape\":[6]},{\"__ndarray__\":\"oQgPkyjtqD+9y02ItOPPPwAAAAAAAPh/mEShqmGlxz+9y02ItOPPP1KGGnuh2ck/\",\"dtype\":\"float64\",\"order\":\"little\",\"shape\":[6]},{\"__ndarray__\":\"oQgPkyjtqD+T/KyXqYq7PwAAAAAAAPh/tAKOrJ4jqz+T/KyXqYq7P5TeQhBm3bc/\",\"dtype\":\"float64\",\"order\":\"little\",\"shape\":[6]},{\"__ndarray__\":\"oQgPkyjtqD9Mnbx1hXhLPwAAAAAAAPh/RxRdKUbqrz9Mnbx1hXhLPyXKclo6b58/\",\"dtype\":\"float64\",\"order\":\"little\",\"shape\":[6]},{\"__ndarray__\":\"oQgPkyjtqD/sQccQaJzYPwAAAAAAAPh/eDcZoO+u1D/sQccQaJzYP0wXlhhMudY/\",\"dtype\":\"float64\",\"order\":\"little\",\"shape\":[6]},{\"__ndarray__\":\"oQgPkyjtqD+sKeutSX3cPwAAAAAAAPh/gTpDCsBj2j+sKeutSX3cP3xQuFmXftg/\",\"dtype\":\"float64\",\"order\":\"little\",\"shape\":[6]},{\"__ndarray__\":\"oQgPkyjtqD9TrBqr4DnfPwAAAAAAAPh/C2GfBAU12z9TrBqr4DnfP2vhjbYYCt0/\",\"dtype\":\"float64\",\"order\":\"little\",\"shape\":[6]},{\"__ndarray__\":\"oQgPkyjtqD/QOkSF8DF8vwAAAAAAAPh/fhN7RDNlrT/QOkSF8DF8vzyCpT/XLKI/\",\"dtype\":\"float64\",\"order\":\"little\",\"shape\":[6]},{\"__ndarray__\":\"oQgPkyjtqD9Trc/v8ertvwAAAAAAAPh/7IQU8i/b679Trc/v8ertv/sUX/kjf+y/\",\"dtype\":\"float64\",\"order\":\"little\",\"shape\":[6]},{\"__ndarray__\":\"oQgPkyjtqD8eNFEsbWPDPwAAAAAAAPh/mqEY26vEwT8eNFEsbWPDPyYrvvETDLk/\",\"dtype\":\"float64\",\"order\":\"little\",\"shape\":[6]},{\"__ndarray__\":\"oQgPkyjtqD+rOHUxE1/TvwAAAAAAAPh/3P+JKx0h07+rOHUxE1/Tv/8oKGjzSdC/\",\"dtype\":\"float64\",\"order\":\"little\",\"shape\":[6]},{\"__ndarray__\":\"oQgPkyjtqD9XBw8FkIDfPwAAAAAAAPh/20jAfVNx2z9XBw8FkIDfP6ltfG/LHdw/\",\"dtype\":\"float64\",\"order\":\"little\",\"shape\":[6]},{\"__ndarray__\":\"oQgPkyjtqD/lYFHHEDvfPwAAAAAAAPh/t/A6cPBS2z/lYFHHEDvfP5R+8600Z90/\",\"dtype\":\"float64\",\"order\":\"little\",\"shape\":[6]},{\"__ndarray__\":\"oQgPkyjtqD8zrLRKGefaPwAAAAAAAPh/ccxuhNks1z8zrLRKGefaPyJWr67kg9k/\",\"dtype\":\"float64\",\"order\":\"little\",\"shape\":[6]},{\"__ndarray__\":\"oQgPkyjtqD84R22SLfHCvwAAAAAAAPh/qoocrSmRvL84R22SLfHCvxOxM6ondsS/\",\"dtype\":\"float64\",\"order\":\"little\",\"shape\":[6]},{\"__ndarray__\":\"A/MZKuiU3j9UAYq5WDPpPwAAAAAAAPh/0OPSYuHq5z9UAYq5WDPpP5pos1HXJuc/\",\"dtype\":\"float64\",\"order\":\"little\",\"shape\":[6]},{\"__ndarray__\":\"A/MZKuiU3j/YGS3YFSDBPwAAAAAAAPh/drrzSTeHwj/YGS3YFSDBP4Ipr+143cc/\",\"dtype\":\"float64\",\"order\":\"little\",\"shape\":[6]},{\"__ndarray__\":\"A/MZKuiU3j8L0XkzgojoPwAAAAAAAPh/w1K6ET+L6D8L0XkzgojoP+KwjI8mFec/\",\"dtype\":\"float64\",\"order\":\"little\",\"shape\":[6]},{\"__ndarray__\":\"A/MZKuiU3j/6IjNmIDzRPwAAAAAAAPh/ouRLmv5N0T/6IjNmIDzRP97Z7YFAM9Q/\",\"dtype\":\"float64\",\"order\":\"little\",\"shape\":[6]},{\"__ndarray__\":\"vctNiLTjzz9Mnbx1hXhLPwAAAAAAAPh/wImPC/aysD9Mnbx1hXhLP8HYUBUnz6Y/\",\"dtype\":\"float64\",\"order\":\"little\",\"shape\":[6]},{\"__ndarray__\":\"vctNiLTjzz9AAjV+PuPfPwAAAAAAAPh/MUMeAwfE2z9AAjV+PuPfPxv4m7LrEt0/\",\"dtype\":\"float64\",\"order\":\"little\",\"shape\":[6]},{\"__ndarray__\":\"k/ysl6mKuz8D8xkq6JTePwAAAAAAAPh/LnGOWYJ52j8D8xkq6JTeP//kWfzv8ds/\",\"dtype\":\"float64\",\"order\":\"little\",\"shape\":[6]},{\"__ndarray__\":\"k/ysl6mKuz/zLjQ8xULvvwAAAAAAAPh/gcFD7Clg7b/zLjQ8xULvv7FF/msyVu2/\",\"dtype\":\"float64\",\"order\":\"little\",\"shape\":[6]},{\"__ndarray__\":\"k/ysl6mKuz8xcTOk4nPgPwAAAAAAAPh/ZqrsVVA44D8xcTOk4nPgP/uGoMuxrd0/\",\"dtype\":\"float64\",\"order\":\"little\",\"shape\":[6]},{\"__ndarray__\":\"k/ysl6mKuz+QDRd1rgblPwAAAAAAAPh/XJl965AM4z+QDRd1rgblP2Ua8aT9CuQ/\",\"dtype\":\"float64\",\"order\":\"little\",\"shape\":[6]},{\"__ndarray__\":\"k/ysl6mKuz8zrLRKGefaPwAAAAAAAPh/wltN5zIh1z8zrLRKGefaP39sDSyladk/\",\"dtype\":\"float64\",\"order\":\"little\",\"shape\":[6]},{\"__ndarray__\":\"k/ysl6mKuz9AAjV+PuPfPwAAAAAAAPh/cEGU2ETM2z9AAjV+PuPfP2h8wZhUntw/\",\"dtype\":\"float64\",\"order\":\"little\",\"shape\":[6]},{\"__ndarray__\":\"TJ28dYV4Sz/fvnDOOejsvwAAAAAAAPh/sMnUaNxq67/fvnDOOejsvzfBf21t2Oq/\",\"dtype\":\"float64\",\"order\":\"little\",\"shape\":[6]},{\"__ndarray__\":\"TJ28dYV4Sz+fQCxF2eLkPwAAAAAAAPh/uU/wCgnD4z+fQCxF2eLkPzkzj+Jj3uI/\",\"dtype\":\"float64\",\"order\":\"little\",\"shape\":[6]},{\"__ndarray__\":\"TJ28dYV4Sz84R22SLfHCvwAAAAAAAPh/shqKcaAnvb84R22SLfHCv2SVzkIezsS/\",\"dtype\":\"float64\",\"order\":\"little\",\"shape\":[6]},{\"__ndarray__\":\"TJ28dYV4Sz/YGS3YFSDBPwAAAAAAAPh/xup5eDWwuT/YGS3YFSDBP63z4lpzFcM/\",\"dtype\":\"float64\",\"order\":\"little\",\"shape\":[6]},{\"__ndarray__\":\"TJ28dYV4Sz9AAjV+PuPfPwAAAAAAAPh/LAWIIyHE2z9AAjV+PuPfP+4kKej/FN0/\",\"dtype\":\"float64\",\"order\":\"little\",\"shape\":[6]},{\"__ndarray__\":\"TJ28dYV4Sz+QDRd1rgblPwAAAAAAAPh/Ajeq/roR4z+QDRd1rgblP7KkDp9AGuQ/\",\"dtype\":\"float64\",\"order\":\"little\",\"shape\":[6]},{\"__ndarray__\":\"TJ28dYV4Sz/eZfMD0X7mvwAAAAAAAPh/uiPSBJOX5L/eZfMD0X7mv3c6m977teW/\",\"dtype\":\"float64\",\"order\":\"little\",\"shape\":[6]},{\"__ndarray__\":\"TJ28dYV4Sz+flWXBtsPcPwAAAAAAAPh/pOUjdIG72D+flWXBtsPcP6chsnXvhto/\",\"dtype\":\"float64\",\"order\":\"little\",\"shape\":[6]},{\"__ndarray__\":\"7EHHEGic2D8TY6Vdso7YPwAAAAAAAPh/hf/y1bwK1z8TY6Vdso7YPwKKoG29Mto/\",\"dtype\":\"float64\",\"order\":\"little\",\"shape\":[6]},{\"__ndarray__\":\"7EHHEGic2D9TrBqr4DnfPwAAAAAAAPh/7irnYAQi2z9TrBqr4DnfP8LTLIND+ds/\",\"dtype\":\"float64\",\"order\":\"little\",\"shape\":[6]},{\"__ndarray__\":\"rCnrrUl93D9Eo73zirfZPwAAAAAAAPh//rxx5aaP2z9Eo73zirfZP4KXTYiRadg/\",\"dtype\":\"float64\",\"order\":\"little\",\"shape\":[6]},{\"__ndarray__\":\"rCnrrUl93D9TrBqr4DnfPwAAAAAAAPh/qnuMGq1i3T9TrBqr4DnfP6fzRzloROA/\",\"dtype\":\"float64\",\"order\":\"little\",\"shape\":[6]},{\"__ndarray__\":\"U6waq+A53z8D8xkq6JTePwAAAAAAAPh/Qzv3WrKS4D8D8xkq6JTeP+DK/nRfHN4/\",\"dtype\":\"float64\",\"order\":\"little\",\"shape\":[6]},{\"__ndarray__\":\"0DpEhfAxfL/sQccQaJzYPwAAAAAAAPh/ySjShMul1D/sQccQaJzYP6xT8lSVndY/\",\"dtype\":\"float64\",\"order\":\"little\",\"shape\":[6]},{\"__ndarray__\":\"0DpEhfAxfL+sKeutSX3cPwAAAAAAAPh/rDUr7h4H2j+sKeutSX3cP0oyFSimaNg/\",\"dtype\":\"float64\",\"order\":\"little\",\"shape\":[6]},{\"__ndarray__\":\"0DpEhfAxfL9TrBqr4DnfPwAAAAAAAPh/kRCAC0gx2z9TrBqr4DnfP5kq4XWL+9w/\",\"dtype\":\"float64\",\"order\":\"little\",\"shape\":[6]},{\"__ndarray__\":\"0DpEhfAxfL8TY6Vdso7YPwAAAAAAAPh/8fAShRKx1D8TY6Vdso7YP99Q3i4t19Y/\",\"dtype\":\"float64\",\"order\":\"little\",\"shape\":[6]},{\"__ndarray__\":\"0DpEhfAxfL9Trc/v8ertvwAAAAAAAPh/F5w7kSfb679Trc/v8ertv+qKNmAlfuy/\",\"dtype\":\"float64\",\"order\":\"little\",\"shape\":[6]},{\"__ndarray__\":\"HjRRLG1jwz+T/KyXqYq7PwAAAAAAAPh/vPauAAIeuD+T/KyXqYq7P0r8toYPRMI/\",\"dtype\":\"float64\",\"order\":\"little\",\"shape\":[6]},{\"__ndarray__\":\"HjRRLG1jwz/sQccQaJzYPwAAAAAAAPh//ozpOWpt1T/sQccQaJzYPzluBe3HNtg/\",\"dtype\":\"float64\",\"order\":\"little\",\"shape\":[6]},{\"__ndarray__\":\"HjRRLG1jwz+sKeutSX3cPwAAAAAAAPh/FT/8qNnD2T+sKeutSX3cP+AK7DmXX9g/\",\"dtype\":\"float64\",\"order\":\"little\",\"shape\":[6]},{\"__ndarray__\":\"HjRRLG1jwz9TrBqr4DnfPwAAAAAAAPh/K3/VPI232z9TrBqr4DnfP1naEcD7Rt4/\",\"dtype\":\"float64\",\"order\":\"little\",\"shape\":[6]},{\"__ndarray__\":\"HjRRLG1jwz/QOkSF8DF8vwAAAAAAAPh/2F5Mr135mD/QOkSF8DF8v+jvfc2KMqw/\",\"dtype\":\"float64\",\"order\":\"little\",\"shape\":[6]},{\"__ndarray__\":\"HjRRLG1jwz/Wn1OG48HWvwAAAAAAAPh/suNTEspn07/Wn1OG48HWvxJwQZ4jFta/\",\"dtype\":\"float64\",\"order\":\"little\",\"shape\":[6]},{\"__ndarray__\":\"HjRRLG1jwz8TY6Vdso7YPwAAAAAAAPh/0K9o0x1/1T8TY6Vdso7YP16FpOkHWdg/\",\"dtype\":\"float64\",\"order\":\"little\",\"shape\":[6]},{\"__ndarray__\":\"VwcPBZCA3z8D8xkq6JTePwAAAAAAAPh/B2wqKWlP3T8D8xkq6JTeP/eRLax9OuA/\",\"dtype\":\"float64\",\"order\":\"little\",\"shape\":[6]},{\"__ndarray__\":\"VwcPBZCA3z8iBkwNaj/cPwAAAAAAAPh/ERdHSNkU2z8iBkwNaj/cPw4Qv19sON4/\",\"dtype\":\"float64\",\"order\":\"little\",\"shape\":[6]},{\"__ndarray__\":\"VwcPBZCA3z8zeEsKNN7ePwAAAAAAAPh/tcbKszla3T8zeEsKNN7eP/4FDy4dQeA/\",\"dtype\":\"float64\",\"order\":\"little\",\"shape\":[6]},{\"__ndarray__\":\"VwcPBZCA3z8Ms14vfwPgPwAAAAAAAPh/eYZt/ArJ4D8Ms14vfwPgP08TnhoCat4/\",\"dtype\":\"float64\",\"order\":\"little\",\"shape\":[6]},{\"__ndarray__\":\"VwcPBZCA3z/lYFHHEDvfPwAAAAAAAPh/9pq23G+13T/lYFHHEDvfP1vLgfi6buA/\",\"dtype\":\"float64\",\"order\":\"little\",\"shape\":[6]},{\"__ndarray__\":\"VwcPBZCA3z+QDRd1rgblPwAAAAAAAPh/9I/Tt+Cb4z+QDRd1rgblP/gZiShSFeU/\",\"dtype\":\"float64\",\"order\":\"little\",\"shape\":[6]},{\"__ndarray__\":\"VwcPBZCA3z/6IjNmIDzRPwAAAAAAAPh/P+Qdb9z00D/6IjNmIDzRPxIfryKh8tM/\",\"dtype\":\"float64\",\"order\":\"little\",\"shape\":[6]},{\"__ndarray__\":\"VwcPBZCA3z8CAzaOxVLkPwAAAAAAAPh/5LgRA5W95D8CAzaOxVLkP0dcHiO4MOM/\",\"dtype\":\"float64\",\"order\":\"little\",\"shape\":[6]},{\"__ndarray__\":\"5WBRxxA73z8D8xkq6JTePwAAAAAAAPh/ZD0nV7tB4D8D8xkq6JTeP4zRCZH6Xt0/\",\"dtype\":\"float64\",\"order\":\"little\",\"shape\":[6]},{\"__ndarray__\":\"5WBRxxA73z/6IjNmIDzRPwAAAAAAAPh/W0f72CjM0T/6IjNmIDzRP6Kk7HuXhdQ/\",\"dtype\":\"float64\",\"order\":\"little\",\"shape\":[6]},{\"__ndarray__\":\"5WBRxxA73z9CMXTAuB/oPwAAAAAAAPh/H06jpPOJ5z9CMXTAuB/oPy4kWFDbT+Y/\",\"dtype\":\"float64\",\"order\":\"little\",\"shape\":[6]},{\"__ndarray__\":\"M6y0Shnn2j8D8xkq6JTePwAAAAAAAPh/MQCUubyD3j8D8xkq6JTeP+jSHF1Ents/\",\"dtype\":\"float64\",\"order\":\"little\",\"shape\":[6]},{\"__ndarray__\":\"M6y0Shnn2j9XBw8FkIDfPwAAAAAAAPh/NgD5BkEY4D9XBw8FkIDfP4DBKuPQHN0/\",\"dtype\":\"float64\",\"order\":\"little\",\"shape\":[6]},{\"__ndarray__\":\"M6y0Shnn2j/lYFHHEDvfPwAAAAAAAPh/O0i3Yhs93D/lYFHHEDvfPxok39mUG9s/\",\"dtype\":\"float64\",\"order\":\"little\",\"shape\":[6]},{\"__ndarray__\":\"M6y0Shnn2j+QDRd1rgblPwAAAAAAAPh/jU2TSwX44j+QDRd1rgblP6p/sY4WrOM/\",\"dtype\":\"float64\",\"order\":\"little\",\"shape\":[6]},{\"__ndarray__\":\"M6y0Shnn2j/6IjNmIDzRPwAAAAAAAPh/2m5oxUJO0T/6IjNmIDzRP50oUeNvM9Q/\",\"dtype\":\"float64\",\"order\":\"little\",\"shape\":[6]},{\"__ndarray__\":\"n5VlwbbD3D8D8xkq6JTePwAAAAAAAPh/Wc6hNxZ92j8D8xkq6JTePxBM/EcXVNs/\",\"dtype\":\"float64\",\"order\":\"little\",\"shape\":[6]},{\"__ndarray__\":\"QAI1fj7j3z8D8xkq6JTePwAAAAAAAPh/6JdIQjPj3T8D8xkq6JTeP5M8qCmZe+A/\",\"dtype\":\"float64\",\"order\":\"little\",\"shape\":[6]},{\"__ndarray__\":\"QAI1fj7j3z9XBw8FkIDfPwAAAAAAAPh/7FzlIgGq4D9XBw8FkIDfP1GV/S+nLd4/\",\"dtype\":\"float64\",\"order\":\"little\",\"shape\":[6]},{\"__ndarray__\":\"A+dJUdsb1z8D8xkq6JTePwAAAAAAAPh/QyqsREOt2j8D8xkq6JTeP30o7atkwtw/\",\"dtype\":\"float64\",\"order\":\"little\",\"shape\":[6]},{\"__ndarray__\":\"A+dJUdsb1z+9y02ItOPPPwAAAAAAAPh/AJCcCljV0z+9y02ItOPPP8mS/+j1uNE/\",\"dtype\":\"float64\",\"order\":\"little\",\"shape\":[6]},{\"__ndarray__\":\"fHPj7W9S2j8D8xkq6JTePwAAAAAAAPh/mH7udlx/2j8D8xkq6JTeP7JRfaOjGdw/\",\"dtype\":\"float64\",\"order\":\"little\",\"shape\":[6]},{\"__ndarray__\":\"LAo+Zkza3j8D8xkq6JTePwAAAAAAAPh/F2blMxuC3T8D8xkq6JTeP0wRQA+7UeA/\",\"dtype\":\"float64\",\"order\":\"little\",\"shape\":[6]},{\"__ndarray__\":\"E2OlXbKO2D/lYFHHEDvfPwAAAAAAAPh/2nFC2Gkc2z/lYFHHEDvfP9FcfjzZdNw/\",\"dtype\":\"float64\",\"order\":\"little\",\"shape\":[6]},{\"__ndarray__\":\"ytAfLZEJ2D+sKeutSX3cPwAAAAAAAPh/CSr4qH4Z3T+sKeutSX3cP6S3lGBcCdo/\",\"dtype\":\"float64\",\"order\":\"little\",\"shape\":[6]},{\"__ndarray__\":\"ytAfLZEJ2D9TrBqr4DnfPwAAAAAAAPh/jN1QeDGC3D9TrBqr4DnfP7dG7rWTf98/\",\"dtype\":\"float64\",\"order\":\"little\",\"shape\":[6]},{\"__ndarray__\":\"ytAfLZEJ2D8eNFEsbWPDPwAAAAAAAPh/uolRtKiLyz8eNFEsbWPDP+0K/6UMSsg/\",\"dtype\":\"float64\",\"order\":\"little\",\"shape\":[6]},{\"__ndarray__\":\"V6RoV/jG1D+sKeutSX3cPwAAAAAAAPh/8KfjZrct2T+sKeutSX3cP4UgD+m+aNg/\",\"dtype\":\"float64\",\"order\":\"little\",\"shape\":[6]},{\"__ndarray__\":\"b3LXUZRI2z9TrBqr4DnfPwAAAAAAAPh/0gLmZNoo3D9TrBqr4DnfPycS5rIOAt8/\",\"dtype\":\"float64\",\"order\":\"little\",\"shape\":[6]},{\"__ndarray__\":\"b3LXUZRI2z9XBw8FkIDfPwAAAAAAAPh//AMFyNB23j9XBw8FkIDfP6kH4IEW8ts/\",\"dtype\":\"float64\",\"order\":\"little\",\"shape\":[6]},{\"__ndarray__\":\"RajmMj0ocj/QOkSF8DF8vwAAAAAAAPh/O2QO+WN9oD/QOkSF8DF8v4RVpegsr4+/\",\"dtype\":\"float64\",\"order\":\"little\",\"shape\":[6]},{\"__ndarray__\":\"m+8a9aDbtz+rOHUxE1/TvwAAAAAAAPh/1ASDUfR80L+rOHUxE1/Tv9LhQFGWfs6/\",\"dtype\":\"float64\",\"order\":\"little\",\"shape\":[6]},{\"__ndarray__\":\"m+8a9aDbtz/lYFHHEDvfPwAAAAAAAPh/rNGDeIJc3D/lYFHHEDvfP0CglB5aG9s/\",\"dtype\":\"float64\",\"order\":\"little\",\"shape\":[6]},{\"__ndarray__\":\"Azjfpt2U3D9XBw8FkIDfPwAAAAAAAPh/29cGv55i2z9XBw8FkIDfP5PNkVx4atw/\",\"dtype\":\"float64\",\"order\":\"little\",\"shape\":[6]},{\"__ndarray__\":\"G1RaApdu4T9XBw8FkIDfPwAAAAAAAPh/m7hTlqeW4T9XBw8FkIDfPxyYxdtftuE/\",\"dtype\":\"float64\",\"order\":\"little\",\"shape\":[6]},{\"__ndarray__\":\"xI8SKuhi3D9XBw8FkIDfPwAAAAAAAPh/jnj6lj2I2z9XBw8FkIDfP5DhYW9IfN0/\",\"dtype\":\"float64\",\"order\":\"little\",\"shape\":[6]},{\"__ndarray__\":\"tpylGrep2T/lYFHHEDvfPwAAAAAAAPh/a5vDOwEr2z/lYFHHEDvfP1efZFpC3Nw/\",\"dtype\":\"float64\",\"order\":\"little\",\"shape\":[6]},{\"__ndarray__\":\"/fezTZFUyr84R22SLfHCvwAAAAAAAPh/QANu7NW9wL84R22SLfHCv5pWCpPqAce/\",\"dtype\":\"float64\",\"order\":\"little\",\"shape\":[6]},{\"__ndarray__\":\"/fezTZFUyr/PKWGe9pPLvwAAAAAAAPh/dnUbpUh8zr/PKWGe9pPLv3iCO8vpLMi/\",\"dtype\":\"float64\",\"order\":\"little\",\"shape\":[6]},{\"__ndarray__\":\"/fezTZFUyr8RwOva+ivRvwAAAAAAAPh/01e8Y6UR0r8RwOva+ivRvyFQ8FpQ682/\",\"dtype\":\"float64\",\"order\":\"little\",\"shape\":[6]},{\"__ndarray__\":\"MzioPmCK0b84R22SLfHCvwAAAAAAAPh/YO85eHrgwL84R22SLfHCv2hetDn4IMe/\",\"dtype\":\"float64\",\"order\":\"little\",\"shape\":[6]},{\"__ndarray__\":\"MzioPmCK0b9NaIZ4INjtvwAAAAAAAPh/NMHsQCnf679NaIZ4INjtvwf5JpTz3+y/\",\"dtype\":\"float64\",\"order\":\"little\",\"shape\":[6]},{\"__ndarray__\":\"MzioPmCK0b+nMH3UzHrevwAAAAAAAPh/O0lN24QM37+nMH3UzHrev/UW/LRi/tu/\",\"dtype\":\"float64\",\"order\":\"little\",\"shape\":[6]},{\"__ndarray__\":\"MzioPmCK0b+Onu8k6vvHvwAAAAAAAPh//GrFs+KYxb+Onu8k6vvHvz6WPuUr4cu/\",\"dtype\":\"float64\",\"order\":\"little\",\"shape\":[6]},{\"__ndarray__\":\"MzioPmCK0b8GZ2yrySzAPwAAAAAAAPh//CmsjpuBsz8GZ2yrySzAPyEdA575lr4/\",\"dtype\":\"float64\",\"order\":\"little\",\"shape\":[6]},{\"__ndarray__\":\"MzioPmCK0b+uzFcF3ZCqvwAAAAAAAPh/6Ua17/Ygt7+uzFcF3ZCqv34HDiTyxKW/\",\"dtype\":\"float64\",\"order\":\"little\",\"shape\":[6]},{\"__ndarray__\":\"jQh/8ynE1L84R22SLfHCvwAAAAAAAPh/sCjdfu47wr84R22SLfHCv0NUAu2zQMi/\",\"dtype\":\"float64\",\"order\":\"little\",\"shape\":[6]},{\"__ndarray__\":\"jQh/8ynE1L/997NNkVTKvwAAAAAAAPh/x0JTFdSJzr/997NNkVTKv5t6laBLKdG/\",\"dtype\":\"float64\",\"order\":\"little\",\"shape\":[6]},{\"__ndarray__\":\"jQh/8ynE1L8bLb5xkjbbvwAAAAAAAPh/Q/ZAE+jW2L8bLb5xkjbbvzcH9cNx69u/\",\"dtype\":\"float64\",\"order\":\"little\",\"shape\":[6]},{\"__ndarray__\":\"jQh/8ynE1L8eUmuvkjbGvwAAAAAAAPh/MtoPkNXBzL8eUmuvkjbGv/y3xgcbSse/\",\"dtype\":\"float64\",\"order\":\"little\",\"shape\":[6]},{\"__ndarray__\":\"jQh/8ynE1L+7Ex8tqa2kPwAAAAAAAPh/bHIsLpgdoD+7Ex8tqa2kP0RiYoq9noa/\",\"dtype\":\"float64\",\"order\":\"little\",\"shape\":[6]},{\"__ndarray__\":\"jQh/8ynE1L/u0b+OcI7mvwAAAAAAAPh/yTSpJfOO5r/u0b+OcI7mv4ohzm2AGeW/\",\"dtype\":\"float64\",\"order\":\"little\",\"shape\":[6]},{\"__ndarray__\":\"0sNeyEly0T84R22SLfHCvwAAAAAAAPh/h4GzxDdFt784R22SLfHCv+mA/Etke8C/\",\"dtype\":\"float64\",\"order\":\"little\",\"shape\":[6]},{\"__ndarray__\":\"0sNeyEly0T+KZR20L1XRPwAAAAAAAPh/ROpdDpPt0j+KZR20L1XRP7ag1w/xis8/\",\"dtype\":\"float64\",\"order\":\"little\",\"shape\":[6]},{\"__ndarray__\":\"0sNeyEly0T/PKWGe9pPLvwAAAAAAAPh/TfWTMzphxr/PKWGe9pPLv/c37ceXX8O/\",\"dtype\":\"float64\",\"order\":\"little\",\"shape\":[6]},{\"__ndarray__\":\"0sNeyEly0T/sAlZnzq/mPwAAAAAAAPh/OvATqpi75D/sAlZnzq/mP8ulIS53xeU/\",\"dtype\":\"float64\",\"order\":\"little\",\"shape\":[6]},{\"__ndarray__\":\"0sNeyEly0T93y3v307DpPwAAAAAAAPh/kL8yigCh5z93y3v307DpP1JzF7djNOg/\",\"dtype\":\"float64\",\"order\":\"little\",\"shape\":[6]},{\"__ndarray__\":\"/gKWpCUVwL84R22SLfHCvwAAAAAAAPh/Ui6vutbRvr84R22SLfHCv4Ey2TQjt8W/\",\"dtype\":\"float64\",\"order\":\"little\",\"shape\":[6]},{\"__ndarray__\":\"/gKWpCUVwL/dzj33BofJvwAAAAAAAPh/Nz3vKdMVy7/dzj33BofJv/BlJH6x5sS/\",\"dtype\":\"float64\",\"order\":\"little\",\"shape\":[6]},{\"__ndarray__\":\"/gKWpCUVwL/PKWGe9pPLvwAAAAAAAPh/jHzDkwaPzL/PKWGe9pPLv2Gy5/Liesa/\",\"dtype\":\"float64\",\"order\":\"little\",\"shape\":[6]},{\"__ndarray__\":\"/gKWpCUVwL/Q3jyxXhPBPwAAAAAAAPh/t0S5UBkUvz/Q3jyxXhPBPzaTBWxehLQ/\",\"dtype\":\"float64\",\"order\":\"little\",\"shape\":[6]},{\"__ndarray__\":\"/gKWpCUVwL8RwOva+ivRvwAAAAAAAPh/p1EAcBpN0b8RwOva+ivRvxQiDr5Xssy/\",\"dtype\":\"float64\",\"order\":\"little\",\"shape\":[6]},{\"__ndarray__\":\"P+F5RQTQyb84R22SLfHCvwAAAAAAAPh/CezYRdIwy784R22SLfHCv/c+E+ynu8i/\",\"dtype\":\"float64\",\"order\":\"little\",\"shape\":[6]},{\"__ndarray__\":\"o+RIcnk/oL84R22SLfHCvwAAAAAAAPh/3uqg8sP6vb84R22SLfHCv8ZZNABeRMW/\",\"dtype\":\"float64\",\"order\":\"little\",\"shape\":[6]},{\"__ndarray__\":\"o+RIcnk/oL/YnSASGHF1vwAAAAAAAPh/lkh01+idoL/YnSASGHF1v8xB8oTOOZE/\",\"dtype\":\"float64\",\"order\":\"little\",\"shape\":[6]},{\"__ndarray__\":\"o+RIcnk/oL9QWPrP2IHFvwAAAAAAAPh/rLpp6TjXxr9QWPrP2IHFv/LGvkeuscC/\",\"dtype\":\"float64\",\"order\":\"little\",\"shape\":[6]},{\"__ndarray__\":\"o+RIcnk/oL+eUtnghkfRPwAAAAAAAPh/KLozu5rNyz+eUtnghkfRPxZvHZN7kNA/\",\"dtype\":\"float64\",\"order\":\"little\",\"shape\":[6]},{\"__ndarray__\":\"o+RIcnk/oL8GZ2yrySzAPwAAAAAAAPh/SP2m1GEPtj8GZ2yrySzAP+MmCYGeGME/\",\"dtype\":\"float64\",\"order\":\"little\",\"shape\":[6]},{\"__ndarray__\":\"o+RIcnk/oL/PKWGe9pPLvwAAAAAAAPh/aLSJkfABxb/PKWGe9pPLvyT2DUBidcq/\",\"dtype\":\"float64\",\"order\":\"little\",\"shape\":[6]},{\"__ndarray__\":\"oBBwT0aky784R22SLfHCvwAAAAAAAPh/DenXorSAwL84R22SLfHCv3snXFsFysa/\",\"dtype\":\"float64\",\"order\":\"little\",\"shape\":[6]},{\"__ndarray__\":\"oBBwT0aky78+7oNpbjLnPwAAAAAAAPh/4MhfX1Za5T8+7oNpbjLnP2q2Lc6HPeU/\",\"dtype\":\"float64\",\"order\":\"little\",\"shape\":[6]},{\"__ndarray__\":\"oBBwT0aky7+4a1CNacTovwAAAAAAAPh/7AsVoKi+5r+4a1CNacTov5Budzk6n+e/\",\"dtype\":\"float64\",\"order\":\"little\",\"shape\":[6]},{\"__ndarray__\":\"oBBwT0aky7/7qpLkPsbovwAAAAAAAPh/0JgmLbBh6L/7qpLkPsbov+HunCitEOe/\",\"dtype\":\"float64\",\"order\":\"little\",\"shape\":[6]},{\"__ndarray__\":\"3idwFWHTzT84R22SLfHCvwAAAAAAAPh/BFgoE5qfuL84R22SLfHCv7ILPPVBucG/\",\"dtype\":\"float64\",\"order\":\"little\",\"shape\":[6]},{\"__ndarray__\":\"3idwFWHTzT+gKFFwPrDjPwAAAAAAAPh/hi9HhTsH4j+gKFFwPrDjP1bjxj0nYeM/\",\"dtype\":\"float64\",\"order\":\"little\",\"shape\":[6]},{\"__ndarray__\":\"eAJRuQzExb84R22SLfHCvwAAAAAAAPh/+Jd4pQhpwr84R22SLfHCv4XlkZ7/Ysi/\",\"dtype\":\"float64\",\"order\":\"little\",\"shape\":[6]},{\"__ndarray__\":\"zylhnvaTy784R22SLfHCvwAAAAAAAPh/4xHdrdt2wL84R22SLfHCv6hA9iriwMa/\",\"dtype\":\"float64\",\"order\":\"little\",\"shape\":[6]},{\"__ndarray__\":\"zylhnvaTy7/QWKB0GxfRvwAAAAAAAPh/nmOIPwF20r/QWKB0GxfRv8VCOaYins6/\",\"dtype\":\"float64\",\"order\":\"little\",\"shape\":[6]},{\"__ndarray__\":\"zylhnvaTy7/////////vvwAAAAAAAPh/9jbbsM0v7r/////////vvwkPYaX2Be6/\",\"dtype\":\"float64\",\"order\":\"little\",\"shape\":[6]},{\"__ndarray__\":\"zylhnvaTy7/Hq9HMw3PIvwAAAAAAAPh/lSeZzYyIxb/Hq9HMw3PIv0SS9OX+18u/\",\"dtype\":\"float64\",\"order\":\"little\",\"shape\":[6]},{\"__ndarray__\":\"zylhnvaTy78GZ2yrySzAPwAAAAAAAPh/sDp8Ko/dtD8GZ2yrySzAPzXYKjVUTcA/\",\"dtype\":\"float64\",\"order\":\"little\",\"shape\":[6]},{\"__ndarray__\":\"zylhnvaTy7/Q3jyxXhPBPwAAAAAAAPh/E3f+zaySwD/Q3jyxXhPBPxeOudXly7U/\",\"dtype\":\"float64\",\"order\":\"little\",\"shape\":[6]},{\"__ndarray__\":\"EcDr2vor0b/PKWGe9pPLvwAAAAAAAPh/7llVNQ1rzr/PKWGe9pPLv/4m7iP+h9G/\",\"dtype\":\"float64\",\"order\":\"little\",\"shape\":[6]},{\"__ndarray__\":\"BjkuiyJtyr/997NNkVTKvwAAAAAAAPh/AaxRpgmVzb/997NNkVTKvz6D+e3wRMe/\",\"dtype\":\"float64\",\"order\":\"little\",\"shape\":[6]},{\"__ndarray__\":\"hvOGeNl5yr/997NNkVTKvwAAAAAAAPh/tDfPH3o7x7/997NNkVTKv+FOrwmni82/\",\"dtype\":\"float64\",\"order\":\"little\",\"shape\":[6]},{\"__ndarray__\":\"hvOGeNl5yr/PKWGe9pPLvwAAAAAAAPh/ZINCKmpMzr/PKWGe9pPLv0TAwJrH/se/\",\"dtype\":\"float64\",\"order\":\"little\",\"shape\":[6]},{\"__ndarray__\":\"c0KZHqA40L/997NNkVTKvwAAAAAAAPh/XXns/JFD0b/997NNkVTKvwIjDo9Des+/\",\"dtype\":\"float64\",\"order\":\"little\",\"shape\":[6]},{\"__ndarray__\":\"ZgEH1LzTzL/997NNkVTKvwAAAAAAAPh/OOtnJSAyyL/997NNkVTKv2a4n8aCdM6/\",\"dtype\":\"float64\",\"order\":\"little\",\"shape\":[6]},{\"__ndarray__\":\"ZgEH1LzTzL/PKWGe9pPLvwAAAAAAAPh/I7WA9Ig3z7/PKWGe9pPLvyfv/qCj6si/\",\"dtype\":\"float64\",\"order\":\"little\",\"shape\":[6]},{\"__ndarray__\":\"5ppdllyly7/997NNkVTKvwAAAAAAAPh/7Wv4Nau6x7/997NNkVTKv/SticC3Bs6/\",\"dtype\":\"float64\",\"order\":\"little\",\"shape\":[6]},{\"__ndarray__\":\"5ppdllyly7/PKWGe9pPLvwAAAAAAAPh/0PCbtqjCzr/PKWGe9pPLvyOjNO9xcsi/\",\"dtype\":\"float64\",\"order\":\"little\",\"shape\":[6]},{\"__ndarray__\":\"PepMGJ0qzb/997NNkVTKvwAAAAAAAPh/ySDVKSYD0L/997NNkVTKv6kdy5f+Isq/\",\"dtype\":\"float64\",\"order\":\"little\",\"shape\":[6]},{\"__ndarray__\":\"q+VmVwXJx7/997NNkVTKvwAAAAAAAPh/vBemNpFeyr/997NNkVTKv4KTt6l1hsS/\",\"dtype\":\"float64\",\"order\":\"little\",\"shape\":[6]},{\"__ndarray__\":\"0wVcidemz7/997NNkVTKvwAAAAAAAPh/zusi0fPd0L/997NNkVTKv72eUGRh/sy/\",\"dtype\":\"float64\",\"order\":\"little\",\"shape\":[6]},{\"__ndarray__\":\"jp7vJOr7x794AlG5DMTFvwAAAAAAAPh/vOH1Uey6y794AlG5DMTFv4kRtiE69MW/\",\"dtype\":\"float64\",\"order\":\"little\",\"shape\":[6]},{\"__ndarray__\":\"l/ZrYHhx1L8zOKg+YIrRvwAAAAAAAPh/jFWca1XW0r8zOKg+YIrRv1ez8hDYOdW/\",\"dtype\":\"float64\",\"order\":\"little\",\"shape\":[6]},{\"__ndarray__\":\"tb8PRoVb1b8zOKg+YIrRvwAAAAAAAPh/lUX3qoYe1L8zOKg+YIrRv1woaMHYo9W/\",\"dtype\":\"float64\",\"order\":\"little\",\"shape\":[6]},{\"__ndarray__\":\"2OmeDzv30r8zOKg+YIrRvwAAAAAAAPh/PjAII5Fe0b8zOKg+YIrRv+S0CGdaVdS/\",\"dtype\":\"float64\",\"order\":\"little\",\"shape\":[6]},{\"__ndarray__\":\"HlJrr5I2xr/PKWGe9pPLvwAAAAAAAPh/tRfx1oxHxL/PKWGe9pPLvz+2TZWaIsm/\",\"dtype\":\"float64\",\"order\":\"little\",\"shape\":[6]},{\"__ndarray__\":\"3c499waHyb/PKWGe9pPLvwAAAAAAAPh/pw1pcvbBxb/PKWGe9pPLv5QSCQx6mMu/\",\"dtype\":\"float64\",\"order\":\"little\",\"shape\":[6]},{\"__ndarray__\":\"p/xhX/cjxr/+ApakJRXAvwAAAAAAAPh/2MiP0o+Kvr/+ApakJRXAv35ApHEbUMW/\",\"dtype\":\"float64\",\"order\":\"little\",\"shape\":[6]},{\"__ndarray__\":\"p/xhX/cjxr/PKWGe9pPLvwAAAAAAAPh/btKVypa4zL/PKWGe9pPLv5A58HEXnMa/\",\"dtype\":\"float64\",\"order\":\"little\",\"shape\":[6]},{\"__ndarray__\":\"x990/+7DxL/+ApakJRXAvwAAAAAAAPh/bAxeiTF8vb/+ApakJRXAv3ROfTHv48S/\",\"dtype\":\"float64\",\"order\":\"little\",\"shape\":[6]},{\"__ndarray__\":\"x990/+7DxL/PKWGe9pPLvwAAAAAAAPh/AzbPGZI4zL/PKWGe9pPLvz2Hwsq0N8a/\",\"dtype\":\"float64\",\"order\":\"little\",\"shape\":[6]},{\"__ndarray__\":\"q+qXQ4/oh7+j5EhyeT+gvwAAAAAAAPh/jNoc1JXcjD+j5EhyeT+gv65ejKp7D6C/\",\"dtype\":\"float64\",\"order\":\"little\",\"shape\":[6]},{\"__ndarray__\":\"bWDH0uHZr7+j5EhyeT+gvwAAAAAAAPh/aMkljOdNp7+j5EhyeT+gv67f+aC0A7a/\",\"dtype\":\"float64\",\"order\":\"little\",\"shape\":[6]},{\"__ndarray__\":\"Sp4JZoS0o7+j5EhyeT+gvwAAAAAAAPh/ZtGBX6XAjb+j5EhyeT+gv0a02h5WQLC/\",\"dtype\":\"float64\",\"order\":\"little\",\"shape\":[6]},{\"__ndarray__\":\"TfhEONXJ0b+gEHBPRqTLvwAAAAAAAPh/hakyggDU0b+gEHBPRqTLv2jvsZy+7c+/\",\"dtype\":\"float64\",\"order\":\"little\",\"shape\":[6]},{\"__ndarray__\":\"LDl6RUpCzT/eJ3AVYdPNPwAAAAAAAPh/TZaWvGjnyT/eJ3AVYdPNP5aAmrKNF9A/\",\"dtype\":\"float64\",\"order\":\"little\",\"shape\":[6]},{\"__ndarray__\":\"2UScqQvi0T/eJ3AVYdPNPwAAAAAAAPh/K3IrWA9S0T/eJ3AVYdPNPzoi+By1+9I/\",\"dtype\":\"float64\",\"order\":\"little\",\"shape\":[6]},{\"__ndarray__\":\"e0v1dyWA0D/eJ3AVYdPNPwAAAAAAAPh/x1+kgqG6zj/eJ3AVYdPNP9tbfJOOIdI/\",\"dtype\":\"float64\",\"order\":\"little\",\"shape\":[6]},{\"__ndarray__\":\"+RJpd+m30T/eJ3AVYdPNPwAAAAAAAPh/04+7HaK30j/eJ3AVYdPNP5DxfJ+vutI/\",\"dtype\":\"float64\",\"order\":\"little\",\"shape\":[6]},{\"__ndarray__\":\"aRDKVQxJx794AlG5DMTFvwAAAAAAAPh/tURyTonaw794AlG5DMTFv6MHthFvFsq/\",\"dtype\":\"float64\",\"order\":\"little\",\"shape\":[6]},{\"__ndarray__\":\"pm1Og2HVxr/PKWGe9pPLvwAAAAAAAPh/OAci6X/Lyb/PKWGe9pPLvxmH9yJNn8S/\",\"dtype\":\"float64\",\"order\":\"little\",\"shape\":[6]},{\"__ndarray__\":\"ECAd3l/HyL/PKWGe9pPLvwAAAAAAAPh/hC2UuZU0xr/PKWGe9pPLvyzAvgt5NMy/\",\"dtype\":\"float64\",\"order\":\"little\",\"shape\":[6]},{\"__ndarray__\":\"cwri7rjU0b/PKWGe9pPLvwAAAAAAAPh/SVbsZzbW0b/PKWGe9pPLv0UAqrN0F9C/\",\"dtype\":\"float64\",\"order\":\"little\",\"shape\":[6]},{\"__ndarray__\":\"nxLk09KExr/PKWGe9pPLvwAAAAAAAPh/VCIQdQvWw7/PKWGe9pPLv3WExtojF8S/\",\"dtype\":\"float64\",\"order\":\"little\",\"shape\":[6]},{\"__ndarray__\":\"kNySZGgW07/PKWGe9pPLvwAAAAAAAPh/HiS/iEqt0b/PKWGe9pPLv+K0BibygtG/\",\"dtype\":\"float64\",\"order\":\"little\",\"shape\":[6]},{\"__ndarray__\":\"+WV3MkFAz7/PKWGe9pPLvwAAAAAAAPh/y9Mo1+YR0L/PKWGe9pPLv/ythfXo1NG/\",\"dtype\":\"float64\",\"order\":\"little\",\"shape\":[6]},{\"__ndarray__\":\"pZzWy2Oby7/PKWGe9pPLvwAAAAAAAPh/jfh9eopyyL/PKWGe9pPLv9O2NjDBws6/\",\"dtype\":\"float64\",\"order\":\"little\",\"shape\":[6]},{\"__ndarray__\":\"WIUsrEfK0L/PKWGe9pPLvwAAAAAAAPh/bGEUS5HCz7/PKWGe9pPLv1CVu6cHyNG/\",\"dtype\":\"float64\",\"order\":\"little\",\"shape\":[6]},{\"__ndarray__\":\"NYcxs5Cq0b/PKWGe9pPLvwAAAAAAAPh/3YoltBJN0b/PKWGe9pPLv1rmVvgszdG/\",\"dtype\":\"float64\",\"order\":\"little\",\"shape\":[6]},{\"__ndarray__\":\"j9qD+6BXw7/PKWGe9pPLvwAAAAAAAPh/jkFYsGgaxb/PKWGe9pPLv2SkOJzAYsO/\",\"dtype\":\"float64\",\"order\":\"little\",\"shape\":[6]},{\"__ndarray__\":\"BX4mfP0x0b/PKWGe9pPLvwAAAAAAAPh/2EPoBl7f0b/PKWGe9pPLv/aXXeQGFtG/\",\"dtype\":\"float64\",\"order\":\"little\",\"shape\":[6]},{\"__ndarray__\":\"a/xUevII07/PKWGe9pPLvwAAAAAAAPh/7u/QXpgn0b/PKWGe9pPLv6vO9wnE2tG/\",\"dtype\":\"float64\",\"order\":\"little\",\"shape\":[6]},{\"__ndarray__\":\"Qr3b6AxEzr/PKWGe9pPLvwAAAAAAAPh/isWRSraIy7/PKWGe9pPLv5FzYUaXsNC/\",\"dtype\":\"float64\",\"order\":\"little\",\"shape\":[6]},{\"__ndarray__\":\"G2owSIgAyr/PKWGe9pPLvwAAAAAAAPh/5/kOsx8jzb/PKWGe9pPLv9lH1nXv88a/\",\"dtype\":\"float64\",\"order\":\"little\",\"shape\":[6]},{\"__ndarray__\":\"JKjJppUgw7/PKWGe9pPLvwAAAAAAAPh/YJxlutedw7/PKWGe9pPLvygqXB0SbMS/\",\"dtype\":\"float64\",\"order\":\"little\",\"shape\":[6]},{\"__ndarray__\":\"5Yy9r6JC0r/PKWGe9pPLvwAAAAAAAPh/BeWfFa9j0L/PKWGe9pPLv5VbRhs25NG/\",\"dtype\":\"float64\",\"order\":\"little\",\"shape\":[6]},{\"__ndarray__\":\"HUqfAH5J0L/PKWGe9pPLvwAAAAAAAPh/XjqLDZND0b/PKWGe9pPLvymgF1y/Wc2/\",\"dtype\":\"float64\",\"order\":\"little\",\"shape\":[6]},{\"__ndarray__\":\"YTrfVgWCzb/PKWGe9pPLvwAAAAAAAPh/tUiMzrE30L/PKWGe9pPLvyt6kVlPTMq/\",\"dtype\":\"float64\",\"order\":\"little\",\"shape\":[6]},{\"__ndarray__\":\"JoKn3Qe00r/PKWGe9pPLvwAAAAAAAPh/WKUmj9bm0b/PKWGe9pPLv3Y9ZsSh6tC/\",\"dtype\":\"float64\",\"order\":\"little\",\"shape\":[6]},{\"__ndarray__\":\"3kjOXLN+xb/PKWGe9pPLvwAAAAAAAPh/8VYkbY4tx7/PKWGe9pPLv/gu11NyiMO/\",\"dtype\":\"float64\",\"order\":\"little\",\"shape\":[6]},{\"__ndarray__\":\"0PgJd30xz7/PKWGe9pPLvwAAAAAAAPh/ramBnxN0y7/PKWGe9pPLv/OT2X04qdC/\",\"dtype\":\"float64\",\"order\":\"little\",\"shape\":[6]},{\"__ndarray__\":\"xcraDs4a0L/PKWGe9pPLvwAAAAAAAPh/4a8nobeu0b/PKWGe9pPLvx55zCPyKM+/\",\"dtype\":\"float64\",\"order\":\"little\",\"shape\":[6]},{\"__ndarray__\":\"h4uZmtGaxL/PKWGe9pPLvwAAAAAAAPh/DKzHNFZlw7/PKWGe9pPLv6h5FoRRiMa/\",\"dtype\":\"float64\",\"order\":\"little\",\"shape\":[6]}]},\"selected\":{\"id\":\"1109\"},\"selection_policy\":{\"id\":\"1108\"}},\"id\":\"1073\",\"type\":\"ColumnDataSource\"},{\"attributes\":{},\"id\":\"1028\",\"type\":\"WheelZoomTool\"},{\"attributes\":{\"line_color\":{\"value\":\"limegreen\"},\"line_width\":{\"value\":2}},\"id\":\"1082\",\"type\":\"MultiLine\"}],\"root_ids\":[\"1003\"]},\"title\":\"Bokeh Application\",\"version\":\"2.2.1\"}};\n",
       "  var render_items = [{\"docid\":\"32669837-3591-4741-993d-155646f7895d\",\"root_ids\":[\"1003\"],\"roots\":{\"1003\":\"4cc4d1db-7da6-405a-bee5-2674b32f5503\"}}];\n",
       "  root.Bokeh.embed.embed_items_notebook(docs_json, render_items);\n",
       "  }\n",
       "if (root.Bokeh !== undefined) {\n",
       "    embed_document(root);\n",
       "  } else {\n",
       "    var attempts = 0;\n",
       "    var timer = setInterval(function(root) {\n",
       "      if (root.Bokeh !== undefined) {\n",
       "        clearInterval(timer);\n",
       "        embed_document(root);\n",
       "      } else if (document.readyState == \"complete\") {\n",
       "        attempts++;\n",
       "        if (attempts > 100) {\n",
       "          clearInterval(timer);\n",
       "          console.log(\"Bokeh: ERROR: Unable to run BokehJS code because BokehJS library is missing\");\n",
       "        }\n",
       "      }\n",
       "    }, 10, root)\n",
       "  }\n",
       "})(window);</script>"
      ],
      "text/plain": [
       ":Overlay\n",
       "   .Graph.I  :Graph   [start,end]\n",
       "   .Graph.II :Graph   [start,end]   (edge_line_color)"
      ]
     },
     "execution_count": 43,
     "metadata": {
      "application/vnd.holoviews_exec.v0+json": {
       "id": "1003"
      }
     },
     "output_type": "execute_result"
    }
   ],
   "source": [
    "# plot 3level network around KORE634712019\n",
    "pos = nx.layout.spring_layout(KORE634712019_net)\n",
    "\n",
    "node_sizes = [3 + 2 * i for i in range(len(KORE634712019_net))]\n",
    "M = KORE634712019_net.number_of_edges()\n",
    "edge_colors = range(2, M + 2)\n",
    "edge_alphas = [(5 + i) / (M + 4) for i in range(M)]\n",
    "\n",
    "nodes = hvnx.draw_networkx_nodes(KORE634712019_net, pos, node_size=node_sizes, node_color='blue')\n",
    "edges = hvnx.draw_networkx_edges(KORE634712019_net, pos, node_size=node_sizes, arrowstyle='->',\n",
    "                               arrowsize=10, edge_color=edge_colors,\n",
    "                               edge_cmap='Blues', edge_width=2, colorbar=True)\n",
    "\n",
    "nodes * edges"
   ]
  },
  {
   "cell_type": "code",
   "execution_count": 45,
   "metadata": {},
   "outputs": [
    {
     "data": {
      "text/plain": [
       "'Jugendstrafverfahren: jugendspezifische Bestimmung des Schuldgehalts; Verhängung einer Jugendstrafe trotz nicht mehr bestehenden Erziehungsbedarfs'"
      ]
     },
     "execution_count": 45,
     "metadata": {},
     "output_type": "execute_result"
    }
   ],
   "source": [
    "# doi\n",
    "df_embeddings_short.loc[df_embeddings_short['doknr'] == \"KORE634712019\"].titel.values[0]"
   ]
  },
  {
   "cell_type": "code",
   "execution_count": 46,
   "metadata": {},
   "outputs": [
    {
     "name": "stdout",
     "output_type": "stream",
     "text": [
      "['Rücktritt vom versuchten Totschlag: Fehlgeschlagener Versuch; Unterscheidung zwischen unbeendetem und beendetem Versuch']\n",
      "['Rücktritt vom Tötungsversuch: Abgrenzung zwischen beendetem, unbeendetem und fehlgeschlagenem Versuch bei einem durch Zäsuren gekennzeichneten mehraktigen Geschehen; Konkurrenz zwischen Freiheitsberaubung und Körperverletzung; einzelne Versuchshandlungen als natürliche Handlungseinheit']\n"
     ]
    }
   ],
   "source": [
    "# first\n",
    "print(df_embeddings_short.loc[df_embeddings_short['doknr'] == \"JURE100065079\"].titel.values)\n",
    "print(df_embeddings_short.loc[df_embeddings_short['doknr'] == \"JURE130006300\"].titel.values)"
   ]
  },
  {
   "cell_type": "code",
   "execution_count": 47,
   "metadata": {},
   "outputs": [
    {
     "data": {
      "text/plain": [
       "'Strafzumessung: Kompensation bei Verfahrensverzögerung im Ausland'"
      ]
     },
     "execution_count": 47,
     "metadata": {},
     "output_type": "execute_result"
    }
   ],
   "source": [
    "# second\n",
    "df_embeddings_short.loc[df_embeddings_short['doknr'] == 'KORE314022011'].titel.values[0]"
   ]
  },
  {
   "cell_type": "code",
   "execution_count": 48,
   "metadata": {},
   "outputs": [
    {
     "data": {
      "text/plain": [
       "'Notwendiger Inhalt eines Strafurteils wegen versuchten Mordes: Abgrenzung des fehlgeschlagenen vom unbeendeten und beendeten Versuch; Prüfung eines freiwilligen Rücktritts'"
      ]
     },
     "execution_count": 48,
     "metadata": {},
     "output_type": "execute_result"
    }
   ],
   "source": [
    "# third\n",
    "df_embeddings_short.loc[df_embeddings_short['doknr'] == 'JURE150002589'].titel.values[0]"
   ]
  },
  {
   "cell_type": "code",
   "execution_count": 49,
   "metadata": {},
   "outputs": [
    {
     "name": "stdout",
     "output_type": "stream",
     "text": [
      "['Jugendstrafe nach Vergewaltigung: Anordnungsgrund der \"Schwere der Schuld\"; kumulatives Erfordernis einer Erziehungsbedürftigkeit']\n"
     ]
    }
   ],
   "source": [
    "# fourth\n",
    "print(df_embeddings_short.loc[df_embeddings_short['doknr'] == \"JURE130010202\"].titel.values)"
   ]
  },
  {
   "cell_type": "markdown",
   "metadata": {},
   "source": [
    "### EMBEDDINGS"
   ]
  },
  {
   "cell_type": "markdown",
   "metadata": {},
   "source": [
    "clean df"
   ]
  },
  {
   "cell_type": "code",
   "execution_count": 50,
   "metadata": {},
   "outputs": [
    {
     "data": {
      "text/plain": [
       "az            0\n",
       "datum         0\n",
       "doknr         0\n",
       "doktyp        0\n",
       "titel         0\n",
       "tenor         0\n",
       "gruende       0\n",
       "doc_vector    1\n",
       "dtype: int64"
      ]
     },
     "execution_count": 50,
     "metadata": {},
     "output_type": "execute_result"
    }
   ],
   "source": [
    "df_embeddings_short.isnull().sum()"
   ]
  },
  {
   "cell_type": "code",
   "execution_count": 51,
   "metadata": {},
   "outputs": [
    {
     "data": {
      "text/plain": [
       "(array([3679]),)"
      ]
     },
     "execution_count": 51,
     "metadata": {},
     "output_type": "execute_result"
    }
   ],
   "source": [
    "np.where(df_embeddings_short.doc_vector.isnull())"
   ]
  },
  {
   "cell_type": "code",
   "execution_count": 52,
   "metadata": {},
   "outputs": [],
   "source": [
    "df_embeddings_short = df_embeddings_short.drop(3679).reset_index(drop=True)"
   ]
  },
  {
   "cell_type": "markdown",
   "metadata": {},
   "source": [
    "prepare document vectors for similarity analysis"
   ]
  },
  {
   "cell_type": "code",
   "execution_count": 53,
   "metadata": {},
   "outputs": [],
   "source": [
    "def prepareCandidateVectors(vectors):\n",
    "    vectors_list = []\n",
    "    for v in vectors:\n",
    "        vectors_list.append(v) \n",
    "    vectors = np.asarray(vectors_list)\n",
    "    return vectors"
   ]
  },
  {
   "cell_type": "code",
   "execution_count": 54,
   "metadata": {},
   "outputs": [],
   "source": [
    "vectors = prepareCandidateVectors(df_embeddings_short.doc_vector.values)"
   ]
  },
  {
   "cell_type": "code",
   "execution_count": 55,
   "metadata": {},
   "outputs": [
    {
     "data": {
      "text/plain": [
       "(5825, 300)"
      ]
     },
     "execution_count": 55,
     "metadata": {},
     "output_type": "execute_result"
    }
   ],
   "source": [
    "vectors.shape"
   ]
  },
  {
   "cell_type": "code",
   "execution_count": 56,
   "metadata": {},
   "outputs": [],
   "source": [
    "def getDoknrByIndex(df, index: int) -> str:\n",
    "    return df.loc[index].doknr    "
   ]
  },
  {
   "cell_type": "code",
   "execution_count": 57,
   "metadata": {},
   "outputs": [],
   "source": [
    "def getIndexByDoknr(df, doknr: str) -> int:\n",
    "    return df[df['doknr'] == doknr].index[0]   "
   ]
  },
  {
   "cell_type": "code",
   "execution_count": 58,
   "metadata": {},
   "outputs": [],
   "source": [
    "# sort dict by hybrid scores (descending)\n",
    "def sortByHybridVal(dictio: dict) -> dict:\n",
    "    sorted_dict = {k: v for k, v in sorted(dictio.items(), key=lambda item: item[1][\"hybrid\"], reverse=True)}\n",
    "    return sorted_dict"
   ]
  },
  {
   "cell_type": "code",
   "execution_count": 59,
   "metadata": {},
   "outputs": [],
   "source": [
    "# get top n hybrid recommends\n",
    "def getNHybridRecommends(n: int, dictio: dict):\n",
    "    sorted_dict = sortByHybridVal(dictio)\n",
    "    top_n = list(sorted_dict.items())[:n]\n",
    "    return top_n"
   ]
  },
  {
   "cell_type": "code",
   "execution_count": 60,
   "metadata": {},
   "outputs": [],
   "source": [
    "# calculate hybrid recommends based on network AND embeddings\n",
    "def calcHybridRecommends(doi: str, embedding_df, main_net: nx.DiGraph):\n",
    "    \n",
    "    # embeddings\n",
    "    vectors = prepareCandidateVectors(embedding_df.doc_vector.values)\n",
    "    \n",
    "    target_vector = embedding_df[embedding_df.doknr==doi].doc_vector.values[0]\n",
    "    distances = distance.cdist([target_vector], vectors, \"cosine\")[0]\n",
    "    idxs_sorted = np.argsort(distances)\n",
    "    embedding_dict = dict()\n",
    "    for idx in idxs_sorted:\n",
    "        d = distances[idx]\n",
    "        similarity = 1 - d\n",
    "        doknr = getDoknrByIndex(embedding_df, idx)\n",
    "        embedding_dict.update({doknr: {\"cos_sim\": similarity}})\n",
    "        \n",
    "    # network\n",
    "    net_dict = calcNetworkScores(doi, main_net, embedding_df)\n",
    "    \n",
    "    # hybrid\n",
    "    hybrid_dict = dict()\n",
    "    for key in embedding_dict:\n",
    "        text_score = embedding_dict[key][\"cos_sim\"]\n",
    "        if key in net_dict:\n",
    "            net_score = net_dict[key][\"normalized_rank\"]     \n",
    "        elif key not in net_dict:\n",
    "            net_score = 0.0\n",
    "        \n",
    "        hybrid_score = (text_score+net_score)/2\n",
    "        hybrid_dict.update({key: {\"hybrid\": hybrid_score, \"net\": net_score, \"text\": text_score}})\n",
    "            \n",
    "    \n",
    "    return hybrid_dict"
   ]
  },
  {
   "cell_type": "markdown",
   "metadata": {},
   "source": [
    "### Testing & Evaluation"
   ]
  },
  {
   "cell_type": "code",
   "execution_count": 69,
   "metadata": {},
   "outputs": [],
   "source": [
    "# convert datum to readable format\n",
    "df_embeddings_short[\"datum\"] = df_embeddings_short[\"datum\"].apply(lambda x: datetime.datetime.utcfromtimestamp(x/1000))"
   ]
  },
  {
   "cell_type": "code",
   "execution_count": 72,
   "metadata": {},
   "outputs": [],
   "source": [
    "# generate recommendations and show results\n",
    "def recommendAndShow(doi_doknr: str, amount_recs: int, dataframe, network):\n",
    "    ranking = calcHybridRecommends(doi_doknr, dataframe, network)\n",
    "    recs = getNHybridRecommends(amount_recs, ranking)\n",
    "    print()\n",
    "    print(\"DOI: \" + doi_doknr)\n",
    "    print(\"Titel: \" + dataframe.loc[dataframe['doknr'] == doi_doknr].titel.values[0])\n",
    "    print(\"Datum: \" + str(dataframe.loc[dataframe['doknr'] == doi_doknr].datum.values[0]))\n",
    "    print(\"AZ: \" + dataframe[dataframe['doknr'] == doi_doknr].az.values[0])\n",
    "    for i, rec in enumerate(recs):\n",
    "        print()\n",
    "        print(\"Recommendation # \" + str(i+1) + \": \" + rec[0] + \" (score: \" + str(rec[1]) + \")\")\n",
    "        print(\"Titel: \" + dataframe.loc[dataframe['doknr'] == rec[0]].titel.values[0])\n",
    "        print(\"Datum: \" + str(dataframe.loc[dataframe['doknr'] == rec[0]].datum.values[0]))\n",
    "        print(\"AZ: \" + dataframe[dataframe['doknr'] == rec[0]].az.values[0])"
   ]
  },
  {
   "cell_type": "markdown",
   "metadata": {},
   "source": [
    "test 1: doi 'KORE634712019'"
   ]
  },
  {
   "cell_type": "code",
   "execution_count": 73,
   "metadata": {},
   "outputs": [
    {
     "name": "stdout",
     "output_type": "stream",
     "text": [
      "creating multilevel directed citation net..\n",
      "number of nodes: 129\n",
      "number of edges: 188\n",
      "selecting 129 candidate documents..\n",
      "128 found\n",
      "determining recommend documents..\n",
      "document with highest indegree: JURE130006300\n",
      "document with highest closeness centrality: JURE100065079\n",
      "document with highest betweenness centrality: JURE100065079\n",
      "document with highest Katz centrality: JURE130006300\n",
      "\n",
      "DOI: KORE634712019\n",
      "Titel: Jugendstrafverfahren: jugendspezifische Bestimmung des Schuldgehalts; Verhängung einer Jugendstrafe trotz nicht mehr bestehenden Erziehungsbedarfs\n",
      "Datum: 2019-11-13T00:00:00.000000000\n",
      "AZ: 2 StR 217/19\n",
      "\n",
      "Recommendation # 1: JURE140006565 (score: {'hybrid': 0.8394914926596815, 'net': 0.7763157894736842, 'text': 0.9026671958456788})\n",
      "Titel: Jugendstrafverfahren wegen versuchten Totschlages und gefährlicher Körperverletzung: Berücksichtigung des Erziehungsgedankens bei der Strafzumessung\n",
      "Datum: 2014-02-19T00:00:00.000000000\n",
      "AZ: 2 StR 413/13\n",
      "\n",
      "Recommendation # 2: KORE313582016 (score: {'hybrid': 0.8226055212497418, 'net': 0.8552631578947368, 'text': 0.7899478846047469})\n",
      "Titel: Verhängung einer Jugendstrafe: Beurteilung der Schwere der Schuld bei freiwilligem Rücktritt vom Tötungsversuch\n",
      "Datum: 2016-04-20T00:00:00.000000000\n",
      "AZ: 2 StR 320/15\n",
      "\n",
      "Recommendation # 3: JURE130010202 (score: {'hybrid': 0.8137638850022241, 'net': 0.8618421052631579, 'text': 0.7656856647412903})\n",
      "Titel: Jugendstrafe nach Vergewaltigung: Anordnungsgrund der \"Schwere der Schuld\"; kumulatives Erfordernis einer Erziehungsbedürftigkeit\n",
      "Datum: 2013-05-06T00:00:00.000000000\n",
      "AZ: 1 StR 178/13\n",
      "\n",
      "Recommendation # 4: JURE100065079 (score: {'hybrid': 0.8102148884254334, 'net': 1.0, 'text': 0.6204297768508669})\n",
      "Titel: Rücktritt vom versuchten Totschlag: Fehlgeschlagener Versuch; Unterscheidung zwischen unbeendetem und beendetem Versuch\n",
      "Datum: 2010-05-19T00:00:00.000000000\n",
      "AZ: 2 StR 278/09\n",
      "\n",
      "Recommendation # 5: KORE304862018 (score: {'hybrid': 0.760984703039381, 'net': 0.75, 'text': 0.7719694060787622})\n",
      "Titel: Jugendstrafe: Anwendbarkeit der sog. Vollstreckungslösung zur Kompensation überlanger Verfahrensdauer\n",
      "Datum: 2018-01-09T00:00:00.000000000\n",
      "AZ: 1 StR 551/17\n",
      "\n",
      "Recommendation # 6: JURE150016039 (score: {'hybrid': 0.7549399089950577, 'net': 0.7236842105263157, 'text': 0.7861956074637998})\n",
      "Titel: Verhängung einer Jugendstrafe: Berücksichtigung des Erziehungsgedankens bei einem zum Zeitpunkt der Verkündung des erstinstanzlichen Urteils bereits 23 Jahre alten Angeklagten\n",
      "Datum: 2015-08-20T00:00:00.000000000\n",
      "AZ: 3 StR 214/15\n",
      "\n",
      "Recommendation # 7: JURE150001651 (score: {'hybrid': 0.7498335580542859, 'net': 0.7631578947368421, 'text': 0.7365092213717297})\n",
      "Titel: Herbeiführung einer Sprengstoffexplosion: Strafzumessung bei hohem Maß der Pflichtwidrigkeit und hohem Sachschaden; Anforderungen an den Gehilfenvorsatz; Strafaussetzung zur Bewährung bei einer zweijährigen Freiheitsstrafe\n",
      "Datum: 2015-01-13T00:00:00.000000000\n",
      "AZ: 1 StR 454/14\n",
      "\n",
      "Recommendation # 8: KORE618122018 (score: {'hybrid': 0.7168950089363693, 'net': 0.5855263157894737, 'text': 0.848263702083265})\n",
      "Titel: Jugendstrafsache: Berücksichtigung des Erziehungsgedankens bei der Bemessung der Einheitsjugendstrafe bei fortschreitendem Alter des Angeklagten\n",
      "Datum: 2017-11-29T00:00:00.000000000\n",
      "AZ: 2 StR 460/16\n",
      "\n",
      "Recommendation # 9: KORE627792018 (score: {'hybrid': 0.7161356278201554, 'net': 0.5921052631578947, 'text': 0.8401659924824162})\n",
      "Titel: Verhängung einer Jugendstrafe wegen der Schwere der Schuld\n",
      "Datum: 2018-07-18T00:00:00.000000000\n",
      "AZ: 2 StR 150/18\n",
      "\n",
      "Recommendation # 10: JURE160014329 (score: {'hybrid': 0.7161350135115158, 'net': 0.5723684210526316, 'text': 0.8599016059703999})\n",
      "Titel: Verhängung von Jugendstrafe: Besondere Schwere der Schuld; Strafzumessung unter Berücksichtigung von Erziehungsgedanke und Schuldausgleich bei schwerwiegenden Straftaten\n",
      "Datum: 2016-08-04T00:00:00.000000000\n",
      "AZ: 4 StR 142/16\n"
     ]
    }
   ],
   "source": [
    "recommendAndShow('KORE634712019', 10, df_embeddings_short, dg)"
   ]
  },
  {
   "cell_type": "markdown",
   "metadata": {},
   "source": [
    "test 2: doi 'KORE634732019'"
   ]
  },
  {
   "cell_type": "code",
   "execution_count": 74,
   "metadata": {},
   "outputs": [
    {
     "name": "stdout",
     "output_type": "stream",
     "text": [
      "creating multilevel directed citation net..\n",
      "number of nodes: 98\n",
      "number of edges: 129\n",
      "selecting 98 candidate documents..\n",
      "97 found\n",
      "determining recommend documents..\n",
      "document with highest indegree: JURE120006049\n",
      "document with highest closeness centrality: KORE624222018\n",
      "document with highest betweenness centrality: KORE604202020\n",
      "document with highest Katz centrality: JURE120006049\n",
      "\n",
      "DOI: KORE634732019\n",
      "Titel: Berücksichtigung von Einziehung bei Strafzumessung\n",
      "Datum: 2019-11-05T00:00:00.000000000\n",
      "AZ: 2 StR 447/19\n",
      "\n",
      "Recommendation # 1: JURE120006049 (score: {'hybrid': 0.984528034119777, 'net': 1.0, 'text': 0.9690560682395539})\n",
      "Titel: Strafzumessung: Berücksichtigung der Einziehung eines Pkw\n",
      "Datum: 2012-02-16T00:00:00.000000000\n",
      "AZ: 3 StR 470/11\n",
      "\n",
      "Recommendation # 2: KORE624222018 (score: {'hybrid': 0.9593944174330702, 'net': 0.9611650485436893, 'text': 0.9576237863224509})\n",
      "Titel: Feststellung des Wertes des einzuziehenden Gegenstandes notwendig\n",
      "Datum: 2018-05-03T00:00:00.000000000\n",
      "AZ: 3 StR 8/18\n",
      "\n",
      "Recommendation # 3: JURE140012244 (score: {'hybrid': 0.8956297500304289, 'net': 0.9514563106796117, 'text': 0.8398031893812462})\n",
      "Titel: Betäubungsmitteldelikt: Abgrenzung von Täterschaft und Teilnahme bei der unerlaubten Einfuhr von Betäubungsmitteln\n",
      "Datum: 2014-05-27T00:00:00.000000000\n",
      "AZ: 3 StR 137/14\n",
      "\n",
      "Recommendation # 4: JURE130006728 (score: {'hybrid': 0.8311729099339329, 'net': 0.7184466019417476, 'text': 0.9438992179261183})\n",
      "Titel: Strafzumessung: Berücksichtigung der Einziehung eines Pkws bei der Bemessung der zu verhängenden Strafe\n",
      "Datum: 2013-03-12T00:00:00.000000000\n",
      "AZ: 2 StR 43/13\n",
      "\n",
      "Recommendation # 5: KORE604202020 (score: {'hybrid': 0.8194287380315739, 'net': 0.7087378640776699, 'text': 0.9301196119854779})\n",
      "Titel: \n",
      "Datum: 2020-02-05T00:00:00.000000000\n",
      "AZ: 2 StR 517/19\n",
      "\n",
      "Recommendation # 6: JURE100075620 (score: {'hybrid': 0.812096697115956, 'net': 0.7281553398058253, 'text': 0.8960380544260869})\n",
      "Titel: Unerlaubtes Handeltreiben mit Betäubungsmitteln: Verstoß gegen das Doppelverwertungsverbot\n",
      "Datum: 2010-11-09T00:00:00.000000000\n",
      "AZ: 4 StR 532/10\n",
      "\n",
      "Recommendation # 7: JURE110014212 (score: {'hybrid': 0.7984791441288688, 'net': 0.6504854368932038, 'text': 0.9464728513645336})\n",
      "Titel: Strafzumessung: Berücksichtigung eines eingezogenen Gegenstandes von nicht unbeträchtlichem Wert\n",
      "Datum: 2011-07-20T00:00:00.000000000\n",
      "AZ: 5 StR 234/11\n",
      "\n",
      "Recommendation # 8: KORE605202019 (score: {'hybrid': 0.792825753395888, 'net': 0.6796116504854368, 'text': 0.9060398563063393})\n",
      "Titel: Rechtsfolgenausspruch im Strafurteil: Anordnung einer Einziehung als Strafzumessungskriterium\n",
      "Datum: 2019-03-19T00:00:00.000000000\n",
      "AZ: 3 StR 522/18\n",
      "\n",
      "Recommendation # 9: KORE630362018 (score: {'hybrid': 0.7834896715781317, 'net': 0.7572815533980582, 'text': 0.809697789758205})\n",
      "Titel: Verfügungsgewalt und Einziehung bei Hehlerei\n",
      "Datum: 2018-09-13T00:00:00.000000000\n",
      "AZ: 4 StR 174/18\n",
      "\n",
      "Recommendation # 10: JURE140010209 (score: {'hybrid': 0.7689201701728363, 'net': 0.6213592233009708, 'text': 0.9164811170447018})\n",
      "Titel: Strafverfahren wegen unerlaubten Handels mit Betäubungsmitteln: Verletzung des Doppelverwertungsverbots bei strafschärfender Berücksichtigung eines Tatbestandsmerkmals\n",
      "Datum: 2014-04-29T00:00:00.000000000\n",
      "AZ: 2 StR 616/13\n"
     ]
    }
   ],
   "source": [
    "recommendAndShow('KORE634732019', 10, df_embeddings_short, dg)"
   ]
  },
  {
   "cell_type": "markdown",
   "metadata": {},
   "source": [
    "test 3"
   ]
  },
  {
   "cell_type": "code",
   "execution_count": 75,
   "metadata": {},
   "outputs": [],
   "source": [
    "# test3 = calcHybridRecommends('JURE150008058', df_embeddings_short, dg)\n",
    "# Dokument hat keine Links (innerhalb des Korpus).. hier müsste auf 100% textbasierte recommends zurückgegriffen werden"
   ]
  },
  {
   "cell_type": "markdown",
   "metadata": {},
   "source": [
    "test 4"
   ]
  },
  {
   "cell_type": "code",
   "execution_count": 77,
   "metadata": {},
   "outputs": [
    {
     "name": "stdout",
     "output_type": "stream",
     "text": [
      "creating multilevel directed citation net..\n",
      "number of nodes: 98\n",
      "number of edges: 135\n",
      "selecting 98 candidate documents..\n",
      "97 found\n",
      "determining recommend documents..\n",
      "document with highest indegree: JURE130016580\n",
      "document with highest closeness centrality: JURE120001005\n",
      "document with highest betweenness centrality: JURE120001005\n",
      "document with highest Katz centrality: JURE130016580\n",
      "\n",
      "DOI: JURE130011761\n",
      "Titel: Strafbarkeit eines Baukolonnenführers wegen Steuerhinterziehung in Tateinheit mit Vorenthaltung und Veruntreuung von Arbeitsentgelt bei Beschäftigung von Schwarzarbeitern sowie Strafbarkeit eines Mitwirkenden wegen Beihilfe\n",
      "Datum: 2013-06-05T00:00:00.000000000\n",
      "AZ: 1 StR 626/12\n",
      "\n",
      "Recommendation # 1: JURE120001005 (score: {'hybrid': 0.9205328683231088, 'net': 0.9824561403508771, 'text': 0.8586095962953404})\n",
      "Titel: Steuerhinterziehung: Berichtigung des auf Grund unberechtigten Steuerausweises geschuldeten Umsatzsteuerbetrages; Strafzumessung bei Serientaten\n",
      "Datum: 2011-11-29T00:00:00.000000000\n",
      "AZ: 1 StR 459/11\n",
      "\n",
      "Recommendation # 2: JURE130016580 (score: {'hybrid': 0.8772744899376165, 'net': 0.8859649122807017, 'text': 0.8685840675945312})\n",
      "Titel: Vorenthalten und Veruntreuen von Arbeitsentgelt: Begriff des Arbeitgebers; Bestehen eines Beschäftigungsverhältnisses zum Arbeitgeber\n",
      "Datum: 2013-09-04T00:00:00.000000000\n",
      "AZ: 1 StR 94/13\n",
      "\n",
      "Recommendation # 3: KORE300192016 (score: {'hybrid': 0.852732413042405, 'net': 1.0, 'text': 0.70546482608481})\n",
      "Titel: Besonders schwerer Fall der Steuerhinterziehung: Großes Ausmaß der Steuerverkürzung\n",
      "Datum: 2015-10-27T00:00:00.000000000\n",
      "AZ: 1 StR 373/15\n",
      "\n",
      "Recommendation # 4: KORE616332017 (score: {'hybrid': 0.835135884283525, 'net': 0.9122807017543859, 'text': 0.7579910668126641})\n",
      "Titel: Strafzumessung bei Steuerhinterziehung: Berücksichtigung des Merkmals der \"verschuldeten Auswirkungen der Tat\"\n",
      "Datum: 2017-04-25T00:00:00.000000000\n",
      "AZ: 1 StR 606/16\n",
      "\n",
      "Recommendation # 5: JURE110013200 (score: {'hybrid': 0.8345899941223888, 'net': 0.8245614035087719, 'text': 0.8446185847360056})\n",
      "Titel: Beihilfe zum Vorenthalten von Arbeitsentgelt: Besonderes persönliches Merkmal der Arbeitgebereigenschaft\n",
      "Datum: 2011-06-14T00:00:00.000000000\n",
      "AZ: 1 StR 90/11\n"
     ]
    }
   ],
   "source": [
    "recommendAndShow('JURE130011761', 5, df_embeddings_short, dg)"
   ]
  },
  {
   "cell_type": "markdown",
   "metadata": {},
   "source": [
    "### experimental evaluation of random DOIs"
   ]
  },
  {
   "cell_type": "markdown",
   "metadata": {},
   "source": [
    "#### KORE619292019"
   ]
  },
  {
   "cell_type": "code",
   "execution_count": 78,
   "metadata": {},
   "outputs": [
    {
     "name": "stdout",
     "output_type": "stream",
     "text": [
      "creating multilevel directed citation net..\n",
      "number of nodes: 57\n",
      "number of edges: 71\n",
      "selecting 57 candidate documents..\n",
      "56 found\n",
      "determining recommend documents..\n",
      "document with highest indegree: JURE100071305\n",
      "document with highest closeness centrality: KORE621042018\n",
      "document with highest betweenness centrality: KORE621042018\n",
      "document with highest Katz centrality: JURE100071305\n",
      "\n",
      "DOI: KORE619292019\n",
      "Titel: Subventionsbetrug: Vorliegen subventionserheblicher Tatsachen\n",
      "Datum: 2018-08-22T00:00:00.000000000\n",
      "AZ: 3 StR 449/17\n",
      "\n",
      "Recommendation # 1: KORE305842014 (score: {'hybrid': 0.8336094412830464, 'net': 0.8225806451612903, 'text': 0.8446382374048026})\n",
      "Titel: Subventionsbetrug: Erschleichung von Fördermitteln für den Wohnungsbau durch eine Privatperson; Begriff der Subvention; Ermittlung subventionserheblicher Regelungen\n",
      "Datum: 2014-05-28T00:00:00.000000000\n",
      "AZ: 3 StR 206/13\n",
      "\n",
      "Recommendation # 2: KORE621042018 (score: {'hybrid': 0.828396869308061, 'net': 0.7419354838709677, 'text': 0.9148582547451544})\n",
      "Titel: Subventionsbetrug: Subventionsgeber und Subventionserheblichkeit bei Aufspaltung eines einheitlichen Großprojekts in mehrere Investionsvorhaben\n",
      "Datum: 2017-10-25T00:00:00.000000000\n",
      "AZ: 1 StR 339/16\n",
      "\n",
      "Recommendation # 3: JURE160012088 (score: {'hybrid': 0.7875647555295733, 'net': 0.8709677419354839, 'text': 0.7041617691236627})\n",
      "Titel: Vorenthalten von Sozialversicherungsbeiträgen: Tatrichterliche Feststellung der vorenthaltenen Beiträge\n",
      "Datum: 2016-04-20T00:00:00.000000000\n",
      "AZ: 1 StR 1/16\n",
      "\n",
      "Recommendation # 4: JURE100072758 (score: {'hybrid': 0.7553448891122323, 'net': 0.6935483870967742, 'text': 0.8171413911276902})\n",
      "Titel: Subventionsbetrug: Voraussetzungen einer subventionserheblichen Tatsache - Subventionserhebliche Tatsache\n",
      "Datum: 2010-09-30T00:00:00.000000000\n",
      "AZ: 5 StR 61/10\n",
      "\n",
      "Recommendation # 5: JURE100071305 (score: {'hybrid': 0.7408812658218196, 'net': 1.0, 'text': 0.48176253164363925})\n",
      "Titel: Vorenthalten und Veruntreuen von Arbeitsentgelt: Notwendige Tatsachenfeststellungen im Strafurteil zur Höhe vorenthaltener Sozialversicherungsbeträge; Schätzung des strafrechtlich relevanten Beitragsschadens bei illegalen Beschäftigungsverhältnissen mit geringfügiger Entlohnung\n",
      "Datum: 2010-08-11T00:00:00.000000000\n",
      "AZ: 1 StR 199/10\n"
     ]
    }
   ],
   "source": [
    "recommendAndShow('KORE619292019', 5, df_embeddings_short, dg)"
   ]
  },
  {
   "cell_type": "markdown",
   "metadata": {},
   "source": [
    "####  KORE603522019"
   ]
  },
  {
   "cell_type": "code",
   "execution_count": 79,
   "metadata": {},
   "outputs": [
    {
     "name": "stdout",
     "output_type": "stream",
     "text": [
      "creating multilevel directed citation net..\n",
      "number of nodes: 88\n",
      "number of edges: 94\n",
      "selecting 88 candidate documents..\n",
      "87 found\n",
      "determining recommend documents..\n",
      "document with highest indegree: KORE624622018\n",
      "document with highest closeness centrality: KORE308492018\n",
      "document with highest betweenness centrality: KORE308492018\n",
      "document with highest Katz centrality: KORE624622018\n",
      "\n",
      "DOI: KORE603522019\n",
      "Titel: Einziehungsanordnung bei Erklärung des Verzichts auf Rückgabe\n",
      "Datum: 2018-12-10T00:00:00.000000000\n",
      "AZ: 5 StR 539/18\n",
      "\n",
      "Recommendation # 1: KORE308492018 (score: {'hybrid': 0.8125001430870032, 'net': 1.0, 'text': 0.6250002861740065})\n",
      "Titel: Unerlaubtes Handeltreiben mit Betäubungsmitteln: Erforderlichkeit einer förmlichen Einziehung der beim Angeklagten sichergestellten Betäubungsmittelerlöse\n",
      "Datum: 2018-04-10T00:00:00.000000000\n",
      "AZ: 5 StR 611/17\n",
      "\n",
      "Recommendation # 2: JURE160000359 (score: {'hybrid': 0.7553733145286039, 'net': 0.8840579710144928, 'text': 0.6266886580427149})\n",
      "Titel: Betäubungsmittelhandel: Wertersatzverfall des Erlöses aus Drogenverkäufen\n",
      "Datum: 2015-11-18T00:00:00.000000000\n",
      "AZ: 2 StR 399/15\n",
      "\n",
      "Recommendation # 3: JURE100057306 (score: {'hybrid': 0.6939757410741819, 'net': 0.782608695652174, 'text': 0.6053427864961899})\n",
      "Titel: Letztes Wort des Angeklagten: Wiedereintritt in die Verhandlung nach Schluss der Beweisaufnahme\n",
      "Datum: 2010-02-04T00:00:00.000000000\n",
      "AZ: 1 StR 3/10\n",
      "\n",
      "Recommendation # 4: KORE624622018 (score: {'hybrid': 0.6884736821294202, 'net': 1.0, 'text': 0.37694736425884035})\n",
      "Titel: Einziehung von Taterträgen bei Mittäterschaft: Erfordernis einer Mitverfügungsmacht bei der Zurechnung von Beuteanteilen\n",
      "Datum: 2018-06-07T00:00:00.000000000\n",
      "AZ: 4 StR 63/18\n",
      "\n",
      "Recommendation # 5: KORE604132018 (score: {'hybrid': 0.667852275361707, 'net': 0.5507246376811594, 'text': 0.7849799130422546})\n",
      "Titel: Einziehung des Wertes von Taterträgen: Ausspruch über die gesamtschuldnerische Haftung von Mittätern\n",
      "Datum: 2018-03-12T00:00:00.000000000\n",
      "AZ: 4 StR 57/18\n"
     ]
    }
   ],
   "source": [
    "recommendAndShow('KORE603522019', 5, df_embeddings_short, dg)"
   ]
  },
  {
   "cell_type": "markdown",
   "metadata": {},
   "source": [
    "#### JURE160012885"
   ]
  },
  {
   "cell_type": "code",
   "execution_count": 80,
   "metadata": {},
   "outputs": [
    {
     "name": "stdout",
     "output_type": "stream",
     "text": [
      "creating multilevel directed citation net..\n",
      "number of nodes: 78\n",
      "number of edges: 115\n",
      "selecting 78 candidate documents..\n",
      "77 found\n",
      "determining recommend documents..\n",
      "document with highest indegree: JURE130011773\n",
      "document with highest closeness centrality: KORE611002017\n",
      "document with highest betweenness centrality: KORE611002017\n",
      "document with highest Katz centrality: JURE120017848\n",
      "\n",
      "DOI: JURE160012885\n",
      "Titel: Mordversuch: Definition von Heimtücke sowie Arg- und Wehrlosigkeit; Heimtücke des Wohnungsinhabers bei einer polizeilich veranlassten Wohnungsöffnung; Wegfall der Wehrlosigkeit durch Flucht des Opfers\n",
      "Datum: 2016-06-28T00:00:00.000000000\n",
      "AZ: 3 StR 120/16\n",
      "\n",
      "Recommendation # 1: KORE611002017 (score: {'hybrid': 0.8691218861625982, 'net': 0.9418604651162791, 'text': 0.7963833072089174})\n",
      "Titel: Mordmerkmal: Heimtücke\n",
      "Datum: 2017-01-24T00:00:00.000000000\n",
      "AZ: 2 StR 459/16\n",
      "\n",
      "Recommendation # 2: JURE130011773 (score: {'hybrid': 0.8302596930454176, 'net': 1.0, 'text': 0.660519386090835})\n",
      "Titel: Strafverurteilung wegen Mordes: Sicherungsverwahrung neben lebenslanger Freiheitsstrafe\n",
      "Datum: 2013-06-12T00:00:00.000000000\n",
      "AZ: 5 StR 129/13\n",
      "\n",
      "Recommendation # 3: JURE120017848 (score: {'hybrid': 0.8143366926192024, 'net': 0.9186046511627907, 'text': 0.710068734075614})\n",
      "Titel: Sicherungsverwahrung bei lebenslanger Freiheitsstrafe\n",
      "Datum: 2012-07-25T00:00:00.000000000\n",
      "AZ: 2 StR 111/12\n"
     ]
    }
   ],
   "source": [
    "recommendAndShow('JURE160012885', 3, df_embeddings_short, dg)"
   ]
  },
  {
   "cell_type": "markdown",
   "metadata": {},
   "source": [
    "#### KORE633042019"
   ]
  },
  {
   "cell_type": "code",
   "execution_count": 81,
   "metadata": {},
   "outputs": [
    {
     "name": "stdout",
     "output_type": "stream",
     "text": [
      "creating multilevel directed citation net..\n",
      "number of nodes: 155\n",
      "number of edges: 186\n",
      "selecting 155 candidate documents..\n",
      "154 found\n",
      "determining recommend documents..\n",
      "document with highest indegree: JURE140019879\n",
      "document with highest closeness centrality: KORE618212017\n",
      "document with highest betweenness centrality: KORE618212017\n",
      "document with highest Katz centrality: JURE140019879\n",
      "\n",
      "DOI: KORE633042019\n",
      "Titel: Betrug: Verklammerung zur Tateinheit durch unerlaubtes Betreiben von Bankgeschäften\n",
      "Datum: 2019-10-15T00:00:00.000000000\n",
      "AZ: 3 StR 379/19\n",
      "\n",
      "Recommendation # 1: KORE618212017 (score: {'hybrid': 0.9548317119955492, 'net': 1.0, 'text': 0.9096634239910985})\n",
      "Titel: Revision in Strafsachen: Beschwer des wegen Beihilfe statt Mittäterschaft verurteilten Angeklagten; natürliche Handlungseinheit zwischen der Beteiligung an der Vortat und der anschließenden Hehlerei; Konkurrenzverhältnis zwischen mehreren betrügerischen Einkäufen mit einer EC-Karte; Verwerfung der Berufung durch Beschluss als offensichtlich unbegründet\n",
      "Datum: 2017-05-23T00:00:00.000000000\n",
      "AZ: 4 StR 617/16\n",
      "\n",
      "Recommendation # 2: JURE140019879 (score: {'hybrid': 0.9486024777403874, 'net': 0.9465648854961832, 'text': 0.9506400699845915})\n",
      "Titel: Konkurrenzverhältnisse beim Betrug: Organisationstätigkeit des Beteiligten eines auf Straftaten ausgerichteten Geschäftsbetriebs\n",
      "Datum: 2014-10-14T00:00:00.000000000\n",
      "AZ: 3 StR 365/14\n",
      "\n",
      "Recommendation # 3: KORE617152018 (score: {'hybrid': 0.8914562584968367, 'net': 0.9007633587786259, 'text': 0.8821491582150476})\n",
      "Titel: Schwarzarbeit polnischer Arbeitnehmer in einem Hotelbetrieb: Klammerwirkung des Dauerdelikts \"Beihilfe zur Erwerbstätigkeit von Ausländern ohne Genehmigung in größerem Umfang\" bei der Beurteilung von Beihilfe zur Lohnsteuerhinterziehung und zum Vorenthalten von Arbeitsentgelt; Tenorierung der Verurteilung; Strafrahmenverschiebung\n",
      "Datum: 2017-10-25T00:00:00.000000000\n",
      "AZ: 1 StR 310/16\n"
     ]
    }
   ],
   "source": [
    "recommendAndShow('KORE633042019', 3, df_embeddings_short, dg)"
   ]
  },
  {
   "cell_type": "markdown",
   "metadata": {},
   "source": [
    "#### KORE618742019"
   ]
  },
  {
   "cell_type": "code",
   "execution_count": 82,
   "metadata": {},
   "outputs": [
    {
     "name": "stdout",
     "output_type": "stream",
     "text": [
      "creating multilevel directed citation net..\n",
      "number of nodes: 67\n",
      "number of edges: 89\n",
      "selecting 67 candidate documents..\n",
      "66 found\n",
      "determining recommend documents..\n",
      "document with highest indegree: JURE140009960\n",
      "document with highest closeness centrality: JURE140009960\n",
      "document with highest betweenness centrality: JURE140009960\n",
      "document with highest Katz centrality: JURE140009960\n",
      "\n",
      "DOI: KORE618742019\n",
      "Titel: Strafurteil: Absoluter Revisionsgrund einer Überschreitung der Urteilsabsetzungsfrist; Berücksichtigung früherer Auslandsverurteilungen im Rahmen der Strafzumessung und der Gesamtstrafenbildung\n",
      "Datum: 2018-12-18T00:00:00.000000000\n",
      "AZ: 1 StR 508/18\n",
      "\n",
      "Recommendation # 1: JURE160012017 (score: {'hybrid': 0.848149046763369, 'net': 0.948051948051948, 'text': 0.74824614547479})\n",
      "Titel: Jugendstrafverfahren wegen Betäubungsmitteldelikten: Maßgebliches Stufenverhältnis hinsichtlich Art und Gefährlichkeit des Rauschgifts im Rahmen der Strafzumessung; Bewertung von Methamphetamin; Anforderungen an die Tenorierung einer Einziehungsanordnung; notwendige Begründung bei Verhängung einer Jugendstrafe\n",
      "Datum: 2016-06-15T00:00:00.000000000\n",
      "AZ: 1 StR 72/16\n",
      "\n",
      "Recommendation # 2: JURE140009960 (score: {'hybrid': 0.8154986703447787, 'net': 1.0, 'text': 0.6309973406895575})\n",
      "Titel: Gesamtstrafenbildung bei Betäubungsmitteldelikten: Härteausgleich in Ansehung der Nichteinbeziehung einer ausländischen Strafe\n",
      "Datum: 2014-03-26T00:00:00.000000000\n",
      "AZ: 2 StR 202/13\n",
      "\n",
      "Recommendation # 3: KORE618752017 (score: {'hybrid': 0.7891606719841369, 'net': 0.8961038961038961, 'text': 0.6822174478643778})\n",
      "Titel: Anordnung der Unterbringung in einer Entziehungsanstalt: Anforderungen an die Erfolgsaussichtsprüfung\n",
      "Datum: 2017-06-14T00:00:00.000000000\n",
      "AZ: 3 StR 97/17\n"
     ]
    }
   ],
   "source": [
    "recommendAndShow('KORE618742019', 3, df_embeddings_short, dg)"
   ]
  },
  {
   "cell_type": "markdown",
   "metadata": {},
   "source": [
    "#### JURE140020317"
   ]
  },
  {
   "cell_type": "code",
   "execution_count": 83,
   "metadata": {},
   "outputs": [
    {
     "name": "stdout",
     "output_type": "stream",
     "text": [
      "creating multilevel directed citation net..\n",
      "number of nodes: 658\n",
      "number of edges: 1105\n",
      "selecting 658 candidate documents..\n",
      "657 found\n",
      "determining recommend documents..\n",
      "document with highest indegree: KORE300532012\n",
      "document with highest closeness centrality: KORE300532012\n",
      "document with highest betweenness centrality: KORE300532012\n",
      "document with highest Katz centrality: KORE300532012\n",
      "\n",
      "DOI: JURE140020317\n",
      "Titel: Strafverfahren wegen Massenbetruges: Irrtumsbedingte Vermögensverfügung bei Zahlung auf unberechtigte Rechnung; notwendige Feststellungen zum Irrtum der Verfügenden\n",
      "Datum: 2014-09-04T00:00:00.000000000\n",
      "AZ: 1 StR 314/14\n",
      "\n",
      "Recommendation # 1: KORE303572014 (score: {'hybrid': 0.8572446561248432, 'net': 0.8466353677621283, 'text': 0.8678539444875581})\n",
      "Titel: Strafverfahren wegen gewerbsmäßigen Bandenbetruges: Anforderungen an die tatrichterliche Feststellung und Darlegung des täuschungsbedingten Irrtums kontaktierter Personen in einer Vielzahl von Einzelfällen des Missbrauchs des Einzugsermächtigungslastschriftverfahrens\n",
      "Datum: 2014-05-22T00:00:00.000000000\n",
      "AZ: 4 StR 430/13\n",
      "\n",
      "Recommendation # 2: JURE130007034 (score: {'hybrid': 0.8377994834678983, 'net': 0.8153364632237872, 'text': 0.8602625037120094})\n",
      "Titel: Betrug gegenüber einer Vielzahl von Personen: Beweisaufnahme zu durch Irrtumserregung veranlassten Vermögensverfügungen\n",
      "Datum: 2013-02-06T00:00:00.000000000\n",
      "AZ: 1 StR 263/12\n",
      "\n",
      "Recommendation # 3: KORE311032014 (score: {'hybrid': 0.8169036589382523, 'net': 0.9812206572769953, 'text': 0.6525866605995093})\n",
      "Titel: Strafverfahren: Darlegung des Ergebnisses einer auf einer molekulargenetischen Vergleichsuntersuchung beruhenden Wahrscheinlichkeitsberechnung im Urteil unter Berücksichtigung der Vererblichkeit der untersuchten Merkmalsysteme\n",
      "Datum: 2014-06-05T00:00:00.000000000\n",
      "AZ: 4 StR 439/13\n"
     ]
    }
   ],
   "source": [
    "recommendAndShow('JURE140020317', 3, df_embeddings_short, dg)"
   ]
  },
  {
   "cell_type": "markdown",
   "metadata": {},
   "source": [
    "#### KORE603922017"
   ]
  },
  {
   "cell_type": "code",
   "execution_count": 84,
   "metadata": {},
   "outputs": [
    {
     "name": "stdout",
     "output_type": "stream",
     "text": [
      "creating multilevel directed citation net..\n",
      "number of nodes: 156\n",
      "number of edges: 192\n",
      "selecting 156 candidate documents..\n",
      "155 found\n",
      "determining recommend documents..\n",
      "document with highest indegree: JURE160013475\n",
      "document with highest closeness centrality: JURE160013475\n",
      "document with highest betweenness centrality: JURE160013475\n",
      "document with highest Katz centrality: JURE160013475\n",
      "\n",
      "DOI: KORE603922017\n",
      "Titel: Sachverhaltsaufklärung durch das Gericht: Umfang der Amtsaufklärungspflicht bei Erfolgsdelikten\n",
      "Datum: 2017-08-17T00:00:00.000000000\n",
      "AZ: 4 StR 127/17\n",
      "\n",
      "Recommendation # 1: JURE120010394 (score: {'hybrid': 0.8171625390830712, 'net': 0.9635036496350365, 'text': 0.670821428531106})\n",
      "Titel: Sexuelle Nötigung: Voraussetzungen einer schutzlosen Lage; konkludente Drohung auf Grund vorheriger Gewalterfahrung; Misshandlung eines Schutzbefohlenen durch fortgesetzte körperliche Züchtigungen\n",
      "Datum: 2012-03-20T00:00:00.000000000\n",
      "AZ: 4 StR 561/11\n",
      "\n",
      "Recommendation # 2: JURE160013475 (score: {'hybrid': 0.8074876629554262, 'net': 1.0, 'text': 0.6149753259108525})\n",
      "Titel: Beihilfe zum Fahrzeugdiebstahl: Anforderungen an die Feststellungen hinsichtlich des Tatbeitrags\n",
      "Datum: 2016-07-13T00:00:00.000000000\n",
      "AZ: 1 StR 94/16\n",
      "\n",
      "Recommendation # 3: KORE614882017 (score: {'hybrid': 0.7884111856683925, 'net': 0.8613138686131387, 'text': 0.7155085027236463})\n",
      "Titel: Misshandlung von Schutzbefohlenen: Kognitionspflicht; Körperverletzung mit Todesfolge durch Unterlassen; \"Quälen\" eines Säuglings\n",
      "Datum: 2017-01-26T00:00:00.000000000\n",
      "AZ: 3 StR 479/16\n"
     ]
    }
   ],
   "source": [
    "recommendAndShow('KORE603922017', 3, df_embeddings_short, dg)"
   ]
  },
  {
   "cell_type": "markdown",
   "metadata": {},
   "source": [
    "#### KORE612272017"
   ]
  },
  {
   "cell_type": "code",
   "execution_count": 86,
   "metadata": {},
   "outputs": [
    {
     "name": "stdout",
     "output_type": "stream",
     "text": [
      "creating multilevel directed citation net..\n",
      "number of nodes: 96\n",
      "number of edges: 102\n",
      "selecting 96 candidate documents..\n",
      "95 found\n",
      "determining recommend documents..\n",
      "document with highest indegree: KORE316702013\n",
      "document with highest closeness centrality: KORE625282019\n",
      "document with highest betweenness centrality: KORE316702013\n",
      "document with highest Katz centrality: KORE316702013\n",
      "\n",
      "DOI: KORE612272017\n",
      "Titel: Widerrechtliches Parken: Nötigung und Erpressung durch Anbringen einer Parkkralle an Pkw oder Abschleppen an nicht genannten Ort\n",
      "Datum: 2016-12-21T00:00:00.000000000\n",
      "AZ: 1 StR 253/16\n",
      "\n",
      "Recommendation # 1: KORE316702013 (score: {'hybrid': 0.9172384175350246, 'net': 1.0, 'text': 0.8344768350700491})\n",
      "Titel: Nötigung durch anwaltliches Mahnschreiben: Aus der Tat erlangter Vermögenswert; Urteilstenor bei Absehen von Verfall wegen entgegenstehender Ansprüche Verletzter\n",
      "Datum: 2013-09-05T00:00:00.000000000\n",
      "AZ: 1 StR 162/13\n",
      "\n",
      "Recommendation # 2: KORE615752017 (score: {'hybrid': 0.8307020603658544, 'net': 0.8023255813953488, 'text': 0.8590785393363598})\n",
      "Titel: Betrug: Einfordern einer nicht bestehenden Forderung\n",
      "Datum: 2017-02-22T00:00:00.000000000\n",
      "AZ: 2 StR 573/15\n",
      "\n",
      "Recommendation # 3: JURE130007517 (score: {'hybrid': 0.7953264001123401, 'net': 0.8604651162790697, 'text': 0.7301876839456104})\n",
      "Titel: Rechtsbeugung: Verletzung von Verfahrens- und Zuständigkeitsvorschriften durch einen Berufsrichter\n",
      "Datum: 2013-04-11T00:00:00.000000000\n",
      "AZ: 5 StR 261/12\n"
     ]
    }
   ],
   "source": [
    "recommendAndShow('KORE612272017', 3, df_embeddings_short, dg)"
   ]
  },
  {
   "cell_type": "markdown",
   "metadata": {},
   "source": [
    "#### KORE621852017"
   ]
  },
  {
   "cell_type": "code",
   "execution_count": 49,
   "metadata": {},
   "outputs": [
    {
     "name": "stdout",
     "output_type": "stream",
     "text": [
      "creating multilevel directed citation net..\n",
      "number of nodes: 118\n",
      "number of edges: 169\n",
      "selecting 118 candidate documents..\n",
      "117 found\n",
      "determining recommend documents..\n",
      "document with highest indegree: KORE300052016\n",
      "document with highest closeness centrality: KORE624792017\n",
      "document with highest betweenness centrality: JURE130001697\n",
      "document with highest Katz centrality: KORE300052016\n",
      "\n",
      "DOI: KORE621852017\n",
      "Titel: Besondere Haftprüfung bei Untersuchungshaft über 6 Monate: Anforderungen an die Beschreibung des Tatvorwurfs der Unterstützung einer terroristischen Vereinigung im Haftbefehl\n",
      "Datum: 1502928000000\n",
      "AZ: AK 34/17\n",
      "\n",
      "Recommendation # 1: KORE624792017 (score: {'hybrid': 0.9304390530826006, 'net': 0.9609375, 'text': 0.8999406061652011})\n",
      "Titel: Vorbereitung einer schweren staatsgefährdenden Gewalttat: Bestimmung des Verfahrensgegenstandes durch den Anklagesatz; erneuter Erlass eines Haftbefehls; Vorliegen einer Vorbereitungshandlung; Voraussetzungen der Unterstützung einer terroristischen Vereinigung; Konkurrenzen zwischen einzelnen Unterstützungshandlungen\n",
      "Datum: 1508371200000\n",
      "AZ: AK 56/17\n",
      "\n",
      "Recommendation # 2: JURE130001697 (score: {'hybrid': 0.923773934167839, 'net': 1.0, 'text': 0.847547868335678})\n",
      "Titel: Unterstützung einer ausländischen terroristischen Vereinigung: Verbreitung eines Enthauptungsvideos der Al Qaida im Internet\n",
      "Datum: 1348099200000\n",
      "AZ: 3 StR 314/12\n",
      "\n",
      "Recommendation # 3: KORE622152017 (score: {'hybrid': 0.8907821068742687, 'net': 0.84375, 'text': 0.9378142137485375})\n",
      "Titel: Untersuchungshaftanordnung wegen mitgliedschaftlicher Beteiligung an einer ausländischen terroristischen Vereinigung: Haftgrund bei IS-Mitgliedschaft mit versuchter Anstiftung zu Verbrechen und Androhung von Straftaten\n",
      "Datum: 1504742400000\n",
      "AZ: AK 42/17\n",
      "\n",
      "Recommendation # 4: KORE300052016 (score: {'hybrid': 0.8696933751767466, 'net': 1.0, 'text': 0.7393867503534932})\n",
      "Titel: Mitgliedschaft in einer kriminellen oder terroristischen Vereinigung: Bestimmung der Konkurrenzverhältnisse bei strafbaren Handlungen im Rahmen der Mitgliedschaft\n",
      "Datum: 1436400000000\n",
      "AZ: 3 StR 537/14\n",
      "\n",
      "Recommendation # 5: KORE617352018 (score: {'hybrid': 0.8401272087277918, 'net': 0.78125, 'text': 0.8990044174555836})\n",
      "Titel: Unterstützung einer ausländischen terroristischen Vereinigung: Anforderungen an eine physische oder psychische Unterstützungshandlung\n",
      "Datum: 1513209600000\n",
      "AZ: StB 18/17\n"
     ]
    }
   ],
   "source": [
    "recommendAndShow('KORE621852017', 5, df_embeddings_short, dg)"
   ]
  },
  {
   "cell_type": "markdown",
   "metadata": {},
   "source": [
    "## final evaluation (compare quality of all three approaches / recommender functions)\n",
    "\n",
    "step 3: generate hybrid recommends"
   ]
  },
  {
   "cell_type": "code",
   "execution_count": null,
   "metadata": {},
   "outputs": [],
   "source": [
    "# Gesamtevaluation mit interessanten Titeln"
   ]
  },
  {
   "cell_type": "markdown",
   "metadata": {},
   "source": [
    "1. JURE130015173"
   ]
  },
  {
   "cell_type": "code",
   "execution_count": 87,
   "metadata": {},
   "outputs": [
    {
     "name": "stdout",
     "output_type": "stream",
     "text": [
      "creating multilevel directed citation net..\n",
      "number of nodes: 345\n",
      "number of edges: 582\n",
      "selecting 345 candidate documents..\n",
      "344 found\n",
      "determining recommend documents..\n",
      "document with highest indegree: KORE300532012\n",
      "document with highest closeness centrality: KORE300532012\n",
      "document with highest betweenness centrality: KORE300532012\n",
      "document with highest Katz centrality: KORE300532012\n",
      "\n",
      "DOI: JURE130015173\n",
      "Titel: Abgrenzung zwischen Tötungsversuch und schwerer Körperverletzung: Anforderungen an Urteilsfeststellungen zum bedingten Tötungsvorsatz bei Handeln in affektiver Erregung; sichtbare Narbe im Gesicht als dauernde erhebliche Entstellung\n",
      "Datum: 2013-07-17T00:00:00.000000000\n",
      "AZ: 2 StR 139/13\n",
      "\n",
      "Recommendation # 1: KORE300532012 (score: {'hybrid': 0.9510337839075825, 'net': 1.0, 'text': 0.9020675678151651})\n",
      "Titel: Bedingter Tötungsvorsatz im Lichte der Hemmschwellentheorie\n",
      "Datum: 2012-03-22T00:00:00.000000000\n",
      "AZ: 4 StR 558/11\n",
      "\n",
      "Recommendation # 2: JURE120006798 (score: {'hybrid': 0.945513098713094, 'net': 0.9571428571428572, 'text': 0.9338833402833306})\n",
      "Titel: Tötungsdelikt: Voraussetzungen eines bedingten Tötungsvorsatzes; Bewertung nachträglichen Bedauerns und von Rettungsversuchen des Täters\n",
      "Datum: 2012-02-23T00:00:00.000000000\n",
      "AZ: 4 StR 608/11\n",
      "\n",
      "Recommendation # 3: JURE120022626 (score: {'hybrid': 0.9339315175142624, 'net': 0.9392857142857143, 'text': 0.9285773207428104})\n",
      "Titel: Versuchter Totschlag: Feststellung des bedingten Tötungsvorsatzes bei einer Vielzahl von Messerstichen\n",
      "Datum: 2012-09-20T00:00:00.000000000\n",
      "AZ: 3 StR 140/12\n"
     ]
    }
   ],
   "source": [
    "recommendAndShow('JURE130015173', 3, df_embeddings_short, dg)"
   ]
  },
  {
   "cell_type": "markdown",
   "metadata": {},
   "source": [
    "2. KORE308942018"
   ]
  },
  {
   "cell_type": "code",
   "execution_count": 112,
   "metadata": {},
   "outputs": [
    {
     "name": "stdout",
     "output_type": "stream",
     "text": [
      "creating multilevel directed citation net..\n",
      "number of nodes: 307\n",
      "number of edges: 445\n",
      "selecting 307 candidate documents..\n",
      "306 found\n",
      "determining recommend documents..\n",
      "document with highest indegree: KORE300052016\n",
      "document with highest closeness centrality: KORE300452019\n",
      "document with highest betweenness centrality: KORE300452019\n",
      "document with highest Katz centrality: KORE300052016\n",
      "\n",
      "DOI: KORE308942018\n",
      "Titel: Bildung bewaffneter Gruppen: Begriff der Gruppe; Begriff des Verfügens über Waffen oder andere gefährliche Werkzeuge\n",
      "Datum: 1528934400000\n",
      "AZ: 3 StR 585/17\n",
      "\n",
      "Recommendation # 1: KORE300052016 (score: {'hybrid': 0.9293900765425183, 'net': 1.0, 'text': 0.8587801530850365})\n",
      "Titel: Mitgliedschaft in einer kriminellen oder terroristischen Vereinigung: Bestimmung der Konkurrenzverhältnisse bei strafbaren Handlungen im Rahmen der Mitgliedschaft\n",
      "Datum: 1436400000000\n",
      "AZ: 3 StR 537/14\n",
      "\n",
      "Recommendation # 2: JURE160012884 (score: {'hybrid': 0.8535963509519966, 'net': 0.9475409836065574, 'text': 0.7596517182974359})\n",
      "Titel: Gründung einer kriminellen Vereinigung: Erhebliche Gefahr für die öffentliche Sicherheit durch die geplanten Straftaten; Anforderungen in diesem Sinne bei geplanter Begehung von Sachbeschädigungen, Verstößen gegen das Versammlungsgesetzt und Beleidigungen politischer Gegner\n",
      "Datum: 1464652800000\n",
      "AZ: 3 StR 86/16\n",
      "\n",
      "Recommendation # 3: KORE312922015 (score: {'hybrid': 0.8311011352936194, 'net': 0.7737704918032787, 'text': 0.8884317787839601})\n",
      "Titel: Gefährliche Körperverletzung bei verabredeten Schlägereien konkurrierender Gruppierungen: Ausschluss einer Rechtfertigung durch Einwilligung wegen Sittenwidrigkeit der Verletzungshandlungen\n",
      "Datum: 1421884800000\n",
      "AZ: 3 StR 233/14\n"
     ]
    }
   ],
   "source": [
    "recommendAndShow('KORE308942018', 3, df_embeddings_short, dg)"
   ]
  },
  {
   "cell_type": "markdown",
   "metadata": {},
   "source": [
    "3. JURE160020935"
   ]
  },
  {
   "cell_type": "code",
   "execution_count": 88,
   "metadata": {},
   "outputs": [
    {
     "name": "stdout",
     "output_type": "stream",
     "text": [
      "creating multilevel directed citation net..\n",
      "number of nodes: 597\n",
      "number of edges: 1036\n",
      "selecting 597 candidate documents..\n",
      "596 found\n",
      "determining recommend documents..\n",
      "document with highest indegree: KORE300532012\n",
      "document with highest closeness centrality: KORE300532012\n",
      "document with highest betweenness centrality: KORE300532012\n",
      "document with highest Katz centrality: KORE300532012\n",
      "\n",
      "DOI: JURE160020935\n",
      "Titel: Notwehr: Dauer eines gegenwärtigen Angriffs; Notwehrlage bei subjektiver Befürchtung eines Angriffs\n",
      "Datum: 2016-11-24T00:00:00.000000000\n",
      "AZ: 4 StR 235/16\n",
      "\n",
      "Recommendation # 1: JURE120006798 (score: {'hybrid': 0.9185075667081135, 'net': 0.9600665557404326, 'text': 0.8769485776757943})\n",
      "Titel: Tötungsdelikt: Voraussetzungen eines bedingten Tötungsvorsatzes; Bewertung nachträglichen Bedauerns und von Rettungsversuchen des Täters\n",
      "Datum: 2012-02-23T00:00:00.000000000\n",
      "AZ: 4 StR 608/11\n",
      "\n",
      "Recommendation # 2: JURE140000756 (score: {'hybrid': 0.9119592221822066, 'net': 0.9118136439267887, 'text': 0.9121048004376245})\n",
      "Titel: Beteiligung an einer Schlägerei als Straftat: Begriff der Schlägerei und Abgrenzung von einzelnen Zweikämpfen\n",
      "Datum: 2013-12-19T00:00:00.000000000\n",
      "AZ: 4 StR 347/13\n",
      "\n",
      "Recommendation # 3: KORE300532012 (score: {'hybrid': 0.8719985229097909, 'net': 1.0, 'text': 0.7439970458195816})\n",
      "Titel: Bedingter Tötungsvorsatz im Lichte der Hemmschwellentheorie\n",
      "Datum: 2012-03-22T00:00:00.000000000\n",
      "AZ: 4 StR 558/11\n"
     ]
    }
   ],
   "source": [
    "recommendAndShow('JURE160020935', 3, df_embeddings_short, dg)"
   ]
  },
  {
   "cell_type": "markdown",
   "metadata": {},
   "source": [
    "4. JURE150008059"
   ]
  },
  {
   "cell_type": "code",
   "execution_count": 114,
   "metadata": {},
   "outputs": [
    {
     "name": "stdout",
     "output_type": "stream",
     "text": [
      "creating multilevel directed citation net..\n",
      "number of nodes: 175\n",
      "number of edges: 190\n",
      "selecting 175 candidate documents..\n",
      "174 found\n",
      "determining recommend documents..\n",
      "document with highest indegree: JURE150006558\n",
      "document with highest closeness centrality: KORE617162020\n",
      "document with highest betweenness centrality: KORE617162020\n",
      "document with highest Katz centrality: JURE150006558\n",
      "\n",
      "DOI: JURE150008059\n",
      "Titel: Werben um Mitglieder für eine terroristische Vereinigung im Internet: Video mit dem Aufruf zur Unterstützung von Al Qaida mit Geldmitteln und mit dem Einsatz des eigenen Lebens\n",
      "Datum: 1427932800000\n",
      "AZ: 3 StR 197/14\n",
      "\n",
      "Recommendation # 1: JURE130001697 (score: {'hybrid': 0.8709311297156995, 'net': 0.8691588785046729, 'text': 0.8727033809267262})\n",
      "Titel: Unterstützung einer ausländischen terroristischen Vereinigung: Verbreitung eines Enthauptungsvideos der Al Qaida im Internet\n",
      "Datum: 1348099200000\n",
      "AZ: 3 StR 314/12\n",
      "\n",
      "Recommendation # 2: JURE120016232 (score: {'hybrid': 0.7532090253324665, 'net': 0.6728971962616823, 'text': 0.8335208544032506})\n",
      "Titel: Werben um Mitglieder oder Unterstützer für eine terroristische Vereinigung: Erforderlichkeit eines Organisationsbezugs; Abgrenzung zur bloßen Sympathiewerbung\n",
      "Datum: 1342656000000\n",
      "AZ: 3 StR 218/12\n",
      "\n",
      "Recommendation # 3: JURE150011218 (score: {'hybrid': 0.6567158220273038, 'net': 0.9065420560747663, 'text': 0.4068895879798413})\n",
      "Titel: Bestechung und Bestechlichkeit im geschäftlichen Verkehr: Ablehnung eines Beweisantrags auf Vernehmung eines Auslandszeugen; unlautere Bevorzugung im Wettbewerb; Begriff der Vorteilserlangung; Ausmaß des Vorteils bei einem besonders schweren Fall\n",
      "Datum: 1430265600000\n",
      "AZ: 1 StR 235/14\n"
     ]
    }
   ],
   "source": [
    "recommendAndShow('JURE150008059', 3, df_embeddings_short, dg)"
   ]
  },
  {
   "cell_type": "markdown",
   "metadata": {},
   "source": [
    "5. JURE120006766"
   ]
  },
  {
   "cell_type": "code",
   "execution_count": 115,
   "metadata": {},
   "outputs": [
    {
     "name": "stdout",
     "output_type": "stream",
     "text": [
      "creating multilevel directed citation net..\n",
      "number of nodes: 9\n",
      "number of edges: 8\n",
      "selecting 9 candidate documents..\n",
      "8 found\n",
      "determining recommend documents..\n",
      "document with highest indegree: JURE110005959\n",
      "document with highest closeness centrality: JURE110005959\n",
      "document with highest betweenness centrality: JURE110005959\n",
      "document with highest Katz centrality: JURE110005959\n",
      "\n",
      "DOI: JURE120006766\n",
      "Titel: Unerlaubtes Handeltreiben mit Betäubungsmitteln in nicht geringer Menge: Berücksichtigung der Beteiligung verdeckter Ermittler bei der Strafzumessung\n",
      "Datum: 1328745600000\n",
      "AZ: 2 StR 455/11\n",
      "\n",
      "Recommendation # 1: JURE110011175 (score: {'hybrid': 0.8197617402086659, 'net': 0.8125, 'text': 0.8270234804173318})\n",
      "Titel: Unerlaubtes Handeltreiben mit Betäubungsmitteln: Vorliegen eines minder schweren Falls\n",
      "Datum: 1304380800000\n",
      "AZ: 5 StR 568/10\n",
      "\n",
      "Recommendation # 2: JURE110005959 (score: {'hybrid': 0.8178267554014171, 'net': 1.0, 'text': 0.6356535108028344})\n",
      "Titel: Unerlaubter Betäubungsmittelhandel: Anwendung der allgemeinen Strafzumessungsgrundsätze\n",
      "Datum: 1298937600000\n",
      "AZ: 3 StR 28/11\n",
      "\n",
      "Recommendation # 3: JURE130019142 (score: {'hybrid': 0.7521819634869309, 'net': 0.71875, 'text': 0.7856139269738619})\n",
      "Titel: Strafzumessung bei gewerbsmäßigem Betäubungsmittelhandel: Minder schwerer Fall bei Verkauf von Marihuana an Jugendliche in einer Vielzahl von Fällen\n",
      "Datum: 1381881600000\n",
      "AZ: 2 StR 312/13\n"
     ]
    }
   ],
   "source": [
    "recommendAndShow('JURE120006766', 3, df_embeddings_short, dg)"
   ]
  },
  {
   "cell_type": "markdown",
   "metadata": {},
   "source": [
    "6. JURE120010397"
   ]
  },
  {
   "cell_type": "code",
   "execution_count": 116,
   "metadata": {},
   "outputs": [
    {
     "name": "stdout",
     "output_type": "stream",
     "text": [
      "creating multilevel directed citation net..\n",
      "number of nodes: 44\n",
      "number of edges: 47\n",
      "selecting 44 candidate documents..\n",
      "43 found\n",
      "determining recommend documents..\n",
      "document with highest indegree: JURE100073554\n",
      "document with highest closeness centrality: JURE100073554\n",
      "document with highest betweenness centrality: JURE100073554\n",
      "document with highest Katz centrality: JURE100073554\n",
      "\n",
      "DOI: JURE120010397\n",
      "Titel: Gefährliche Körperverletzung: Bewertung entlastender Angaben des Angeklagten; Zurechnung eines Mittäterexzesses; Quarzhandschuh und bei Tritten gegen den Kopf getragenes Schuhwerk als gefährliche Werkzeuge\n",
      "Datum: 1335398400000\n",
      "AZ: 4 StR 51/12\n",
      "\n",
      "Recommendation # 1: JURE100073554 (score: {'hybrid': 0.9055497502209681, 'net': 1.0, 'text': 0.8110995004419361})\n",
      "Titel: Gefährliche Körperverletzung und schwerer Raub: Straßenschuh als gefährliches Werkzeug; Begriff des hinterlistigen Überfalls; Voraussetzungen einer schweren körperlichen Misshandlung\n",
      "Datum: 1284508800000\n",
      "AZ: 2 StR 395/10\n",
      "\n",
      "Recommendation # 2: JURE160008489 (score: {'hybrid': 0.8763002002463689, 'net': 0.9491525423728814, 'text': 0.8034478581198564})\n",
      "Titel: Räuberischer Angriff auf einen Kraftfahrer: Ausnutzung der besonderen Verhältnisse des Straßenverkehrs bei einem Überfall am Ende einer Taxifahrt\n",
      "Datum: 1461801600000\n",
      "AZ: 4 StR 563/15\n",
      "\n",
      "Recommendation # 3: KORE502242011 (score: {'hybrid': 0.756935158118976, 'net': 0.728813559322034, 'text': 0.7850567569159181})\n",
      "Titel: Versuchte schwere räuberische Erpressung in Tateinheit mit gefährlicher Körperverletzung: Voraussetzungen der Annahme sukzessiver Mittäterschaft; Abgrenzung zwischen Beihilfe und Mittäterschaft; fakultative Strafrahmenverschiebung\n",
      "Datum: 1294617600000\n",
      "AZ: 5 StR 515/10\n"
     ]
    }
   ],
   "source": [
    "recommendAndShow('JURE120010397', 3, df_embeddings_short, dg)"
   ]
  },
  {
   "cell_type": "markdown",
   "metadata": {},
   "source": [
    "7. JURE160021072"
   ]
  },
  {
   "cell_type": "code",
   "execution_count": 117,
   "metadata": {},
   "outputs": [
    {
     "name": "stdout",
     "output_type": "stream",
     "text": [
      "creating multilevel directed citation net..\n",
      "number of nodes: 70\n",
      "number of edges: 75\n",
      "selecting 70 candidate documents..\n",
      "69 found\n",
      "determining recommend documents..\n",
      "document with highest indegree: JURE110022632\n",
      "document with highest closeness centrality: JURE100064635\n",
      "document with highest betweenness centrality: JURE100064635\n",
      "document with highest Katz centrality: JURE110022632\n",
      "\n",
      "DOI: JURE160021072\n",
      "Titel: Totschlag durch Unterlassen: Garantenstellung aus familiärer Beistandspflicht\n",
      "Datum: 1476316800000\n",
      "AZ: 3 StR 248/16\n",
      "\n",
      "Recommendation # 1: JURE100064635 (score: {'hybrid': 0.913653139682978, 'net': 1.0, 'text': 0.827306279365956})\n",
      "Titel: Strafzumessung: Anforderungen an die Strafzumessung beim minder schweren Fall des versuchten Totschlags ohne Veranlassung durch das Opfer\n",
      "Datum: 1272326400000\n",
      "AZ: 3 StR 106/10\n",
      "\n",
      "Recommendation # 2: JURE110022632 (score: {'hybrid': 0.8989860707748633, 'net': 1.0, 'text': 0.7979721415497265})\n",
      "Titel: Strafzumessung bei schwerem Raub: Prüfungsreihenfolge bei minder schwerem Fall und vertyptem Strafmilderungsgrund\n",
      "Datum: 1319587200000\n",
      "AZ: 2 StR 218/11\n",
      "\n",
      "Recommendation # 3: JURE150003506 (score: {'hybrid': 0.8877547345485762, 'net': 0.904109589041096, 'text': 0.8713998800560565})\n",
      "Titel: Verhängung einer Jugendstrafe: Bemessung der Schwere der Schuld; Grundsätze der Strafzumessung bei möglichem Vorliegen eines minder schweren Falles\n",
      "Datum: 1418774400000\n",
      "AZ: 3 StR 521/14\n"
     ]
    }
   ],
   "source": [
    "recommendAndShow('JURE160021072', 3, df_embeddings_short, dg)"
   ]
  },
  {
   "cell_type": "markdown",
   "metadata": {},
   "source": [
    "8. JURE140006183"
   ]
  },
  {
   "cell_type": "code",
   "execution_count": 118,
   "metadata": {},
   "outputs": [
    {
     "name": "stdout",
     "output_type": "stream",
     "text": [
      "creating multilevel directed citation net..\n",
      "number of nodes: 66\n",
      "number of edges: 115\n",
      "selecting 66 candidate documents..\n",
      "65 found\n",
      "determining recommend documents..\n",
      "document with highest indegree: KORE311242011\n",
      "document with highest closeness centrality: KORE300112013\n",
      "document with highest betweenness centrality: KORE300112013\n",
      "document with highest Katz centrality: KORE311242011\n",
      "\n",
      "DOI: JURE140006183\n",
      "Titel: Betrug: Voraussetzungen eines Wettbetruges im Falle von Sportwetten\n",
      "Datum: 1394496000000\n",
      "AZ: 4 StR 479/13\n",
      "\n",
      "Recommendation # 1: KORE300112013 (score: {'hybrid': 0.8395149138398492, 'net': 0.9868421052631579, 'text': 0.6921877224165405})\n",
      "Titel: Sportwettenbetrug: Feststellung des Schadens\n",
      "Datum: 1355961600000\n",
      "AZ: 4 StR 55/12\n",
      "\n",
      "Recommendation # 2: JURE160005316 (score: {'hybrid': 0.8178474815850911, 'net': 0.75, 'text': 0.8856949631701824})\n",
      "Titel: Sportwettenbetrug beim Wetten im Internet: Täuschungsäquivalenz des unbefugten Verwendens von Daten; Schadenseintritt\n",
      "Datum: 1456963200000\n",
      "AZ: 4 StR 496/15\n",
      "\n",
      "Recommendation # 3: KORE300702012 (score: {'hybrid': 0.8021994538074296, 'net': 0.9210526315789473, 'text': 0.6833462760359119})\n",
      "Titel: Eingehungsbetrug: Schadensberechnung bei täuschungsbedingt gewährtem Darlehen\n",
      "Datum: 1334275200000\n",
      "AZ: 5 StR 442/11\n"
     ]
    }
   ],
   "source": [
    "recommendAndShow('JURE140006183', 3, df_embeddings_short, dg)"
   ]
  },
  {
   "cell_type": "markdown",
   "metadata": {},
   "source": [
    "9. KORE307212020"
   ]
  },
  {
   "cell_type": "code",
   "execution_count": 119,
   "metadata": {},
   "outputs": [
    {
     "name": "stdout",
     "output_type": "stream",
     "text": [
      "creating multilevel directed citation net..\n",
      "number of nodes: 104\n",
      "number of edges: 128\n",
      "selecting 104 candidate documents..\n",
      "103 found\n",
      "determining recommend documents..\n",
      "document with highest indegree: JURE160012884\n",
      "document with highest closeness centrality: KORE305632018\n",
      "document with highest betweenness centrality: KORE305632018\n",
      "document with highest Katz centrality: JURE160012884\n",
      "\n",
      "DOI: KORE307212020\n",
      "Titel: Schwere Brandstiftung: Teilweise Zerstörung eines als Flüchtlingsunterkunft genutzten Gebäudes durch Zimmerbrand\n",
      "Datum: 1573689600000\n",
      "AZ: 3 StR 408/19\n",
      "\n",
      "Recommendation # 1: JURE140006413 (score: {'hybrid': 0.7993621987988477, 'net': 0.8705882352941177, 'text': 0.7281361623035779})\n",
      "Titel: Strafverfahren wegen Brandstiftung: Schwere Brandstiftung bei Verlassen des menschenleeren Tatobjekts nach der Brandlegung\n",
      "Datum: 1384387200000\n",
      "AZ: 3 StR 336/13\n",
      "\n",
      "Recommendation # 2: KORE305632018 (score: {'hybrid': 0.7843367537790816, 'net': 0.9058823529411765, 'text': 0.6627911546169868})\n",
      "Titel: Schwere Brandstiftung: Zerstören bei gemischt genutztem Gebäude\n",
      "Datum: 1522886400000\n",
      "AZ: 3 StR 13/18\n",
      "\n",
      "Recommendation # 3: JURE130006298 (score: {'hybrid': 0.7420171638894311, 'net': 0.8705882352941177, 'text': 0.6134460924847446})\n",
      "Titel: Besonders schwere Brandstiftung: Notwendige Urteilsfeststellungen zur vollendeten Inbrandsetzung eines gemischt genutzten Gebäudes bei Feuerlegung im Keller\n",
      "Datum: 1362528000000\n",
      "AZ: 1 StR 578/12\n"
     ]
    }
   ],
   "source": [
    "recommendAndShow('KORE307212020', 3, df_embeddings_short, dg)"
   ]
  },
  {
   "cell_type": "markdown",
   "metadata": {},
   "source": [
    "10. KORE603532020"
   ]
  },
  {
   "cell_type": "code",
   "execution_count": 120,
   "metadata": {},
   "outputs": [
    {
     "name": "stdout",
     "output_type": "stream",
     "text": [
      "creating multilevel directed citation net..\n",
      "number of nodes: 103\n",
      "number of edges: 126\n",
      "selecting 103 candidate documents..\n",
      "102 found\n",
      "determining recommend documents..\n",
      "document with highest indegree: JURE100068632\n",
      "document with highest closeness centrality: KORE620972019\n",
      "document with highest betweenness centrality: KORE620972019\n",
      "document with highest Katz centrality: JURE100068632\n",
      "\n",
      "DOI: KORE603532020\n",
      "Titel: Untreue und Bestechlichkeit im geschäftlichen Verkehr: Amtsträgereigenschaft eines Sparkassenangestellten\n",
      "Datum: 1576022400000\n",
      "AZ: 5 StR 486/19\n",
      "\n",
      "Recommendation # 1: JURE100068632 (score: {'hybrid': 0.8902268629061643, 'net': 1.0, 'text': 0.7804537258123284})\n",
      "Titel: Verfallsanordnung bei versuchtem Betrug\n",
      "Datum: 1277769600000\n",
      "AZ: 1 StR 245/09\n",
      "\n",
      "Recommendation # 2: KORE627642018 (score: {'hybrid': 0.8696386429166797, 'net': 0.9886363636363636, 'text': 0.7506409221969957})\n",
      "Titel: Vorteilsannahme bei der Werbevermarktung im öffentlichen Personennahverkehr\n",
      "Datum: 1532995200000\n",
      "AZ: 3 StR 620/17\n",
      "\n",
      "Recommendation # 3: JURE110014169 (score: {'hybrid': 0.8041748071479307, 'net': 0.9090909090909091, 'text': 0.6992587052049521})\n",
      "Titel: Gewerbsmäßige Steuerhehlerei: Verkauf geschmuggelter Zigaretten; Anordnung des Verfalls von Wertersatz\n",
      "Datum: 1309219200000\n",
      "AZ: 1 StR 37/11\n"
     ]
    }
   ],
   "source": [
    "recommendAndShow('KORE603532020', 3, df_embeddings_short, dg)"
   ]
  }
 ],
 "metadata": {
  "kernelspec": {
   "display_name": "Python 3",
   "language": "python",
   "name": "python3"
  },
  "language_info": {
   "codemirror_mode": {
    "name": "ipython",
    "version": 3
   },
   "file_extension": ".py",
   "mimetype": "text/x-python",
   "name": "python",
   "nbconvert_exporter": "python",
   "pygments_lexer": "ipython3",
   "version": "3.6.9"
  }
 },
 "nbformat": 4,
 "nbformat_minor": 4
}
