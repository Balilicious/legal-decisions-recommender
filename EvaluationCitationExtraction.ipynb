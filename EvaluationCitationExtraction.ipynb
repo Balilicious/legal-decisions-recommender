{
 "cells": [
  {
   "cell_type": "markdown",
   "metadata": {},
   "source": [
    "# Evaluation Citation Extraction\n",
    "- Evaluiert Extraktions-Resultate aus [CitationExtraction](https://github.com/rosaba/legal-decisions-recommender/blob/master/CitationExtraction.ipynb)"
   ]
  },
  {
   "cell_type": "code",
   "execution_count": 3,
   "metadata": {},
   "outputs": [],
   "source": [
    "import pandas as pd"
   ]
  },
  {
   "cell_type": "code",
   "execution_count": 4,
   "metadata": {},
   "outputs": [],
   "source": [
    "# read df from json\n",
    "#data_all_citations = pd.read_json('data/dataframes/df_all_citations.json', orient='columns', encoding='utf-8')"
   ]
  },
  {
   "cell_type": "code",
   "execution_count": 11,
   "metadata": {},
   "outputs": [],
   "source": [
    "# extract 20 random samples from data\n",
    "# data_sample_20 = data_all_citations.sample(n=20, random_state=1)"
   ]
  },
  {
   "cell_type": "code",
   "execution_count": 12,
   "metadata": {},
   "outputs": [],
   "source": [
    "# Sample unbedingt speichern, da nicht reproduzierbar\n",
    "# data_sample_20.to_json(\"df_sample20.json\")"
   ]
  },
  {
   "cell_type": "code",
   "execution_count": 5,
   "metadata": {},
   "outputs": [],
   "source": [
    "# load sample here\n",
    "data_sample_20 = pd.read_json('data/dataframes/df_sample20.json', orient='columns', encoding='utf-8')"
   ]
  },
  {
   "cell_type": "code",
   "execution_count": 7,
   "metadata": {},
   "outputs": [
    {
     "data": {
      "text/html": [
       "<div>\n",
       "<style scoped>\n",
       "    .dataframe tbody tr th:only-of-type {\n",
       "        vertical-align: middle;\n",
       "    }\n",
       "\n",
       "    .dataframe tbody tr th {\n",
       "        vertical-align: top;\n",
       "    }\n",
       "\n",
       "    .dataframe thead th {\n",
       "        text-align: right;\n",
       "    }\n",
       "</style>\n",
       "<table border=\"1\" class=\"dataframe\">\n",
       "  <thead>\n",
       "    <tr style=\"text-align: right;\">\n",
       "      <th></th>\n",
       "      <th>az</th>\n",
       "      <th>datum</th>\n",
       "      <th>doknr</th>\n",
       "      <th>gertyp</th>\n",
       "      <th>spruchkoerper</th>\n",
       "      <th>doktyp</th>\n",
       "      <th>titel</th>\n",
       "      <th>tenor</th>\n",
       "      <th>gruende</th>\n",
       "      <th>citations_gruende</th>\n",
       "      <th>citations_tenor</th>\n",
       "    </tr>\n",
       "  </thead>\n",
       "  <tbody>\n",
       "    <tr>\n",
       "      <th>4133</th>\n",
       "      <td>3 StR 506/10</td>\n",
       "      <td>1311120000000</td>\n",
       "      <td>JURE110014198</td>\n",
       "      <td>BGH</td>\n",
       "      <td>3. Strafsenat</td>\n",
       "      <td>Beschluss</td>\n",
       "      <td>Vorsätzliche Marktmanipulation: Irreführende A...</td>\n",
       "      <td>Die Revision des Angeklagten gegen das Urteil ...</td>\n",
       "      <td></td>\n",
       "      <td>None</td>\n",
       "      <td>NaN</td>\n",
       "    </tr>\n",
       "    <tr>\n",
       "      <th>2928</th>\n",
       "      <td>2 StR 287/18</td>\n",
       "      <td>1559692800000</td>\n",
       "      <td>KORE627032019</td>\n",
       "      <td>BGH</td>\n",
       "      <td>2. Strafsenat</td>\n",
       "      <td>Beschluss</td>\n",
       "      <td>None</td>\n",
       "      <td>Auf die Revisionen der Angeklagten wird das Ur...</td>\n",
       "      <td>Das Landgericht hat die Angeklagten wegen zwei...</td>\n",
       "      <td>[[BGH, Beschluss vom 24. Januar 2017 - 3 StR 4...</td>\n",
       "      <td>NaN</td>\n",
       "    </tr>\n",
       "    <tr>\n",
       "      <th>3917</th>\n",
       "      <td>1 StR 167/19</td>\n",
       "      <td>1557360000000</td>\n",
       "      <td>KORE627112019</td>\n",
       "      <td>BGH</td>\n",
       "      <td>1. Strafsenat</td>\n",
       "      <td>Beschluss</td>\n",
       "      <td>Zulässigkeit einer Bezugnahme auf eine dem Urt...</td>\n",
       "      <td>1. Auf die Revision des Angeklagten wird das U...</td>\n",
       "      <td>Das Landgericht hat den Angeklagten wegen Beih...</td>\n",
       "      <td>[[BGH, Urteil vom 25. Februar 1987 - 3 StR 552...</td>\n",
       "      <td>NaN</td>\n",
       "    </tr>\n",
       "    <tr>\n",
       "      <th>4921</th>\n",
       "      <td>2 ARs 282/18</td>\n",
       "      <td>1558396800000</td>\n",
       "      <td>KORE625672019</td>\n",
       "      <td>BGH</td>\n",
       "      <td>2. Strafsenat</td>\n",
       "      <td>Beschluss</td>\n",
       "      <td>Zuständiges Amtsgericht bei Einspruch gegen Bu...</td>\n",
       "      <td>Der Verweisungsbeschluss des Amtsgerichts Kiel...</td>\n",
       "      <td>Die „Bundesagentur für Arbeit - Agentur für Ar...</td>\n",
       "      <td>[[Nürnberg (Oberlandesgerichtsbezirk Nürnberg,...</td>\n",
       "      <td>NaN</td>\n",
       "    </tr>\n",
       "    <tr>\n",
       "      <th>2319</th>\n",
       "      <td>2 StR 239/13</td>\n",
       "      <td>1392768000000</td>\n",
       "      <td>JURE140006561</td>\n",
       "      <td>BGH</td>\n",
       "      <td>2. Strafsenat</td>\n",
       "      <td>Urteil</td>\n",
       "      <td>Adhäsionsverfahren: Bemessung des Schmerzensge...</td>\n",
       "      <td>1. Auf die Revision des Angeklagten wird das U...</td>\n",
       "      <td>Das Landgericht hat den Angeklagten wegen gefä...</td>\n",
       "      <td>[[BGH, Beschluss vom 14. Oktober 1998 - 2 StR ...</td>\n",
       "      <td>NaN</td>\n",
       "    </tr>\n",
       "  </tbody>\n",
       "</table>\n",
       "</div>"
      ],
      "text/plain": [
       "                az          datum          doknr gertyp  spruchkoerper  \\\n",
       "4133  3 StR 506/10  1311120000000  JURE110014198    BGH  3. Strafsenat   \n",
       "2928  2 StR 287/18  1559692800000  KORE627032019    BGH  2. Strafsenat   \n",
       "3917  1 StR 167/19  1557360000000  KORE627112019    BGH  1. Strafsenat   \n",
       "4921  2 ARs 282/18  1558396800000  KORE625672019    BGH  2. Strafsenat   \n",
       "2319  2 StR 239/13  1392768000000  JURE140006561    BGH  2. Strafsenat   \n",
       "\n",
       "         doktyp                                              titel  \\\n",
       "4133  Beschluss  Vorsätzliche Marktmanipulation: Irreführende A...   \n",
       "2928  Beschluss                                               None   \n",
       "3917  Beschluss  Zulässigkeit einer Bezugnahme auf eine dem Urt...   \n",
       "4921  Beschluss  Zuständiges Amtsgericht bei Einspruch gegen Bu...   \n",
       "2319     Urteil  Adhäsionsverfahren: Bemessung des Schmerzensge...   \n",
       "\n",
       "                                                  tenor  \\\n",
       "4133  Die Revision des Angeklagten gegen das Urteil ...   \n",
       "2928  Auf die Revisionen der Angeklagten wird das Ur...   \n",
       "3917  1. Auf die Revision des Angeklagten wird das U...   \n",
       "4921  Der Verweisungsbeschluss des Amtsgerichts Kiel...   \n",
       "2319  1. Auf die Revision des Angeklagten wird das U...   \n",
       "\n",
       "                                                gruende  \\\n",
       "4133                                                      \n",
       "2928  Das Landgericht hat die Angeklagten wegen zwei...   \n",
       "3917  Das Landgericht hat den Angeklagten wegen Beih...   \n",
       "4921  Die „Bundesagentur für Arbeit - Agentur für Ar...   \n",
       "2319  Das Landgericht hat den Angeklagten wegen gefä...   \n",
       "\n",
       "                                      citations_gruende  citations_tenor  \n",
       "4133                                               None              NaN  \n",
       "2928  [[BGH, Beschluss vom 24. Januar 2017 - 3 StR 4...              NaN  \n",
       "3917  [[BGH, Urteil vom 25. Februar 1987 - 3 StR 552...              NaN  \n",
       "4921  [[Nürnberg (Oberlandesgerichtsbezirk Nürnberg,...              NaN  \n",
       "2319  [[BGH, Beschluss vom 14. Oktober 1998 - 2 StR ...              NaN  "
      ]
     },
     "execution_count": 7,
     "metadata": {},
     "output_type": "execute_result"
    }
   ],
   "source": [
    "# display 5 out of 20 samples (randomly selected)\n",
    "data_sample_20.sample(5)"
   ]
  },
  {
   "cell_type": "markdown",
   "metadata": {},
   "source": [
    "### Gründe manuell nach Zitaten durchsuchen & mit automatisch extrahierten Zitaten vergleichen"
   ]
  },
  {
   "cell_type": "markdown",
   "metadata": {},
   "source": [
    "Sample 1:"
   ]
  },
  {
   "cell_type": "code",
   "execution_count": 8,
   "metadata": {},
   "outputs": [
    {
     "data": {
      "text/plain": [
       "'Das Landgericht hat den Angeklagten wegen sexuellen Missbrauchs von Schutzbefohlenen in 33 Fällen, jeweils in Tateinheit mit sexuellem Missbrauch von Jugendlichen, zur Gesamtfreiheitsstrafe von zwei Jahren und neun Monaten verurteilt und eine Kompensationsentscheidung getroffen. Dagegen wendet sich der Beschwerdeführer mit seiner auf die allgemein erhobene Rüge der Verletzung sachlichen Rechts gestützten Revision. Das Rechtsmittel hat Erfolg. 1. Die Verurteilung wegen sexuellen Missbrauchs von Jugendlichen gemäß § 182 Abs. 3 Nr. 1 StGB hält revisionsrechtlicher Überprüfung nicht stand. Nach dieser Vorschrift machen sich Personen über einundzwanzig Jahre strafbar, die eine Person unter sechzehn Jahren dadurch missbrauchen, dass sie sexuelle Handlungen an ihr vornehmen oder von ihr an sich vornehmen lassen, und dabei die fehlende Fähigkeit des Opfers zur sexuellen Selbstbestimmung ausnutzen. Zu letzterer Tatbestandsvoraussetzung hat die Strafkammer festgestellt, die Stieftochter des Angeklagten habe sich aufgrund ihrer Unerfahrenheit nicht gegen seine Handlungen zur Wehr setzen können; sie sei gegenüber ihrem Stiefvater, der für sie auch Erziehungsperson gewesen sei, letztlich zu willensschwach gewesen, um diesem deutlicher die Grenzen aufzuzeigen. Diese Feststellungen hat das Landgericht auch seiner rechtlichen Würdigung zugrunde gelegt und sie dort wiederholt. Sie werden indes durch die Beweiswürdigung nicht belegt. Diese erweist sich mithin in durchgreifender Weise als lückenhaft. Nach ganz herrschender Auffassung in Rechtsprechung und Schrifttum ist die fehlende Fähigkeit zur sexuellen Selbstbestimmung in jedem konkreten Einzelfall festzustellen (BGH, Beschlüsse vom 23. Januar 1996 - 1 StR 481/95, BGHSt 42, 27, 29; vom 17. Oktober 2006 - 4 StR 341/06, BGHR StGB § 182 Abs. 2 Nr. 1 Missbrauch 1 und vom 23. Januar 2008 - 2 StR 555/07, StV 2008, 238, 239; MünchKommStGB/Renzikowski, 2. Aufl., § 182 Rn. 56; LK/Hörnle, StGB, 12. Aufl., § 182 Rn. 60, jew. mwN; aA SSW-StGB/Wolters, 1. Aufl., § 182 Rn. 20); dementsprechend ist die Beweisaufnahme jedenfalls auf solche Umstände zu erstrecken, die dem Tatgericht die Beurteilung erlauben, ob bei dem Opfer die Fähigkeit zur sexuellen Selbstbestimmung nicht vorhanden war (vgl. MünchKommStGB/Renzikowski, aaO; LK/Hörnle, aaO, § 182 Rn. 62; SSW/Wolters, aaO, § 182 Rn. 22). Daran fehlt es hier: Das Landgericht hat seine Feststellungen zum Tatgeschehen allein auf die - rechtsfehlerfrei als glaubhaft gewürdigte - Einlassung des Angeklagten gestützt, die sich nach ihrem in den Urteilsgründen wiedergegebenen Inhalt indes zu solchen Umständen nicht verhält. Die Nebenklägerin hat es - dem Wunsch des Angeklagten entsprechend - nicht förmlich vernommen; diese hat sich in der Hauptverhandlung lediglich mit einer \"Erklärung\" an den Angeklagten gewandt, der sich aber ebenfalls keine tragfähigen Hinweise auf ihre Fähigkeit zur sexuellen Selbstbestimmung zur Tatzeit entnehmen lassen. 2. Da es nach den getroffenen Feststellungen und der rechtlichen Würdigung des Landgerichts nicht fern liegt, dass in einer neuen Verhandlung festgestellt und belegt werden kann, dass der Nebenklägerin die Fähigkeit zur sexuellen Selbstbestimmung fehlte und der Angeklagte dies ausnutzte, kommt die vom Generalbundesanwalt beantragte Schuldspruchänderung dahingehend, die Verurteilung wegen Missbrauchs von Jugendlichen in Wegfall zu bringen, nicht in Betracht. Eine solche ist nach Auffassung des Senats insbesondere nicht deshalb veranlasst, weil sich die Nebenklägerin gegen die sexuellen Übergriffe des Angeklagten sträubte und ihn mehrfach bat, damit aufzuhören. Zwar wird in der Literatur vereinzelt vertreten, nur einvernehmlich vorgenommene sexuelle Handlungen könnten den Tatbestand des § 182 Abs. 3 StGB erfüllen (Fischer, StGB, 60. Aufl., § 182 Rn. 11). Dementsprechend hat sich auch die Rechtsprechung des Bundesgerichtshofes - allerdings in nicht tragenden Erwägungen - geäußert (BGH, Beschlüsse vom 18. April 2007 - 2 StR 589/06 und vom 20. Juli 2010 - 4 StR 304/10). Dieser Auffassung, die sich aus dem Wortlaut der Vorschrift ergeben soll, vermag der Senat indes nicht zu folgen: Die grammatikalische Auslegung des § 182 Abs. 3 StGB ergibt nicht, dass der Tatbestand auf einvernehmliche sexuelle Handlungen beschränkt sein sollte. Dies lässt sich insbesondere nicht dem Tatbestandsmerkmal des \"Ausnutzens\" entnehmen. Zwar folgt aus diesem Merkmal, dass die fehlende Selbstbestimmungsfähigkeit des Opfers wesentlich für das Zustandekommen der sexuellen Handlung gewesen sein muss (MünchKommStGB/Renzikowski, aaO, § 182 Rn. 60; LK/Hörnle, aaO, § 182 Rn. 68). Dies ist aber nicht nur der Fall, wenn der Jugendliche infolgedessen keinen entgegenstehenden Willen entwickeln kann. Die Voraussetzung des \"Ausnutzens\" ist vielmehr auch dann erfüllt, wenn das Opfer seinen infolge des jugendlichen Alters noch unterentwickelten und deshalb nur bedingt vorhanden entgegenstehenden Willen nicht verwirklichen, etwa aufgrund der Dominanz des Täters bzw. eines bestehenden \"Machtgefälles\" nicht durchsetzen kann (S/S-Perron/Eisele, StGB, 28. Aufl., § 182 Rn. 14; LK/Hörnle, aaO, § 182 Rn. 65; SSW-StGB/Wolters, aaO, § 182 Rn. 22); allein diese Auffassung entspricht im Übrigen derjenigen des Gesetzgebers (BT-Drucks. 12/4584, S. 8). Gegen dieses Ergebnis spricht auch nicht das Ergebnis einer teleologischen Auslegung. Begreift man den Schutzzweck der Vorschrift dahin, dass der aufgrund des noch nicht abgeschlossenen Reifeprozesses und der fehlenden sexuellen Autonomie (BT-Drucks. 12/4584, S. 7, 11) insoweit noch nicht eigenverantwortliche Jugendliche vor Fremdbestimmung geschützt werden soll (SSW/Wolters, aaO, § 182 Rn. 2), stellt gerade das \"Überspielen\" bzw. die Missachtung des zwar gebildeten, aber infolge der Reifemängel nicht durchsetzbaren entgegenstehenden Willens des Opfers eine Fremdbestimmung dar. Auch in diesen Fällen erweist sich der Jugendliche - trotz der entsprechenden Willensbildung - nicht als \"eigenverantwortlich\", wenn und soweit die nicht abgeschlossene Entwicklung der sexuellen Selbstbestimmungsfähigkeit dazu führt, dass er diesen Willen nicht verwirklichen kann. 3. Die Aufhebung der Schuldsprüche wegen sexuellen Missbrauchs von Jugendlichen nötigt auch zur Aufhebung der von dem Rechtsfehler nicht betroffenen Verurteilung wegen sexuellen Missbrauchs von Schutzbefohlenen. Um dem neuen Tatgericht eine Beurteilung auf widerspruchsfreier Tatsachengrundlage zu ermöglichen, hat der Senat auch die rechtsfehlerfrei getroffenen Feststellungen aufgehoben. Für die neue Verhandlung weist der Senat darauf hin, dass sich Erkenntnisse über den Reifeprozess der Nebenklägerin, aufgrund derer die Feststellung ihrer fehlenden sexuellen Selbstbestimmungsfähigkeit möglich wäre, vorliegend auch aus Angaben des mit ihrer Erziehung betrauten Angeklagten ergeben könnten.'"
      ]
     },
     "execution_count": 8,
     "metadata": {},
     "output_type": "execute_result"
    }
   ],
   "source": [
    "data_sample_20.gruende.iloc[0]\n",
    "\n",
    "# manuell GEFUNDEN:\n",
    "# BGH, Beschlüsse vom 23. Januar 1996 - 1 StR 481/95, BGHSt 42, 27, 29;\n",
    "# vom 17. Oktober 2006 - 4 StR 341/06, BGHR StGB § 182 Abs. 2 Nr. 1 Missbrauch 1\n",
    "# und vom 23. Januar 2008 - 2 StR 555/07, StV 2008, 238, 239\n",
    "# BGH, Beschlüsse vom 18. April 2007 - 2 StR 589/06\n",
    "# und vom 20. Juli 2010 - 4 StR 304/10"
   ]
  },
  {
   "cell_type": "code",
   "execution_count": 9,
   "metadata": {},
   "outputs": [
    {
     "data": {
      "text/plain": [
       "[['BGH, Beschlüsse vom 23. Januar 1996 - 1 StR 481/95, BGHSt 42, 27, 29',\n",
       "  1677,\n",
       "  1745],\n",
       " ['vom 17. Oktober 2006 - 4 StR 341/06, BGHR StGB § 182 Abs. 2 Nr. 1 Missbrauch 1',\n",
       "  1747,\n",
       "  1825],\n",
       " ['vom 23. Januar 2008 - 2 StR 555/07, StV 2008, 238, 239', 1830, 1884],\n",
       " ['BGH, Beschlüsse vom 18. April 2007 - 2 StR 589/06', 3950, 3999],\n",
       " ['vom 20. Juli 2010 - 4 StR 304/10', 4004, 4036]]"
      ]
     },
     "execution_count": 9,
     "metadata": {},
     "output_type": "execute_result"
    }
   ],
   "source": [
    "data_sample_20.citations_gruende.iloc[0]\n",
    "\n",
    "# --> 100% korrekt"
   ]
  },
  {
   "cell_type": "markdown",
   "metadata": {},
   "source": [
    "Sample 2:"
   ]
  },
  {
   "cell_type": "code",
   "execution_count": 19,
   "metadata": {},
   "outputs": [
    {
     "data": {
      "text/plain": [
       "'Das Landgericht hat den Angeklagten wegen Vergewaltigung zu einer Freiheitsstrafe von fünf Jahren sowie dazu verurteilt, an die Nebenklägerin ein Schmerzensgeld wegen unerlaubter Handlung in Höhe von 8.000 Euro nebst Prozesszinsen zu zahlen. Außerdem hat es festgestellt, dass der Angeklagte verpflichtet ist, der Nebenklägerin sämtliche künftigen immateriellen Schäden aufgrund der Tat zu ersetzen. Gegen dieses Urteil richtet sich die auf die Sachrüge gestützt Revision des Angeklagten. 1. Die Revision ist unbegründet im Sinne von § 349 Abs. 2 StPO, soweit sie sich gegen den Schuld- und Strafausspruch richtet. Der Angeklagte ist nicht dadurch beschwert, dass das Landgericht einerseits § 239b StGB nicht angewendet hat, andererseits aber auch trotz der Zäsuren zwischen einzelnen sexuellen Handlungen des Angeklagten mit der sich in schutzloser Lage befindenden Nebenklägerin nicht von mehreren rechtlich selbständigen Vergewaltigungen ausgegangen ist. Ebenfalls liegt keine Beschwer für den Angeklagten darin, dass das Landgericht die Veranlassung der Nebenklägerin zur Versendung einer Nachricht an ihn über „WhatsApp\", mit deren Inhalt die Vergewaltigung verschleiert werden sollte, nicht unter dem Gesichtspunkt einer Nötigung erörtert hat. 2. Über die Revision gegen den Adhäsionsausspruch ist gesondert zu entscheiden. Der Senat hat mit Beschluss vom 8. Oktober 2014 - 2 StR 137/14 u.a. - bei den anderen Strafsenaten und bei dem Großen Senat für Zivilsachen angefragt, ob an der Rechtsprechung, die bei der Bemessung des Schmerzensgeldes regelmäßig die Berücksichtigung der Vermögensverhältnisse des Schädigers und des Geschädigten erfordert, festgehalten wird. Er beabsichtigt diese Rechtsprechung aufzugeben. Auf die Gründe dieser Entscheidung wird Bezug genommen. Der Senat sieht sich mit Blick auf die vorgenannte Entscheidung gehindert, über die Revision des Angeklagten, soweit davon der Adhäsionsausspruch betroffen ist, zu entscheiden. Im Hinblick darauf, dass über diesen Teil der Revision des Angeklagten in absehbarer Zeit nicht entschieden werden kann, war es geboten, über den entscheidungsreifen strafrechtlichen Teil des angefochtenen Urteils vorab zu entscheiden. Eine solche Teilerledigung des Rechtsmittels war hier ausnahmsweise zulässig (vgl. Senat, Beschluss vom 8. Oktober 2014 - 2 StR 137/14). 3. Im Adhäsionsverfahren ist über den Prozesskostenhilfeantrag der Nebenklägerin für die Revisionsinstanz gesondert zu entscheiden. Das Landgericht hat ihr durch Beschluss vom 17. April 2014 Prozesskostenhilfe für das Adhäsionsverfahren ohne Ratenzahlung unter Beiordnung von Rechtsanwältin R. bewilligt. Die Bewilligung von Prozesskostenhilfe wirkt jedoch nur für die jeweilige Instanz (§ 404 Abs. 5 Satz 1 StPO i.V.m. § 119 Abs. 1 Satz 1 ZPO), so dass im Revisionsverfahren erneut zu entscheiden ist. Danach ist vom Senat als dem mit der Sache befassten Gericht (§ 404 Abs. 5 Satz 3 StPO) der Nebenklägerin im Adhäsionsverfahren Prozesskostenhilfe für die Revisionsinstanz hinsichtlich des Angriffs auf die Adhäsionsentscheidung zu bewilligen und ihr Rechtsanwältin R. zur Vertretung insoweit beizuordnen. Die Nebenklägerin ist nach ihren persönlichen und wirtschaftlichen Verhältnissen weiterhin nicht in der Lage, die Prozesskosten aufzubringen. Die Erfolgsaussichten ihres Schmerzensgeldanspruches sind hier nicht zu prüfen (§ 404 Abs. 5 Satz 1 StPO i.V.m. § 119 Abs. 1 Satz 2 ZPO). Der Nebenklägerin ist Rechtsanwältin R. beizuordnen, die der Antragstellerin bereits in erster Instanz beigeordnet war (§ 404 Abs. 5 Satz 2 StPO i.V.m. § 121 Abs. 2 ZPO). Fischer       Cierniak   Krehl RinBGH Dr. Ott ist aus tatsächlichen Gründen an der Unterschrift gehindert. Eschelbach  Fischer'"
      ]
     },
     "execution_count": 19,
     "metadata": {},
     "output_type": "execute_result"
    }
   ],
   "source": [
    "data_sample_20.gruende.iloc[1]\n",
    "\n",
    "# manuell GEFUNDEN:\n",
    "# mit Beschluss vom 8. Oktober 2014 - 2 StR 137/14 u.a.\n",
    "# vgl. Senat, Beschluss vom 8. Oktober 2014 - 2 StR 137/14"
   ]
  },
  {
   "cell_type": "code",
   "execution_count": 10,
   "metadata": {},
   "outputs": [
    {
     "data": {
      "text/plain": [
       "[['Beschluss vom 8. Oktober 2014 - 2 StR 137/14 u. a. -', 1348, 1399],\n",
       " ['Senat, Beschluss vom 8. Oktober 2014 - 2 StR 137/14', 2275, 2326]]"
      ]
     },
     "execution_count": 10,
     "metadata": {},
     "output_type": "execute_result"
    }
   ],
   "source": [
    "data_sample_20.citations_gruende.iloc[1]\n",
    "\n",
    "# --> 100% korrekt"
   ]
  },
  {
   "cell_type": "markdown",
   "metadata": {},
   "source": [
    "Sample 3:"
   ]
  },
  {
   "cell_type": "code",
   "execution_count": 20,
   "metadata": {},
   "outputs": [
    {
     "data": {
      "text/plain": [
       "'Das Landgericht hat den Angeklagten wegen gefährlicher Körperverletzung zu einer Freiheitsstrafe von vier Jahren verurteilt. Ferner hat es ihn verurteilt, an den Nebenkläger D. M. ein Schmerzensgeld in Höhe von 15.000 Euro nebst Zinsen zu zahlen. Hiergegen richtet sich die Revision des Angeklagten mit Verfahrensrügen und der Sachbeschwerde. Das Rechtsmittel hat in dem aus der Entscheidungsformel ersichtlichen Umfang Erfolg. I. 1. Nach den Feststellungen des Landgerichts war der gesondert verfolgte M. U. von den Zeugen F. M. und D. M. nach einem Streit aus dem Ladenlokal „G. \" verwiesen worden. Daraufhin bewaffnete M. U. sich, den Angeklagten und einen Dritten jeweils mit einem Holztischbein als Schlagwerkzeug. Die Mittäter folgten dem Geschädigten D. M. , als dieser das Ladenlokal verließ, um zu seiner Wohnung zu gehen. Einer von ihnen versetzte dem Geschädigten einen wuchtigen Hieb mit dem Tischbein gegen den Hinterkopf, wodurch dieser eine Schädelfraktur erlitt und in die Knie ging. In dieser Position traf den Geschädigten ein weiterer Schlag mit einem Tischbein an die Stirn, so dass er zu Boden fiel. Auf dem Rücken liegend wurde er von allen Mittätern mit den Tischbeinen geschlagen, wobei er Frakturen am Oberarmgelenk und an der Elle des rechten Arms erlitt. Ferner wurde er am Bauch getroffen, bevor die Täter von ihm abließen. Ein Bruch des linken Oberarmknochens kann durch einen Schlag oder den Sturz verursacht worden sein. Der Geschädigte war potenziell lebensgefährlich verletzt und musste operativ versorgt werden. Gegen ärztlichen Rat verließ er das Krankenhaus bereits nach vier Tagen. Er behielt eine Narbe am Kopf, litt monatelang an Taubheitsgefühlen und Kopfschmerzen und war zwei Monate lang krank geschrieben. 2. Das Landgericht hat angenommen, der Angeklagte sei zwar vom Versuch des Heimtückemordes strafbefreiend zurückgetreten, aber der gefährlichen Körperverletzung im Sinne von § 224 Abs. 1 Nr. 2, 4 und 5 StGB schuldig. Die sachverständig beratene Jugendkammer hat festgestellt, der Angeklagte sei unbeschadet der Eintragung des 24. Januar 1991 als Geburtsdatum im türkischen Personenstandsregister zur Tatzeit bereits Erwachsener gewesen. Deshalb hat sie ihn nach dem für Erwachsene geltenden Strafrecht abgeurteilt. II. Die Revision des Angeklagten ist unbegründet, soweit sie sich gegen den Schuld- und Strafausspruch richtet. Auch für die von der Verteidigung erstrebte Kompensation der Dauer des Revisionsverfahrens ist kein Raum. Jedoch führt die Revision zur Aufhebung des Ausspruchs über die Höhe des Schmerzensgeldes. 1. Zwar begegnet die Annahme des Landgerichts rechtlichen Bedenken, der Angeklagte sei zurzeit seiner Untersuchung am 22. August 2012 mindestens zweiundzwanzig Jahre alt gewesen, weshalb davon auszugehen sei, dass er zur Tatzeit - am 2. Juni 2011 - das einundzwanzigste Lebensjahr vollendet gehabt habe. Die Jugendkammer hat aber betont, dass die Anwendung von Jugendstrafrecht „mangels festzustellender Reifeverzögerungen selbst dann nicht in Betracht gekommen\" wäre, wenn der Angeklagte zur Tatzeit das einundzwanzigste Lebensjahr noch nicht vollendet gehabt hätte. Diese Überlegung zur sittlichen und geistigen Entwicklung des Angeklagten im Urteilszeitpunkt (§ 105 Abs. 1 Nr. 1 JGG) bleibt von den Feststellungen zur körperlichen Entwicklung bei der Altersbestimmung unberührt. Dies trägt die Ablehnung der Anwendung von Jugendstrafrecht. 2. Die Entscheidung über den Adhäsionsantrag ist rechtsfehlerhaft. a) Zur Begründung hat das Landgericht auf die „festgestellten Tatumstände\" verwiesen und angemerkt, angesichts dieser Umstände sei die Schmerzensgeldforderung „angemessen, um einerseits einen Ausgleich für die durch den Geschädigten erlittenen Leiden zu schaffen und zum anderen der mit dem Schmerzensgeld auch bezweckten Genugtuung gerecht zu werden.\" Das genügt nicht. Die Urteilsgründe müssen alle Erwägungen ansprechen, die für die Bemessung des Schmerzensgeldes von Bedeutung sein können (LR/Hilger, StPO, 26. Aufl., § 406 Rn. 7). Das ist hier nicht der Fall. Maßgebend für die Höhe des Schmerzensgeldes sind nicht nur die Schwere der Tat, die durch die „Tatumstände\" beschrieben wird, und die durch sie verursachten Gesundheitsschäden des Verletzten, sondern regelmäßig auch die wirtschaftlichen Verhältnisse von Täter und Opfer (BGH, Beschluss vom 14. Oktober 1998 - 2 StR 436/98, BGHSt 44, 202, 203; Beschluss vom 23. Februar 2012 - 4 StR 602/11, StV 2012, 711; Beschluss vom 21. November 2013 - 2 StR 459/13). Dem Urteil ist nicht zu entnehmen, dass dies alles berücksichtigt worden ist. b) Der Ausspruch über das Schmerzensgeld muss aber nicht ganz aufgehoben werden. Hat das Tatgericht dem Verletzten ein Schmerzensgeld zugesprochen und beanstandet das Revisionsgericht - wie hier - lediglich dessen Bemessung, so kann die Zuerkennung des Schmerzensgeldanspruchs dem Grunde nach aufrechterhalten bleiben (vgl. Senat aaO, BGHSt 44, 202, 203). 3. Der Rechtsmittelerfolg des Beschwerdeführers ist so gering, dass es nicht geboten ist, ihn aus Billigkeitsgründen teilweise von der Kosten- und Auslagenlast freizustellen (§ 473 Abs. 4 StPO). Fischer Appl Krehl Eschelbach Ott'"
      ]
     },
     "execution_count": 20,
     "metadata": {},
     "output_type": "execute_result"
    }
   ],
   "source": [
    "data_sample_20.gruende.iloc[2]\n",
    "\n",
    "# MANUELL GEFUNDEN:\n",
    "# BGH, Beschluss vom 14. Oktober 1998 - 2 StR 436/98, BGHSt 44, 202, 203;\n",
    "# Beschluss vom 23. Februar 2012 - 4 StR 602/11, StV 2012, 711;\n",
    "# Beschluss vom 21. November 2013 - 2 StR 459/13\n",
    "# vgl. Senat aaO, BGHSt 44, 202, 203"
   ]
  },
  {
   "cell_type": "code",
   "execution_count": 42,
   "metadata": {},
   "outputs": [
    {
     "data": {
      "text/plain": [
       "[['BGH, Beschluss vom 14. Oktober 1998 - 2 StR 436/98, BGHSt 44, 202, 203',\n",
       "  4319,\n",
       "  4389],\n",
       " ['Beschluss vom 23. Februar 2012 - 4 StR 602/11, StV 2012, 711', 4391, 4451],\n",
       " ['Beschluss vom 21. November 2013 - 2 StR 459/13', 4453, 4499],\n",
       " ['Senat aaO, BGHSt 44, 202, 203', 4904, 4933]]"
      ]
     },
     "execution_count": 42,
     "metadata": {},
     "output_type": "execute_result"
    }
   ],
   "source": [
    "data_sample_20.citations_gruende.iloc[2]\n",
    "\n",
    "# --> 100% korrekt"
   ]
  },
  {
   "cell_type": "markdown",
   "metadata": {},
   "source": [
    "Sample 4:"
   ]
  },
  {
   "cell_type": "code",
   "execution_count": 21,
   "metadata": {},
   "outputs": [
    {
     "data": {
      "text/plain": [
       "'Das Landgericht hat den Angeklagten wegen Beihilfe zur Steuerhinterziehung in sechs Fällen zu einer Gesamtfreiheitsstrafe von einem Jahr und neun Monaten verurteilt und die Vollstreckung zur Bewährung ausgesetzt. Drei Monate hat es als vollstreckt erklärt. Gegen dieses Urteil wendet sich der Angeklagte mit seiner auf die nicht ausgeführte Verfahrensrüge und die Sachrüge gestützten Revision. Das Rechtsmittel hat mit der Sachrüge Erfolg (§ 349 Abs. 4 StPO). Das Urteil enthält einen durchgreifenden Darstellungsmangel, weil es § 267 Abs. 1 Satz 1 StPO nicht genügt. Die Strafkammer verweist in den Feststellungen jeweils bei der Darstellung der einzelnen Haupttaten auf eine angeblich dem Urteil „als Anlage 1“ beigefügte Tabelle, aus der sich in chronologischer Reihenfolge die Tage, an denen Quittungen oder Rechnungen auf den Namen des jeweiligen Haupttäters ausgestellt worden sind, und die Höhe der in den Quittungen oder Rechnungen jeweils ausgewiesenen Umsatzsteuer ergeben sollen. Die Tabelle ist dem Urteil allerdings nicht beigefügt. Dies ist rechtsfehlerhaft; denn bei einer Verurteilung müssen nach § 267 Abs. 1 Satz 1 StPO in den Urteilsgründen die für erwiesen erachteten Tatsachen angegeben werden, in denen die gesetzlichen Merkmale der Straftat gefunden werden. Dies schließt die Bezugnahme auf eine dem Urteil nicht beigefügte Anlage aus (vgl. BGH, Urteil vom 25. Februar 1987 - 3 StR 552/86 Rn. 10, BGHR StPO § 267 Abs. 1 Satz 1 Bezugnahme 1). Die Sache bedarf daher insgesamt neuer Verhandlung und Entscheidung, im Rahmen derer die neue Wirtschaftsstrafkammer aufgrund der geänderten Rechtsprechung des Senats bei der Strafzumessung eine Strafrahmenverschiebung gemäß § 28 Abs. 1 StGB in Betracht zu ziehen haben wird (vgl. Senat, Urteil vom 23. Oktober 2018 - 1 StR 454/17 Rn. 18 ff., 21). Der Senat hebt das Urteil einschließlich sämtlicher Feststellungen auf; die nunmehr zur Entscheidung berufene Strafkammer kann so die erforderlichen Feststellungen insgesamt neu treffen (§ 353 Abs. 2 StPO).'"
      ]
     },
     "execution_count": 21,
     "metadata": {},
     "output_type": "execute_result"
    }
   ],
   "source": [
    "data_sample_20.gruende.iloc[3]\n",
    "\n",
    "# MANUELL GEFUNDEN:\n",
    "# vgl. BGH, Urteil vom 25. Februar 1987 - 3 StR 552/86 Rn. 10, BGHR StPO § 267 Abs. 1 Satz 1 Bezugnahme 1\n",
    "# vgl. Senat, Urteil vom 23. Oktober 2018 - 1 StR 454/17 Rn. 18 ff., 21"
   ]
  },
  {
   "cell_type": "code",
   "execution_count": 43,
   "metadata": {},
   "outputs": [
    {
     "data": {
      "text/plain": [
       "[['BGH, Urteil vom 25. Februar 1987 - 3 StR 552/86', 1364, 1411],\n",
       " ['Senat, Urteil vom 23. Oktober 2018 - 1 StR 454/17', 1746, 1795]]"
      ]
     },
     "execution_count": 43,
     "metadata": {},
     "output_type": "execute_result"
    }
   ],
   "source": [
    "data_sample_20.citations_gruende.iloc[3]\n",
    "\n",
    "# --> 100% korrekt"
   ]
  },
  {
   "cell_type": "markdown",
   "metadata": {},
   "source": [
    "Sample 5:"
   ]
  },
  {
   "cell_type": "code",
   "execution_count": 11,
   "metadata": {},
   "outputs": [
    {
     "data": {
      "text/plain": [
       "''"
      ]
     },
     "execution_count": 11,
     "metadata": {},
     "output_type": "execute_result"
    }
   ],
   "source": [
    "data_sample_20.gruende.iloc[4]\n",
    "# --> leer"
   ]
  },
  {
   "cell_type": "code",
   "execution_count": 12,
   "metadata": {},
   "outputs": [],
   "source": [
    "data_sample_20.citations_gruende.iloc[4]\n",
    "# --> leer"
   ]
  },
  {
   "cell_type": "markdown",
   "metadata": {},
   "source": [
    "Sample 6:"
   ]
  },
  {
   "cell_type": "code",
   "execution_count": 23,
   "metadata": {},
   "outputs": [
    {
     "data": {
      "text/plain": [
       "'Das Landgericht hat den Angeklagten wegen Körperverletzung in zwei Fällen zu einer Gesamtfreiheitsstrafe von einem Jahr und drei Monaten verurteilt. Darüber hinaus hat es die Unterbringung des Angeklagten in einem psychiatrischen Krankenhaus angeordnet. Die auf die Verletzung sachlichen Rechts gestützte Revision des Angeklagten hat den aus der Beschlussformel ersichtlichen Teilerfolg; im Übrigen ist sie unbegründet im Sinne des § 349 Abs. 2 StPO. 1. Das Landgericht hat folgende Feststellungen getroffen: Am 23. Dezember 2014 schlug der Angeklagte, der in den vergangenen zwanzig Jahren bereits mehrfach wegen Körperverletzungsdelikten strafrechtlich verfolgt worden war, dem Zeugen S. , mit dem er zusammen ein Zimmer in einer Übernachtungsstätte bewohnte und von dem er sich provoziert fühlte, mit der Faust ins Gesicht. Der Zeuge S. erlitt eine schmerzhafte Schwellung und eine Platzwunde im Bereich des linken Auges. Fünf Tage später schlug der Angeklagte dem Zeugen T. , einem Mitarbeiter der Übernachtungsstätte, „unvermittelt und kraftvoll“ mit der Faust ins Gesicht. T. erlitt eine schmerzhafte Schwellung im Bereich des Jochbeins. Sachverständig beraten hat sich das Landgericht davon überzeugt, dass der Angeklagte im Zustand der erheblich verminderten Schuldfähigkeit gehandelt habe. Zum Tatzeitpunkt habe bei dem Angeklagten eine „chronifizierte schizophrene Spektrumserkrankung“ bestanden; diese medikamentös behandelbare „Schizomanie zeichne sich als Wahnerkrankung mit affektiven Auffälligkeiten aus“. Bei dem Angeklagten käme es wegen dieses krankheitsbedingt „dauerhaft erhöhten Erregungsniveaus“ sowie fehlender sozialer Anpassungsfähigkeit, Toleranz und Empathie immer wieder zu raptusartigen, unangekündigten Gewaltausbrüchen. 2. Die auf die Sachrüge durchgeführte umfassende Überprüfung des Urteils hat zum Schuld- und Strafausspruch keinen Rechtsfehler zum Nachteil des Angeklagten ergeben. 3. Der Maßregelausspruch hält hingegen rechtlicher Nachprüfung nicht stand. Die Voraussetzungen für die Unterbringung des Angeklagten in einem psychiatrischen Krankenhaus (§ 63 StGB) sind nicht hinreichend belegt. a) Die grundsätzlich unbefristete Unterbringung in einem psychiatrischen Krankenhaus gemäß § 63 StGB ist eine außerordentlich belastende Maßnahme. Sie setzt neben der sicheren Feststellung mindestens einer im Zustand der Schuldunfähigkeit (§ 20 StGB) oder der erheblich verminderten Schuldfähigkeit (§ 21 StGB) begangenen Anlasstat voraus, dass der Täter infolge seines fortdauernden Zustandes in Zukunft erhebliche rechtswidrige Taten begehen wird, die schwere Störungen des Rechtsfriedens besorgen lassen. Die dazu notwendige Prognose ist auf der Grundlage einer umfassenden Würdigung der Persönlichkeit des Täters, seines Vorlebens und der von ihm begangenen Anlasstat(en) zu entwickeln. Dabei sind an die Darlegungen umso höhere Anforderungen zu stellen, je mehr es sich bei dem zu beurteilenden Sachverhalt um einen Grenzfall handelt (vgl. BGH, Beschlüsse vom 10. Mai 2016 - 4 StR 185/16, StV 2016, 719, 720 und vom 28. Januar 2016 - 3 StR 521/15, NStZ-RR 2016, 135). b) Das Landgericht hat mit der Körperverletzung zum Nachteil der Zeugen S. und T. zwei im Zustand der erheblich verminderten Schuldfähigkeit begangene rechtswidrige Taten ausreichend festgestellt und in der Beweiswürdigung belegt. Die Gefahrenprognose begegnet aber durchgreifenden rechtlichen Bedenken. Denn die Strafkammer hat bei der Erstellung der Gefahrenprognose u.a. von der Staatsanwaltschaft Hamburg und der Staatsanwaltschaft Frankfurt am Main jeweils gemäß § 153 Abs. 1 StPO eingestellte Verfahren gegen den Angeklagten wegen gefährlicher Körperverletzung (Vorwurf des Schlages mit einem Besenstiel zum Nachteil des Zeugen A. ) bzw. wegen Körperverletzung zum Nachteil eines Mitgefangenen und weitere von den Amtsanwaltschaften Frankfurt am Main und Berlin jeweils gemäß § 170 Abs. 2 StPO eingestellte Verfahren wegen Körperverletzungen als prognoseungünstige Umstände herangezogen. In den Urteilsgründen werden - insoweit wörtlich - lediglich die den Verfahren zugrunde liegenden jeweiligen Schlussberichte der Polizei, eine Strafanzeige bzw. der Bericht der Justizvollzugsanstalt mitgeteilt. Aus diesen ergibt sich aber nicht, dass die Taten auf der Erkrankung des Angeklagten beruhten, zumal er zumindest bei einem Teil der Taten offensichtlich (auch) alkoholisiert gewesen ist. Das Landgericht hat außerdem zur Stützung seiner Prognose auf das letzte - einschlägige - Urteil durch das Amtsgericht Bonn vom 28. Februar 2008 verwiesen, mit dem der Angeklagte wegen im April/Mai 2007 begangener gefährlicher Körperverletzung, Beleidigung und Widerstands gegen Vollstreckungsbeamte verurteilt worden war. Zwar werden in den Urteilsgründen die dazu getroffenen Feststellungen mitgeteilt. Aus diesen ergibt sich aber ebenfalls nicht, ob diese Taten auf der Erkrankung des - zum Tatzeitpunkt zudem erheblich alkoholisierten - Angeklagten beruhten, sodass deren Prognoserelevanz gleichfalls nicht beurteilt werden kann (vgl. auch Senat, Beschluss vom 8. August 2007 - 2 StR 296/07, StraFo 2007, 468; Eschelbach in: Matt/Renzi-kowski, StGB, § 63 Rn. 33). 4. Die Sache bedarf danach insoweit erneuter Prüfung. Der Tatrichter wird zu beachten haben, dass § 63 StGB durch das Gesetz zur Novellierung des Rechts der Unterbringung in einem psychiatrischen Krankenhaus gemäß § 63 des Strafgesetzbuchs und zur Änderung anderer Vorschriften vom 8. Juli 2016 (BGBl. I 2016 S. 1610) mit Wirkung zum 1. August 2016 neu gefasst worden ist und diese Neufassung gemäß § 2 Abs. 6 StGB Anwendung findet (vgl. BT-Drucks. 18/7244, S. 41; BGH, Beschluss vom 7. Dezember 2016 - 4 StR 500/16 mwN). Der Schriftsatz des Verteidigers des Angeklagten, Rechtsanwalt M. aus F. , vom 10. März 2017 hat bei der Beschlussfassung vorgelegen.'"
      ]
     },
     "execution_count": 23,
     "metadata": {},
     "output_type": "execute_result"
    }
   ],
   "source": [
    "data_sample_20.gruende.iloc[5]\n",
    "\n",
    "# MANUELL GEFUNDEN:\n",
    "# vgl. BGH, Beschlüsse vom 10. Mai 2016 - 4 StR 185/16, StV 2016, 719, 720\n",
    "# und vom 28. Januar 2016 - 3 StR 521/15, NStZ-RR 2016, 135\n",
    "# vgl. auch Senat, Beschluss vom 8. August 2007 - 2 StR 296/07, StraFo 2007, 468;\n",
    "# BGH, Beschluss vom 7. Dezember 2016 - 4 StR 500/16 mwN"
   ]
  },
  {
   "cell_type": "code",
   "execution_count": 45,
   "metadata": {},
   "outputs": [
    {
     "data": {
      "text/plain": [
       "[['BGH, Beschlüsse vom 10. Mai 2016 - 4 StR 185/16, StV 2016, 719, 720',\n",
       "  2976,\n",
       "  3043],\n",
       " ['vom 28. Januar 2016 - 3 StR 521/15, NStZ-RR 2016, 135', 3048, 3101],\n",
       " ['Senat, Beschluss vom 8. August 2007 - 2 StR 296/07, StraFo 2007, 468',\n",
       "  5041,\n",
       "  5109],\n",
       " ['BGH, Beschluss vom 7. Dezember 2016 - 4 StR 500/16', 5630, 5680]]"
      ]
     },
     "execution_count": 45,
     "metadata": {},
     "output_type": "execute_result"
    }
   ],
   "source": [
    "data_sample_20.citations_gruende.iloc[5]\n",
    "\n",
    "# 100% korrekt"
   ]
  },
  {
   "cell_type": "markdown",
   "metadata": {},
   "source": [
    "Sample 7:"
   ]
  },
  {
   "cell_type": "code",
   "execution_count": 7,
   "metadata": {},
   "outputs": [
    {
     "data": {
      "text/plain": [
       "'Das Landgericht hat den Angeklagten wegen schweren sexuellen Missbrauchs von Kindern in fünf Fällen unter Einbeziehung der Strafen aus einem Urteil des Landgerichts Karlsruhe zu einer Gesamtfreiheitsstrafe von 13 Jahren verurteilt, eine Kompensationsentscheidung getroffen und Sicherungsverwahrung angeordnet. Die hiergegen gerichtete und auf die Verletzung formellen und materiellen Rechts gestützte Revision des Angeklagten hat mit der Sachrüge Erfolg (§ 349 Abs. 4 StPO). I. 1. Nach den Feststellungen des Landgerichts führte der Angeklagte in der Zeit von Februar 2011 bis November 2012 auf den Philippinen mit vier verschiedenen 12- bzw. 13-jährigen philippinischen Kindern Vaginal- oder Analverkehr durch. 2. Das Landgericht hat seine Überzeugung von der Täterschaft des die Taten bestreitenden Angeklagten maßgeblich auf Eintragungen im Kalender und in den Kontakten des Smartphones des Angeklagten und im Datenbestand seines Computers gestützt. Dort waren unter einem bestimmten Datum Name und Geburtsdatum der jeweiligen Geschädigten, deren Alter sowie stichwortartig sexuelle Handlungen (wie z.B. „im Alter von 13 Jahren gefickt“ oder „im Alter von 12 Jahren den Arsch entjungfert“) aufgeführt. Die Strafkammer hat weiter darauf abgestellt, dass dem Angeklagten stichwortartige Aufzeichnungen über seine Sexualkontakte nicht wesensfremd seien, wie eine Excel-Tabelle mit sexuellen Kontakten zwischen 1979 und 1994 belege. Zudem hat es SMS-Nachrichten und Chatverkehr des Angeklagten mit den Geschädigten mit sexualbezogenen Inhalten berücksichtigt. Die auf den Philippinen wohnhaften Geschädigten hat das Landgericht nicht als Zeuginnen vernommen. II. Die Beweiswürdigung des Landgerichts, mit der es sich von den Taten des Angeklagten überzeugt hat, hält revisionsgerichtlicher Überprüfung nicht stand. 1. Die Würdigung der Beweise ist Sache des Tatgerichts, das sich unter dem umfassenden Eindruck der Hauptverhandlung ein Urteil über die Schuld des Angeklagten zu bilden hat (§ 261 StPO). Die tatsächlichen Schlussfolgerungen des Tatgerichts müssen nicht zwingend sein; es genügt, dass sie möglich sind und das Tatgericht von ihrer Richtigkeit überzeugt ist (vgl. BGH, Urteil vom 12. Januar 2017 - 1 StR 360/16 Rn. 10 mwN). Das Revisionsgericht ist auf die Prüfung beschränkt, ob die Beweiswürdigung des Tatgerichts mit Rechtsfehlern behaftet ist, weil sie Lücken oder Widersprüche aufweist, mit den Denkgesetzen oder gesicherten Erfahrungswissen nicht übereinstimmt oder sich so weit von einer Tatsachengrundlage entfernt, dass sich die gezogenen Schlussfolgerungen letztlich als reine Vermutung erweisen (vgl. BGH, Urteile vom 12. Januar 2017 - 1 StR 360/16 Rn. 10 und vom 21. März 2013 - 3 StR 247/12, BGHSt 58, 212 Rn. 6 mwN). 2. Auch vor dem Hintergrund dieses eingeschränkten Prüfungsmaßstabs sind die Feststellungen zur Täterschaft des Angeklagten nicht tragfähig begründet. Das Landgericht stützt seine Überzeugung von einem realen Hintergrund der Eintragungen über sexuelle Handlungen mit den Geschädigten im Kalender und in den Kontakten auf eine Übereinstimmung mit den Notizen in der Excel-Tabelle aus der Zeit von 1979 bis 1994. Dieser Schluss ist jedoch nur dann möglich, wenn feststeht, dass die Eintragungen in der Excel-Tabelle einen realen Bezug haben. Der Angeklagte hat insoweit angegeben, damals eine entsprechende Liste geführt zu haben, mittlerweile sei er über solche Aufzeichnungen zu seinen Sexualkontakten aber hinaus. Dass die in der Tabelle umschriebenen sexuellen Handlungen in der notierten Art und Weise tatsächlich stattgefunden haben, hat der Angeklagte damit nicht eingeräumt und wurde vom Landgericht auch nicht überprüft. Insoweit ist auch von Bedeutung, dass die in den Urteilsgründen auszugsweise und beispielhaft wiedergegebenen Eintragungen in der Excel-Tabelle (UA S. 15 f.) - wie das Landgericht zutreffend erkannt hat - Hinweise auf verschiedene strafbare Handlungen des Angeklagten enthalten, wie zum Beispiel die Eintragungen „(...) gegen ihren Willen in den Arsch gefickt, dass sie laut geschrien hat“ oder „(...) Gegen ihren Willen mehrmals gebumst, teilweise mit Gewalt. (...)“ (UA S. 16). Angesichts dieser Eintragungen kann nicht von vornherein ausgeschlossen werden, dass es sich bei den damaligen Notizen um Übertreibungen handeln könnte und diese daher insoweit keine realen Vorgänge dokumentieren. Bereits aus diesem Grund erweist sich die Beweiswürdigung des Landgerichts als durchgreifend rechtsfehlerhaft. 3. Der dargelegte Rechtsfehler nötigt zur Aufhebung des Urteils mit den Feststellungen. Auf die zugleich erhobene Verfahrensrüge im Hinblick auf die abgelehnte Einvernahme von Auslandszeugen kommt es mithin nicht mehr an. Für die neue Hauptverhandlung weist der Senat jedoch darauf hin, dass es naheliegen dürfte, die auf den Philippinen wohnhaften, den Ermittlungsbehörden allesamt bekannten Geschädigten als Zeuginnen zu vernehmen, da der Angeklagte die ihm vorgeworfenen Taten dort begangen haben soll und die Angaben der Zeuginnen für den Schuldvorwurf von zentraler Bedeutung sind (vgl. BGH, Beschluss vom 12. Juli 2018 - 3 StR 144/18 Rn. 7; Urteil vom 13. März 2014 - 4 StR 445/13, BGHR StPO § 244 Abs. 5 Satz 2 Auslandszeugen 14 Rn. 12; LR/Becker, StPO, 27. Aufl., § 244 Rn. 357).'"
      ]
     },
     "execution_count": 7,
     "metadata": {},
     "output_type": "execute_result"
    }
   ],
   "source": [
    "data_sample_20.gruende.iloc[6]\n",
    "\n",
    "# MANUELL GEFUNDEN:\n",
    "# vgl. BGH, Urteil vom 12. Januar 2017 - 1 StR 360/16 Rn. 10 mwN\n",
    "# vgl. BGH, Urteile vom 12. Januar 2017 - 1 StR 360/16 Rn. 10\n",
    "# und vom 21. März 2013 - 3 StR 247/12, BGHSt 58, 212 Rn. 6 mwN\n",
    "# vgl. BGH, Beschluss vom 12. Juli 2018 - 3 StR 144/18 Rn. 7;\n",
    "# Urteil vom 13. März 2014 - 4 StR 445/13, BGHR StPO § 244 Abs. 5 Satz 2 Auslandszeugen 14 Rn. 12"
   ]
  },
  {
   "cell_type": "code",
   "execution_count": 46,
   "metadata": {},
   "outputs": [
    {
     "data": {
      "text/plain": [
       "[['BGH, Urteil vom 12. Januar 2017 - 1 StR 360/16', 2177, 2223],\n",
       " ['BGH, Urteile vom 12. Januar 2017 - 1 StR 360/16', 2625, 2672],\n",
       " ['vom 21. März 2013 - 3 StR 247/12, BGHSt 58, 212', 2684, 2731],\n",
       " ['BGH, Beschluss vom 12. Juli 2018 - 3 StR 144/18', 5069, 5116],\n",
       " ['Urteil vom 13. März 2014 - 4 StR 445/13, BGHR StPO § 244 Abs. 5 Satz 2 Auslandszeugen 14',\n",
       "  5124,\n",
       "  5212]]"
      ]
     },
     "execution_count": 46,
     "metadata": {},
     "output_type": "execute_result"
    }
   ],
   "source": [
    "data_sample_20.citations_gruende.iloc[6]\n",
    "\n",
    "# --> 100% korrekt"
   ]
  },
  {
   "cell_type": "markdown",
   "metadata": {},
   "source": [
    "Sample 8:"
   ]
  },
  {
   "cell_type": "code",
   "execution_count": 25,
   "metadata": {},
   "outputs": [
    {
     "data": {
      "text/plain": [
       "'Die „Bundesagentur für Arbeit - Agentur für Arbeit Kiel“ hat gegen die Betroffene einen Bußgeldbescheid wegen einer Ordnungswidrigkeit nach § 404 Abs. 2 SGB III erlassen. Dagegen hat die Betroffene Einspruch eingelegt. Das Amtsgericht Kiel hat sich für örtlich unzuständig erklärt und das Verfahren an das Amtsgericht Nürnberg verwiesen. Das Amtsgericht Nürnberg hat sich ebenfalls für örtlich unzuständig erklärt und den Vorgang dem Bundesgerichtshof zur Bestimmung des zuständigen Gerichts vorgelegt. 1. Der Bundesgerichtshof ist als gemeinschaftliches oberes Gericht der Amtsgerichte Kiel (Oberlandesgerichtsbezirk Schleswig) und Nürnberg (Oberlandesgerichtsbezirk Nürnberg) gemäß § 14 StPO i.V.m. § 46 Abs. 1 OWiG zur Entscheidung des Zuständigkeitsstreits berufen. 2. Für die Untersuchung und Entscheidung der Sache ist gemäß § 68 Abs. 1 Satz 1 OWiG das Amtsgericht Kiel zuständig. a) Nach § 68 Abs. 1 Satz 1 OWiG entscheidet bei einem Einspruch gegen den Bußgeldbescheid das Amtsgericht, in dessen Bezirk die Verwaltungsbehörde ihren Sitz hat. Gemeint ist damit die Verwaltungsbehörde, die den Bußgeldbescheid erlassen hat (vgl. Senat, Beschlüsse vom 7. Juni 2017 - 2 ARs 46/15, NStZ-RR 2017, 256 f.; vom 2. Januar 1990 - 2 ARs 588/89, BGHR OWiG § 68 Abs. 1 Satz 1; Rebmann/Roth/Herrmann, OWiG, 3. Aufl., § 68 Rn. 2). Die Verwaltungsbehörde hat ihren Sitz grundsätzlich dort, wo ihre Hauptstelle eingerichtet ist, mithin dort, wo sie den organisatorischen Mittelpunkt ihres Dienstbetriebs hat. Erlässt eine Nebenstelle den Bußgeldbescheid ist für den Behördensitz der Ort der Hauptstelle maßgeblich, es sei denn, die Aufgabe der Verfolgung und Ahndung von Ordnungswidrigkeiten wurde der Nebenstelle als eigenständiger Behörde zugewiesen (vgl. Senat, Beschluss vom 7. Juni 2017 - 2 ARs 46/15, aaO; KK-OWiG/Ellbogen, 5. Aufl., § 68 Rn. 8; BeckOK-OWiG/Gertler, 22. Ed., § 68 Rn. 4). b) Die Agentur für Arbeit Kiel hat den angefochtenen Bußgeldbescheid als selbständige Verwaltungsbehörde und nicht als Nebenstelle der Bundesagentur für Arbeit mit ihrer Zentrale in Nürnberg erlassen. aa) Verwaltungsbehörde ist nach dem für das Ordnungswidrigkeitenrecht - wie auch für den Bereich der Sozialgesetze - geltenden funktionalen Behördenbegriff jede Stelle, die Aufgaben der öffentlichen Verwaltung wahrnimmt, womit neben Verwaltungsbehörden im organisatorischen Sinne auch sonstige Stellen mit der Befugnis zur eigenständigen Wahrnehmung von Verwaltungsaufgaben erfasst sind (vgl. § 1 Abs. 2 SGB X; BeckOK-OWiG/Inhofer, aaO, § 35 Rn. 1; KassKomm/Mutschler, 102. EL, § 1 SGB X Rn. 8 f.). bb) Die Agenturen für Arbeit sind in diesem Sinne Behörden (vgl. Gagel/Wendtland, SGB III, 72. EL, § 367 Rn. 22; Knickrehm/Kreikebohm/Waltermann/Fichte, Kommentar zum Sozialrecht, 5. Aufl., § 1 SGB X Rn. 8). Sie bilden gemäß § 367 Abs. 2 Satz 1 SGB III die untere Verwaltungsebene der Bundesagentur, werden jeweils von einer eigenen Geschäftsführung geleitet (§ 383 Abs. 1 SGB III) und sind gemäß § 9 Abs. 1 Satz 1 SGB III die vorrangig zur Erbringung der Leistungen der Arbeitsförderung berufenen Einheiten. Auch im Bereich der Verfolgung und Ahndung von Ordnungswidrigkeiten wird den Agenturen für Arbeit der Status einer eigenständigen Verwaltungsbehörde zugemessen (vgl. etwa § 32 Abs. 4 Arbeitssicherstellungsgesetz [ASG], § 14 Abs. 3 Altersteilzeitgesetz [AtzG], § 30 Abs. 4 Nr. 2 Zivilschutz- und Katastrophenhilfegesetz [ZSKG]). Daran ändert nichts, dass § 405 Abs. 1 SGB III in der Fassung des Dritten Gesetzes für moderne Dienstleistungen am Arbeitsmarkt (BGBl. I, S. 2848 ff.) die „Bundesagentur“ für ihren Geschäftsbereich als die für Ordnungswidrigkeiten nach § 404 Abs. 2 SGB III zuständige Verwaltungsbehörde benennt. Denn die Bundesagentur entscheidet - selbst ausgehend von einem entsprechenden Behördenstatus der Agenturen für Arbeit - aufgrund ihrer Organisationshoheit eigenständig, auf welcher ihrer Verwaltungsebenen diese Aufgabe wahrgenommen wird (vgl. BT-Drucks. 15/1515, S. 105 und 122; Erbs/Kohlhaas/Ams, SGB III, 222. EL, § 405 Rn. 2; Gagel/Wendtland, aaO, § 367 Rn. 17; BeckOK-SozR/Braun, 52. Ed., § 367 Rn. 3; siehe ferner [zu § 404 Abs. 2, § 405 Abs. 1 Nr. 3 SGB III für den Geschäftsbereich der Zollverwaltung] BVerfG, Beschluss vom 21. Juni 2006 - 2 BvL 3-6/06 u.a., NVwZ-RR 2006, 667). cc) Der Umstand, dass im Kopf des angefochtenen Bußgeldbescheids auch die „Bundesagentur für Arbeit“ aufgenommen sowie eine für deren gesamten Geschäftsbereich einheitliche Zahlungsverbindung angegeben ist, ergibt - insbesondere auch mit Blick auf die in § 367 Abs. 2, § 368 Abs. 1 Satz 1 SGB III normierte Struktur der Bundesagentur - nicht, dass der Bußgeldbescheid von der Agentur für Arbeit Kiel als Nebenstelle erlassen worden wäre (vgl. auch BT-Drucks. 15/1515 S. 104; BeckOK-SozR/Braun, aaO, § 367 Rn. 3 ff. zu Nebenstellen als - lediglich - lokale Einheiten der Agenturen für Arbeit). Die Agentur für Arbeit Kiel hat vielmehr im eigenen Namen und unter der Anschrift ihres Sitzes in Kiel sowie mit weiteren ihr zuzuordnenden Kontaktdaten gehandelt. 3. Nach alledem ist - dem Antrag des Generalbundesanwalts entsprechend - das Amtsgericht Kiel das gemäß § 68 Abs. 1 Satz 1 OWiG für die Untersuchung und Entscheidung der Sache zuständige Gericht. Einer Entscheidung darüber, ob die Agentur für Arbeit Kiel im jeweiligen Einzelfall auch für den Erlass des Bußgeldbescheids sachlich und örtlich zuständig war, bedarf es im Übrigen nicht (vgl. OLG Celle, GA 1963, 313, 314; OLG Hamm, VRS 45, 304, 305; OLG Koblenz, VRS 52, 365; OLG Düsseldorf, MDR 1981, 1042, 1043; OLG Köln, NJW 1988, 1606; Bohnert/Krenberger/Krumm, OWiG, 5. Aufl., § 68 Rn. 6; Göhler/Seitz/Bauer, OWiG, 17. Aufl., § 68 Rn. 3; KK-OWiG/Kurz, aaO, § 66 Rn. 39; Rebmann/Roth/Hermann, aaO, § 68 Rn. 2; kritisch KK-OWiG/Ellbogen, aaO, § 68 Rn. 15 f.; Bohnert, GA 1987, 193, 199; offen gelassen in BayObLG, NJW 2005, 1447). Die Betroffene hat lediglich einen Anspruch darauf, dass der gesetzliche Richter im Falle eines Einspruchs gegen den Bußgeldbescheid tätig wird (vgl. BGH, Beschluss vom 1. Juni 1977 - KRB 3/76, BGHSt 27, 196, 199 f.; OLG Düsseldorf, MDR 1981, 1042, 1043). Dass mit § 68 Abs. 1 Satz 1 OWiG dafür formal an den Sitz der handelnden Verwaltungsbehörde angeknüpft wird, entspricht nicht nur dem Wesen des auf vereinfachten und beschleunigten Abschluss ausgerichteten Bußgeldverfahrens (vgl. KK-OWiG/Rogall, aaO, vor § 1 Rn. 1), sondern genügt auch der Gewährleistung des Art. 101 Abs. 1 Satz 2 GG (vgl. BVerfG, Beschlüsse vom 21. Juni 2006 - 2 BvL 3-6/06 u.a., aaO; vom 16. Juli 1969 - 2 BvL 2/69, NJW 1969, 1619, 1622 f.).'"
      ]
     },
     "execution_count": 25,
     "metadata": {},
     "output_type": "execute_result"
    }
   ],
   "source": [
    "data_sample_20.gruende.iloc[7]\n",
    "\n",
    "# MANUELL GEFUNDEN:\n",
    "# vgl. Senat, Beschlüsse vom 7. Juni 2017 - 2 ARs 46/15, NStZ-RR 2017, 256 f.;\n",
    "# vom 2. Januar 1990 - 2 ARs 588/89, BGHR OWiG § 68 Abs. 1 Satz 1\n",
    "# vgl. Senat, Beschluss vom 7. Juni 2017 - 2 ARs 46/15, aaO;\n",
    "# BVerfG, Beschluss vom 21. Juni 2006 - 2 BvL 3-6/06 u.a., NVwZ-RR 2006, 667\n",
    "# vgl. OLG Celle, GA 1963, 313, 314;\n",
    "# OLG Hamm, VRS 45, 304, 305;\n",
    "# OLG Koblenz, VRS 52, 365;\n",
    "# OLG Düsseldorf, MDR 1981, 1042, 1043;\n",
    "# OLG Köln, NJW 1988, 1606; \n",
    "# BayObLG, NJW 2005, 1447\n",
    "# vgl. BGH, Beschluss vom 1. Juni 1977 - KRB 3/76, BGHSt 27, 196, 199 f.;\n",
    "# OLG Düsseldorf, MDR 1981, 1042, 1043\n",
    "# vgl. BVerfG, Beschlüsse vom 21. Juni 2006 - 2 BvL 3-6/06 u.a., aaO;\n",
    "# vom 16. Juli 1969 - 2 BvL 2/69, NJW 1969, 1619, 1622 f."
   ]
  },
  {
   "cell_type": "code",
   "execution_count": 47,
   "metadata": {},
   "outputs": [
    {
     "data": {
      "text/plain": [
       "[['Nürnberg (Oberlandesgerichtsbezirk Nürnberg', 633, 676],\n",
       " ['Senat, Beschlüsse vom 7. Juni 2017 - 2 ARs 46/15, NStZ-RR 2017, 256 f.',\n",
       "  1135,\n",
       "  1205],\n",
       " ['vom 2. Januar 1990 - 2 ARs 588/89, BGHR OWiG § 68 Abs. 1 Satz 1',\n",
       "  1207,\n",
       "  1270],\n",
       " ['Senat, Beschluss vom 7. Juni 2017 - 2 ARs 46/15, aaO', 1749, 1801],\n",
       " ['BeckOK-SozR / Braun, 52.', 4085, 4107],\n",
       " ['BVerfG, Beschluss vom 21. Juni 2006 - 2 BvL 3- 6/06 u. a., NVwZ-RR 2006, 667',\n",
       "  4229,\n",
       "  4303],\n",
       " ['OLG Celle, GA 1963, 313, 314', 5453, 5481],\n",
       " ['OLG Hamm, VRS 45, 304, 305', 5483, 5509],\n",
       " ['OLG Koblenz, VRS 52, 365', 5511, 5535],\n",
       " ['OLG Düsseldorf, MDR 1981, 1042, 1043', 5537, 5573],\n",
       " ['OLG Köln, NJW 1988, 1606', 5575, 5599],\n",
       " ['KK-OWiG / Kurz', 5704, 5716],\n",
       " ['BayObLG, NJW 2005, 1447', 5869, 5892],\n",
       " ['BGH, Beschluss vom 1. Juni 1977 - KRB 3/76, BGHSt 27, 196, 199 f.',\n",
       "  6045,\n",
       "  6110],\n",
       " ['OLG Düsseldorf, MDR 1981, 1042, 1043', 6112, 6148],\n",
       " ['BVerfG, Beschlüsse vom 21. Juni 2006 - 2 BvL 3- 6/06 u. a., aaO',\n",
       "  6493,\n",
       "  6554],\n",
       " ['vom 16. Juli 1969 - 2 BvL 2/69, NJW 1969, 1619, 1622 f.', 6556, 6611]]"
      ]
     },
     "execution_count": 47,
     "metadata": {},
     "output_type": "execute_result"
    }
   ],
   "source": [
    "data_sample_20.citations_gruende.iloc[7]\n",
    "\n",
    "# --> 3 false positives"
   ]
  },
  {
   "cell_type": "markdown",
   "metadata": {},
   "source": [
    "Sample 9:"
   ]
  },
  {
   "cell_type": "code",
   "execution_count": 26,
   "metadata": {},
   "outputs": [
    {
     "data": {
      "text/plain": [
       "'Das Landgericht hat den Angeklagten wegen Freiheitsberaubung in Tateinheit mit vorsätzlicher Körperverletzung, vorsätzlichen Fahrens ohne Fahrerlaubnis in drei Fällen, fahrlässiger Trunkenheit im Verkehr in Tateinheit mit vorsätzlichem Fahren ohne Fahrerlaubnis sowie wegen Verschaffens von falschen amtlichen Ausweisen in zwei Fällen zu einer Gesamtfreiheitsstrafe von elf Monaten verurteilt und die Fahrerlaubnisbehörde angewiesen, ihm vor Ablauf einer Frist von einem Jahr keine neue Fahrerlaubnis zu erteilen. Seine Revision hat den aus der Beschlussformel ersichtlichen Erfolg. Im Übrigen ist sie unbegründet im Sinne des § 349 Abs. 2 StPO. 1. Der Schuldspruch im Fall II.1. der Urteilsgründe war dahingehend zu ändern, dass der Angeklagte wegen vorsätzlicher Körperverletzung in Tateinheit mit Nötigung schuldig ist. Nach den Feststellungen hielt der Angeklagte die Fesselung des von den Mitangeklagten in das Hinterzimmer seines Büros verschleppten Geschädigten nur so lange aufrecht, bis dieser seine Fragen nach dem Verbleib ihm entwendeter Gegenstände und des bei deren Verkauf erzielten Erlöses beantwortet hatte. Zuvor hatte er ihn mehrfach geschlagen. Danach hat sich der Angeklagte wegen vorsätzlicher Körperverletzung in Tateinheit mit Nötigung und nicht wegen vorsätzlicher Körperverletzung in Tateinheit mit Freiheitsberaubung schuldig gemacht. Ist eine Freiheitsberaubung, die hier in der Aufrechterhaltung der Fesselung liegt, nur das tatbestandliche Mittel zur Begehung eines anderen Delikts, hier der Abnötigung der Antworten, tritt sie als das allgemeinere Delikt im Wege der Gesetzeseinheit hinter dieses zurück (vgl. BGH, Beschluss vom 21. Januar 2003 - 4 StR 414/02, NStZ-RR 2003, 168; Beschluss vom 12. Oktober 1998 - 4 StR 347/98, NStZ 1999, 83: Schluckebier in SSW-StGB, 3. Aufl., § 239 Rn. 16 mwN). Der Senat kann ausschließen, dass die Strafkammer bei einer anderen konkurrenzrechtlichen Beurteilung auf eine niedrigere Strafe als sieben Monate Freiheitsstrafe erkannt hätte. 2. Soweit der Angeklagte in den Fällen II.2.a) bis c) der Urteilsgründe wegen Fahrens ohne Fahrerlaubnis in drei Fällen, fahrlässiger Trunkenheit im Verkehr in Tateinheit mit vorsätzlichem Fahren ohne Fahrerlaubnis sowie wegen Verschaffens von falschen amtlichen Ausweisen in zwei Fällen verurteilt worden ist, ist das Urteil aufzuheben und das Verfahren einzustellen, weil es hinsichtlich der zugrunde liegenden Anklagen der Staatsanwaltschaft Bremen vom 8. April 2016 sowie vom 4. und 29. August 2016 an der Verfahrensvoraussetzung eines wirksamen Eröffnungsbeschlusses fehlt. Der Generalbundesanwalt hat hierzu in seiner Zuschrift vom 6. Juni 2017 das Folgende ausgeführt: „Bezüglich der dem Angeklagten in den Anklageschriften vom 8. April, 4. und 29. August 2016 zur Last gelegten Taten (Fälle II. 2. a) bis c) der Urteilsgründe) fehlt es an der Verfahrensvoraussetzung eines wirksamen Eröffnungsbeschlusses. Die angefochtene Entscheidung ist insoweit aufzuheben und das Verfahren einzustellen. Wegen der Tat zu II. 1. der Urteilsgründe hatte die Staatsanwaltschaft am 14. Dezember 2015 Anklage erhoben, die das Landgericht mit Beschluss vom 11. Februar 2016 zum Hauptverfahren zuließ; zugleich beschloss es, die Hauptverhandlung in einer gemäß § 76 Abs. 2 Satz 1 GVG reduzierten Besetzung mit zwei Berufsrichtern und zwei Schöffen durchzuführen. Die Anklageschriften vom 8. April, 4. und 29. August 2016 (Fälle II. 2. a) bis c) der Urteilsgründe) hatte die Staatsanwaltschaft dahingegen ursprünglich beim Amtsgericht Bremen erhoben, das die Verfahren - ohne vorherige Eröffnungsentscheidung - dem Landgericht Bremen am 25. Mai, 5. September und 7. Oktober 2016, mithin nach Zulassung der dort am 14. Dezember 2015 erhobenen Anklage, zur Prüfung der Übernahme vorlegte. Das Landgericht hat über die Zulassung dieser Anklageschriften, die diesbezügliche Eröffnung des Hauptverfahrens und die Verbindung dieser Verfahren zur gemeinsamen Verhandlung und Entscheidung mit dem bereits auf Grund der Anklageschrift vom 14. Dezember 2015 rechtshängigen Verfahren erst im dortigen Termin zur Hauptverhandlung am 3. Januar 2017 entschieden (SA Bd. V Bl. 186 f.). Damit hat die große Strafkammer über die Eröffnung des Hauptverfahrens wegen der in den Anklageschriften vom 8. April, 4. und 29. August 2016 niedergelegten Taten (Fälle II. 2. a) bis c) der Urteilsgründe) nicht in der gesetzlich vorgeschriebenen Besetzung mit drei Berufsrichtern unter Ausschluss der Schöffen entschieden, sondern in der gemäß § 76 Abs. 2 Satz 1 GVG reduzierten Besetzung mit zwei Berufsrichtern und zwei Schöffen. Diese Verfahrensweise war rechtsfehlerhaft, weshalb ein von Amts wegen zu beachtendes Verfahrenshindernis besteht, das zur Aufhebung des Urteils in den Fällen II. 2. a) bis c) der Urteilsgründe und insoweit zur Einstellung des Verfahrens führt (vgl. BGH, Beschlüsse vom 22. Juni 2010 - 4 StR 216/10, juris Rn. 3; vom 13. Juni 2008 - 2 StR 142/08, NStZ 2009, 52; Urteil vom 21. Januar 2010 - 4 StR 518/09, juris jeweils mwN). Die Einbeziehung der weiteren Anklagen in die fortdauernde Hauptverhandlung war auf dem vom Landgericht gewählten Weg auch nicht gemäß § 266 StPO zulässig. Dessen Voraussetzungen lagen nicht vor. Zwar hat der Angeklagte seine ausdrückliche Zustimmung zur Einbeziehung der Verfahren erteilt (Sitzungsprotokoll vom 3. Januar 2017, S. 2 = SA Bd. V Bl. 186). Die Anklagen sind indes nicht in der Hauptverhandlung erhoben, sondern außerhalb der Hauptverhandlung durch ein Gericht niederer Ordnung zur Übernahme vorgelegt worden.“ Dem schließt sich der Senat an (vgl. zusätzlich BGH, Beschluss vom 1. März 2017 - 4 StR 405/16, NStZ-RR 2017, 181; Beschluss vom 28. Juli 2015 - 4 StR 598/14, BGHR StPO § 199 Abs. 1 Eröffnungsbeschluss 2). 3. Die Einstellung des Verfahrens führt zur Aufhebung und zum Wegfall der Maßregelanordnung und der Gesamtstrafe. Damit verbleibt es bei der im Fall II.1. der Urteilsgründe verhängten Strafe von sieben Monaten Freiheitsstrafe als einziger Strafe. 4. Ob diese Strafe zur Bewährung ausgesetzt werden kann, bedarf neuer Beurteilung. Die Strafkammer hat ihre Entscheidung, die Vollstreckung der von ihr erkannten Gesamtfreiheitsstrafe von elf Monaten nicht zur Bewährung auszusetzen, maßgeblich darauf gestützt, dass dem Angeklagten gerade auch mit Rücksicht auf die hohe Rückfallgeschwindigkeit bei den Straßenverkehrsdelikten keine positive Legalprognose im Sinne des § 56 Abs. 1 StGB gestellt werden könne und seine hierauf bezogene Uneinsichtigkeit unter dem Gesichtspunkt der Verteidigung der Rechtsordnung (§ 56 Abs. 3 StGB) nochmals betont. Diesen Erwägungen fehlt nach der Teileinstellung des Verfahrens nunmehr die Grundlage. Der Senat vermag daher, trotz der gewichtigen gegen eine Strafaussetzung sprechenden Umstände, nicht auszuschließen, dass die Strafkammer ohne die mitabgeurteilten Straßenverkehrsdelikte zu einer anderen Entscheidung gelangt wäre.'"
      ]
     },
     "execution_count": 26,
     "metadata": {},
     "output_type": "execute_result"
    }
   ],
   "source": [
    "data_sample_20.gruende.iloc[8]\n",
    "\n",
    "# MANUELL GEFUNDEN:\n",
    "# vgl. BGH, Beschluss vom 21. Januar 2003 - 4 StR 414/02, NStZ-RR 2003, 168;\n",
    "# Beschluss vom 12. Oktober 1998 - 4 StR 347/98, NStZ 1999, 83: Schluckebier in SSW-StGB, 3. Aufl., § 239 Rn. 16 mwN\n",
    "# vgl. BGH, Beschlüsse vom 22. Juni 2010 - 4 StR 216/10, juris Rn. 3;\n",
    "# vom 13. Juni 2008 - 2 StR 142/08, NStZ 2009, 52;\n",
    "# Urteil vom 21. Januar 2010 - 4 StR 518/09, juris jeweils mwN\n",
    "# vgl. zusätzlich BGH, Beschluss vom 1. März 2017 - 4 StR 405/16, NStZ-RR 2017, 181;\n",
    "# Beschluss vom 28. Juli 2015 - 4 StR 598/14, BGHR StPO § 199 Abs. 1 Eröffnungsbeschluss 2"
   ]
  },
  {
   "cell_type": "code",
   "execution_count": 48,
   "metadata": {},
   "outputs": [
    {
     "data": {
      "text/plain": [
       "[['BGH, Beschluss vom 21. Januar 2003 - 4 StR 414/02, NStZ-RR 2003, 168',\n",
       "  1641,\n",
       "  1709],\n",
       " ['Beschluss vom 12. Oktober 1998 - 4 StR 347/98, NStZ 1999, 83', 1711, 1771],\n",
       " ['BGH, Beschlüsse vom 22. Juni 2010 - 4 StR 216/10, juris', 4848, 4903],\n",
       " ['vom 13. Juni 2008 - 2 StR 142/08, NStZ 2009, 52', 4911, 4958],\n",
       " ['Urteil vom 21. Januar 2010 - 4 StR 518/09, juris', 4960, 5008],\n",
       " ['BGH, Beschluss vom 1. März 2017 - 4 StR 405/16, NStZ-RR 2017, 181',\n",
       "  5596,\n",
       "  5661],\n",
       " ['Beschluss vom 28. Juli 2015 - 4 StR 598/14, BGHR StPO § 199 Abs. 1 Eröffnungsbeschluss 2',\n",
       "  5663,\n",
       "  5751]]"
      ]
     },
     "execution_count": 48,
     "metadata": {},
     "output_type": "execute_result"
    }
   ],
   "source": [
    "data_sample_20.citations_gruende.iloc[8]\n",
    "\n",
    "# --> 100% korrekt"
   ]
  },
  {
   "cell_type": "markdown",
   "metadata": {},
   "source": [
    "Sample 10:"
   ]
  },
  {
   "cell_type": "code",
   "execution_count": 27,
   "metadata": {},
   "outputs": [
    {
     "data": {
      "text/plain": [
       "'Das Landgericht hat den Angeklagten wegen Steuerhinterziehung in 60 Fällen zu einer Gesamtfreiheitsstrafe von vier Jahren und drei Monaten verurteilt und eine Entscheidung gemäß § 111i Abs. 2 StPO getroffen. Gegen dieses Urteil wendet sich der Angeklagte mit seiner auf die allgemeine Sachrüge gestützten Revision. Das Rechtsmittel hat den aus dem Tenor ersichtlichen Teilerfolg; im Übrigen ist es unbegründet i.S.d. § 349 Abs. 2 StPO. 1. Das Verfahren ist wegen eines Verfahrenshindernisses einzustellen, soweit der Angeklagte im Fall 1 der Urteilsgründe wegen Steuerhinterziehung gemäß § 370 Abs. 1 Nr. 2 AO verurteilt worden ist. Wie der Generalbundesanwalt in seiner Antragsschrift zutreffend dargelegt hat, ist insoweit Verfolgungsverjährung eingetreten. Der Angeklagte ist seiner Pflicht, für die ohne deutsche Steuerzeichen in das Steuergebiet der Bundesrepublik Deutschland verbrachten Zigaretten unverzüglich eine Steuererklärung abzugeben (vgl. § 19 Satz 3 TabStG aF; § 23 Abs. 1 Satz 3 TabStG), nicht nachgekommen (§ 370 Abs. 1 Nr. 2 AO). Da in solchen Fällen mangels kontinuierlichen abschnittsbezogenen Veranlagungsverfahrens kein allgemeiner Veranlagungsschluss festgestellt werden kann und § 168 AO - anders als bei Steueranmeldungen (vgl. § 150 Abs. 1 Satz 3 AO) - nicht eingreift, ist für die Tatvollendung derjenige Zeitpunkt maßgeblich, zu dem bei rechtzeitiger Abgabe einer Steuererklärung mit der Bekanntgabe einer Steuerfestsetzung zu rechnen gewesen wäre (vgl. zur Hinterziehung von Schenkungsteuer BGH, Beschluss vom 25. Juli 2011 - 1 StR 631/10, Rn. 41, wistra 2011, 428). Tatbeendigung tritt bei Verstößen gegen § 23 Abs. 1 Satz 3 TabStG bzw. § 19 Satz 3 TabStG aF nach der Rechtsprechung des Bundesgerichtshofs demgegenüber erst dann ein, wenn die Tabakwaren die \"gefährliche\" Phase des Grenzübertritts passiert haben und der Verbringer oder Versender sein Unternehmen insgesamt erfolgreich abgeschlossen hat. Dies ist in der Regel dann der Fall, wenn die Tabakwaren ihren Bestimmungsort erreicht haben und dort \"zur Ruhe gekommen\" sind (vgl. BGH, Urteil vom 2. Februar 2010 - 1 StR 635/09, wistra 2010, 226 mwN). Ausgehend von diesen Maßstäben ist angesichts des für den Monat Februar 2008 nicht sicher feststehenden Lieferzeitpunkts der Zigaretten zugunsten des Angeklagten davon auszugehen, dass die Tat im Fall 1 der Urteilsgründe bereits in den ersten Tagen des Februar 2008 beendet war (zur Anwendung des Zweifelsatzes auf für die Verjährung bedeutsame Tatsachen vgl. BGH, Beschlüsse vom 27. Juni 2006 - 1 StR 224/06, StraFo 2006, 408 und vom 31. August 1987 - 4 StR 435/87, BGHR StGB § 78 Abs. 3 Fristablauf 1). Die fünfjährige Verjährungsfrist des § 78 Abs. 3 Nr. 4 StGB konnte daher im Fall 1 durch den Erlass eines Haftbefehls sowie von Durchsuchungsbeschlüssen am 13. Februar 2013 nicht mehr unterbrochen werden. Die Voraussetzungen einer zehnjährigen Verjährungsfrist gemäß § 376 Abs. 1 AO lagen nicht vor. 2. Die Schuldsprüche in den Fällen 2 bis 60 der Urteilsgründe wegen Steuerhinterziehung gemäß § 370 Abs. 1 Nr. 2 AO sind nicht zu beanstanden. 3. Die Einzelstrafaussprüche in diesen Fällen haben trotz unvollständiger Feststellungen zu den Besteuerungsgrundlagen der Tabaksteuer sowie unzureichender Darstellung der Berechnung der verkürzten Tabaksteuer Bestand. Zwar fehlt es mit Ausnahme der Monate Januar und Juli 2012 sowie Februar 2013 an den für die Berechnung der Tabaksteuer gemäß § 4 TabStG aF bzw. § 2 TabStG erforderlichen Feststellungen zum jeweiligen Kleinverkaufspreis der betreffenden Zigaretten. Zudem wird das Urteil den Anforderungen an die Darstellung der Berechnung der verkürzten Tabaksteuer nicht in vollem Umfang gerecht. Die auf den festgestellten Besteuerungsgrundlagen aufbauende Steuerberechnung ist Rechtsanwendung und daher Aufgabe des Tatgerichts. Das Tatgericht ist zwar nicht gehindert, sich Steuerberechnungen von Beamten der Finanzverwaltung anzuschließen, die auf den festgestellten Besteuerungsgrundlagen aufbauen. Allerdings muss im Urteil zweifelsfrei erkennbar sein, dass das Tatgericht eine eigenständige - weil ihm als Rechtsanwendung obliegende - Steuerberechnung durchgeführt hat (vgl. BGH, Beschluss vom 25. März 2010 - 1 StR 52/10, NStZ-RR 2010, 207 mwN). Dies gilt auch dann, wenn der Angeklagte keine Einwände gegen die von den Finanzbehörden vorgenommene Schadensberechnung erhoben hat. Daran fehlt es hier. Die Urteilsgründe ermöglichen es dem Revisionsgericht mit Ausnahme der exemplarisch dargestellten Berechnungen für die Monate Januar und Juli 2012 sowie Februar 2013 nicht, die Berechnung der von dem Angeklagten hinterzogenen Tabaksteuern nachzuvollziehen. Der Senat schließt jedoch angesichts der vom Generalbundesanwalt in seiner Antragsschrift aufgezeigten nur geringfügigen Abweichung der vom Tatgericht der Strafzumessung zugrunde gelegten verkürzten Tabaksteuer von der niedrigsten rechnerisch möglichen Tabaksteuer (zur Berechnung vgl. BGH, Beschluss vom 25. März 2010 - 1 StR 52/10, NStZ-RR 2010, 207) aus, dass sich dies auf die festgesetzten Einzelstrafen ausgewirkt hat. 4. Die Teileinstellung des Verfahrens führt zum Wegfall der im Fall 1 der Urteilsgründe verhängten Einzelstrafe von sieben Monaten. Der Gesamtstrafausspruch bleibt hiervon unberührt, da der Senat angesichts der verbleibenden Einzelstrafen ausschließt, dass das Landgericht ohne die entfallende Einzelstrafe auf eine niedrigere Gesamtfreiheitsstrafe erkannt hätte. Raum Graf Jäger Radtke Mosbacher'"
      ]
     },
     "execution_count": 27,
     "metadata": {},
     "output_type": "execute_result"
    }
   ],
   "source": [
    "data_sample_20.gruende.iloc[9]\n",
    "\n",
    "# MANUELL GEFUNDEN:\n",
    "# BGH, Beschluss vom 25. Juli 2011 - 1 StR 631/10, Rn. 41, wistra 2011, 428\n",
    "# vgl. BGH, Urteil vom 2. Februar 2010 - 1 StR 635/09, wistra 2010, 226 mwN\n",
    "# vgl. BGH, Beschlüsse vom 27. Juni 2006 - 1 StR 224/06, StraFo 2006, 408\n",
    "# und vom 31. August 1987 - 4 StR 435/87, BGHR StGB § 78 Abs. 3 Fristablauf 1\n",
    "# vgl. BGH, Beschluss vom 25. März 2010 - 1 StR 52/10, NStZ-RR 2010, 207 mwN\n",
    "# vgl. BGH, Beschluss vom 25. März 2010 - 1 StR 52/10, NStZ-RR 2010, 207"
   ]
  },
  {
   "cell_type": "code",
   "execution_count": 49,
   "metadata": {},
   "outputs": [
    {
     "data": {
      "text/plain": [
       "[['BGH, Urteil vom 2. Februar 2010 - 1 StR 635/09, wistra 2010, 226',\n",
       "  2070,\n",
       "  2134],\n",
       " ['BGH, Beschlüsse vom 27. Juni 2006 - 1 StR 224/06, StraFo 2006, 408',\n",
       "  2501,\n",
       "  2567],\n",
       " ['vom 31. August 1987 - 4 StR 435/87, BGHR StGB § 78 Abs. 3 Fristablauf 1',\n",
       "  2572,\n",
       "  2643],\n",
       " ['BGH, Beschluss vom 25. März 2010 - 1 StR 52/10, NStZ-RR 2010, 207',\n",
       "  4174,\n",
       "  4239],\n",
       " ['BGH, Beschluss vom 25. März 2010 - 1 StR 52/10, NStZ-RR 2010, 207',\n",
       "  4944,\n",
       "  5009]]"
      ]
     },
     "execution_count": 49,
     "metadata": {},
     "output_type": "execute_result"
    }
   ],
   "source": [
    "data_sample_20.citations_gruende.iloc[9]\n",
    "\n",
    "# --> 1 false negative"
   ]
  },
  {
   "cell_type": "markdown",
   "metadata": {},
   "source": [
    "Sample 11:"
   ]
  },
  {
   "cell_type": "code",
   "execution_count": 28,
   "metadata": {},
   "outputs": [
    {
     "data": {
      "text/plain": [
       "'Das Landgericht hat den Angeklagten wegen Verstoßes gegen Weisungen der Führungsaufsicht in acht Fällen, davon in einem Fall tateinheitlich mit versuchtem sexuellen Übergriff und exhibitionistischer Handlung sowie in zwei Fällen tateinheitlich mit sexueller Belästigung zu einer Gesamtfreiheitsstrafe von drei Jahren und sechs Monaten verurteilt. Es hat außerdem festgestellt, dass der Angeklagte verpflichtet ist, dem Adhäsionskläger T. F. aus den schädigenden Ereignissen im Zeitraum Februar bis Mai 2017 dem Grunde nach Schmerzensgeld und Schadensersatz zu leisten, und dass es sich insoweit um Ansprüche aus unerlaubter Handlung handelt. Gegen dieses Urteil richtet sich die Revision des Angeklagten mit der Rüge der Verletzung materiellen Rechts. Das Rechtsmittel hat in dem aus der Entscheidungsformel ersichtlichen Umfang Erfolg; im Übrigen hat die Überprüfung des Urteils aufgrund der Revisionsrechtfertigung keinen Rechtsfehler zum Nachteil des Angeklagten ergeben. I. Nach den Feststellungen war der Angeklagte, der bereits zwischen 1977 und 1994 mehrfach wegen sexuellen Missbrauchs von Kindern in Erscheinung getreten war, im Dezember 1999 wegen sexuellen Missbrauchs eines Kindes in neun und schweren sexuellen Missbrauchs eines Kindes in drei Fällen zu einer Gesamtfreiheitsstrafe von vier Jahren und sechs Monaten verurteilt und in einem psychiatrischen Krankenhaus untergebracht worden. In der Folge befand er sich bis August 2015 im Maßregelvollzug und verbüßte anschließend den Strafrest bis zum Strafende im Februar 2016. Nach der Entlassung bezog er eine Wohnung in S. . Im Zeitraum zwischen Sommer 2016 und 30. Mai 2017 nahm er unter Verstoß gegen die ihm im Rahmen der Führungsaufsicht erteilte Weisung Kontakt zu Minderjährigen aus der Nachbarschaft auf, ließ diese bei sich übernachten und wurde sexuell übergriffig. Das Landgericht hat im Anschluss an die Sachverständige eine Aufhebung oder Beeinträchtigung der Schuldfähigkeit des Angeklagten zu den jeweiligen Tatzeiten ausgeschlossen. II. 1. Die zu Fall II.5 der Urteilsgründe getroffenen Feststellungen tragen zwar die Verurteilung wegen Verstoßes gegen Weisungen der Führungsaufsicht. Dagegen begegnet die tateinheitliche Verurteilung wegen versuchten sexuellen Übergriffs und exhibitionistischer Handlung durchgreifenden rechtlichen Bedenken. Insoweit hat das Landgericht festgestellt, dass der Angeklagte anlässlich einer Übernachtung des damals 14-jährigen Geschädigten F. in seiner Wohnung mit dem Jungen baden wollte. Nachdem T. F. dies abgelehnt hatte, ging der Angeklagte alleine in die Badewanne, während der Junge im Wohnzimmer blieb und mit seiner Playstation spielte. Als der Angeklagte sein Bad beendet hatte, kam er nackt aus dem Badezimmer ins Wohnzimmer zu T. F. . Er ging auf den Jungen zu, wobei er mit der Hand an seinem Penis manipulierte. T. fühlte sich dadurch − was dem Angeklagten auch bewusst war − sexuell belästigt. Der Angeklagte kam so nahe auf T. F. zu, dass sein Penis noch etwa eine Armlänge von dessen Gesicht entfernt war. Dies verstand T. , wie vom Angeklagten gewollt, als Aufforderung den Penis zu berühren. T. drückte den Angeklagten mit seinen Beinen zurück. Der Angeklagte ließ daraufhin von dem Jungen ab. a) Diese Feststellungen tragen eine Verurteilung wegen tateinheitlich begangener exhibitionistischer Handlung nicht. Eine exhibitionistische Handlung ist dadurch gekennzeichnet, dass der Täter einem anderen ohne dessen Einverständnis sein entblößtes Glied vorweist, um sich dadurch oder zusätzlich durch Beobachten der Reaktion der anderen Person oder durch Masturbieren sexuell zu erregen, seine Erregung zu steigern oder zu befriedigen. Die Tathandlung liegt in dem Vorzeigen des entblößten Gliedes mit dem Ziel des hierdurch bewirkten sexuellen Lustgewinns (BT-Drucks. VI/3521 S. 53; BGH, Urteil vom 5. September 1995 - 1 StR 396/95, BGHR StGB § 183 Abs. 1 Exhibitionistische Handlung 1; Urteil vom 29. Januar 2015 − 4 StR 424/14, NStZ 2015, 337, 338). Dient die Handlung dagegen lediglich der Vorbereitung eines anderen Sexualdelikts, ist sie nicht exhibitionistisch (BayObLG, Urteil vom 16. Juni 1998 - 2 St RR 86/98, NJW 1999, 72, 73). Dass der Angeklagte bereits durch das Vorzeigen bzw. aus der Kombination von Vorzeigen und Manipulation des Penis auf eine sexuelle Erregung oder Befriedigung abzielte, ist weder festgestellt noch folgt dies zwingend aus dem Geschehensablauf, der in unmittelbarem Fortgang in das Aufstellen vor dem Geschädigten mündete, wodurch er diesen zum Berühren des Penis bewegen wollte. b) Auf der Grundlage seiner Feststellungen hätte das Landgericht zudem erörtern müssen, ob der Angeklagte strafbefreiend vom Versuch des sexuellen Übergriffs zurückgetreten ist. Weder ist belegt, dass der Versuch fehlgeschlagen war, noch ist es ausgeschlossen, dass der Angeklagte freiwillig vom unbeendeten Versuch zurückgetreten ist. Ein Versuch ist fehlgeschlagen, wenn der Täter nach der letzten von ihm vorgenommenen Tathandlung erkennt, dass mit den bereits eingesetzten oder den ihm sonst zur Verfügung stehenden Mitteln der erstrebte Taterfolg nicht mehr herbeigeführt werden kann, ohne dass er eine neue Handlungs- und Kausalkette in Gang setzt (st. Rspr.; s. etwa nur Senat, Urteil vom 19. Mai 2010 - 2 StR 278/09, NStZ 2010, 690, 691 mwN). Nach diesem Maßstab belegen die Urteilsgründe einen fehlgeschlagenen Versuch nicht. Entgegen der Ansicht des Generalbundesanwalts ergibt sich aus dem Gesamtzusammenhang der Urteilsgründe nicht hinreichend, dass aufgrund des Zurückstoßens durch den Geschädigten von einem fehlgeschlagenen Versuch auszugehen ist. Dass der Angeklagte aus seiner Sicht im Zeitpunkt nach der letzten Ausführungshandlung sein Ziel nur noch durch Anwendung von Nötigungsmitteln und in wesentlicher Änderung des ursprünglichen Tatplans hätte erreichen können, versteht sich, gerade auch unter Berücksichtigung einer Vorverurteilung, wo der Angeklagte anfänglichen Widerstand des Tatopfers durch verbale Einwirkung erfolgreich überwunden hatte, nicht von selbst. c) Auch für die Prüfung, ob ein Versuch unbeendet oder beendet ist, ist maßgeblich darauf abzustellen, welche Vorstellung der Täter nach seiner letzten Ausführungshandlung von der Tat hat (sog. Rücktrittshorizont; s. nur BGH, Urteil vom 19. März 2013 - 1 StR 647/12, NStZ-RR 2013, 273, 274 mwN). Welche Vorstellungen sich der Angeklagte hier vom Erreichen des von ihm erstrebten Taterfolgs in dem Moment machte, als er sich von dem Geschädigten abwandte, lässt sich den Urteilsfeststellungen jedoch nicht entnehmen. 2. Der gesamte Strafausspruch hat keinen Bestand, weil die Erwägungen, mit denen das Landgericht eine erhebliche Verminderung der Schuldfähigkeit (§ 21 StGB) des Angeklagten ausgeschlossen hat, rechtlicher Nachprüfung nicht standhalten. Insofern ist die Beweiswürdigung des Landgerichts trotz eingeschränkter revisionsrechtlicher Nachprüfbarkeit lückenhaft. Der Tatrichter hat die Schuldfähigkeit des Angeklagten ohne Bindung an die Äußerungen des Sachverständigen in eigener Verantwortung zu beurteilen. Schließt sich der Tatrichter dem Sachverständigen an, muss er sich grundsätzlich mit dem Gutachteninhalt auseinandersetzen und die wesentlichen Anknüpfungstatsachen und Schlussfolgerungen des Sachverständigen auf eine für das Revisionsgericht nachprüfbare Weise im Urteil mitteilen (st. Rspr.; siehe etwa Senat, Beschluss vom 27. Januar 2016 - 2 StR 314/15, juris Rn. 6; Fischer, StGB, 65. Aufl., § 20 Rn. 65 mwN). Der Umfang der tatrichterlichen Darlegungspflicht bestimmt sich nach den Umständen des Einzelfalls. Nach diesen Maßstäben begegnet die Beweiswürdigung des Landgerichts durchgreifenden rechtlichen Bedenken. Die Strafkammer führt aus, die Sachverständige habe „überzeugend dargelegt, dass die Schuldfähigkeit des Angeklagten bei den Taten im Sinne der §§ 20, 21 StGB nicht erheblich vermindert oder gar aufgehoben war“. Beim Angeklagten, dessen intellektuelle Fähigkeiten im unteren Bereich anzusiedeln seien, liege eine „kombinierte Persönlichkeitsstörung (F61.0) mit überwiegend dissozialen und paranoiden sowie narzisstischen Zügen“ sowie eine „Pädophilie (F65.4)“ mit Ausrichtung auf Kinder beiderlei Geschlechts vor. Die Persönlichkeitsstörung führe zu keiner „durchgehend schweren Beeinträchtigung der sozialen Kompetenz von Krankheitswert“, auch die Pädophilie erreiche nicht den erforderlichen Schweregrad, weil der Angeklagte „keinesfalls sozial und beruflich isoliert und zwingend auf den Kontakt mit Kindern angewiesen gewesen [sei]“. Auch bei einer Gesamtbetrachtung beider Störungen sei nicht von einer schweren seelischen Abartigkeit auszugehen. Der Angeklagte habe „andere Handlungsoptionen gehabt, zumal er solche im Maßregelvollzug gelernt habe“. Anknüpfungstatsachen teilt das Landgericht in diesem Zusammenhang nicht mit, sondern führt lediglich aus, dass die Sachverständige „umfangreiches Aktenmaterial“ eingesehen habe. Den Urteilsgründen lassen sich weder hinreichend die gutachterliche Diagnose tragende Befunde noch die Symptome des Störungsbildes oder deren Einwirkung auf den Angeklagten in der konkreten Tatsituation entnehmen. Auch versäumt es das Landgericht darzulegen, aufgrund welcher überdauernden psychischen Störung der Angeklagte im Jahr 1999 in einem psychiatrischen Krankenhaus untergebracht worden war, wie sich diese Störung während des mehr als 15 Jahre dauernden Maßregelvollzugs entwickelt hat und mit welchem Erfolg der Angeklagte dort alternative Handlungsoptionen erlernt habe. Ebenfalls nicht mitgeteilt wird, zu welchen Befunden die früheren Gutachter aufgrund der „vielfältigen, zum Teil sehr differenzierten und detailreichen Darstellungen der Gesprächsverläufe“ gelangt waren. 3. Die Adhäsionsentscheidung unterliegt hinsichtlich des getroffenen Feststellungsausspruchs der Aufhebung, soweit die Feststellung bereits entstandene immaterielle und materielle Ansprüche betrifft. a) Die Feststellung, „dass der Angeklagte verpflichtet ist, dem Adhäsionskläger aus den schädigenden Ereignissen im Zeitraum Februar bis Mai 2017 dem Grunde nach Schmerzensgeld und Schadensersatz zu leisten, umfasst sowohl materielle und immaterielle Schäden, die bereits entstanden sind, als auch solche, die als derzeit „noch nicht absehbare Folgen“ der Taten künftig eintreten werden. Indes ist weder dargetan noch sonst ersichtlich, warum der Adhäsionskläger nicht in der Lage sein sollte, bereits entstandene materielle und immaterielle Schäden, wie etwa die Kosten für seine psychiatrische Behandlung, schon jetzt zu beziffern. Seiner Feststellungsklage fehlt es daher diesbezüglich an dem erforderlichen Feststellungsinteresse (vgl. Senat, Beschluss vom 15. Dezember 2016 - 2 StR 380/16). b) Dies führt insoweit zur Aufhebung der Adhäsionsentscheidung und - da die Sache teilweise zurückzuverweisen ist - auch hinsichtlich des zivilrechtlichen Teils des Urteils zur Zurückverweisung an das Landgericht (vgl. BGH, Beschluss vom 27. September 2011 - 3 StR 255/11, juris Rn. 11).'"
      ]
     },
     "execution_count": 28,
     "metadata": {},
     "output_type": "execute_result"
    }
   ],
   "source": [
    "data_sample_20.gruende.iloc[10]\n",
    "\n",
    "# MANUELL GEFUNDEN:\n",
    "# BGH, Urteil vom 5. September 1995 - 1 StR 396/95, BGHR StGB § 183 Abs. 1 Exhibitionistische Handlung 1;\n",
    "# Urteil vom 29. Januar 2015 − 4 StR 424/14, NStZ 2015, 337, 338\n",
    "# BayObLG, Urteil vom 16. Juni 1998 - 2 St RR 86/98, NJW 1999, 72, 73\n",
    "# s. etwa nur Senat, Urteil vom 19. Mai 2010 - 2 StR 278/09, NStZ 2010, 690, 691 mwN\n",
    "# s. nur BGH, Urteil vom 19. März 2013 - 1 StR 647/12, NStZ-RR 2013, 273, 274 mwN\n",
    "# siehe etwa Senat, Beschluss vom 27. Januar 2016 - 2 StR 314/15, juris Rn. 6; Fischer, StGB, 65. Aufl., § 20 Rn. 65 mwN\n",
    "# vgl. Senat, Beschluss vom 15. Dezember 2016 - 2 StR 380/16\n",
    "# vgl. BGH, Beschluss vom 27. September 2011 - 3 StR 255/11, juris Rn. 11"
   ]
  },
  {
   "cell_type": "code",
   "execution_count": 50,
   "metadata": {},
   "outputs": [
    {
     "data": {
      "text/plain": [
       "[['BGH, Urteil vom 5. September 1995 - 1 StR 396/95, BGHR StGB § 183 Abs. 1 Exhibitionistische Handlung 1',\n",
       "  3814,\n",
       "  3916],\n",
       " ['Urteil vom 29. Januar 2015 − 4 StR 424/14, NStZ 2015, 337, 338',\n",
       "  3918,\n",
       "  3980],\n",
       " ['BayObLG, Urteil vom 16. Juni 1998 - 2 St RR 86/98, NJW 1999, 72, 73',\n",
       "  4099,\n",
       "  4166],\n",
       " ['Senat, Urteil vom 19. Mai 2010 - 2 StR 278/09, NStZ 2010, 690, 691',\n",
       "  5225,\n",
       "  5291],\n",
       " ['BGH, Urteil vom 19. März 2013 - 1 StR 647/12, NStZ-RR 2013, 273, 274',\n",
       "  6257,\n",
       "  6325],\n",
       " ['Senat, Beschluss vom 27. Januar 2016 - 2 StR 314/15, juris', 7362, 7420],\n",
       " ['Senat, Beschluss vom 15. Dezember 2016 - 2 StR 380/16', 10639, 10692],\n",
       " ['BGH, Beschluss vom 27. September 2011 - 3 StR 255/11, juris', 10914, 10973]]"
      ]
     },
     "execution_count": 50,
     "metadata": {},
     "output_type": "execute_result"
    }
   ],
   "source": [
    "data_sample_20.citations_gruende.iloc[10]\n",
    "\n",
    "# --> 100% korrekt"
   ]
  },
  {
   "cell_type": "markdown",
   "metadata": {},
   "source": [
    "Sample 12:"
   ]
  },
  {
   "cell_type": "code",
   "execution_count": 29,
   "metadata": {},
   "outputs": [
    {
     "data": {
      "text/plain": [
       "'Das Landgericht hat den Angeklagten wegen Diebstahls in fünf Fällen und versuchten Diebstahls zu einer Gesamtfreiheitsstrafe von sechs Jahren verurteilt und gegen ihn die Einziehung des Wertes des Erlangten – teilweise in gesamtschuldnerischer Haftung mit den nichtrevidierenden Mitangeklagten – in Höhe von 1.891.728 Euro angeordnet. Hiergegen wendet sich der Beschwerdeführer mit seiner auf die Rüge der Verletzung materiellen Rechts gestützten Revision. Das Rechtsmittel hat den aus der Entscheidungsformel ersichtlichen Teilerfolg; im Übrigen ist es unbegründet im Sinne von § 349 Abs. 2 StPO. Die auf die Sachrüge veranlasste umfassende Überprüfung des Urteils hat betreffend den Schuld- und Strafausspruch keinen Rechtsfehler zum Nachteil des Angeklagten ergeben. Der Einziehungsausspruch ist hingegen rechtsfehlerhaft. Für die vom Landgericht angeordnete Einziehung des Wertes von Taterträgen in Höhe des Verkaufswerts der gestohlenen Waren fehlt es an den Voraussetzungen von § 73 Abs. 1, § 73c Satz 1 StGB. Denn der Angeklagte erlangte in keiner Phase des Tatablaufs die wirtschaftliche Mitverfügungsgewalt über das Diebesgut (vgl. zu diesem Erfordernis BGH, Beschlüsse vom 21. August 2018 – 2 StR 311/18, juris Rn. 8 und vom 9. August 2018 – 3 StR 302/18, juris Rn. 2; Urteil vom 24. Mai 2018 – 5 StR 623/17, juris Rn. 8 mwN). Nach den Feststellungen bestand sein Tatbeitrag in allen Fällen darin, Gitterboxen mit Dieselinjektoren in einem Lagervorbau bereitzustellen und mit einem Gabelstapler auf einen Lastkraftwagen zum Abtransport durch die Mitangeklagten zu laden. Dieser kurzzeitige Zugriff in der Gewahrsamssphäre des Berechtigten genügte nicht, um einen Vermögenszufluss bei dem Angeklagten zu bewirken (vgl. BGH, Urteile vom 7. Juni 2018 – 4 StR 63/18, juris Rn. 12 ff. und vom 27. Oktober 2011 – 5 StR 14/11, NJW 2012, 92, 93 mwN; Beschluss vom 8. August 2013 – 3 StR 179/13, NStZ-RR 2014, 44 f.). Der Senat kann in entsprechender Anwendung von § 354 Abs. 1 StPO (vgl. BGH, Beschluss vom 9. August 2018 – 3 StR 302/18, juris Rn. 2 mwN) die Einziehung des Wertes von Taterträgen auf 10.000 Euro beschränken. Diesen Betrag hat der Angeklagte, der sich nicht anders hätte verteidigen können, nach den rechtsfehlerfrei getroffenen Feststellungen von einem Hintermann für die Taten erhalten. Die Mitangeklagten haften für den Wert des Tatlohns nicht als Gesamtschuldner. Wegen des nur geringen Teilerfolgs der Revision, die in erster Linie die Strafhöhe beanstandet, ist es nicht unbillig, den Beschwerdeführer mit den gesamten Kosten seines Rechtsmittels zu belasten (§ 473 Abs. 4 StPO).'"
      ]
     },
     "execution_count": 29,
     "metadata": {},
     "output_type": "execute_result"
    }
   ],
   "source": [
    "data_sample_20.gruende.iloc[11]\n",
    "\n",
    "# MANUELL GEFUNDEN:\n",
    "# BGH, Beschlüsse vom 21. August 2018 – 2 StR 311/18, juris Rn. 8\n",
    "# und vom 9. August 2018 – 3 StR 302/18, juris Rn. 2;\n",
    "# Urteil vom 24. Mai 2018 – 5 StR 623/17, juris Rn. 8 mwN\n",
    "# vgl. BGH, Urteile vom 7. Juni 2018 – 4 StR 63/18, juris Rn. 12 ff.\n",
    "# und vom 27. Oktober 2011 – 5 StR 14/11, NJW 2012, 92, 93 mwN;\n",
    "# Beschluss vom 8. August 2013 – 3 StR 179/13, NStZ-RR 2014, 44 f.\n",
    "# vgl. BGH, Beschluss vom 9. August 2018 – 3 StR 302/18, juris Rn. 2 mwN"
   ]
  },
  {
   "cell_type": "code",
   "execution_count": 51,
   "metadata": {},
   "outputs": [
    {
     "data": {
      "text/plain": [
       "[['BGH, Beschlüsse vom 21. August 2018 – 2 StR 311/18, juris', 1163, 1220],\n",
       " ['vom 9. August 2018 – 3 StR 302/18, juris', 1231, 1271],\n",
       " ['Urteil vom 24. Mai 2018 – 5 StR 623/17, juris', 1279, 1324],\n",
       " ['BGH, Urteile vom 7. Juni 2018 – 4 StR 63/18, juris', 1728, 1778],\n",
       " ['vom 27. Oktober 2011 – 5 StR 14/11, NJW 2012, 92, 93', 1794, 1846],\n",
       " ['Beschluss vom 8. August 2013 – 3 StR 179/13, NStZ-RR 2014, 44 f.',\n",
       "  1852,\n",
       "  1916],\n",
       " ['BGH, Beschluss vom 9. August 2018 – 3 StR 302/18, juris', 1990, 2045]]"
      ]
     },
     "execution_count": 51,
     "metadata": {},
     "output_type": "execute_result"
    }
   ],
   "source": [
    "data_sample_20.citations_gruende.iloc[11]\n",
    "\n",
    "# --> 100% korrekt"
   ]
  },
  {
   "cell_type": "markdown",
   "metadata": {},
   "source": [
    "Sample 13:"
   ]
  },
  {
   "cell_type": "code",
   "execution_count": 30,
   "metadata": {},
   "outputs": [
    {
     "data": {
      "text/plain": [
       "'Das Landgericht hat die Angeklagten wegen zweifachen unerlaubten Handeltreibens mit Betäubungsmitteln in nicht geringer Menge verurteilt, den Angeklagten H. zu zehn Jahren Gesamtfreiheitsstrafe (gebildet aus zwei Einzelfreiheitsstrafen von je sechs Jahren) und die Angeklagte W. zu zwei Jahren Jugendstrafe, deren Vollstreckung es zur Bewährung ausgesetzt hat. Es hat ferner die Einziehung von sichergestellten Betäubungsmitteln, von Mobiltelefonen, von Tablets, eines Laptops, zweier Notebooks, einer externen Festplatte, von Betäubungsmittelutensilien und eines Elektroimpulsgerätes mit Taschenlampenfunktion sowie die Einziehung des Wertes von Taterträgen in Höhe von 227.226,29 € gegen die Angeklagten als Gesamtschuldner angeordnet. Mit ihrer hiergegen gerichteten Revision rügen die Angeklagten die Verletzung formellen und materiellen Rechts. Die Rechtsmittel haben Erfolg. I. 1. Nach den Feststellungen des Landgerichts kamen die Angeklagten Anfang des Jahres 2016 überein, im großen Stil Betäubungsmittel und Arzneimittel über das Internet zu verkaufen. Die vom Angeklagten H. erworbenen und im Wohnhaus der Eltern der Angeklagten W. gelagerten Betäubungsmittel und Medikamente wurden über zwei Webshops einzeln oder in Testpaketen angeboten und nach Verpacken am Lagerort und Eingang der Bezahlung an die jeweiligen Besteller versandt. Über einen Webshop im Freenet wurden 1268, über das Darknet weitere 2753 Verkaufsvorgänge durchgeführt, zu denen die Strafkammer tabellenartig ein Datum, den Besteller, eine Verkaufsbezeichnung (unter anderem „Chiller Test Pack Hash & Weed“, „Weed A“, „Potent Speedpaste A+++“, „Lyrica“, „Oxycodone HCL 20mg“, „HQ Blueberry Haze Weed“, „Tavor 2.5/ Lorazepam“, „Valium (Diazepam) 10 MG Roche“, „hello kittys“, „Handgranaten“, „Speed“, „Tramadol 50 MG“, „Valium“, „Tavor“, „fenta“, „chiller“, „Master“, „Amnazia“ oder „Targin“) und - für die Verkäufe über das Freenet - einen Verkaufspreis festgestellt hat. Der erste, etwa im April 2016 angelegte Vorrat wurde in mindestens einem Fall durch den Erwerb einer weiteren großen Menge an Betäubungsmitteln etwa im August des Jahres 2016 aufgefüllt. Bei der im November 2016 erfolgten Durchsuchung konnten „Betäubungsmittel verschiedener Arten sowie in erheblichen Mengen sichergestellt werden“, unter anderem Heroin, Kokain, LSD, Oxycodon, Alprazolam, Lorazepam und Diclazepam, sowie die weiteren Gegenstände, deren Einziehung angeordnet wurde. 2. Die Strafkammer hat dies als unerlaubtes Handeltreiben in nicht geringer Menge in zwei Fällen gewertet. Die Angeklagten hätten in über 4.000 Einzelfällen Betäubungsmittel veräußert, die sie - was die Strafkammer zugunsten der Angeklagten geschätzt hat - in mindestens zwei Fällen erworben hatten. II. Die Rechtsmittel der Angeklagten haben bereits mit der Sachrüge Erfolg. Auf die Verfahrensbeanstandungen kommt es daher nicht an. 1. Die Annahme zweier in Tatmehrheit zueinander stehender Fälle des unerlaubten Handeltreibens mit Betäubungsmitteln wird von den bislang getroffenen Feststellungen nicht zweifelsfrei getragen. a) Zutreffend hat das Landgericht gesehen, dass sich eine Bewertungseinheit daraus ergeben kann, dass der Täter sich einen zum Verkauf bestimmten Verkaufsvorrat beschafft oder darüber verfügt (st. Rspr.; vgl. etwa BGH, Beschluss vom 24. Januar 2017 - 3 StR 487/16, NStZ 2017, 711, 712). Bereits mit dem Beschaffen der dem späteren Güterumsatz dienenden einheitlichen Rauschgiftmenge ist der Tatbestand des Handeltreibens in Bezug auf die Gesamtmenge erfüllt. Zu dieser Tat gehören dann auch alle späteren Betätigungen, die auf den Vertrieb desselben Rauschgifts gerichtet sind (st. Rspr.; vgl. nur BGH, Beschluss vom 14. Februar 2007 - 3 StR 459/06, StV 2007, 562; Senat, Beschluss vom 11. März 1998 - 2 StR 22/98, NStZ 1998, 360; Patzak in Körner/Patzak/Volkmer, BtMG, 9. Aufl., § 29 Teil 4, Rn. 309 mwN). Auf die zahlreichen Einzelverkäufe kommt es daher nicht an. Dies gilt unabhängig von der Zahl der Abnehmer (BGH, Beschluss vom 30. Januar 2001 - 4 StR 581/00, StV 2002, 235) und auch dann, wenn sich der einheitliche Erwerbsvorgang - wie hier vom Landgericht angenommen - auf verschiedene Betäubungsmittelarten bezieht, so dass auch in einem solchen Fall Bewertungseinheit zwischen dem Erwerb und der sukzessiven Abgabe der unterschiedlichen Betäubungsmittel besteht (vgl. BGH, Beschluss vom 26. Juli 2001 - 4 StR 110/01, NStZ-RR 2002, 52; vom 11. Januar 2012 - 5 StR 445/11, NStZ-RR 2012, 121; siehe auch Senat, Beschluss vom 20. Februar 2008 - 2 StR 619/07, NStZ 2008, 470). b) Im Ausgangspunkt ebenfalls zutreffend ist das Landgericht davon ausgegangen, dass das wiederholte Auffüllen eines Betäubungsmittelvorrats grundsätzlich nicht zur Verklammerung der Erwerbsakte zu einer Bewertungseinheit führt (vgl. Senat, Beschluss vom 21. August 2012 - 2 StR 277/12, NStZ 2013, 48, unter Aufgabe seiner früheren Rechtsprechung). Der bloße Umstand, dass bei jedem Neukauf noch Reste der vorangegangenen Lieferung vorhanden waren, die mit dem neuerworbenen Rauschgift vermischt wurden, verbindet nicht sämtliche Ankäufe zu einer einheitlichen Vorratsmenge (Senat, Beschluss vom 29. Juni 2016 - 2 StR 586/15, NStZ-RR 2016, 345). Dies gilt selbst dann, wenn die einzelnen Portionen von einem - hier nach den Feststellungen unbekannten - Lieferanten erworben worden waren, und dieser sie seinerseits aus einem einheitlichen Vorrat entnommen hat (vgl. BGH, Beschluss vom 14. Januar 2010 - 1 StR 587/09, NStZ-RR 2011, 25, 26). Allein der gleichzeitige Besitz mehrerer Drogenmengen verbindet die hierauf bezogenen Handlungen nicht zu einer Tat des unerlaubten Handeltreibens (st. Rspr.; vgl. nur Senat, Beschluss vom 20. Februar 2008 - 2 StR 619/07, NStZ 2008, 470). c) Das Landgericht hat bei der Annahme von Tatmehrheit aber nicht erkennbar bedacht, dass mehrere Taten des Handeltreibens mit Betäubungsmitteln - unabhängig vom Vorliegen einer Bewertungseinheit - zueinander dann in Tateinheit im Sinne des § 52 Abs. 1 StGB stehen, wenn ihre tatbestandlichen Ausführungshandlungen sich - teilweise - überschneiden (BGH, Beschluss vom 28. Mai 2018 - 3 StR 88/18 Rn. 7 mwN). Da das Vorhalten einer Handelsmenge zum Vertrieb als Teilakt des Handeltreibens anzusehen ist, vermag der gleichzeitige Besitz zweier für den Verkauf bestimmter Vorräte jedenfalls dann Tateinheit in diesem Sinne zu begründen, wenn die Art und Weise der Besitzausübung über eine bloße Gleichzeitigkeit hinausgeht und die Wertung rechtfertigt, dass - etwa wegen eines räumlichen und zeitlichen Zusammenhangs (vgl. BGH, Beschluss vom 10. Juli 2017 - GSSt 4/17, BGHSt 63,1; Urteil vom 2. April 2015 - 3 StR 642/14 Rn. 7 f.) - die tatsächliche Ausübung des Besitzes über die eine Menge zugleich die Ausübung der tatsächlichen Verfügungsgewalt über die andere darstellt (BGH, Beschluss vom 28. Mai 2018 - 3 StR 88/18 Rn. 7; Urteil vom 2. April 2015 - 3 StR 642/14 Rn. 7 mwN; LK/Rissing-van Saan, StGB, 12. Aufl., Vor §§ 52 ff. Rn. 43; Weber, BtMG, 5. Aufl., Vor §§ 29 ff. Rn. 628 ff.). Die Urteilsfeststellungen lassen nicht erkennen, dass die Strafkammer dies hinreichend in den Blick genommen hat, obgleich hierzu hinreichend Anhaltspunkte bestanden. Die Urteilsgründe lassen offen, ob die Angeklagten die mit der zweiten Lieferung erhaltenen Rauschmittel gegebenenfalls ganz oder teilweise in einem engen und unmittelbaren räumlichen Zusammenhang - nämlich in dem nicht von ihnen bewohnten Haus der Eltern der Angeklagten W. - mit dem Rest aus der ersten, nach den Feststellungen nicht unerheblichen Lieferung aufbewahrte, so dass sie die beiden Rauschmittelmengen aus den getrennten Erwerbsgeschäften nicht lediglich unabhängig voneinander gleichzeitig besessen, sondern gemeinsam über beide Betäubungsmittelmengen die Verfügungsgewalt ausgeübt hätte. Es ist auch nicht ersichtlich, dass der Handel über die zwei Webshops aus jeweils unterschiedlichen Beständen oder Lieferungen erfolgte. Der Senat kann deshalb nicht überprüfen, ob das Landgericht das Konkurrenzverhältnis rechtsfehlerfrei als tatmehrheitlich bewertet hat. 2. Der Schuldspruch kann auch deswegen keinen Bestand haben, weil die Urteilsgründe nicht erkennen lassen, dass die von der Strafkammer festgestellten Ein- und Verkaufsvorgänge ausschließlich Betäubungsmittel im Sinne des § 1 BtMG i.V.m. Anlagen I bis III betreffen. Zwar kann dem von den Angeklagten angebotenen „Targin“ der Wirkstoff Oxycodon zugeordnet werden, der ein Betäubungsmittel der Anlage II zu § 1 BtMG ist. „Fenta“ mag auf das ebenfalls dem BtMG unterfallende synthetische Opioid Fentanyl hinweisen. Diazepam und Lorazepam sind zwar in den Anlagen I bis III zu § 1 Abs. 1 BtMG aufgeführt. Sie können aber - so nicht Ein-, Aus- oder Durchfuhr vorliegt (vgl. BGH, Urteil vom 2. November 2010 - 1 StR 581/09, NStZ-RR 2011, 119) - als ausgenommene Zubereitungen nicht dem BtMG unterfallen. Diazepam (enthalten in Valium) ist ausgenommen in Zubereitungen, die ohne einen weiteren Stoff der Anlagen I bis III bis zu 1 vom Hundert als Sirup oder Tropflösung, jedoch nicht mehr als 250 mg je Packungseinheit, oder je abgeteilte Form bis zu 10 mg Diazepam enthalten, bei Lorazepam (das im verschreibungspflichtigen Fertigarzneimittel Tavor enthalten ist) sind Zubereitungen mit bis zu 2,5 mg Lorazepam ausgenommen (Patzak in Körner/Patzak/Volkmer, BtMG, 9. Aufl., Stoffe Teil 1 Rn. 493, 502). Dies hat die Strafkammer nicht bedacht. Bei anderen, von der Strafkammer in den Urteilsgründen mitgeteilten Handelsubstanzen (z.B. „hello kitty“, „Handgranaten“, „chiller“, „Master“, „Amnazia“) ist schon nicht ersichtlich, von welcher der in Anlagen I bis III zu § 1 BtMG genannten Substanz die Strafkammer ausgeht. Die getroffenen Feststellungen ermöglichen dem Senat nicht die Nachprüfung, ob sich die Angeklagten nur nach § 29a BtMG oder auch nach dem - allerdings milderen - § 95 AMG strafbar gemacht haben. Da die Strafkammer nicht nur die Einzelverkäufe umfangreich dargestellt hat, sondern auch bei der rechtlichen Würdigung hierauf Bezug genommen hat und seiner Bewertung zugrunde gelegt hat, kann der Senat im vorliegenden Fall nicht ausschließen, dass sich eine unterlassene Verurteilung wegen eines der in § 95 AMG genannten Vergehen zu Lasten der Angeklagten ausgewirkt haben könnte. 3. Die Rechtsfehler bedingen die Aufhebung des Schuldspruchs und in dessen Folge des gesamten Rechtsfolgenausspruchs. Die Sache bedarf daher neuer Verhandlung und Entscheidung. Der Senat hebt die Feststellungen insgesamt auf, um dem neuen Tatrichter umfassende eigene, zu den bisherigen nicht in Widerspruch stehende Feststellungen zu ermöglichen. III. Für das weitere Verfahren weist der Senat auf Folgendes hin: 1. Auf konkrete Feststellungen zum (vorgestellten) Wirkstoffgehalt kann bei Verurteilung von Verbrechen nach dem Betäubungsmittelgesetz regelmäßig nicht verzichtet werden. Denn der Wirkstoffgehalt wirkt sich entscheidend insbesondere auf den Schuldumfang der Taten aus (vgl. BGH, Beschluss vom 31. Mai 2016 - 3 StR 138/16 Rn. 3 mwN). Führt bereits das Beschaffen der dem späteren Güterumsatz dienenden einheitlichen Rauschgiftmenge zur Verwirklichung des Tatbestands des Handeltreibens in Bezug auf die Gesamtmenge kann es genügen, entsprechende (Mindest-)Feststellungen zu dem erworbenen Verkaufsvorrat zu treffen. Diese werden regelmäßig ausgehend von der sichergestellten Betäubungsmittelmenge und den zuvor tatsächlich durchgeführten Verkäufen getroffen werden können. Hierzu wird es allerdings - wie stets - nicht genügen, bloße Mengenangaben oder lediglich allgemeinen Qualitätsangaben (vgl. BGH, Beschluss vom 27. April 2004 - 3 StR 116/04, StV 2004, 602, 603; vom 31. Oktober 1984 - 1 StR 643/84) oder - wie hier - von den Beteiligten gewählte Handelsbezeichnungen anzugeben, die einen Wirkstoffgehalt nicht erkennen lassen (etwa „Chiller Test Pack Hash & Weed“, „Weed A“, „Potent Speedpaste A+++“). Sind konkrete Feststellungen anhand der sichergestellten Betäubungsmittel oder der durchgeführten Testkäufe nicht möglich, ist der Tatrichter gehalten, die notwendigen Feststellungen zu Menge und Wirkstoffgehalt im Wege einer Schätzung nach den dazu von der Rechtsprechung entwickelten Grundsätzen zu treffen (vgl. nur BGH, Urteile vom 9. Mai 2001 - 3 StR 36/01; vom 10. September 2009 - 3 StR 293/09; Senat, Beschluss vom 1. Oktober 2008 - 2 StR 360/08). 2. Hat der neue Tatrichter hinsichtlich des Angeklagten H. erneut eine Gesamtstrafe zu bilden, wird er gemäß § 54 Abs. 1 Satz 3 StGB namentlich auch den Zusammenhang der Einzeltaten zusammenfassend zu würdigen haben; eine lediglich formelhafte Begründung der Gesamtstrafenbildung genügt dem jedenfalls dann nicht, wenn sie Gründe für eine sehr deutliche Erhöhung der Einsatzstrafe nicht enthält (vgl. Senat, Beschluss vom 12. Februar 2003 - 2 StR 451/02). 3. Bei einer etwaig vorzunehmenden Strafzumessung wird hinsichtlich der Angeklagten W. - worauf deren Revision und der Generalbundesanwalt mit Recht hinweisen - ein jedenfalls nach den bislang vom Landgericht getroffenen Feststellungen anzunehmender Eigenkonsum zu berücksichtigen sein (vgl. BGH, Beschluss vom 25. Januar 2018 - 5 StR 582/17, NStZ-RR 2018, 113; Urteil vom 9. Oktober 2002 - 1 StR 137/02, NStZ-RR 2003, 57). Der neue Tatrichter mag ferner erwägen, das Vorliegen eines minder schweren Falles auch hinsichtlich der geständigen Angeklagten W. zu prüfen. Denn auch im Jugendstrafrecht ist bei der Bewertung des Tatunrechts regelmäßig in die Betrachtung einzubeziehen, ob ein minder schwerer Fall vorliegt (vgl. Senat, Beschluss vom 5. Juni 2013 - 2 StR 189/13, NStZ-RR 2013, 291). 4. Der neue Tatrichter wird auch Gelegenheit haben, unter Zuziehung eines Sachverständigen (§ 246a StPO) die Voraussetzungen der Unterbringung der Angeklagten W. in einer Entziehungsanstalt (§ 64 StPO) zu prüfen. Auf die entsprechenden Darlegungen in der Antragsschrift des Generalbundesanwalts wird Bezug genommen. 5. Hat der neue Tatrichter eine Einziehungsentscheidung zu treffen, wird er zum einen in den Blick zu nehmen haben, dass die Einziehung von Gegenständen als Tatmittel im Sinne der § 33 Satz 1 BtMG, § 74 Abs. 2 StGB eine Tatrelevanz voraussetzt, die bislang nicht für alle Gegenstände festgestellt ist. Zum anderen ist der den (aus der mitgeteilten Verkaufstabelle zweifelsfrei nachvollziehbaren) Betrag von 161.226,29 € übersteigende Einziehungsbetrag nicht nachvollziehbar belegt. Auch insoweit wird auf die zutreffenden Ausführungen des Generalbundesanwalts in seiner Antragsschrift Bezug genommen.'"
      ]
     },
     "execution_count": 30,
     "metadata": {},
     "output_type": "execute_result"
    }
   ],
   "source": [
    "data_sample_20.gruende.iloc[12]\n",
    "\n",
    "# MANUELL GEFUNDEN:\n",
    "# vgl. etwa BGH, Beschluss vom 24. Januar 2017 - 3 StR 487/16, NStZ 2017, 711, 712\n",
    "# vgl. nur BGH, Beschluss vom 14. Februar 2007 - 3 StR 459/06, StV 2007, 562;\n",
    "# Senat, Beschluss vom 11. März 1998 - 2 StR 22/98, NStZ 1998, 360; \n",
    "# BGH, Beschluss vom 30. Januar 2001 - 4 StR 581/00, StV 2002, 235\n",
    "# vgl. BGH, Beschluss vom 26. Juli 2001 - 4 StR 110/01, NStZ-RR 2002, 52;\n",
    "# vom 11. Januar 2012 - 5 StR 445/11, NStZ-RR 2012, 121;\n",
    "# siehe auch Senat, Beschluss vom 20. Februar 2008 - 2 StR 619/07, NStZ 2008, 470\n",
    "# vgl. Senat, Beschluss vom 21. August 2012 - 2 StR 277/12, NStZ 2013, 48,\n",
    "# Senat, Beschluss vom 29. Juni 2016 - 2 StR 586/15, NStZ-RR 2016, 345\n",
    "# vgl. BGH, Beschluss vom 14. Januar 2010 - 1 StR 587/09, NStZ-RR 2011, 25, 26\n",
    "# vgl. nur Senat, Beschluss vom 20. Februar 2008 - 2 StR 619/07, NStZ 2008, 470\n",
    "# BGH, Beschluss vom 28. Mai 2018 - 3 StR 88/18 Rn. 7 mwN\n",
    "# vgl. BGH, Beschluss vom 10. Juli 2017 - GSSt 4/17, BGHSt 63,1;\n",
    "# Urteil vom 2. April 2015 - 3 StR 642/14 Rn. 7 f.\n",
    "# BGH, Beschluss vom 28. Mai 2018 - 3 StR 88/18 Rn. 7;\n",
    "# Urteil vom 2. April 2015 - 3 StR 642/14 Rn. 7 mwN;\n",
    "# vgl. BGH, Urteil vom 2. November 2010 - 1 StR 581/09, NStZ-RR 2011, 119\n",
    "# vgl. BGH, Beschluss vom 31. Mai 2016 - 3 StR 138/16 Rn. 3 mwN\n",
    "# vgl. BGH, Beschluss vom 27. April 2004 - 3 StR 116/04, StV 2004, 602, 603;\n",
    "# vom 31. Oktober 1984 - 1 StR 643/84\n",
    "# vgl. nur BGH, Urteile vom 9. Mai 2001 - 3 StR 36/01;\n",
    "# vom 10. September 2009 - 3 StR 293/09;\n",
    "# Senat, Beschluss vom 1. Oktober 2008 - 2 StR 360/08\n",
    "# vgl. Senat, Beschluss vom 12. Februar 2003 - 2 StR 451/02\n",
    "# vgl. BGH, Beschluss vom 25. Januar 2018 - 5 StR 582/17, NStZ-RR 2018, 113;\n",
    "# Urteil vom 9. Oktober 2002 - 1 StR 137/02, NStZ-RR 2003, 57\n",
    "# vgl. Senat, Beschluss vom 5. Juni 2013 - 2 StR 189/13, NStZ-RR 2013, 291"
   ]
  },
  {
   "cell_type": "code",
   "execution_count": 52,
   "metadata": {},
   "outputs": [
    {
     "data": {
      "text/plain": [
       "[['BGH, Beschluss vom 24. Januar 2017 - 3 StR 487/16, NStZ 2017, 711, 712',\n",
       "  3277,\n",
       "  3347],\n",
       " ['BGH, Beschluss vom 14. Februar 2007 - 3 StR 459/06, StV 2007, 562',\n",
       "  3661,\n",
       "  3726],\n",
       " ['Senat, Beschluss vom 11. März 1998 - 2 StR 22/98, NStZ 1998, 360',\n",
       "  3728,\n",
       "  3792],\n",
       " ['BGH, Beschluss vom 30. Januar 2001 - 4 StR 581/00, StV 2002, 235',\n",
       "  3978,\n",
       "  4042],\n",
       " ['BGH, Beschluss vom 26. Juli 2001 - 4 StR 110/01, NStZ-RR 2002, 52',\n",
       "  4342,\n",
       "  4407],\n",
       " ['vom 11. Januar 2012 - 5 StR 445/11, NStZ-RR 2012, 121', 4409, 4462],\n",
       " ['Senat, Beschluss vom 20. Februar 2008 - 2 StR 619/07, NStZ 2008, 470',\n",
       "  4475,\n",
       "  4543],\n",
       " ['Senat, Beschluss vom 21. August 2012 - 2 StR 277/12, NStZ 2013, 48',\n",
       "  4780,\n",
       "  4846],\n",
       " ['Senat, Beschluss vom 29. Juni 2016 - 2 StR 586/15, NStZ-RR 2016, 345',\n",
       "  5121,\n",
       "  5189],\n",
       " ['BGH, Beschluss vom 14. Januar 2010 - 1 StR 587/09, NStZ-RR 2011, 25, 26',\n",
       "  5412,\n",
       "  5483],\n",
       " ['Senat, Beschluss vom 20. Februar 2008 - 2 StR 619/07, NStZ 2008, 470',\n",
       "  5654,\n",
       "  5722],\n",
       " ['BGH, Beschluss vom 28. Mai 2018 - 3 StR 88/18', 6074, 6119],\n",
       " ['BGH, Beschluss vom 10. Juli 2017 - GSSt 4/17, BGHSt 63,1', 6544, 6600],\n",
       " ['Urteil vom 2. April 2015 - 3 StR 642/14', 6602, 6641],\n",
       " ['BGH, Beschluss vom 28. Mai 2018 - 3 StR 88/18', 6797, 6842],\n",
       " ['Urteil vom 2. April 2015 - 3 StR 642/14', 6850, 6889],\n",
       " ['BGH, Urteil vom 2. November 2010 - 1 StR 581/09, NStZ-RR 2011, 119',\n",
       "  8725,\n",
       "  8791],\n",
       " ['BGH, Beschluss vom 31. Mai 2016 - 3 StR 138/16', 10937, 10983],\n",
       " ['BGH, Beschluss vom 27. April 2004 - 3 StR 116/04, StV 2004, 602, 603',\n",
       "  11560,\n",
       "  11628],\n",
       " ['vom 31. Oktober 1984 - 1 StR 643/84', 11630, 11665],\n",
       " ['BGH, Urteile vom 9. Mai 2001 - 3 StR 36/01', 12189, 12231],\n",
       " ['vom 10. September 2009 - 3 StR 293/09', 12233, 12270],\n",
       " ['Senat, Beschluss vom 1. Oktober 2008 - 2 StR 360/08', 12272, 12323],\n",
       " ['Senat, Beschluss vom 12. Februar 2003 - 2 StR 451/02', 12727, 12779],\n",
       " ['BGH, Beschluss vom 25. Januar 2018 - 5 StR 582/17, NStZ-RR 2018, 113',\n",
       "  13074,\n",
       "  13142],\n",
       " ['Urteil vom 9. Oktober 2002 - 1 StR 137/02, NStZ-RR 2003, 57', 13144, 13203],\n",
       " ['Senat, Beschluss vom 5. Juni 2013 - 2 StR 189/13, NStZ-RR 2013, 291',\n",
       "  13505,\n",
       "  13572]]"
      ]
     },
     "execution_count": 52,
     "metadata": {},
     "output_type": "execute_result"
    }
   ],
   "source": [
    "data_sample_20.citations_gruende.iloc[12]\n",
    "\n",
    "# --> 100% korrekt"
   ]
  },
  {
   "cell_type": "markdown",
   "metadata": {},
   "source": [
    "Sample 14:"
   ]
  },
  {
   "cell_type": "code",
   "execution_count": 31,
   "metadata": {},
   "outputs": [
    {
     "data": {
      "text/plain": [
       "'Das Landgericht hat den Angeklagten A. wegen besonders schwerer räuberischer Erpressung in Tateinheit mit versuchter Freiheitsberaubung zu einer Freiheitsstrafe von vier Jahren und neun Monaten verurteilt. Hiergegen wendet sich die Staatsanwaltschaft mit ihrer zu Ungunsten des Angeklagten eingelegten und auf die Sachrüge gestützten Revision, die vom Generalbundesanwalt teilweise vertreten wird. Die Revision hat nur insoweit Erfolg, wie sie sich gegen die Nichtverurteilung des Angeklagten wegen tateinheitlich begangener vorsätzlicher Körperverletzung wendet; im Übrigen ist sie unbegründet. 1. Nach den Feststellungen des Landgerichts bezog der Angeklagte wiederholt von dem Geschädigten P. Heroin, das er sowohl zum Eigenbedarf als auch zum Weiterkauf verwendete. Am 20. Mai 2009 fehlte ihm das Geld für den Heroinankauf, weshalb er und der nicht revidierende Mitangeklagte, der heroinabhängige R., sich entschlossen, den Geschädigten und dessen Lebensgefährtin, die Geschädigte M., in ihrer Wohnung zu überfallen. Sie erhofften sich, unter Drohung mit einem von R. mitgeführten Taschenmesser und dem eventuellen Einsatz eines vom Angeklagten mitgeführten Paares Handschellen, an Heroin und Geld zu kommen (UA S. 9). Der Angeklagte, der zur Tatzeit keine Betäubungsmittel konsumierte, wollte das Heroin für R. und zum Weiterverkauf. Gegen 20 Uhr trafen die Angeklagten bei den Geschädigten ein. Nach einem kurzen Gespräch packte R. den Geschädigten, hielt ihm das Taschenmesser an den Hals und rief: \"Ich will alles, wehr dich nicht, sonst stech\\' ich dich ab!\". Zeitgleich nahm der Angeklagte die Geschädigte M. in den \"Schwitzkasten\" und zerrte sie zu einem Stuhl, an dem er sie mit den Handschellen fesselte. Der Angeklagte rief wiederholt: \"wehrt euch nicht, dann passiert euch nichts\" (UA S. 10). Beide Geschädigte wehrten sich gleichwohl heftig: P. zog R. zu Boden und floh nach einem kurzen Kampf in den Flur und sodann - verfolgt von R. - ins Schlafzimmer. Die Geschädigte M. wiederum wehrte sich zunächst heftig gegen ihre Fesselung, zog dann den Stuhl hinter sich her und konnte sich schließlich - ohne dass der Angeklagte dies verhindern konnte - befreien und in die Küche rennen. Dort packte sie ein großes Messer und richtete es gegen den Angeklagten, der sich mit einem vorgehaltenen Stuhl vor ihr schützte. Währenddessen hatte auch P. im Schlafzimmer ein Messer ergriffen und stach damit in Richtung R. Daraufhin fasste R. die rechte Hand des Geschädigten und stach ihm - einem spontanen Entschluss folgend - mehrfach in die linke Körperseite. Während der Geschädigte zu Boden sank, lief R. in den Flur. Dort begegnete ihm der Angeklagte. Ihm folgte die Geschädigte M., die den Angeklagten einen Brocken Heroin zuwarf und beide unter Vorhalt des Messers zwang, das Haus zu verlassen (UA S. 11). P. wurde schwer verletzt, musste wieder belebt werden und ist seitdem körperlich wie psychisch stark beeinträchtigt. Die Geschädigte M. trug Nackenschmerzen infolge des \"Schwitzkastens\" davon. Ihre psychische Belastung dauert an (UA S. 12). 2. Das Landgericht hat diesen Sachverhalt hinsichtlich der Beteiligung des Angeklagten A. als gemeinschaftlich begangene besonders schwere räuberische Erpressung (§§ 253, 255, 250 Abs. 2 Nr. 1 und Abs. 3 StGB) in Tateinheit mit versuchter Freiheitsberaubung (§§ 239, 22, 23 StGB) gewertet. a) Während es den Mitangeklagten R. ausgehend von dessen spontanem Tatentschluss darüber hinaus wegen versuchten Totschlages und gefährlicher Körperverletzung verurteilt hat, vermochte die Kammer bei dem Angeklagten A. nicht mit der erforderlichen Sicherheit festzustellen, dass der gemeinsame Tatplan eine Verletzung des Geschädigten mit dem Messer umfasste. Die Kammer gewann angesichts der Vorbereitung und des Ablaufs der Tat eine hinreichend sichere Überzeugung nur dahingehend, dass die Angeklagten eine Bedrohung und Einschüchterung der Geschädigten vorgesehen hatten. Wenn die Angeklagten eine Verletzung oder gar Tötung der Geschädigten von vornherein einkalkuliert hätten, hätten sie sich stärker als mit einem normalen Taschenmesser und einem Paar Handschellen bewaffnet. Auch der Ablauf der Tat deute eher darauf hin, dass die Angeklagten davon ausgegangen seien, dass Drohungen und Einschüchterungen ausreichen würden, um die Geschädigten zur \"freiwilligen\" Herausgabe zu bewegen und dass das Tatgeschehen unvorhergesehen eskaliert sei, als R. sich spontan und ohne dass A. dies mitbekam und billigte, dazu entschlossen habe, das Messer zum Stechen einzusetzen. b) Die Strafe hat das Landgericht dem Strafrahmen des § 250 Abs. 3 StGB entnommen. Zwar sprächen die Erfüllung von zwei Straftatbeständen des bewährungsbrüchigen Angeklagten, sein Vertrauensbruch gegenüber den Geschädigten, in deren geschützten Lebensbereich er eingedrungen sei, wie auch die erheblichen andauernden psychischen Beeinträchtigungen der Geschädigten gegen die Annahme eines minder schweren Falles. Einen solchen hat das Landgericht letztlich aber für gegeben erachtet, weil der - wenn auch \"halbherzig\" - geständige Angeklagte die Tat glaubhaft bereue, er nur geringfügig vorbestraft, relativ jung und - wenngleich nicht drogenabhängig - so doch \"ins Drogenmilieu abgerutscht\" sei. Der in Deutschland aufgewachsene Angeklagte müsse auch mit einer Ausweisung in die Türkei rechnen und habe zur Überführung des Mittäters R. beigetragen. Die Beute sei gering gewesen. 3. Die Staatsanwaltschaft rügt mit ihrer zu Ungunsten des Angeklagten A. eingelegten Revision zu Recht, dass das Landgericht den Angeklagten nicht wegen tateinheitlich begangener vorsätzlicher Körperverletzung nach § 223 Abs. 1 StGB zum Nachteil der Geschädigten M. verurteilt hat. Im Übrigen aber hält der Schuldspruch rechtlicher Überprüfung stand. a) Soweit die Staatsanwaltschaft die Nichtverurteilung des Angeklagten A. wegen versuchten Totschlages und gefährlicher Körperverletzung zum Nachteil des Geschädigten P. rügt, lässt die dieser Bewertung zugrunde liegende Beweiswürdigung der Kammer keinen Rechtsfehler erkennen. Wie schon der Generalbundesanwalt in seiner Antragsschrift ausgeführt hat, steht es der Schlussfolgerung der Kammer nicht entgegen, dass - worauf die Staatsanwaltschaft in ihrer Revision abstellt - der Mitangeklagte dem Geschädigten zunächst das Messer an den Hals gehalten und dabei ausgerufen hatte, die Geschädigten sollten sich nicht wehren, sonst werde er sie abstechen. Wenn die Kammer dies im Rahmen der erfolgten Gesamtwürdigung lediglich als verabredetes Bedrohungsszenario wertet, widerspricht dies weder Denkgesetzen noch der Würdigung der sonstigen Tatumstände. Es spricht vielmehr für die Wertung der Kammer, dass R. das Messer tatsächlich erst dann einsetzte, als sich der Geschädigte seinerseits mit einem Messer bewaffnete und in R.\\'s Richtung stach. b) Die Feststellungen des Landgerichts begründen jedoch zusätzlich den Schuldspruch wegen vorsätzlicher Körperverletzung gemäß § 223 Abs. 1 StGB in Form der körperlichen Misshandlung der Geschädigten M. Dies hat die Kammer, wie von der Staatsanwaltschaft gerügt, übersehen. Das Festhalten der Geschädigten im \"Schwitzkasten\" stellt unter den gegebenen Umständen ein unangemessenes, übles Behandeln dar, das das körperliche Wohlbefinden der Geschädigten nicht nur unerheblich beeinträchtigte (vgl. BGHSt 14, 269, 271). Hierbei weisen die Art der Behandlung wie auch der Umstand, dass die Geschädigte Nackenschmerzen davon trug, darauf hin, dass es sich nicht um eine ganz unerhebliche Einwirkung handelte. Die mangels Strafantrages der Geschädigten gemäß § 230 StGB erforderliche Annahme des besonderen öffentlichen Interesses an der Strafverfolgung wurde seitens der Strafverfolgungsbehörde im Rahmen des Revisionsverfahrens erklärt. 4. Der Senat hat den Schuldspruch in entsprechender Anwendung des § 354 Abs. 1 StPO selbst geändert, da ergänzende Feststellungen nicht zu erwarten sind. § 265 StPO steht der Schuldspruchänderung nicht entgegen. Der insoweit geständige Angeklagte hätte sich nicht anders gegen den schon vom Anklagevorwurf umfassten Sachverhalt verteidigen können. Da die Körperverletzung auch als Nötigungsmittel diente, steht sie zur besonders schweren räuberischen Erpressung und der versuchten Freiheitsberaubung in Tateinheit. 5. Die gegen die Strafzumessung des Landgerichts erhobenen Einwendungen der Revision bleiben erfolglos. Die vorgenommene Bestimmung des Strafrahmens und die Bemessung der Strafe halten rechtlicher Prüfung stand. a) Die Kammer hat bei der Prüfung, ob ein minder schwerer Fall im Sinne des § 250 Abs. 3 StGB vorliegt, die in Betracht kommenden erschwerenden Umstände und Milderungsgründe rechtsfehlerfrei gegeneinander abgewogen (vgl. hierzu BGHR StGB § 250 Abs. 2 Gesamtbetrachtung 2). Ihre Wertung ist daher hinzunehmen. b) Die Schuldspruchänderung zieht keine Änderung des Strafausspruchs nach sich. Der Senat schließt aus, dass der Tatrichter bei zutreffender rechtlicher Würdigung des festgestellten Sachverhalts zu einer höheren Strafe gelangt wäre. Rissing-van Saan Appl Krehl Eschelbach Ott'"
      ]
     },
     "execution_count": 31,
     "metadata": {},
     "output_type": "execute_result"
    }
   ],
   "source": [
    "data_sample_20.gruende.iloc[13]\n",
    "\n",
    "# MANUELL GEFUNDEN:\n",
    "# vgl. BGHSt 14, 269, 271"
   ]
  },
  {
   "cell_type": "code",
   "execution_count": 53,
   "metadata": {},
   "outputs": [
    {
     "data": {
      "text/plain": [
       "[['BGHSt 14, 269, 271', 7294, 7312]]"
      ]
     },
     "execution_count": 53,
     "metadata": {},
     "output_type": "execute_result"
    }
   ],
   "source": [
    "data_sample_20.citations_gruende.iloc[13]\n",
    "\n",
    "# --> 100% korrekt"
   ]
  },
  {
   "cell_type": "markdown",
   "metadata": {},
   "source": [
    "Sample 15:"
   ]
  },
  {
   "cell_type": "code",
   "execution_count": 32,
   "metadata": {},
   "outputs": [
    {
     "data": {
      "text/plain": [
       "'Das Landgericht hat den Angeklagten wegen Steuerhinterziehung, versuchter Steuerhinterziehung in drei Fällen und unbefugten Führens akademischer Grade zu einer Gesamtfreiheitsstrafe von drei Jahren und vier Monaten verurteilt. Mit seiner auf die Rüge der Verletzung formellen und materiellen Rechts gestützten Revision wendet sich der Angeklagte gegen seine Verurteilung. Die Verfahrensrüge ist nicht ausgeführt und daher unzulässig (§ 344 Abs. 2 Satz 2 StPO). Mit der Sachrüge hat das Rechtsmittel den aus der Beschlussformel ersichtlichen Teilerfolg. Im Übrigen erweist sich die Revision aus den in der Antragsschrift des Generalbundesanwalts vom 18. März 2013 dargelegten Gründen, die insoweit auch durch die Gegenerklärung der Verteidigung nicht entkräftet werden, als unbegründet im Sinne des § 349 Abs. 2 StPO. Über den Tatvorwurf der Steuerhinterziehung durch Unterlassen durch Nichtabgabe von Umsatzsteuervoranmeldungen für das Jahr 2007 hat das Landgericht nicht entschieden; die Sache ist daher insoweit noch beim Landgericht anhängig. I. Die Überprüfung des angefochtenen Urteils aufgrund der Revisionsrechtfertigung hat keine den Angeklagten beschwerenden Rechtsfehler ergeben, soweit er im Fall 6 der Urteilsgründe wegen versuchter Hinterziehung von Einkommensteuer für das Jahr 2007 (§ 370 Abs. 2 i.V.m. Abs. 1 Nr. 2 AO) und im Fall 7 der Urteilsgründe wegen unbefugten Führens akademischer Grade (Missbrauch von Titeln) gemäß § 132a Abs. 1 Nr. 1 StGB verurteilt worden ist. Soweit das Landgericht den Umfang der vom Angeklagten erstrebten Verkürzung von Einkommensteuer anhand der tariflichen Einkommensteuer nach dem Grundtarif (§ 32a Abs. 1 EStG) bestimmt und nicht das Splitting-Verfahren für Ehegatten (§ 32a Abs. 5 EStG) angewendet hat, ist auch dies rechtsfehlerfrei, denn der verheiratete Angeklagte war nach den Urteilsfeststellungen im Jahr 2007 noch ledig (UA S. 22). II. Die Verurteilung des Angeklagten in den Fällen 1, 4 und 5 der Urteilsgründe wegen Hinterziehung von Umsatzsteuer durch Nichtabgabe einer Umsatzsteuerjahreserklärung und wegen versuchter Hinterziehung von Körperschaft- und Gewerbesteuer für das Jahr 2007 betreffend die B. GmbH (im Folgenden: B. IVV) hält dem- gegenüber rechtlicher Nachprüfung nicht stand; der Angeklagte ist insoweit aus Rechtsgründen freizusprechen. Die Fälle 2 und 3 betreffen allein den Mitangeklagten B. . 1. Nach den rechtsfehlerfrei getroffenen Feststellungen des Landgerichts war der Angeklagte seit dem 28. Juni 2006 Geschäftsführer der B. V. Er wurde am 2. Juli 2008 abberufen und durch den neuen Geschäftsführer K. ersetzt. Die B. IVV war ab September/Oktober 2006 durch den Steuerberater T. aus dem Steuerbüro H. und T. in O. steuerlich beraten. Dem Steuerbüro war u.a. die laufende Finanz- und Lohnbuchhaltung übertragen. Es erstellte auch (wunschgemäß in Papierform) die erforderlichen Umsatzsteuervoranmeldungen, die allerdings im Hinblick auf die hohen Zahllasten weder von dem Angeklagten noch von dem Mitangeklagten B. an das Finanzamt weitergeleitet wurden (UA S. 12). Zudem wurde für die B. IVV für das Jahr 2007 weder eine Umsatzsteuerjahreserklärung noch eine Körperschaftsteuererklärung noch eine Gewerbesteuererklärung eingereicht. Mit am selben Tag beim Steuerbüro H. und T. eingegangenem Telefax vom 27. Juni 2008 kündigte der Angeklagte das Mandat mit dem Steuerbüro mit sofortiger Wirkung. Einen neuen steuerlichen Berater bestellte der Angeklagte nicht. Vielmehr beantragte er nur wenige Tage später, am 2. Juli 2008, dem Tag seiner Abberufung als Geschäftsführer, gemeinsam mit dem neuen Geschäftsführer die Eröffnung des Insolvenzverfahrens über das Vermögen der B. IVV (UA S. 13). 2. Das Landgericht ist der Auffassung, dass sich der Angeklagte nach Kündigung des Mandats mit dem Steuerbüro am 27. Juni 2008 wegen Umsatzsteuerhinterziehung und versuchter Körperschaft- und Gewerbesteuerhinterziehung für das Jahr 2007 strafbar gemacht hat, weil er nicht noch vor seiner fünf Tage später vollzogenen Abberufung als Geschäftsführer für das Kalenderjahr 2007 entsprechende Steuererklärungen beim Finanzamt eingereicht hat. Zwar habe sich die Abgabefrist für diese Steuererklärungen im Hinblick auf die Beauftragung des Steuerbüros zunächst bis zum 31. Dezember 2008 verlängert. Wegen der vom Angeklagten ausgesprochenen Kündigung des Mandatsverhältnisses sei aber die allgemeine Verlängerung der Abgabefrist bei Einschaltung steuerlicher Berater wieder entfallen und damit die Abgabe der Umsatzsteuerjahreserklärung sowie der Körperschaft- und der Gewerbesteuererklärungen der B. IVV für das Jahr 2007 sofort mit der Kündigung fällig geworden (UA S. 18, 22). 3. Die vom Landgericht getroffenen Feststellungen rechtfertigen den Schuldspruch in den Fällen 1, 4 und 5 der Urteilsgründe nicht; er ist daher insoweit aufzuheben. Die Pflicht des Angeklagten, für das Jahr 2007 für die B. IVV eine Umsatzsteuerjahreserklärung sowie eine Körperschaft- und eine Gewerbesteuererklärung bei den Finanzbehörden einzureichen, war mit seiner Abberufung als Geschäftsführer dieser Gesellschaft am 2. Juli 2008 entfallen. Zu diesem Zeitpunkt hatte er aber noch nicht i.S.v. § 22 StGB zur Steuerhinterziehung durch Unterlassen (§ 370 Abs. 1 Nr. 2 AO) angesetzt, weil die von ihm einzuhaltende Erklärungsfrist für diese Steuererklärungen noch nicht abgelaufen war. a) Zwar endete die gesetzliche Abgabefrist für die Steuererklärungen gemäß § 149 Abs. 2 AO bereits am 31. Mai 2008. b) Diese Frist hatte sich jedoch gemäß § 109 Abs. 1 AO im Hinblick auf die vor Ablauf der gesetzlichen Erklärungsfrist erfolgte Beauftragung des Steuerberaters T. mit der Erstellung der Steuererklärungen bis zum 31. Dezember 2008 verlängert. Es handelt sich hierbei um eine allgemeine Fristverlängerung aufgrund gleichlautender Erlasse (Verwaltungsvorschriften) der obersten Finanzbehörden der Länder für den Fall, dass („sofern“) die Steuererklärung durch einen Angehörigen der steuerberatenden Berufe i.S.v. §§ 3 und 4 StBerG angefertigt wird (vgl. für das Jahr 2007 BStBl I 2008, 266; vgl. dazu auch BFH, Beschluss vom 19. August 2010 – VIII B 58/10, BFH/NV 2010, 2232; BFH, Urteil vom 28. Juni 2000 – X R 24/95, BFHE 192, 32 sowie Luer/Lühn, BB 2012, 2019). Durch die Verlängerung der Frist wurde der Eintritt der an den Fristablauf geknüpften Rechtsfolgen hinausgeschoben (vgl. Söhn in Hübschmann/Hepp/Spitaler, AO und FGO, Lfg. 195, September 2007, § 109 Rn. 71). Ein Fall, in dem die Beauftragung des Steuerberaters lediglich zum Schein und ohne die Absicht, eine Steuererklärung noch einzureichen, erfolgte, liegt hier nicht vor. Vielmehr war der Steuerberater T. mit der Erstellung der Steuererklärungen für die betrieblichen Steuern ernsthaft beauftragt worden und hatte auch Umsatzsteuervoranmeldungen vorbereitet. c) Entgegen der Auffassung des Landgerichts führte die vom Angeklagten am 27. Juni 2008 mit sofortiger Wirkung ausgesprochene Kündigung der Beauftragung des Steuerberaters nicht zum Versuchsbeginn i.S.v. § 22 StGB. Möglichkeit aa) Dies ergibt sich allerdings nicht schon daraus, dass die B. IVV noch die  hatte, die ausstehenden Steuererklärungen für das Jahr 2007 durch einen anderen Steuerberater erstellen zu lassen und so bei Einreichung bis zum 31. Dezember 2008 auch die Frist aus der allgemeinen Fristverlängerung zu wahren (so aber Schmitz in Festschrift für Kohlmann, 2003, S. 517, 528 und Schmitz/Wulf in MüKo-StGB, Band 6/1, AO § 370 Rn. 396, die in der allgemeinen Fristverlängerung bei Einschaltung von Steuerberatern die grundsätzliche Möglichkeit für jeden Erklärungspflichtigen sehen, Steuererklärungen innerhalb dieser Frist noch rechtzeitig einzureichen). Denn ein zur Abgabe einer Steuererklärung Verpflichteter kann sich nur dann auf die allgemeine Fristverlängerung berufen, wenn er tatsächlich einem Angehörigen der steuerberatenden Berufe einen Auftrag zur Anfertigung der Steuererklärung erteilt hat (vgl. FG Münster, Urteil vom 22. September 1999 – 8 K 635/96 E, EFG 2000, 103). Bei dieser Fristverlängerung handelt es sich nicht um eine allgemeine Fristverlängerung für jedermann, sondern um eine solche, die gerade den Berufsgruppen der steuerberatenden Berufe Erleichterung verschaffen soll und daher nur eingreift, wenn diese Berufsgruppen mit der Erstellung von Steuererklärungen beauftragt werden (vgl. BFH, Beschluss vom 19. August 2010 – VIII B 58/10, BFH/NV 2010, 2232, Urteil vom 28. Juni 2000 – X R 24/95, BFHE 192, 32). Wille bb) Auch der , noch (einmal) einen Steuerberater zu beauftragen, führt für sich allein weder zu einer Fristverlängerung noch zu einem Hinausschieben des Versuchsbeginns (a.A. Rolletschke in Rolletschke/Kemper, Steuerverfehlungen, 96. EL, § 376 Rn. 22a). Denn solange ein Angehöriger der steuerberatenden Berufe nicht mit der Erstellung der Steuererklärung beauftragt wurde, fehlt es an einer Rechtfertigung für die Fristverlängerung. cc) Jedoch entfällt die durch Verwaltungsakt gemäß § 118 AO (vgl. Söhn in Hübschmann/Hepp/Spitaler, AO und FGO, Lfg. 195, September 2007, § 109 Rn. 54) gewährte Verlängerung einer Frist nicht allein deshalb, weil der Grund ihrer Einräumung nicht mehr gegeben ist (vgl. auch § 131 Abs. 2 AO). So verhält es sich auch hier. Allerdings können die Finanzbehörden – wie auch sonst beim Vorliegen sachlicher Gründe – die ausstehenden Steuererklärungen mit angemessener Frist für einen Zeitpunkt vor Ablauf der allgemein verlängerten Frist anfordern (vgl. Abschnitt II Abs. 2 der gleichlautenden Erlasse, BStBl I 2008, 266). Dem Angeklagten hätte daher nach Kündigung des Mandatsverhältnisses zum Steuerberater – unter Abkürzung der Fristverlängerung – eine angemessene Frist zur Einreichung der Steuererklärung eingeräumt werden müssen. Da der Angeklagte von sich aus das Mandatsverhältnis beendet hatte, ohne einen neuen Steuerberater zu beauftragen, hätte diese Frist auch kurz sein können. Innerhalb der hier lediglich verbleibenden fünf Tage zwischen Mandatskündigung gegenüber dem Steuerberater und der Abberufung des Angeklagten als Geschäftsführer der B. IVV hätte jedoch von den Finanzbehörden die Abgabe der ausstehenden Steuererklärungen nicht gefordert werden dürfen. Damit hatte der Angeklagte am 2. Juli 2008, als er als Geschäftsführer der B. IVV abberufen wurde, noch nicht im Sinne von § 22 StGB i.V.m. § 370 Abs. 2 AO zur Steuerhinterziehung durch Unterlassen angesetzt. 4. Da sich der Angeklagte somit in den Fällen 1, 4 und 5 der Urteilsgründe unter keinem rechtlichen Gesichtspunkt strafbar gemacht hat, ist er insoweit freizusprechen. III. Auch der Strafausspruch hat keinen Bestand. Der Freispruch in den Fällen 1, 4 und 5 der Urteilsgründe und das Entfallen der zugehörigen Einzelstrafen zieht die Aufhebung des Ausspruchs über die Gesamtfreiheitsstrafe nach sich. Im Hinblick auf den Wegfall der Einsatzstrafe von zwei Jahren und sechs Monaten Freiheitsstrafe im Fall 1 der Urteilsgründe hebt der Senat den Strafausspruch insgesamt auf. Er kann nicht ausschließen, dass die Zumessung der übrigen Einzelstrafen von der Höhe der Einsatzstrafe beeinflusst war. Die Feststellungen zum zu versteuernden Einkommen des Angeklagten im Fall 6 der Urteilsgründe sind rechtsfehlerfrei und werden daher aufrechterhalten. IV. Soweit der Angeklagte wegen Hinterziehung von Umsatzsteuer zugunsten der B. IVV für das Jahr 2007 angeklagt ist, erschöpft das angefochtene Urteil die Anklage vom 24. Januar 2011 zum Tatvorwurf Nr. 2 nicht. Abgeurteilt und vom Freispruch des Senats erfasst ist davon lediglich der Vorwurf der Nichtabgabe einer Umsatzsteuerjahreserklärung für das Jahr 2007. Der von der Anklage umfasste Tatvorwurf der Steuerhinterziehung durch Nichtabgabe von Umsatzsteuervoranmeldungen bzw. Abgabe unrichtiger Umsatzsteuervoranmeldungen ist daher bei der 12. großen Strafkammer des Landgerichts noch anhängig. 1. Zwar erwähnt die Anklageschrift vom 24. Januar 2011 ausdrücklich nur die Nichtabgabe einer Umsatzsteuerjahreserklärung für die B. IVV für das Jahr 2007. Die richterliche Kognitionspflicht erstreckt sich jedoch auf die gesamte Tat im prozessualen Sinn (§ 264 StPO). Hierzu gehören beim Tatvorwurf der Hinterziehung von Umsatzsteuer sämtliche Verletzungen der Erklärungspflichten betreffend die Umsatzsteuervoranmeldungen und die Umsatzsteuerjahreserklärung für das nämliche Kalenderjahr. Denn nach der Rechtsprechung des Bundesgerichtshofs führen die aus dem materiellen Steuerrecht folgenden engen Verzahnungen dazu, dass Umsatzsteuervoranmeldungen und Umsatzsteuerjahreserklärung eines Jahres hinsichtlich ihrer strafrechtlichen Bedeutung innerlich derart miteinander verknüpft sind, dass der Unrechts- und Schuldgehalt der einzelnen Taten nur in der Zusammenschau richtig gewürdigt werden kann. Damit würde ihre getrennte Würdigung und Aburteilung als unnatürliche Aufspaltung eines einheitlichen Lebensvorgangs empfunden werden. Die durch die Verletzung der Erklärungspflichten bei den Umsatzsteuervoranmeldungen und bei der Umsatzsteuerjahreserklärung für das nämliche Jahr begangene Steuerhinterziehungen i.S.v. § 370 AO bilden damit eine einheitliche Tat i.S.d. § 264 StPO (vgl. BGH, Beschluss vom 24. November 2004 – 5 StR 206/04, BGHSt 49, 359). Dies gilt nach der Rechtsprechung des Bundesgerichtshofs auch in Fällen der Umsatzsteuerhinterziehung durch Unterlassen (vgl. BGH, Urteil vom 12. Januar 2005 – 5 StR 271/04, wistra 2005, 145, 147). 2. Im Rahmen der von der Anklage umfassten einheitlichen Tat i.S.d. § 264 StPO waren somit mehrere selbständige Handlungen (§ 53 StGB) zu beurteilen. Das Landgericht ist seiner diesbezüglichen Kognitionspflicht allerdings nicht ausreichend nachgekommen, denn im Fall 1 der Urteilsgründe (UA S. 18), den das Landgericht dem Tatvorwurf Nr. 2 der Anklageschrift vom 24. Januar 2011 zugeordnet hat, befasst es sich allein mit dem Tatvorwurf der Umsatzsteuerhinterziehung durch Nichtabgabe einer Umsatzsteuerjahreserklärung für das Jahr 2007 für die B. IVV. Die Ausführungen in den Urteilsgründen zur Nichtabgabe von Umsatzsteuervoranmeldungen im Jahr 2007 betreffen allein den Mitangeklagten B. und beziehen sich ausdrücklich auf die Anklageerhebung gegen den Mitangeklagten vom 21. März 2011. Damit ist das Verfahren, soweit es aus der Anklageschrift vom 24. Januar 2011 den Tatvorwurf der Steuerhinterziehung im Hinblick auf die Pflicht betrifft, zutreffende Umsatzsteuervoranmeldungen abzugeben, hinsichtlich des Angeklagten noch beim Landgericht anhängig. Auch der Freispruch des Senats im Fall 1 der Urteilsgründe bezieht sich nicht auf den Tatvorwurf der Nichterfüllung der Pflicht zur Abgabe zutreffender Umsatzsteuervoranmeldungen für die B. IVV für das Jahr 2007, denn die- sen Taten käme ungeachtet ihrer steuerrechtlichen Verzahnung mit der Umsatzsteuerjahreserklärung ein selbständiger Unrechtsgehalt zu (vgl. BGH, Beschluss vom 24. November 2004 – 5 StR 206/04, BGHSt 49, 359; zum Erfordernis eines Teilfreispruchs beim Tatvorwurf mehrerer selbständiger strafbarer Handlungen i.S.v. § 53 StGB im Rahmen einer einheitlichen prozessualen Tat gemäß § 264 StPO vgl. auch BGH, Beschluss vom 30. Oktober 1991 – 4 StR 463/91, BGHR StPO § 260 Abs. 1 Teilfreispruch 7). Wahl Rothfuß Jäger Radtke Zeng'"
      ]
     },
     "execution_count": 32,
     "metadata": {},
     "output_type": "execute_result"
    }
   ],
   "source": [
    "data_sample_20.gruende.iloc[14]\n",
    "\n",
    "# MANUELL GEFUNDEN:\n",
    "# vgl. dazu auch BFH, Beschluss vom 19. August 2010 – VIII B 58/10, BFH/NV 2010, 2232;\n",
    "# BFH, Urteil vom 28. Juni 2000 – X R 24/95, BFHE 192, 32\n",
    "# vgl. FG Münster, Urteil vom 22. September 1999 – 8 K 635/96 E, EFG 2000, 103\n",
    "# vgl. BFH, Beschluss vom 19. August 2010 – VIII B 58/10, BFH/NV 2010, 2232\n",
    "# Urteil vom 28. Juni 2000 – X R 24/95, BFHE 192, 32\n",
    "# vgl. BGH, Beschluss vom 24. November 2004 – 5 StR 206/04, BGHSt 49, 359\n",
    "# vgl. BGH, Urteil vom 12. Januar 2005 – 5 StR 271/04, wistra 2005, 145, 147\n",
    "# vgl. BGH, Beschluss vom 24. November 2004 – 5 StR 206/04, BGHSt 49, 359;\n",
    "# vgl. auch BGH, Beschluss vom 30. Oktober 1991 – 4 StR 463/91, BGHR StPO § 260 Abs. 1 Teilfreispruch"
   ]
  },
  {
   "cell_type": "code",
   "execution_count": 8,
   "metadata": {},
   "outputs": [
    {
     "data": {
      "text/plain": [
       "[['BFH, Beschluss vom 19. August 2010 – VIII B 58/10, BFH / NV 2010, 2232',\n",
       "  6059,\n",
       "  6127],\n",
       " ['BFH, Urteil vom 28. Juni 2000 – X R 24/95, BFHE 192, 32', 6129, 6184],\n",
       " ['FG Münster, Urteil vom 22. September 1999 – 8 K 635/96 E, EFG 2000, 103',\n",
       "  7912,\n",
       "  7983],\n",
       " ['BFH, Beschluss vom 19. August 2010 – VIII B 58/10, BFH / NV 2010, 2232',\n",
       "  8316,\n",
       "  8384],\n",
       " ['Urteil vom 28. Juni 2000 – X R 24/95, BFHE 192, 32', 8386, 8436],\n",
       " ['BGH, Beschluss vom 24. November 2004 – 5 StR 206/04, BGHSt 49, 359',\n",
       "  13093,\n",
       "  13159],\n",
       " ['BGH, Urteil vom 12. Januar 2005 – 5 StR 271/04, wistra 2005, 145, 147',\n",
       "  13288,\n",
       "  13357],\n",
       " ['BGH, Beschluss vom 24. November 2004 – 5 StR 206/04, BGHSt 49, 359',\n",
       "  14778,\n",
       "  14844],\n",
       " ['BGH, Beschluss vom 30. Oktober 1991 – 4 StR 463/91', 15036, 15086]]"
      ]
     },
     "execution_count": 8,
     "metadata": {},
     "output_type": "execute_result"
    }
   ],
   "source": [
    "data_sample_20.citations_gruende.iloc[14]\n",
    "\n",
    "# --> 100% korrekt"
   ]
  },
  {
   "cell_type": "markdown",
   "metadata": {},
   "source": [
    "Sample 16:"
   ]
  },
  {
   "cell_type": "code",
   "execution_count": 33,
   "metadata": {},
   "outputs": [
    {
     "data": {
      "text/plain": [
       "'I. Das Landgericht hat die Angeklagten - jeweils unter Freispruch im Übrigen - wie folgt verurteilt, wobei es die Vollstreckung aller Haftstrafen bis zu zwei Jahren zur Bewährung ausgesetzt hat: • den Angeklagten R. wegen Mitgliedschaft in einer kriminellen Vereinigung \"als Rädelsführer\" in Tateinheit mit gefährlicher Körperverletzung sowie wegen Volksverhetzung zu der Einheitsjugendstrafe von zwei Jahren und sechs Monaten; • den Angeklagten Ko. wegen Mitgliedschaft in einer kriminellen Vereinigung in zwei Fällen, in einem Fall in Tateinheit mit Sachbeschädigung und im anderen Fall in Tateinheit mit gefährlicher Körperverletzung zu der Einheitsjugendstrafe von einem Jahr; • den Angeklagten D. wegen Mitgliedschaft in einer kriminellen Vereinigung in drei Fällen, in zwei Fällen in Tateinheit mit gefährlicher Körperverletzung, im dritten Fall in Tateinheit mit Nötigung, zu der Einheitsjugendstrafe von einem Jahr und sechs Monaten; • den Angeklagten H. wegen Mitgliedschaft in einer kriminellen Vereinigung zu der Jugendstrafe von neun Monaten; • den Angeklagten S. wegen Mitgliedschaft in einer kriminellen Vereinigung in Tateinheit mit Nötigung in zwei Fällen, in einem Fall in weiterer Tateinheit mit versuchter gefährlicher Körperverletzung, im anderen Fall in weiterer Tateinheit mit Körperverletzung, zu der Einheitsjugendstrafe von einem Jahr; • den Angeklagten Ku. wegen Mitgliedschaft in einer kriminellen Vereinigung in Tateinheit mit gefährlicher Körperverletzung unter Einbeziehung zweier Geldstrafen zu der Gesamtfreiheitsstrafe von einem Jahr und sechs Monaten. Die von den Angeklagten R. , D. und H. jeweils auf die Rügen der Verletzung sowohl formellen als auch materiellen Rechts, von den Angeklagten Ko. , S. und Ku. nur auf die Sachrüge gestützten Revisionen sind unbegründet. II. Den erhobenen Verfahrensrügen bleibt ein Erfolg versagt. 1. Die Beanstandung des Angeklagten R. , ein Hilfsbeweisantrag auf Einholung eines weiteren psychiatrischen Sachverständigengutachtens zum Beweis der Tatsache, dass er bei dem als Volksverhetzung abgeurteilten Geschehen aufgrund eines hochgradigen sthenischen Affektstaus schuld-unfähig gewesen sei, sei rechtsfehlerhaft zurückgewiesen worden, greift nicht durch. Das mitgeteilte schriftliche Schuldfähigkeitsgutachten des von der Kammer beauftragten Sachverständigen entspricht den an ein solches zu stellenden Anforderungen (vgl. BGH, Beschluss vom 12. November 2004 - 2 StR 367/04, BGHSt 49, 347, 352 ff.). Da maßgeblich das im Rahmen der Hauptverhandlung mündlich erstattete Gutachten ist (vgl. schon BGH, Urteil vom 21. November 1969 - 3 StR 249/68, BGHSt 23, 176, 185), kann eine allein in der schriftlichen Ausarbeitung fehlende Auseinandersetzung mit der ohnehin eher fernliegenden Frage einer tiefgreifenden Bewusstseinsstörung eine mangelnde Sachkunde ebenso wenig begründen wie der fehlende Hinweis auf die Vorläufigkeit des schriftlichen Gutachtens. Aus der im Rahmen des Antrags erstmals erklärten Bereitschaft des Angeklagten zur Exploration ergeben sich schließlich keine überlegenen Forschungsmittel eines anderen Sachverständigen (vgl. BGH, Urteil vom 12. Februar 1998 - 1 StR 588/97, BGHSt 44, 26). 2. Die Rüge des Angeklagten D. , die Öffentlichkeit sei zu Unrecht ausgeschlossen worden, geht schon deshalb ins Leere, weil dieser zum Zeitpunkt eines Teils der angeklagten Taten noch Jugendlicher war, mithin bei Verhandlung nur gegen ihn die Öffentlichkeit gemäß § 48 Abs. 1 JGG von Gesetzes wegen ausgeschlossen gewesen wäre, unabhängig davon, dass er zum Zeitpunkt weiterer verfahrensgegenständlicher Taten bereits das 18. Lebensjahr vollendet hatte (BGH, Urteil vom 13. Dezember 1967 - 2 StR 548/67, BGHSt 22, 21). Dieser Umstand führt dazu, dass der Angeklagte einen auf § 48 Abs. 3 Satz 2 JGG gestützten Ausschluss der Öffentlichkeit nicht mit Aussicht auf Erfolg rügen kann (BGH, Urteil vom 23. Januar 2003 - 4 StR 412/02, NStZ 2004, 294 mwN). 3. Im Übrigen nimmt der Senat auf die zutreffenden Ausführungen des Generalbundesanwalts Bezug. III. Die aufgrund der Sachrügen gebotene umfassende Nachprüfung des Urteils hat keinen die Angeklagten beschwerenden Rechtsfehler ergeben. 1. Soweit für die Entscheidung von Bedeutung hat das Landgericht folgende Feststellungen getroffen: Die Angeklagten sowie zeitweise weitere Personen, die allesamt eine rechtsextreme Gesinnung einte, bildeten spätestens ab April 2011 den \"Freundeskreis Rade\". In diesem Rahmen verfolgten sie das Ziel, Personen mit Migrationshintergrund und Andersdenkende aus \"ihrem Revier\" - Ra. und die angrenzenden Ortschaften - zu vertreiben oder zumindest erheblich einzuschüchtern. Die Angeklagten fühlten sich gegenseitig verpflichtet, sich an den gemeinsamen Aktionen - Demonstrations- und Konzertbesuche - sowie an regelmäßigen Treffen zu beteiligen und erwarteten dies auch untereinander von den anderen Mitgliedern. Sie waren des Weiteren der Auffassung, dass die gemeinsamen \"höheren\" Ziele absoluten Vorrang und andere Belange, insbesondere persönliche Neigungen hinten anzustehen hatten. Diese Ziele wollten die Angeklagten einerseits dadurch erreichen, dass sie ihre Gegner im öffentlichen Raum so bedrohten, einschüchterten und misshandelten, dass diese in ihrem Sicherheitsgefühl erheblich gestört würden. Dazu beabsichtigten sie, auch Waffen bzw. gefährliche Gegenstände einzusetzen und sich durch Vermummung vor Strafverfolgung zu schützen. Daneben betrieb der \"Freundeskreis\" eine eigene Internetseite, mit der eine aggressive Stimmung gegen Ausländer und Andersdenkende erzeugt und über Veranstaltungen berichtet werden sollte, die der Gesinnung der Teilnehmer entsprachen. Schließlich gestalteten die Angeklagten Plakate und Aufkleber zur Hetze gegen und zur Einschüchterung Andersdenkende(r) und Ausländer, um diese in \"ihrem Revier\" anzubringen. Zwischen April 2011 und März 2012 kam es zu den im Einzelnen abgeurteilten Taten, ganz überwiegend Körperverletzungs- und Nötigungsdelikte, die das Landgericht - mit Ausnahme der abgeurteilten Volksverhetzung durch den Angeklagten R. (B.IX. der Urteilsgründe) - jeweils als Ausfluss dieser Zielsetzung gewertet hat. Dabei kam dem Angeklagten R. eine Führungsposition zu. Als geistiger Kopf der Gruppe war er Ansprechpartner und Berater für die übrigen Mitglieder. Er koordinierte Aktionen, insbesondere auch den Rückzug der Gruppe aus der Öffentlichkeit im April 2012 in der Folge der Verhaftungen von Mitgliedern des sogenannten \"Braunen Hauses\" in K. im Vormonat. Die übrigen Angeklagten nahmen neben ihrer Beteiligung an einzelnen Taten jeweils an den regelmäßigen Treffen teil. Darüber hinaus zeichnete der Angeklagte Ko. für die Pflege der Internetseite verantwortlich, wofür ihm von den Angeklagten H. und Ku. Bildmaterial zur Verfügung gestellt wurde. Der Angeklagte D. warb und betreute neue Mitglieder. 2. Zu Recht hat das Landgericht die Angeklagten wegen mitgliedschaftlicher Beteiligung an einer kriminellen Vereinigung gemäß § 129 Abs. 1 Var. 2 StGB verurteilt. a) Eine Vereinigung im Sinne der §§ 129 ff. StGB ist ein auf gewisse Dauer angelegter, freiwilliger organisatorischer Zusammenschluss von mindestens drei Personen, die bei Unterordnung des Willens des Einzelnen unter den Willen der Gesamtheit gemeinsame Zwecke verfolgen und unter sich derart in Beziehung stehen, dass sie sich als einheitlicher Verband fühlen (st. Rspr.; etwa BGH, Beschluss vom 13. September 2011 - 3 StR 262/11, StV 2012, 339, 340). Eine solche Vereinigung wird zur kriminellen, wenn ihre Zwecke oder Tätigkeit auf die Begehung von hinreichend bestimmten Straftaten gerichtet sind. Diese Zielsetzung muss durch den internen Willensbildungsprozess der Mitglieder gedeckt sein. Zu verlangen ist demnach jedenfalls, dass die von einzelnen verfolgte Zweckgerichtetheit von den übrigen Mitgliedern mitgetragen wird (BGH, Beschluss vom 17. Dezember 1992 - StB 21-25/92, BGHR StGB § 129 Gruppenwille 2). Das Merkmal des Gruppenwillens ist insbesondere deshalb von Bedeutung, weil dessen Existenz dem Einzelnen die Begehung von Straftaten erleichtert und das Gefühl persönlicher Verantwortung zurückdrängt, woraus sich die vereinigungsbezogene Gefährlichkeit im Sinne der in größeren Personenzusammenschlüssen liegenden typischen Eigendynamik ergibt (vgl. BGH, Urteil vom 3. Dezember 2009 - 3 StR 277/09, BGHSt 54, 216, 229). b) Diese Voraussetzungen werden durch die getroffenen Feststellungen belegt. Die Zusammensetzung und die Ausrichtung des \"Freundeskreises Rade\" erfüllte das personelle, das zeitliche und das organisatorische Element. Soweit das Urteil keine Feststellungen zur Art und Weise der Willensbildung enthält, gefährdet dies seinen Bestand nicht. Denn solche Feststellungen sind entbehrlich, wenn die Existenz des Gruppenwillens, dem sich die Mitglieder der Organisation unterordnen, aufgrund anderer Umstände offen zutage tritt. Sie kann sich insbesondere daraus ergeben, dass die Mitglieder einer Gruppierung nicht nur kurzfristig ein Ziel politischer, religiöser oder weltanschaulicher Art verfolgen, das über die Begehung der konkreten Straftaten hinausgeht (BGH aaO, S. 228 ff.). Dieses Ziel lag vorliegend in dem Bestreben, durch Misshandlung und Bedrohung Ausländer und Andersdenkende im \"Revier\" einzuschüchtern und - falls möglich - diese dadurch von dort zu vertreiben. c) Die getroffenen Feststellungen werden auch von der Beweiswürdigung getragen. Allerdings genügt eine bloße Umschreibung der Art der Verbindung durch definitorisch formelhafte Wendungen nicht (vgl. MüKoStGB/Schäfer, 2. Aufl., § 129 Rn. 21). Vielmehr muss belegt werden, dass innere Organisation und Gruppenwille zueinander in Beziehung stehen. Denn der gemeinsame Wille zur Begehung von Straftaten genügt mangels ausreichender Abgrenzbarkeit zu Mittäterschaft und Bande als anderen Formen strafbaren Zusammenwirkens nicht. Vielmehr muss auch bei der Erreichung des übergeordneten Ziels koordiniert zusammengearbeitet werden (vgl. BGH aaO). Insoweit wäre es zu kurz gegriffen, wenn sich das Landgericht zur Begründung der Feststellung des übergeordneten Ziels des \"Freundeskreis Rade\" auf einen Hinweis auf die (strafbaren) Aktivitäten seiner Mitglieder in Verbindung mit deren ausländer- und rechtsfeindlichen Gesinnung beschränkt hätte. Das gerade auch insoweit erforderliche Mindestmaß an fester Organisation zur koordinierten Erreichung des übergeordneten ideologischen Ziels der Gruppierung erschließt sich indes zwanglos aus dem Gesamtzusammenhang der Urteilsgründe: aa) Ein koordiniertes Zusammenwirken wird bereits dadurch nahegelegt, dass die jeweiligen Auseinandersetzungen von den Angeklagten regelmäßig gezielt gesucht wurden. So gingen die Angeklagten D. und S. mit weiteren Personen am 16. April 2011 eine Gruppe Jugendlicher mit ausländischen Wurzeln bedrohlich an, nachdem sie diese beim Grillen am Seeufer entdeckt hatten. Vier Tage später begab sich während einer Zusammenkunft von fünf der sechs Angeklagten anlässlich des Jahrestages des Geburtstags Adolf Hitlers einer von ihnen vermummt zu drei Personen und fragte diese, ob es sich bei ihnen um \"Linke\" handele. Der verneinenden Antwort schenkte die Gruppe um die Angeklagten keinen Glauben, weshalb die Angeklagten S. , H. und D. mit weiteren Gleichgesinnten die zuvor Befragten angriffen. In anderen Fällen waren die Auseinandersetzungen Ergebnis einer gezielten Provokation durch die Angeklagten. So beleidigte der Angeklagte R. am 2. Juli 2011 einen \"asiatisch aussehenden\" Mann, der darauf aggressiv reagierte. Es kam zu körperlichen Auseinandersetzungen zwischen den beiden sowie zwischen einer weiteren Person, die dem Beleidigten zur Hilfe kommen wollte, und dem Angeklagten H. , der nunmehr auf Seiten des Angeklagten R. eingriff. Vergleichbar verhielt es sich bei den Geschehen am 1. Oktober 2011 (B.VII. 9. der Urteilsgründe) sowie am 25. November 2011 (B.VII. 10. der Urteilsgründe). Dass das Landgericht trotz der Feststellung, allen Vorfällen sei gemein gewesen, dass \"die Reaktionen der Betroffenen, die letztlich nach Provokationen auch aggressiv werden können, eingeplant und als willkommener Anlass genommen wurden, um Tätlichkeiten einzuleiten und zu intensivieren\" (UA S. 133), sich in diesen Fällen zu keinen eigenständigen Schuldsprüchen in der Lage sah, beschwert die Angeklagten nicht. Der jeweils festgestellte Ablauf belegt jedoch mit dem gezielt provozierenden Auftreten in Kenntnis einer Absicherung durch einen Gesinnungsgenossen ein Muster und damit ein organisatorisches Element. bb) Dass den Einzeltaten dabei keine längerfristige Planung zugrunde lag, sondern sie aus der jeweiligen Situation entsprangen, steht der Annahme eines entsprechenden Organisationsbezuges im Ergebnis nicht entgegen. Dieser kommt schon in dem gemeinsamen Auftreten zum Ausdruck, mit dem die Angeklagten für die erforderliche Stärke ihrer Gruppierung sorgten. Die Angeklagten kamen nicht nur zum Zweck unverfänglicher gemeinsamer Freizeitgestaltung zusammen, was sich schon daraus erschließt, dass sie - wie ein Zeuge geschildert hat - in Dreier- oder Vierergruppen patrouillierten, um die Bevölkerung einzuschüchtern. Vor allem aber werden eine entsprechende Vorbereitung der Angeklagten auf etwaige Zusammenstöße und damit ein koordiniertes Zusammenwirken belegt durch die Art ihrer Bewaffnung, die über das hinausgeht, was selbst in entsprechenden Kreisen möglicherweise regelmäßig am Körper getragen wird. So führte einer der Angreifer vom 16. April 2011 eine Eisenstange mit sich, die Angreifer vom 20. April 2011 Baseballschläger. Dem Angeklagten D. wurde unter anderem aufgrund des Mitsichführens von mit Sand gefüllten Schlaghandschuhen sowie eines Ledergegenstands, der zur Stabilisierung der Faust während einer Schlägerei genutzt wird, der Zutritt zu einer Maifeier verwehrt, auf der sich jedenfalls auch die Angeklagten Ronsdorf und Ku. befanden und in deren Verlauf es zu einem tätlichen Übergriff auf eine türkischstämmige Person kam. cc) Schließlich wird die koordinierte Zusammenarbeit der Angeklagten deutlich belegt durch das sofortige Zuhilfeeilen des Angeklagten R. auf entsprechende telefonische Aufforderung durch Gesinnungsgenossen im Rahmen des Geschehens vom 16. April 2011. Innerhalb kürzester Zeit hatte dieser den weiteren Angeklagten Ko. mobilisiert sowie sich und diesen durch einen Bekannten von Ra. in den mehrere Kilometer entfernt liegenden Nachbarort bringen lassen, um den Angreifern beizustehen. 3. Auch die Überprüfung der vom Landgericht angenommenen Konkurrenzverhältnisse der einzelnen Taten zueinander hat keinen Rechtsfehler zum Nachteil der Angeklagten ergeben. Allerdings hat das Landgericht die Frage, in welchem Umfang sonstige Straftaten aufgrund des Umstands, dass sie sich gleichzeitig als mitgliedschaftliche Betätigungsakte im Sinne von § 129 Abs. 1 StGB darstellen, untereinander zu Tateinheit verklammert werden, nicht nach den Maßstäben der höchstrichterlichen Rechtsprechung beurteilt. Danach können mehrere an sich getrennt verwirklichte Straftaten durch ein drittes Delikt - hier § 129 StGB - zu einer Tat verbunden werden, wenn zwischen diesem und wenigstens einem der verbundenen Delikte zumindest eine annähernde Wertgleichheit besteht oder das verbindende Delikt das schwerste ist (vgl. BGH, Beschluss vom 2. Dezember 2008 - 3 StR 203/08, NStZ 2009, 692, 693; grundlegend BGH, Beschluss vom 26. März 1982 - 2 StR 700/81, BGHSt 31, 29). Demgegenüber hat das Landgericht - gemäß der früheren Rechtsprechung (vgl. BGH, Urteil vom 11. Juni 1980 - 3 StR 9/80, BGHSt 29, 288, 291 f.; allgemein BGH, Urteil vom 29. August 1952 - 4 StR 963/51, BGHSt 3, 165) - eine Klammerwirkung schon immer dann verneint, wenn nur eines der zu verbindenden Delikte gewichtiger als § 129 StGB war. alle Das landgerichtliche Ergebnis hält dennoch rechtlicher Überprüfung stand. Der Senat gibt seine bisherige Rechtsprechung auf, wonach  mitgliedschaftlichen Beteiligungsakte an einer kriminellen (oder terroristischen) Vereinigung zu einer tatbestandlichen Handlungseinheit zusammengefasst werden. Vielmehr unterbleibt diese Verknüpfung jedenfalls mit solchen Handlungen, die auch den Tatbestand einer anderen Strafvorschrift erfüllen und der Zwecksetzung der Vereinigung oder sonst deren Interessen dienen. Diese stehen zwar gemäß § 52 Abs. 1 Alt. 1 StGB in Tateinheit mit der jeweils gleichzeitig verwirklichten mitgliedschaftlichen Beteiligung im Sinne des § 129 Abs. 1 Var. 2 StGB, jedoch - soweit sich nach allgemeinen Grundsätzen nichts anderes ergibt - sowohl untereinander als auch zu der Gesamtheit der sonstigen mitgliedschaftlichen Beteiligungsakte in Tatmehrheit. Damit bleibt vorliegend kein Raum für eine Klammerwirkung, so dass die Angeklagten durch deren teilweise Anerkennung durch das Landgericht nicht beschwert sind. Im Einzelnen: a) Zwischen einer Straftat, die ein Mitglied einer kriminellen Vereinigung in Verfolgung deren Ziele begeht, und dem darin liegenden Verstoß gegen § 129 Abs. 1 Var. 2 StGB besteht Tateinheit (BGH, Beschluss vom 7. Dezember 1979 - 3 StR 299/79, juris Rn. 26; Urteil vom 11. Juni 1980 - 3 StR 9/80, BGHSt 29, 288, 290 f.; Urteil vom 16. April 1980 - 3 StR 64/80, MDR 1980, 684, 685; Beschluss vom 8. Mai 1980 - 3 StR 170/80, juris Rn. 2; Urteil vom 8. September 1982 - 3 StR 241/82, NStZ 1982, 517, 518; Beschluss vom 23. Dezember 2009 - StB 51/09, NStZ 2010, 445, 446 f.; LK/Krauß, StGB, 12. Aufl., § 129 Rn. 194; SK-StGB/Rudolphi/Stein, 63. Lfg., § 129 Rn. 34; S/S-Sternberg-Lieben, StGB, 29. Aufl., § 129 Rn. 27; Krauth, Festschrift für Kleinknecht, 1985, 215, 218; Cording, Der Strafklageverbrauch bei Dauer- und Organisationsdelikten, 1993, S. 112). Gegenteilige Auffassungen, die untereinander insoweit divergieren, als die einen stets von Tatmehrheit ausgehen (so Meyer, JR 1978, 35; Dreher/Tröndle, StGB, 41. Aufl., § 129 Rn. 9a; Herdegen, MDR 1980, 439), die anderen nur in den Fällen, in denen die Straftat der Erreichung des Zwecks der Vereinigung dienen soll, wohingegen bei Taten, die gerade einen Beitrag zur organisatorischen Arbeit der Vereinigung leisten sollen, Tateinheit anzunehmen sei (so OLG Karlsruhe, Beschluss vom 24. Juni 1977 - 3 Ws 99/77, JR 1978, 34; Gössel, JR 1982, 111, 112), haben sich zu Recht nicht durchgesetzt. Denn gerade in der Begehung einer Straftat, die der Zwecksetzung der Vereinigung entspricht oder sonst ihren Interessen dienlich ist, liegt eine gesteigerte Förderung des Verbands durch das Mitglied (ebenso Haberstumpf, MDR 1979, 977, 980; Werle, JR 1979, 93, 96). Dann aber folgt die Annahme von Tateinheit unmittelbar aus § 52 Abs. 1 Alt. 1 StGB. Denn es ist dieselbe Handlung im natürlichen Sinne, die einerseits die Voraussetzungen des als Mitglied begangenen Delikts erfüllt und sich andererseits als mitgliedschaftliche Beteiligung im Sinne von § 129 Abs. 1 Var. 2 StGB darstellt. Es geht mithin nicht um die bloße Gleichzeitigkeit von Geschehensabläufen (so aber Herdegen aaO in Kritik an einer Formulierung in BGH, Beschluss vom 7. Dezember 1979 - 3 StR 299/79, juris Rn. 26), sondern um Handlungsidentität. Diese wird durch den Umstand, dass mitgliedschaftliche Beteiligung auch in einer Art und Weise begangen werden kann, die keinen weiteren Straftatbestand erfüllt, nicht aufgelöst (zutreffend Grünwald, Festschrift für Bockelmann, 1973, 737, 740 gegen OLG Karlsruhe aaO) und setzt darüber hinaus eine Identität von Tatbestandsmerkmalen nicht voraus (so aber Meyer aaO; hiergegen zu Recht Werle aaO). b) Für das Konkurrenzverhältnis zwischen der als Mitglied begangenen sonstigen Straftat und weiteren mitgliedschaftlichen Beteiligungsakten kommt es daher maßgeblich darauf an, in welchem Verhältnis diese untereinander stehen. Nach überkommener Auffassung bilden mehrere mitgliedschaftliche Beteiligungsakte grundsätzlich eine tatbestandliche Handlungseinheit (BVerfG, Beschluss vom 8. Januar 1981 - 2 BvR 873/80, NJW 1981, 1433, 1435; BGH, Beschluss vom 15. Februar 2007 - StB 19/06, NStZ 2007, 401; MüKoStGB/Schäfer aaO, Rn. 136; LK/Krauß aaO, Rn. 189; LK/Rissing-van Saan aaO, Vor § 52 Rn. 24; S/S-Sternberg-Lieben aaO, Rn. 27; Lackner/Kühl/Heger, StGB, 28. Aufl., § 129 Rn. 13). Dies folgt allerdings nicht daraus, dass es sich bei § 129 Abs. 1 Var. 2 StGB um ein Dauerdelikt handeln würde (so aber Fleischer, NJW 1979, 1337, 1338 f.); ein solches ist gegeben, wenn der Täter einen von ihm begründeten rechtswidrigen Zustand aufrechterhält oder durch tatbestandserhebliche Handlungen weiter verwirklicht (BGH, Beschluss vom 7. August 1996 - 3 StR 318/96, BGHSt 42, 215, 216 mwN). Da es aber nach dem eindeutigen Gesetzeswortlautlaut des § 129 Abs. 1 StGB für die Strafbarkeit nach dieser Vorschrift nicht ausreicht, bloß Mitglied in einer Vereinigung zu sein, begründet das Faktum der Mitgliedschaft keinen rechtswidrigen Zustand; vielmehr ist eine Beteiligung als Mitglied erforderlich, also eine aktive Förderungshandlung, in der sich die Eingliederung des Täters in die Organisation und seine Unterordnung unter deren Willen manifestiert (BGH, Urteil vom 11. Juni 1980 - 3 StR 9/80, BGHSt 29, 288, 294; MüKoStGB/Schäfer aaO, Rn. 87; Haberstumpf aaO, 978). Sollten Formulierungen des Senats, wonach eine Beteiligung als Mitglied auch für Zeiten angenommen werden könne, in denen keine Tätigkeiten für die Vereinigung ausgeübt werden (etwa BGH, Beschluss vom 22. Oktober 1979 - StB 52/79, BGHSt 29, 114, 123; vgl. hierzu Krauth aaO, 224 f.; Cording aaO, S. 71 f.), auf ein anderes Verständnis hindeuten können, hält der Senat daran nicht fest. Gegen die Annahme einer von aktiven Beteiligungshandlungen unabhängigen Tatbestandserfüllung spricht bereits, dass eine bloß formale oder lediglich passive Mitgliedschaft vom Tatbestand in seiner einschränkenden Auslegung durch die Rechtsprechung gerade nicht erfasst wird (BGH aaO, 121; vgl. auch BGH, Beschluss vom 30. März 2001 - StB 4-5/01, NStZ 2002, 328, 330). Die grundsätzliche Annahme einer tatbestandlichen Handlungseinheit rechtfertigt sich dagegen aus der pauschalisierenden Handlungsbeschreibung (vgl. LK/Rissing-van Saan aaO) des § 129 Abs. 1 Var. 2 StGB. Der Tatbestand selbst, der vorrangig die Allgemeinsrechtsgüter öffentliche Sicherheit und staatliche Ordnung schützt (MüKoStGB/Schäfer aaO, Rn. 1 mwN) und daher strukturbedingt keine Tatbestandsmerkmale enthält, die unmittelbar auf Individualrechtsgüter bezogene Angriffsobjekte, Angriffsarten oder Taterfolge umschreiben, lässt es angezeigt erscheinen, mehrere Tatbestandsverwirklichungen rechtlich zu einer Tat zusammenzufassen, um so zu einer sinnstiftenden Bestimmung des Einzeldelikts zu kommen (vgl. Puppe, Idealkonkurrenz und Einzelverbrechen, 1979, S. 212 f.). Darüber hinaus ergibt sich aus der Verknüpfung zwischen den einzelnen, stoßweise begangenen (vgl. Werle, NJW 1980, 2671, 2674) und für sich betrachtet strafrechtlich oftmals neutralen Beteiligungshandlungen mit der auf einen längeren Zeitraum angelegten Mitgliedschaft, in der sich die Eingliederung des Täters in die Organisation widerspiegelt und durch die die Tätigkeiten erst ihr Unwerturteil erhalten, dass eine Mehrzahl von Tätigkeiten zu einer Tatbestandsverwirklichung zusammengefasst werden soll (vgl. zur insoweit vergleichbaren Tatbestandsstruktur des § 99 Abs. 1 Nr. 1 StGB: BGH, Beschluss vom 7. August 1996 - 3 StR 318/96, BGHSt 42, 215, 217; vgl. Cording aaO, S. 54). c) Damit ist indes noch keine abschließende Aussage darüber getroffen, ob ausnahmslos alle mitgliedschaftlichen Beteiligungsakte unabhängig von ihrer inhaltlichen Ausgestaltung und insbesondere unabhängig davon, ob sie neben § 129 Abs. 1 StGB auch einen anderen Straftatbestand verwirklichen, zu einer tatbestandlichen Handlungseinheit verknüpft werden. alle aa) Allerdings hat der Senat bislang ohne weitere Begründung stets  mitgliedschaftlichen Beteiligungsakte zusammengefasst und aus diesem Umstand auf Idealkonkurrenz zwischen dem gesamten Organisationsdelikt (zum Begriff MüKoStGB/Schäfer aaO, Rn. 5 mwN; Cording aaO, S. 122, 129 ff.) und einer durch einen der Einzelakte begangenen anderen Straftat geschlossen (BGH, Urteil vom 11. Juni 1980 - 3 StR 9/80, BGHSt 29, 288, 290 f.). Darauf hat - in Übereinstimmung mit der Rechtsprechung zu anderen tatbestandlichen Handlungseinheiten, insbesondere Dauerdelikten (vgl. etwa BGH, Beschlüsse vom 24. August 1988 - 2 StR 432/88, BGHR StGB § 52 Abs. 1 Klammerwirkung 2; vom 6. September 1988 - 1 StR 481/88, BGHR StGB § 52 Abs. 1 Klammerwirkung 3; vom 6. September 1989 - 2 StR 353/89, BGHR StGB § 52 Abs. 1 Klammerwirkung 6) - die Annahme einer Klammerwirkung des § 129 Abs. 1 Var. 2 StGB bezüglich mehrerer als Mitglied begangener sonstiger Straftaten aufgebaut (BGH, Urteil vom 11. Juni 1980 - 3 StR 9/80, BGHSt 29, 288, 291 f.; Beschluss vom 11. August 2004 - 3 StR 202/04, NStZ 2005, 46, 47). Diese galt - wie bereits dargelegt - wegen ihrer ungerechten materiellen Konsequenzen (vgl. LK/Rissing-van Saan aaO, § 52 Rn. 30: \"die Verbindung würde der Täterschuld in solchen Fällen nicht gerecht und hätte das widersinnige Ergebnis […]\") allerdings auch bei § 129 Abs. 1 Var. 2 StGB nicht uneingeschränkt, sondern nur, wenn zumindest eines der für die Verklammerung in Betracht kommenden Delikte nicht schwerer wog als die durch dieses gleichzeitig verwirklichte mitgliedschaftliche Beteiligung im Sinne von § 129 Abs. 1 StGB. Über diese aus den genannten Gründen der materiellen Gerechtigkeit gebotene materiell-rechtliche Ausnahme vom Grundsatz der Klammerwirkung hinaus hatte die Rechtsprechung des Senats in diesen Fallkonstellationen in strafprozessualer Hinsicht weitere Konsequenzen: Durch eine Verurteilung wegen mitgliedschaftlicher Beteiligung an einer kriminellen Vereinigung nach § 129 Abs. 1 StGB trat kein Strafklageverbrauch hinsichtlich eines mit dieser idealkonkurrierenden schwereren Delikts ein, wenn letzteres nicht von der früheren Anklage - auch nicht als mitgliedschaftlicher Beteiligungsakt - erfasst war (BGH, Urteil vom 11. Juni 1980 - 3 StR 9/80, BGHSt 29, 288, 292 ff.). Damit wich der Senat von dem - im Übrigen allgemein anerkannten - Grundsatz ab, dass materiell-rechtliche Idealkonkurrenz in aller Regel zur Annahme einer einheitlichen Tat im prozessualen Sinn des § 264 StPO führt (vgl. LR/Stuckenberg, StPO, 26. Aufl., § 264 Rn. 59 mwN). Zudem konnte der Täter in einem neuen Prozess nur noch wegen des schwereren Delikts schuldig gesprochen werden. Die Verurteilung wegen der gleichzeitig verwirklichten mitgliedschaftlichen Beteiligung an einer kriminellen Vereinigung im Sinne von § 129 Abs. 1 StGB hatte hingegen wegen Strafklageverbrauchs auszuscheiden. bb) Anders als die genannten Judikate des Senats zu Konkurrenzen zwischen Organisationsdelikten und damit zusammentreffenden sonstigen Straftaten geht die Rechtsprechung des Bundesgerichtshofs zum Konkurrenzverhältnis zwischen dem Besitz und dem Führen einer Schusswaffe (§§ 51, 52 WaffG) und einer unter Nutzung der Waffe begangenen anderen Straftat trotz des Charakters dieser Verstöße gegen das Waffenrecht als Dauerdelikte von Tatmehrheit aus, wenn die andere Straftat auf einem neuen, bei Inbesitznahme der Waffe noch nicht vorliegenden Willensentschluss beruht (BGH, Urteile vom 16. März 1989 - 4 StR 60/89, BGHSt 36, 151, 153; vom 15. April 1998 - 2 StR 670/97, NStZ-RR 1999, 8; Beschluss vom 18. Februar 1999 - 5 StR 45/99, NStZ 1999, 347; vgl. auch Beschluss vom 30. Juni 1982 - 3 StR 44/82). Dabei soll es nicht darauf ankommen, ob die mittels der Waffe begangene weitere Straftat schwerer wiegt als das Waffendelikt (vgl. BGH, Beschluss vom 7. Februar 1996 - 5 StR 9/96, BGHR WaffG § 53 Abs. 1 Konkurrenzen 3; noch offengelassen in BGH, Urteil vom 16. März 1989 - 4 StR 60/89, BGHSt 36, 151, 153). Nach dieser Rechtsprechung kommt dem neuen Tatentschluss Zäsurwirkung zu. Die Trennbarkeit folge daraus, dass die Strafbarkeit des Waffendelikts allein auf der generell gegebenen Gefährlichkeit des Waffenbesitzes beruhe, aber in keinem unmittelbaren Zusammenhang mit der Straftatbegehung unter Gebrauch der Waffe stehe. Das in dem neuen Tatentschluss liegende, wesentlich intensivere kriminelle Verhalten könne deshalb nur als sachlich-rechtlich selbständige Handlung rechtlich ausreichend erfasst werden. Nach Beendigung der anderen Straftat soll in der weiteren Ausübung der tatsächlichen Gewalt über die Waffe eine weitere materiell-rechtliche Handlung liegen (BGH, Urteil vom 16. März 1989 - 4 StR 60/89, BGHSt 36, 151, 154). Auf eine entsprechende Anwendung der in der Rechtsprechung des Senats angestellten Erwägungen zur Frage des Strafklageverbrauchs bei bereits abgeurteiltem Organisationsdelikt (vgl. BGH, Urteil vom 11. Juni 1980 - 3 StR 9/80, BGHSt 29, 288, 292 ff.) müsse daher nicht zurückgegriffen werden (BGH, Urteil vom 16. März 1989 - 4 StR 60/89, BGHSt 36, 151, 152 in Abgrenzung zu OLG Hamm, Beschluss vom 9. September 1985 - 1 Ws 83/85, JR 1986, 203). d) An diese Überlegungen knüpft der Senat für den Bereich der Organisationsdelikte an, bestimmt das maßgebliche Kriterium für die Beurteilung, inwiefern von einer tatbestandlichen Handlungseinheit auszugehen ist, jedoch objektiv. Die genannte Rechtsprechung des Bundesgerichtshofs hat zwischen den Dauerdelikten des Waffenbesitzes bzw. -führens und den Organisationsdelikten der § 129 Abs. 1 Var. 2, § 129a Abs. 1 Var. 2 StGB einen wesentlichen Unterschied darin gesehen, dass bei letzteren ein neuer Willensentschluss, der eine Zäsur des \"Dauerdelikts\" begründen könne, nicht vorliege, weil das Wirken als Mitglied bereits die Bereitschaft voraussetze, im Sinne der Zielsetzung der Vereinigung kriminell tätig zu werden (BGH, Urteil vom 16. März 1989 - 4 StR 60/89, BGHSt 36, 151, 153). Dem kann sich der Senat nicht anschließen. Zur Übertragbarkeit des für die genannten Waffendelikte gefundenen Ergebnisses drängt vielmehr schon ein Erst-Recht-Schluss: Gerade wenn innerhalb eines Dauerdelikts, das - wie ausgeführt - lediglich in der Aufrechterhaltung eines rechtswidrigen Zustandes besteht, eine Aufspaltung der tatbestandlichen Handlungseinheit in mehrere materiell-rechtliche Taten möglich ist, muss dies umso mehr für Organisationsdelikte gelten, bei denen es an einem durchgehenden deliktischen Zustand fehlt, vielmehr mehrere aktive Einzelhandlungen lediglich rechtlich zusammengefasst werden. Nach Auffassung des Senats vermag allerdings der neue Willensentschluss des Täters als rein subjektives Element keine hinreichende Begründung dafür zu geben, warum die Handlung im natürlichen Sinne, innerhalb derer etwa der Waffenbesitz und die Straftatbegehung unter Gebrauch der Waffe zusammenfallen, nicht in die übrige Handlungseinheit einzugliedern sei. Es erweist sich bereits als bloße Fiktion, in dem späteren Entschluss zur Begehung einer Straftat unter Verwendung der Waffe einen neuen Entschluss in Bezug auf deren Besitz zu sehen (so auch Mitsch, JR 1990, 162, 163). Jedenfalls kann der Erklärungsansatz nicht erhellen, worin nach Beendigung der Straftat abermals ein neuer Entschluss zum reinen Besitz der Waffe liegen soll (ebenso Peters, JR 1993, 265, 269). eine Ausgangspunkt für die Bestimmung der Reichweite der tatbestandlichen Handlungseinheit ist vielmehr der Umstand, dass es sich bei dieser Rechtsfigur um eine Konstruktion handelt, die maßgeblich auf rechtlichen Bewertungen beruht. Die für sich betrachtet unnatürliche Zusammenfassung einzelner Handlungen zu einer Gesetzesverletzung bedarf einer materiellen Rechtfertigung. Fehlt eine solche hinsichtlich einer Handlung im natürlichen Sinne, wird diese nicht Teil der Einheit. Es geht also nicht um Zäsuren, die mehrere Handlungseinheiten begründen, sondern darum, dass unter bestimmten Voraussetzungen Einzelakte tatmehrheitlich neben die  verbleibende tatbestandliche Handlungseinheit treten. aa) Diese Rechtfertigung liegt jedenfalls hinsichtlich der Organisationsdelikte nicht in der Fassung der Tatbestände selbst (so aber Cording aaO, S. 72 f. i.V.m. 87; ähnlich Krauth aaO, 225). Wie ausgeführt belegt die Ausgestaltung von § 129 Abs. 1 Var. 2, § 129a Abs. 1 Var. 2 StGB lediglich, dass eine Zusammenfassung überhaupt erforderlich ist; über deren Umfang ist der Regelung selbst nichts zu entnehmen. Aufgrund dieser Offenheit der Gesetzesfassung geht auch der Einwand fehl, für die Möglichkeit der Aufspaltung einer Einheit in selbständige Abschnitte fehle es an Anhaltspunkten im Gesetz (so Erb, GA 1994, 265, 271). Aus der nicht näher erläuterten Bemerkung im Entwurf eines Gesetzes zur Änderung des Strafgesetzbuches, der Strafprozessordnung, des Gerichtsverfassungsgesetzes und der Bundesrechtsanwaltsordnung vom 30. August 1975, wonach zur \"Tat\" des § 129a StGB sämtliche Beteiligungsakte der Mitglieder der terroristischen Vereinigung gehörten (BT-Drucks. 7/4005, S. 9), folgt nichts anderes. Mit ihr nahm der Gesetzgeber ersichtlich lediglich auf das damals schon bekannte Verständnis der bisherigen Rechtsprechung Bezug (vgl. auch Werle, Die Konkurrenz bei Dauerdelikt, Fortsetzungstat und zeitlich gestreckter Gesetzesverletzung, 1981, S. 168 f.). bb) Die materielle Rechtfertigung für eine Zusammenfassung kann mithin nur in der Gleichwertigkeit verschiedener Handlungen liegen, die anhand ihres jeweiligen Unrechts- und Schuldgehalts zu bestimmen ist. Geht es aber um eine derartige Bewertung einer Handlung, die den Tatbestand des Organisationsdelikts erfüllt, versteht es sich von selbst, dass auch in den Blick genommen werden muss, ob diese daneben weitere Straftatbestände verwirklicht und so einen gesteigerten Unrechtsgehalt aufweist (ebenso Werle aaO, 171 ff.; Puppe, JR 1986, 205, 207; ähnlich, allerdings bei anderem Ausgangspunkt, Puppe, Idealkonkurrenz und Einzelverbrechen, 1979, S. 213 ff.). Danach gilt: Der Unrechts- und Schuldgehalt aller Tätigkeiten, die allgemein dem Zusammenhalt und der \"Arbeit\" der Organisation dienen, ohne für sich betrachtet strafbar zu sein, liegt in der bloßen Steigerung der genannten Gefahren für die öffentliche Sicherheit und Ordnung und - mittelbar - noch unbestimmte (Individual-)Rechtsgüter. Sie sind einer weiteren Aufspaltung nicht zugänglich (Puppe aaO, S. 215) und deshalb zu einer tatbestandlichen Handlungseinheit zu verknüpfen. Demgegenüber ist die Begehung einer Straftat, die gerade den Zweck der Vereinigung bildet, stets von entscheidender Relevanz für den Unrechts- und Schuldgehalt dieser Handlung. Denn die Verletzung eines Individualrechtsguts kann gegenüber dessen bloßer Gefährdung, der § 129 Abs. 1 StGB (auch) entgegenwirken will (vgl. MüKoStGB/Schäfer aaO, Rn. 1, 4), nicht untergeordnet sein (ebenso Werle aaO, S. 187). Deshalb unterfällt die diesbezügliche Tätigkeit nicht der tatbestandlichen Handlungseinheit, sondern tritt - idealkonkurrierend mit der eigenständigen, isolierten Erfüllung des § 129 Abs. 1 Var. 2 StGB - in Tatmehrheit zu dieser. Nichts anderes gilt - unabhängig von der Schwere des Unrechtsgehalts - auch für jede sonstige, lediglich den organisatorischen Zusammenhalt oder die Schlagkraft der Organisation fördernde Handlung durch ein Mitglied einer kriminellen oder terroristischen Vereinigung, sofern dadurch ein gesonderter Straftatbestand verwirklicht wird; auch sie wird nicht Teil der übrigen Handlungseinheit (aA Werle aaO, 174 ff.). Dafür spricht zudem, dass auf diesem Wege Probleme bei der Schwerebestimmung vermieden werden, wie sie bereits heute im Zusammenhang mit der Entklammerung auftreten (vgl. hierzu die Kritik bei Peters aaO, 267 f. gegenüber BGH, Urteil vom 18. Juli 1984 - 2 StR 322/84, BGHSt 33, 4, 6 f.). cc) Da dieser Lösungsansatz bereits am Handlungsbegriff selbst ansetzt, an den die Bestimmung der Konkurrenzen erst anknüpft, kann ihm nicht entgegengehalten werden, dass er zu einer Vervielfachung der Strafbarkeit führe (so aber Erb aaO). Die vorliegende Konstellation macht ferner deutlich, dass es nicht zutrifft, dass das materielle Konkurrenzverhältnis nur mit Blick auf das gewünschte prozessuale Ergebnis - kein Strafklageverbrauch - gelöst wird (so aber der Vorwurf von Cording aaO, S. 70). Dass durch den vom Senat gewählten Lösungsweg wieder ein Gleichlauf von materieller und prozessualer Tat möglich wird (vgl. auch IV.), was insbesondere Probleme im Bereich der Strafzumessung zu vermeiden hilft, die durch die vorherige Aburteilung von in Idealkonkurrenz stehenden Teilen einer Tat im Sinne des § 264 StPO entstehen können (vgl. Werle, NJW 1980, 2671, 2673; zu diesbezüglichen Lösungsansätzen OLG Hamm, Beschluss vom 9. September 1985 - 1 Ws 83/85, NStZ 1986, 278, 279; Erb aaO, 275 ff.), mag das Ergebnis bestätigen, vermag es aber nicht zu begründen. e) Nach alledem wären sämtliche Angeklagten wegen Mitgliedschaft bzw. - der Angeklagte R. - Rädelsführerschaft in einer kriminellen Vereinigung in jeweiliger Tatmehrheit zu den begangenen Einzeltaten zu verurteilen gewesen. Soweit es sich bei den Einzeltaten um Taten der Vereinigung handelte, wären diese ihrerseits in Tateinheit mit Mitgliedschaft in einer kriminellen Vereinigung auszuurteilen gewesen. Dementsprechend ist keiner der Angeklagten durch den gegen ihn ergangenen Schuldspruch beschwert. Dies gilt auch bezüglich der Angeklagten D. und S. . Zwar belegen die Urteilsgründe nicht, weshalb es sich bei deren Taten vom 31. Dezember 2011 (Fall B.VII. 11. der Urteilsgründe) und vom 17. März 2012 (Fall B.VII. 15. der Urteilsgründe) um Taten der Vereinigung gehandelt haben soll. Letztere richtete sich zwar gegen vermeintlich der linken Szene zuzurechnende Personen. Jedoch ereignete sich die Tat, an der aus Reihen der Angeklagten nur der Angeklagte D. beteiligt war, um den E. Hauptbahnhof. Dem Urteil ist nicht zu entnehmen, wie diese Tat mit dem Ziel der Vereinigung, die Gegend um Ra. von Andersdenkenden zu befreien, im Zusammenhang stehen könnte. Gleiches gilt für die vom Angeklagten S. am 31. Dezember 2011 begangene Körperverletzung, die sich während einer Zugfahrt von W. Richtung Dü. ereignete. Darüber hinaus ist hinsichtlich des Geschädigten nicht festgestellt, dass er zu einer der Gruppen gehörte, gegen die der \"Freundeskreis\" als Gruppe agierte. Damit müsste zwar grundsätzlich der Schuldspruch wegen gefährlicher Körperverletzung (D. ) bzw. Körperverletzung (S. ) isoliert stehen; da jedoch nach der aufgezeigten Lösung in Tatmehrheit hierzu eine weitere Verurteilung nach § 129 Abs. 1 Var. 2 StGB hätte ausgesprochen werden müssen, kann die tateinheitliche Aburteilung - jedenfalls vor dem Hintergrund der zu bildenden Einheitsjugendstrafe - die Angeklagten nicht beschweren. IV. Der Verurteilung des Angeklagten S. steht auch nicht das Verfahrenshindernis des (teilweisen) Strafklageverbrauchs (Art. 103 Abs. 3 GG) entgegen. Zwar war dieser Angeklagte wegen seiner Beteiligung an der Tat vom 20. April 2011, bei der - neben anderen - er und der Angeklagte D. Personen, die augenscheinlich der linken Szene zuzurechnen waren, mit Steinen bewarfen und die das Landgericht hinsichtlich des Angeklagten D. als mitgliedschaftlichen Beteiligungsakt gewertet hat, bereits durch das Urteil des Amtsgerichts Wuppertal vom 28. Februar 2012, rechtskräftig seit 7. März 2012, wegen gefährlicher Körperverletzung zu Jugendarrest in Form von zwei Freizeitarresten verurteilt worden. Damit wäre - nach den Grundsätzen der bisherigen Senatsrechtsprechung (vgl. BGH, Urteil vom 11. Juni 1980 - 3 StR 9/80, BGHSt 29, 288) - jedenfalls hinsichtlich der hierzu in Tateinheit stehenden Mitgliedschaft in einer kriminellen Vereinigung in dem Umfang, in dem diese weitere Delikte zu verklammern in der Lage gewesen wäre, Strafklageverbrauch eingetreten. Nach der neuen Bestimmung des Umfangs der tatbestandlichen Handlungseinheit bei Organisationsdelikten stehen die Tat vom 20. April 2011 und die Einheit aller sonstigen mitgliedschaftlichen Beteiligungsakte aber im Verhältnis der Tatmehrheit zueinander. Da es sich insoweit nach natürlicher Auffassung nicht um einheitliche Lebensvorgänge handelt, beansprucht der Grundsatz Gültigkeit, wonach sachlich-rechtlich selbständige Taten auch prozessual selbständig sind (vgl. Meyer-Goßner/Schmitt, StPO, 58. Aufl., § 264 Rn. 2, 6 mwN). Becker Pfister Mayer Gericke Spaniol'"
      ]
     },
     "execution_count": 33,
     "metadata": {},
     "output_type": "execute_result"
    }
   ],
   "source": [
    "data_sample_20.gruende.iloc[15]\n",
    "\n",
    "# MANUELL GEFUNDEN:\n",
    "# vgl. BGH, Beschluss vom 12. November 2004 - 2 StR 367/04, BGHSt 49, 347, 352 ff.\n",
    "# vgl. schon BGH, Urteil vom 21. November 1969 - 3 StR 249/68, BGHSt 23, 176, 185\n",
    "# vgl. BGH, Urteil vom 12. Februar 1998 - 1 StR 588/97, BGHSt 44, 26\n",
    "# BGH, Urteil vom 13. Dezember 1967 - 2 StR 548/67, BGHSt 22, 21\n",
    "# BGH, Urteil vom 23. Januar 2003 - 4 StR 412/02, NStZ 2004, 294 mwN\n",
    "# etwa BGH, Beschluss vom 13. September 2011 - 3 StR 262/11, StV 2012, 339, 340\n",
    "# BGH, Beschluss vom 17. Dezember 1992 - StB 21-25/92, BGHR StGB § 129 Gruppenwille 2\n",
    "# vgl. BGH, Urteil vom 3. Dezember 2009 - 3 StR 277/09, BGHSt 54, 216, 229\n",
    "# BGH aaO, S. 228 ff.\n",
    "# vgl. BGH aaO\n",
    "# vgl. BGH, Beschluss vom 2. Dezember 2008 - 3 StR 203/08, NStZ 2009, 692, 693;\n",
    "# grundlegend BGH, Beschluss vom 26. März 1982 - 2 StR 700/81, BGHSt 31, 29\n",
    "# vgl. BGH, Urteil vom 11. Juni 1980 - 3 StR 9/80, BGHSt 29, 288, 291 f.;\n",
    "# allgemein BGH, Urteil vom 29. August 1952 - 4 StR 963/51, BGHSt 3, 165\n",
    "# BGH, Beschluss vom 7. Dezember 1979 - 3 StR 299/79, juris Rn. 26;\n",
    "# Urteil vom 11. Juni 1980 - 3 StR 9/80, BGHSt 29, 288, 290 f.;\n",
    "# Urteil vom 16. April 1980 - 3 StR 64/80, MDR 1980, 684, 685;\n",
    "# Beschluss vom 8. Mai 1980 - 3 StR 170/80, juris Rn. 2;\n",
    "# Urteil vom 8. September 1982 - 3 StR 241/82, NStZ 1982, 517, 518;\n",
    "# Beschluss vom 23. Dezember 2009 - StB 51/09, NStZ 2010, 445, 446 f.;\n",
    "# so OLG Karlsruhe, Beschluss vom 24. Juni 1977 - 3 Ws 99/77, JR 1978, 34;\n",
    "# BGH, Beschluss vom 7. Dezember 1979 - 3 StR 299/79, juris Rn. 26\n",
    "# BVerfG, Beschluss vom 8. Januar 1981 - 2 BvR 873/80, NJW 1981, 1433, 1435;\n",
    "# BGH, Beschluss vom 15. Februar 2007 - StB 19/06, NStZ 2007, 401;\n",
    "# BGH, Beschluss vom 7. August 1996 - 3 StR 318/96, BGHSt 42, 215, 216 mwN\n",
    "# BGH, Urteil vom 11. Juni 1980 - 3 StR 9/80, BGHSt 29, 288, 294;\n",
    "# BGH, Beschluss vom 22. Oktober 1979 - StB 52/79, BGHSt 29, 114, 123;\n",
    "# vgl. auch BGH, Beschluss vom 30. März 2001 - StB 4-5/01, NStZ 2002, 328, 330\n",
    "# BGH, Beschluss vom 7. August 1996 - 3 StR 318/96, BGHSt 42, 215, 217;\n",
    "# BGH, Urteil vom 11. Juni 1980 - 3 StR 9/80, BGHSt 29, 288, 290 f.\n",
    "# vgl. etwa BGH, Beschlüsse vom 24. August 1988 - 2 StR 432/88, BGHR StGB § 52 Abs. 1 Klammerwirkung 2;\n",
    "# vom 6. September 1988 - 1 StR 481/88, BGHR StGB § 52 Abs. 1 Klammerwirkung 3;\n",
    "# vom 6. September 1989 - 2 StR 353/89, BGHR StGB § 52 Abs. 1 Klammerwirkung 6\n",
    "# BGH, Urteil vom 11. Juni 1980 - 3 StR 9/80, BGHSt 29, 288, 291 f.;\n",
    "# Beschluss vom 11. August 2004 - 3 StR 202/04, NStZ 2005, 46, 47\n",
    "# BGH, Urteil vom 11. Juni 1980 - 3 StR 9/80, BGHSt 29, 288, 292 ff.\n",
    "# BGH, Urteile vom 16. März 1989 - 4 StR 60/89, BGHSt 36, 151, 153;\n",
    "# vom 15. April 1998 - 2 StR 670/97, NStZ-RR 1999, 8;\n",
    "# Beschluss vom 18. Februar 1999 - 5 StR 45/99, NStZ 1999, 347;\n",
    "# vgl. auch Beschluss vom 30. Juni 1982 - 3 StR 44/82\n",
    "# vgl. BGH, Beschluss vom 7. Februar 1996 - 5 StR 9/96, BGHR WaffG § 53 Abs. 1 Konkurrenzen 3;\n",
    "# noch offengelassen in BGH, Urteil vom 16. März 1989 - 4 StR 60/89, BGHSt 36, 151, 153\n",
    "# BGH, Urteil vom 16. März 1989 - 4 StR 60/89, BGHSt 36, 151, 154\n",
    "# vgl. BGH, Urteil vom 11. Juni 1980 - 3 StR 9/80, BGHSt 29, 288, 292 ff.\n",
    "# BGH, Urteil vom 16. März 1989 - 4 StR 60/89, BGHSt 36, 151, 152\n",
    "# in Abgrenzung zu OLG Hamm, Beschluss vom 9. September 1985 - 1 Ws 83/85, JR 1986, 203\n",
    "# BGH, Urteil vom 16. März 1989 - 4 StR 60/89, BGHSt 36, 151, 153\n",
    "# BGH, Urteil vom 18. Juli 1984 - 2 StR 322/84, BGHSt 33, 4, 6 f.\n",
    "# OLG Hamm, Beschluss vom 9. September 1985 - 1 Ws 83/85, NStZ 1986, 278, 279;\n",
    "# vgl. BGH, Urteil vom 11. Juni 1980 - 3 StR 9/80, BGHSt 29, 288"
   ]
  },
  {
   "cell_type": "code",
   "execution_count": 55,
   "metadata": {},
   "outputs": [
    {
     "data": {
      "text/plain": [
       "[['BGH, Beschluss vom 12. November 2004 - 2 StR 367/04, BGHSt 49, 347, 352 ff.',\n",
       "  2399,\n",
       "  2474],\n",
       " ['BGH, Urteil vom 21. November 1969 - 3 StR 249/68, BGHSt 23, 176, 185',\n",
       "  2572,\n",
       "  2640],\n",
       " ['BGH, Urteil vom 12. Februar 1998 - 1 StR 588/97, BGHSt 44, 26', 3120, 3181],\n",
       " ['BGH, Urteil vom 13. Dezember 1967 - 2 StR 548/67, BGHSt 22, 21',\n",
       "  3639,\n",
       "  3701],\n",
       " ['BGH, Urteil vom 23. Januar 2003 - 4 StR 412/02, NStZ 2004, 294',\n",
       "  3867,\n",
       "  3929],\n",
       " ['BGH, Beschluss vom 13. September 2011 - 3 StR 262/11, StV 2012, 339, 340',\n",
       "  7377,\n",
       "  7449],\n",
       " ['BGH, Beschluss vom 17. Dezember 1992 - StB 21- 25/92, BGHR StGB § 129 Gruppenwille 2',\n",
       "  7830,\n",
       "  7913],\n",
       " ['BGH, Urteil vom 3. Dezember 2009 - 3 StR 277/09, BGHSt 54, 216, 229',\n",
       "  8267,\n",
       "  8334],\n",
       " ['BGH, Beschluss vom 2. Dezember 2008 - 3 StR 203/08, NStZ 2009, 692, 693',\n",
       "  15240,\n",
       "  15311],\n",
       " ['BGH, Beschluss vom 26. März 1982 - 2 StR 700/81, BGHSt 31, 29',\n",
       "  15325,\n",
       "  15386],\n",
       " ['BGH, Urteil vom 11. Juni 1980 - 3 StR 9/80, BGHSt 29, 288, 291 f.',\n",
       "  15464,\n",
       "  15529],\n",
       " ['BGH, Urteil vom 29. August 1952 - 4 StR 963/51, BGHSt 3, 165',\n",
       "  15541,\n",
       "  15601],\n",
       " ['BGH, Beschluss vom 7. Dezember 1979 - 3 StR 299/79, juris', 16971, 17028],\n",
       " ['Urteil vom 11. Juni 1980 - 3 StR 9/80, BGHSt 29, 288, 290 f.',\n",
       "  17037,\n",
       "  17097],\n",
       " ['Urteil vom 16. April 1980 - 3 StR 64/80, MDR 1980, 684, 685', 17099, 17158],\n",
       " ['Beschluss vom 8. Mai 1980 - 3 StR 170/80, juris', 17160, 17207],\n",
       " ['Urteil vom 8. September 1982 - 3 StR 241/82, NStZ 1982, 517, 518',\n",
       "  17215,\n",
       "  17279],\n",
       " ['Beschluss vom 23. Dezember 2009 - StB 51/09, NStZ 2010, 445, 446 f.',\n",
       "  17281,\n",
       "  17348],\n",
       " ['OLG Karlsruhe, Beschluss vom 24. Juni 1977 - 3 Ws 99/77, JR 1978, 34',\n",
       "  18087,\n",
       "  18155],\n",
       " ['Gössel, JR 1982, 111, 112', 18157, 18182],\n",
       " ['Werle, JR 1979, 93, 96', 18465, 18487],\n",
       " ['BGH, Beschluss vom 7. Dezember 1979 - 3 StR 299/79, juris', 18943, 19000],\n",
       " ['BVerfG, Beschluss vom 8. Januar 1981 - 2 BvR 873/80, NJW 1981, 1433, 1435',\n",
       "  19799,\n",
       "  19872],\n",
       " ['BGH, Beschluss vom 15. Februar 2007 - StB 19/06, NStZ 2007, 401',\n",
       "  19874,\n",
       "  19937],\n",
       " ['BGH, Beschluss vom 7. August 1996 - 3 StR 318/96, BGHSt 42, 215, 216',\n",
       "  20447,\n",
       "  20515],\n",
       " ['BGH, Urteil vom 11. Juni 1980 - 3 StR 9/80, BGHSt 29, 288, 294',\n",
       "  20984,\n",
       "  21046],\n",
       " ['BGH, Beschluss vom 22. Oktober 1979 - StB 52/79, BGHSt 29, 114, 123',\n",
       "  21283,\n",
       "  21350],\n",
       " ['BGH, Beschluss vom 30. März 2001 - StB 4- 5/01, NStZ 2002, 328, 330',\n",
       "  21785,\n",
       "  21851],\n",
       " ['BGH, Beschluss vom 7. August 1996 - 3 StR 318/96, BGHSt 42, 215, 217',\n",
       "  23213,\n",
       "  23281],\n",
       " ['BGH, Urteil vom 11. Juni 1980 - 3 StR 9/80, BGHSt 29, 288, 290 f.',\n",
       "  24029,\n",
       "  24094],\n",
       " ['BGH, Beschlüsse vom 24. August 1988 - 2 StR 432/88, BGHR StGB § 52 Abs. 1 Klammerwirkung 2',\n",
       "  24238,\n",
       "  24328],\n",
       " ['vom 6. September 1988 - 1 StR 481/88, BGHR StGB § 52 Abs. 1 Klammerwirkung 3',\n",
       "  24330,\n",
       "  24406],\n",
       " ['vom 6. September 1989 - 2 StR 353/89, BGHR StGB § 52 Abs. 1 Klammerwirkung 6',\n",
       "  24408,\n",
       "  24484],\n",
       " ['BGH, Urteil vom 11. Juni 1980 - 3 StR 9/80, BGHSt 29, 288, 291 f.',\n",
       "  24625,\n",
       "  24690],\n",
       " ['Beschluss vom 11. August 2004 - 3 StR 202/04, NStZ 2005, 46, 47',\n",
       "  24692,\n",
       "  24755],\n",
       " ['BGH, Urteil vom 11. Juni 1980 - 3 StR 9/80, BGHSt 29, 288, 292 ff.',\n",
       "  25892,\n",
       "  25958],\n",
       " ['BGH, Urteile vom 16. März 1989 - 4 StR 60/89, BGHSt 36, 151, 153',\n",
       "  27123,\n",
       "  27187],\n",
       " ['vom 15. April 1998 - 2 StR 670/97, NStZ-RR 1999, 8', 27189, 27239],\n",
       " ['Beschluss vom 18. Februar 1999 - 5 StR 45/99, NStZ 1999, 347',\n",
       "  27241,\n",
       "  27301],\n",
       " ['Beschluss vom 30. Juni 1982 - 3 StR 44/82', 27313, 27354],\n",
       " ['BGH, Beschluss vom 7. Februar 1996 - 5 StR 9/96, BGHR WaffG § 53 Abs. 1 Konkurrenzen 3',\n",
       "  27488,\n",
       "  27574],\n",
       " ['BGH, Urteil vom 16. März 1989 - 4 StR 60/89, BGHSt 36, 151, 153',\n",
       "  27598,\n",
       "  27661],\n",
       " ['BGH, Urteil vom 16. März 1989 - 4 StR 60/89, BGHSt 36, 151, 154',\n",
       "  28328,\n",
       "  28391],\n",
       " ['BGH, Urteil vom 11. Juni 1980 - 3 StR 9/80, BGHSt 29, 288, 292 ff.',\n",
       "  28575,\n",
       "  28641],\n",
       " ['BGH, Urteil vom 16. März 1989 - 4 StR 60/89, BGHSt 36, 151', 28685, 28743],\n",
       " ['OLG Hamm, Beschluss vom 9. September 1985 - 1 Ws 83/85, JR 1986, 203',\n",
       "  28766,\n",
       "  28834],\n",
       " ['BGH, Urteil vom 16. März 1989 - 4 StR 60/89, BGHSt 36, 151, 153',\n",
       "  29559,\n",
       "  29622],\n",
       " ['BGH, Urteil vom 18. Juli 1984 - 2 StR 322/84, BGHSt 33, 4, 6 f.',\n",
       "  35391,\n",
       "  35454],\n",
       " ['OLG Hamm, Beschluss vom 9. September 1985 - 1 Ws 83/85, NStZ 1986, 278, 279',\n",
       "  36364,\n",
       "  36439],\n",
       " ['BGH, Urteil vom 11. Juni 1980 - 3 StR 9/80, BGHSt 29, 288', 39201, 39258]]"
      ]
     },
     "execution_count": 55,
     "metadata": {},
     "output_type": "execute_result"
    }
   ],
   "source": [
    "data_sample_20.citations_gruende.iloc[15]\n",
    "\n",
    "# --> 2 false positives"
   ]
  },
  {
   "cell_type": "markdown",
   "metadata": {},
   "source": [
    "Sample 17:"
   ]
  },
  {
   "cell_type": "code",
   "execution_count": 34,
   "metadata": {},
   "outputs": [
    {
     "data": {
      "text/plain": [
       "'Das Landgericht hat den Angeklagten wegen schweren Raubes in Tateinheit mit Amtsanmaßung, Urkundenfälschung, Missbrauch von Amtsabzeichen und einem \"Verstoß gegen das Waffengesetz“ sowie wegen Fahrens ohne Fahrerlaubnis in Tateinheit mit Urkundenfälschung unter Einbeziehung der Einzelstrafen aus einem Strafbefehl des Amtsgerichts Essen nach Auflösung der dortigen Gesamtgeldstrafe zu einer Gesamtfreiheitsstrafe von zwei Jahren und sechs Monaten verurteilt. Mit seiner Revision rügt der Angeklagte die Verletzung formellen und materiellen Rechts. Sein Rechtsmittel hat den aus der Beschlussformel ersichtlichen teilweisen Erfolg; im Übrigen ist es unbegründet im Sinne des § 349 Abs. 2 StPO. I. Das Landgericht hat im Wesentlichen Folgendes festgestellt: Nachdem die Zeugin S. in Gegenwart des Angeklagten Ende Mai/Anfang Juni 2009 davon berichtet hatte, der Geschädigte habe sie während einer mit ihr geführten kurzen Beziehung sexuell missbraucht, fasste der Angeklagte, der ebenso wie seine anwesenden Freunde dieser Schilderung Glauben schenkte, den Plan, den Geschädigten gemeinsam mit einer zweiten Person zum Zwecke der Bestrafung aufzusuchen und ihn zu verprügeln. Zur Vorbereitung der Tat entwarf der Angeklagte am Computer einen \"Durchsuchungsbeschluss\", in dem – sinngemäß und in quasiamtlicher Diktion – die Durchsuchung der Wohnung des Geschädigten wegen des Verdachts verschiedener Straftaten, u.a. wegen \"sexueller Belästigung“, \"angeordnet\" wird. Das Schriftstück war mit einem aus dem Internet herunter geladenen Bundeswehrkreuz versehen und mit dem vom Angeklagten herrührenden handschriftlichen Namenszug \"Hauptmann M.\" versehen. Es enthielt am Ende ein wiederum aus dem Internet herunter geladenes Bundeswehr-Kreuz, den Schriftzug \"Bundeswehr\", einen Bundesadler sowie einen schwarz-rot-goldenen Farbstreifen mit den Worten \"Bundesministerium der Verteidigung\". Der Angeklagte fertigte zusätzlich ein weiteres Schriftstück, in dem die \"Vollstreckung des Vollzugsbefehls\" erteilt und gegebenenfalls die \"sofortige Festnahme\" des Geschädigten \"gestattet\" wird. Dieses Schreiben endet mit dem handschriftlichen Namenszug \"Oberst Sch.\" und enthält ähnliche militärische und nationale Hoheitszeichen wie der \"Durchsuchungsbeschluss\". Am Abend des 13. Juni 2009 begaben sich der Angeklagte und sein Mittäter, der frühere Mitangeklagte P., in Begleitung mehrerer Freunde mit dem Pkw der Zeugin B., der Lebensgefährtin des Angeklagten, und einem weiteren Fahrzeug in die Nähe der Wohnung des Geschädigten. Entsprechend dem im Wesentlichen vom Angeklagten ausgearbeiteten Plan legten er und P., obwohl beide der Bundeswehr nicht angehörten, \"Feldjägeruniformen“ aus dem Besitz des Angeklagten an. Der Angeklagte streifte zusätzlich eine Armbinde mit den Buchstaben \"MP“ (Militärpolizei) über einen Oberarm. Mit dem Pkw der Zeugin B., den sie zuvor mit von einem Schrottfahrzeug abmontierten Kennzeichen versehen hatten, rollten beide das letzte Wegstück im Leerlauf zum Wohnhaus des Geschädigten; ihre Begleiter blieben zurück. Ausgerüstet waren P. und der Angeklagte mit zwei vom Angeklagten beschafften Gaspistolen, die sie in Halftern mit sich führten. Die Pistole des Angeklagten war nicht geladen. Nachdem sich der Angeklagte und P. Zutritt zur Wohnung verschafft und festgestellt hatten, dass sich entgegen ihrer Erwartung nicht nur der Geschädigte, sondern drei weitere Personen in der Wohnung aufhielten, gaben sie ihren Plan auf, den Geschädigten zu verprügeln. Der Angeklagte überreichte dem Geschädigten die beiden von ihm angefertigten Schriftstücke, P. nahm die Waffe aus seinem Halfter und richtete sie auf den Geschädigten sowie zwei der Anwesenden. Er (P.) lud die Pistole durch, wobei eine Patrone heraus fiel, die er vom Boden aufhob und einsteckte, woraufhin er sich in die Küche begab, die Tür hinter sich schloss und den Raum lautstark durchsuchte. Der inzwischen verängstigte Geschädigte las die ihm überreichten Schreiben. Er hielt den Angeklagten und P. tatsächlich für Feldjäger der Bundeswehr und vermutete einen Zusammenhang zwischen deren Erscheinen und den auch ihm bekannten Vorwürfen der Zeugin S. Der Angeklagte ließ den Geschädigten das zweite Schreiben unterzeichnen, notierte die Personalien der weiteren Anwesenden und fragte den Geschädigten, ob dieser Waffen oder Betäubungsmittel in Besitz habe. Daraufhin nahm er aus einer vom Geschädigten geöffneten Schublade ein Messer im Wert von etwa 10 Euro mit dem Bemerken an sich, er müsse dieses \"konfiszieren\". Außerdem steckte er eine Tüte mit Marihuana ein, die einem der Wohnungsinsassen gehörte. Nach etwa 30 Minuten verließen er und P. die Wohnung. Beide bestiegen den Pkw der Zeugin B., den der Angeklagte, der nicht im Besitz einer Fahrerlaubnis war, die Straße hinauffuhr, wo die Zeugin B. zustieg und das Steuer übernahm. Auf Bitten der Zeugin B. gab der Angeklagte das Marihuana an diese weiter; das \"konfiszierte\" Messer, das P. nicht haben wollte, warf der Angeklagte etwa drei bis vier Wochen nach der Tat weg. II. 1. Soweit das Tatgeschehen bis zum Verlassen der Wohnung des Geschädigten betroffen ist, begegnet zunächst der Schuldspruch wegen „schweren Raubes“ durchgreifenden rechtlichen Bedenken. a) Zwar wird das Tatbestandsmerkmal der Wegnahme nach der Rechtsprechung des Bundesgerichtshofs nicht dadurch ausgeschlossen, dass der Täter - wie im vorliegenden Fall der Angeklagte - durch die falsche Behauptung einer amtlichen Beschlagnahme die Herausgabe einer fremden beweglichen Sache fordert und sie erreicht, selbst wenn das Opfer die Wegnahme nicht nur duldet, sondern die Sache dem Täter auf dessen Verlangen aushändigt. In einem solchen Fall ist für einen eigenen, freien Willensentschluss des Opfers, das sich dem Zwang fügt, kein Raum (vgl. dazu BGH, Urteil vom 16. Januar 1963 - 2 StR 591/62, BGHSt 18, 221, 223 m.w.N.). b) Im Ergebnis zu Recht rügt die Revision jedoch die unzureichende Darlegung der für den Tatbestand des Raubes im Sinne des § 249 StGB auch erforderlichen finalen Verknüpfung zwischen dem eingesetzten Nötigungsmittel und der Wegnahme (vgl. dazu Senatsurteil vom 16. Januar 2003 - 4 StR 422/02, NStZ 2003, 431 m.w.N.). Die Anwendung von Gewalt oder Drohung darf nicht nur gelegentlich der Entwendung einer fremden Sache erfolgen, sondern sie muss darauf gerichtet sein, den Gewahrsamsbruch durch Ausschaltung eines erwarteten oder geleisteten Widerstandes zu ermöglichen oder wenigstens zu erleichtern (BGH, Beschluss vom 17. Juli 2002 - 2 StR 225/02, NStZ-RR 2002, 304; MünchKommStGB/Sander § 249 Rn. 24). Zwar trug der Angeklagte die von ihm mitgeführte Waffe nicht nur offen in einem Holster am Oberschenkel, sondern hatte während der weiteren Tatausführung \"fast ständig\" seine Hand auf die Waffe gelegt, woraus sich eine zumindest konkludente Drohung ergeben könnte, die Waffe nötigenfalls auch einzusetzen. Zu dem insoweit allein maßgeblichen Willen und der Vorstellung des Angeklagten zum Zeitpunkt der Tatausführung (vgl. dazu Senatsurteil vom 19. April 1963 - 4 StR 92/63, BGHSt 18, 329, 331; Sander aaO) verhalten sich die Urteilsgründe jedoch nicht. c) Die Strafkammer hat ferner die Voraussetzungen des § 250 Abs. 2 StGB, dessen Strafrahmen sie ihrer Entscheidung – ohne nähere Bezeichnung der Tatvariante, die sich auch aus der rechtlichen Würdigung und der Liste der angewendeten Vorschriften nicht erschließt – zu Grunde gelegt hat, nicht ausreichend dargetan. Waffen im Sinne des hier in Betracht kommenden § 250 Abs. 2 Nr. 1 StGB sind (einsatzbereite) Gas- und Schreckschusswaffen nur dann, wenn nach deren Bauart der Explosionsdruck beim Abfeuern der Munition nach vorne durch den Lauf austritt (vgl. BGH, Beschluss vom 4. Februar 2003 – GSSt 2/02, BGHSt 48, 197, 201; Beschluss vom 15. Februar 2011 – 3 StR 8/11; SSW-StGB/Kudlich § 244 Rn. 7 m.w.N.). Hierzu hat der Tatrichter regelmäßig genaue Feststellungen zu treffen, denn der Austritt des Explosionsdrucks nach vorne mag zwar üblich sein, kann aber nicht als selbstverständlich vorausgesetzt werden (BGH, Beschluss vom 9. Februar 2010 – 3 StR 17/10, NStZ 2010, 390; Beschluss vom 15. Februar 2011 – 3 StR 8/11). Die dazu im angefochtenen Urteil getroffenen Feststellungen erweisen sich als nicht ausreichend. Zwar steht der Umstand, dass der Angeklagte selbst nur eine ungeladene Gaspistole verwendete, einer mittäterschaftlichen Zurechnung (§ 25 Abs. 2 StGB) hinsichtlich der von P. eingesetzten, \"geladenen“ Gaspistole nicht entgegen, zumal der Angeklagte beide beschafft und den Tatplan im Wesentlichen selbst ausgearbeitet hatte. Zum konkreten Ladezustand und zur Funktionsfähigkeit der Pistole des P. ist aber nichts weiter festgestellt. 2. Die – in Tateinheit mit schwerem Raub erfolgte – Verurteilung wegen Missbrauchs von Amtsabzeichen ist ebenfalls nicht frei von Rechtsfehlern. a) Zum einen wird die revisionsgerichtliche Überprüfung durch eine nicht eindeutige rechtliche Zuordnung des vom Landgericht festgestellten Lebenssachverhalts zu dem als erfüllt angesehenen Straftatbestand erschwert. Der Angeklagte trug während der Tat unbefugt eine \"Feldjägeruniform\", weshalb der Straftatbestand des Missbrauchs von (inländischen) Uniformen im Sinne des § 132a Abs. 1 Nr. 4 1. Variante StGB erfüllt sein kann. In Betracht kommt ferner die – ebenfalls unbefugte – Verwendung der Armbinde mit der Aufschrift \"MP“ als Missbrauch von Amtsabzeichen im Sinne des § 132a Abs. 1 Nr. 4 4. Variante StGB. b) Zum anderen ist der Tatbestand des § 132a StGB in beiden Tatvarianten nur erfüllt, wenn es sich bei der jeweiligen Uniform bzw. dem Amtsabzeichen um solche handelt, die auf Grund öffentlich-rechtlicher Bestimmungen eingeführt sind (vgl. dazu eingehend LK-StGB/Krauß, 12. Aufl. § 132a Rn. 50 ff. m.w.N.). Amtsabzeichen werden zudem nur dann von der Strafvorschrift erfasst, wenn sie, ohne Bestandteil der Amtskleidung zu sein, an vorschriftsmäßigen Uniformen angebracht sind und den Träger als Inhaber eines bestimmten Amtes kennzeichnen (BGH, Beschluss vom 23. April 1992 – 1 StR 58/92, NStZ 1992, 490; Krauß aaO Rn. 52; MünchKommStGB/Hohmann § 132a Rn. 16, jeweils m.w.N.). Dazu, ob die vom Angeklagten und seinem Mittäter getragenen Uniformen und die vom Angeklagten zusätzlich verwendete Armbinde mit der Aufschrift \"MP“ tatsächlich zu den durch öffentlich-rechtliche Vorschriften eingeführten Uniformen bzw. Abzeichen gehören oder solchen zum Verwechseln ähnlich sind (§ 132a Abs. 2 StGB), enthalten die Urteilsgründe keine näheren Feststellungen (vgl. dazu Art. 2 der gemäß § 4 Abs. 3 SG erlassene Anordnung des Bundespräsidenten über die Dienstgradbezeichnungen und die Uniform der Soldaten (BPräsUnifAnO) vom 14. Juli 1978 (BGBl. I S. 1067; i.d.F. vom 31. Mai 1996, VMBl. 1996 S. 260). 3. Da das Landgericht insoweit zu Recht von Tateinheit ausgegangen ist, kann auch die für sich genommen rechtsfehlerfreie Verurteilung wegen Urkundenfälschung durch Anfertigung der beiden Schreiben durch den Angeklagten nicht aufrecht erhalten bleiben (vgl. Meyer-Goßner StPO 53. Aufl. § 353 Rn. 7a). 4. Aus demselben Grund erstreckt sich die Aufhebung auch auf die tateinheitliche Verurteilung wegen eines Vergehens gemäß § 132 StGB. Zudem hält der Schuldspruch wegen Amtsanmaßung lediglich im Ergebnis rechtlicher Nachprüfung stand. a) Die Tatmodalitäten des § 132 StGB setzen voraus, dass der Täter entweder als Inhaber eines öffentlichen Amtes auftritt und eine Handlung vornimmt, die den Anschein hoheitlichen Handelns erweckt (§ 132 1. Alternative StGB) oder dass er eine Handlung vornimmt, welche nur kraft eines öffentlichen Amtes vorgenommen werden darf (§ 132 2. Alternative StGB; vgl. Senatsurteil vom 9. Dezember 1993 – 4 StR 416/93, BGHSt 40, 8, 11 f.). Dabei ist das Tatbestandsmerkmal \"öffentliches Amt“ nach den Kriterien des Staats- und Verwaltungsrechts zu bestimmen und sowohl im statusrechtlichen als auch im funktionellen Sinne zu verstehen (zur Amtsträgereigenschaft Senatsurteil vom 10. März 1983 – 4 StR 375/82, BGHSt 31, 264, 267 f.; MünchKommStGB/Radtke § 11 Rn. 16 f.; Hohmann aaO, § 132 Rn. 7). Die Ausübung militärischer Hoheitsbefugnisse und die Wahrnehmung militärischer Aufgaben sind deshalb regelmäßig nicht dem Begriff des öffentlichen Amtes im Sinne des § 132 StGB zuzuordnen; Soldaten sind keine Amtsträger im strafrechtlichen Sinne (vgl. SSW-StGB/Satzger § 11 Rn. 18; Fischer StGB 58. Aufl. § 11 Rn. 16). Dies ergibt sich – im Umkehrschluss – auch aus § 48 WStG, durch den Soldaten der Bundeswehr lediglich für einen abschließenden Katalog von (Amts-)delikten den Amtsträgern im Sinne des § 11 Abs. 1 Nr. 2 StGB gleich gestellt werden. Bei der Anmaßung militärischer Befugnisse handelt es sich daher, soweit die Bundeswehr betroffen ist (anders im Fall der Anmaßung solcher Befugnisse von in Deutschland stationierten NATO-Truppen; vgl. dazu Hohmann aaO Rn. 9), grundsätzlich auch nicht um die Anmaßung eines öffentlichen Amtes im Sinne dieser Strafvorschrift (LK-StGB/Krauß, 12. Aufl. § 132 Rn. 12; Fischer aaO § 132 Rn. 5). Während für Soldaten und für die bei der Bundeswehr beschäftigten Zivilpersonen im Sinne von § 1 Abs. 2 WStG in solchen Fällen ausschließlich eine Strafbarkeit nach § 38 WStG in Betracht kommt, ist die Anmaßung militärischer Befugnisse durch sonstige Zivilpersonen regelmäßig weder von § 132 StGB noch von § 38 WStG erfasst (Krauß, Hohmann und Fischer, jeweils aaO; ebenso SSW-StGB/Jeßberger § 132 Rn. 5). Danach hätte sich der Angeklagte im vorliegenden Fall nach keiner der beiden Vorschriften strafbar gemacht. b) Handelt der Täter aber nicht nur unter Vortäuschung seiner Zugehörigkeit zu den Soldaten oder dem zivilen Personal der Bundeswehr, sondern beansprucht er zusätzlich \"Amtsbefugnisse“ als Feldjäger, kommt hingegen eine Strafbarkeit gemäß § 132 2. Alternative StGB in Betracht. aa) Gemäß § 1 Abs. 1 des Gesetzes über die Anwendung unmittelbaren Zwanges und die Ausübung besonderer Befugnisse durch Soldaten der Bundeswehr und verbündeter Streitkräfte sowie zivile Wachpersonen (UZwGBw) vom 12. August 1965 (BGBl. I 1965 S. 796, zuletzt geändert durch Art. 12 des Gesetzes vom 21. Dezember 2007, BGBl. I 3198) sind Soldaten der Bundeswehr, denen militärische Wach- oder Sicherheitsaufgaben übertragen sind, befugt, in Erfüllung dieser Aufgaben Personen anzuhalten, zu überprüfen, vorläufig festzunehmen und zu durchsuchen sowie Sachen sicherzustellen und zu beschlagnahmen und unmittelbaren Zwang gegen Personen und Sachen anzuwenden. Den Soldaten mit Sicherheitsaufgaben im Sinne dieses Gesetzes, zu denen nach Kapitel 1 Nr. I. 2 (1. Spiegelstrich) der Zentralen Dienstvorschrift 14/9 (ZDv 14/9) des Bundesministeriums der Verteidigung auch die im Feldjägerdienst stehenden Soldaten der Bundeswehr gehören, werden damit allgemeine polizeiliche Befugnisse auch gegenüber Privatpersonen verliehen (vgl. BVerwG, Urteil vom 12. Januar 1990 – 7 C 88/88, BVerwGE 84, 247, Tz. 14 ff. zur Einrichtung eines militärischen Sicherheitsbereichs im Sinne von § 2 Abs. 2 Satz 2 UZwGBw durch Sperrung eines nichtmilitärischen Ortes; i.E. ebenso Fischer aaO; vgl. dazu auch Heinen, Rechtsgrundlagen Feldjägerdienst, 9. Aufl. 2010, S. 14 ff.). bb) Nach den vom Landgericht getroffenen Feststellungen liegen auch die übrigen Voraussetzungen von § 132 2. Alternative StGB vor. Wie in § 132 1. Alternative StGB wird dafür zunächst vorausgesetzt, dass sich das Handeln des Täters nach außen als Wahrnehmung öffentlicher Funktionen darstellt und objektiv mit einer hoheitlichen Maßnahme verwechselt werden könnte (Senatsurteil vom 9. Dezember 1993 aaO; Jeßberger aaO Rn. 9). Im Unterschied zu der ersten Tatmodalität wird der Anschein hoheitlichen Handelns in der zweiten Alternative aber durch die Handlung selbst begründet, nicht durch das Auftreten des Täters als Amtsträger. In Betracht kommen hier insbesondere Eingriffe in die Rechte Einzelner, etwa eine Verhaftung, Durchsuchung oder Beschlagnahme (RG, Urteil vom 25. Juni 1925 – II 166/25, RGSt 59, 291, 298; Hohmann aaO Rn. 18). Im Hinblick auf den Zweck der Strafvorschrift, die das Vertrauen der Allgemeinheit in die Autorität staatlichen Handelns schützen soll, erfüllt eine solche oder eine ähnliche Handlung nur dann nicht den Tatbestand des § 132 2. Alternative StGB, wenn sich das Verhalten des Täters so weit von den rechtlichen Vorgaben einer Amtshandlung entfernt, dass eine Verwechslung ausgeschlossen ist (vgl. dazu OLG Stuttgart, Beschluss vom 25. April 2006 – 4 Ws 98/06, NStZ 2007, 527; Jeßberger aaO Rn. 10): Dabei ist auf die Sicht eines unbefangenen Beobachters abzustellen (vgl. Senatsurteil vom 9. Dezember 1993 aaO, S. 13; Krauß aaO Rn. 30). Danach ist die Verurteilung wegen Amtsanmaßung hier im Ergebnis zu Recht erfolgt. Der Angeklagte hat mit seinem Mittäter Handlungen vorgenommen, die nur in Ausübung hoheitlicher Funktionen vorgenommen werden durften. Er hat unter Vorlage zweier gefälschter Schriftstücke mit quasiamtlichem Inhalt bei dem Geschädigten, der das Geschehen für authentisch hielt und beiden Tätern die Feldjäger-Eigenschaft glaubte, eine \"Durchsuchung“ sowie eine \"Beschlagnahme“ durchgeführt und ist dabei in vorgetäuschter amtlicher Funktion als Feldjäger aufgetreten, also als vermeintlicher Angehöriger der Polizei der Bundeswehr. Ungeachtet formaler Mängel der von ihm gefertigten Schriftstücke entfernte sich sein Vorgehen unter Berücksichtigung seine Uniformierung und seines einen amtlichen Anschein erweckenden Gesamtverhaltens nicht so weit von den rechtlichen Vorgaben einer Amtshandlung, dass eine Verwechslung vom Standpunkt eines unbefangenen Betrachters ausgeschlossen war. III. Soweit das Landgericht den Angeklagten darüber hinaus wegen Fahrens ohne Fahrerlaubnis in Tateinheit mit Urkundenfälschung zu einer (weiteren) Einzelgeldstrafe verurteilt hat, holt der Senat die unterbliebene Bestimmung der Tagessatzhöhe nach und legt sie entsprechend dem Antrag des Generalbundesanwalts auf einen Euro fest. Dass die Geldstrafe in eine zu bildende Gesamtfreiheitsstrafe einzubeziehen war, lässt die Notwendigkeit einer solchen Festsetzung nicht entfallen (Senatsbeschluss vom 14. Mai 1981 – 4 StR 599/80, BGHSt 30, 93, und vom 29. August 2006 – 4 StR 231/06). IV. Für die neue Verhandlung und Entscheidung weist der Senat ergänzend auf Folgendes hin: Sollte die neue Hauptverhandlung zu Feststellungen führen, die die Annahme einer finalen Verknüpfung zwischen dem eingesetzten Nötigungsmittel und der Wegnahme rechtfertigen, wird das Vorliegen von Zueignungsabsicht eingehend geprüft werden müssen. Für den Fall, dass die Voraussetzungen des § 250 Abs. 2 StGB erfüllt sein sollten, wäre der Angeklagte insoweit wegen \"besonders schweren Raubes“ zu verurteilen (st. Rspr.; vgl. nur BGH, Beschluss vom 3. September 2009 - 3 StR 297/09, NStZ 2010, 101; BGH, Beschluss vom 2. Februar 2011 - 2 StR 622/10). Bei erneuter Verurteilung des Angeklagten wegen eines Verstoßes gegen das WaffG werden die Anforderungen an die rechtliche Bezeichnung der Tat (§ 260 Abs. 4 Satz 1 StPO) in solchen Fällen zu berücksichtigen sein. Die Formulierung \"wegen Verstoßes gegen das Waffengesetz“ genügt regelmäßig nicht (vgl. Senatsbeschluss vom 16. Januar 2007 – 4 StR 574/06, NStZ 2007, 352).'"
      ]
     },
     "execution_count": 34,
     "metadata": {},
     "output_type": "execute_result"
    }
   ],
   "source": [
    "data_sample_20.gruende.iloc[16]\n",
    "\n",
    "# MANUELL GEFUNDEN:\n",
    "# vgl. dazu BGH, Urteil vom 16. Januar 1963 - 2 StR 591/62, BGHSt 18, 221, 223 m.w.N.\n",
    "# vgl. dazu Senatsurteil vom 16. Januar 2003 - 4 StR 422/02, NStZ 2003, 431 m.w.N.\n",
    "# BGH, Beschluss vom 17. Juli 2002 - 2 StR 225/02, NStZ-RR 2002, 304;\n",
    "# vgl. dazu Senatsurteil vom 19. April 1963 - 4 StR 92/63, BGHSt 18, 329, 331;\n",
    "# vgl. BGH, Beschluss vom 4. Februar 2003 – GSSt 2/02, BGHSt 48, 197, 201;\n",
    "# Beschluss vom 15. Februar 2011 – 3 StR 8/11;\n",
    "# BGH, Beschluss vom 9. Februar 2010 – 3 StR 17/10, NStZ 2010, 390;\n",
    "# Beschluss vom 15. Februar 2011 – 3 StR 8/11\n",
    "# BGH, Beschluss vom 23. April 1992 – 1 StR 58/92, NStZ 1992, 490;\n",
    "# vgl. Senatsurteil vom 9. Dezember 1993 – 4 StR 416/93, BGHSt 40, 8, 11 f.\n",
    "# Senatsurteil vom 10. März 1983 – 4 StR 375/82, BGHSt 31, 264, 267 f.;\n",
    "# vgl. BVerwG, Urteil vom 12. Januar 1990 – 7 C 88/88, BVerwGE 84, 247, Tz. 14 ff.\n",
    "# RG, Urteil vom 25. Juni 1925 – II 166/25, RGSt 59, 291, 298;\n",
    "# vgl. dazu OLG Stuttgart, Beschluss vom 25. April 2006 – 4 Ws 98/06, NStZ 2007, 527;\n",
    "# Senatsbeschluss vom 14. Mai 1981 – 4 StR 599/80, BGHSt 30, 93,\n",
    "# und vom 29. August 2006 – 4 StR 231/06\n",
    "# vgl. nur BGH, Beschluss vom 3. September 2009 - 3 StR 297/09, NStZ 2010, 101;\n",
    "# BGH, Beschluss vom 2. Februar 2011 - 2 StR 622/10\n",
    "# vgl. Senatsbeschluss vom 16. Januar 2007 – 4 StR 574/06, NStZ 2007, 352"
   ]
  },
  {
   "cell_type": "code",
   "execution_count": 56,
   "metadata": {},
   "outputs": [
    {
     "data": {
      "text/plain": [
       "[['BGH, Urteil vom 16. Januar 1963 - 2 StR 591/62, BGHSt 18, 221, 223',\n",
       "  5770,\n",
       "  5836],\n",
       " ['Senatsurteil vom 16. Januar 2003 - 4 StR 422/02, NStZ 2003, 431',\n",
       "  6091,\n",
       "  6154],\n",
       " ['BGH, Beschluss vom 17. Juli 2002 - 2 StR 225/02, NStZ-RR 2002, 304',\n",
       "  6448,\n",
       "  6514],\n",
       " ['Senatsurteil vom 19. April 1963 - 4 StR 92/63, BGHSt 18, 329, 331',\n",
       "  6980,\n",
       "  7045],\n",
       " ['BGH, Beschluss vom 4. Februar 2003 – GSSt 2/02, BGHSt 48, 197, 201',\n",
       "  7664,\n",
       "  7730],\n",
       " ['Beschluss vom 15. Februar 2011 – 3 StR 8/11', 7732, 7775],\n",
       " ['BGH, Beschluss vom 9. Februar 2010 – 3 StR 17/10, NStZ 2010, 390',\n",
       "  8019,\n",
       "  8083],\n",
       " ['Beschluss vom 15. Februar 2011 – 3 StR 8/11', 8085, 8128],\n",
       " ['BGH, Beschluss vom 23. April 1992 – 1 StR 58/92, NStZ 1992, 490',\n",
       "  9962,\n",
       "  10025],\n",
       " ['Senatsurteil vom 9. Dezember 1993 – 4 StR 416/93, BGHSt 40, 8, 11 f.',\n",
       "  11613,\n",
       "  11681],\n",
       " ['Senatsurteil vom 10. März 1983 – 4 StR 375/82, BGHSt 31, 264, 267 f.',\n",
       "  11906,\n",
       "  11974],\n",
       " ['BVerwG, Urteil vom 12. Januar 1990 – 7 C 88/88, BVerwGE 84, 247',\n",
       "  14795,\n",
       "  14858],\n",
       " ['RG, Urteil vom 25. Juni 1925 – II 166/25, RGSt 59, 291, 298', 15878, 15937],\n",
       " ['OLG Stuttgart, Beschluss vom 25. April 2006 – 4 Ws 98/06, NStZ 2007, 527',\n",
       "  16359,\n",
       "  16431],\n",
       " ['Senatsbeschluss vom 14. Mai 1981 – 4 StR 599/80, BGHSt 30, 93',\n",
       "  18041,\n",
       "  18102],\n",
       " ['vom 29. August 2006 – 4 StR 231/06', 18108, 18142],\n",
       " ['BGH, Beschluss vom 3. September 2009 - 3 StR 297/09, NStZ 2010, 101',\n",
       "  18667,\n",
       "  18734],\n",
       " ['BGH, Beschluss vom 2. Februar 2011 - 2 StR 622/10', 18736, 18785],\n",
       " ['Senatsbeschluss vom 16. Januar 2007 – 4 StR 574/06, NStZ 2007, 352',\n",
       "  19089,\n",
       "  19155]]"
      ]
     },
     "execution_count": 56,
     "metadata": {},
     "output_type": "execute_result"
    }
   ],
   "source": [
    "data_sample_20.citations_gruende.iloc[16]\n",
    "\n",
    "# 100%"
   ]
  },
  {
   "cell_type": "markdown",
   "metadata": {},
   "source": [
    "Sample 18:"
   ]
  },
  {
   "cell_type": "code",
   "execution_count": 35,
   "metadata": {},
   "outputs": [
    {
     "data": {
      "text/plain": [
       "'Das Landgericht hat den Angeklagten wegen schweren sexuellen Missbrauchs von Kindern zu einer Freiheitsstrafe von vier Jahren verurteilt, von der zwei Monate als vollstreckt gelten. Soweit dem Angeklagten 23 weitere Sexualstraftaten und zwei Fälle der versuchten Nötigung zum Nachteil der Nebenklägerin zur Last lagen, hat es den Angeklagten aus tatsächlichen Gründen freigesprochen. Die mit der Sachrüge geführte Revision der Staatsanwaltschaft richtet sich gegen den Teilfreispruch, den Strafausspruch und die Nichtanordnung der Sicherungsverwahrung. Der Angeklagte greift das Urteil mit seinem auf die Verletzung formellen und materiellen Rechts gestützten Rechtsmittel an, soweit er verurteilt worden ist. Die Revisionshauptverhandlung ist für den 25. September 2019 anberaumt. Der in anderer Sache im Maßregelvollzug untergebrachte Angeklagte hat mit Schriftsatz seines Verteidigers vom 5. August 2019 mitgeteilt, dass er an der Verhandlung teilzunehmen wünsche. Der Senat hält eine Vorführung des Angeklagten zur Revisionshauptverhandlung nicht für geboten. Die Revisionshauptverhandlung ist gemäß § 337 StPO auf die rechtliche Nachprüfung des angefochtenen Urteils beschränkt. Eine eigene Sachentscheidung des Senats gemäß § 354 Abs. 1, Abs. 1a StPO steht nach Aktenlage nicht in Rede. Besondere in der Person des Angeklagten liegende Umstände, die eine Vorführung erforderlich erscheinen lassen, sind nicht ersichtlich. Auch unter Berücksichtigung der Bedeutung des Falles für den Angeklagten erfordert weder das Gebot der Waffengleichheit noch das Recht auf effektive Verteidigung seine Vorführung, da der Verteidiger des Angeklagten in der Hauptverhandlung anwesend sein wird (vgl. BGH, Beschluss vom 2. April 2019 - 5 StR 685/18, NStZ 2019, 486; KK/StPO-Gericke, 8. Aufl., § 350 Rn. 10).'"
      ]
     },
     "execution_count": 35,
     "metadata": {},
     "output_type": "execute_result"
    }
   ],
   "source": [
    "data_sample_20.gruende.iloc[17]\n",
    "\n",
    "# MANUELL GEFUNDEN:\n",
    "# vgl. BGH, Beschluss vom 2. April 2019 - 5 StR 685/18, NStZ 2019, 486;"
   ]
  },
  {
   "cell_type": "code",
   "execution_count": 57,
   "metadata": {},
   "outputs": [
    {
     "data": {
      "text/plain": [
       "[['BGH, Beschluss vom 2. April 2019 - 5 StR 685/18, NStZ 2019, 486',\n",
       "  1692,\n",
       "  1755]]"
      ]
     },
     "execution_count": 57,
     "metadata": {},
     "output_type": "execute_result"
    }
   ],
   "source": [
    "data_sample_20.citations_gruende.iloc[17]\n",
    "\n",
    "# --> 100% korrekt"
   ]
  },
  {
   "cell_type": "markdown",
   "metadata": {},
   "source": [
    "Sample 19:"
   ]
  },
  {
   "cell_type": "code",
   "execution_count": 36,
   "metadata": {},
   "outputs": [
    {
     "data": {
      "text/plain": [
       "'Das Landgericht hat den Angeklagten wegen gefährlicher Körperverletzung in Tateinheit mit Nötigung, sowie Bedrohung und Betrugs in Tateinheit mit Diebstahl zu einer Gesamtfreiheitsstrafe von zwei Jahren und sechs Monaten verurteilt. Außerdem hat es seine Unterbringung in einer Entziehungsanstalt angeordnet und ein Messer eingezogen. Seine hiergegen gerichtete Revision hat den aus der Beschlussformel ersichtlichen Teilerfolg. Im Übrigen ist sie unbegründet im Sinne des § 349 Abs. 2 StPO. 1. Die Verurteilung wegen Bedrohung (II. Fall 3 der Urteilsgründe) hält revisionsrechtlicher Überprüfung nicht stand. a) Nach den Feststellungen geriet der Angeklagte mit dem Zeugen B. über ein Betäubungsmittelgeschäft in Streit. Es entwickelte sich eine verbale Auseinandersetzung, die darin mündete, dass der Angeklagte ein Küchenmesser in die Hand nahm und damit zweimal in Richtung des Bauches des Zeugen stach, der dem Angriff jedoch durch Sprünge nach hinten ausweichen konnte. Danach ließ der Angeklagte von dem Zeugen ab und steckte sein Messer ein. Die Strafkammer hat die Stiche als Androhung eines vorsätzlichen Tötungsdelikts gewertet, zu dem der Angeklagte „auch bereits unmittelbar angesetzt“ habe. Allerdings sei er hiervon strafbefreiend zurückgetreten (UA 25). b) Diese Feststellungen belegen nicht, dass der Angeklagte den Zeugen im Sinne des § 241 Abs. 1 StGB mit der Begehung eines Verbrechens bedroht hat. aa) Der Tatbestand der Bedrohung in § 241 Abs. 1 StGB setzt das ausdrücklich erklärte oder konkludent zum Ausdruck gebrachte Inaussichtstellen der Begehung eines Verbrechens gegen den Drohungsadressaten oder eine ihm nahestehende Person voraus (vgl. BGH, Beschluss vom 15. Januar 2015 – 4 StR 419/14, NStZ 2015, 394 Rn. 9 mwN). Ein Drohen kann daher nur als ein Hinweis auf etwas noch Zukünftiges begriffen werden. In der Verwirklichung eines Geschehens kann aber nicht zugleich seine Ankündigung liegen (vgl. BGH, Beschluss vom 8. Juni 1984 – 2 StR 293/84, NStZ 1984, 454; Eser/Eisele in Schönke/Schröder, StGB, 29. Aufl., § 241 Rn. 4). bb) Ein diesen Anforderungen entsprechendes Inaussichtstellen eines noch bevorstehenden Verbrechens lässt sich den Urteilsgründen nicht entnehmen. Die Strafkammer hat in den beiden Stichen, die nur aufgrund von Ausweichbewegungen des Zeugen folgenlos blieben, nicht lediglich Schreck- oder Warngesten, sondern einen Tötungsversuch und damit den Beginn des verbrecherischen Handelns gesehen. Dass diesen Angriffen eine Ankündigung vorausging, ergeben die Feststellungen nicht. Zwar kann auch in der Ausführung eines Verbrechens, wie etwa bei einer versuchten Erpressung, die Bedrohung mit einem (weiteren) Verbrechen liegen. Aber auch hierfür findet sich in den Feststellungen kein Beleg. 2. Die Sache bedarf daher insoweit neuer Verhandlung und Entscheidung. Der mit der Aufhebung verbundene Wegfall der Einzelstrafe von einem Jahr Freiheitsstrafe zieht die Aufhebung der Gesamtstrafe nach sich. Auch die Einziehung des verwendeten Messers kann danach nicht bestehen bleiben.'"
      ]
     },
     "execution_count": 36,
     "metadata": {},
     "output_type": "execute_result"
    }
   ],
   "source": [
    "data_sample_20.gruende.iloc[18]\n",
    "\n",
    "# MANUELL GEFUNDEN:\n",
    "# vgl. BGH, Beschluss vom 15. Januar 2015 – 4 StR 419/14, NStZ 2015, 394 Rn. 9 mwN\n",
    "# vgl. BGH, Beschluss vom 8. Juni 1984 – 2 StR 293/84, NStZ 1984, 454;"
   ]
  },
  {
   "cell_type": "code",
   "execution_count": 58,
   "metadata": {},
   "outputs": [
    {
     "data": {
      "text/plain": [
       "[['BGH, Beschluss vom 15. Januar 2015 – 4 StR 419/14, NStZ 2015, 394',\n",
       "  1669,\n",
       "  1734],\n",
       " ['BGH, Beschluss vom 8. Juni 1984 – 2 StR 293/84, NStZ 1984, 454',\n",
       "  1929,\n",
       "  1991]]"
      ]
     },
     "execution_count": 58,
     "metadata": {},
     "output_type": "execute_result"
    }
   ],
   "source": [
    "data_sample_20.citations_gruende.iloc[18]\n",
    "\n",
    "# --> 100% korrekt"
   ]
  },
  {
   "cell_type": "markdown",
   "metadata": {},
   "source": [
    "Sample 20:"
   ]
  },
  {
   "cell_type": "code",
   "execution_count": 9,
   "metadata": {},
   "outputs": [
    {
     "data": {
      "text/plain": [
       "''"
      ]
     },
     "execution_count": 9,
     "metadata": {},
     "output_type": "execute_result"
    }
   ],
   "source": [
    "data_sample_20.gruende.iloc[19]\n",
    "# --> leer"
   ]
  },
  {
   "cell_type": "code",
   "execution_count": 59,
   "metadata": {},
   "outputs": [],
   "source": [
    "data_sample_20.citations_gruende.iloc[19]"
   ]
  },
  {
   "cell_type": "markdown",
   "metadata": {},
   "source": [
    "### <span style='background:yellow'>Evaluationsergebnis:</span>\n",
    "<span style='background:yellow'>Aus insgesamt 18 Gründe-Texten (2 der Dokumente des aus 20 Dokumenten bestehenden zufälligen Samples enthalten keinen Gründe-Text und daher keine Zitate) wurden aus 15 die Rechtsprechungszitate zu 100% korrekt erkannt / extrahiert. Aus zwei Texten wurden false positives extrahiert, die mehrheitlich (außer in einem Fall) eigentlich nicht Rechtsprechungszitate, sondern Literaturzitate darstellen. (Sample 7: 3 fp, Sample 15: 2 fp). In lediglich einem Text wurde in einem Fall ein Rechtsprechungszitat nicht als solches identifiziert (Sample 9: 1 false negative).</span>"
   ]
  }
 ],
 "metadata": {
  "kernelspec": {
   "display_name": "Python 3",
   "language": "python",
   "name": "python3"
  },
  "language_info": {
   "codemirror_mode": {
    "name": "ipython",
    "version": 3
   },
   "file_extension": ".py",
   "mimetype": "text/x-python",
   "name": "python",
   "nbconvert_exporter": "python",
   "pygments_lexer": "ipython3",
   "version": "3.6.9"
  }
 },
 "nbformat": 4,
 "nbformat_minor": 4
}
