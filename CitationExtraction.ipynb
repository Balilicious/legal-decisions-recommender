{
 "cells": [
  {
   "cell_type": "code",
   "execution_count": 1,
   "metadata": {},
   "outputs": [],
   "source": [
    "import pandas as pd\n",
    "import numpy as np\n",
    "import re\n",
    "import matplotlib.pyplot as plt\n",
    "import seaborn as sns\n",
    "import datetime\n",
    "import collections, functools, operator \n",
    "\n",
    "# import script extract_rs_citations.py\n",
    "from scripts import extract_rs_citations"
   ]
  },
  {
   "cell_type": "code",
   "execution_count": 2,
   "metadata": {},
   "outputs": [],
   "source": [
    "data = pd.read_json('data/dataframes/df.json', orient='columns', encoding='utf-8')"
   ]
  },
  {
   "cell_type": "code",
   "execution_count": 3,
   "metadata": {},
   "outputs": [
    {
     "data": {
      "text/html": [
       "<div>\n",
       "<style scoped>\n",
       "    .dataframe tbody tr th:only-of-type {\n",
       "        vertical-align: middle;\n",
       "    }\n",
       "\n",
       "    .dataframe tbody tr th {\n",
       "        vertical-align: top;\n",
       "    }\n",
       "\n",
       "    .dataframe thead th {\n",
       "        text-align: right;\n",
       "    }\n",
       "</style>\n",
       "<table border=\"1\" class=\"dataframe\">\n",
       "  <thead>\n",
       "    <tr style=\"text-align: right;\">\n",
       "      <th></th>\n",
       "      <th>az</th>\n",
       "      <th>datum</th>\n",
       "      <th>doknr</th>\n",
       "      <th>gertyp</th>\n",
       "      <th>spruchkoerper</th>\n",
       "      <th>doktyp</th>\n",
       "      <th>titel</th>\n",
       "      <th>tenor</th>\n",
       "      <th>gruende</th>\n",
       "    </tr>\n",
       "  </thead>\n",
       "  <tbody>\n",
       "    <tr>\n",
       "      <th>5821</th>\n",
       "      <td>4 StR 282/17</td>\n",
       "      <td>1506556800000</td>\n",
       "      <td>KORE634632017</td>\n",
       "      <td>BGH</td>\n",
       "      <td>4. Strafsenat</td>\n",
       "      <td>Urteil</td>\n",
       "      <td>Rücktritt vom Versuch eines Tötungsdelikts: Fr...</td>\n",
       "      <td>1. Auf die Revisionen der Staatsanwaltschaft u...</td>\n",
       "      <td>Das Landgericht hat den Angeklagten wegen gefä...</td>\n",
       "    </tr>\n",
       "    <tr>\n",
       "      <th>5822</th>\n",
       "      <td>2 StR 217/19</td>\n",
       "      <td>1573603200000</td>\n",
       "      <td>KORE634712019</td>\n",
       "      <td>BGH</td>\n",
       "      <td>2. Strafsenat</td>\n",
       "      <td>Urteil</td>\n",
       "      <td>Jugendstrafverfahren: jugendspezifische Bestim...</td>\n",
       "      <td>Die Revision des Angeklagten gegen das Urteil ...</td>\n",
       "      <td>Das Landgericht hat den Angeklagten wegen Tots...</td>\n",
       "    </tr>\n",
       "    <tr>\n",
       "      <th>5823</th>\n",
       "      <td>2 StR 447/19</td>\n",
       "      <td>1572912000000</td>\n",
       "      <td>KORE634732019</td>\n",
       "      <td>BGH</td>\n",
       "      <td>2. Strafsenat</td>\n",
       "      <td>Beschluss</td>\n",
       "      <td>Berücksichtigung von Einziehung bei Strafzumes...</td>\n",
       "      <td>1. Auf die Revision des Angeklagten wird das U...</td>\n",
       "      <td>Das Landgericht hat den Angeklagten wegen uner...</td>\n",
       "    </tr>\n",
       "    <tr>\n",
       "      <th>5824</th>\n",
       "      <td>3 StR 249/19</td>\n",
       "      <td>1573603200000</td>\n",
       "      <td>KORE634742019</td>\n",
       "      <td>BGH</td>\n",
       "      <td>3. Strafsenat</td>\n",
       "      <td>Beschluss</td>\n",
       "      <td>Formulierung des Antrags auf Einziehung im obj...</td>\n",
       "      <td>1. Auf die Revision des Angeklagten wird das U...</td>\n",
       "      <td>Das Landgericht hat den Angeklagten der Gründu...</td>\n",
       "    </tr>\n",
       "    <tr>\n",
       "      <th>5825</th>\n",
       "      <td>4 StR 289/19</td>\n",
       "      <td>1565827200000</td>\n",
       "      <td>KORE634782019</td>\n",
       "      <td>BGH</td>\n",
       "      <td>4. Strafsenat</td>\n",
       "      <td>Beschluss</td>\n",
       "      <td>Schwerer sexueller Kindesmissbrauch: Erfordern...</td>\n",
       "      <td>Auf die Revision des Angeklagten wird das Urte...</td>\n",
       "      <td>Das Landgericht hat den Angeklagten wegen schw...</td>\n",
       "    </tr>\n",
       "  </tbody>\n",
       "</table>\n",
       "</div>"
      ],
      "text/plain": [
       "                az          datum          doknr gertyp  spruchkoerper  \\\n",
       "5821  4 StR 282/17  1506556800000  KORE634632017    BGH  4. Strafsenat   \n",
       "5822  2 StR 217/19  1573603200000  KORE634712019    BGH  2. Strafsenat   \n",
       "5823  2 StR 447/19  1572912000000  KORE634732019    BGH  2. Strafsenat   \n",
       "5824  3 StR 249/19  1573603200000  KORE634742019    BGH  3. Strafsenat   \n",
       "5825  4 StR 289/19  1565827200000  KORE634782019    BGH  4. Strafsenat   \n",
       "\n",
       "         doktyp                                              titel  \\\n",
       "5821     Urteil  Rücktritt vom Versuch eines Tötungsdelikts: Fr...   \n",
       "5822     Urteil  Jugendstrafverfahren: jugendspezifische Bestim...   \n",
       "5823  Beschluss  Berücksichtigung von Einziehung bei Strafzumes...   \n",
       "5824  Beschluss  Formulierung des Antrags auf Einziehung im obj...   \n",
       "5825  Beschluss  Schwerer sexueller Kindesmissbrauch: Erfordern...   \n",
       "\n",
       "                                                  tenor  \\\n",
       "5821  1. Auf die Revisionen der Staatsanwaltschaft u...   \n",
       "5822  Die Revision des Angeklagten gegen das Urteil ...   \n",
       "5823  1. Auf die Revision des Angeklagten wird das U...   \n",
       "5824  1. Auf die Revision des Angeklagten wird das U...   \n",
       "5825  Auf die Revision des Angeklagten wird das Urte...   \n",
       "\n",
       "                                                gruende  \n",
       "5821  Das Landgericht hat den Angeklagten wegen gefä...  \n",
       "5822  Das Landgericht hat den Angeklagten wegen Tots...  \n",
       "5823  Das Landgericht hat den Angeklagten wegen uner...  \n",
       "5824  Das Landgericht hat den Angeklagten der Gründu...  \n",
       "5825  Das Landgericht hat den Angeklagten wegen schw...  "
      ]
     },
     "execution_count": 3,
     "metadata": {},
     "output_type": "execute_result"
    }
   ],
   "source": [
    "data.tail()"
   ]
  },
  {
   "cell_type": "markdown",
   "metadata": {},
   "source": [
    "# Extrahieren"
   ]
  },
  {
   "cell_type": "code",
   "execution_count": 4,
   "metadata": {},
   "outputs": [],
   "source": [
    "# use script extract_rs_citations.py\n",
    "\n",
    "def extract_citations(text):\n",
    "    return extract_rs_citations.extract_annotations_from_text(text)    "
   ]
  },
  {
   "cell_type": "markdown",
   "metadata": {},
   "source": [
    "### Zitate in Gruende suchen"
   ]
  },
  {
   "cell_type": "code",
   "execution_count": 7,
   "metadata": {},
   "outputs": [],
   "source": [
    "data[\"citations_gruende\"] = data[\"gruende\"].apply(extract_citations)"
   ]
  },
  {
   "cell_type": "code",
   "execution_count": null,
   "metadata": {},
   "outputs": [],
   "source": [
    "# save dataframe with citations_gruende\n",
    "data.to_json(\"data/dataframes/df_citations_gruende.json\")"
   ]
  },
  {
   "cell_type": "code",
   "execution_count": 9,
   "metadata": {},
   "outputs": [],
   "source": [
    "# read df from json\n",
    "data_citations_gruende = pd.read_json('data/dataframes/df_citations_gruende.json', orient='columns', encoding='utf-8')"
   ]
  },
  {
   "cell_type": "code",
   "execution_count": 11,
   "metadata": {},
   "outputs": [
    {
     "data": {
      "text/plain": [
       "[['BGH, Beschluss vom 9. Oktober 2007 - 5 StR 374/07', 1749, 1798],\n",
       " ['BGH, Beschluss vom 26. August 2009 - 2 StR 302/09', 2232, 2281],\n",
       " ['BGH, Beschluss vom 25. Februar 2009 - 5 StR 22/09', 3122, 3171],\n",
       " ['Senatsbeschluss vom 8. April 2008 - 4 StR 21/08', 3580, 3627],\n",
       " ['Senatsbeschluss vom 16. Dezember 2008 - 4 StR 552/08, NStZ-RR 2009, 105',\n",
       "  3734,\n",
       "  3805]]"
      ]
     },
     "execution_count": 11,
     "metadata": {},
     "output_type": "execute_result"
    }
   ],
   "source": [
    "# example 7\n",
    "data_citations_gruende.iloc[7].citations_gruende"
   ]
  },
  {
   "cell_type": "code",
   "execution_count": 12,
   "metadata": {},
   "outputs": [
    {
     "data": {
      "text/plain": [
       "[['BGH, Beschluss vom 22. November 2011 - 4 StR 522/11, NZV 2012, 249',\n",
       "  3721,\n",
       "  3787],\n",
       " ['Urteil vom 30. März 1995 - 4 StR 725/94, NJW 1995, 3131, 3132', 3789, 3850],\n",
       " ['BGH, Beschluss vom 2. Juli 2013 - 4 StR 187/13, NStZ-RR 2013, 320, 321',\n",
       "  4355,\n",
       "  4425],\n",
       " ['Beschluss vom 29. April 2008 - 4 StR 617/07, NStZ-RR 2008, 289',\n",
       "  4427,\n",
       "  4489],\n",
       " ['BGH, Beschluss vom 28. September 2010 - 4 StR 245/10, NStZ 2011, 215, 216',\n",
       "  4973,\n",
       "  5046],\n",
       " ['Beschluss vom 29. April 2008 - 4 StR 617/07, NStZ-RR 2008, 289',\n",
       "  5048,\n",
       "  5110]]"
      ]
     },
     "execution_count": 12,
     "metadata": {},
     "output_type": "execute_result"
    }
   ],
   "source": [
    "# example 783\n",
    "data_citations_gruende.iloc[783].citations_gruende"
   ]
  },
  {
   "cell_type": "code",
   "execution_count": 14,
   "metadata": {},
   "outputs": [
    {
     "data": {
      "text/plain": [
       "(array([2787]),)"
      ]
     },
     "execution_count": 14,
     "metadata": {},
     "output_type": "execute_result"
    }
   ],
   "source": [
    "# Ausprobieren, ob beispielhaftes Aktenzeichen aus Zitat in Aktenzeichenmenge vorhanden\n",
    "np.where(data_citations_gruende[\"az\"] == \"2 ARs 46/15\")"
   ]
  },
  {
   "cell_type": "code",
   "execution_count": 15,
   "metadata": {},
   "outputs": [
    {
     "data": {
      "text/plain": [
       "az                                                         2 ARs 46/15\n",
       "datum                                                    1496793600000\n",
       "doknr                                                    KORE617612017\n",
       "gertyp                                                             BGH\n",
       "spruchkoerper                                            2. Strafsenat\n",
       "doktyp                                                       Beschluss\n",
       "titel                Bußgeldverfahren: Örtlich zuständiges Gericht ...\n",
       "tenor                Die Untersuchung und Entscheidung der Sache wi...\n",
       "gruende              I. Die „Generaldirektion Wasserstraßen und Sch...\n",
       "citations_gruende    [[VG Schleswig, Urteil vom 16. September 2014 ...\n",
       "Name: 2787, dtype: object"
      ]
     },
     "execution_count": 15,
     "metadata": {},
     "output_type": "execute_result"
    }
   ],
   "source": [
    "data_citations_gruende.iloc[2787]"
   ]
  },
  {
   "cell_type": "code",
   "execution_count": 16,
   "metadata": {},
   "outputs": [
    {
     "data": {
      "text/plain": [
       "az                                                        2 ARs 282/18\n",
       "datum                                                    1558396800000\n",
       "doknr                                                    KORE625672019\n",
       "gertyp                                                             BGH\n",
       "spruchkoerper                                            2. Strafsenat\n",
       "doktyp                                                       Beschluss\n",
       "titel                Zuständiges Amtsgericht bei Einspruch gegen Bu...\n",
       "tenor                Der Verweisungsbeschluss des Amtsgerichts Kiel...\n",
       "gruende              Die „Bundesagentur für Arbeit - Agentur für Ar...\n",
       "citations_gruende    [[Nürnberg (Oberlandesgerichtsbezirk Nürnberg,...\n",
       "Name: 4921, dtype: object"
      ]
     },
     "execution_count": 16,
     "metadata": {},
     "output_type": "execute_result"
    }
   ],
   "source": [
    "data_citations_gruende.iloc[4921]"
   ]
  },
  {
   "cell_type": "markdown",
   "metadata": {},
   "source": [
    "### --> Evaluation der Zitatextraktion s. Notebook EvaluationCitationExtraction"
   ]
  },
  {
   "cell_type": "markdown",
   "metadata": {},
   "source": [
    "### Wie viele Zitate gibt es pro (Gruende-)Text?"
   ]
  },
  {
   "cell_type": "code",
   "execution_count": 202,
   "metadata": {},
   "outputs": [],
   "source": [
    "def getAmountCitations(cit_list: list):\n",
    "    if cit_list:\n",
    "        return len(cit_list)\n",
    "    else:\n",
    "        return 0"
   ]
  },
  {
   "cell_type": "code",
   "execution_count": 18,
   "metadata": {},
   "outputs": [],
   "source": [
    "amount_citations_in_gruende = data_citations_gruende[\"citations_gruende\"].apply(getAmountCitations)"
   ]
  },
  {
   "cell_type": "code",
   "execution_count": 19,
   "metadata": {},
   "outputs": [
    {
     "data": {
      "text/plain": [
       "0     3\n",
       "1     1\n",
       "2     0\n",
       "3     3\n",
       "4    11\n",
       "5     0\n",
       "6     5\n",
       "7     5\n",
       "8    14\n",
       "9     3\n",
       "Name: citations_gruende, dtype: int64"
      ]
     },
     "execution_count": 19,
     "metadata": {},
     "output_type": "execute_result"
    }
   ],
   "source": [
    "amount_citations_in_gruende.head(10)"
   ]
  },
  {
   "cell_type": "markdown",
   "metadata": {},
   "source": [
    "Gesamtmenge von identifizierten Zitaten in allen Gruende-Texten"
   ]
  },
  {
   "cell_type": "code",
   "execution_count": 20,
   "metadata": {},
   "outputs": [
    {
     "data": {
      "text/plain": [
       "52699"
      ]
     },
     "execution_count": 20,
     "metadata": {},
     "output_type": "execute_result"
    }
   ],
   "source": [
    "sum(amount_citations_in_gruende)"
   ]
  },
  {
   "cell_type": "markdown",
   "metadata": {},
   "source": [
    "maximale Menge an Zitationen in einem Gruende-Text:"
   ]
  },
  {
   "cell_type": "code",
   "execution_count": 21,
   "metadata": {},
   "outputs": [
    {
     "data": {
      "text/plain": [
       "165"
      ]
     },
     "execution_count": 21,
     "metadata": {},
     "output_type": "execute_result"
    }
   ],
   "source": [
    "amount_citations_in_gruende.max()"
   ]
  },
  {
   "cell_type": "markdown",
   "metadata": {},
   "source": [
    "durchschnittliche Anzahl von Rechtsprechungszitaten in Gruende:"
   ]
  },
  {
   "cell_type": "code",
   "execution_count": 22,
   "metadata": {},
   "outputs": [
    {
     "data": {
      "text/plain": [
       "9.04548575351871"
      ]
     },
     "execution_count": 22,
     "metadata": {},
     "output_type": "execute_result"
    }
   ],
   "source": [
    "amount_citations_in_gruende.mean()"
   ]
  },
  {
   "cell_type": "markdown",
   "metadata": {},
   "source": [
    "in 661 Fällen gibt es kein Rechtsprechungszitat (jedenfalls wurde keines gefunden) in Gruende"
   ]
  },
  {
   "cell_type": "code",
   "execution_count": 23,
   "metadata": {},
   "outputs": [
    {
     "data": {
      "text/plain": [
       "(array([   2,    5,   11,   12,   16,   17,   23,   25,   28,   36,   39,\n",
       "          44,   53,   63,   64,   66,   71,   79,   83,   91,   98,  102,\n",
       "         105,  108,  117,  128,  132,  144,  149,  154,  160,  164,  191,\n",
       "         192,  193,  201,  226,  233,  238,  241,  250,  261,  264,  276,\n",
       "         287,  305,  333,  350,  351,  353,  357,  374,  396,  403,  406,\n",
       "         417,  419,  433,  452,  456,  473,  495,  497,  498,  500,  511,\n",
       "         512,  523,  543,  559,  625,  648,  663,  697,  698,  709,  710,\n",
       "         712,  715,  722,  731,  732,  742,  746,  760,  764,  765,  803,\n",
       "         808,  811,  821,  827,  830,  838,  851,  856,  872,  882,  883,\n",
       "         891,  900,  906,  933,  939,  948,  976,  979,  980,  993,  997,\n",
       "        1000, 1002, 1005, 1012, 1015, 1021, 1022, 1023, 1031, 1037, 1041,\n",
       "        1044, 1048, 1050, 1054, 1061, 1062, 1065, 1068, 1085, 1097, 1099,\n",
       "        1103, 1104, 1105, 1108, 1111, 1125, 1135, 1137, 1165, 1181, 1198,\n",
       "        1208, 1215, 1218, 1221, 1231, 1232, 1233, 1240, 1244, 1248, 1255,\n",
       "        1261, 1263, 1276, 1280, 1289, 1307, 1323, 1332, 1336, 1341, 1353,\n",
       "        1365, 1383, 1393, 1394, 1396, 1407, 1412, 1434, 1435, 1439, 1441,\n",
       "        1452, 1457, 1466, 1489, 1494, 1506, 1511, 1526, 1528, 1539, 1549,\n",
       "        1566, 1636, 1651, 1660, 1662, 1668, 1675, 1681, 1695, 1704, 1711,\n",
       "        1716, 1727, 1735, 1736, 1738, 1745, 1746, 1753, 1755, 1761, 1799,\n",
       "        1805, 1827, 1836, 1838, 1847, 1854, 1874, 1890, 1910, 1944, 1973,\n",
       "        1975, 1991, 2004, 2020, 2021, 2038, 2049, 2069, 2071, 2079, 2088,\n",
       "        2090, 2101, 2102, 2103, 2112, 2115, 2133, 2142, 2151, 2157, 2170,\n",
       "        2186, 2193, 2195, 2202, 2211, 2218, 2221, 2222, 2227, 2235, 2236,\n",
       "        2242, 2245, 2255, 2264, 2266, 2276, 2288, 2300, 2307, 2341, 2343,\n",
       "        2345, 2355, 2357, 2370, 2382, 2405, 2419, 2421, 2431, 2459, 2465,\n",
       "        2469, 2476, 2483, 2493, 2510, 2525, 2527, 2528, 2531, 2541, 2543,\n",
       "        2544, 2553, 2556, 2563, 2633, 2655, 2667, 2680, 2706, 2720, 2724,\n",
       "        2728, 2738, 2749, 2770, 2782, 2794, 2803, 2809, 2820, 2828, 2832,\n",
       "        2835, 2852, 2868, 2869, 2872, 2899, 2917, 2919, 2930, 2947, 2950,\n",
       "        2972, 2977, 3017, 3018, 3022, 3026, 3032, 3042, 3045, 3047, 3048,\n",
       "        3060, 3061, 3063, 3068, 3078, 3081, 3085, 3087, 3096, 3098, 3099,\n",
       "        3106, 3132, 3139, 3141, 3148, 3149, 3167, 3195, 3197, 3199, 3205,\n",
       "        3212, 3213, 3217, 3221, 3230, 3236, 3238, 3258, 3264, 3265, 3270,\n",
       "        3292, 3307, 3315, 3316, 3321, 3322, 3326, 3329, 3331, 3333, 3347,\n",
       "        3358, 3363, 3370, 3378, 3381, 3400, 3406, 3415, 3422, 3442, 3455,\n",
       "        3470, 3473, 3480, 3487, 3492, 3521, 3524, 3543, 3581, 3587, 3601,\n",
       "        3640, 3641, 3648, 3653, 3676, 3679, 3681, 3702, 3703, 3711, 3715,\n",
       "        3723, 3736, 3752, 3777, 3784, 3794, 3835, 3858, 3859, 3874, 3880,\n",
       "        3885, 3909, 3914, 3922, 3943, 3950, 3958, 3970, 3976, 3992, 3994,\n",
       "        3995, 4004, 4012, 4013, 4014, 4016, 4022, 4025, 4032, 4034, 4042,\n",
       "        4052, 4055, 4061, 4062, 4075, 4079, 4080, 4083, 4085, 4088, 4090,\n",
       "        4094, 4099, 4107, 4110, 4114, 4116, 4117, 4128, 4132, 4133, 4135,\n",
       "        4141, 4144, 4145, 4147, 4155, 4159, 4161, 4169, 4172, 4174, 4178,\n",
       "        4180, 4188, 4192, 4195, 4203, 4212, 4216, 4217, 4239, 4276, 4280,\n",
       "        4298, 4310, 4312, 4314, 4315, 4332, 4342, 4354, 4362, 4371, 4380,\n",
       "        4383, 4385, 4393, 4396, 4399, 4408, 4410, 4413, 4421, 4426, 4430,\n",
       "        4435, 4440, 4459, 4470, 4471, 4475, 4476, 4501, 4505, 4506, 4514,\n",
       "        4520, 4534, 4547, 4550, 4560, 4567, 4586, 4589, 4593, 4597, 4663,\n",
       "        4672, 4676, 4682, 4700, 4722, 4724, 4725, 4729, 4755, 4762, 4775,\n",
       "        4782, 4783, 4794, 4799, 4813, 4818, 4820, 4823, 4825, 4833, 4836,\n",
       "        4839, 4841, 4853, 4860, 4863, 4886, 4891, 4894, 4895, 4903, 4908,\n",
       "        4923, 4925, 4928, 4951, 5005, 5006, 5008, 5012, 5019, 5021, 5029,\n",
       "        5033, 5045, 5060, 5066, 5070, 5077, 5082, 5088, 5101, 5102, 5104,\n",
       "        5105, 5108, 5110, 5113, 5120, 5134, 5135, 5136, 5149, 5155, 5167,\n",
       "        5177, 5189, 5195, 5203, 5208, 5214, 5218, 5231, 5242, 5244, 5250,\n",
       "        5254, 5257, 5274, 5278, 5307, 5327, 5342, 5345, 5348, 5349, 5360,\n",
       "        5390, 5391, 5395, 5405, 5422, 5437, 5444, 5447, 5449, 5451, 5458,\n",
       "        5459, 5466, 5549, 5556, 5563, 5564, 5582, 5587, 5588, 5597, 5599,\n",
       "        5612, 5613, 5616, 5620, 5625, 5631, 5632, 5634, 5635, 5640, 5672,\n",
       "        5673, 5708, 5710, 5735, 5747, 5757, 5774, 5795, 5796, 5807, 5811,\n",
       "        5814]),)"
      ]
     },
     "execution_count": 23,
     "metadata": {},
     "output_type": "execute_result"
    }
   ],
   "source": [
    "np.where(amount_citations_in_gruende == 0)"
   ]
  },
  {
   "cell_type": "code",
   "execution_count": 24,
   "metadata": {},
   "outputs": [
    {
     "data": {
      "text/plain": [
       "661"
      ]
     },
     "execution_count": 24,
     "metadata": {},
     "output_type": "execute_result"
    }
   ],
   "source": [
    "np.where(amount_citations_in_gruende == 0)[0].size"
   ]
  },
  {
   "cell_type": "markdown",
   "metadata": {},
   "source": [
    "in 11% aller Dokumente werden keine Zitate in Gruende gefunden:"
   ]
  },
  {
   "cell_type": "code",
   "execution_count": 25,
   "metadata": {},
   "outputs": [
    {
     "data": {
      "text/plain": [
       "0.11345691726742191"
      ]
     },
     "execution_count": 25,
     "metadata": {},
     "output_type": "execute_result"
    }
   ],
   "source": [
    "np.where(amount_citations_in_gruende == 0)[0].size/len(amount_citations_in_gruende)"
   ]
  },
  {
   "cell_type": "markdown",
   "metadata": {},
   "source": [
    "### Zitate in Tenor suchen und Tabelle ergänzen"
   ]
  },
  {
   "cell_type": "code",
   "execution_count": 27,
   "metadata": {},
   "outputs": [],
   "source": [
    "# takes a while; better directly load from df_all_citations.json 2 cells further down\n",
    "data_citations_gruende[\"citations_tenor\"] = data_citations_gruende[\"tenor\"].apply(extract_citations)"
   ]
  },
  {
   "cell_type": "code",
   "execution_count": 160,
   "metadata": {},
   "outputs": [],
   "source": [
    "# save dataframe with citations_gruende and citations_tenor\n",
    "data_citations_gruende.to_json(\"data/dataframes/df_all_citations.json\")"
   ]
  },
  {
   "cell_type": "code",
   "execution_count": 199,
   "metadata": {},
   "outputs": [],
   "source": [
    "# read df from json\n",
    "data_all_citations = pd.read_json('data/dataframes/df_all_citations.json', orient='columns', encoding='utf-8')"
   ]
  },
  {
   "cell_type": "code",
   "execution_count": 200,
   "metadata": {},
   "outputs": [
    {
     "data": {
      "text/html": [
       "<div>\n",
       "<style scoped>\n",
       "    .dataframe tbody tr th:only-of-type {\n",
       "        vertical-align: middle;\n",
       "    }\n",
       "\n",
       "    .dataframe tbody tr th {\n",
       "        vertical-align: top;\n",
       "    }\n",
       "\n",
       "    .dataframe thead th {\n",
       "        text-align: right;\n",
       "    }\n",
       "</style>\n",
       "<table border=\"1\" class=\"dataframe\">\n",
       "  <thead>\n",
       "    <tr style=\"text-align: right;\">\n",
       "      <th></th>\n",
       "      <th>az</th>\n",
       "      <th>datum</th>\n",
       "      <th>doknr</th>\n",
       "      <th>gertyp</th>\n",
       "      <th>spruchkoerper</th>\n",
       "      <th>doktyp</th>\n",
       "      <th>titel</th>\n",
       "      <th>tenor</th>\n",
       "      <th>gruende</th>\n",
       "      <th>citations_gruende</th>\n",
       "      <th>citations_tenor</th>\n",
       "    </tr>\n",
       "  </thead>\n",
       "  <tbody>\n",
       "    <tr>\n",
       "      <th>5821</th>\n",
       "      <td>4 StR 282/17</td>\n",
       "      <td>1506556800000</td>\n",
       "      <td>KORE634632017</td>\n",
       "      <td>BGH</td>\n",
       "      <td>4. Strafsenat</td>\n",
       "      <td>Urteil</td>\n",
       "      <td>Rücktritt vom Versuch eines Tötungsdelikts: Fr...</td>\n",
       "      <td>1. Auf die Revisionen der Staatsanwaltschaft u...</td>\n",
       "      <td>Das Landgericht hat den Angeklagten wegen gefä...</td>\n",
       "      <td>[[BGH, Urteil vom 17. Dezember 1992 – 4 StR 53...</td>\n",
       "      <td>None</td>\n",
       "    </tr>\n",
       "    <tr>\n",
       "      <th>5822</th>\n",
       "      <td>2 StR 217/19</td>\n",
       "      <td>1573603200000</td>\n",
       "      <td>KORE634712019</td>\n",
       "      <td>BGH</td>\n",
       "      <td>2. Strafsenat</td>\n",
       "      <td>Urteil</td>\n",
       "      <td>Jugendstrafverfahren: jugendspezifische Bestim...</td>\n",
       "      <td>Die Revision des Angeklagten gegen das Urteil ...</td>\n",
       "      <td>Das Landgericht hat den Angeklagten wegen Tots...</td>\n",
       "      <td>[[BGH, Beschluss vom 6. Mai 2013 ‒ 1 StR 178/1...</td>\n",
       "      <td>None</td>\n",
       "    </tr>\n",
       "    <tr>\n",
       "      <th>5823</th>\n",
       "      <td>2 StR 447/19</td>\n",
       "      <td>1572912000000</td>\n",
       "      <td>KORE634732019</td>\n",
       "      <td>BGH</td>\n",
       "      <td>2. Strafsenat</td>\n",
       "      <td>Beschluss</td>\n",
       "      <td>Berücksichtigung von Einziehung bei Strafzumes...</td>\n",
       "      <td>1. Auf die Revision des Angeklagten wird das U...</td>\n",
       "      <td>Das Landgericht hat den Angeklagten wegen uner...</td>\n",
       "      <td>[[Senat, Beschluss vom 12. März 2013 - 2 StR 4...</td>\n",
       "      <td>None</td>\n",
       "    </tr>\n",
       "    <tr>\n",
       "      <th>5824</th>\n",
       "      <td>3 StR 249/19</td>\n",
       "      <td>1573603200000</td>\n",
       "      <td>KORE634742019</td>\n",
       "      <td>BGH</td>\n",
       "      <td>3. Strafsenat</td>\n",
       "      <td>Beschluss</td>\n",
       "      <td>Formulierung des Antrags auf Einziehung im obj...</td>\n",
       "      <td>1. Auf die Revision des Angeklagten wird das U...</td>\n",
       "      <td>Das Landgericht hat den Angeklagten der Gründu...</td>\n",
       "      <td>[[Senat, Beschluss vom 7. Januar 2003 - 3 StR ...</td>\n",
       "      <td>None</td>\n",
       "    </tr>\n",
       "    <tr>\n",
       "      <th>5825</th>\n",
       "      <td>4 StR 289/19</td>\n",
       "      <td>1565827200000</td>\n",
       "      <td>KORE634782019</td>\n",
       "      <td>BGH</td>\n",
       "      <td>4. Strafsenat</td>\n",
       "      <td>Beschluss</td>\n",
       "      <td>Schwerer sexueller Kindesmissbrauch: Erfordern...</td>\n",
       "      <td>Auf die Revision des Angeklagten wird das Urte...</td>\n",
       "      <td>Das Landgericht hat den Angeklagten wegen schw...</td>\n",
       "      <td>[[BGH, Beschluss vom 14. November 2018 - 2 StR...</td>\n",
       "      <td>[[Urteil des Landgerichts Frankenthal (Pfalz, ...</td>\n",
       "    </tr>\n",
       "  </tbody>\n",
       "</table>\n",
       "</div>"
      ],
      "text/plain": [
       "                az          datum          doknr gertyp  spruchkoerper  \\\n",
       "5821  4 StR 282/17  1506556800000  KORE634632017    BGH  4. Strafsenat   \n",
       "5822  2 StR 217/19  1573603200000  KORE634712019    BGH  2. Strafsenat   \n",
       "5823  2 StR 447/19  1572912000000  KORE634732019    BGH  2. Strafsenat   \n",
       "5824  3 StR 249/19  1573603200000  KORE634742019    BGH  3. Strafsenat   \n",
       "5825  4 StR 289/19  1565827200000  KORE634782019    BGH  4. Strafsenat   \n",
       "\n",
       "         doktyp                                              titel  \\\n",
       "5821     Urteil  Rücktritt vom Versuch eines Tötungsdelikts: Fr...   \n",
       "5822     Urteil  Jugendstrafverfahren: jugendspezifische Bestim...   \n",
       "5823  Beschluss  Berücksichtigung von Einziehung bei Strafzumes...   \n",
       "5824  Beschluss  Formulierung des Antrags auf Einziehung im obj...   \n",
       "5825  Beschluss  Schwerer sexueller Kindesmissbrauch: Erfordern...   \n",
       "\n",
       "                                                  tenor  \\\n",
       "5821  1. Auf die Revisionen der Staatsanwaltschaft u...   \n",
       "5822  Die Revision des Angeklagten gegen das Urteil ...   \n",
       "5823  1. Auf die Revision des Angeklagten wird das U...   \n",
       "5824  1. Auf die Revision des Angeklagten wird das U...   \n",
       "5825  Auf die Revision des Angeklagten wird das Urte...   \n",
       "\n",
       "                                                gruende  \\\n",
       "5821  Das Landgericht hat den Angeklagten wegen gefä...   \n",
       "5822  Das Landgericht hat den Angeklagten wegen Tots...   \n",
       "5823  Das Landgericht hat den Angeklagten wegen uner...   \n",
       "5824  Das Landgericht hat den Angeklagten der Gründu...   \n",
       "5825  Das Landgericht hat den Angeklagten wegen schw...   \n",
       "\n",
       "                                      citations_gruende  \\\n",
       "5821  [[BGH, Urteil vom 17. Dezember 1992 – 4 StR 53...   \n",
       "5822  [[BGH, Beschluss vom 6. Mai 2013 ‒ 1 StR 178/1...   \n",
       "5823  [[Senat, Beschluss vom 12. März 2013 - 2 StR 4...   \n",
       "5824  [[Senat, Beschluss vom 7. Januar 2003 - 3 StR ...   \n",
       "5825  [[BGH, Beschluss vom 14. November 2018 - 2 StR...   \n",
       "\n",
       "                                        citations_tenor  \n",
       "5821                                               None  \n",
       "5822                                               None  \n",
       "5823                                               None  \n",
       "5824                                               None  \n",
       "5825  [[Urteil des Landgerichts Frankenthal (Pfalz, ...  "
      ]
     },
     "execution_count": 200,
     "metadata": {},
     "output_type": "execute_result"
    }
   ],
   "source": [
    "data_all_citations.tail()"
   ]
  },
  {
   "cell_type": "markdown",
   "metadata": {},
   "source": [
    "### Wie viele Zitate gibt es pro (Tenor-)Text?"
   ]
  },
  {
   "cell_type": "code",
   "execution_count": 203,
   "metadata": {},
   "outputs": [],
   "source": [
    "amount_citations_in_tenor = data_all_citations[\"citations_tenor\"].apply(getAmountCitations)"
   ]
  },
  {
   "cell_type": "markdown",
   "metadata": {},
   "source": [
    "Gesamtmenge von identifizierten Zitaten in allen Gruende-Texten"
   ]
  },
  {
   "cell_type": "code",
   "execution_count": 35,
   "metadata": {},
   "outputs": [
    {
     "data": {
      "text/plain": [
       "1701"
      ]
     },
     "execution_count": 35,
     "metadata": {},
     "output_type": "execute_result"
    }
   ],
   "source": [
    "sum(amount_citations_in_tenor)"
   ]
  },
  {
   "cell_type": "markdown",
   "metadata": {},
   "source": [
    "in 570 (ca. 10%) der Tenortexte werden Zitate (min. 1 Zitat) gefunden"
   ]
  },
  {
   "cell_type": "code",
   "execution_count": 36,
   "metadata": {},
   "outputs": [
    {
     "data": {
      "text/plain": [
       "570"
      ]
     },
     "execution_count": 36,
     "metadata": {},
     "output_type": "execute_result"
    }
   ],
   "source": [
    "np.where(amount_citations_in_tenor != 0)[0].size"
   ]
  },
  {
   "cell_type": "code",
   "execution_count": 37,
   "metadata": {},
   "outputs": [
    {
     "data": {
      "text/plain": [
       "23"
      ]
     },
     "execution_count": 37,
     "metadata": {},
     "output_type": "execute_result"
    }
   ],
   "source": [
    "amount_citations_in_tenor.max()"
   ]
  },
  {
   "cell_type": "code",
   "execution_count": 38,
   "metadata": {},
   "outputs": [
    {
     "data": {
      "text/plain": [
       "0.291967044284243"
      ]
     },
     "execution_count": 38,
     "metadata": {},
     "output_type": "execute_result"
    }
   ],
   "source": [
    "amount_citations_in_tenor.mean()"
   ]
  },
  {
   "cell_type": "markdown",
   "metadata": {},
   "source": [
    "## Aktenzeichen aus Zitaten extrahieren"
   ]
  },
  {
   "cell_type": "code",
   "execution_count": 39,
   "metadata": {},
   "outputs": [],
   "source": [
    "# 'Senat, Beschlüsse vom 7. Juni 2017 - 2 ARs 46/15, NStZ-RR 2017, 256 f.',\n",
    "# 'vom 2. Januar 1990 - 2 ARs 588/89, BGHR OWiG § 68 Abs. 1 Satz 1'\n",
    "# 'Senatsbeschluss vom 8. April 2008 - 4 StR 21/08'\n",
    "# 'Senatsbeschluss vom 16. Dezember 2008 - 4 StR 552/08, NStZ-RR 2009, 105'"
   ]
  },
  {
   "cell_type": "code",
   "execution_count": 40,
   "metadata": {},
   "outputs": [
    {
     "data": {
      "text/plain": [
       "[['BGHSt 42, 368', 1333, 1346],\n",
       " ['BGH NJW 1999, 3206, 3207', 1359, 1383],\n",
       " ['BGH NStZ 2000, 433', 2040, 2058]]"
      ]
     },
     "execution_count": 40,
     "metadata": {},
     "output_type": "execute_result"
    }
   ],
   "source": [
    "# unmöglich ohne Wissensbasis!?\n",
    "data_citations_gruende.iloc[2039].citations_gruende"
   ]
  },
  {
   "cell_type": "code",
   "execution_count": 1065,
   "metadata": {},
   "outputs": [],
   "source": [
    "# einzelne Ziffer, (es gibt Ausnahmen, wo diese Ziffer fehlt: \"StB 24/19\", \"AK 78/17\")\n",
    "# Leerzeichen,\n",
    "# Abkürzung (bestehend aus 2-3 Buchstaben (?), erster davon großgeschrieben),\n",
    "#     --> hier meist: StR, ARs. Sonderfälle hier: AK, StB, 5 AR (VS) 23/10\n",
    "# Leerzeichen,\n",
    "# Zahl (1 bis 3stellig)\n",
    "# /\n",
    "# Zahl (2-ziffrig)\n",
    "\n",
    "# Besonderheiten historischer Aktenzeichen:\n",
    "# Rep. 1763/84 --> von 1884, d.h. 19. Jh.\n",
    "# II 476/20 --> von 1920\n",
    "# 1 D 1096/33 --> von 1933"
   ]
  },
  {
   "cell_type": "code",
   "execution_count": 188,
   "metadata": {},
   "outputs": [],
   "source": [
    "# Regex patterns\n",
    "\n",
    "# Standardfall:\n",
    "rs_citation_standard = re.compile(\"\\d{1}\\s+[A-Z][a-z]?[A-Z]?[a-z]?\\s+\\d+\\/\\d{2}\")  \n",
    "\n",
    "# 5 AR (VS) 23/10\n",
    "rs_citation_standard_extra = re.compile(\"\\d+\\s+[A-Z][a-z]?[A-Z]?[a-z]?\\s?(\\([A-Za-z]+\\)\\s)\\d+\\/\\d{2}\")\n",
    "\n",
    "# römisch\n",
    "# VI ZR 13/18\n",
    "rs_citation_roman = re.compile(\"[MDCLXVI]+\\s+[A-Z][a-z]?[A-Z]?[a-z]?\\s+\\d+\\/\\d{2}\")\n",
    "\n",
    "# Sonderfälle:\n",
    "# StB 21/10\n",
    "# AK 78/17\n",
    "# GSSt 3/57\n",
    "rs_citation_special = re.compile(\"\\s+[A-Z]+[a-z]?[A-Z]?[a-z]?\\.?\\s+\\d+\\/\\d{2}\")\n",
    "\n",
    "# evtl. hilfreich: https://www.gerichtsaktenzeichen.de/aufbau-der-gerichtsaktenzeichen/"
   ]
  },
  {
   "cell_type": "markdown",
   "metadata": {},
   "source": [
    "### Registerzeichen\n",
    "- GSSt: beim Bundesgerichtshof für Verfahren vor dem Großen Senat in Strafsachen verwendet\n",
    "- StB: beim Bundesgerichtshof für Verfahren über Beschwerden in Strafsachen - in Ermittlungsverfahren des Generalbundesanwalts - verwendet.\n",
    "- StR: beim (ehem.) Bayerisches Oberstes Landesgericht und beim Bundesgerichtshof für Revisionsverfahren in Strafsachen verwendet.\n",
    "...."
   ]
  },
  {
   "cell_type": "code",
   "execution_count": 42,
   "metadata": {},
   "outputs": [],
   "source": [
    "# NEU\n",
    "def extractAktenzeichen(citation_list: list):\n",
    "    if citation_list:\n",
    "        azs = []\n",
    "        for item in citation_list:\n",
    "            # long with parantheses\n",
    "            al = rs_citation_standard_extra.findall(item[0])\n",
    "            if al:\n",
    "                azs.append(al)\n",
    "            # standard\n",
    "            az = rs_citation_standard.findall(item[0])\n",
    "            if az:\n",
    "                azs.append(az)\n",
    "            # roman\n",
    "            azr = rs_citation_roman.findall(item[0])\n",
    "            if azr:\n",
    "                azs.append(azr)\n",
    "            # ohne vorangehende Ziffer\n",
    "            if not az and not azr:\n",
    "                azsp = rs_citation_special.findall(item[0])\n",
    "                if azsp:\n",
    "                    azs.append(azsp)\n",
    "        return azs\n",
    "    else:\n",
    "        return None"
   ]
  },
  {
   "cell_type": "code",
   "execution_count": 43,
   "metadata": {},
   "outputs": [],
   "source": [
    "data_all_citations[\"cited_az_gruende\"] = data_all_citations[\"citations_gruende\"].apply(extractAktenzeichen)"
   ]
  },
  {
   "cell_type": "code",
   "execution_count": 44,
   "metadata": {},
   "outputs": [],
   "source": [
    "data_all_citations[\"cited_az_tenor\"] = data_all_citations[\"citations_tenor\"].apply(extractAktenzeichen)"
   ]
  },
  {
   "cell_type": "code",
   "execution_count": 1232,
   "metadata": {},
   "outputs": [],
   "source": [
    "# save df\n",
    "data_all_citations.to_json(\"data/dataframes/df_all_az.json\")"
   ]
  },
  {
   "cell_type": "code",
   "execution_count": 143,
   "metadata": {},
   "outputs": [],
   "source": [
    "# load df\n",
    "data_all_az = pd.read_json('data/dataframes/df_all_az.json', orient='columns', encoding='utf-8')"
   ]
  },
  {
   "cell_type": "markdown",
   "metadata": {},
   "source": [
    "Aktenzeichen sind fast nie mit römischer Ziffer in Datensatz vermerkt\n",
    " --> vermutlich Übersetzung von römisch zu arabisch notwendig für Abbildung"
   ]
  },
  {
   "cell_type": "code",
   "execution_count": 47,
   "metadata": {},
   "outputs": [
    {
     "data": {
      "text/plain": [
       "az                                                  AK 4/18, StB 29/17\n",
       "datum                                                    1519257600000\n",
       "doknr                                                    KORE620912018\n",
       "gertyp                                                             BGH\n",
       "spruchkoerper                                            3. Strafsenat\n",
       "doktyp                                                       Beschluss\n",
       "titel                Untersuchungshaft wegen des Verdachts von Krie...\n",
       "tenor                1. Auf die Beschwerde des Beschuldigten wird d...\n",
       "gruende              I. Der Beschuldigte befindet sich in dieser Sa...\n",
       "citations_gruende    [[BGH, Beschluss vom 14. Juni 2012 - AK 18/12,...\n",
       "citations_tenor                                                   None\n",
       "cited_az_gruende     [[ AK 18/12], [3 StR 230/16], [3 StR 57/17], [...\n",
       "cited_az_tenor                                                    None\n",
       "Name: 848, dtype: object"
      ]
     },
     "execution_count": 47,
     "metadata": {},
     "output_type": "execute_result"
    }
   ],
   "source": [
    "# 848 hat 2 Aktenzeichen! s. unten für weitere Ausnahmen / Besonderheiten\n",
    "data_all_az.iloc[848]\n",
    "# --> in az später immer nach substring suchen"
   ]
  },
  {
   "cell_type": "code",
   "execution_count": 48,
   "metadata": {},
   "outputs": [
    {
     "data": {
      "text/plain": [
       "0                                        [[2 ARs 547/06]]\n",
       "1                                                      []\n",
       "2                                                    None\n",
       "3                        [[2 StR 375/08], [3 StR 171/09]]\n",
       "4                                         [[3 StR 71/05]]\n",
       "                              ...                        \n",
       "5821    [[4 StR 532/92], [2 StR 289/13], [4 StR 16/55]...\n",
       "5822    [[1 StR 178/13], [5 StR 214/18], [2 StR 150/18...\n",
       "5823    [[2 StR 43/13], [3 StR 470/11], [3 StR 137/14]...\n",
       "5824                     [[3 StR 421/02], [2 StR 231/18]]\n",
       "5825    [[2 StR 419/18], [2 StR 13/14], [2 StR 286/15]...\n",
       "Name: cited_az_gruende, Length: 5826, dtype: object"
      ]
     },
     "execution_count": 48,
     "metadata": {},
     "output_type": "execute_result"
    }
   ],
   "source": [
    "data_all_az.cited_az_gruende"
   ]
  },
  {
   "cell_type": "markdown",
   "metadata": {},
   "source": [
    "## Analyse der Zitate und Aktenzeichen "
   ]
  },
  {
   "cell_type": "markdown",
   "metadata": {},
   "source": [
    "### nach Jahr"
   ]
  },
  {
   "cell_type": "markdown",
   "metadata": {},
   "source": [
    "1. aus Zitaten extrahierte"
   ]
  },
  {
   "cell_type": "markdown",
   "metadata": {},
   "source": [
    "aus vollem Zitat, jeweils, wenn vorhanden, die erste (vierstellige) Jahreszahl extrahieren"
   ]
  },
  {
   "cell_type": "code",
   "execution_count": 50,
   "metadata": {},
   "outputs": [],
   "source": [
    "rs_full_year = re.compile(\"\\s(18|19|20)\\d{2}\\s\")"
   ]
  },
  {
   "cell_type": "code",
   "execution_count": 51,
   "metadata": {},
   "outputs": [],
   "source": [
    "def getYearsFromFullCitation(az: list):\n",
    "    years = []\n",
    "    if az:\n",
    "        for item in az:\n",
    "            year = rs_full_year.search(item[0])\n",
    "            if year and int(year.group()) < 2021:\n",
    "                years.append(int(year.group()))\n",
    "        return years "
   ]
  },
  {
   "cell_type": "code",
   "execution_count": 52,
   "metadata": {},
   "outputs": [],
   "source": [
    "years_gruende = data_all_az.citations_gruende.apply(getYearsFromFullCitation)"
   ]
  },
  {
   "cell_type": "code",
   "execution_count": 53,
   "metadata": {},
   "outputs": [],
   "source": [
    "years_tenor = data_all_az.citations_tenor.apply(getYearsFromFullCitation)"
   ]
  },
  {
   "cell_type": "code",
   "execution_count": 56,
   "metadata": {},
   "outputs": [
    {
     "data": {
      "text/plain": [
       "5821    [1992, 2013, 1955, 2014, 1955, 2013, 2006, 199...\n",
       "5822    [2013, 2018, 2018, 2018, 2004, 2017, 2016, 201...\n",
       "5823                 [2013, 2012, 2014, 2018, 1993, 2013]\n",
       "5824                                         [2003, 2018]\n",
       "5825                 [2018, 2014, 2016, 2014, 2008, 2014]\n",
       "Name: citations_gruende, dtype: object"
      ]
     },
     "execution_count": 56,
     "metadata": {},
     "output_type": "execute_result"
    }
   ],
   "source": [
    "years_gruende.tail()"
   ]
  },
  {
   "cell_type": "code",
   "execution_count": 57,
   "metadata": {},
   "outputs": [],
   "source": [
    "# collect all years from gruende in one list\n",
    "all_years_gruende = []\n",
    "for item in years_gruende:\n",
    "    if item:\n",
    "        all_years_gruende += item"
   ]
  },
  {
   "cell_type": "code",
   "execution_count": 58,
   "metadata": {},
   "outputs": [],
   "source": [
    "# collect all years from tenor in one list\n",
    "all_years_tenor = []\n",
    "for item in years_tenor:\n",
    "    if item:\n",
    "        all_years_tenor += item"
   ]
  },
  {
   "cell_type": "code",
   "execution_count": 59,
   "metadata": {},
   "outputs": [
    {
     "data": {
      "text/plain": [
       "46629"
      ]
     },
     "execution_count": 59,
     "metadata": {},
     "output_type": "execute_result"
    }
   ],
   "source": [
    "len(all_years_gruende)"
   ]
  },
  {
   "cell_type": "code",
   "execution_count": 60,
   "metadata": {},
   "outputs": [
    {
     "data": {
      "text/plain": [
       "1422"
      ]
     },
     "execution_count": 60,
     "metadata": {},
     "output_type": "execute_result"
    }
   ],
   "source": [
    "len(all_years_tenor)"
   ]
  },
  {
   "cell_type": "code",
   "execution_count": 61,
   "metadata": {},
   "outputs": [
    {
     "data": {
      "text/plain": [
       "2020"
      ]
     },
     "execution_count": 61,
     "metadata": {},
     "output_type": "execute_result"
    }
   ],
   "source": [
    "max(all_years_gruende)"
   ]
  },
  {
   "cell_type": "code",
   "execution_count": 62,
   "metadata": {},
   "outputs": [
    {
     "data": {
      "text/plain": [
       "2020"
      ]
     },
     "execution_count": 62,
     "metadata": {},
     "output_type": "execute_result"
    }
   ],
   "source": [
    "max(all_years_tenor)"
   ]
  },
  {
   "cell_type": "code",
   "execution_count": 63,
   "metadata": {},
   "outputs": [
    {
     "data": {
      "text/plain": [
       "1812"
      ]
     },
     "execution_count": 63,
     "metadata": {},
     "output_type": "execute_result"
    }
   ],
   "source": [
    "min(all_years_gruende) "
   ]
  },
  {
   "cell_type": "code",
   "execution_count": 64,
   "metadata": {},
   "outputs": [
    {
     "data": {
      "text/plain": [
       "1917"
      ]
     },
     "execution_count": 64,
     "metadata": {},
     "output_type": "execute_result"
    }
   ],
   "source": [
    "min(all_years_tenor)"
   ]
  },
  {
   "cell_type": "code",
   "execution_count": 65,
   "metadata": {},
   "outputs": [
    {
     "data": {
      "text/plain": [
       "2003.6671170301743"
      ]
     },
     "execution_count": 65,
     "metadata": {},
     "output_type": "execute_result"
    }
   ],
   "source": [
    "sum(all_years_gruende)/len(all_years_gruende)"
   ]
  },
  {
   "cell_type": "code",
   "execution_count": 66,
   "metadata": {},
   "outputs": [
    {
     "data": {
      "text/plain": [
       "2003.4697609001407"
      ]
     },
     "execution_count": 66,
     "metadata": {},
     "output_type": "execute_result"
    }
   ],
   "source": [
    "sum(all_years_tenor)/len(all_years_tenor)"
   ]
  },
  {
   "cell_type": "code",
   "execution_count": 67,
   "metadata": {},
   "outputs": [],
   "source": [
    "all_years = all_years_tenor + all_years_gruende"
   ]
  },
  {
   "cell_type": "code",
   "execution_count": 68,
   "metadata": {},
   "outputs": [
    {
     "data": {
      "image/png": "[encoded data removed]",
      "text/plain": [
       "<Figure size 1296x576 with 1 Axes>"
      ]
     },
     "metadata": {
      "needs_background": "light"
     },
     "output_type": "display_data"
    }
   ],
   "source": [
    "f1 = plt.figure(figsize=(18,8))\n",
    "plt.xticks(rotation=90, fontsize=10)\n",
    "# log scale!\n",
    "plt.yscale('log')\n",
    "sns.countplot(all_years)\n",
    "f1.savefig(\"images/plots/jahre_aller_Zitate.png\", bbox_inches=\"tight\", dpi=600)"
   ]
  },
  {
   "cell_type": "markdown",
   "metadata": {},
   "source": [
    "2. Aktenzeichen der Dokumente des gegebenen Datensatzes"
   ]
  },
  {
   "cell_type": "code",
   "execution_count": 69,
   "metadata": {},
   "outputs": [],
   "source": [
    "def getYearFromAzString(az: str):\n",
    "    year = \"20\" + az[len(az)-2:]\n",
    "    return int(year)  "
   ]
  },
  {
   "cell_type": "code",
   "execution_count": 70,
   "metadata": {},
   "outputs": [
    {
     "data": {
      "text/plain": [
       "az                                                      4 StR 96/19, 7\n",
       "datum                                                    1570665600000\n",
       "doknr                                                    KORE620012020\n",
       "gertyp                                                             BGH\n",
       "spruchkoerper                                            4. Strafsenat\n",
       "doktyp                                                       Beschluss\n",
       "titel                Straßenverkehrsdelikte: Anforderungen an die B...\n",
       "tenor                Auf die Revision des Angeklagten wird das Urte...\n",
       "gruende              Das Landgericht hat den Angeklagten wegen vors...\n",
       "citations_gruende    [[BGH, Urteile vom 1. März 2018 ‒ 4 StR 399/17...\n",
       "citations_tenor                                                   None\n",
       "cited_az_gruende     [[4 StR 399/17], [1 StR 416/17], [3 StR 172/17...\n",
       "cited_az_tenor                                                    None\n",
       "Name: 5685, dtype: object"
      ]
     },
     "execution_count": 70,
     "metadata": {},
     "output_type": "execute_result"
    }
   ],
   "source": [
    "data_all_az.iloc[5685]"
   ]
  },
  {
   "cell_type": "code",
   "execution_count": 72,
   "metadata": {},
   "outputs": [],
   "source": [
    "# correct \"4 StR 96/19, 7\" --> \"4 StR 96/19\"\n",
    "data_all_az[\"az\"][5685] = \"4 StR 96/19\""
   ]
  },
  {
   "cell_type": "code",
   "execution_count": 73,
   "metadata": {},
   "outputs": [],
   "source": [
    "doc_az_years = data_all_az['az'].apply(getYearFromAzString)"
   ]
  },
  {
   "cell_type": "code",
   "execution_count": 74,
   "metadata": {},
   "outputs": [
    {
     "data": {
      "text/plain": [
       "0       2009\n",
       "1       2009\n",
       "2       2009\n",
       "3       2009\n",
       "4       2009\n",
       "        ... \n",
       "5821    2017\n",
       "5822    2019\n",
       "5823    2019\n",
       "5824    2019\n",
       "5825    2019\n",
       "Name: az, Length: 5826, dtype: int64"
      ]
     },
     "execution_count": 74,
     "metadata": {},
     "output_type": "execute_result"
    }
   ],
   "source": [
    "doc_az_years"
   ]
  },
  {
   "cell_type": "code",
   "execution_count": 75,
   "metadata": {},
   "outputs": [
    {
     "data": {
      "text/plain": [
       "2020"
      ]
     },
     "execution_count": 75,
     "metadata": {},
     "output_type": "execute_result"
    }
   ],
   "source": [
    "doc_az_years.max()"
   ]
  },
  {
   "cell_type": "code",
   "execution_count": 76,
   "metadata": {},
   "outputs": [
    {
     "data": {
      "text/plain": [
       "2007"
      ]
     },
     "execution_count": 76,
     "metadata": {},
     "output_type": "execute_result"
    }
   ],
   "source": [
    "doc_az_years.min()"
   ]
  },
  {
   "cell_type": "code",
   "execution_count": 77,
   "metadata": {},
   "outputs": [
    {
     "data": {
      "text/plain": [
       "2014.4713353930656"
      ]
     },
     "execution_count": 77,
     "metadata": {},
     "output_type": "execute_result"
    }
   ],
   "source": [
    "sum(doc_az_years) / len(doc_az_years)"
   ]
  },
  {
   "cell_type": "code",
   "execution_count": 78,
   "metadata": {},
   "outputs": [
    {
     "data": {
      "image/png": "[encoded data removed]",
      "text/plain": [
       "<Figure size 432x288 with 1 Axes>"
      ]
     },
     "metadata": {
      "needs_background": "light"
     },
     "output_type": "display_data"
    }
   ],
   "source": [
    "f2 = plt.figure()\n",
    "plt.xticks(rotation=90)\n",
    "sns.countplot(doc_az_years)\n",
    "\n",
    "f2.savefig(\"images/plots/jahre_aller_az.png\", bbox_inches=\"tight\", dpi=600)"
   ]
  },
  {
   "cell_type": "markdown",
   "metadata": {},
   "source": [
    "## nach Registerzeichen -- welche kommen vor und wie sind sie verteilt?"
   ]
  },
  {
   "cell_type": "markdown",
   "metadata": {},
   "source": [
    "### 1. Aktenzeichen der Dokumente des gegebenen Datensatzes: Welche Registerzeichen kommen vor?"
   ]
  },
  {
   "cell_type": "code",
   "execution_count": 79,
   "metadata": {},
   "outputs": [],
   "source": [
    "# Durchschauen großer Menge von az ergibt folgende Besonderheiten:\n",
    "\n",
    "# data_all_az.az.iloc[650:700]\n",
    "\n",
    "# Besonderheiten:\n",
    "# 514    StB 9 und 10/16, StB 9/16, StB 10/16\n",
    "# 306       StB 16/13\n",
    "# 339        StB 4/14\n",
    "# 125        AK 17/11\n",
    "# 630    AK 15/19, StB 9/19\n",
    "# 733    5 AR (Vs) 5/17\n",
    "# 848    AK 4/18, StB 29/17\n",
    "# 1110    StB 8/11, StB 9/11\n",
    "# 1318    5 AR (VS) 29/13\n",
    "# 1532      2 StR 137/14, 2 StR 337/14\n",
    "# 1537    StB 14 - 16/16, StB 14/16, StB 15/16, StB 16/16\n",
    "# 4046    5 AR (VS) 23/10\n",
    "# 378    4 ARs 20-1/14, 2 StR 104/14\n",
    "# 389     2 StR 137/14, 2 StR 337/14\n",
    "# 392    4 ARs 20-1/14, 2 StR 104/14\n",
    "# 466    StB 10/15, StB 11/15\n",
    "# 695    5 StR 623/17 und 5 StR 624/17"
   ]
  },
  {
   "cell_type": "code",
   "execution_count": 80,
   "metadata": {},
   "outputs": [
    {
     "data": {
      "text/plain": [
       "0       2 ARs 569/09\n",
       "1       3 StR 500/09\n",
       "2       5 StR 507/09\n",
       "3       5 StR 509/09\n",
       "4       3 StR 502/09\n",
       "            ...     \n",
       "5821    4 StR 282/17\n",
       "5822    2 StR 217/19\n",
       "5823    2 StR 447/19\n",
       "5824    3 StR 249/19\n",
       "5825    4 StR 289/19\n",
       "Name: az, Length: 5826, dtype: object"
      ]
     },
     "execution_count": 80,
     "metadata": {},
     "output_type": "execute_result"
    }
   ],
   "source": [
    "data_all_az.az"
   ]
  },
  {
   "cell_type": "code",
   "execution_count": 81,
   "metadata": {},
   "outputs": [],
   "source": [
    "# regex to find Registerzeichen\n",
    "registerz = re.compile(\"[A-Z][a-zA-Z]*\\s\")"
   ]
  },
  {
   "cell_type": "code",
   "execution_count": 82,
   "metadata": {},
   "outputs": [],
   "source": [
    "# regex to find Registerzeichen with different structure such as 5 AR (VS) 29/13\n",
    "registerz2 = re.compile(\"[A-Z][a-zA-Z]+\\s?\\([a-zA-Z]{2}\\)\\s\")"
   ]
  },
  {
   "cell_type": "code",
   "execution_count": 83,
   "metadata": {},
   "outputs": [],
   "source": [
    "def checkRoman(regz: str):\n",
    "    rom = [\"I \", \"II \", \"III \", \"IV \", \"V \", \"VI \", \"VII \", \"VIII \", \"IX \"]\n",
    "    return regz in rom"
   ]
  },
  {
   "cell_type": "code",
   "execution_count": 84,
   "metadata": {},
   "outputs": [],
   "source": [
    "def getRegisterzeichen(az: str):\n",
    "    rz2 = registerz2.findall(az)\n",
    "    if rz2:\n",
    "        if len(rz2) > 1:\n",
    "            if checkRoman(rz2[0]):\n",
    "                return rz2[1]\n",
    "        else:\n",
    "            return rz2[0]\n",
    "    else:\n",
    "        rz1 = registerz.findall(az)\n",
    "        if rz1:\n",
    "            return rz1[0]   "
   ]
  },
  {
   "cell_type": "code",
   "execution_count": 85,
   "metadata": {},
   "outputs": [],
   "source": [
    "doc_az_regz = data_all_az[\"az\"].apply(getRegisterzeichen)\n",
    "# hier wird immer nur das erste Registerzeichen geholt (auch falls im Original mehrere angegeben sind)"
   ]
  },
  {
   "cell_type": "code",
   "execution_count": 86,
   "metadata": {},
   "outputs": [
    {
     "data": {
      "text/plain": [
       "0"
      ]
     },
     "execution_count": 86,
     "metadata": {},
     "output_type": "execute_result"
    }
   ],
   "source": [
    "doc_az_regz.tolist().count(None)"
   ]
  },
  {
   "cell_type": "code",
   "execution_count": 87,
   "metadata": {},
   "outputs": [
    {
     "data": {
      "text/plain": [
       "5826"
      ]
     },
     "execution_count": 87,
     "metadata": {},
     "output_type": "execute_result"
    }
   ],
   "source": [
    "len(doc_az_regz)"
   ]
  },
  {
   "cell_type": "code",
   "execution_count": 89,
   "metadata": {},
   "outputs": [
    {
     "data": {
      "text/plain": [
       "{'AK ', 'AR (VS) ', 'AR (Vs) ', 'ARs ', 'StB ', 'StR '}"
      ]
     },
     "execution_count": 89,
     "metadata": {},
     "output_type": "execute_result"
    }
   ],
   "source": [
    "set(doc_az_regz)"
   ]
  },
  {
   "cell_type": "code",
   "execution_count": 90,
   "metadata": {},
   "outputs": [],
   "source": [
    "# Das Registerzeichen ARs wird beim Bundesgerichtshof für Gerichtsstandbestimmungen in Strafsachen\n",
    "# sowie für Auslieferungssachen verwendet.\n",
    "\n",
    "# Das Registerzeichen AR wird bei jedem Gericht für Vorverfahren oder sonstige \n",
    "# Verfahren (als \"Allgemeines Register\") verwendet.\n",
    "\n",
    "# Das Registerzeichen StB wird beim Bundesgerichtshof für Verfahren über\n",
    "# Beschwerden in Strafsachen - in Ermittlungsverfahren des Generalbundesanwalts - verwendet.\n",
    "\n",
    "# Das Registerzeichen StR wird beim (ehem.) Bayerisches Oberstes Landesgericht\n",
    "# und beim Bundesgerichtshof für Revisionsverfahren in Strafsachen verwendet.\n",
    "\n",
    "# Das Registerzeichen AK wird beim Bundesgerichtshof für Aktenkontrollen\n",
    "# in Haftprüfungsverfahren verwendet.\n",
    "\n",
    "# Das Registerzeichen AR(VS) wird beim Bundesgerichtshof für Entscheidungen über Justizverwaltungsakte\n",
    "# im Bereich des Strafrechts verwendet."
   ]
  },
  {
   "cell_type": "code",
   "execution_count": 91,
   "metadata": {},
   "outputs": [
    {
     "data": {
      "text/plain": [
       "<AxesSubplot:xlabel='az', ylabel='count'>"
      ]
     },
     "execution_count": 91,
     "metadata": {},
     "output_type": "execute_result"
    },
    {
     "data": {
      "image/png": "[encoded data removed]",
      "text/plain": [
       "<Figure size 432x432 with 1 Axes>"
      ]
     },
     "metadata": {
      "needs_background": "light"
     },
     "output_type": "display_data"
    }
   ],
   "source": [
    "plt.figure(figsize=(6,6))\n",
    "sns.countplot(doc_az_regz)"
   ]
  },
  {
   "cell_type": "code",
   "execution_count": 92,
   "metadata": {},
   "outputs": [],
   "source": [
    "doc_az_regz_list = doc_az_regz.tolist()"
   ]
  },
  {
   "cell_type": "code",
   "execution_count": 93,
   "metadata": {},
   "outputs": [],
   "source": [
    "reg_dict = {i: doc_az_regz_list.count(i) for i in doc_az_regz_list}"
   ]
  },
  {
   "cell_type": "code",
   "execution_count": 94,
   "metadata": {},
   "outputs": [
    {
     "data": {
      "text/plain": [
       "{'ARs ': 152,\n",
       " 'StR ': 5535,\n",
       " 'StB ': 84,\n",
       " 'AK ': 47,\n",
       " 'AR (Vs) ': 3,\n",
       " 'AR (VS) ': 5}"
      ]
     },
     "execution_count": 94,
     "metadata": {},
     "output_type": "execute_result"
    }
   ],
   "source": [
    "reg_dict"
   ]
  },
  {
   "cell_type": "code",
   "execution_count": 96,
   "metadata": {},
   "outputs": [
    {
     "data": {
      "text/plain": [
       "0.9500514933058702"
      ]
     },
     "execution_count": 96,
     "metadata": {},
     "output_type": "execute_result"
    }
   ],
   "source": [
    "reg_dict.get(\"StR \") / sum(reg_dict.values())\n",
    "# --> 95% der Registerzeichen in allen Az sind StR"
   ]
  },
  {
   "cell_type": "markdown",
   "metadata": {},
   "source": [
    "### 2. aus Zitaten extrahierte"
   ]
  },
  {
   "cell_type": "code",
   "execution_count": 97,
   "metadata": {},
   "outputs": [],
   "source": [
    "# NEU \n",
    "def getRegZFromAz(az: list):\n",
    "    regzs = []  \n",
    "    if az:\n",
    "        # flatten to keep every az\n",
    "        flat_az = [item for sublist in az for item in sublist]\n",
    "        for item in flat_az:             \n",
    "            rz2 = registerz2.findall(item)                \n",
    "            if rz2:\n",
    "                if len(rz2) > 1:\n",
    "                    if checkRoman(rz2[0]):\n",
    "                        regzs.append(rz2[1])                \n",
    "                else:\n",
    "                    regzs.append(rz2[0])\n",
    "            else:\n",
    "                rz1 = registerz.findall(item)\n",
    "                if rz1:\n",
    "                    regzs.append(rz1[0])\n",
    "        return regzs                     "
   ]
  },
  {
   "cell_type": "code",
   "execution_count": 98,
   "metadata": {},
   "outputs": [],
   "source": [
    "regz_gruende = data_all_az[\"cited_az_gruende\"].apply(getRegZFromAz)"
   ]
  },
  {
   "cell_type": "code",
   "execution_count": 99,
   "metadata": {},
   "outputs": [],
   "source": [
    "regz_tenor = data_all_az[\"cited_az_tenor\"].apply(getRegZFromAz)"
   ]
  },
  {
   "cell_type": "code",
   "execution_count": 100,
   "metadata": {},
   "outputs": [
    {
     "data": {
      "text/plain": [
       "0                                                  [ARs ]\n",
       "1                                                    None\n",
       "2                                                    None\n",
       "3                                            [StR , StR ]\n",
       "4                                                  [StR ]\n",
       "                              ...                        \n",
       "5821    [StR , StR , StR , StR , StR , StR , StR , StR...\n",
       "5822    [StR , StR , StR , StR , BvR , StR , StR , StR...\n",
       "5823                 [StR , StR , StR , StR , StR , StR ]\n",
       "5824                                         [StR , StR ]\n",
       "5825                 [StR , StR , StR , StR , StR , StR ]\n",
       "Name: cited_az_gruende, Length: 5826, dtype: object"
      ]
     },
     "execution_count": 100,
     "metadata": {},
     "output_type": "execute_result"
    }
   ],
   "source": [
    "regz_gruende"
   ]
  },
  {
   "cell_type": "code",
   "execution_count": 101,
   "metadata": {},
   "outputs": [],
   "source": [
    "# collect all registerzeichen from gruende in one list\n",
    "all_regz_gruende = []\n",
    "for item in regz_gruende:\n",
    "    if item:\n",
    "        all_regz_gruende += item"
   ]
  },
  {
   "cell_type": "code",
   "execution_count": 103,
   "metadata": {},
   "outputs": [
    {
     "data": {
      "text/plain": [
       "46373"
      ]
     },
     "execution_count": 103,
     "metadata": {},
     "output_type": "execute_result"
    }
   ],
   "source": [
    "len(all_regz_gruende)"
   ]
  },
  {
   "cell_type": "code",
   "execution_count": 104,
   "metadata": {},
   "outputs": [],
   "source": [
    "regz_gruende_set = set(all_regz_gruende)\n",
    "# 'I', 'II', 'III', 'IV', 'IX', 'V', 'VI', 'VIII', 'X', 'XI', 'XII'\n",
    "# können (Ersatz für) Registerzeichen (Anfang 20. Jahrhundert, z.B. .../21) sein oder\n",
    "# Registerzeichen vorangestellt stehen -- hier ist diese Zählung etwas ungenau"
   ]
  },
  {
   "cell_type": "markdown",
   "metadata": {},
   "source": [
    "alle vorkommenden (erfassten) Registerzeichen in GRUENDE:"
   ]
  },
  {
   "cell_type": "code",
   "execution_count": 105,
   "metadata": {},
   "outputs": [
    {
     "data": {
      "text/plain": [
       "{'A ',\n",
       " 'ABR ',\n",
       " 'AGH ',\n",
       " 'AK ',\n",
       " 'AR ',\n",
       " 'ARZ ',\n",
       " 'ARs ',\n",
       " 'AS ',\n",
       " 'AV ',\n",
       " 'AZN ',\n",
       " 'AZR ',\n",
       " 'Ars ',\n",
       " 'B ',\n",
       " 'BGs ',\n",
       " 'BJs ',\n",
       " 'BR ',\n",
       " 'Bs ',\n",
       " 'BvA ',\n",
       " 'BvC ',\n",
       " 'BvE ',\n",
       " 'BvF ',\n",
       " 'BvG ',\n",
       " 'BvK ',\n",
       " 'BvL ',\n",
       " 'BvQ ',\n",
       " 'BvR ',\n",
       " 'C ',\n",
       " 'Cs ',\n",
       " 'D ',\n",
       " 'DG ',\n",
       " 'Ds ',\n",
       " 'E ',\n",
       " 'EO ',\n",
       " 'EVY ',\n",
       " 'GA ',\n",
       " 'GSSt ',\n",
       " 'GSZ ',\n",
       " 'GSt ',\n",
       " 'GZ ',\n",
       " 'GrS ',\n",
       " 'Gs ',\n",
       " 'HEs ',\n",
       " 'I ',\n",
       " 'II ',\n",
       " 'III ',\n",
       " 'IV ',\n",
       " 'IX ',\n",
       " 'Js ',\n",
       " 'K ',\n",
       " 'KA ',\n",
       " 'KLs ',\n",
       " 'KR ',\n",
       " 'KRB ',\n",
       " 'KZR ',\n",
       " 'Ks ',\n",
       " 'L ',\n",
       " 'LC ',\n",
       " 'Ls ',\n",
       " 'M ',\n",
       " 'ME ',\n",
       " 'N ',\n",
       " 'Ne ',\n",
       " 'Ns ',\n",
       " 'O ',\n",
       " 'OJs ',\n",
       " 'OLGSs ',\n",
       " 'OWi ',\n",
       " 'ObJs ',\n",
       " 'ObWs ',\n",
       " 'Os ',\n",
       " 'PBvU ',\n",
       " 'Q ',\n",
       " 'Qs ',\n",
       " 'R ',\n",
       " 'RA ',\n",
       " 'RAr ',\n",
       " 'RBs ',\n",
       " 'RH ',\n",
       " 'RK ',\n",
       " 'RKa ',\n",
       " 'RR ',\n",
       " 'RU ',\n",
       " 'RVs ',\n",
       " 'Reh ',\n",
       " 'Rep ',\n",
       " 'Rev ',\n",
       " 'Rs ',\n",
       " 'Rz ',\n",
       " 'S ',\n",
       " 'SF ',\n",
       " 'SS ',\n",
       " 'Sa ',\n",
       " 'Ss ',\n",
       " 'SsBs ',\n",
       " 'St ',\n",
       " 'StB ',\n",
       " 'StE ',\n",
       " 'StR ',\n",
       " 'StS ',\n",
       " 'Str ',\n",
       " 'TB ',\n",
       " 'TG ',\n",
       " 'Ta ',\n",
       " 'U ',\n",
       " 'UF ',\n",
       " 'UJs ',\n",
       " 'V ',\n",
       " 'VAs ',\n",
       " 'VG ',\n",
       " 'VGS ',\n",
       " 'VI ',\n",
       " 'VII ',\n",
       " 'VIII ',\n",
       " 'VR ',\n",
       " 'W ',\n",
       " 'WD ',\n",
       " 'WDB ',\n",
       " 'WF ',\n",
       " 'WS ',\n",
       " 'Ws ',\n",
       " 'Wx ',\n",
       " 'X ',\n",
       " 'XI ',\n",
       " 'XII ',\n",
       " 'XR ',\n",
       " 'Z ',\n",
       " 'ZB ',\n",
       " 'ZR '}"
      ]
     },
     "execution_count": 105,
     "metadata": {},
     "output_type": "execute_result"
    }
   ],
   "source": [
    "regz_gruende_set"
   ]
  },
  {
   "cell_type": "code",
   "execution_count": 106,
   "metadata": {},
   "outputs": [
    {
     "data": {
      "text/plain": [
       "<AxesSubplot:ylabel='count'>"
      ]
     },
     "execution_count": 106,
     "metadata": {},
     "output_type": "execute_result"
    },
    {
     "data": {
      "image/png": "[encoded data removed]",
      "text/plain": [
       "<Figure size 864x576 with 1 Axes>"
      ]
     },
     "metadata": {
      "needs_background": "light"
     },
     "output_type": "display_data"
    }
   ],
   "source": [
    "plt.figure(figsize=(12,8))\n",
    "plt.yscale('log') # Vorsicht bei Interpretation!! nur, damit man die kleinen Vorkommen auch sehen kann..\n",
    "plt.xticks(rotation=90, fontsize=8)\n",
    "sns.countplot(all_regz_gruende)"
   ]
  },
  {
   "cell_type": "code",
   "execution_count": 107,
   "metadata": {},
   "outputs": [],
   "source": [
    "reg_quote_dict = {i: all_regz_gruende.count(i) for i in all_regz_gruende}"
   ]
  },
  {
   "cell_type": "code",
   "execution_count": 108,
   "metadata": {},
   "outputs": [
    {
     "data": {
      "text/plain": [
       "{'ARs ': 338,\n",
       " 'StR ': 40325,\n",
       " 'BvR ': 1578,\n",
       " 'BJs ': 6,\n",
       " 'R ': 12,\n",
       " 'RK ': 12,\n",
       " 'GSSt ': 548,\n",
       " 'Ss ': 286,\n",
       " 'I ': 135,\n",
       " 'VIII ': 87,\n",
       " 'K ': 30,\n",
       " 'StB ': 393,\n",
       " 'BGs ': 135,\n",
       " 'HEs ': 10,\n",
       " 'Ns ': 3,\n",
       " 'Gs ': 3,\n",
       " 'W ': 10,\n",
       " 'Wx ': 4,\n",
       " 'VII ': 62,\n",
       " 'KZR ': 1,\n",
       " 'XII ': 24,\n",
       " 'PBvU ': 10,\n",
       " 'BvL ': 72,\n",
       " 'VI ': 153,\n",
       " 'IV ': 57,\n",
       " 'III ': 117,\n",
       " 'RR ': 51,\n",
       " 'St ': 33,\n",
       " 'AK ': 197,\n",
       " 'A ': 24,\n",
       " 'II ': 101,\n",
       " 'V ': 185,\n",
       " 'XI ': 57,\n",
       " 'X ': 20,\n",
       " 'IX ': 83,\n",
       " 'Js ': 111,\n",
       " 'Ars ': 1,\n",
       " 'D ': 42,\n",
       " 'ObWs ': 1,\n",
       " 'Ws ': 329,\n",
       " 'ZR ': 5,\n",
       " 'AZR ': 29,\n",
       " 'WD ': 1,\n",
       " 'GrS ': 5,\n",
       " 'KLs ': 12,\n",
       " 'GZ ': 6,\n",
       " 'U ': 35,\n",
       " 'ARZ ': 9,\n",
       " 'AR ': 26,\n",
       " 'Qs ': 16,\n",
       " 'StS ': 12,\n",
       " 'S ': 4,\n",
       " 'ME ': 10,\n",
       " 'C ': 50,\n",
       " 'O ': 7,\n",
       " 'KRB ': 31,\n",
       " 'SsBs ': 1,\n",
       " 'LC ': 4,\n",
       " 'Bs ': 6,\n",
       " 'EO ': 3,\n",
       " 'B ': 23,\n",
       " 'EVY ': 1,\n",
       " 'Q ': 1,\n",
       " 'KR ': 57,\n",
       " 'Reh ': 2,\n",
       " 'RVs ': 25,\n",
       " 'GSt ': 1,\n",
       " 'BvA ': 2,\n",
       " 'Ds ': 7,\n",
       " 'VGS ': 45,\n",
       " 'OLGSs ': 1,\n",
       " 'GSZ ': 36,\n",
       " 'Rev ': 4,\n",
       " 'AZN ': 2,\n",
       " 'Sa ': 4,\n",
       " 'OWi ': 18,\n",
       " 'StE ': 41,\n",
       " 'TG ': 2,\n",
       " 'Ks ': 4,\n",
       " 'M ': 5,\n",
       " 'L ': 7,\n",
       " 'Ls ': 6,\n",
       " 'Cs ': 1,\n",
       " 'UF ': 4,\n",
       " 'RBs ': 7,\n",
       " 'VAs ': 14,\n",
       " 'Os ': 1,\n",
       " 'Ne ': 2,\n",
       " 'GA ': 1,\n",
       " 'Rz ': 2,\n",
       " 'BvF ': 4,\n",
       " 'BvE ': 38,\n",
       " 'KA ': 7,\n",
       " 'AGH ': 1,\n",
       " 'BvC ': 1,\n",
       " 'Str ': 1,\n",
       " 'SF ': 1,\n",
       " 'ZB ': 10,\n",
       " 'BvG ': 1,\n",
       " 'BvQ ': 6,\n",
       " 'RA ': 1,\n",
       " 'VG ': 1,\n",
       " 'RAr ': 6,\n",
       " 'WS ': 1,\n",
       " 'VR ': 3,\n",
       " 'E ': 1,\n",
       " 'OJs ': 3,\n",
       " 'RKa ': 3,\n",
       " 'XR ': 1,\n",
       " 'Z ': 2,\n",
       " 'WF ': 3,\n",
       " 'Rep ': 2,\n",
       " 'RH ': 2,\n",
       " 'DG ': 1,\n",
       " 'Rs ': 5,\n",
       " 'ObJs ': 1,\n",
       " 'BR ': 1,\n",
       " 'UJs ': 1,\n",
       " 'BvK ': 1,\n",
       " 'ABR ': 6,\n",
       " 'Ta ': 1,\n",
       " 'RU ': 3,\n",
       " 'AS ': 4,\n",
       " 'AV ': 1,\n",
       " 'TB ': 1,\n",
       " 'N ': 1,\n",
       " 'WDB ': 1,\n",
       " 'SS ': 2}"
      ]
     },
     "execution_count": 108,
     "metadata": {},
     "output_type": "execute_result"
    }
   ],
   "source": [
    "reg_quote_dict"
   ]
  },
  {
   "cell_type": "code",
   "execution_count": 109,
   "metadata": {},
   "outputs": [
    {
     "data": {
      "text/plain": [
       "0.8695792810471611"
      ]
     },
     "execution_count": 109,
     "metadata": {},
     "output_type": "execute_result"
    }
   ],
   "source": [
    "reg_quote_dict.get(\"StR \")/sum(reg_quote_dict.values())\n",
    "# --> in 87% aller als Aktenzeichen erfassten Zitationen ist das Registerzeichen \"StR\""
   ]
  },
  {
   "cell_type": "markdown",
   "metadata": {},
   "source": [
    "alle vorkommenden (erfassten) Registerzeichen in TENOR:"
   ]
  },
  {
   "cell_type": "code",
   "execution_count": 111,
   "metadata": {},
   "outputs": [],
   "source": [
    "# collect all registerzeichen from TENOR in one list\n",
    "all_regz_tenor = []\n",
    "for item in regz_tenor:\n",
    "    if item:\n",
    "        all_regz_tenor += item"
   ]
  },
  {
   "cell_type": "code",
   "execution_count": 112,
   "metadata": {},
   "outputs": [
    {
     "data": {
      "text/plain": [
       "{'AK ',\n",
       " 'AR ',\n",
       " 'ARs ',\n",
       " 'AZR ',\n",
       " 'BGs ',\n",
       " 'BJs ',\n",
       " 'BvR ',\n",
       " 'C ',\n",
       " 'D ',\n",
       " 'Ds ',\n",
       " 'GSSt ',\n",
       " 'GSZ ',\n",
       " 'I ',\n",
       " 'II ',\n",
       " 'IX ',\n",
       " 'Js ',\n",
       " 'KA ',\n",
       " 'KLs ',\n",
       " 'KRB ',\n",
       " 'Ks ',\n",
       " 'Ns ',\n",
       " 'OGs ',\n",
       " 'OJs ',\n",
       " 'Qs ',\n",
       " 'RVs ',\n",
       " 'Ss ',\n",
       " 'SsBs ',\n",
       " 'St ',\n",
       " 'StB ',\n",
       " 'StE ',\n",
       " 'StR ',\n",
       " 'T ',\n",
       " 'V ',\n",
       " 'VAs ',\n",
       " 'VGS ',\n",
       " 'VI ',\n",
       " 'VII ',\n",
       " 'Ws ',\n",
       " 'Wx ',\n",
       " 'XI '}"
      ]
     },
     "execution_count": 112,
     "metadata": {},
     "output_type": "execute_result"
    }
   ],
   "source": [
    "set(all_regz_tenor)"
   ]
  },
  {
   "cell_type": "code",
   "execution_count": 113,
   "metadata": {},
   "outputs": [
    {
     "data": {
      "text/plain": [
       "<AxesSubplot:ylabel='count'>"
      ]
     },
     "execution_count": 113,
     "metadata": {},
     "output_type": "execute_result"
    },
    {
     "data": {
      "image/png": "[encoded data removed]",
      "text/plain": [
       "<Figure size 432x288 with 1 Axes>"
      ]
     },
     "metadata": {
      "needs_background": "light"
     },
     "output_type": "display_data"
    }
   ],
   "source": [
    "plt.yscale('log')\n",
    "plt.xticks(rotation=90)\n",
    "sns.countplot(all_regz_tenor)"
   ]
  },
  {
   "cell_type": "markdown",
   "metadata": {},
   "source": [
    "## Häufigkeit von Aktenzeichen."
   ]
  },
  {
   "cell_type": "markdown",
   "metadata": {},
   "source": [
    "1. Ansatz: alle Zitate berücksichtigen, auch wenn sie mehrfach in einer Rechtsprechung auftauchen"
   ]
  },
  {
   "cell_type": "code",
   "execution_count": 144,
   "metadata": {},
   "outputs": [],
   "source": [
    "# flatten\n",
    "def flattenAz(az: list):\n",
    "    flat_az = []\n",
    "    if az:\n",
    "        flat_az = [item for sublist in az for item in sublist]\n",
    "    return flat_az"
   ]
  },
  {
   "cell_type": "code",
   "execution_count": 145,
   "metadata": {},
   "outputs": [],
   "source": [
    "# flatten lists of column cited_az_gruende\n",
    "data_all_az[\"cited_az_gruende\"] = data_all_az[\"cited_az_gruende\"].apply(flattenAz)"
   ]
  },
  {
   "cell_type": "code",
   "execution_count": 146,
   "metadata": {},
   "outputs": [
    {
     "data": {
      "text/plain": [
       "0                                          [2 ARs 547/06]\n",
       "1                                                      []\n",
       "2                                                      []\n",
       "3                            [2 StR 375/08, 3 StR 171/09]\n",
       "4                                           [3 StR 71/05]\n",
       "                              ...                        \n",
       "5821    [4 StR 532/92, 2 StR 289/13, 4 StR 16/55, 4 St...\n",
       "5822    [1 StR 178/13, 5 StR 214/18, 2 StR 150/18, 1 S...\n",
       "5823    [2 StR 43/13, 3 StR 470/11, 3 StR 137/14, 3 St...\n",
       "5824                         [3 StR 421/02, 2 StR 231/18]\n",
       "5825    [2 StR 419/18, 2 StR 13/14, 2 StR 286/15, 2 St...\n",
       "Name: cited_az_gruende, Length: 5826, dtype: object"
      ]
     },
     "execution_count": 146,
     "metadata": {},
     "output_type": "execute_result"
    }
   ],
   "source": [
    "data_all_az.cited_az_gruende"
   ]
  },
  {
   "cell_type": "code",
   "execution_count": 147,
   "metadata": {},
   "outputs": [],
   "source": [
    "# collect all original az in one list \"all_cited_az\"\n",
    "all_cited_az = []\n",
    "for liste in data_all_az.cited_az_gruende:\n",
    "    if liste:\n",
    "        all_cited_az += liste        "
   ]
  },
  {
   "cell_type": "code",
   "execution_count": 148,
   "metadata": {},
   "outputs": [],
   "source": [
    "# entferne Leerzeichen am Anfang\n",
    "for i, az in enumerate(all_cited_az):\n",
    "    if az.startswith(\" \"):\n",
    "        all_cited_az[i] = az[1:]"
   ]
  },
  {
   "cell_type": "code",
   "execution_count": 149,
   "metadata": {},
   "outputs": [
    {
     "data": {
      "text/plain": [
       "['2 ARs 547/06',\n",
       " '2 StR 375/08',\n",
       " '3 StR 171/09',\n",
       " '3 StR 71/05',\n",
       " '4 StR 5/08',\n",
       " '5 StR 136/09',\n",
       " '1 StR 205/09',\n",
       " '5 StR 374/07',\n",
       " '2 StR 302/09',\n",
       " '5 StR 22/09',\n",
       " '4 StR 21/08',\n",
       " '4 StR 552/08',\n",
       " '3 StR 457/00',\n",
       " '1 StR 147/06',\n",
       " '1 StR 620/09',\n",
       " '2 StR 336/94',\n",
       " '2 StR 127/07',\n",
       " '4 StR 40/06',\n",
       " '3 StR 392/09',\n",
       " '3 StR 229/08',\n",
       " '4 StR 168/05',\n",
       " '4 StR 308/92',\n",
       " '4 StR 271/99',\n",
       " '4 StR 293/83',\n",
       " '4 StR 271/99',\n",
       " '4 StR 271/99',\n",
       " '4 StR 450/09',\n",
       " '4 StR 432/02',\n",
       " '4 StR 414/02',\n",
       " '1 BvR 256/08',\n",
       " '3 StR 36/08',\n",
       " '2 BJs 58/06',\n",
       " 'R 33/02',\n",
       " '2 RK 36/86',\n",
       " '1 StR 102/03',\n",
       " '3 StR 450/07',\n",
       " '4 StR 522/87',\n",
       " '5 StR 115/99',\n",
       " '4 StR 371/08',\n",
       " 'GSSt 2/56',\n",
       " '4 StR 172/73',\n",
       " '2 StR 669/81',\n",
       " '2 StR 153/02',\n",
       " '4 StR 88/98',\n",
       " '4 StR 271/99',\n",
       " '2 StR 311/05',\n",
       " '3 StR 256/04',\n",
       " '2 StR 112/10',\n",
       " '5 StR 555/08',\n",
       " '4 StR 173/96',\n",
       " '2 StR 144/05',\n",
       " '3 StR 30/03',\n",
       " '3 StR 142/03',\n",
       " '4 StR 33/88',\n",
       " '3 StR 344/03',\n",
       " '4 StR 481/07',\n",
       " '3 StR 76/10',\n",
       " '1 StR 25/03',\n",
       " '5 StR 169/09',\n",
       " '3 StR 142/91',\n",
       " '1 Ss 407/97',\n",
       " '1 Ss 71/94',\n",
       " '1 StR 231/08',\n",
       " '5 StR 119/05',\n",
       " '1 StR 169/02',\n",
       " '5 StR 453/06',\n",
       " '1 StR 808/92',\n",
       " '3 StR 240/02',\n",
       " '2 StR 387/91',\n",
       " '1 StR 347/10',\n",
       " '1 StR 345/10',\n",
       " '3 StR 528/09',\n",
       " '1 StR 99/09',\n",
       " '1 StR 274/03',\n",
       " '1 StR 664/08',\n",
       " '1 StR 62/04',\n",
       " 'GSSt 1/05',\n",
       " '3 StR 503/88',\n",
       " '3 StR 294/09',\n",
       " '2 StR 332/03',\n",
       " '3 StR 155/76',\n",
       " '4 StR 142/82',\n",
       " '4 StR 153/97',\n",
       " '3 StR 207/02',\n",
       " '3 StR 65/10',\n",
       " '1 StR 617/91',\n",
       " '2 StR 662/88',\n",
       " '4 StR 89/05',\n",
       " '4 StR 96/03',\n",
       " '4 StR 438/02',\n",
       " '1 StR 587/09',\n",
       " '3 StR 272/99',\n",
       " '1 StR 156/98',\n",
       " '1 StR 557/00',\n",
       " '1 StR 160/81',\n",
       " '3 StR 430/92',\n",
       " '1 StR 737/08',\n",
       " '3 StR 61/81',\n",
       " '4 StR 60/89',\n",
       " '3 StR 543/08',\n",
       " '1 StR 457/02',\n",
       " '3 StR 543/08',\n",
       " '2 StR 536/98',\n",
       " '2 StR 22/90',\n",
       " '2 StR 4/93',\n",
       " '3 StR 383/97',\n",
       " '1 StR 800/96',\n",
       " '2 StR 536/98',\n",
       " '1 StR 800/96',\n",
       " '2 StR 22/90',\n",
       " '2 StR 4/93',\n",
       " '1 StR 59/10',\n",
       " '2 StR 743/78',\n",
       " '1 StR 9/90',\n",
       " '4 StR 105/91',\n",
       " '2 StR 374/92',\n",
       " '2 StR 186/05',\n",
       " '2 StR 181/06',\n",
       " '4 StR 665/07',\n",
       " '3 StR 458/08',\n",
       " '3 StR 424/09',\n",
       " '3 StR 141/09',\n",
       " '1 StR 587/09',\n",
       " '1 StR 531/98',\n",
       " '4 StR 314/00',\n",
       " '1 StR 420/05',\n",
       " '2 StR 434/09',\n",
       " '3 StR 458/08',\n",
       " '4 StR 105/91',\n",
       " '1 StR 344/08',\n",
       " '1 StR 547/05',\n",
       " '3 StR 94/00',\n",
       " '3 StR 545/07',\n",
       " '4 StR 279/07',\n",
       " '1 StR 547/05',\n",
       " '4 ARs 8/77',\n",
       " '5 StR 22/03',\n",
       " '1 StR 505/99',\n",
       " '2 StR 782/84',\n",
       " '3 StR 177/86',\n",
       " '1 StR 18/95',\n",
       " '1 StR 296/89',\n",
       " '1 StR 373/10',\n",
       " '2 StR 166/84',\n",
       " '5 StR 383/06',\n",
       " '5 StR 532/04',\n",
       " '1 StR 530/09',\n",
       " '3 StR 431/08',\n",
       " '1 StR 77/68',\n",
       " '4 StR 286/06',\n",
       " '2 StR 44/04',\n",
       " '4 StR 326/77',\n",
       " '3 StR 10/86',\n",
       " '1 StR 484/08',\n",
       " '2 StR 203/05',\n",
       " '5 StR 299/03',\n",
       " '1 StR 249/81',\n",
       " '2 StR 250/88',\n",
       " '5 StR 221/89',\n",
       " '3 StR 96/07',\n",
       " '3 StR 88/81',\n",
       " '3 StR 89/93',\n",
       " '2 BvR 1639/94',\n",
       " '3 StR 421/96',\n",
       " '2 BvR 1730/06',\n",
       " '5 StR 129/07',\n",
       " '4 StR 443/07',\n",
       " '2 BvR 1730/06',\n",
       " '1 StR 289/09',\n",
       " '3 StR 509/07',\n",
       " '1 StR 289/09',\n",
       " '3 StR 446/04',\n",
       " '3 StR 445/04',\n",
       " '5 StR 129/05',\n",
       " '3 StR 264/79',\n",
       " '4 StR 252/91',\n",
       " '2 BvR 1730/06',\n",
       " '1 StR 371/06',\n",
       " '1 StR 476/53',\n",
       " '2 StR 596/08',\n",
       " '3 StR 437/02',\n",
       " '3 StR 55/89',\n",
       " '5 StR 549/06',\n",
       " '5 StR 210/97',\n",
       " '5 StR 584/00',\n",
       " '5 StR 500/98',\n",
       " '1 StR 336/08',\n",
       " '1 StR 369/03',\n",
       " '2 StR 596/08',\n",
       " '3 StR 437/02',\n",
       " '1 StR 718/08',\n",
       " '3 StR 373/86',\n",
       " '5 StR 458/77',\n",
       " 'I R 92/98',\n",
       " 'VIII R 2/02',\n",
       " '1 StR 322/08',\n",
       " '3 K 1694/07',\n",
       " '5 StR 547/07',\n",
       " '5 StR 72/07',\n",
       " 'VIII B 122/92',\n",
       " '5 StR 435/06',\n",
       " '5 StR 277/03',\n",
       " 'VIII R 24/03',\n",
       " 'I R 139/94',\n",
       " 'I 325/61',\n",
       " 'VIII R 74/84',\n",
       " '5 StR 277/03',\n",
       " 'I R 11/85',\n",
       " 'I R 228/81',\n",
       " 'VIII R 15/94',\n",
       " '1 StR 416/08',\n",
       " '1 StR 483/97',\n",
       " '3 StR 52/01',\n",
       " '3 StR 344/03',\n",
       " '3 StR 462/06',\n",
       " '4 StR 559/04',\n",
       " '3 StR 344/03',\n",
       " '4 StR 183/82',\n",
       " '2 StR 627/89',\n",
       " '2 StR 534/96',\n",
       " '1 StR 654/98',\n",
       " '3 StR 433/00',\n",
       " '3 StR 420/02',\n",
       " '4 StR 464/00',\n",
       " '2 StR 34/07',\n",
       " '3 StR 420/02',\n",
       " '2 StR 254/03',\n",
       " '2 StR 575/05',\n",
       " '4 StR 313/06',\n",
       " '4 StR 452/95',\n",
       " '1 StR 417/99',\n",
       " '4 StR 31/01',\n",
       " '2 StR 150/08',\n",
       " '3 StR 269/04',\n",
       " '1 BvR 256/08',\n",
       " '1 BvR 256/08',\n",
       " '3 StR 686/97',\n",
       " '4 StR 287/97',\n",
       " '2 StR 360/83',\n",
       " '3 StR 122/02',\n",
       " '1 StR 300/09',\n",
       " '1 StR 300/09',\n",
       " '1 StR 300/09',\n",
       " '3 StR 89/99',\n",
       " '2 StR 348/88',\n",
       " '4 StR 17/98',\n",
       " '1 StR 833/84',\n",
       " '1 StR 232/01',\n",
       " '1 StR 833/84',\n",
       " '5 StR 499/06',\n",
       " '1 StR 393/87',\n",
       " '1 StR 182/88',\n",
       " '3 StR 367/84',\n",
       " '1 StR 167/77',\n",
       " '3 StR 367/84',\n",
       " '3 StR 367/84',\n",
       " '4 StR 164/10',\n",
       " '2 StR 224/80',\n",
       " '2 StR 161/07',\n",
       " '5 StR 319/10',\n",
       " '4 StR 285/10',\n",
       " '2 StR 508/56',\n",
       " '5 StR 297/10',\n",
       " '5 StR 319/10',\n",
       " '4 StR 410/73',\n",
       " '5 StR 80/60',\n",
       " '1 StR 430/91',\n",
       " '4 StR 685/98',\n",
       " '1 StR 148/88',\n",
       " '2 StR 598/99',\n",
       " '2 StR 598/99',\n",
       " '1 StR 772/94',\n",
       " '2 StR 128/01',\n",
       " '1 StR 148/88',\n",
       " '2 StR 598/99',\n",
       " '5 StR 80/60',\n",
       " '2 StR 159/01',\n",
       " '2 StR 303/95',\n",
       " '5 StR 80/60',\n",
       " '5 StR 111/90',\n",
       " '1 StR 772/94',\n",
       " '4 StR 685/98',\n",
       " '4 StR 58/08',\n",
       " '3 StR 71/04',\n",
       " '1 StR 148/88',\n",
       " '2 StR 394/87',\n",
       " '4 StR 397/71',\n",
       " '3 StR 226/07',\n",
       " '2 StR 50/08',\n",
       " '3 StR 246/09',\n",
       " '5 StR 35/55',\n",
       " '2 StR 50/08',\n",
       " '3 StR 226/07',\n",
       " '2 StR 340/06',\n",
       " '3 StR 142/08',\n",
       " '2 StR 133/07',\n",
       " '3 StR 246/09',\n",
       " '2 StR 340/06',\n",
       " '3 StR 226/07',\n",
       " '3 StR 246/09',\n",
       " '3 StR 142/08',\n",
       " '1 StR 301/07',\n",
       " '4 StR 164/09',\n",
       " '4 StR 526/84',\n",
       " '2 StR 259/09',\n",
       " '2 StR 582/99',\n",
       " '4 StR 82/10',\n",
       " '2 StR 582/99',\n",
       " '5 StR 251/10',\n",
       " '5 StR 124/03',\n",
       " '1 StR 298/07',\n",
       " '2 BvR 1593/03',\n",
       " '3 StR 210/10',\n",
       " '5 StR 218/04',\n",
       " '4 StR 164/09',\n",
       " '2 StR 242/04',\n",
       " '3 StR 210/10',\n",
       " '2 StR 103/09',\n",
       " '3 StR 236/08',\n",
       " '2 StR 103/09',\n",
       " '4 StR 585/03',\n",
       " '5 StR 405/10',\n",
       " '2 StR 402/05',\n",
       " '4 StR 51/88',\n",
       " '4 StR 446/92',\n",
       " '2 StR 78/10',\n",
       " '1 StR 634/99',\n",
       " '4 StR 604/05',\n",
       " '4 StR 604/05',\n",
       " '2 StR 78/10',\n",
       " '1 StR 52/11',\n",
       " '3 StR 359/10',\n",
       " '1 StR 359/10',\n",
       " '3 StR 226/10',\n",
       " '3 StR 528/09',\n",
       " '4 StR 189/99',\n",
       " '3 StR 226/10',\n",
       " '1 StR 359/10',\n",
       " '3 StR 359/10',\n",
       " '1 StR 345/10',\n",
       " '5 StR 547/10',\n",
       " '5 StR 617/93',\n",
       " '4 StR 485/99',\n",
       " '3 StR 179/10',\n",
       " '2 BvR 2232/94',\n",
       " 'StB 30/96',\n",
       " '4 StR 693/98',\n",
       " '4 StR 79/99',\n",
       " '4 StR 337/00',\n",
       " '4 StR 520/04',\n",
       " '2 BGs 94/10',\n",
       " '2 BGs 162/10',\n",
       " '2 BGs 59/11',\n",
       " '3 StR 552/08',\n",
       " '4 StR 595/05',\n",
       " '3 StR 473/04',\n",
       " '1 StR 568/99',\n",
       " '4 StR 190/00',\n",
       " '4 StR 215/10',\n",
       " '4 StR 215/10',\n",
       " '4 StR 215/10',\n",
       " '4 StR 215/10',\n",
       " '1 StR 260/09',\n",
       " 'GSSt 1/10',\n",
       " '2 StR 174/05',\n",
       " 'GSSt 1/10',\n",
       " 'GSSt 1/10',\n",
       " '1 StR 260/09',\n",
       " 'GSSt 1/07',\n",
       " '1 StR 445/03',\n",
       " '3 StR 61/02',\n",
       " '3 StR 415/02',\n",
       " 'GSSt 1/07',\n",
       " '2 StR 577/09',\n",
       " '2 StR 92/10',\n",
       " '3 StR 462/00',\n",
       " '1 StR 377/88',\n",
       " '2 StR 550/58',\n",
       " '1 StR 298/06',\n",
       " '1 StR 422/10',\n",
       " '1 StR 587/09',\n",
       " 'GSSt 1/06',\n",
       " '2 StR 54/09',\n",
       " '1 StR 620/09',\n",
       " '1 StR 152/53',\n",
       " '2 ARs 41/11',\n",
       " '1 StR 78/00',\n",
       " '4 StR 2/04',\n",
       " '4 StR 262/07',\n",
       " '4 StR 366/09',\n",
       " '3 StR 354/90',\n",
       " '4 StR 249/04',\n",
       " '4 StR 297/07',\n",
       " '4 StR 249/04',\n",
       " '4 StR 573/04',\n",
       " '1 StR 563/04',\n",
       " '1 StR 305/66',\n",
       " '4 StR 441/78',\n",
       " '2 StR 636/97',\n",
       " '3 StR 183/96',\n",
       " '1 StR 269/02',\n",
       " '4 StR 581/04',\n",
       " '1 StR 292/08',\n",
       " '4 StR 6/96',\n",
       " '4 StR 588/92',\n",
       " '2 StR 470/97',\n",
       " '3 HEs 77/83',\n",
       " '4 StR 513/99',\n",
       " '5 StR 235/09',\n",
       " '1 StR 416/98',\n",
       " '3 StR 410/92',\n",
       " '2 StR 532/09',\n",
       " '4 StR 474/93',\n",
       " '4 StR 690/10',\n",
       " '1 StR 344/05',\n",
       " '4 Ns 150/08',\n",
       " '5 StR 430/04',\n",
       " 'Rep. 4638/97',\n",
       " '4 StR 426/04',\n",
       " '5 StR 430/04',\n",
       " '5 StR 312/10',\n",
       " '1 StR 202/05',\n",
       " '5 StR 997/83',\n",
       " '3 StR 236/80',\n",
       " '2 StR 215/06',\n",
       " '4 StR 658/10',\n",
       " '3 StR 110/11',\n",
       " '3 StR 344/03',\n",
       " '5 StR 145/03',\n",
       " '4 StR 323/97',\n",
       " '1 StR 481/97',\n",
       " '1 StR 283/09',\n",
       " '1 StR 718/08',\n",
       " '1 StR 320/09',\n",
       " '1 StR 651/10',\n",
       " '4 StR 502/10',\n",
       " '2 StR 642/10',\n",
       " '2 BvR 2365/09',\n",
       " '2 StR 280/09',\n",
       " '5 StR 169/09',\n",
       " '2 StR 386/10',\n",
       " 'GSSt 1/06',\n",
       " '4 StR 215/10',\n",
       " '4 StR 215/10',\n",
       " '4 StR 51/55',\n",
       " '4 StR 250/65',\n",
       " '1 StR 475/95',\n",
       " '1 StR 501/81',\n",
       " '2 StR 94/87',\n",
       " '5 StR 418/88',\n",
       " '1 StR 585/93',\n",
       " '5 StR 467/06',\n",
       " '4 StR 577/09',\n",
       " '5 StR 394/10',\n",
       " '2 StR 9/05',\n",
       " '2 StR 524/09',\n",
       " '5 StR 363/55',\n",
       " '5 StR 496/73',\n",
       " '1 StR 441/05',\n",
       " '2 BvR 2365/09',\n",
       " '4 StR 577/09',\n",
       " '2 StR 9/05',\n",
       " '2 StR 272/05',\n",
       " '2 StR 263/10',\n",
       " '1 StR 441/05',\n",
       " '2 BvR 2365/09',\n",
       " '4 StR 650/10',\n",
       " '2 BvR 2846/09',\n",
       " '3 StR 220/96',\n",
       " '2 StR 436/07',\n",
       " '4 StR 612/06',\n",
       " '3 StR 385/97',\n",
       " '3 StR 28/04',\n",
       " '3 StR 220/96',\n",
       " '3 StR 93/06',\n",
       " '2 BvR 1136/03',\n",
       " '1 StR 127/03',\n",
       " '1 StR 281/02',\n",
       " '4 StR 669/10',\n",
       " '2 StR 662/88',\n",
       " '3 StR 88/08',\n",
       " '2 StR 385/08',\n",
       " '3 StR 88/08',\n",
       " '2 BvR 2333/08',\n",
       " '2 BvR 2365/09',\n",
       " '2 BvR 571/10',\n",
       " '2 BvR 740/10',\n",
       " '2 BvR 1152/10',\n",
       " '5 StR 192/11',\n",
       " '2 StR 483/98',\n",
       " '3 StR 91/10',\n",
       " '1 StR 109/11',\n",
       " '3 StR 343/98',\n",
       " '3 StR 199/03',\n",
       " '3 StR 567/08',\n",
       " '3 StR 567/08',\n",
       " '5 StR 159/10',\n",
       " '5 StR 555/09',\n",
       " '5 StR 159/10',\n",
       " '2 StR 277/92',\n",
       " '3 StR 12/11',\n",
       " '3 StR 85/90',\n",
       " '1 StR 300/09',\n",
       " '3 StR 12/11',\n",
       " '4 StR 164/11',\n",
       " '3 StR 175/11',\n",
       " '5 StR 192/11',\n",
       " '4 StR 164/11',\n",
       " '2 BGs 195/11',\n",
       " '1 Gs 29/11',\n",
       " '3 StR 552/08',\n",
       " '3 StR 199/84',\n",
       " '2 StR 68/99',\n",
       " '5 StR 22/05',\n",
       " '2 StR 236/05',\n",
       " '1 StR 250/05',\n",
       " '1 StR 699/92',\n",
       " 'GSSt 3/57',\n",
       " '5 StR 122/91',\n",
       " '2 StR 650/95',\n",
       " '5 StR 315/98',\n",
       " '2 StR 350/89',\n",
       " '1 StR 295/11',\n",
       " '1 StR 688/94',\n",
       " '2 StR 353/87',\n",
       " '4 StR 313/92',\n",
       " '2 BGs 64/11',\n",
       " 'StB 34/09',\n",
       " 'StB 52/09',\n",
       " '5 StR 461/06',\n",
       " '5 StR 704/68',\n",
       " '4 StR 285/10',\n",
       " '5 StR 627/69',\n",
       " '1 StR 669/88',\n",
       " '5 StR 299/03',\n",
       " '5 StR 278/05',\n",
       " '5 StR 286/11',\n",
       " '1 StR 204/02',\n",
       " '1 StR 529/10',\n",
       " '4 StR 127/11',\n",
       " '2 BvR 2365/09',\n",
       " '4 StR 127/11',\n",
       " '2 StR 164/11',\n",
       " '1 StR 528/10',\n",
       " '4 StR 127/11',\n",
       " '2 StR 164/11',\n",
       " '2 StR 111/88',\n",
       " '2 StR 507/04',\n",
       " '5 StR 440/08',\n",
       " '3 StR 250/09',\n",
       " '2 StR 185/10',\n",
       " '3 StR 139/06',\n",
       " '2 StR 111/88',\n",
       " '2 StR 507/04',\n",
       " '5 StR 440/08',\n",
       " '3 StR 250/09',\n",
       " 'GSSt 1/07',\n",
       " '3 StR 250/09',\n",
       " '3 StR 200/99',\n",
       " '5 StR 114/08',\n",
       " '2 StR 134/08',\n",
       " '4 StR 308/86',\n",
       " '5 StR 25/00',\n",
       " '1 StR 178/05',\n",
       " '1 StR 153/11',\n",
       " '1 StR 191/09',\n",
       " '4 StR 81/94',\n",
       " '5 StR 492/90',\n",
       " '5 StR 143/10',\n",
       " '5 StR 520/09',\n",
       " '1 StR 14/02',\n",
       " '5 StR 290/04',\n",
       " '5 StR 93/04',\n",
       " '4 StR 112/11',\n",
       " '1 StR 48/02',\n",
       " '2 StR 608/85',\n",
       " '2 StR 641/96',\n",
       " '5 StR 497/07',\n",
       " '1 StR 183/00',\n",
       " '1 StR 470/08',\n",
       " '1 StR 398/00',\n",
       " '5 StR 259/02',\n",
       " '4 StR 594/54',\n",
       " '2 BvR 2365/09',\n",
       " '3 StR 208/11',\n",
       " '3 StR 235/11',\n",
       " '5 StR 189/11',\n",
       " '2 StR 184/11',\n",
       " '2 BvR 2029/01',\n",
       " '2 StR 184/11',\n",
       " '4 StR 279/11',\n",
       " '3 StR 208/11',\n",
       " '3 StR 221/11',\n",
       " '3 StR 175/11',\n",
       " '4 StR 362/11',\n",
       " '3 StR 344/03',\n",
       " '3 StR 434/10',\n",
       " '4 StR 346/11',\n",
       " '4 StR 374/10',\n",
       " '4 StR 491/04',\n",
       " '4 StR 425/07',\n",
       " '4 StR 150/96',\n",
       " '3 StR 189/97',\n",
       " '3 StR 189/97',\n",
       " '4 StR 491/04',\n",
       " '3 StR 392/99',\n",
       " '3 StR 338/95',\n",
       " '2 StR 263/96',\n",
       " '3 StR 445/10',\n",
       " '4 StR 414/90',\n",
       " '4 StR 272/98',\n",
       " '2 StR 174/08',\n",
       " 'StB 21/10',\n",
       " 'StB 28/10',\n",
       " '3 W 45/11',\n",
       " '3 Wx 188/11',\n",
       " '3 W 45/11',\n",
       " 'VII ZB 6/05',\n",
       " 'KZR 28/03',\n",
       " 'XII ZR 103/07',\n",
       " '1 BvR 396/55',\n",
       " '1 BvR 1094/80',\n",
       " 'PBvU 1/02',\n",
       " '1 BvR 396/55',\n",
       " 'PBvU 1/02',\n",
       " '3 W 45/11',\n",
       " '1 StR 7/06',\n",
       " '5 StR 207/99',\n",
       " '2 StR 329/04',\n",
       " '2 StR 329/04',\n",
       " '4 StR 56/08',\n",
       " '2 StR 329/04',\n",
       " '2 BvL 3/90',\n",
       " '1 StR 9/90',\n",
       " '2 StR 374/92',\n",
       " '2 StR 500/00',\n",
       " '4 StR 40/86',\n",
       " '4 StR 120/91',\n",
       " '5 StR 246/11',\n",
       " '5 StR 365/02',\n",
       " '5 StR 226/11',\n",
       " '3 StR 254/07',\n",
       " '3 StR 199/06',\n",
       " '4 StR 172/96',\n",
       " '2 StR 675/97',\n",
       " '3 StR 254/07',\n",
       " '3 StR 61/11',\n",
       " '4 StR 272/68',\n",
       " '5 StR 689/92',\n",
       " '4 StR 140/97',\n",
       " '5 StR 634/98',\n",
       " '5 StR 461/99',\n",
       " '3 StR 139/06',\n",
       " '4 StR 309/04',\n",
       " '4 StR 31/60',\n",
       " '5 StR 236/06',\n",
       " '1 StR 618/98',\n",
       " '4 StR 517/11',\n",
       " '3 StR 287/10',\n",
       " '1 StR 287/11',\n",
       " '1 StR 370/07',\n",
       " '4 StR 534/07',\n",
       " '1 StR 430/06',\n",
       " '3 StR 215/08',\n",
       " '3 StR 174/09',\n",
       " '3 StR 215/08',\n",
       " '4 StR 612/11',\n",
       " '2 StR 501/08',\n",
       " '4 StR 612/11',\n",
       " '2 StR 501/08',\n",
       " '4 StR 612/11',\n",
       " '3 StR 269/01',\n",
       " '1 StR 737/08',\n",
       " '1 StR 574/10',\n",
       " '1 StR 485/71',\n",
       " '2 StR 652/10',\n",
       " '5 StR 489/02',\n",
       " '4 StR 342/99',\n",
       " '3 StR 348/90',\n",
       " '5 StR 272/86',\n",
       " '5 StR 616/83',\n",
       " 'VI ZR 282/85',\n",
       " '4 StR 342/99',\n",
       " '4 StR 258/91',\n",
       " '5 StR 616/83',\n",
       " 'IV ZR 270/88',\n",
       " 'III ZR 71/60',\n",
       " '4 StR 57/99',\n",
       " 'RR 221/97',\n",
       " '1 StR 336/11',\n",
       " '2 StR 616/10',\n",
       " '1 StR 731/08',\n",
       " '5 StR 355/98',\n",
       " '1 StR 343/11',\n",
       " '1 StR 5/87',\n",
       " '2 StR 652/10',\n",
       " '2 StR 613/90',\n",
       " '4 StR 57/99',\n",
       " '3 StR 348/90',\n",
       " '2 StR 652/10',\n",
       " '2 StR 613/90',\n",
       " '1 StR 5/87',\n",
       " '4 StR 204/79',\n",
       " '4 StR 57/99',\n",
       " '5 StR 272/86',\n",
       " '2 StR 194/11',\n",
       " '2 StR 516/03',\n",
       " '5 StR 46/09',\n",
       " '5 StR 262/10',\n",
       " '3 StR 189/54',\n",
       " '2 StR 37/55',\n",
       " '2 StR 424/66',\n",
       " '3 St 29/57',\n",
       " '3 StR 368/10',\n",
       " '3 StR 374/11',\n",
       " '4 StR 278/06',\n",
       " '1 StR 635/09',\n",
       " '5 StR 430/04',\n",
       " '4 StR 426/04',\n",
       " '2 StR 309/95',\n",
       " '4 StR 313/92',\n",
       " '1 StR 108/89',\n",
       " '5 StR 657/91',\n",
       " '4 StR 112/11',\n",
       " '1 StR 247/09',\n",
       " '4 StR 120/08',\n",
       " '1 StR 271/93',\n",
       " '1 StR 681/94',\n",
       " '1 StR 266/10',\n",
       " '1 StR 327/97',\n",
       " '1 StR 372/95',\n",
       " '3 StR 182/08',\n",
       " '1 StR 275/10',\n",
       " '2 StR 442/92',\n",
       " '1 StR 523/94',\n",
       " '5 StR 371/07',\n",
       " '2 StR 287/90',\n",
       " '1 StR 383/08',\n",
       " '4 StR 297/06',\n",
       " '3 StR 420/10',\n",
       " '1 StR 14/96',\n",
       " '5 StR 594/07',\n",
       " '1 StR 323/08',\n",
       " '1 StR 544/09',\n",
       " '1 StR 525/11',\n",
       " '1 StR 94/98',\n",
       " '1 StR 450/98',\n",
       " '3 StR 402/10',\n",
       " '1 StR 367/11',\n",
       " '5 StR 63/90',\n",
       " '3 StR 277/99',\n",
       " '3 StR 139/06',\n",
       " '5 StR 433/11',\n",
       " '5 StR 433/11',\n",
       " '5 StR 136/02',\n",
       " '5 StR 236/06',\n",
       " '5 StR 433/11',\n",
       " '5 StR 497/11',\n",
       " '4 StR 362/11',\n",
       " '3 StR 175/11',\n",
       " '3 StR 208/11',\n",
       " '2 StR 305/11',\n",
       " '1 StR 501/62',\n",
       " '4 StR 683/93',\n",
       " '1 StR 301/90',\n",
       " '3 StR 87/09',\n",
       " '3 StR 218/10',\n",
       " '4 StR 530/07',\n",
       " '5 StR 65/11',\n",
       " '3 StR 326/11',\n",
       " '4 StR 630/89',\n",
       " '2 StR 346/11',\n",
       " '2 StR 482/11',\n",
       " '2 BvR 958/06',\n",
       " '2 BvR 115/95',\n",
       " '4 StR 149/72',\n",
       " '2 BvR 115/95',\n",
       " '1 StR 346/03',\n",
       " '3 StR 154/08',\n",
       " '1 StR 406/03',\n",
       " '1 StR 627/08',\n",
       " '2 StR 172/11',\n",
       " '5 StR 86/55',\n",
       " '1 StR 147/03',\n",
       " '1 StR 346/03',\n",
       " '3 StR 276/95',\n",
       " '3 StR 224/00',\n",
       " '2 StR 240/01',\n",
       " '2 StR 389/05',\n",
       " '4 StR 131/00',\n",
       " '3 StR 38/08',\n",
       " '1 StR 542/00',\n",
       " '5 StR 505/11',\n",
       " '3 StR 2/12',\n",
       " '1 StR 94/98',\n",
       " '1 StR 183/00',\n",
       " '5 StR 511/08',\n",
       " '5 StR 585/07',\n",
       " '4 StR 355/09',\n",
       " '1 StR 343/96',\n",
       " '2 StR 270/89',\n",
       " 'GSSt 1/93',\n",
       " '3 StR 321/91',\n",
       " '2 StR 449/94',\n",
       " '3 StR 337/11',\n",
       " '5 StR 352/04',\n",
       " '5 StR 164/91',\n",
       " '5 StR 162/87',\n",
       " '4 StR 333/87',\n",
       " '4 StR 266/11',\n",
       " '4 StR 589/09',\n",
       " '4 StR 524/06',\n",
       " '4 StR 347/05',\n",
       " '4 StR 266/11',\n",
       " '4 StR 524/06',\n",
       " '4 StR 266/11',\n",
       " '4 StR 524/06',\n",
       " '1 StR 305/66',\n",
       " '1 StR 120/11',\n",
       " '1 StR 422/10',\n",
       " '1 StR 33/11',\n",
       " '1 StR 345/10',\n",
       " '4 StR 523/11',\n",
       " '4 StR 701/75',\n",
       " '4 StR 488/91',\n",
       " '4 StR 507/11',\n",
       " '4 StR 408/09',\n",
       " '4 StR 507/11',\n",
       " '4 StR 245/10',\n",
       " '2 StR 35/11',\n",
       " '3 StR 336/08',\n",
       " '2 StR 124/88',\n",
       " '1 StR 501/92',\n",
       " '2 StR 48/02',\n",
       " '2 StR 563/86',\n",
       " '1 StR 655/93',\n",
       " '4 StR 245/86',\n",
       " '3 StR 9/88',\n",
       " '1 StR 595/65',\n",
       " '4 StR 159/03',\n",
       " '3 StR 526/94',\n",
       " '5 StR 74/62',\n",
       " '2 StR 357/63',\n",
       " '5 StR 518/59',\n",
       " '5 StR 74/62',\n",
       " '4 StR 159/03',\n",
       " '1 StR 351/97',\n",
       " '4 StR 153/97',\n",
       " '4 StR 392/90',\n",
       " '1 StR 351/97',\n",
       " '2 StR 365/04',\n",
       " '1 BvR 461/08',\n",
       " '3 StR 129/85',\n",
       " '3 StR 174/09',\n",
       " '3 StR 193/80',\n",
       " '1 StR 179/93',\n",
       " '2 StR 365/04',\n",
       " '1 BvR 461/08',\n",
       " '1 BvR 2150/08',\n",
       " '1 BvR 917/09',\n",
       " '3 StR 453/11',\n",
       " '3 StR 296/11',\n",
       " '4 StR 718/93',\n",
       " '3 StR 391/02',\n",
       " '2 StR 641/95',\n",
       " '2 StR 666/93',\n",
       " '2 StR 436/96',\n",
       " '3 StR 455/09',\n",
       " '4 StR 162/99',\n",
       " '3 StR 375/03',\n",
       " '3 StR 393/11',\n",
       " '4 StR 394/07',\n",
       " '5 StR 123/10',\n",
       " '4 StR 404/10',\n",
       " '3 StR 432/10',\n",
       " 'I ZR 228/87',\n",
       " 'I ZR 21/02',\n",
       " '5 StR 136/04',\n",
       " '2 StR 54/68',\n",
       " '4 StR 295/95',\n",
       " '2 BvR 2365/09',\n",
       " '2 BvR 1048/11',\n",
       " '5 StR 535/11',\n",
       " '4 StR 595/97',\n",
       " '3 StR 117/68',\n",
       " '5 ARs 30/92',\n",
       " '4 StR 595/97',\n",
       " '4 StR 640/98',\n",
       " '5 StR 659/99',\n",
       " '1 StR 553/01',\n",
       " '4 StR 198/05',\n",
       " '1 StR 354/11',\n",
       " '2 BvR 235/64',\n",
       " '3 StR 48/50',\n",
       " '1 StR 541/08',\n",
       " '2 BvR 443/69',\n",
       " '1 StR 541/08',\n",
       " '1 StR 541/08',\n",
       " '5 StR 180/05',\n",
       " '1 StR 541/08',\n",
       " '2 StR 455/09',\n",
       " 'AK 6/07',\n",
       " 'StB 3/07',\n",
       " '4 StR 631/81',\n",
       " '5 StR 87/00',\n",
       " '3 StR 188/09',\n",
       " '5 StR 14/11',\n",
       " '3 StR 569/08',\n",
       " '3 StR 390/07',\n",
       " '2 StR 444/11',\n",
       " '3 StR 516/07',\n",
       " '3 StR 373/05',\n",
       " '5 StR 195/09',\n",
       " '4 StR 241/09',\n",
       " '4 StR 425/11',\n",
       " '2 StR 465/06',\n",
       " '5 StR 422/11',\n",
       " '2 StR 550/10',\n",
       " '5 StR 422/11',\n",
       " '2 StR 139/12',\n",
       " '1 StR 349/11',\n",
       " '1 StR 649/07',\n",
       " '1 StR 407/07',\n",
       " '1 StR 268/07',\n",
       " '1 StR 290/04',\n",
       " '1 StR 580/95',\n",
       " '1 StR 503/06',\n",
       " '4 StR 373/96',\n",
       " '4 StR 162/02',\n",
       " '2 StR 352/00',\n",
       " '2 StR 609/72',\n",
       " '5 StR 568/89',\n",
       " '2 StR 609/72',\n",
       " '4 StR 569/04',\n",
       " '3 StR 69/10',\n",
       " '4 BGs 31/09',\n",
       " 'StB 17/07',\n",
       " 'StB 21/03',\n",
       " 'AK 3/10',\n",
       " '2 BvR 1113/10',\n",
       " 'StB 11/03',\n",
       " '2 BvR 2652/07',\n",
       " '2 BvR 1847/07',\n",
       " '2 BvR 2652/07',\n",
       " '2 BvR 644/12',\n",
       " '4 StR 215/01',\n",
       " '2 StR 729/79',\n",
       " '2 BvR 93/05',\n",
       " '1 StR 379/04',\n",
       " '1 StR 537/99',\n",
       " '4 StR 404/63',\n",
       " '5 StR 181/09',\n",
       " '4 StR 309/65',\n",
       " '4 StR 725/57',\n",
       " '4 StR 309/65',\n",
       " '1 StR 61/73',\n",
       " '5 StR 60/02',\n",
       " '1 StR 537/99',\n",
       " '4 StR 725/57',\n",
       " '4 StR 404/63',\n",
       " '1 StR 537/99',\n",
       " '5 StR 181/09',\n",
       " '5 StR 120/98',\n",
       " '3 StR 390/99',\n",
       " '5 StR 181/09',\n",
       " '1 StR 590/76',\n",
       " '4 StR 309/65',\n",
       " '4 StR 404/63',\n",
       " '1 StR 456/91',\n",
       " '3 StR 355/86',\n",
       " '3 StR 390/99',\n",
       " '3 StR 446/93',\n",
       " '3 StR 453/88',\n",
       " '4 StR 223/87',\n",
       " '3 StR 6/02',\n",
       " '2 StR 486/02',\n",
       " '2 StR 294/02',\n",
       " '2 StR 184/04',\n",
       " '2 StR 376/07',\n",
       " '2 StR 527/07',\n",
       " '3 StR 438/84',\n",
       " '3 StR 377/89',\n",
       " '1 StR 614/87',\n",
       " '3 StR 119/87',\n",
       " '1 StR 647/86',\n",
       " '1 StR 268/87',\n",
       " '4 StR 516/11',\n",
       " '4 StR 215/10',\n",
       " '4 StR 516/11',\n",
       " '1 StR 94/98',\n",
       " '5 StR 84/09',\n",
       " '5 StR 127/10',\n",
       " '5 StR 15/12',\n",
       " '1 StR 274/02',\n",
       " '4 StR 572/06',\n",
       " '3 StR 34/11',\n",
       " '1 StR 166/76',\n",
       " '2 StR 591/97',\n",
       " '1 StR 94/98',\n",
       " '3 StR 141/87',\n",
       " ...]"
      ]
     },
     "execution_count": 149,
     "metadata": {},
     "output_type": "execute_result"
    }
   ],
   "source": [
    "all_cited_az"
   ]
  },
  {
   "cell_type": "code",
   "execution_count": 150,
   "metadata": {},
   "outputs": [
    {
     "data": {
      "text/plain": [
       "46457"
      ]
     },
     "execution_count": 150,
     "metadata": {},
     "output_type": "execute_result"
    }
   ],
   "source": [
    "len(all_cited_az)"
   ]
  },
  {
   "cell_type": "markdown",
   "metadata": {},
   "source": [
    "### Wie oft werden die vorkommenden Aktenzeichen zitiert?\n",
    "hier wird jedes Zitat einzeln gezählt, egal ob mehrfach in einem Dokument vorkommend, oder verteilt auf unterschiedliche Dokumente"
   ]
  },
  {
   "cell_type": "code",
   "execution_count": 151,
   "metadata": {},
   "outputs": [],
   "source": [
    "def getDuplicatesWithCount(listOfElems):\n",
    "    dictOfElems = dict()\n",
    "    for elem in listOfElems:\n",
    "        if elem in dictOfElems:\n",
    "            dictOfElems[elem] += 1\n",
    "        else:\n",
    "            dictOfElems[elem] = 1    \n",
    "    return dictOfElems"
   ]
  },
  {
   "cell_type": "code",
   "execution_count": 152,
   "metadata": {},
   "outputs": [],
   "source": [
    "dict_all_az = getDuplicatesWithCount(all_cited_az)"
   ]
  },
  {
   "cell_type": "code",
   "execution_count": 153,
   "metadata": {},
   "outputs": [
    {
     "data": {
      "text/plain": [
       "{'2 ARs 547/06': 1,\n",
       " '2 StR 375/08': 1,\n",
       " '3 StR 171/09': 9,\n",
       " '3 StR 71/05': 2,\n",
       " '4 StR 5/08': 1,\n",
       " '5 StR 136/09': 1,\n",
       " '1 StR 205/09': 32,\n",
       " '5 StR 374/07': 1,\n",
       " '2 StR 302/09': 2,\n",
       " '5 StR 22/09': 4,\n",
       " '4 StR 21/08': 1,\n",
       " '4 StR 552/08': 2,\n",
       " '3 StR 457/00': 2,\n",
       " '1 StR 147/06': 2,\n",
       " '1 StR 620/09': 6,\n",
       " '2 StR 336/94': 1,\n",
       " '2 StR 127/07': 1,\n",
       " '4 StR 40/06': 1,\n",
       " '3 StR 392/09': 4,\n",
       " '3 StR 229/08': 8,\n",
       " '4 StR 168/05': 12,\n",
       " '4 StR 308/92': 2,\n",
       " '4 StR 271/99': 4,\n",
       " '4 StR 293/83': 1,\n",
       " '4 StR 450/09': 5,\n",
       " '4 StR 432/02': 1,\n",
       " '4 StR 414/02': 3,\n",
       " '1 BvR 256/08': 21,\n",
       " '3 StR 36/08': 3,\n",
       " '2 BJs 58/06': 1,\n",
       " 'R 33/02': 1,\n",
       " '2 RK 36/86': 2,\n",
       " '1 StR 102/03': 5,\n",
       " '3 StR 450/07': 1,\n",
       " '4 StR 522/87': 1,\n",
       " '5 StR 115/99': 1,\n",
       " '4 StR 371/08': 2,\n",
       " 'GSSt 2/56': 12,\n",
       " '4 StR 172/73': 11,\n",
       " '2 StR 669/81': 3,\n",
       " '2 StR 153/02': 13,\n",
       " '4 StR 88/98': 6,\n",
       " '2 StR 311/05': 4,\n",
       " '3 StR 256/04': 7,\n",
       " '2 StR 112/10': 1,\n",
       " '5 StR 555/08': 3,\n",
       " '4 StR 173/96': 2,\n",
       " '2 StR 144/05': 1,\n",
       " '3 StR 30/03': 5,\n",
       " '3 StR 142/03': 1,\n",
       " '4 StR 33/88': 11,\n",
       " '3 StR 344/03': 71,\n",
       " '4 StR 481/07': 11,\n",
       " '3 StR 76/10': 9,\n",
       " '1 StR 25/03': 8,\n",
       " '5 StR 169/09': 9,\n",
       " '3 StR 142/91': 3,\n",
       " '1 Ss 407/97': 1,\n",
       " '1 Ss 71/94': 2,\n",
       " '1 StR 231/08': 7,\n",
       " '5 StR 119/05': 50,\n",
       " '1 StR 169/02': 23,\n",
       " '5 StR 453/06': 1,\n",
       " '1 StR 808/92': 1,\n",
       " '3 StR 240/02': 2,\n",
       " '2 StR 387/91': 4,\n",
       " '1 StR 347/10': 2,\n",
       " '1 StR 345/10': 6,\n",
       " '3 StR 528/09': 5,\n",
       " '1 StR 99/09': 6,\n",
       " '1 StR 274/03': 10,\n",
       " '1 StR 664/08': 2,\n",
       " '1 StR 62/04': 1,\n",
       " 'GSSt 1/05': 46,\n",
       " '3 StR 503/88': 1,\n",
       " '3 StR 294/09': 10,\n",
       " '2 StR 332/03': 4,\n",
       " '3 StR 155/76': 1,\n",
       " '4 StR 142/82': 5,\n",
       " '4 StR 153/97': 2,\n",
       " '3 StR 207/02': 2,\n",
       " '3 StR 65/10': 10,\n",
       " '1 StR 617/91': 2,\n",
       " '2 StR 662/88': 11,\n",
       " '4 StR 89/05': 2,\n",
       " '4 StR 96/03': 2,\n",
       " '4 StR 438/02': 1,\n",
       " '1 StR 587/09': 17,\n",
       " '3 StR 272/99': 1,\n",
       " '1 StR 156/98': 1,\n",
       " '1 StR 557/00': 2,\n",
       " '1 StR 160/81': 1,\n",
       " '3 StR 430/92': 1,\n",
       " '1 StR 737/08': 4,\n",
       " '3 StR 61/81': 3,\n",
       " '4 StR 60/89': 16,\n",
       " '3 StR 543/08': 5,\n",
       " '1 StR 457/02': 4,\n",
       " '2 StR 536/98': 4,\n",
       " '2 StR 22/90': 4,\n",
       " '2 StR 4/93': 3,\n",
       " '3 StR 383/97': 2,\n",
       " '1 StR 800/96': 3,\n",
       " '1 StR 59/10': 18,\n",
       " '2 StR 743/78': 5,\n",
       " '1 StR 9/90': 50,\n",
       " '4 StR 105/91': 11,\n",
       " '2 StR 374/92': 43,\n",
       " '2 StR 186/05': 1,\n",
       " '2 StR 181/06': 1,\n",
       " '4 StR 665/07': 3,\n",
       " '3 StR 458/08': 5,\n",
       " '3 StR 424/09': 1,\n",
       " '3 StR 141/09': 1,\n",
       " '1 StR 531/98': 1,\n",
       " '4 StR 314/00': 3,\n",
       " '1 StR 420/05': 8,\n",
       " '2 StR 434/09': 1,\n",
       " '1 StR 344/08': 4,\n",
       " '1 StR 547/05': 14,\n",
       " '3 StR 94/00': 3,\n",
       " '3 StR 545/07': 8,\n",
       " '4 StR 279/07': 1,\n",
       " '4 ARs 8/77': 1,\n",
       " '5 StR 22/03': 1,\n",
       " '1 StR 505/99': 3,\n",
       " '2 StR 782/84': 3,\n",
       " '3 StR 177/86': 3,\n",
       " '1 StR 18/95': 1,\n",
       " '1 StR 296/89': 4,\n",
       " '1 StR 373/10': 1,\n",
       " '2 StR 166/84': 5,\n",
       " '5 StR 383/06': 5,\n",
       " '5 StR 532/04': 5,\n",
       " '1 StR 530/09': 2,\n",
       " '3 StR 431/08': 2,\n",
       " '1 StR 77/68': 4,\n",
       " '4 StR 286/06': 1,\n",
       " '2 StR 44/04': 2,\n",
       " '4 StR 326/77': 3,\n",
       " '3 StR 10/86': 1,\n",
       " '1 StR 484/08': 5,\n",
       " '2 StR 203/05': 2,\n",
       " '5 StR 299/03': 19,\n",
       " '1 StR 249/81': 4,\n",
       " '2 StR 250/88': 3,\n",
       " '5 StR 221/89': 1,\n",
       " '3 StR 96/07': 2,\n",
       " '3 StR 88/81': 3,\n",
       " '3 StR 89/93': 2,\n",
       " '2 BvR 1639/94': 1,\n",
       " '3 StR 421/96': 1,\n",
       " '2 BvR 1730/06': 9,\n",
       " '5 StR 129/07': 2,\n",
       " '4 StR 443/07': 2,\n",
       " '1 StR 289/09': 8,\n",
       " '3 StR 509/07': 1,\n",
       " '3 StR 446/04': 3,\n",
       " '3 StR 445/04': 1,\n",
       " '5 StR 129/05': 3,\n",
       " '3 StR 264/79': 14,\n",
       " '4 StR 252/91': 2,\n",
       " '1 StR 371/06': 15,\n",
       " '1 StR 476/53': 1,\n",
       " '2 StR 596/08': 2,\n",
       " '3 StR 437/02': 9,\n",
       " '3 StR 55/89': 4,\n",
       " '5 StR 549/06': 3,\n",
       " '5 StR 210/97': 6,\n",
       " '5 StR 584/00': 1,\n",
       " '5 StR 500/98': 3,\n",
       " '1 StR 336/08': 1,\n",
       " '1 StR 369/03': 5,\n",
       " '1 StR 718/08': 41,\n",
       " '3 StR 373/86': 2,\n",
       " '5 StR 458/77': 3,\n",
       " 'I R 92/98': 1,\n",
       " 'VIII R 2/02': 1,\n",
       " '1 StR 322/08': 11,\n",
       " '3 K 1694/07': 1,\n",
       " '5 StR 547/07': 17,\n",
       " '5 StR 72/07': 6,\n",
       " 'VIII B 122/92': 1,\n",
       " '5 StR 435/06': 1,\n",
       " '5 StR 277/03': 2,\n",
       " 'VIII R 24/03': 2,\n",
       " 'I R 139/94': 1,\n",
       " 'I 325/61': 1,\n",
       " 'VIII R 74/84': 1,\n",
       " 'I R 11/85': 1,\n",
       " 'I R 228/81': 1,\n",
       " 'VIII R 15/94': 1,\n",
       " '1 StR 416/08': 47,\n",
       " '1 StR 483/97': 2,\n",
       " '3 StR 52/01': 9,\n",
       " '3 StR 462/06': 4,\n",
       " '4 StR 559/04': 3,\n",
       " '4 StR 183/82': 3,\n",
       " '2 StR 627/89': 1,\n",
       " '2 StR 534/96': 13,\n",
       " '1 StR 654/98': 2,\n",
       " '3 StR 433/00': 3,\n",
       " '3 StR 420/02': 3,\n",
       " '4 StR 464/00': 12,\n",
       " '2 StR 34/07': 8,\n",
       " '2 StR 254/03': 1,\n",
       " '2 StR 575/05': 4,\n",
       " '4 StR 313/06': 4,\n",
       " '4 StR 452/95': 1,\n",
       " '1 StR 417/99': 4,\n",
       " '4 StR 31/01': 1,\n",
       " '2 StR 150/08': 32,\n",
       " '3 StR 269/04': 39,\n",
       " '3 StR 686/97': 4,\n",
       " '4 StR 287/97': 6,\n",
       " '2 StR 360/83': 1,\n",
       " '3 StR 122/02': 8,\n",
       " '1 StR 300/09': 16,\n",
       " '3 StR 89/99': 2,\n",
       " '2 StR 348/88': 5,\n",
       " '4 StR 17/98': 4,\n",
       " '1 StR 833/84': 3,\n",
       " '1 StR 232/01': 7,\n",
       " '5 StR 499/06': 3,\n",
       " '1 StR 393/87': 1,\n",
       " '1 StR 182/88': 1,\n",
       " '3 StR 367/84': 13,\n",
       " '1 StR 167/77': 5,\n",
       " '4 StR 164/10': 4,\n",
       " '2 StR 224/80': 3,\n",
       " '2 StR 161/07': 2,\n",
       " '5 StR 319/10': 2,\n",
       " '4 StR 285/10': 8,\n",
       " '2 StR 508/56': 7,\n",
       " '5 StR 297/10': 2,\n",
       " '4 StR 410/73': 1,\n",
       " '5 StR 80/60': 10,\n",
       " '1 StR 430/91': 1,\n",
       " '4 StR 685/98': 2,\n",
       " '1 StR 148/88': 6,\n",
       " '2 StR 598/99': 4,\n",
       " '1 StR 772/94': 3,\n",
       " '2 StR 128/01': 4,\n",
       " '2 StR 159/01': 1,\n",
       " '2 StR 303/95': 3,\n",
       " '5 StR 111/90': 1,\n",
       " '4 StR 58/08': 4,\n",
       " '3 StR 71/04': 5,\n",
       " '2 StR 394/87': 2,\n",
       " '4 StR 397/71': 1,\n",
       " '3 StR 226/07': 20,\n",
       " '2 StR 50/08': 3,\n",
       " '3 StR 246/09': 17,\n",
       " '5 StR 35/55': 3,\n",
       " '2 StR 340/06': 7,\n",
       " '3 StR 142/08': 8,\n",
       " '2 StR 133/07': 6,\n",
       " '1 StR 301/07': 12,\n",
       " '4 StR 164/09': 3,\n",
       " '4 StR 526/84': 1,\n",
       " '2 StR 259/09': 6,\n",
       " '2 StR 582/99': 3,\n",
       " '4 StR 82/10': 3,\n",
       " '5 StR 251/10': 1,\n",
       " '5 StR 124/03': 2,\n",
       " '1 StR 298/07': 1,\n",
       " '2 BvR 1593/03': 1,\n",
       " '3 StR 210/10': 5,\n",
       " '5 StR 218/04': 2,\n",
       " '2 StR 242/04': 7,\n",
       " '2 StR 103/09': 11,\n",
       " '3 StR 236/08': 2,\n",
       " '4 StR 585/03': 1,\n",
       " '5 StR 405/10': 1,\n",
       " '2 StR 402/05': 5,\n",
       " '4 StR 51/88': 2,\n",
       " '4 StR 446/92': 1,\n",
       " '2 StR 78/10': 3,\n",
       " '1 StR 634/99': 3,\n",
       " '4 StR 604/05': 7,\n",
       " '1 StR 52/11': 5,\n",
       " '3 StR 359/10': 5,\n",
       " '1 StR 359/10': 5,\n",
       " '3 StR 226/10': 14,\n",
       " '4 StR 189/99': 6,\n",
       " '5 StR 547/10': 2,\n",
       " '5 StR 617/93': 1,\n",
       " '4 StR 485/99': 1,\n",
       " '3 StR 179/10': 9,\n",
       " '2 BvR 2232/94': 1,\n",
       " 'StB 30/96': 3,\n",
       " '4 StR 693/98': 3,\n",
       " '4 StR 79/99': 2,\n",
       " '4 StR 337/00': 2,\n",
       " '4 StR 520/04': 2,\n",
       " '2 BGs 94/10': 1,\n",
       " '2 BGs 162/10': 1,\n",
       " '2 BGs 59/11': 1,\n",
       " '3 StR 552/08': 92,\n",
       " '4 StR 595/05': 7,\n",
       " '3 StR 473/04': 7,\n",
       " '1 StR 568/99': 3,\n",
       " '4 StR 190/00': 2,\n",
       " '4 StR 215/10': 74,\n",
       " '1 StR 260/09': 5,\n",
       " 'GSSt 1/10': 13,\n",
       " '2 StR 174/05': 13,\n",
       " 'GSSt 1/07': 58,\n",
       " '1 StR 445/03': 4,\n",
       " '3 StR 61/02': 2,\n",
       " '3 StR 415/02': 3,\n",
       " '2 StR 577/09': 4,\n",
       " '2 StR 92/10': 1,\n",
       " '3 StR 462/00': 1,\n",
       " '1 StR 377/88': 2,\n",
       " '2 StR 550/58': 2,\n",
       " '1 StR 298/06': 3,\n",
       " '1 StR 422/10': 6,\n",
       " 'GSSt 1/06': 9,\n",
       " '2 StR 54/09': 1,\n",
       " '1 StR 152/53': 1,\n",
       " '2 ARs 41/11': 1,\n",
       " '1 StR 78/00': 4,\n",
       " '4 StR 2/04': 2,\n",
       " '4 StR 262/07': 1,\n",
       " '4 StR 366/09': 1,\n",
       " '3 StR 354/90': 3,\n",
       " '4 StR 249/04': 2,\n",
       " '4 StR 297/07': 2,\n",
       " '4 StR 573/04': 7,\n",
       " '1 StR 563/04': 3,\n",
       " '1 StR 305/66': 7,\n",
       " '4 StR 441/78': 36,\n",
       " '2 StR 636/97': 29,\n",
       " '3 StR 183/96': 7,\n",
       " '1 StR 269/02': 16,\n",
       " '4 StR 581/04': 3,\n",
       " '1 StR 292/08': 7,\n",
       " '4 StR 6/96': 3,\n",
       " '4 StR 588/92': 1,\n",
       " '2 StR 470/97': 5,\n",
       " '3 HEs 77/83': 1,\n",
       " '4 StR 513/99': 11,\n",
       " '5 StR 235/09': 3,\n",
       " '1 StR 416/98': 2,\n",
       " '3 StR 410/92': 1,\n",
       " '2 StR 532/09': 1,\n",
       " '4 StR 474/93': 1,\n",
       " '4 StR 690/10': 1,\n",
       " '1 StR 344/05': 2,\n",
       " '4 Ns 150/08': 1,\n",
       " '5 StR 430/04': 7,\n",
       " 'Rep. 4638/97': 1,\n",
       " '4 StR 426/04': 6,\n",
       " '5 StR 312/10': 1,\n",
       " '1 StR 202/05': 1,\n",
       " '5 StR 997/83': 3,\n",
       " '3 StR 236/80': 1,\n",
       " '2 StR 215/06': 4,\n",
       " '4 StR 658/10': 8,\n",
       " '3 StR 110/11': 6,\n",
       " '5 StR 145/03': 19,\n",
       " '4 StR 323/97': 4,\n",
       " '1 StR 481/97': 6,\n",
       " '1 StR 283/09': 25,\n",
       " '1 StR 320/09': 2,\n",
       " '1 StR 651/10': 11,\n",
       " '4 StR 502/10': 52,\n",
       " '2 StR 642/10': 2,\n",
       " '2 BvR 2365/09': 47,\n",
       " '2 StR 280/09': 2,\n",
       " '2 StR 386/10': 3,\n",
       " '4 StR 51/55': 2,\n",
       " '4 StR 250/65': 1,\n",
       " '1 StR 475/95': 8,\n",
       " '1 StR 501/81': 3,\n",
       " '2 StR 94/87': 2,\n",
       " '5 StR 418/88': 2,\n",
       " '1 StR 585/93': 6,\n",
       " '5 StR 467/06': 7,\n",
       " '4 StR 577/09': 8,\n",
       " '5 StR 394/10': 4,\n",
       " '2 StR 9/05': 5,\n",
       " '2 StR 524/09': 8,\n",
       " '5 StR 363/55': 1,\n",
       " '5 StR 496/73': 4,\n",
       " '1 StR 441/05': 4,\n",
       " '2 StR 272/05': 4,\n",
       " '2 StR 263/10': 1,\n",
       " '4 StR 650/10': 4,\n",
       " '2 BvR 2846/09': 3,\n",
       " '3 StR 220/96': 13,\n",
       " '2 StR 436/07': 4,\n",
       " '4 StR 612/06': 4,\n",
       " '3 StR 385/97': 1,\n",
       " '3 StR 28/04': 7,\n",
       " '3 StR 93/06': 2,\n",
       " '2 BvR 1136/03': 13,\n",
       " '1 StR 127/03': 10,\n",
       " '1 StR 281/02': 14,\n",
       " '4 StR 669/10': 9,\n",
       " '3 StR 88/08': 8,\n",
       " '2 StR 385/08': 5,\n",
       " '2 BvR 2333/08': 10,\n",
       " '2 BvR 571/10': 1,\n",
       " '2 BvR 740/10': 1,\n",
       " '2 BvR 1152/10': 1,\n",
       " '5 StR 192/11': 9,\n",
       " '2 StR 483/98': 11,\n",
       " '3 StR 91/10': 1,\n",
       " '1 StR 109/11': 1,\n",
       " '3 StR 343/98': 6,\n",
       " '3 StR 199/03': 2,\n",
       " '3 StR 567/08': 3,\n",
       " '5 StR 159/10': 2,\n",
       " '5 StR 555/09': 14,\n",
       " '2 StR 277/92': 4,\n",
       " '3 StR 12/11': 11,\n",
       " '3 StR 85/90': 4,\n",
       " '4 StR 164/11': 9,\n",
       " '3 StR 175/11': 19,\n",
       " '2 BGs 195/11': 2,\n",
       " '1 Gs 29/11': 1,\n",
       " '3 StR 199/84': 15,\n",
       " '2 StR 68/99': 2,\n",
       " '5 StR 22/05': 1,\n",
       " '2 StR 236/05': 2,\n",
       " '1 StR 250/05': 3,\n",
       " '1 StR 699/92': 3,\n",
       " 'GSSt 3/57': 6,\n",
       " '5 StR 122/91': 12,\n",
       " '2 StR 650/95': 1,\n",
       " '5 StR 315/98': 1,\n",
       " '2 StR 350/89': 1,\n",
       " '1 StR 295/11': 7,\n",
       " '1 StR 688/94': 1,\n",
       " '2 StR 353/87': 1,\n",
       " '4 StR 313/92': 8,\n",
       " '2 BGs 64/11': 2,\n",
       " 'StB 34/09': 2,\n",
       " 'StB 52/09': 1,\n",
       " '5 StR 461/06': 11,\n",
       " '5 StR 704/68': 4,\n",
       " '5 StR 627/69': 1,\n",
       " '1 StR 669/88': 1,\n",
       " '5 StR 278/05': 1,\n",
       " '5 StR 286/11': 1,\n",
       " '1 StR 204/02': 8,\n",
       " '1 StR 529/10': 5,\n",
       " '4 StR 127/11': 3,\n",
       " '2 StR 164/11': 2,\n",
       " '1 StR 528/10': 1,\n",
       " '2 StR 111/88': 6,\n",
       " '2 StR 507/04': 7,\n",
       " '5 StR 440/08': 5,\n",
       " '3 StR 250/09': 46,\n",
       " '2 StR 185/10': 2,\n",
       " '3 StR 139/06': 26,\n",
       " '3 StR 200/99': 2,\n",
       " '5 StR 114/08': 3,\n",
       " '2 StR 134/08': 2,\n",
       " '4 StR 308/86': 3,\n",
       " '5 StR 25/00': 3,\n",
       " '1 StR 178/05': 2,\n",
       " '1 StR 153/11': 15,\n",
       " '1 StR 191/09': 11,\n",
       " '4 StR 81/94': 1,\n",
       " '5 StR 492/90': 29,\n",
       " '5 StR 143/10': 5,\n",
       " '5 StR 520/09': 2,\n",
       " '1 StR 14/02': 4,\n",
       " '5 StR 290/04': 4,\n",
       " '5 StR 93/04': 29,\n",
       " '4 StR 112/11': 3,\n",
       " '1 StR 48/02': 1,\n",
       " '2 StR 608/85': 1,\n",
       " '2 StR 641/96': 1,\n",
       " '5 StR 497/07': 1,\n",
       " '1 StR 183/00': 5,\n",
       " '1 StR 470/08': 4,\n",
       " '1 StR 398/00': 1,\n",
       " '5 StR 259/02': 1,\n",
       " '4 StR 594/54': 1,\n",
       " '3 StR 208/11': 28,\n",
       " '3 StR 235/11': 12,\n",
       " '5 StR 189/11': 15,\n",
       " '2 StR 184/11': 10,\n",
       " '2 BvR 2029/01': 8,\n",
       " '4 StR 279/11': 2,\n",
       " '3 StR 221/11': 9,\n",
       " '4 StR 362/11': 5,\n",
       " '3 StR 434/10': 18,\n",
       " '4 StR 346/11': 11,\n",
       " '4 StR 374/10': 3,\n",
       " '4 StR 491/04': 11,\n",
       " '4 StR 425/07': 5,\n",
       " '4 StR 150/96': 3,\n",
       " '3 StR 189/97': 4,\n",
       " '3 StR 392/99': 4,\n",
       " '3 StR 338/95': 4,\n",
       " '2 StR 263/96': 1,\n",
       " '3 StR 445/10': 9,\n",
       " '4 StR 414/90': 1,\n",
       " '4 StR 272/98': 9,\n",
       " '2 StR 174/08': 4,\n",
       " 'StB 21/10': 6,\n",
       " 'StB 28/10': 4,\n",
       " '3 W 45/11': 3,\n",
       " '3 Wx 188/11': 1,\n",
       " 'VII ZB 6/05': 1,\n",
       " 'KZR 28/03': 1,\n",
       " 'XII ZR 103/07': 1,\n",
       " '1 BvR 396/55': 2,\n",
       " '1 BvR 1094/80': 1,\n",
       " 'PBvU 1/02': 4,\n",
       " '1 StR 7/06': 9,\n",
       " '5 StR 207/99': 2,\n",
       " '2 StR 329/04': 27,\n",
       " '4 StR 56/08': 32,\n",
       " '2 BvL 3/90': 4,\n",
       " '2 StR 500/00': 9,\n",
       " '4 StR 40/86': 18,\n",
       " '4 StR 120/91': 2,\n",
       " '5 StR 246/11': 1,\n",
       " '5 StR 365/02': 8,\n",
       " '5 StR 226/11': 1,\n",
       " '3 StR 254/07': 7,\n",
       " '3 StR 199/06': 3,\n",
       " '4 StR 172/96': 6,\n",
       " '2 StR 675/97': 1,\n",
       " '3 StR 61/11': 5,\n",
       " '4 StR 272/68': 3,\n",
       " '5 StR 689/92': 1,\n",
       " '4 StR 140/97': 8,\n",
       " '5 StR 634/98': 1,\n",
       " '5 StR 461/99': 1,\n",
       " '4 StR 309/04': 4,\n",
       " '4 StR 31/60': 2,\n",
       " '5 StR 236/06': 4,\n",
       " '1 StR 618/98': 17,\n",
       " '4 StR 517/11': 11,\n",
       " '3 StR 287/10': 30,\n",
       " '1 StR 287/11': 14,\n",
       " '1 StR 370/07': 9,\n",
       " '4 StR 534/07': 3,\n",
       " '1 StR 430/06': 4,\n",
       " '3 StR 215/08': 20,\n",
       " '3 StR 174/09': 15,\n",
       " '4 StR 612/11': 8,\n",
       " '2 StR 501/08': 13,\n",
       " '3 StR 269/01': 3,\n",
       " '1 StR 574/10': 6,\n",
       " '1 StR 485/71': 24,\n",
       " '2 StR 652/10': 12,\n",
       " '5 StR 489/02': 6,\n",
       " '4 StR 342/99': 2,\n",
       " '3 StR 348/90': 3,\n",
       " '5 StR 272/86': 6,\n",
       " '5 StR 616/83': 5,\n",
       " 'VI ZR 282/85': 1,\n",
       " '4 StR 258/91': 2,\n",
       " 'IV ZR 270/88': 2,\n",
       " 'III ZR 71/60': 1,\n",
       " '4 StR 57/99': 3,\n",
       " 'RR 221/97': 1,\n",
       " '1 StR 336/11': 18,\n",
       " '2 StR 616/10': 36,\n",
       " '1 StR 731/08': 53,\n",
       " '5 StR 355/98': 14,\n",
       " '1 StR 343/11': 11,\n",
       " '1 StR 5/87': 2,\n",
       " '2 StR 613/90': 5,\n",
       " '4 StR 204/79': 2,\n",
       " '2 StR 194/11': 3,\n",
       " '2 StR 516/03': 2,\n",
       " '5 StR 46/09': 6,\n",
       " '5 StR 262/10': 1,\n",
       " '3 StR 189/54': 3,\n",
       " '2 StR 37/55': 1,\n",
       " '2 StR 424/66': 2,\n",
       " '3 St 29/57': 1,\n",
       " '3 StR 368/10': 3,\n",
       " '3 StR 374/11': 15,\n",
       " '4 StR 278/06': 1,\n",
       " '1 StR 635/09': 8,\n",
       " '2 StR 309/95': 5,\n",
       " '1 StR 108/89': 4,\n",
       " '5 StR 657/91': 3,\n",
       " '1 StR 247/09': 3,\n",
       " '4 StR 120/08': 1,\n",
       " '1 StR 271/93': 1,\n",
       " '1 StR 681/94': 7,\n",
       " '1 StR 266/10': 12,\n",
       " '1 StR 327/97': 1,\n",
       " '1 StR 372/95': 4,\n",
       " '3 StR 182/08': 6,\n",
       " '1 StR 275/10': 15,\n",
       " '2 StR 442/92': 12,\n",
       " '1 StR 523/94': 8,\n",
       " '5 StR 371/07': 13,\n",
       " '2 StR 287/90': 4,\n",
       " '1 StR 383/08': 6,\n",
       " '4 StR 297/06': 1,\n",
       " '3 StR 420/10': 11,\n",
       " '1 StR 14/96': 9,\n",
       " '5 StR 594/07': 14,\n",
       " '1 StR 323/08': 15,\n",
       " '1 StR 544/09': 26,\n",
       " '1 StR 525/11': 58,\n",
       " '1 StR 94/98': 43,\n",
       " '1 StR 450/98': 7,\n",
       " '3 StR 402/10': 1,\n",
       " '1 StR 367/11': 2,\n",
       " '5 StR 63/90': 1,\n",
       " '3 StR 277/99': 2,\n",
       " '5 StR 433/11': 3,\n",
       " '5 StR 136/02': 2,\n",
       " '5 StR 497/11': 2,\n",
       " '2 StR 305/11': 11,\n",
       " '1 StR 501/62': 1,\n",
       " '4 StR 683/93': 2,\n",
       " '1 StR 301/90': 2,\n",
       " '3 StR 87/09': 8,\n",
       " '3 StR 218/10': 6,\n",
       " '4 StR 530/07': 1,\n",
       " '5 StR 65/11': 10,\n",
       " '3 StR 326/11': 9,\n",
       " '4 StR 630/89': 3,\n",
       " '2 StR 346/11': 15,\n",
       " '2 StR 482/11': 6,\n",
       " '2 BvR 958/06': 5,\n",
       " '2 BvR 115/95': 8,\n",
       " '4 StR 149/72': 11,\n",
       " '1 StR 346/03': 47,\n",
       " '3 StR 154/08': 2,\n",
       " '1 StR 406/03': 5,\n",
       " '1 StR 627/08': 26,\n",
       " '2 StR 172/11': 3,\n",
       " '5 StR 86/55': 5,\n",
       " '1 StR 147/03': 2,\n",
       " '3 StR 276/95': 3,\n",
       " '3 StR 224/00': 1,\n",
       " '2 StR 240/01': 1,\n",
       " '2 StR 389/05': 6,\n",
       " '4 StR 131/00': 5,\n",
       " '3 StR 38/08': 10,\n",
       " '1 StR 542/00': 1,\n",
       " '5 StR 505/11': 1,\n",
       " '3 StR 2/12': 1,\n",
       " '5 StR 511/08': 2,\n",
       " '5 StR 585/07': 1,\n",
       " '4 StR 355/09': 2,\n",
       " '1 StR 343/96': 1,\n",
       " '2 StR 270/89': 14,\n",
       " 'GSSt 1/93': 63,\n",
       " '3 StR 321/91': 2,\n",
       " '2 StR 449/94': 18,\n",
       " '3 StR 337/11': 6,\n",
       " '5 StR 352/04': 2,\n",
       " '5 StR 164/91': 1,\n",
       " '5 StR 162/87': 2,\n",
       " '4 StR 333/87': 2,\n",
       " '4 StR 266/11': 11,\n",
       " '4 StR 589/09': 8,\n",
       " '4 StR 524/06': 13,\n",
       " '4 StR 347/05': 11,\n",
       " '1 StR 120/11': 13,\n",
       " '1 StR 33/11': 3,\n",
       " '4 StR 523/11': 3,\n",
       " '4 StR 701/75': 2,\n",
       " '4 StR 488/91': 2,\n",
       " '4 StR 507/11': 2,\n",
       " '4 StR 408/09': 10,\n",
       " '4 StR 245/10': 16,\n",
       " '2 StR 35/11': 3,\n",
       " '3 StR 336/08': 4,\n",
       " '2 StR 124/88': 2,\n",
       " '1 StR 501/92': 1,\n",
       " '2 StR 48/02': 1,\n",
       " '2 StR 563/86': 5,\n",
       " '1 StR 655/93': 3,\n",
       " '4 StR 245/86': 1,\n",
       " '3 StR 9/88': 1,\n",
       " '1 StR 595/65': 5,\n",
       " '4 StR 159/03': 9,\n",
       " '3 StR 526/94': 5,\n",
       " '5 StR 74/62': 4,\n",
       " '2 StR 357/63': 2,\n",
       " '5 StR 518/59': 2,\n",
       " '1 StR 351/97': 4,\n",
       " '4 StR 392/90': 2,\n",
       " '2 StR 365/04': 4,\n",
       " '1 BvR 461/08': 4,\n",
       " '3 StR 129/85': 1,\n",
       " '3 StR 193/80': 1,\n",
       " '1 StR 179/93': 11,\n",
       " '1 BvR 2150/08': 3,\n",
       " '1 BvR 917/09': 3,\n",
       " '3 StR 453/11': 4,\n",
       " '3 StR 296/11': 4,\n",
       " '4 StR 718/93': 7,\n",
       " '3 StR 391/02': 2,\n",
       " '2 StR 641/95': 3,\n",
       " '2 StR 666/93': 3,\n",
       " '2 StR 436/96': 2,\n",
       " '3 StR 455/09': 5,\n",
       " '4 StR 162/99': 4,\n",
       " '3 StR 375/03': 5,\n",
       " '3 StR 393/11': 4,\n",
       " '4 StR 394/07': 1,\n",
       " '5 StR 123/10': 3,\n",
       " '4 StR 404/10': 7,\n",
       " '3 StR 432/10': 16,\n",
       " 'I ZR 228/87': 1,\n",
       " 'I ZR 21/02': 1,\n",
       " '5 StR 136/04': 3,\n",
       " '2 StR 54/68': 1,\n",
       " '4 StR 295/95': 1,\n",
       " '2 BvR 1048/11': 5,\n",
       " '5 StR 535/11': 9,\n",
       " '4 StR 595/97': 10,\n",
       " '3 StR 117/68': 2,\n",
       " '5 ARs 30/92': 1,\n",
       " '4 StR 640/98': 10,\n",
       " '5 StR 659/99': 2,\n",
       " '1 StR 553/01': 2,\n",
       " '4 StR 198/05': 2,\n",
       " '1 StR 354/11': 3,\n",
       " '2 BvR 235/64': 1,\n",
       " '3 StR 48/50': 3,\n",
       " '1 StR 541/08': 8,\n",
       " '2 BvR 443/69': 1,\n",
       " '5 StR 180/05': 17,\n",
       " '2 StR 455/09': 11,\n",
       " 'AK 6/07': 24,\n",
       " 'StB 3/07': 2,\n",
       " '4 StR 631/81': 5,\n",
       " '5 StR 87/00': 1,\n",
       " '3 StR 188/09': 4,\n",
       " '5 StR 14/11': 15,\n",
       " '3 StR 569/08': 7,\n",
       " '3 StR 390/07': 8,\n",
       " '2 StR 444/11': 1,\n",
       " '3 StR 516/07': 10,\n",
       " '3 StR 373/05': 1,\n",
       " '5 StR 195/09': 1,\n",
       " '4 StR 241/09': 3,\n",
       " '4 StR 425/11': 3,\n",
       " '2 StR 465/06': 11,\n",
       " '5 StR 422/11': 7,\n",
       " '2 StR 550/10': 22,\n",
       " '2 StR 139/12': 32,\n",
       " '1 StR 349/11': 5,\n",
       " '1 StR 649/07': 4,\n",
       " '1 StR 407/07': 5,\n",
       " '1 StR 268/07': 3,\n",
       " '1 StR 290/04': 2,\n",
       " '1 StR 580/95': 4,\n",
       " '1 StR 503/06': 2,\n",
       " '4 StR 373/96': 5,\n",
       " '4 StR 162/02': 3,\n",
       " '2 StR 352/00': 3,\n",
       " '2 StR 609/72': 2,\n",
       " '5 StR 568/89': 1,\n",
       " '4 StR 569/04': 2,\n",
       " '3 StR 69/10': 24,\n",
       " '4 BGs 31/09': 3,\n",
       " 'StB 17/07': 5,\n",
       " 'StB 21/03': 10,\n",
       " 'AK 3/10': 20,\n",
       " '2 BvR 1113/10': 10,\n",
       " 'StB 11/03': 8,\n",
       " '2 BvR 2652/07': 17,\n",
       " '2 BvR 1847/07': 4,\n",
       " '2 BvR 644/12': 6,\n",
       " '4 StR 215/01': 1,\n",
       " '2 StR 729/79': 3,\n",
       " '2 BvR 93/05': 1,\n",
       " '1 StR 379/04': 1,\n",
       " '1 StR 537/99': 3,\n",
       " '4 StR 404/63': 3,\n",
       " '5 StR 181/09': 4,\n",
       " '4 StR 309/65': 3,\n",
       " '4 StR 725/57': 4,\n",
       " '1 StR 61/73': 1,\n",
       " '5 StR 60/02': 1,\n",
       " '5 StR 120/98': 1,\n",
       " '3 StR 390/99': 4,\n",
       " '1 StR 590/76': 1,\n",
       " '1 StR 456/91': 1,\n",
       " '3 StR 355/86': 2,\n",
       " '3 StR 446/93': 6,\n",
       " '3 StR 453/88': 13,\n",
       " '4 StR 223/87': 1,\n",
       " '3 StR 6/02': 1,\n",
       " '2 StR 486/02': 5,\n",
       " '2 StR 294/02': 9,\n",
       " '2 StR 184/04': 3,\n",
       " '2 StR 376/07': 5,\n",
       " '2 StR 527/07': 4,\n",
       " '3 StR 438/84': 2,\n",
       " '3 StR 377/89': 1,\n",
       " '1 StR 614/87': 2,\n",
       " '3 StR 119/87': 1,\n",
       " '1 StR 647/86': 2,\n",
       " '1 StR 268/87': 2,\n",
       " '4 StR 516/11': 9,\n",
       " '5 StR 84/09': 6,\n",
       " '5 StR 127/10': 3,\n",
       " '5 StR 15/12': 4,\n",
       " '1 StR 274/02': 3,\n",
       " '4 StR 572/06': 5,\n",
       " '3 StR 34/11': 1,\n",
       " '1 StR 166/76': 1,\n",
       " '2 StR 591/97': 2,\n",
       " '3 StR 141/87': 9,\n",
       " '1 StR 439/00': 2,\n",
       " '5 StR 494/06': 1,\n",
       " '5 StR 601/89': 3,\n",
       " '2 StR 477/01': 3,\n",
       " '5 StR 98/02': 2,\n",
       " '3 StR 297/99': 4,\n",
       " '4 StR 317/07': 6,\n",
       " '2 StR 57/98': 3,\n",
       " '3 StR 417/03': 1,\n",
       " '1 StR 464/02': 6,\n",
       " '4 StR 627/92': 9,\n",
       " '2 StR 156/98': 6,\n",
       " '4 StR 136/94': 4,\n",
       " '3 StR 460/10': 3,\n",
       " '5 StR 411/04': 6,\n",
       " '1 StR 874/83': 2,\n",
       " '1 StR 114/11': 21,\n",
       " '4 StR 191/11': 4,\n",
       " '4 StR 599/11': 9,\n",
       " '1 StR 88/12': 2,\n",
       " '2 StR 601/08': 4,\n",
       " '4 StR 163/11': 1,\n",
       " '1 StR 501/11': 16,\n",
       " '5 StR 181/06': 37,\n",
       " '3 StR 313/79': 4,\n",
       " 'III 1006/28': 3,\n",
       " '4 StR 439/00': 12,\n",
       " '4 StR 331/94': 6,\n",
       " '5 StR 501/97': 6,\n",
       " '3 StR 161/02': 27,\n",
       " '2 StR 421/90': 5,\n",
       " '2 StR 633/96': 3,\n",
       " 'III. 841/31': 1,\n",
       " '5 StR 618/58': 7,\n",
       " '3 StR 492/04': 22,\n",
       " '4 StR 55/12': 22,\n",
       " '5 StR 193/98': 9,\n",
       " '1 StR 606/60': 15,\n",
       " '5 StR 685/81': 10,\n",
       " '4 StR 194/09': 6,\n",
       " '5 StR 254/03': 4,\n",
       " '1 StR 372/01': 13,\n",
       " '5 StR 442/11': 17,\n",
       " '2 BvR 2500/09': 45,\n",
       " '2 StR 248/04': 1,\n",
       " '1 StR 145/04': 4,\n",
       " '2 StR 503/02': 1,\n",
       " '4 StR 87/89': 4,\n",
       " '3 StR 244/09': 9,\n",
       " '4 StR 654/10': 2,\n",
       " '1 StR 268/95': 3,\n",
       " '1 StR 531/02': 2,\n",
       " '2 StR 96/07': 3,\n",
       " '5 StR 150/12': 11,\n",
       " '4 StR 348/12': 35,\n",
       " '4 StR 308/12': 3,\n",
       " '1 StR 268/05': 1,\n",
       " '4 StR 224/12': 36,\n",
       " '5 StR 256/10': 4,\n",
       " '1 StR 416/99': 3,\n",
       " '3 StR 146/12': 2,\n",
       " '3 StR 167/11': 1,\n",
       " '3 StR 334/08': 3,\n",
       " '1 StR 94/10': 20,\n",
       " '2 BvR 746/07': 9,\n",
       " '1 StR 240/06': 2,\n",
       " '1 StR 234/12': 24,\n",
       " '2 StR 567/74': 10,\n",
       " '1 StR 169/94': 3,\n",
       " '5 StR 255/11': 10,\n",
       " '4 StR 642/96': 37,\n",
       " '4 StR 392/12': 8,\n",
       " '2 StR 596/81': 1,\n",
       " '1 StR 86/94': 2,\n",
       " '1 StR 219/82': 1,\n",
       " '2 StR 107/07': 1,\n",
       " '3 StR 219/10': 5,\n",
       " '4 StR 60/07': 4,\n",
       " '1 StR 10/89': 2,\n",
       " '1 StR 184/89': 1,\n",
       " '3 StR 160/90': 3,\n",
       " '1 StR 71/94': 2,\n",
       " '5 StR 453/12': 3,\n",
       " '1 StR 542/11': 4,\n",
       " '3 StR 255/11': 12,\n",
       " '3 StR 433/08': 8,\n",
       " '2 StR 564/88': 2,\n",
       " '1 StR 5/92': 2,\n",
       " '1 StR 685/92': 4,\n",
       " '4 StR 501/10': 5,\n",
       " '1 StR 524/11': 2,\n",
       " '4 StR 234/05': 1,\n",
       " '2 StR 194/61': 3,\n",
       " '3 StR 176/01': 2,\n",
       " '4 A 762/89': 1,\n",
       " '2 Ss 593/80': 1,\n",
       " '5 StR 528/91': 3,\n",
       " '3 StR 349/02': 11,\n",
       " '1 StR 222/99': 2,\n",
       " '2 StR 618/80': 12,\n",
       " '4 StR 708/93': 10,\n",
       " '2 StR 516/06': 20,\n",
       " '2 StR 162/06': 3,\n",
       " '2 StR 150/06': 2,\n",
       " '3 StR 394/07': 21,\n",
       " '3 StR 229/52': 3,\n",
       " '3 StR 342/07': 9,\n",
       " '4 StR 301/90': 2,\n",
       " '4 StR 419/89': 2,\n",
       " '5 StR 239/92': 9,\n",
       " '1 StR 722/08': 7,\n",
       " '2 StR 362/11': 5,\n",
       " 'XII ZR 155/92': 1,\n",
       " 'VI ZR 132/10': 1,\n",
       " '2 BvR 103/92': 1,\n",
       " '2 BvR 1741/99': 1,\n",
       " '5 StR 145/90': 1,\n",
       " '3 StR 41/12': 6,\n",
       " '3 StR 46/12': 7,\n",
       " '3 StR 164/12': 1,\n",
       " '3 StR 333/04': 10,\n",
       " '5 StR 517/12': 2,\n",
       " '1 StR 377/12': 5,\n",
       " '3 StR 225/94': 3,\n",
       " 'XII ZR 195/03': 1,\n",
       " '5 StR 490/03': 1,\n",
       " '3 StR 425/06': 16,\n",
       " '4 StR 142/07': 8,\n",
       " '4 StR 469/11': 2,\n",
       " '5 StR 356/09': 2,\n",
       " '1 StR 287/09': 2,\n",
       " '1 StR 152/11': 16,\n",
       " '1 StR 595/12': 2,\n",
       " '1 StR 180/06': 7,\n",
       " '5 StR 269/05': 5,\n",
       " '2 BvR 610/12': 11,\n",
       " '2 BvR 625/12': 8,\n",
       " '2 BvR 677/86': 1,\n",
       " '5 StR 15/92': 2,\n",
       " '2 StR 585/11': 2,\n",
       " '4 StR 637/10': 3,\n",
       " '2 StR 592/11': 9,\n",
       " '2 StR 328/11': 9,\n",
       " '5 StR 267/11': 11,\n",
       " '2 StR 10/10': 14,\n",
       " '1 StR 93/11': 5,\n",
       " '1 StR 275/12': 10,\n",
       " '2 BvR 2216/06': 2,\n",
       " '1 StR 201/07': 6,\n",
       " '4 StR 514/09': 10,\n",
       " '1 StR 89/96': 3,\n",
       " '1 StR 356/75': 2,\n",
       " '1 StR 319/97': 3,\n",
       " '1 StR 420/08': 1,\n",
       " '4 StR 147/58': 1,\n",
       " '5 StR 221/59': 1,\n",
       " '2 StR 220/68': 3,\n",
       " '5 StR 442/55': 1,\n",
       " 'StB 171/78': 2,\n",
       " '4 StR 429/81': 4,\n",
       " '3 StR 414/87': 1,\n",
       " '5 StR 487/94': 4,\n",
       " '1 StR 428/01': 6,\n",
       " '5 StR 248/09': 8,\n",
       " '1 StR 45/11': 41,\n",
       " '1 StR 45/70': 4,\n",
       " '3 StR 556/09': 14,\n",
       " '2 StR 285/01': 8,\n",
       " '2 StR 585/96': 4,\n",
       " '3 StR 78/98': 4,\n",
       " '2 StR 405/02': 4,\n",
       " '2 StR 549/07': 5,\n",
       " '5 StR 474/92': 5,\n",
       " '3 StR 482/01': 7,\n",
       " '4 StR 100/07': 3,\n",
       " '3 StR 354/07': 5,\n",
       " '1 StR 497/10': 10,\n",
       " '2 StR 242/66': 1,\n",
       " '2 StR 139/82': 2,\n",
       " '4 StR 30/06': 4,\n",
       " '4 StR 211/58': 4,\n",
       " '3 StR 152/00': 2,\n",
       " '1 StR 220/09': 39,\n",
       " '2 StR 446/11': 4,\n",
       " ...}"
      ]
     },
     "execution_count": 153,
     "metadata": {},
     "output_type": "execute_result"
    }
   ],
   "source": [
    "dict_all_az"
   ]
  },
  {
   "cell_type": "code",
   "execution_count": 154,
   "metadata": {},
   "outputs": [
    {
     "data": {
      "text/plain": [
       "46457"
      ]
     },
     "execution_count": 154,
     "metadata": {},
     "output_type": "execute_result"
    }
   ],
   "source": [
    "# check sum\n",
    "sum(dict_all_az.values())"
   ]
  },
  {
   "cell_type": "code",
   "execution_count": 155,
   "metadata": {},
   "outputs": [],
   "source": [
    "# sort dict descending by value\n",
    "sorted_dict_all_az = sorted(dict_all_az.items(), key=lambda x: x[1], reverse=True)"
   ]
  },
  {
   "cell_type": "code",
   "execution_count": 156,
   "metadata": {},
   "outputs": [
    {
     "data": {
      "text/plain": [
       "[('GSSt 1/86', 93),\n",
       " ('3 StR 552/08', 92),\n",
       " ('4 StR 558/11', 83),\n",
       " ('2 BvR 2628/10', 80),\n",
       " ('2 BvR 2559/08', 78),\n",
       " ('4 StR 215/10', 74),\n",
       " ('3 StR 344/03', 71),\n",
       " ('GSSt 1/93', 63),\n",
       " ('GSSt 1/07', 58),\n",
       " ('1 StR 525/11', 58),\n",
       " ('1 StR 731/08', 53),\n",
       " ('4 StR 502/10', 52),\n",
       " ('1 StR 166/07', 52),\n",
       " ('2 StR 355/80', 51),\n",
       " ('5 StR 119/05', 50),\n",
       " ('1 StR 9/90', 50),\n",
       " ('3 StR 17/15', 49),\n",
       " ('3 StR 247/12', 48),\n",
       " ('1 StR 416/08', 47),\n",
       " ('2 BvR 2365/09', 47),\n",
       " ('1 StR 346/03', 47),\n",
       " ('GSSt 1/05', 46),\n",
       " ('3 StR 250/09', 46),\n",
       " ('4 StR 420/14', 46),\n",
       " ('2 BvR 2500/09', 45),\n",
       " ('1 StR 586/12', 45),\n",
       " ('VGS 1/16', 45),\n",
       " ('4 StR 608/11', 44),\n",
       " ('2 StR 137/14', 44),\n",
       " ('2 StR 374/92', 43),\n",
       " ('1 StR 94/98', 43),\n",
       " ('1 StR 647/12', 43),\n",
       " ('4 StR 439/13', 43),\n",
       " ('1 StR 359/13', 42),\n",
       " ('1 StR 718/08', 41),\n",
       " ('1 StR 45/11', 41),\n",
       " ('4 StR 371/13', 40),\n",
       " ('3 StR 537/14', 40),\n",
       " ('3 StR 269/04', 39),\n",
       " ('1 StR 220/09', 39),\n",
       " ('1 StR 482/15', 38),\n",
       " ('5 StR 181/06', 37),\n",
       " ('4 StR 642/96', 37),\n",
       " ('5 StR 624/99', 37),\n",
       " ('4 StR 441/78', 36),\n",
       " ('2 StR 616/10', 36),\n",
       " ('4 StR 224/12', 36),\n",
       " ('2 StR 556/96', 36),\n",
       " ('GSSt 1/00', 36),\n",
       " ('4 StR 348/12', 35),\n",
       " ('3 StR 45/13', 35),\n",
       " ('4 StR 197/12', 34),\n",
       " ('4 StR 78/16', 34),\n",
       " ('1 StR 245/09', 33),\n",
       " ('5 StR 521/14', 33),\n",
       " ('1 StR 205/09', 32),\n",
       " ('2 StR 150/08', 32),\n",
       " ('4 StR 56/08', 32),\n",
       " ('2 StR 139/12', 32),\n",
       " ('4 StR 79/16', 32),\n",
       " ('1 StR 594/16', 32),\n",
       " ('1 StR 38/11', 31),\n",
       " ('3 StR 287/10', 30),\n",
       " ('5 StR 224/08', 30),\n",
       " ('1 StR 414/15', 30),\n",
       " ('3 StR 162/13', 30),\n",
       " ('2 StR 636/97', 29),\n",
       " ('5 StR 492/90', 29),\n",
       " ('5 StR 93/04', 29),\n",
       " ('4 StR 635/10', 29),\n",
       " ('2 StR 90/14', 29),\n",
       " ('3 StR 521/15', 29),\n",
       " ('5 StR 394/08', 29),\n",
       " ('4 StR 165/02', 29),\n",
       " ('1 StR 94/16', 29),\n",
       " ('3 StR 208/11', 28),\n",
       " ('2 StR 195/12', 28),\n",
       " ('4 StR 277/13', 28),\n",
       " ('3 StR 153/02', 28),\n",
       " ('2 StR 422/12', 28),\n",
       " ('3 StR 9/80', 28),\n",
       " ('2 StR 329/04', 27),\n",
       " ('3 StR 161/02', 27),\n",
       " ('4 StR 481/16', 27),\n",
       " ('GSZ 1/55', 27),\n",
       " ('2 BvR 878/14', 27),\n",
       " ('3 StR 139/06', 26),\n",
       " ('1 StR 544/09', 26),\n",
       " ('1 StR 627/08', 26),\n",
       " ('1 StR 354/03', 26),\n",
       " ('2 StR 111/09', 26),\n",
       " ('1 StR 46/06', 26),\n",
       " ('3 StR 560/17', 26),\n",
       " ('3 StR 386/13', 26),\n",
       " ('1 StR 315/14', 26),\n",
       " ('1 StR 283/09', 25),\n",
       " ('2 StR 477/07', 25),\n",
       " ('5 StR 465/95', 25),\n",
       " ('2 StR 381/13', 25),\n",
       " ('1 StR 199/10', 25),\n",
       " ('1 StR 336/13', 25),\n",
       " ('3 StR 579/08', 25),\n",
       " ('3 StR 277/09', 25),\n",
       " ('1 StR 485/71', 24),\n",
       " ('AK 6/07', 24),\n",
       " ('3 StR 69/10', 24),\n",
       " ('1 StR 234/12', 24),\n",
       " ('3 StR 466/10', 24),\n",
       " ('2 StR 587/07', 24),\n",
       " ('3 StR 485/10', 24),\n",
       " ('2 StR 337/14', 24),\n",
       " ('3 StR 376/08', 24),\n",
       " ('1 StR 287/15', 24),\n",
       " ('3 StR 132/12', 24),\n",
       " ('GSSt 4/17', 24),\n",
       " ('1 StR 578/12', 24),\n",
       " ('2 StR 86/08', 24),\n",
       " ('1 StR 169/02', 23),\n",
       " ('4 StR 520/12', 23),\n",
       " ('1 StR 221/99', 23),\n",
       " ('4 StR 171/14', 23),\n",
       " ('4 StR 267/11', 23),\n",
       " ('1 StR 620/18', 23),\n",
       " ('5 StR 682/93', 23),\n",
       " ('4 StR 512/66', 23),\n",
       " ('3 StR 470/14', 23),\n",
       " ('3 StR 103/15', 23),\n",
       " ('4 StR 430/13', 23),\n",
       " ('1 StR 1/16', 23),\n",
       " ('2 StR 550/10', 22),\n",
       " ('3 StR 492/04', 22),\n",
       " ('4 StR 55/12', 22),\n",
       " ('1 StR 415/12', 22),\n",
       " ('2 StR 120/05', 22),\n",
       " ('3 StR 158/12', 22),\n",
       " ('1 StR 302/13', 22),\n",
       " ('1 StR 128/15', 22),\n",
       " ('5 StR 623/17', 22),\n",
       " ('3 StR 120/03', 22),\n",
       " ('1 StR 651/17', 22),\n",
       " ('3 StR 439/15', 22),\n",
       " ('5 StR 546/06', 22),\n",
       " ('3 StR 89/14', 22),\n",
       " ('5 StR 364/91', 22),\n",
       " ('1 StR 470/00', 22),\n",
       " ('1 BvR 256/08', 21),\n",
       " ('1 StR 114/11', 21),\n",
       " ('3 StR 394/07', 21),\n",
       " ('1 StR 791/96', 21),\n",
       " ('2 BvR 298/12', 21),\n",
       " ('1 StR 511/95', 21),\n",
       " ('1 StR 594/13', 21),\n",
       " ('1 StR 312/13', 21),\n",
       " ('3 StR 470/04', 21),\n",
       " ('4 StR 39/15', 21),\n",
       " ('4 StR 768/94', 21),\n",
       " ('1 StR 643/09', 21),\n",
       " ('5 StR 510/13', 21),\n",
       " ('2 StR 311/18', 21),\n",
       " ('3 StR 470/11', 21),\n",
       " ('4 StR 63/18', 21),\n",
       " ('3 StR 487/16', 21),\n",
       " ('3 StR 620/17', 21),\n",
       " ('1 StR 328/15', 21),\n",
       " ('2 BvR 731/80', 21),\n",
       " ('3 StR 226/07', 20),\n",
       " ('3 StR 215/08', 20),\n",
       " ('AK 3/10', 20),\n",
       " ('1 StR 94/10', 20),\n",
       " ('2 StR 516/06', 20),\n",
       " ('4 StR 311/12', 20),\n",
       " ('3 StR 349/13', 20),\n",
       " ('2 StR 524/10', 20),\n",
       " ('4 StR 168/13', 20),\n",
       " ('3 StR 156/08', 20),\n",
       " ('4 StR 746/94', 20),\n",
       " ('2 StR 78/16', 20),\n",
       " ('3 StR 407/12', 20),\n",
       " ('2 StR 558/15', 20),\n",
       " ('4 StR 447/10', 20),\n",
       " ('1 StR 38/16', 20),\n",
       " ('5 StR 299/03', 19),\n",
       " ('5 StR 145/03', 19),\n",
       " ('3 StR 175/11', 19),\n",
       " ('4 StR 417/12', 19),\n",
       " ('1 StR 148/83', 19),\n",
       " ('4 StR 29/13', 19),\n",
       " ('4 StR 163/14', 19),\n",
       " ('AK 52/16', 19),\n",
       " ('4 StR 126/10', 19),\n",
       " ('2 StR 235/16', 19),\n",
       " ('2 StR 453/99', 19),\n",
       " ('3 StR 255/80', 19),\n",
       " ('4 StR 158/14', 19),\n",
       " ('1 StR 423/13', 19),\n",
       " ('3 StR 490/07', 19),\n",
       " ('1 StR 59/10', 18),\n",
       " ('3 StR 434/10', 18),\n",
       " ('4 StR 40/86', 18),\n",
       " ('1 StR 336/11', 18),\n",
       " ('2 StR 449/94', 18),\n",
       " ('1 StR 262/88', 18),\n",
       " ('1 StR 478/04', 18),\n",
       " ('4 StR 245/00', 18),\n",
       " ('3 StR 118/11', 18),\n",
       " ('1 StR 405/02', 18),\n",
       " ('3 StR 470/06', 18),\n",
       " ('3 StR 630/14', 18),\n",
       " ('3 StR 137/14', 18),\n",
       " ('3 StR 265/14', 18),\n",
       " ('2 StR 100/10', 18),\n",
       " ('1 StR 174/08', 18),\n",
       " ('4 StR 42/13', 18),\n",
       " ('1 StR 389/12', 18),\n",
       " ('4 StR 419/14', 18),\n",
       " ('5 StR 50/17', 18),\n",
       " ('1 StR 262/80', 18),\n",
       " ('2 BvR 2055/14', 18),\n",
       " ('1 StR 665/12', 18),\n",
       " ('1 StR 320/17', 18),\n",
       " ('5 StR 417/11', 18),\n",
       " ('2 StR 260/01', 18),\n",
       " ('5 StR 103/07', 18),\n",
       " ('1 StR 587/09', 17),\n",
       " ('5 StR 547/07', 17),\n",
       " ('3 StR 246/09', 17),\n",
       " ('1 StR 618/98', 17),\n",
       " ('5 StR 180/05', 17),\n",
       " ('2 BvR 2652/07', 17),\n",
       " ('5 StR 442/11', 17),\n",
       " ('2 BvR 2883/10', 17),\n",
       " ('5 StR 42/02', 17),\n",
       " ('1 StR 263/12', 17),\n",
       " ('5 StR 432/95', 17),\n",
       " ('GSSt 1/09', 17),\n",
       " ('3 StR 65/12', 17),\n",
       " ('5 StR 242/07', 17),\n",
       " ('5 StR 73/03', 17),\n",
       " ('5 StR 190/91', 17),\n",
       " ('4 StR 541/11', 17),\n",
       " ('1 StR 357/91', 17),\n",
       " ('4 StR 400/99', 17),\n",
       " ('1 StR 314/14', 17),\n",
       " ('4 StR 84/15', 17),\n",
       " ('2 StR 137/15', 17),\n",
       " ('1 StR 416/12', 17),\n",
       " ('5 StR 371/00', 17),\n",
       " ('5 StR 491/10', 17),\n",
       " ('2 StR 483/14', 17),\n",
       " ('2 BvR 564/95', 17),\n",
       " ('1 StR 235/15', 17),\n",
       " ('2 StR 27/16', 17),\n",
       " ('4 StR 78/18', 17),\n",
       " ('1 StR 574/14', 17),\n",
       " ('1 StR 233/96', 17),\n",
       " ('3 StR 62/84', 17),\n",
       " ('4 StR 172/80', 17),\n",
       " ('4 StR 499/01', 17),\n",
       " ('1 StR 415/15', 17),\n",
       " ('3 StR 101/98', 17),\n",
       " ('1 StR 394/16', 17),\n",
       " ('4 StR 60/89', 16),\n",
       " ('1 StR 300/09', 16),\n",
       " ('1 StR 269/02', 16),\n",
       " ('4 StR 245/10', 16),\n",
       " ('3 StR 432/10', 16),\n",
       " ('1 StR 501/11', 16),\n",
       " ('3 StR 425/06', 16),\n",
       " ('1 StR 152/11', 16),\n",
       " ('1 StR 103/12', 16),\n",
       " ('3 StR 140/12', 16),\n",
       " ('3 StR 421/02', 16),\n",
       " ('4 StR 275/13', 16),\n",
       " ('2 StR 47/13', 16),\n",
       " ('4 StR 258/13', 16),\n",
       " ('5 StR 526/96', 16),\n",
       " ('3 StR 246/04', 16),\n",
       " ('3 StR 271/14', 16),\n",
       " ('3 StR 79/03', 16),\n",
       " ('2 StR 97/14', 16),\n",
       " ('5 StR 301/04', 16),\n",
       " ('1 StR 561/13', 16),\n",
       " ('1 StR 16/93', 16),\n",
       " ('1 StR 412/11', 16),\n",
       " ('1 StR 265/15', 16),\n",
       " ('3 StR 518/14', 16),\n",
       " ('3 StR 343/11', 16),\n",
       " ('1 StR 115/02', 16),\n",
       " ('2 StR 335/15', 16),\n",
       " ('4 StR 399/17', 16),\n",
       " ('5 StR 138/01', 16),\n",
       " ('4 StR 326/04', 16),\n",
       " ('2 StR 505/03', 16),\n",
       " ('4 StR 144/15', 16),\n",
       " ('1 StR 693/96', 16),\n",
       " ('3 StR 206/13', 16),\n",
       " ('5 StR 87/12', 16),\n",
       " ('3 StR 128/03', 16),\n",
       " ('3 StR 437/12', 16),\n",
       " ('2 StR 486/03', 16),\n",
       " ('1 StR 37/11', 16),\n",
       " ('1 StR 586/11', 16),\n",
       " ('1 StR 371/06', 15),\n",
       " ('3 StR 199/84', 15),\n",
       " ('1 StR 153/11', 15),\n",
       " ('5 StR 189/11', 15),\n",
       " ('3 StR 174/09', 15),\n",
       " ('3 StR 374/11', 15),\n",
       " ('1 StR 275/10', 15),\n",
       " ('1 StR 323/08', 15),\n",
       " ('2 StR 346/11', 15),\n",
       " ('5 StR 14/11', 15),\n",
       " ('1 StR 606/60', 15),\n",
       " ('3 StR 631/95', 15),\n",
       " ('2 StR 34/06', 15),\n",
       " ('2 StR 563/09', 15),\n",
       " ('1 StR 154/11', 15),\n",
       " ('5 StR 438/12', 15),\n",
       " ('2 StR 602/13', 15),\n",
       " ('1 StR 218/14', 15),\n",
       " ('4 StR 303/11', 15),\n",
       " ('4 StR 617/07', 15),\n",
       " ('3 StR 295/05', 15),\n",
       " ('2 StR 197/15', 15),\n",
       " ('5 StR 58/07', 15),\n",
       " ('5 StR 229/10', 15),\n",
       " ('StB 9/12', 15),\n",
       " ('3 StR 336/15', 15),\n",
       " ('1 StR 494/13', 15),\n",
       " ('1 StR 239/10', 15),\n",
       " ('1 StR 360/16', 15),\n",
       " ('GSSt 1/02', 15),\n",
       " ('3 StR 247/15', 15),\n",
       " ('3 StR 638/14', 15),\n",
       " ('1 StR 378/13', 15),\n",
       " ('3 StR 221/16', 15),\n",
       " ('1 StR 595/15', 15),\n",
       " ('2 StR 42/09', 15),\n",
       " ('5 StR 545/16', 15),\n",
       " ('1 StR 318/12', 15),\n",
       " ('GSSt 1/92', 15),\n",
       " ('5 StR 258/13', 15),\n",
       " ('5 StR 491/94', 15),\n",
       " ('4 StR 140/08', 15),\n",
       " ('3 StR 97/17', 15),\n",
       " ('4 StR 163/16', 15),\n",
       " ('1 StR 547/05', 14),\n",
       " ('3 StR 264/79', 14),\n",
       " ('3 StR 226/10', 14),\n",
       " ('1 StR 281/02', 14),\n",
       " ('5 StR 555/09', 14),\n",
       " ('1 StR 287/11', 14),\n",
       " ('5 StR 355/98', 14),\n",
       " ('5 StR 594/07', 14),\n",
       " ('2 StR 270/89', 14),\n",
       " ('2 StR 10/10', 14),\n",
       " ('3 StR 556/09', 14),\n",
       " ('3 StR 425/11', 14),\n",
       " ('5 StR 129/13', 14),\n",
       " ('4 StR 48/86', 14),\n",
       " ('4 StR 346/12', 14),\n",
       " ('5 StR 505/12', 14),\n",
       " ('4 StR 418/12', 14),\n",
       " ('2 StR 322/84', 14),\n",
       " ('4 StR 514/11', 14),\n",
       " ('2 StR 278/09', 14),\n",
       " ('4 StR 144/13', 14),\n",
       " ('4 StR 153/08', 14),\n",
       " ('4 StR 528/13', 14),\n",
       " ('4 StR 233/02', 14),\n",
       " ('2 StR 239/15', 14),\n",
       " ('4 StR 453/00', 14),\n",
       " ('3 StR 297/09', 14),\n",
       " ('4 StR 387/15', 14),\n",
       " ('4 StR 428/58', 14),\n",
       " ('4 StR 580/11', 14),\n",
       " ('2 StR 232/00', 14),\n",
       " ('4 StR 561/11', 14),\n",
       " ('2 StR 545/15', 14),\n",
       " ('1 StR 72/16', 14),\n",
       " ('2 StR 112/14', 14),\n",
       " ('4 StR 347/13', 14),\n",
       " ('2 BvR 1857/10', 14),\n",
       " ('3 StR 90/08', 14),\n",
       " ('1 StR 518/08', 14),\n",
       " ('3 StR 172/17', 14),\n",
       " ('1 StR 373/15', 14),\n",
       " ('4 StR 223/13', 14),\n",
       " ('3 StR 148/13', 14),\n",
       " ('3 StR 113/98', 14),\n",
       " ('1 StR 194/16', 14),\n",
       " ('5 StR 92/01', 14),\n",
       " ('4 StR 595/16', 14),\n",
       " ('4 StR 282/17', 14),\n",
       " ('3 StR 535/16', 14),\n",
       " ('5 StR 341/05', 14),\n",
       " ('1 StR 526/15', 14),\n",
       " ('1 StR 186/18', 14),\n",
       " ('3 StR 243/08', 14),\n",
       " ('1 StR 194/11', 14),\n",
       " ('2 StR 203/10', 14),\n",
       " ('2 StR 419/05', 14),\n",
       " ('4 StR 117/06', 14),\n",
       " ('1 StR 618/16', 14),\n",
       " ('1 StR 523/15', 14),\n",
       " ('2 StR 153/02', 13),\n",
       " ('2 StR 534/96', 13),\n",
       " ('3 StR 367/84', 13),\n",
       " ('GSSt 1/10', 13),\n",
       " ('2 StR 174/05', 13),\n",
       " ('3 StR 220/96', 13),\n",
       " ('2 BvR 1136/03', 13),\n",
       " ('2 StR 501/08', 13),\n",
       " ('5 StR 371/07', 13),\n",
       " ('4 StR 524/06', 13),\n",
       " ('1 StR 120/11', 13),\n",
       " ('3 StR 453/88', 13),\n",
       " ('1 StR 372/01', 13),\n",
       " ('3 StR 533/09', 13),\n",
       " ('3 StR 37/13', 13),\n",
       " ('5 StR 336/99', 13),\n",
       " ('GSSt 1/94', 13),\n",
       " ('5 StR 344/05', 13),\n",
       " ('3 StR 438/12', 13),\n",
       " ('5 StR 365/07', 13),\n",
       " ('1 StR 745/93', 13),\n",
       " ('4 StR 99/12', 13),\n",
       " ('3 StR 500/86', 13),\n",
       " ('2 StR 120/12', 13),\n",
       " ('1 StR 3/07', 13),\n",
       " ('4 StR 124/13', 13),\n",
       " ('4 StR 254/13', 13),\n",
       " ('1 StR 57/10', 13),\n",
       " ('4 StR 272/13', 13),\n",
       " ('1 StR 376/96', 13),\n",
       " ('1 StR 479/08', 13),\n",
       " ('1 StR 42/01', 13),\n",
       " ('3 StR 236/15', 13),\n",
       " ('4 StR 430/15', 13),\n",
       " ('1 StR 379/05', 13),\n",
       " ('3 StR 315/10', 13),\n",
       " ('5 StR 434/94', 13),\n",
       " ('1 StR 157/94', 13),\n",
       " ('3 StR 171/14', 13),\n",
       " ('1 StR 407/12', 13),\n",
       " ('3 StR 11/87', 13),\n",
       " ('5 StR 224/09', 13),\n",
       " ('2 StR 148/13', 13),\n",
       " ('5 StR 360/11', 13),\n",
       " ('3 StR 233/14', 13),\n",
       " ('GSSt 2/02', 13),\n",
       " ('4 StR 375/82', 13),\n",
       " ('StB 5/16', 13),\n",
       " ('4 StR 328/08', 13),\n",
       " ('5 StR 611/17', 13),\n",
       " ('4 StR 103/02', 13),\n",
       " ('1 StR 344/15', 13),\n",
       " ('1 StR 236/15', 13),\n",
       " ('3 StR 372/08', 13),\n",
       " ('3 StR 577/17', 13),\n",
       " ('5 StR 9/15', 13),\n",
       " ('5 StR 468/12', 13),\n",
       " ('5 StR 185/18', 13),\n",
       " ('1 StR 587/16', 13),\n",
       " ('3 StR 437/15', 13),\n",
       " ('2 StR 47/17', 13),\n",
       " ('3 StR 5/96', 13),\n",
       " ('4 StR 700/98', 13),\n",
       " ('2 StR 73/02', 13),\n",
       " ('1 StR 441/99', 13),\n",
       " ('4 StR 20/08', 13),\n",
       " ('3 StR 69/13', 13),\n",
       " ('1 StR 722/13', 13),\n",
       " ('5 StR 136/14', 13),\n",
       " ('2 StR 235/12', 13),\n",
       " ('4 StR 99/15', 13),\n",
       " ('2 BvR 209/14', 13),\n",
       " ('3 StR 551/14', 13),\n",
       " ('2 StR 504/15', 13),\n",
       " ('2 StR 345/05', 13),\n",
       " ('3 StR 378/00', 13),\n",
       " ('2 StR 549/89', 13),\n",
       " ('4 StR 246/16', 13),\n",
       " ('AK 56/17', 13),\n",
       " ('1 StR 445/16', 13),\n",
       " ('4 StR 168/05', 12),\n",
       " ('GSSt 2/56', 12),\n",
       " ('4 StR 464/00', 12),\n",
       " ('1 StR 301/07', 12),\n",
       " ('5 StR 122/91', 12),\n",
       " ('3 StR 235/11', 12),\n",
       " ('2 StR 652/10', 12),\n",
       " ('1 StR 266/10', 12),\n",
       " ('2 StR 442/92', 12),\n",
       " ('4 StR 439/00', 12),\n",
       " ('3 StR 255/11', 12),\n",
       " ('2 StR 618/80', 12),\n",
       " ('V R 30/10', 12),\n",
       " ('5 StR 206/04', 12),\n",
       " ('2 StR 199/04', 12),\n",
       " ('3 StR 364/10', 12),\n",
       " ('4 StR 119/10', 12),\n",
       " ('4 StR 19/99', 12),\n",
       " ('3 StR 137/03', 12),\n",
       " ('2 StR 311/12', 12),\n",
       " ('3 StR 311/90', 12),\n",
       " ('5 StR 16/02', 12),\n",
       " ('5 StR 472/08', 12),\n",
       " ('1 StR 178/13', 12),\n",
       " ('1 StR 94/13', 12),\n",
       " ('3 StR 3/11', 12),\n",
       " ('1 StR 200/13', 12),\n",
       " ('2 StR 394/05', 12),\n",
       " ('2 StR 202/13', 12),\n",
       " ('2 BvR 794/95', 12),\n",
       " ('5 StR 405/13', 12),\n",
       " ('4 StR 290/11', 12),\n",
       " ('2 StR 221/14', 12),\n",
       " ('1 StR 313/02', 12),\n",
       " ('4 StR 239/09', 12),\n",
       " ('4 StR 459/07', 12),\n",
       " ('1 StR 506/01', 12),\n",
       " ('5 StR 210/02', 12),\n",
       " ('2 StR 160/09', 12),\n",
       " ('1 StR 701/96', 12),\n",
       " ('1 StR 454/09', 12),\n",
       " ('5 StR 435/14', 12),\n",
       " ('1 StR 435/15', 12),\n",
       " ('4 StR 650/95', 12),\n",
       " ('3 StR 633/14', 12),\n",
       " ('2 StR 170/14', 12),\n",
       " ('1 StR 633/10', 12),\n",
       " ('StB 5/10', 12),\n",
       " ('1 StR 357/05', 12),\n",
       " ('2 StR 295/11', 12),\n",
       " ('1 StR 36/17', 12),\n",
       " ('3 StR 140/14', 12),\n",
       " ('5 StR 498/15', 12),\n",
       " ('5 StR 338/17', 12),\n",
       " ('4 StR 270/13', 12),\n",
       " ('4 StR 599/80', 12),\n",
       " ('1 StR 594/14', 12),\n",
       " ('4 StR 585/01', 12),\n",
       " ('1 StR 232/16', 12),\n",
       " ('1 StR 416/17', 12),\n",
       " ('4 StR 415/16', 12),\n",
       " ('5 StR 261/12', 12),\n",
       " ('5 StR 95/19', 12),\n",
       " ('1 StR 604/16', 12),\n",
       " ('3 StR 336/13', 12),\n",
       " ('2 StR 408/15', 12),\n",
       " ('1 StR 532/12', 12),\n",
       " ('1 StR 437/15', 12),\n",
       " ('4 StR 463/16', 12),\n",
       " ('5 StR 645/17', 12),\n",
       " ('AK 54/16', 12),\n",
       " ('5 StR 20/19', 12),\n",
       " ('1 StR 454/17', 12),\n",
       " ('1 StR 255/15', 12),\n",
       " ('3 StR 454/10', 12),\n",
       " ('1 StR 273/97', 12),\n",
       " ('4 StR 144/12', 12),\n",
       " ('5 StR 401/06', 12),\n",
       " ('5 StR 344/12', 12),\n",
       " ('1 StR 612/13', 12),\n",
       " ('1 StR 128/16', 12),\n",
       " ('2 StR 372/07', 12),\n",
       " ('5 StR 594/14', 12),\n",
       " ('1 BvR 966/09', 12),\n",
       " ('3 StR 531/12', 12),\n",
       " ('1 StR 236/95', 12),\n",
       " ('2 StR 383/08', 12),\n",
       " ('1 StR 24/03', 12),\n",
       " ('5 StR 569/96', 12),\n",
       " ('2 BvR 450/11', 12),\n",
       " ('3 StR 129/16', 12),\n",
       " ('4 StR 299/04', 12),\n",
       " ('1 StR 148/84', 12),\n",
       " ('1 StR 142/14', 12),\n",
       " ('4 StR 657/11', 12),\n",
       " ('1 StR 78/14', 12),\n",
       " ('3 StR 435/02', 12),\n",
       " ('4 StR 172/73', 11),\n",
       " ('4 StR 33/88', 11),\n",
       " ('4 StR 481/07', 11),\n",
       " ('2 StR 662/88', 11),\n",
       " ('4 StR 105/91', 11),\n",
       " ('1 StR 322/08', 11),\n",
       " ('2 StR 103/09', 11),\n",
       " ('4 StR 513/99', 11),\n",
       " ('1 StR 651/10', 11),\n",
       " ('2 StR 483/98', 11),\n",
       " ('3 StR 12/11', 11),\n",
       " ('5 StR 461/06', 11),\n",
       " ('1 StR 191/09', 11),\n",
       " ('4 StR 346/11', 11),\n",
       " ('4 StR 491/04', 11),\n",
       " ('4 StR 517/11', 11),\n",
       " ('1 StR 343/11', 11),\n",
       " ('3 StR 420/10', 11),\n",
       " ('2 StR 305/11', 11),\n",
       " ('4 StR 149/72', 11),\n",
       " ('4 StR 266/11', 11),\n",
       " ('4 StR 347/05', 11),\n",
       " ('1 StR 179/93', 11),\n",
       " ('2 StR 455/09', 11),\n",
       " ('2 StR 465/06', 11),\n",
       " ('5 StR 150/12', 11),\n",
       " ('3 StR 349/02', 11),\n",
       " ('2 BvR 610/12', 11),\n",
       " ('5 StR 267/11', 11),\n",
       " ('2 StR 111/12', 11),\n",
       " ('1 StR 148/11', 11),\n",
       " ('4 StR 490/96', 11),\n",
       " ('4 StR 672/96', 11),\n",
       " ('4 StR 228/02', 11),\n",
       " ('1 StR 51/96', 11),\n",
       " ('2 StR 375/11', 11),\n",
       " ('1 StR 579/11', 11),\n",
       " ('3 StR 537/97', 11),\n",
       " ('2 StR 367/04', 11),\n",
       " ('GSSt 2/94', 11),\n",
       " ('4 StR 318/07', 11),\n",
       " ('3 StR 15/12', 11),\n",
       " ('1 StR 162/13', 11),\n",
       " ('3 StR 148/09', 11),\n",
       " ('3 StR 203/08', 11),\n",
       " ('2 StR 93/11', 11),\n",
       " ('3 StR 314/13', 11),\n",
       " ('4 StR 147/14', 11),\n",
       " ('4 StR 725/94', 11),\n",
       " ('4 StR 27/11', 11),\n",
       " ('5 StR 37/14', 11),\n",
       " ('4 StR 84/13', 11),\n",
       " ('2 StR 535/07', 11),\n",
       " ('4 StR 92/15', 11),\n",
       " ('4 StR 596/09', 11),\n",
       " ('3 StR 368/07', 11),\n",
       " ('5 StR 240/13', 11),\n",
       " ('2 StR 166/12', 11),\n",
       " ('1 StR 327/14', 11),\n",
       " ('3 StR 436/15', 11),\n",
       " ('3 StR 491/01', 11),\n",
       " ('4 StR 21/14', 11),\n",
       " ('2 StR 365/12', 11),\n",
       " ('4 StR 292/13', 11),\n",
       " ('3 StR 80/13', 11),\n",
       " ('1 StR 504/12', 11),\n",
       " ('4 StR 111/14', 11),\n",
       " ('3 StR 311/13', 11),\n",
       " ('4 StR 73/16', 11),\n",
       " ('4 StR 502/07', 11),\n",
       " ('2 StR 572/16', 11),\n",
       " ('1 StR 217/08', 11),\n",
       " ('1 StR 328/91', 11),\n",
       " ('4 StR 642/81', 11),\n",
       " ('5 StR 543/07', 11),\n",
       " ('3 StR 89/83', 11),\n",
       " ('1 StR 488/07', 11),\n",
       " ('1 StR 244/18', 11),\n",
       " ('1 StR 118/16', 11),\n",
       " ('1 StR 351/16', 11),\n",
       " ('1 StR 730/96', 11),\n",
       " ('2 StR 139/13', 11),\n",
       " ('3 StR 17/10', 11),\n",
       " ('4 StR 648/94', 11),\n",
       " ('3 StR 460/08', 11),\n",
       " ('5 StR 485/07', 11),\n",
       " ('4 StR 164/15', 11),\n",
       " ('2 BvR 1422/15', 11),\n",
       " ('3 StR 8/18', 11),\n",
       " ('2 StR 102/10', 11),\n",
       " ('1 StR 226/13', 11),\n",
       " ('4 StR 468/14', 11),\n",
       " ('1 StR 417/16', 11),\n",
       " ('4 StR 623/11', 11),\n",
       " ('3 StR 86/16', 11),\n",
       " ('1 StR 296/12', 11),\n",
       " ('3 StR 369/09', 11),\n",
       " ('4 StR 597/16', 11),\n",
       " ('1 StR 458/10', 11),\n",
       " ('1 StR 17/97', 11),\n",
       " ('AK 14/17', 11),\n",
       " ('2 StR 521/97', 11),\n",
       " ('3 StR 526/83', 11),\n",
       " ('4 StR 275/09', 11),\n",
       " ('1 StR 447/14', 11),\n",
       " ('5 StR 275/15', 11),\n",
       " ('4 StR 124/17', 11),\n",
       " ('3 StR 236/17', 11),\n",
       " ('1 StR 613/14', 11),\n",
       " ('3 StR 162/00', 11),\n",
       " ('2 BvR 2155/11', 11),\n",
       " ('1 StR 423/87', 11),\n",
       " ('1 StR 654/12', 11),\n",
       " ('2 StR 399/10', 11),\n",
       " ('2 StR 616/12', 11),\n",
       " ('4 StR 222/97', 11),\n",
       " ('4 StR 463/14', 11),\n",
       " ('2 StR 22/13', 11),\n",
       " ('1 StR 654/07', 11),\n",
       " ('2 StR 410/13', 11),\n",
       " ('1 StR 52/07', 11),\n",
       " ('1 StR 310/16', 11),\n",
       " ('1 StR 348/17', 11),\n",
       " ('3 StR 166/18', 11),\n",
       " ('2 StR 381/14', 11),\n",
       " ('5 StR 268/99', 11),\n",
       " ('3 StR 642/14', 11),\n",
       " ('4 StR 408/16', 11),\n",
       " ('3 StR 645/17', 11),\n",
       " ('2 StR 43/16', 11),\n",
       " ('3 StR 5/13', 11),\n",
       " ('4 StR 345/06', 11),\n",
       " ('5 StR 100/18', 11),\n",
       " ('3 StE 4/16', 11),\n",
       " ('1 StR 112/15', 11),\n",
       " ('1 StR 274/03', 10),\n",
       " ('3 StR 294/09', 10),\n",
       " ('3 StR 65/10', 10),\n",
       " ('5 StR 80/60', 10),\n",
       " ('1 StR 127/03', 10),\n",
       " ('2 BvR 2333/08', 10),\n",
       " ('2 StR 184/11', 10),\n",
       " ('5 StR 65/11', 10),\n",
       " ('3 StR 38/08', 10),\n",
       " ('4 StR 408/09', 10),\n",
       " ('4 StR 595/97', 10),\n",
       " ('4 StR 640/98', 10),\n",
       " ('3 StR 516/07', 10),\n",
       " ('StB 21/03', 10),\n",
       " ('2 BvR 1113/10', 10),\n",
       " ('5 StR 685/81', 10),\n",
       " ('2 StR 567/74', 10),\n",
       " ('5 StR 255/11', 10),\n",
       " ('4 StR 708/93', 10),\n",
       " ('3 StR 333/04', 10),\n",
       " ('1 StR 275/12', 10),\n",
       " ('4 StR 514/09', 10),\n",
       " ('1 StR 497/10', 10),\n",
       " ('1 StR 665/08', 10),\n",
       " ('3 StR 144/11', 10),\n",
       " ('4 StR 170/13', 10),\n",
       " ('2 StR 310/04', 10),\n",
       " ('4 StR 24/90', 10),\n",
       " ('2 StR 218/11', 10),\n",
       " ('4 StR 347/06', 10),\n",
       " ('3 StR 143/13', 10),\n",
       " ('4 StR 111/13', 10),\n",
       " ('4 StR 266/07', 10),\n",
       " ('3 StR 421/11', 10),\n",
       " ('3 StR 400/09', 10),\n",
       " ('3 StR 298/11', 10),\n",
       " ('1 StR 53/13', 10),\n",
       " ('2 StR 527/90', 10),\n",
       " ('3 StR 303/01', 10),\n",
       " ('4 StR 494/12', 10),\n",
       " ('2 BvR 547/08', 10),\n",
       " ('1 StR 169/00', 10),\n",
       " ('1 StR 422/13', 10),\n",
       " ('V R 25/10', 10),\n",
       " ('1 StR 513/01', 10),\n",
       " ('4 StR 30/11', 10),\n",
       " ('3 StR 424/13', 10),\n",
       " ('3 StR 129/11', 10),\n",
       " ('1 StR 534/11', 10),\n",
       " ('4 StR 455/08', 10),\n",
       " ('2 StR 656/13', 10),\n",
       " ('2 StR 150/83', 10),\n",
       " ('3 StR 185/03', 10),\n",
       " ('3 StR 154/14', 10),\n",
       " ('1 StR 196/14', 10),\n",
       " ('5 StR 318/13', 10),\n",
       " ('5 StR 226/99', 10),\n",
       " ('2 BvR 792/11', 10),\n",
       " ('4 StR 266/62', 10),\n",
       " ('5 StR 322/12', 10),\n",
       " ('3 StR 191/09', 10),\n",
       " ('4 StR 145/13', 10),\n",
       " ('4 StR 353/92', 10),\n",
       " ('3 StR 52/13', 10),\n",
       " ('3 StR 486/12', 10),\n",
       " ('3 StR 347/13', 10),\n",
       " ('1 StR 113/06', 10),\n",
       " ('3 StR 346/11', 10),\n",
       " ('1 StR 272/09', 10),\n",
       " ('4 StR 255/04', 10),\n",
       " ('2 StR 265/13', 10),\n",
       " ('4 StR 551/12', 10),\n",
       " ('1 StR 75/11', 10),\n",
       " ('4 StR 516/14', 10),\n",
       " ('1 StR 164/07', 10),\n",
       " ('3 StR 238/12', 10),\n",
       " ('3 StR 365/14', 10),\n",
       " ('3 StR 224/14', 10),\n",
       " ('4 StR 491/15', 10),\n",
       " ('4 StR 497/14', 10),\n",
       " ('3 StR 35/92', 10),\n",
       " ('5 StR 92/07', 10),\n",
       " ('3 StR 412/07', 10),\n",
       " ('5 StR 448/01', 10),\n",
       " ('1 StR 400/10', 10),\n",
       " ('3 StR 214/15', 10),\n",
       " ('3 StR 205/90', 10),\n",
       " ('5 StR 38/08', 10),\n",
       " ('4 StR 27/95', 10),\n",
       " ('4 StR 216/10', 10),\n",
       " ('AK 42/17', 10),\n",
       " ('3 StR 114/97', 10),\n",
       " ('5 StR 425/11', 10),\n",
       " ('4 StR 364/13', 10),\n",
       " ('2 StR 561/11', 10),\n",
       " ('GSSt 1/68', 10),\n",
       " ('3 StR 112/10', 10),\n",
       " ('5 StR 250/01', 10),\n",
       " ('1 StR 535/08', 10),\n",
       " ('1 Ws 82/16', 10),\n",
       " ('1 StR 456/15', 10),\n",
       " ('3 StR 258/13', 10),\n",
       " ('5 StR 729/98', 10),\n",
       " ('3 StR 102/15', 10),\n",
       " ('4 StR 87/11', 10),\n",
       " ('4 StR 344/11', 10),\n",
       " ('2 StR 296/05', 10),\n",
       " ('2 StR 262/18', 10),\n",
       " ('3 StR 173/09', 10),\n",
       " ('2 StR 352/15', 10),\n",
       " ('2 StR 585/15', 10),\n",
       " ('4 StR 532/10', 10),\n",
       " ('3 StR 206/11', 10),\n",
       " ('4 StR 230/16', 10),\n",
       " ('2 StR 436/13', 10),\n",
       " ('4 StR 550/17', 10),\n",
       " ('1 StR 478/09', 10),\n",
       " ('5 StR 520/01', 10),\n",
       " ('3 StR 442/09', 10),\n",
       " ('1 StR 344/98', 10),\n",
       " ('2 StR 239/97', 10),\n",
       " ('1 StR 213/10', 10),\n",
       " ('1 StR 536/16', 10),\n",
       " ('3 StR 49/16', 10),\n",
       " ('GSSt 2/11', 10),\n",
       " ('1 StR 505/16', 10),\n",
       " ('2 StR 240/14', 10),\n",
       " ('4 StR 195/18', 10),\n",
       " ('4 StR 326/85', 10),\n",
       " ('3 StR 193/13', 10),\n",
       " ('3 StR 554/15', 10),\n",
       " ('2 StR 78/14', 10),\n",
       " ('5 StR 445/11', 10),\n",
       " ('2 StR 481/17', 10),\n",
       " ('1 StR 393/17', 10),\n",
       " ('3 StR 6/08', 10),\n",
       " ('3 StR 321/11', 10),\n",
       " ('2 BvR 2115/01', 10),\n",
       " ('1 StR 254/04', 10),\n",
       " ('3 StR 171/09', 9),\n",
       " ('3 StR 76/10', 9),\n",
       " ('5 StR 169/09', 9),\n",
       " ('2 BvR 1730/06', 9),\n",
       " ('3 StR 437/02', 9),\n",
       " ('3 StR 52/01', 9),\n",
       " ('3 StR 179/10', 9),\n",
       " ('GSSt 1/06', 9),\n",
       " ('4 StR 669/10', 9),\n",
       " ('5 StR 192/11', 9),\n",
       " ('4 StR 164/11', 9),\n",
       " ('3 StR 221/11', 9),\n",
       " ('3 StR 445/10', 9),\n",
       " ('4 StR 272/98', 9),\n",
       " ('1 StR 7/06', 9),\n",
       " ('2 StR 500/00', 9),\n",
       " ('1 StR 370/07', 9),\n",
       " ('1 StR 14/96', 9),\n",
       " ('3 StR 326/11', 9),\n",
       " ('4 StR 159/03', 9),\n",
       " ('5 StR 535/11', 9),\n",
       " ('2 StR 294/02', 9),\n",
       " ('4 StR 516/11', 9),\n",
       " ('3 StR 141/87', 9),\n",
       " ('4 StR 627/92', 9),\n",
       " ('4 StR 599/11', 9),\n",
       " ('5 StR 193/98', 9),\n",
       " ('3 StR 244/09', 9),\n",
       " ('2 BvR 746/07', 9),\n",
       " ('3 StR 342/07', 9),\n",
       " ('5 StR 239/92', 9),\n",
       " ('2 StR 592/11', 9),\n",
       " ('2 StR 328/11', 9),\n",
       " ('1 StR 24/10', 9),\n",
       " ('4 StR 358/04', 9),\n",
       " ('5 StR 714/98', 9),\n",
       " ('GSSt 1/04', 9),\n",
       " ('2 StR 490/91', 9),\n",
       " ('4 StR 23/92', 9),\n",
       " ('1 StR 159/07', 9),\n",
       " ('4 StR 386/08', 9),\n",
       " ('1 StR 668/98', 9),\n",
       " ('4 StR 610/07', 9),\n",
       " ('1 StR 609/96', 9),\n",
       " ('1 StR 357/94', 9),\n",
       " ('3 StR 411/12', 9),\n",
       " ('2 StR 449/07', 9),\n",
       " ('2 StR 397/09', 9),\n",
       " ('3 StR 212/08', 9),\n",
       " ('1 StR 386/11', 9),\n",
       " ('4 StR 457/71', 9),\n",
       " ('3 StR 224/09', 9),\n",
       " ('3 StR 231/11', 9),\n",
       " ('V R 22/02', 9),\n",
       " ('2 BvR 581/03', 9),\n",
       " ('5 StR 276/04', 9),\n",
       " ('2 StR 495/12', 9),\n",
       " ('4 StR 166/96', 9),\n",
       " ('VI ZR 201/91', 9),\n",
       " ('StB 16/13', 9),\n",
       " ('4 StR 475/84', 9),\n",
       " ('4 StR 387/60', 9),\n",
       " ('2 StR 391/09', 9),\n",
       " ('4 StR 514/14', 9),\n",
       " ('4 StR 465/76', 9),\n",
       " ('2 StR 520/96', 9),\n",
       " ('1 StR 3/15', 9),\n",
       " ('1 StR 15/12', 9),\n",
       " ('3 StR 212/13', 9),\n",
       " ('5 StR 156/06', 9),\n",
       " ('2 StR 267/13', 9),\n",
       " ('4 StR 506/91', 9),\n",
       " ('5 StR 448/00', 9),\n",
       " ('2 StR 147/60', 9),\n",
       " ('1 StR 167/01', 9),\n",
       " ('4 StR 129/14', 9),\n",
       " ('3 StR 635/14', 9),\n",
       " ('2 StR 61/12', 9),\n",
       " ('4 StR 167/15', 9),\n",
       " ('2 StR 535/91', 9),\n",
       " ('3 StR 514/14', 9),\n",
       " ('1 StR 582/10', 9),\n",
       " ('2 StR 91/11', 9),\n",
       " ('3 StR 83/89', 9),\n",
       " ('2 StR 559/87', 9),\n",
       " ('2 StR 150/15', 9),\n",
       " ('3 StR 167/13', 9),\n",
       " ('3 StR 472/85', 9),\n",
       " ('2 BvL 43/92', 9),\n",
       " ('2 BvL 15/68', 9),\n",
       " ('3 StR 139/14', 9),\n",
       " ('3 StR 3/06', 9),\n",
       " ('5 StR 41/14', 9),\n",
       " ('4 StR 418/05', 9),\n",
       " ('3 StR 355/16', 9),\n",
       " ('StB 32/17', 9),\n",
       " ('1 StR 389/13', 9),\n",
       " ('5 StR 176/14', 9),\n",
       " ('4 StR 72/15', 9),\n",
       " ('2 StR 161/17', 9),\n",
       " ('4 StR 433/14', 9),\n",
       " ('3 StR 595/99', 9),\n",
       " ('2 BvR 2098/12', 9),\n",
       " ('1 StR 195/05', 9),\n",
       " ('StB 51/09', 9),\n",
       " ('4 StR 496/13', 9),\n",
       " ('1 StR 645/10', 9),\n",
       " ('4 StR 102/09', 9),\n",
       " ('1 StR 808/83', 9),\n",
       " ('4 StR 472/16', 9),\n",
       " ('2 StR 410/77', 9),\n",
       " ('1 StR 403/13', 9),\n",
       " ('1 StR 407/11', 9),\n",
       " ('4 StR 470/86', 9),\n",
       " ('3 StR 276/09', 9),\n",
       " ('5 StR 251/02', 9),\n",
       " ('StB 35/16', 9),\n",
       " ('1 StR 535/17', 9),\n",
       " ('4 StR 81/12', 9),\n",
       " ('2 ARs 91/13', 9),\n",
       " ('1 StR 293/90', 9),\n",
       " ('3 StR 88/10', 9),\n",
       " ('4 StR 67/12', 9),\n",
       " ('2 StR 45/14', 9),\n",
       " ('4 StR 486/18', 9),\n",
       " ('1 StR 519/00', 9),\n",
       " ('3 StR 513/12', 9),\n",
       " ('3 StR 361/99', 9),\n",
       " ('2 StR 294/16', 9),\n",
       " ('3 StR 345/17', 9),\n",
       " ('3 StR 174/18', 9),\n",
       " ('4 StR 446/17', 9),\n",
       " ('1 StR 116/18', 9),\n",
       " ('2 StR 519/09', 9),\n",
       " ('3 StR 420/08', 9),\n",
       " ('4 StR 233/00', 9),\n",
       " ('2 StR 257/84', 9),\n",
       " ('3 StR 122/09', 9),\n",
       " ('1 StR 491/09', 9),\n",
       " ('5 StR 213/07', 9),\n",
       " ('1 StR 327/86', 9),\n",
       " ('2 StR 259/01', 9),\n",
       " ('4 StR 255/76', 9),\n",
       " ('1 StR 405/12', 9),\n",
       " ...]"
      ]
     },
     "execution_count": 156,
     "metadata": {},
     "output_type": "execute_result"
    }
   ],
   "source": [
    "sorted_dict_all_az"
   ]
  },
  {
   "cell_type": "code",
   "execution_count": 159,
   "metadata": {},
   "outputs": [],
   "source": [
    "# the 50 most often cited aktenzeichen (in Gruende only)\n",
    "most_popular_az = dict(sorted_dict_all_az[0:50])"
   ]
  },
  {
   "cell_type": "code",
   "execution_count": 160,
   "metadata": {},
   "outputs": [
    {
     "data": {
      "text/plain": [
       "{'GSSt 1/86': 93,\n",
       " '3 StR 552/08': 92,\n",
       " '4 StR 558/11': 83,\n",
       " '2 BvR 2628/10': 80,\n",
       " '2 BvR 2559/08': 78,\n",
       " '4 StR 215/10': 74,\n",
       " '3 StR 344/03': 71,\n",
       " 'GSSt 1/93': 63,\n",
       " 'GSSt 1/07': 58,\n",
       " '1 StR 525/11': 58,\n",
       " '1 StR 731/08': 53,\n",
       " '4 StR 502/10': 52,\n",
       " '1 StR 166/07': 52,\n",
       " '2 StR 355/80': 51,\n",
       " '5 StR 119/05': 50,\n",
       " '1 StR 9/90': 50,\n",
       " '3 StR 17/15': 49,\n",
       " '3 StR 247/12': 48,\n",
       " '1 StR 416/08': 47,\n",
       " '2 BvR 2365/09': 47,\n",
       " '1 StR 346/03': 47,\n",
       " 'GSSt 1/05': 46,\n",
       " '3 StR 250/09': 46,\n",
       " '4 StR 420/14': 46,\n",
       " '2 BvR 2500/09': 45,\n",
       " '1 StR 586/12': 45,\n",
       " 'VGS 1/16': 45,\n",
       " '4 StR 608/11': 44,\n",
       " '2 StR 137/14': 44,\n",
       " '2 StR 374/92': 43,\n",
       " '1 StR 94/98': 43,\n",
       " '1 StR 647/12': 43,\n",
       " '4 StR 439/13': 43,\n",
       " '1 StR 359/13': 42,\n",
       " '1 StR 718/08': 41,\n",
       " '1 StR 45/11': 41,\n",
       " '4 StR 371/13': 40,\n",
       " '3 StR 537/14': 40,\n",
       " '3 StR 269/04': 39,\n",
       " '1 StR 220/09': 39,\n",
       " '1 StR 482/15': 38,\n",
       " '5 StR 181/06': 37,\n",
       " '4 StR 642/96': 37,\n",
       " '5 StR 624/99': 37,\n",
       " '4 StR 441/78': 36,\n",
       " '2 StR 616/10': 36,\n",
       " '4 StR 224/12': 36,\n",
       " '2 StR 556/96': 36,\n",
       " 'GSSt 1/00': 36,\n",
       " '4 StR 348/12': 35}"
      ]
     },
     "execution_count": 160,
     "metadata": {},
     "output_type": "execute_result"
    }
   ],
   "source": [
    "most_popular_az"
   ]
  },
  {
   "cell_type": "code",
   "execution_count": 161,
   "metadata": {},
   "outputs": [
    {
     "data": {
      "text/plain": [
       "<BarContainer object of 50 artists>"
      ]
     },
     "execution_count": 161,
     "metadata": {},
     "output_type": "execute_result"
    },
    {
     "data": {
      "image/png": "[encoded data removed]",
      "text/plain": [
       "<Figure size 1296x864 with 1 Axes>"
      ]
     },
     "metadata": {
      "needs_background": "light"
     },
     "output_type": "display_data"
    }
   ],
   "source": [
    "plt.figure(figsize=(18,12))\n",
    "plt.xticks(rotation=90)\n",
    "plt.bar(most_popular_az.keys(), most_popular_az.values())"
   ]
  },
  {
   "cell_type": "markdown",
   "metadata": {},
   "source": [
    "2. Ansatz: pro Dokument jedes Zitat nur einzeln berücksichtigen aka \"wird von den meisten Dokumenten zitiert\""
   ]
  },
  {
   "cell_type": "code",
   "execution_count": 162,
   "metadata": {},
   "outputs": [],
   "source": [
    "# set pro dokument bilden\n",
    "def setOfAz(az: list):\n",
    "    return set(az)"
   ]
  },
  {
   "cell_type": "code",
   "execution_count": 163,
   "metadata": {},
   "outputs": [],
   "source": [
    "data_all_az[\"set_az_gruende\"] = data_all_az[\"cited_az_gruende\"].apply(setOfAz)"
   ]
  },
  {
   "cell_type": "code",
   "execution_count": 164,
   "metadata": {},
   "outputs": [],
   "source": [
    "# collect all sets of az in one list \"all_cited_az_sets\"\n",
    "all_cited_az_sets = []\n",
    "for menge in data_all_az.set_az_gruende:\n",
    "    if menge:\n",
    "        all_cited_az_sets += list(menge)  "
   ]
  },
  {
   "cell_type": "code",
   "execution_count": 165,
   "metadata": {},
   "outputs": [
    {
     "data": {
      "text/plain": [
       "38005"
      ]
     },
     "execution_count": 165,
     "metadata": {},
     "output_type": "execute_result"
    }
   ],
   "source": [
    "len(all_cited_az_sets)"
   ]
  },
  {
   "cell_type": "code",
   "execution_count": 166,
   "metadata": {},
   "outputs": [],
   "source": [
    "# entferne Leerzeichen am Anfang\n",
    "for i, az in enumerate(all_cited_az_sets):\n",
    "    if az.startswith(\" \"):\n",
    "        all_cited_az_sets[i] = az[1:]"
   ]
  },
  {
   "cell_type": "code",
   "execution_count": 167,
   "metadata": {},
   "outputs": [],
   "source": [
    "dict_all_az_sets = getDuplicatesWithCount(all_cited_az_sets)"
   ]
  },
  {
   "cell_type": "code",
   "execution_count": 170,
   "metadata": {},
   "outputs": [],
   "source": [
    "# sort dict descending by value\n",
    "sorted_dict_all_az_sets = sorted(dict_all_az_sets.items(), key=lambda x: x[1], reverse=True)"
   ]
  },
  {
   "cell_type": "code",
   "execution_count": 171,
   "metadata": {},
   "outputs": [
    {
     "data": {
      "text/plain": [
       "[('GSSt 1/86', 81),\n",
       " ('3 StR 344/03', 64),\n",
       " ('4 StR 558/11', 55),\n",
       " ('GSSt 1/93', 54),\n",
       " ('2 BvR 2559/08', 51),\n",
       " ('1 StR 9/90', 50),\n",
       " ('2 BvR 2628/10', 50),\n",
       " ('4 StR 215/10', 49),\n",
       " ('5 StR 119/05', 45),\n",
       " ('GSSt 1/07', 45),\n",
       " ('2 StR 355/80', 45),\n",
       " ('2 BvR 2365/09', 42),\n",
       " ('3 StR 250/09', 42),\n",
       " ('2 StR 374/92', 41),\n",
       " ('1 StR 94/98', 41),\n",
       " ('GSSt 1/05', 39),\n",
       " ('4 StR 502/10', 39),\n",
       " ('3 StR 552/08', 38),\n",
       " ('1 StR 525/11', 38),\n",
       " ('2 BvR 2500/09', 36),\n",
       " ('4 StR 642/96', 36),\n",
       " ('3 StR 247/12', 36),\n",
       " ('4 StR 420/14', 36),\n",
       " ('1 StR 731/08', 35),\n",
       " ('1 StR 647/12', 35),\n",
       " ('3 StR 269/04', 34),\n",
       " ('4 StR 441/78', 34),\n",
       " ('5 StR 521/14', 33),\n",
       " ('GSSt 1/00', 33),\n",
       " ('1 StR 416/08', 32),\n",
       " ('4 StR 608/11', 31),\n",
       " ('4 StR 224/12', 30),\n",
       " ('1 StR 718/08', 29),\n",
       " ('5 StR 492/90', 29),\n",
       " ('1 StR 346/03', 29),\n",
       " ('1 StR 166/07', 29),\n",
       " ('2 StR 90/14', 29),\n",
       " ('3 StR 537/14', 29),\n",
       " ('1 StR 94/16', 29),\n",
       " ('4 StR 439/13', 28),\n",
       " ('4 StR 371/13', 28),\n",
       " ('2 StR 150/08', 27),\n",
       " ('2 StR 139/12', 27),\n",
       " ('3 StR 521/15', 27),\n",
       " ('2 StR 636/97', 26),\n",
       " ('4 StR 348/12', 26),\n",
       " ('1 StR 586/12', 26),\n",
       " ('4 StR 78/16', 26),\n",
       " ('1 StR 45/11', 25),\n",
       " ('1 StR 245/09', 25),\n",
       " ('5 StR 224/08', 25),\n",
       " ('4 StR 56/08', 24),\n",
       " ('2 StR 477/07', 24),\n",
       " ('3 StR 153/02', 24),\n",
       " ('1 StR 482/15', 24),\n",
       " ('1 StR 220/09', 23),\n",
       " ('3 StR 45/13', 23),\n",
       " ('1 StR 354/03', 23),\n",
       " ('2 StR 137/14', 23),\n",
       " ('2 StR 556/96', 23),\n",
       " ('4 StR 79/16', 23),\n",
       " ('1 StR 594/16', 23),\n",
       " ('3 StR 208/11', 22),\n",
       " ('2 StR 616/10', 22),\n",
       " ('1 StR 627/08', 22),\n",
       " ('5 StR 465/95', 22),\n",
       " ('3 StR 139/06', 21),\n",
       " ('2 StR 329/04', 21),\n",
       " ('1 StR 791/96', 21),\n",
       " ('5 StR 394/08', 21),\n",
       " ('1 StR 544/09', 20),\n",
       " ('1 StR 114/11', 20),\n",
       " ('3 StR 161/02', 20),\n",
       " ('4 StR 635/10', 20),\n",
       " ('1 StR 359/13', 20),\n",
       " ('2 StR 422/12', 20),\n",
       " ('3 StR 162/13', 20),\n",
       " ('1 StR 46/06', 20),\n",
       " ('3 StR 386/13', 20),\n",
       " ('3 StR 132/12', 20),\n",
       " ('5 StR 624/99', 20),\n",
       " ('1 StR 205/09', 19),\n",
       " ('1 StR 169/02', 19),\n",
       " ('3 StR 69/10', 19),\n",
       " ('4 StR 55/12', 19),\n",
       " ('1 StR 234/12', 19),\n",
       " ('3 StR 349/13', 19),\n",
       " ('4 StR 168/13', 19),\n",
       " ('4 StR 520/12', 19),\n",
       " ('1 StR 287/15', 19),\n",
       " ('4 StR 171/14', 19),\n",
       " ('5 StR 623/17', 19),\n",
       " ('3 StR 470/11', 19),\n",
       " ('3 StR 103/15', 19),\n",
       " ('3 StR 17/15', 19),\n",
       " ('5 StR 145/03', 18),\n",
       " ('1 StR 283/09', 18),\n",
       " ('3 StR 434/10', 18),\n",
       " ('4 StR 40/86', 18),\n",
       " ('2 StR 195/12', 18),\n",
       " ('4 StR 197/12', 18),\n",
       " ('3 StR 485/10', 18),\n",
       " ('2 StR 381/13', 18),\n",
       " ('1 StR 199/10', 18),\n",
       " ('1 StR 174/08', 18),\n",
       " ('4 StR 419/14', 18),\n",
       " ('3 StR 560/17', 18),\n",
       " ('4 StR 481/16', 18),\n",
       " ('2 StR 453/99', 18),\n",
       " ('3 StR 287/10', 17),\n",
       " ('2 StR 449/94', 17),\n",
       " ('2 StR 550/10', 17),\n",
       " ('1 StR 262/88', 17),\n",
       " ('4 StR 277/13', 17),\n",
       " ('1 StR 38/11', 17),\n",
       " ('1 StR 414/15', 17),\n",
       " ('4 StR 42/13', 17),\n",
       " ('5 StR 371/00', 17),\n",
       " ('3 StR 277/09', 17),\n",
       " ('AK 52/16', 17),\n",
       " ('3 StR 9/80', 17),\n",
       " ('5 StR 682/93', 17),\n",
       " ('3 StR 470/14', 17),\n",
       " ('3 StR 89/14', 17),\n",
       " ('2 BvR 878/14', 17),\n",
       " ('1 StR 587/09', 16),\n",
       " ('1 StR 485/71', 16),\n",
       " ('5 StR 442/11', 16),\n",
       " ('1 StR 103/12', 16),\n",
       " ('2 BvR 298/12', 16),\n",
       " ('4 StR 417/12', 16),\n",
       " ('1 StR 415/12', 16),\n",
       " ('1 StR 148/83', 16),\n",
       " ('1 StR 511/95', 16),\n",
       " ('3 StR 271/14', 16),\n",
       " ('2 StR 111/09', 16),\n",
       " ('3 StR 79/03', 16),\n",
       " ('3 StR 470/06', 16),\n",
       " ('5 StR 301/04', 16),\n",
       " ('2 StR 137/15', 16),\n",
       " ('1 StR 389/12', 16),\n",
       " ('1 StR 265/15', 16),\n",
       " ('2 StR 78/16', 16),\n",
       " ('4 StR 63/18', 16),\n",
       " ('5 StR 87/12', 16),\n",
       " ('3 StR 128/03', 16),\n",
       " ('1 StR 415/15', 16),\n",
       " ('1 StR 371/06', 15),\n",
       " ('5 StR 299/03', 15),\n",
       " ('3 StR 226/07', 15),\n",
       " ('1 StR 618/98', 15),\n",
       " ('1 StR 323/08', 15),\n",
       " ('4 StR 245/10', 15),\n",
       " ('1 StR 501/11', 15),\n",
       " ('3 StR 394/07', 15),\n",
       " ('4 StR 275/13', 15),\n",
       " ('4 StR 245/00', 15),\n",
       " ('2 StR 34/06', 15),\n",
       " ('2 StR 587/07', 15),\n",
       " ('3 StR 65/12', 15),\n",
       " ('2 StR 120/05', 15),\n",
       " ('3 StR 158/12', 15),\n",
       " ('4 StR 29/13', 15),\n",
       " ('5 StR 73/03', 15),\n",
       " ('2 StR 602/13', 15),\n",
       " ('4 StR 163/14', 15),\n",
       " ('2 StR 524/10', 15),\n",
       " ('2 StR 100/10', 15),\n",
       " ('4 StR 39/15', 15),\n",
       " ('4 StR 746/94', 15),\n",
       " ('5 StR 510/13', 15),\n",
       " ('4 StR 267/11', 15),\n",
       " ('5 StR 50/17', 15),\n",
       " ('3 StR 336/15', 15),\n",
       " ('1 StR 239/10', 15),\n",
       " ('4 StR 326/04', 15),\n",
       " ('1 StR 235/15', 15),\n",
       " ('4 StR 512/66', 15),\n",
       " ('1 StR 378/13', 15),\n",
       " ('5 StR 545/16', 15),\n",
       " ('3 StR 264/79', 14),\n",
       " ('5 StR 547/07', 14),\n",
       " ('3 StR 175/11', 14),\n",
       " ('3 StR 374/11', 14),\n",
       " ('5 StR 594/07', 14),\n",
       " ('AK 6/07', 14),\n",
       " ('3 StR 492/04', 14),\n",
       " ('1 StR 606/60', 14),\n",
       " ('3 StR 466/10', 14),\n",
       " ('3 StR 140/12', 14),\n",
       " ('2 BvR 2883/10', 14),\n",
       " ('3 StR 421/02', 14),\n",
       " ('5 StR 42/02', 14),\n",
       " ('2 StR 47/13', 14),\n",
       " ('1 StR 478/04', 14),\n",
       " ('4 StR 258/13', 14),\n",
       " ('4 StR 346/12', 14),\n",
       " ('5 StR 526/96', 14),\n",
       " ('4 StR 418/12', 14),\n",
       " ('2 StR 563/09', 14),\n",
       " ('2 StR 278/09', 14),\n",
       " ('4 StR 153/08', 14),\n",
       " ('3 StR 137/14', 14),\n",
       " ('2 StR 239/15', 14),\n",
       " ('1 StR 314/14', 14),\n",
       " ('4 StR 768/94', 14),\n",
       " ('3 StR 297/09', 14),\n",
       " ('1 StR 643/09', 14),\n",
       " ('1 StR 412/11', 14),\n",
       " ('3 StR 518/14', 14),\n",
       " ('4 StR 165/02', 14),\n",
       " ('2 StR 483/14', 14),\n",
       " ('3 StR 407/12', 14),\n",
       " ('3 StR 638/14', 14),\n",
       " ('GSSt 4/17', 14),\n",
       " ('1 StR 651/17', 14),\n",
       " ('3 StR 620/17', 14),\n",
       " ('5 StR 258/13', 14),\n",
       " ('5 StR 364/91', 14),\n",
       " ('3 StR 226/10', 13),\n",
       " ('1 StR 281/02', 13),\n",
       " ('3 StR 215/08', 13),\n",
       " ('1 StR 336/11', 13),\n",
       " ('3 StR 432/10', 13),\n",
       " ('5 StR 14/11', 13),\n",
       " ('3 StR 453/88', 13),\n",
       " ('5 StR 181/06', 13),\n",
       " ('2 StR 516/06', 13),\n",
       " ('GSSt 1/94', 13),\n",
       " ('4 StR 48/86', 13),\n",
       " ('1 StR 263/12', 13),\n",
       " ('5 StR 432/95', 13),\n",
       " ('1 StR 594/13', 13),\n",
       " ('3 StR 246/04', 13),\n",
       " ('5 StR 190/91', 13),\n",
       " ('1 StR 302/13', 13),\n",
       " ('4 StR 303/11', 13),\n",
       " ('3 StR 630/14', 13),\n",
       " ('1 StR 357/91', 13),\n",
       " ('1 StR 336/13', 13),\n",
       " ('4 StR 233/02', 13),\n",
       " ('3 StR 579/08', 13),\n",
       " ('4 StR 84/15', 13),\n",
       " ('3 StR 171/14', 13),\n",
       " ('2 StR 335/15', 13),\n",
       " ('5 StR 138/01', 13),\n",
       " ('2 StR 311/18', 13),\n",
       " ('5 StR 360/11', 13),\n",
       " ('GSSt 2/02', 13),\n",
       " ('4 StR 144/15', 13),\n",
       " ('2 StR 27/16', 13),\n",
       " ('4 StR 126/10', 13),\n",
       " ('2 BvR 2055/14', 13),\n",
       " ('4 StR 430/13', 13),\n",
       " ('3 StR 487/16', 13),\n",
       " ('3 StR 243/08', 13),\n",
       " ('5 StR 546/06', 13),\n",
       " ('2 StR 86/08', 13),\n",
       " ('1 StR 394/16', 13),\n",
       " ('1 StR 300/09', 12),\n",
       " ('1 StR 269/02', 12),\n",
       " ('3 StR 220/96', 12),\n",
       " ('5 StR 122/91', 12),\n",
       " ('3 StR 199/84', 12),\n",
       " ('5 StR 189/11', 12),\n",
       " ('1 StR 120/11', 12),\n",
       " ('5 StR 180/05', 12),\n",
       " ('2 BvR 2652/07', 12),\n",
       " ('2 StR 618/80', 12),\n",
       " ('4 StR 311/12', 12),\n",
       " ('5 StR 129/13', 12),\n",
       " ('3 StR 364/10', 12),\n",
       " ('5 StR 336/99', 12),\n",
       " ('GSSt 1/09', 12),\n",
       " ('1 StR 178/13', 12),\n",
       " ('3 StR 118/11', 12),\n",
       " ('1 StR 94/13', 12),\n",
       " ('5 StR 242/07', 12),\n",
       " ('2 StR 394/05', 12),\n",
       " ('1 StR 312/13', 12),\n",
       " ('2 StR 337/14', 12),\n",
       " ('3 StR 470/04', 12),\n",
       " ('3 StR 156/08', 12),\n",
       " ('4 StR 239/09', 12),\n",
       " ('4 StR 541/11', 12),\n",
       " ('1 StR 479/08', 12),\n",
       " ('3 StR 236/15', 12),\n",
       " ('1 StR 454/09', 12),\n",
       " ('5 StR 435/14', 12),\n",
       " ('2 StR 112/14', 12),\n",
       " ('5 StR 229/10', 12),\n",
       " ('1 StR 262/80', 12),\n",
       " ('1 StR 360/16', 12),\n",
       " ('3 StR 113/98', 12),\n",
       " ('4 StR 78/18', 12),\n",
       " ('GSZ 1/55', 12),\n",
       " ('3 StR 62/84', 12),\n",
       " ('2 StR 42/09', 12),\n",
       " ('2 StR 47/17', 12),\n",
       " ('4 StR 499/01', 12),\n",
       " ('5 StR 136/14', 12),\n",
       " ('1 StR 37/11', 12),\n",
       " ('3 StR 255/80', 12),\n",
       " ('2 StR 260/01', 12),\n",
       " ('5 StR 103/07', 12),\n",
       " ('2 StR 345/05', 12),\n",
       " ('4 StR 33/88', 11),\n",
       " ('1 StR 59/10', 11),\n",
       " ('4 StR 60/89', 11),\n",
       " ('4 StR 464/00', 11),\n",
       " ('3 StR 246/09', 11),\n",
       " ('1 StR 301/07', 11),\n",
       " ('3 StR 235/11', 11),\n",
       " ('4 StR 346/11', 11),\n",
       " ('5 StR 371/07', 11),\n",
       " ('4 StR 149/72', 11),\n",
       " ('4 StR 347/05', 11),\n",
       " ('2 StR 465/06', 11),\n",
       " ('5 StR 150/12', 11),\n",
       " ('2 BvR 610/12', 11),\n",
       " ('3 StR 425/11', 11),\n",
       " ('3 StR 631/95', 11),\n",
       " ('3 StR 37/13', 11),\n",
       " ('4 StR 228/02', 11),\n",
       " ('1 StR 51/96', 11),\n",
       " ('3 StR 311/90', 11),\n",
       " ('5 StR 344/05', 11),\n",
       " ('5 StR 16/02', 11),\n",
       " ('5 StR 365/07', 11),\n",
       " ('3 StR 15/12', 11),\n",
       " ('1 StR 162/13', 11),\n",
       " ('3 StR 500/86', 11),\n",
       " ('2 StR 202/13', 11),\n",
       " ('2 StR 93/11', 11),\n",
       " ('1 StR 154/11', 11),\n",
       " ('4 StR 272/13', 11),\n",
       " ('3 StR 295/05', 11),\n",
       " ('3 StR 376/08', 11),\n",
       " ('3 StR 265/14', 11),\n",
       " ('4 StR 459/07', 11),\n",
       " ('2 StR 535/07', 11),\n",
       " ('4 StR 92/15', 11),\n",
       " ('4 StR 596/09', 11),\n",
       " ('4 StR 453/00', 11),\n",
       " ('5 StR 210/02', 11),\n",
       " ('2 StR 160/09', 11),\n",
       " ('2 StR 166/12', 11),\n",
       " ('3 StR 491/01', 11),\n",
       " ('3 StR 436/15', 11),\n",
       " ('4 StR 428/58', 11),\n",
       " ('4 StR 21/14', 11),\n",
       " ('1 StR 379/05', 11),\n",
       " ('4 StR 650/95', 11),\n",
       " ('1 StR 416/12', 11),\n",
       " ('1 StR 115/02', 11),\n",
       " ('4 StR 561/11', 11),\n",
       " ('4 StR 347/13', 11),\n",
       " ('2 StR 170/14', 11),\n",
       " ('3 StR 172/17', 11),\n",
       " ('2 BvR 564/95', 11),\n",
       " ('5 StR 485/07', 11),\n",
       " ('2 StR 102/10', 11),\n",
       " ('1 StR 693/96', 11),\n",
       " ('3 StR 86/16', 11),\n",
       " ('5 StR 468/12', 11),\n",
       " ('1 StR 604/16', 11),\n",
       " ('3 StR 369/09', 11),\n",
       " ('4 StR 597/16', 11),\n",
       " ('4 StR 595/16', 11),\n",
       " ('3 StR 535/16', 11),\n",
       " ('3 StR 526/83', 11),\n",
       " ('5 StR 417/11', 11),\n",
       " ('1 StR 318/12', 11),\n",
       " ('1 StR 1/16', 11),\n",
       " ('4 StR 447/10', 11),\n",
       " ('1 StR 612/13', 11),\n",
       " ('GSSt 1/92', 11),\n",
       " ('1 StR 654/07', 11),\n",
       " ('4 StR 158/14', 11),\n",
       " ('3 StR 97/17', 11),\n",
       " ('4 StR 172/73', 10),\n",
       " ('4 StR 105/91', 10),\n",
       " ('2 StR 534/96', 10),\n",
       " ('2 BvR 1136/03', 10),\n",
       " ('5 StR 555/09', 10),\n",
       " ('5 StR 93/04', 10),\n",
       " ('1 StR 153/11', 10),\n",
       " ('1 StR 287/11', 10),\n",
       " ('2 StR 501/08', 10),\n",
       " ('3 StR 174/09', 10),\n",
       " ('1 StR 343/11', 10),\n",
       " ('5 StR 355/98', 10),\n",
       " ('1 StR 266/10', 10),\n",
       " ('1 StR 275/10', 10),\n",
       " ('3 StR 420/10', 10),\n",
       " ('3 StR 38/08', 10),\n",
       " ('2 StR 270/89', 10),\n",
       " ('4 StR 524/06', 10),\n",
       " ('4 StR 408/09', 10),\n",
       " ('StB 21/03', 10),\n",
       " ('1 StR 372/01', 10),\n",
       " ('3 StR 255/11', 10),\n",
       " ('4 StR 708/93', 10),\n",
       " ('3 StR 333/04', 10),\n",
       " ('3 StR 425/06', 10),\n",
       " ('2 StR 10/10', 10),\n",
       " ('5 StR 267/11', 10),\n",
       " ('3 StR 556/09', 10),\n",
       " ('4 StR 119/10', 10),\n",
       " ('2 StR 218/11', 10),\n",
       " ('3 StR 137/03', 10),\n",
       " ('3 StR 537/97', 10),\n",
       " ('2 StR 367/04', 10),\n",
       " ('GSSt 2/94', 10),\n",
       " ('3 StR 298/11', 10),\n",
       " ('2 StR 322/84', 10),\n",
       " ('1 StR 200/13', 10),\n",
       " ('4 StR 514/11', 10),\n",
       " ('3 StR 154/14', 10),\n",
       " ('1 StR 196/14', 10),\n",
       " ('1 StR 57/10', 10),\n",
       " ('1 StR 405/02', 10),\n",
       " ('4 StR 144/13', 10),\n",
       " ('1 StR 313/02', 10),\n",
       " ('5 StR 226/99', 10),\n",
       " ('4 StR 725/94', 10),\n",
       " ('4 StR 528/13', 10),\n",
       " ('3 StR 191/09', 10),\n",
       " ('4 StR 145/13', 10),\n",
       " ('4 StR 27/11', 10),\n",
       " ('1 StR 506/01', 10),\n",
       " ('1 StR 113/06', 10),\n",
       " ('1 StR 701/96', 10),\n",
       " ('5 StR 58/07', 10),\n",
       " ('1 StR 435/15', 10),\n",
       " ('3 StR 365/14', 10),\n",
       " ('5 StR 434/94', 10),\n",
       " ('3 StR 311/13', 10),\n",
       " ('3 StR 412/07', 10),\n",
       " ('1 StR 504/12', 10),\n",
       " ('1 StR 407/12', 10),\n",
       " ('StB 9/12', 10),\n",
       " ('1 StR 217/08', 10),\n",
       " ('4 StR 399/17', 10),\n",
       " ('3 StR 90/08', 10),\n",
       " ('4 StR 27/95', 10),\n",
       " ('5 StR 224/09', 10),\n",
       " ('1 StR 244/18', 10),\n",
       " ('5 StR 498/15', 10),\n",
       " ('3 StR 17/10', 10),\n",
       " ('4 StR 599/80', 10),\n",
       " ('3 StR 460/08', 10),\n",
       " ('5 StR 611/17', 10),\n",
       " ('3 StR 247/15', 10),\n",
       " ('4 StR 103/02', 10),\n",
       " ('3 StR 148/13', 10),\n",
       " ('3 StR 258/13', 10),\n",
       " ('VGS 1/16', 10),\n",
       " ('5 StR 9/15', 10),\n",
       " ('1 StR 226/13', 10),\n",
       " ('4 StR 468/14', 10),\n",
       " ('2 StR 296/05', 10),\n",
       " ('1 StR 437/15', 10),\n",
       " ('1 StR 17/97', 10),\n",
       " ('5 StR 645/17', 10),\n",
       " ('5 StR 185/18', 10),\n",
       " ('1 StR 233/96', 10),\n",
       " ('1 StR 587/16', 10),\n",
       " ('2 StR 558/15', 10),\n",
       " ('3 StR 206/11', 10),\n",
       " ('3 StR 439/15', 10),\n",
       " ('5 StR 520/01', 10),\n",
       " ('2 BvR 2155/11', 10),\n",
       " ('1 StR 315/14', 10),\n",
       " ('2 StR 235/12', 10),\n",
       " ('1 StR 128/16', 10),\n",
       " ('4 StR 140/08', 10),\n",
       " ('5 StR 445/11', 10),\n",
       " ('4 StR 163/16', 10),\n",
       " ('GSSt 2/56', 9),\n",
       " ('2 StR 153/02', 9),\n",
       " ('3 StR 294/09', 9),\n",
       " ('3 StR 65/10', 9),\n",
       " ('2 StR 662/88', 9),\n",
       " ('1 StR 547/05', 9),\n",
       " ('3 StR 52/01', 9),\n",
       " ('2 StR 103/09', 9),\n",
       " ('2 StR 174/05', 9),\n",
       " ('4 StR 513/99', 9),\n",
       " ('5 StR 192/11', 9),\n",
       " ('3 StR 12/11', 9),\n",
       " ('5 StR 461/06', 9),\n",
       " ('1 StR 191/09', 9),\n",
       " ('3 StR 221/11', 9),\n",
       " ('4 StR 272/98', 9),\n",
       " ('2 StR 500/00', 9),\n",
       " ('1 StR 14/96', 9),\n",
       " ('3 StR 326/11', 9),\n",
       " ('2 StR 346/11', 9),\n",
       " ('1 StR 179/93', 9),\n",
       " ('3 StR 516/07', 9),\n",
       " ('3 StR 141/87', 9),\n",
       " ('1 StR 152/11', 9),\n",
       " ('4 StR 514/09', 9),\n",
       " ('2 StR 111/12', 9),\n",
       " ('1 StR 665/08', 9),\n",
       " ('1 StR 24/10', 9),\n",
       " ('4 StR 358/04', 9),\n",
       " ('5 StR 206/04', 9),\n",
       " ('3 StR 533/09', 9),\n",
       " ('2 StR 490/91', 9),\n",
       " ('4 StR 23/92', 9),\n",
       " ('1 StR 159/07', 9),\n",
       " ('4 StR 386/08', 9),\n",
       " ('3 StR 144/11', 9),\n",
       " ('4 StR 672/96', 9),\n",
       " ('4 StR 24/90', 9),\n",
       " ('4 StR 347/06', 9),\n",
       " ('2 StR 375/11', 9),\n",
       " ('3 StR 143/13', 9),\n",
       " ('1 StR 579/11', 9),\n",
       " ('1 StR 609/96', 9),\n",
       " ('5 StR 472/08', 9),\n",
       " ('4 StR 318/07', 9),\n",
       " ('3 StR 411/12', 9),\n",
       " ('1 StR 745/93', 9),\n",
       " ('2 StR 449/07', 9),\n",
       " ('3 StR 3/11', 9),\n",
       " ('3 StR 231/11', 9),\n",
       " ('4 StR 457/71', 9),\n",
       " ('1 StR 513/01', 9),\n",
       " ('3 StR 424/13', 9),\n",
       " ('3 StR 129/11', 9),\n",
       " ('4 StR 166/96', 9),\n",
       " ('VI ZR 201/91', 9),\n",
       " ('4 StR 124/13', 9),\n",
       " ('1 StR 218/14', 9),\n",
       " ('2 BvR 792/11', 9),\n",
       " ('5 StR 322/12', 9),\n",
       " ('2 StR 265/13', 9),\n",
       " ('2 StR 267/13', 9),\n",
       " ('4 StR 551/12', 9),\n",
       " ('1 StR 221/99', 9),\n",
       " ('1 StR 75/11', 9),\n",
       " ('4 StR 387/15', 9),\n",
       " ('1 StR 167/01', 9),\n",
       " ('3 StR 635/14', 9),\n",
       " ('2 StR 365/12', 9),\n",
       " ('3 StR 35/92', 9),\n",
       " ('3 StR 343/11', 9),\n",
       " ('1 StR 72/16', 9),\n",
       " ('5 StR 448/01', 9),\n",
       " ('1 StR 400/10', 9),\n",
       " ('2 StR 150/15', 9),\n",
       " ('1 StR 633/10', 9),\n",
       " ('1 StR 620/18', 9),\n",
       " ('5 StR 176/14', 9),\n",
       " ('1 StR 351/16', 9),\n",
       " ('2 StR 161/17', 9),\n",
       " ('2 StR 148/13', 9),\n",
       " ('1 StR 730/96', 9),\n",
       " ('4 StR 270/13', 9),\n",
       " ('4 StR 375/82', 9),\n",
       " ('4 StR 648/94', 9),\n",
       " ('3 StR 595/99', 9),\n",
       " ('2 BvR 2098/12', 9),\n",
       " ('GSSt 1/02', 9),\n",
       " ('StB 51/09', 9),\n",
       " ('1 StR 195/05', 9),\n",
       " ('4 StR 585/01', 9),\n",
       " ('1 StR 373/15', 9),\n",
       " ('4 StR 223/13', 9),\n",
       " ('1 StR 344/15', 9),\n",
       " ('1 StR 236/15', 9),\n",
       " ('2 BvR 1422/15', 9),\n",
       " ('1 StR 574/14', 9),\n",
       " ('1 StR 407/11', 9),\n",
       " ('4 StR 470/86', 9),\n",
       " ('3 StR 206/13', 9),\n",
       " ('1 StR 458/10', 9),\n",
       " ('1 StR 532/12', 9),\n",
       " ('4 StR 282/17', 9),\n",
       " ('1 StR 595/15', 9),\n",
       " ('3 StR 173/09', 9),\n",
       " ('4 StR 463/16', 9),\n",
       " ('1 StR 293/90', 9),\n",
       " ('1 StR 665/12', 9),\n",
       " ('3 StR 88/10', 9),\n",
       " ('5 StR 341/05', 9),\n",
       " ('3 StR 437/15', 9),\n",
       " ('1 StR 526/15', 9),\n",
       " ('4 StR 275/09', 9),\n",
       " ('4 StR 230/16', 9),\n",
       " ('3 StR 174/18', 9),\n",
       " ('3 StR 162/00', 9),\n",
       " ('1 StR 273/97', 9),\n",
       " ('3 StR 122/09', 9),\n",
       " ('4 StR 700/98', 9),\n",
       " ('1 StR 194/11', 9),\n",
       " ('5 StR 401/06', 9),\n",
       " ('1 StR 405/12', 9),\n",
       " ('4 StR 623/07', 9),\n",
       " ('2 StR 616/12', 9),\n",
       " ('1 StR 722/13', 9),\n",
       " ('4 StR 222/97', 9),\n",
       " ('4 StR 216/14', 9),\n",
       " ('3 StR 321/00', 9),\n",
       " ('3 StR 458/14', 9),\n",
       " ('4 StR 99/15', 9),\n",
       " ('1 StR 52/07', 9),\n",
       " ('1 StR 595/94', 9),\n",
       " ('1 StR 348/17', 9),\n",
       " ('3 StR 193/13', 9),\n",
       " ('2 StR 481/17', 9),\n",
       " ('1 StR 393/17', 9),\n",
       " ('4 StR 345/06', 9),\n",
       " ('1 StR 38/16', 9),\n",
       " ('3 StR 229/08', 8),\n",
       " ('1 BvR 256/08', 8),\n",
       " ('1 StR 25/03', 8),\n",
       " ('5 StR 169/09', 8),\n",
       " ('4 StR 481/07', 8),\n",
       " ('3 StR 76/10', 8),\n",
       " ('1 StR 420/05', 8),\n",
       " ('3 StR 367/84', 8),\n",
       " ('4 StR 285/10', 8),\n",
       " ('5 StR 80/60', 8),\n",
       " ('GSSt 1/06', 8),\n",
       " ('4 StR 658/10', 8),\n",
       " ('1 StR 127/03', 8),\n",
       " ('2 BvR 2333/08', 8),\n",
       " ('2 StR 483/98', 8),\n",
       " ('4 StR 164/11', 8),\n",
       " ('1 StR 204/02', 8),\n",
       " ('2 StR 184/11', 8),\n",
       " ('4 StR 491/04', 8),\n",
       " ('1 StR 7/06', 8),\n",
       " ('4 StR 140/97', 8),\n",
       " ('4 StR 517/11', 8),\n",
       " ('4 StR 589/09', 8),\n",
       " ('2 StR 455/09', 8),\n",
       " ('AK 3/10', 8),\n",
       " ('StB 11/03', 8),\n",
       " ('2 StR 294/02', 8),\n",
       " ('4 StR 516/11', 8),\n",
       " ('4 StR 599/11', 8),\n",
       " ('5 StR 685/81', 8),\n",
       " ('1 StR 94/10', 8),\n",
       " ('2 BvR 746/07', 8),\n",
       " ('2 StR 567/74', 8),\n",
       " ('3 StR 349/02', 8),\n",
       " ('3 StR 342/07', 8),\n",
       " ('2 BvR 625/12', 8),\n",
       " ('GSSt 1/04', 8),\n",
       " ('3 StR 256/98', 8),\n",
       " ('2 StR 311/12', 8),\n",
       " ('2 StR 144/13', 8),\n",
       " ('4 StR 266/07', 8),\n",
       " ('3 StR 421/11', 8),\n",
       " ('3 StR 400/09', 8),\n",
       " ('5 StR 505/12', 8),\n",
       " ('2 StR 527/90', 8),\n",
       " ('2 StR 279/12', 8),\n",
       " ('4 StR 494/12', 8),\n",
       " ('1 StR 169/00', 8),\n",
       " ('3 StR 230/10', 8),\n",
       " ('3 StR 203/08', 8),\n",
       " ('3 StR 399/09', 8),\n",
       " ('3 StR 355/13', 8),\n",
       " ('1 StR 422/13', 8),\n",
       " ('4 StR 30/11', 8),\n",
       " ('2 BvR 794/95', 8),\n",
       " ('4 StR 409/10', 8),\n",
       " ('3 StR 178/13', 8),\n",
       " ('3 StR 314/13', 8),\n",
       " ('1 StR 182/03', 8),\n",
       " ('1 StR 299/89', 8),\n",
       " ('1 StR 3/07', 8),\n",
       " ('2 StR 656/13', 8),\n",
       " ('4 StR 359/03', 8),\n",
       " ('5 StR 438/12', 8),\n",
       " ('4 StR 290/11', 8),\n",
       " ('4 StR 147/14', 8),\n",
       " ('5 StR 318/13', 8),\n",
       " ('3 StR 316/11', 8),\n",
       " ('4 StR 514/14', 8),\n",
       " ('4 StR 617/07', 8),\n",
       " ('5 StR 432/13', 8),\n",
       " ('2 StR 593/81', 8),\n",
       " ('2 StR 520/96', 8),\n",
       " ('4 StR 400/99', 8),\n",
       " ('1 StR 3/15', 8),\n",
       " ('3 StR 486/12', 8),\n",
       " ('3 StR 347/13', 8),\n",
       " ('5 StR 156/06', 8),\n",
       " ('2 StR 506/12', 8),\n",
       " ('1 StR 42/01', 8),\n",
       " ('1 StR 327/14', 8),\n",
       " ('4 StR 506/91', 8),\n",
       " ('4 StR 452/04', 8),\n",
       " ('1 StR 582/06', 8),\n",
       " ('1 StR 561/13', 8),\n",
       " ('5 StR 448/00', 8),\n",
       " ('2 StR 79/12', 8),\n",
       " ('4 StR 129/14', 8),\n",
       " ('3 StR 315/10', 8),\n",
       " ('1 StR 164/07', 8),\n",
       " ('4 StR 134/15', 8),\n",
       " ('1 StR 245/96', 8),\n",
       " ('4 StR 497/14', 8),\n",
       " ('2 StR 232/00', 8),\n",
       " ('2 StR 61/12', 8),\n",
       " ('4 StR 167/15', 8),\n",
       " ('4 StR 111/14', 8),\n",
       " ('4 StR 73/16', 8),\n",
       " ('1 StR 582/10', 8),\n",
       " ('4 StR 502/07', 8),\n",
       " ('3 StR 214/15', 8),\n",
       " ('2 StR 605/11', 8),\n",
       " ('3 StR 205/90', 8),\n",
       " ('2 StR 559/87', 8),\n",
       " ('3 StR 472/85', 8),\n",
       " ('5 StR 38/08', 8),\n",
       " ('3 StR 3/06', 8),\n",
       " ('4 StR 544/13', 8),\n",
       " ('3 StR 355/16', 8),\n",
       " ('1 StR 357/05', 8),\n",
       " ('5 StR 543/07', 8),\n",
       " ('5 StR 491/10', 8),\n",
       " ('1 StR 494/13', 8),\n",
       " ('1 StR 36/17', 8),\n",
       " ('1 StR 118/16', 8),\n",
       " ('3 StR 114/97', 8),\n",
       " ('4 StR 245/17', 8),\n",
       " ('4 StR 72/15', 8),\n",
       " ('2 StR 54/14', 8),\n",
       " ('4 StR 190/68', 8),\n",
       " ('2 StR 139/13', 8),\n",
       " ('2 StR 561/11', 8),\n",
       " ('3 StR 120/03', 8),\n",
       " ('4 StR 496/13', 8),\n",
       " ('1 StR 277/09', 8),\n",
       " ('3 StR 112/10', 8),\n",
       " ('1 StR 535/08', 8),\n",
       " ('5 StR 250/01', 8),\n",
       " ('3 StR 519/09', 8),\n",
       " ('2 StR 410/77', 8),\n",
       " ('1 StR 456/15', 8),\n",
       " ('2 StR 245/18', 8),\n",
       " ('3 StR 516/16', 8),\n",
       " ('2 StR 58/15', 8),\n",
       " ('3 StR 179/13', 8),\n",
       " ('1 StR 416/17', 8),\n",
       " ('1 StR 285/16', 8),\n",
       " ('4 StR 415/16', 8),\n",
       " ('3 StR 372/08', 8),\n",
       " ('5 StR 261/12', 8),\n",
       " ('1 StR 403/13', 8),\n",
       " ('3 StR 577/17', 8),\n",
       " ('3 StR 8/18', 8),\n",
       " ('4 StR 623/11', 8),\n",
       " ('5 StR 729/98', 8),\n",
       " ('4 StR 6/08', 8),\n",
       " ('2 StR 550/82', 8),\n",
       " ('4 StR 87/11', 8),\n",
       " ('3 StR 276/09', 8),\n",
       " ('2 StR 262/18', 8),\n",
       " ('2 StR 235/16', 8),\n",
       " ('3 StR 314/12', 8),\n",
       " ('4 StR 532/10', 8),\n",
       " ('1 StR 726/13', 8),\n",
       " ('1 StR 186/18', 8),\n",
       " ('4 StR 67/12', 8),\n",
       " ('5 StR 26/16', 8),\n",
       " ('1 StR 255/15', 8),\n",
       " ('3 StR 5/96', 8),\n",
       " ('1 StR 150/06', 8),\n",
       " ('2 StR 294/16', 8),\n",
       " ('4 StR 446/17', 8),\n",
       " ('2 StR 519/09', 8),\n",
       " ('3 StR 420/08', 8),\n",
       " ('4 StR 443/09', 8),\n",
       " ('1 StR 107/09', 8),\n",
       " ('5 StR 213/07', 8),\n",
       " ('4 StR 40/11', 8),\n",
       " ('2 StR 259/01', 8),\n",
       " ('4 StR 144/12', 8),\n",
       " ('2 StR 62/07', 8),\n",
       " ('1 StR 441/99', 8),\n",
       " ('3 StR 679/93', 8),\n",
       " ('4 StR 208/90', 8),\n",
       " ('3 StR 437/12', 8),\n",
       " ('5 StR 344/12', 8),\n",
       " ('1 StR 344/98', 8),\n",
       " ('5 StR 2/14', 8),\n",
       " ('3 StR 274/09', 8),\n",
       " ('1 StR 536/16', 8),\n",
       " ('1 StR 236/95', 8),\n",
       " ('4 StR 117/06', 8),\n",
       " ('5 StR 491/94', 8),\n",
       " ('3 StR 129/16', 8),\n",
       " ('1 StR 36/18', 8),\n",
       " ('4 StR 326/85', 8),\n",
       " ('3 StR 554/15', 8),\n",
       " ('2 StR 381/14', 8),\n",
       " ('1 StR 523/15', 8),\n",
       " ('2 StR 394/95', 8),\n",
       " ('4 StR 657/11', 8),\n",
       " ('1 StR 423/13', 8),\n",
       " ('3 StR 516/09', 8),\n",
       " ('4 StR 476/14', 8),\n",
       " ('1 StR 78/14', 8),\n",
       " ('1 StR 445/16', 8),\n",
       " ('3 StR 171/09', 7),\n",
       " ('3 StR 437/02', 7),\n",
       " ('1 StR 322/08', 7),\n",
       " ('1 StR 232/01', 7),\n",
       " ('2 StR 508/56', 7),\n",
       " ('3 StR 142/08', 7),\n",
       " ('4 StR 595/05', 7),\n",
       " ('3 StR 473/04', 7),\n",
       " ('1 StR 292/08', 7),\n",
       " ('3 StR 183/96', 7),\n",
       " ('1 StR 305/66', 7),\n",
       " ('1 StR 651/10', 7),\n",
       " ('5 StR 467/06', 7),\n",
       " ('4 StR 577/09', 7),\n",
       " ('2 StR 507/04', 7),\n",
       " ('3 StR 445/10', 7),\n",
       " ('5 StR 365/02', 7),\n",
       " ('1 StR 370/07', 7),\n",
       " ('2 StR 652/10', 7),\n",
       " ('1 StR 523/94', 7),\n",
       " ('2 StR 442/92', 7),\n",
       " ('1 StR 450/98', 7),\n",
       " ('2 StR 305/11', 7),\n",
       " ('3 StR 87/09', 7),\n",
       " ('4 StR 266/11', 7),\n",
       " ('4 StR 718/93', 7),\n",
       " ('5 StR 535/11', 7),\n",
       " ('4 StR 595/97', 7),\n",
       " ('4 StR 640/98', 7),\n",
       " ('2 BvR 1113/10', 7),\n",
       " ('4 StR 627/92', 7),\n",
       " ('5 StR 618/58', 7),\n",
       " ('5 StR 193/98', 7),\n",
       " ('4 StR 439/00', 7),\n",
       " ('3 StR 244/09', 7),\n",
       " ('4 StR 392/12', 7),\n",
       " ('3 StR 433/08', 7),\n",
       " ('4 StR 142/07', 7),\n",
       " ('2 StR 328/11', 7),\n",
       " ('2 StR 592/11', 7),\n",
       " ('1 StR 275/12', 7),\n",
       " ('5 StR 248/09', 7),\n",
       " ('5 StR 617/12', 7),\n",
       " ('3 StR 330/12', 7),\n",
       " ('3 StR 352/08', 7),\n",
       " ('2 StR 199/04', 7),\n",
       " ('4 StR 424/09', 7),\n",
       " ('1 StR 668/98', 7),\n",
       " ('4 StR 170/13', 7),\n",
       " ('5 StR 248/13', 7),\n",
       " ('2 StR 310/04', 7),\n",
       " ('1 StR 237/13', 7),\n",
       " ('1 StR 449/13', 7),\n",
       " ('2 StR 237/05', 7),\n",
       " ('4 StR 467/12', 7),\n",
       " ('StB 20/08', 7),\n",
       " ('4 StR 111/13', 7),\n",
       " ('3 StR 438/12', 7),\n",
       " ('1 StR 357/94', 7),\n",
       " ('3 StR 482/87', 7),\n",
       " ('5 StR 318/12', 7),\n",
       " ('3 StR 303/01', 7),\n",
       " ('4 StR 223/12', 7),\n",
       " ('1 StR 386/11', 7),\n",
       " ('4 StR 99/12', 7),\n",
       " ('3 StR 148/09', 7),\n",
       " ('3 StR 212/08', 7),\n",
       " ('1 StR 600/10', 7),\n",
       " ('3 StR 116/04', 7),\n",
       " ('3 StR 224/09', 7),\n",
       " ('5 StR 276/04', 7),\n",
       " ('2 StR 120/12', 7),\n",
       " ('2 StR 495/12', 7),\n",
       " ('1 StR 215/01', 7),\n",
       " ('3 StR 429/13', 7),\n",
       " ('StB 16/13', 7),\n",
       " ('5 StR 405/13', 7),\n",
       " ('1 StR 711/13', 7),\n",
       " ('5 StR 12/05', 7),\n",
       " ('4 StR 387/60', 7),\n",
       " ('2 StR 526/11', 7),\n",
       " ('2 StR 221/14', 7),\n",
       " ('3 StR 496/09', 7),\n",
       " ('4 StR 471/95', 7),\n",
       " ('4 StR 266/62', 7),\n",
       " ('4 StR 465/76', 7),\n",
       " ('5 StR 26/11', 7),\n",
       " ('4 StR 499/11', 7),\n",
       " ('5 StR 37/14', 7),\n",
       " ('1 StR 263/00', 7),\n",
       " ('2 StR 336/07', 7),\n",
       " ('1 StR 531/13', 7),\n",
       " ('4 StR 187/07', 7),\n",
       " ('4 StR 97/09', 7),\n",
       " ('5 StR 428/09', 7),\n",
       " ('1 StR 15/12', 7),\n",
       " ('3 StR 212/13', 7),\n",
       " ('3 StR 215/98', 7),\n",
       " ('5 StR 473/93', 7),\n",
       " ('5 StR 240/13', 7),\n",
       " ('5 StR 474/00', 7),\n",
       " ('4 StR 153/14', 7),\n",
       " ('1 StR 208/12', 7),\n",
       " ('2 StR 147/60', 7),\n",
       " ('3 StR 238/12', 7),\n",
       " ('1 StR 735/13', 7),\n",
       " ('1 StR 16/93', 7),\n",
       " ('2 StR 4/96', 7),\n",
       " ('2 StR 420/14', 7),\n",
       " ('3 StR 224/14', 7),\n",
       " ('2 StR 314/15', 7),\n",
       " ('4 StR 292/13', 7),\n",
       " ('4 StR 580/11', 7),\n",
       " ('5 StR 305/06', 7),\n",
       " ('4 StR 21/15', 7),\n",
       " ('4 StR 487/15', 7),\n",
       " ('3 StR 313/90', 7),\n",
       " ('4 StR 11/15', 7),\n",
       " ('5 StR 92/07', 7),\n",
       " ('2 StR 545/15', 7),\n",
       " ('3 StR 503/01', 7),\n",
       " ('3 StR 514/14', 7),\n",
       " ('1 StR 116/11', 7),\n",
       " ('2 BvR 656/99', 7),\n",
       " ('2 BvR 1857/10', 7),\n",
       " ('1 StR 171/98', 7),\n",
       " ('2 StR 220/17', 7),\n",
       " ('3 StR 451/16', 7),\n",
       " ('4 StR 376/83', 7),\n",
       " ('5 StR 41/14', 7),\n",
       " ('4 StR 418/05', 7),\n",
       " ('4 StR 216/10', 7),\n",
       " ('StB 5/10', 7),\n",
       " ('5 StR 561/10', 7),\n",
       " ('5 StR 490/00', 7),\n",
       " ('5 StR 476/54', 7),\n",
       " ('3 StR 89/83', 7),\n",
       " ('1 StR 238/08', 7),\n",
       " ('3 StR 140/14', 7),\n",
       " ('5 StR 338/17', 7),\n",
       " ('3 StR 233/14', 7),\n",
       " ('4 StR 364/13', 7),\n",
       " ('3 StR 35/13', 7),\n",
       " ('StB 5/16', 7),\n",
       " ('1 StR 645/10', 7),\n",
       " ('1 StR 594/14', 7),\n",
       " ('2 StR 386/08', 7),\n",
       " ('5 StR 127/07', 7),\n",
       " ('3 StR 410/99', 7),\n",
       " ('1 StR 232/16', 7),\n",
       " ('3 StR 497/16', 7),\n",
       " ('3 StR 188/11', 7),\n",
       " ('2 StR 118/10', 7),\n",
       " ('4 StR 292/18', 7),\n",
       " ('3 StR 112/90', 7),\n",
       " ('1 StR 194/16', 7),\n",
       " ('4 StR 221/88', 7),\n",
       " ('2 StR 320/15', 7),\n",
       " ('3 StR 224/13', 7),\n",
       " ('3 StR 157/15', 7),\n",
       " ('4 StR 240/97', 7),\n",
       " ('1 StR 296/12', 7),\n",
       " ('4 StR 541/87', 7),\n",
       " ('4 StR 471/16', 7),\n",
       " ('2 StR 39/16', 7),\n",
       " ('VI ZR 93/94', 7),\n",
       " ('VI ZR 109/95', 7),\n",
       " ('3 StR 336/13', 7),\n",
       " ('2 StR 408/15', 7),\n",
       " ('1 StR 535/17', 7),\n",
       " ('4 StR 81/12', 7),\n",
       " ('1 StR 573/16', 7),\n",
       " ('1 StR 393/02', 7),\n",
       " ('1 StR 56/15', 7),\n",
       " ('5 StR 399/00', 7),\n",
       " ('4 StR 177/17', 7),\n",
       " ('5 StR 509/14', 7),\n",
       " ('4 StR 569/15', 7),\n",
       " ('3 StR 27/14', 7),\n",
       " ('StB 12/12', 7),\n",
       " ('3 StR 272/17', 7),\n",
       " ('4 StR 84/12', 7),\n",
       " ('1 StR 454/17', 7),\n",
       " ('5 StR 456/08', 7),\n",
       " ('1 StR 519/00', 7),\n",
       " ('3 StR 632/14', 7),\n",
       " ('2 StR 561/07', 7),\n",
       " ...]"
      ]
     },
     "execution_count": 171,
     "metadata": {},
     "output_type": "execute_result"
    }
   ],
   "source": [
    "sorted_dict_all_az_sets"
   ]
  },
  {
   "cell_type": "code",
   "execution_count": 175,
   "metadata": {},
   "outputs": [],
   "source": [
    "# the 50 most often cited aktenzeichen (in Gruende only).\n",
    "# counts appearance per document/gruende once by default\n",
    "most_popular_az_sets = dict(sorted_dict_all_az_sets[0:50])"
   ]
  },
  {
   "cell_type": "code",
   "execution_count": 172,
   "metadata": {},
   "outputs": [],
   "source": [
    "# the 20 most often cited aktenzeichen (in Gruende)\n",
    "most_popular_az_sets_25 = dict(sorted_dict_all_az_sets[0:25])"
   ]
  },
  {
   "cell_type": "code",
   "execution_count": 173,
   "metadata": {},
   "outputs": [
    {
     "data": {
      "image/png": "[encoded data removed]",
      "text/plain": [
       "<Figure size 1296x864 with 1 Axes>"
      ]
     },
     "metadata": {
      "needs_background": "light"
     },
     "output_type": "display_data"
    }
   ],
   "source": [
    "f3_ = plt.figure(figsize=(18,12))\n",
    "plt.xticks(rotation=90)\n",
    "plt.bar(most_popular_az_sets_25.keys(), most_popular_az_sets_25.values())\n",
    "f3_.savefig(\"images/plots/az_von_meisten_dokumenten_zitiert_25.png\", bbox_inches=\"tight\", dpi=600)"
   ]
  },
  {
   "cell_type": "code",
   "execution_count": 176,
   "metadata": {},
   "outputs": [
    {
     "data": {
      "image/png": "[encoded data removed]",
      "text/plain": [
       "<Figure size 1296x864 with 1 Axes>"
      ]
     },
     "metadata": {
      "needs_background": "light"
     },
     "output_type": "display_data"
    }
   ],
   "source": [
    "f3 = plt.figure(figsize=(18,12))\n",
    "plt.xticks(rotation=90, fontsize=8)\n",
    "plt.bar(most_popular_az_sets.keys(), most_popular_az_sets.values())\n",
    "f3.savefig(\"images/plots/az_von_meisten_dokumenten_zitiert_50.png\", bbox_inches=\"tight\", dpi=600)"
   ]
  },
  {
   "cell_type": "markdown",
   "metadata": {},
   "source": [
    "Stichprobenhaft antesten, ob einige der Top-Treffer in Datenmenge als Dokument vorhanden"
   ]
  },
  {
   "cell_type": "code",
   "execution_count": 177,
   "metadata": {},
   "outputs": [
    {
     "data": {
      "text/html": [
       "<div>\n",
       "<style scoped>\n",
       "    .dataframe tbody tr th:only-of-type {\n",
       "        vertical-align: middle;\n",
       "    }\n",
       "\n",
       "    .dataframe tbody tr th {\n",
       "        vertical-align: top;\n",
       "    }\n",
       "\n",
       "    .dataframe thead th {\n",
       "        text-align: right;\n",
       "    }\n",
       "</style>\n",
       "<table border=\"1\" class=\"dataframe\">\n",
       "  <thead>\n",
       "    <tr style=\"text-align: right;\">\n",
       "      <th></th>\n",
       "      <th>az</th>\n",
       "      <th>datum</th>\n",
       "      <th>doknr</th>\n",
       "      <th>gertyp</th>\n",
       "      <th>spruchkoerper</th>\n",
       "      <th>doktyp</th>\n",
       "      <th>titel</th>\n",
       "      <th>tenor</th>\n",
       "      <th>gruende</th>\n",
       "      <th>citations_gruende</th>\n",
       "      <th>citations_tenor</th>\n",
       "      <th>cited_az_gruende</th>\n",
       "      <th>cited_az_tenor</th>\n",
       "      <th>set_az_gruende</th>\n",
       "    </tr>\n",
       "  </thead>\n",
       "  <tbody>\n",
       "    <tr>\n",
       "      <th>5476</th>\n",
       "      <td>4 StR 558/11</td>\n",
       "      <td>1332374400000</td>\n",
       "      <td>KORE300532012</td>\n",
       "      <td>BGH</td>\n",
       "      <td>4. Strafsenat</td>\n",
       "      <td>Urteil</td>\n",
       "      <td>Bedingter Tötungsvorsatz im Lichte der Hemmsch...</td>\n",
       "      <td>1. Auf die Revision der Staatsanwaltschaft wir...</td>\n",
       "      <td>Das Landgericht hat den Angeklagten wegen gefä...</td>\n",
       "      <td>[[BGH, Urteile vom 30. März 1995 - 4 StR 725/9...</td>\n",
       "      <td>None</td>\n",
       "      <td>[4 StR 725/94, 4 StR 471/95, 4 StR 465/76, 4 S...</td>\n",
       "      <td>None</td>\n",
       "      <td>{VI ZR 309/10, 4 StR 608/11, 5 StR 360/11, 3 S...</td>\n",
       "    </tr>\n",
       "  </tbody>\n",
       "</table>\n",
       "</div>"
      ],
      "text/plain": [
       "                az          datum          doknr gertyp  spruchkoerper  \\\n",
       "5476  4 StR 558/11  1332374400000  KORE300532012    BGH  4. Strafsenat   \n",
       "\n",
       "      doktyp                                              titel  \\\n",
       "5476  Urteil  Bedingter Tötungsvorsatz im Lichte der Hemmsch...   \n",
       "\n",
       "                                                  tenor  \\\n",
       "5476  1. Auf die Revision der Staatsanwaltschaft wir...   \n",
       "\n",
       "                                                gruende  \\\n",
       "5476  Das Landgericht hat den Angeklagten wegen gefä...   \n",
       "\n",
       "                                      citations_gruende citations_tenor  \\\n",
       "5476  [[BGH, Urteile vom 30. März 1995 - 4 StR 725/9...            None   \n",
       "\n",
       "                                       cited_az_gruende cited_az_tenor  \\\n",
       "5476  [4 StR 725/94, 4 StR 471/95, 4 StR 465/76, 4 S...           None   \n",
       "\n",
       "                                         set_az_gruende  \n",
       "5476  {VI ZR 309/10, 4 StR 608/11, 5 StR 360/11, 3 S...  "
      ]
     },
     "execution_count": 177,
     "metadata": {},
     "output_type": "execute_result"
    }
   ],
   "source": [
    "data_all_az[data_all_az['az'].str.contains('4 StR 558/11')]"
   ]
  },
  {
   "cell_type": "code",
   "execution_count": 178,
   "metadata": {},
   "outputs": [
    {
     "data": {
      "text/html": [
       "<div>\n",
       "<style scoped>\n",
       "    .dataframe tbody tr th:only-of-type {\n",
       "        vertical-align: middle;\n",
       "    }\n",
       "\n",
       "    .dataframe tbody tr th {\n",
       "        vertical-align: top;\n",
       "    }\n",
       "\n",
       "    .dataframe thead th {\n",
       "        text-align: right;\n",
       "    }\n",
       "</style>\n",
       "<table border=\"1\" class=\"dataframe\">\n",
       "  <thead>\n",
       "    <tr style=\"text-align: right;\">\n",
       "      <th></th>\n",
       "      <th>az</th>\n",
       "      <th>datum</th>\n",
       "      <th>doknr</th>\n",
       "      <th>gertyp</th>\n",
       "      <th>spruchkoerper</th>\n",
       "      <th>doktyp</th>\n",
       "      <th>titel</th>\n",
       "      <th>tenor</th>\n",
       "      <th>gruende</th>\n",
       "      <th>citations_gruende</th>\n",
       "      <th>citations_tenor</th>\n",
       "      <th>cited_az_gruende</th>\n",
       "      <th>cited_az_tenor</th>\n",
       "      <th>set_az_gruende</th>\n",
       "    </tr>\n",
       "  </thead>\n",
       "  <tbody>\n",
       "  </tbody>\n",
       "</table>\n",
       "</div>"
      ],
      "text/plain": [
       "Empty DataFrame\n",
       "Columns: [az, datum, doknr, gertyp, spruchkoerper, doktyp, titel, tenor, gruende, citations_gruende, citations_tenor, cited_az_gruende, cited_az_tenor, set_az_gruende]\n",
       "Index: []"
      ]
     },
     "execution_count": 178,
     "metadata": {},
     "output_type": "execute_result"
    }
   ],
   "source": [
    "# --> zu alt\n",
    "data_all_az[data_all_az['az'].str.contains('3 StR 552/08')]"
   ]
  },
  {
   "cell_type": "code",
   "execution_count": 179,
   "metadata": {},
   "outputs": [
    {
     "data": {
      "text/html": [
       "<div>\n",
       "<style scoped>\n",
       "    .dataframe tbody tr th:only-of-type {\n",
       "        vertical-align: middle;\n",
       "    }\n",
       "\n",
       "    .dataframe tbody tr th {\n",
       "        vertical-align: top;\n",
       "    }\n",
       "\n",
       "    .dataframe thead th {\n",
       "        text-align: right;\n",
       "    }\n",
       "</style>\n",
       "<table border=\"1\" class=\"dataframe\">\n",
       "  <thead>\n",
       "    <tr style=\"text-align: right;\">\n",
       "      <th></th>\n",
       "      <th>az</th>\n",
       "      <th>datum</th>\n",
       "      <th>doknr</th>\n",
       "      <th>gertyp</th>\n",
       "      <th>spruchkoerper</th>\n",
       "      <th>doktyp</th>\n",
       "      <th>titel</th>\n",
       "      <th>tenor</th>\n",
       "      <th>gruende</th>\n",
       "      <th>citations_gruende</th>\n",
       "      <th>citations_tenor</th>\n",
       "      <th>cited_az_gruende</th>\n",
       "      <th>cited_az_tenor</th>\n",
       "      <th>set_az_gruende</th>\n",
       "    </tr>\n",
       "  </thead>\n",
       "  <tbody>\n",
       "  </tbody>\n",
       "</table>\n",
       "</div>"
      ],
      "text/plain": [
       "Empty DataFrame\n",
       "Columns: [az, datum, doknr, gertyp, spruchkoerper, doktyp, titel, tenor, gruende, citations_gruende, citations_tenor, cited_az_gruende, cited_az_tenor, set_az_gruende]\n",
       "Index: []"
      ]
     },
     "execution_count": 179,
     "metadata": {},
     "output_type": "execute_result"
    }
   ],
   "source": [
    "# falsches Gericht --> Bundesverfassungsgericht\n",
    "data_all_az[data_all_az['az'].str.contains('2 BvR 2628/10')]"
   ]
  },
  {
   "cell_type": "code",
   "execution_count": 180,
   "metadata": {},
   "outputs": [
    {
     "data": {
      "text/html": [
       "<div>\n",
       "<style scoped>\n",
       "    .dataframe tbody tr th:only-of-type {\n",
       "        vertical-align: middle;\n",
       "    }\n",
       "\n",
       "    .dataframe tbody tr th {\n",
       "        vertical-align: top;\n",
       "    }\n",
       "\n",
       "    .dataframe thead th {\n",
       "        text-align: right;\n",
       "    }\n",
       "</style>\n",
       "<table border=\"1\" class=\"dataframe\">\n",
       "  <thead>\n",
       "    <tr style=\"text-align: right;\">\n",
       "      <th></th>\n",
       "      <th>az</th>\n",
       "      <th>datum</th>\n",
       "      <th>doknr</th>\n",
       "      <th>gertyp</th>\n",
       "      <th>spruchkoerper</th>\n",
       "      <th>doktyp</th>\n",
       "      <th>titel</th>\n",
       "      <th>tenor</th>\n",
       "      <th>gruende</th>\n",
       "      <th>citations_gruende</th>\n",
       "      <th>citations_tenor</th>\n",
       "      <th>cited_az_gruende</th>\n",
       "      <th>cited_az_tenor</th>\n",
       "      <th>set_az_gruende</th>\n",
       "    </tr>\n",
       "  </thead>\n",
       "  <tbody>\n",
       "    <tr>\n",
       "      <th>639</th>\n",
       "      <td>4 StR 215/10</td>\n",
       "      <td>1288224000000</td>\n",
       "      <td>KORE314442010</td>\n",
       "      <td>BGH</td>\n",
       "      <td>4. Strafsenat</td>\n",
       "      <td>Urteil</td>\n",
       "      <td>Beschlagnahme und Verfall: Urteilsfeststellung...</td>\n",
       "      <td>1. Auf die Revisionen der Angeklagten T. und Y...</td>\n",
       "      <td>Das Landgericht hat die Angeklagten T. und Y. ...</td>\n",
       "      <td>[[BGH, Beschlüsse vom 5. August 2010 - 2 StR 2...</td>\n",
       "      <td>None</td>\n",
       "      <td>[2 StR 254/10, 3 StR 460/08, 4 StR 393/10, 2 S...</td>\n",
       "      <td>None</td>\n",
       "      <td>{V ZR 437/99, 3 StR 460/08, 2 StR 254/10, 3 St...</td>\n",
       "    </tr>\n",
       "  </tbody>\n",
       "</table>\n",
       "</div>"
      ],
      "text/plain": [
       "               az          datum          doknr gertyp  spruchkoerper  doktyp  \\\n",
       "639  4 StR 215/10  1288224000000  KORE314442010    BGH  4. Strafsenat  Urteil   \n",
       "\n",
       "                                                 titel  \\\n",
       "639  Beschlagnahme und Verfall: Urteilsfeststellung...   \n",
       "\n",
       "                                                 tenor  \\\n",
       "639  1. Auf die Revisionen der Angeklagten T. und Y...   \n",
       "\n",
       "                                               gruende  \\\n",
       "639  Das Landgericht hat die Angeklagten T. und Y. ...   \n",
       "\n",
       "                                     citations_gruende citations_tenor  \\\n",
       "639  [[BGH, Beschlüsse vom 5. August 2010 - 2 StR 2...            None   \n",
       "\n",
       "                                      cited_az_gruende cited_az_tenor  \\\n",
       "639  [2 StR 254/10, 3 StR 460/08, 4 StR 393/10, 2 S...           None   \n",
       "\n",
       "                                        set_az_gruende  \n",
       "639  {V ZR 437/99, 3 StR 460/08, 2 StR 254/10, 3 St...  "
      ]
     },
     "execution_count": 180,
     "metadata": {},
     "output_type": "execute_result"
    }
   ],
   "source": [
    "# vorhanden\n",
    "data_all_az[data_all_az['az'].str.contains('4 StR 215/10')]"
   ]
  },
  {
   "cell_type": "code",
   "execution_count": 181,
   "metadata": {},
   "outputs": [
    {
     "data": {
      "text/html": [
       "<div>\n",
       "<style scoped>\n",
       "    .dataframe tbody tr th:only-of-type {\n",
       "        vertical-align: middle;\n",
       "    }\n",
       "\n",
       "    .dataframe tbody tr th {\n",
       "        vertical-align: top;\n",
       "    }\n",
       "\n",
       "    .dataframe thead th {\n",
       "        text-align: right;\n",
       "    }\n",
       "</style>\n",
       "<table border=\"1\" class=\"dataframe\">\n",
       "  <thead>\n",
       "    <tr style=\"text-align: right;\">\n",
       "      <th></th>\n",
       "      <th>az</th>\n",
       "      <th>datum</th>\n",
       "      <th>doknr</th>\n",
       "      <th>gertyp</th>\n",
       "      <th>spruchkoerper</th>\n",
       "      <th>doktyp</th>\n",
       "      <th>titel</th>\n",
       "      <th>tenor</th>\n",
       "      <th>gruende</th>\n",
       "      <th>citations_gruende</th>\n",
       "      <th>citations_tenor</th>\n",
       "      <th>cited_az_gruende</th>\n",
       "      <th>cited_az_tenor</th>\n",
       "      <th>set_az_gruende</th>\n",
       "    </tr>\n",
       "  </thead>\n",
       "  <tbody>\n",
       "  </tbody>\n",
       "</table>\n",
       "</div>"
      ],
      "text/plain": [
       "Empty DataFrame\n",
       "Columns: [az, datum, doknr, gertyp, spruchkoerper, doktyp, titel, tenor, gruende, citations_gruende, citations_tenor, cited_az_gruende, cited_az_tenor, set_az_gruende]\n",
       "Index: []"
      ]
     },
     "execution_count": 181,
     "metadata": {},
     "output_type": "execute_result"
    }
   ],
   "source": [
    "# auch zu alt\n",
    "data_all_az[data_all_az['az'].str.contains('3 StR 250/09')]"
   ]
  },
  {
   "cell_type": "code",
   "execution_count": 182,
   "metadata": {},
   "outputs": [
    {
     "data": {
      "text/html": [
       "<div>\n",
       "<style scoped>\n",
       "    .dataframe tbody tr th:only-of-type {\n",
       "        vertical-align: middle;\n",
       "    }\n",
       "\n",
       "    .dataframe tbody tr th {\n",
       "        vertical-align: top;\n",
       "    }\n",
       "\n",
       "    .dataframe thead th {\n",
       "        text-align: right;\n",
       "    }\n",
       "</style>\n",
       "<table border=\"1\" class=\"dataframe\">\n",
       "  <thead>\n",
       "    <tr style=\"text-align: right;\">\n",
       "      <th></th>\n",
       "      <th>az</th>\n",
       "      <th>datum</th>\n",
       "      <th>doknr</th>\n",
       "      <th>gertyp</th>\n",
       "      <th>spruchkoerper</th>\n",
       "      <th>doktyp</th>\n",
       "      <th>titel</th>\n",
       "      <th>tenor</th>\n",
       "      <th>gruende</th>\n",
       "      <th>citations_gruende</th>\n",
       "      <th>citations_tenor</th>\n",
       "      <th>cited_az_gruende</th>\n",
       "      <th>cited_az_tenor</th>\n",
       "      <th>set_az_gruende</th>\n",
       "    </tr>\n",
       "  </thead>\n",
       "  <tbody>\n",
       "    <tr>\n",
       "      <th>77</th>\n",
       "      <td>4 StR 502/10</td>\n",
       "      <td>1296086400000</td>\n",
       "      <td>JURE110003769</td>\n",
       "      <td>BGH</td>\n",
       "      <td>4. Strafsenat</td>\n",
       "      <td>Urteil</td>\n",
       "      <td>Besonders schwerer Raub bzw. besonders schwere...</td>\n",
       "      <td>1. Auf die Revision der Staatsanwaltschaft wir...</td>\n",
       "      <td>Das Landgericht hat den Angeklagten A. wegen K...</td>\n",
       "      <td>[[BGH, Urteil vom 26. September 1984 - 3 StR 3...</td>\n",
       "      <td>None</td>\n",
       "      <td>[3 StR 367/84, 1 StR 167/77, 3 StR 367/84, 3 S...</td>\n",
       "      <td>None</td>\n",
       "      <td>{3 StR 367/84, 5 StR 111/90, 1 StR 298/07, 4 S...</td>\n",
       "    </tr>\n",
       "  </tbody>\n",
       "</table>\n",
       "</div>"
      ],
      "text/plain": [
       "              az          datum          doknr gertyp  spruchkoerper  doktyp  \\\n",
       "77  4 StR 502/10  1296086400000  JURE110003769    BGH  4. Strafsenat  Urteil   \n",
       "\n",
       "                                                titel  \\\n",
       "77  Besonders schwerer Raub bzw. besonders schwere...   \n",
       "\n",
       "                                                tenor  \\\n",
       "77  1. Auf die Revision der Staatsanwaltschaft wir...   \n",
       "\n",
       "                                              gruende  \\\n",
       "77  Das Landgericht hat den Angeklagten A. wegen K...   \n",
       "\n",
       "                                    citations_gruende citations_tenor  \\\n",
       "77  [[BGH, Urteil vom 26. September 1984 - 3 StR 3...            None   \n",
       "\n",
       "                                     cited_az_gruende cited_az_tenor  \\\n",
       "77  [3 StR 367/84, 1 StR 167/77, 3 StR 367/84, 3 S...           None   \n",
       "\n",
       "                                       set_az_gruende  \n",
       "77  {3 StR 367/84, 5 StR 111/90, 1 StR 298/07, 4 S...  "
      ]
     },
     "execution_count": 182,
     "metadata": {},
     "output_type": "execute_result"
    }
   ],
   "source": [
    "# vorhanden\n",
    "data_all_az[data_all_az['az'].str.match('4 StR 502/10')]"
   ]
  },
  {
   "cell_type": "markdown",
   "metadata": {},
   "source": [
    "### Zählen, wie viele der zitierten Aktenzeichen/Rechtsprechungen in Korpus als Dokument vorhanden sind"
   ]
  },
  {
   "cell_type": "code",
   "execution_count": 183,
   "metadata": {},
   "outputs": [],
   "source": [
    "set_all_cited_az = set(all_cited_az)"
   ]
  },
  {
   "cell_type": "code",
   "execution_count": 184,
   "metadata": {},
   "outputs": [
    {
     "data": {
      "text/plain": [
       "46457"
      ]
     },
     "execution_count": 184,
     "metadata": {},
     "output_type": "execute_result"
    }
   ],
   "source": [
    "len(all_cited_az)"
   ]
  },
  {
   "cell_type": "code",
   "execution_count": 185,
   "metadata": {},
   "outputs": [
    {
     "data": {
      "text/plain": [
       "14726"
      ]
     },
     "execution_count": 185,
     "metadata": {},
     "output_type": "execute_result"
    }
   ],
   "source": [
    "len(set_all_cited_az)"
   ]
  },
  {
   "cell_type": "code",
   "execution_count": 187,
   "metadata": {},
   "outputs": [
    {
     "name": "stderr",
     "output_type": "stream",
     "text": [
      "/home/rosa/ba_recommender/recommender_venv/lib/python3.6/site-packages/pandas/core/strings.py:2001: UserWarning: This pattern has match groups. To actually get the groups, use str.extract.\n",
      "  return func(self, *args, **kwargs)\n"
     ]
    }
   ],
   "source": [
    "# count Aktenzeichen with appearances in more than one document\n",
    "count_same_az = 0\n",
    "count_found_once = 0\n",
    "count_not_found = 0\n",
    "for az in set_all_cited_az:    \n",
    "    amount = data_all_az['az'].str.contains(az).sum()\n",
    "    if amount == 0:\n",
    "        count_not_found += 1\n",
    "    if amount == 1:\n",
    "        count_found_once += 1\n",
    "    if amount > 1:\n",
    "        count_same_az += 1    "
   ]
  },
  {
   "cell_type": "code",
   "execution_count": 188,
   "metadata": {},
   "outputs": [
    {
     "data": {
      "text/plain": [
       "139"
      ]
     },
     "execution_count": 188,
     "metadata": {},
     "output_type": "execute_result"
    }
   ],
   "source": [
    "count_same_az\n",
    "# ---> in 139 Fällen gibt es mehr als ein zugehöriges Dokument zum Aktenzeichen"
   ]
  },
  {
   "cell_type": "code",
   "execution_count": 189,
   "metadata": {},
   "outputs": [
    {
     "data": {
      "text/plain": [
       "0.009439087328534565"
      ]
     },
     "execution_count": 189,
     "metadata": {},
     "output_type": "execute_result"
    }
   ],
   "source": [
    "count_same_az / len(set_all_cited_az)"
   ]
  },
  {
   "cell_type": "code",
   "execution_count": 191,
   "metadata": {},
   "outputs": [
    {
     "data": {
      "text/plain": [
       "11072"
      ]
     },
     "execution_count": 191,
     "metadata": {},
     "output_type": "execute_result"
    }
   ],
   "source": [
    "count_not_found\n",
    "# --> in 11072 Fällen befindet sich das passende Rechtsprechungsdokument nicht im Korpus"
   ]
  },
  {
   "cell_type": "code",
   "execution_count": 192,
   "metadata": {},
   "outputs": [
    {
     "data": {
      "text/plain": [
       "0.751867445334782"
      ]
     },
     "execution_count": 192,
     "metadata": {},
     "output_type": "execute_result"
    }
   ],
   "source": [
    "count_not_found / len(set_all_cited_az)"
   ]
  },
  {
   "cell_type": "code",
   "execution_count": 193,
   "metadata": {},
   "outputs": [
    {
     "data": {
      "text/plain": [
       "3515"
      ]
     },
     "execution_count": 193,
     "metadata": {},
     "output_type": "execute_result"
    }
   ],
   "source": [
    "count_found_once\n",
    "# --> in 3515 Fällen kann das zitierte Dokument im Datensatz aufgelöst werden"
   ]
  },
  {
   "cell_type": "code",
   "execution_count": 194,
   "metadata": {},
   "outputs": [
    {
     "data": {
      "text/plain": [
       "0.23869346733668342"
      ]
     },
     "execution_count": 194,
     "metadata": {},
     "output_type": "execute_result"
    }
   ],
   "source": [
    "count_found_once / len(set_all_cited_az)\n",
    "# --> ~24% der insgesamt vorkommenden unterschiedlichen Aktenzeichen können einem Dokument im Korpus zugeordnet werden"
   ]
  },
  {
   "cell_type": "markdown",
   "metadata": {},
   "source": [
    "### Datum zusätzlich zu Aktenzeichen aus Zitaten extrahieren,\n",
    "um korrekte Zuordbarkeit bei mehrfach vorkommenden Aktenzeichen zu schaffen"
   ]
  },
  {
   "cell_type": "code",
   "execution_count": 195,
   "metadata": {},
   "outputs": [],
   "source": [
    "# wenn Aktenzeichen vorhanden in Zitation, steht zuvor eigentlich immer das Datum in der Form 8.Oktober 2010\n",
    "# Vorgehen: alle Az extrahieren, wenn möglich mit Datum. Falls kein Datum, trotzdem Az speichern"
   ]
  },
  {
   "cell_type": "code",
   "execution_count": 186,
   "metadata": {},
   "outputs": [],
   "source": [
    "# Regex für Datum\n",
    "rs_datum = re.compile(\"\\d{1,2}\\.\\s[J|F|M|A|S|O|N|D][a-zä]{2,}\\s[1|2]\\d{3}\")"
   ]
  },
  {
   "cell_type": "code",
   "execution_count": 185,
   "metadata": {},
   "outputs": [],
   "source": [
    "def extractAktenzeichenWithDate(citation_list: list):\n",
    "    if citation_list:\n",
    "        azs = []\n",
    "        for item in citation_list:\n",
    "            # date\n",
    "            date = rs_datum.findall(item[0])\n",
    "            # long with parantheses\n",
    "            al = rs_citation_standard_extra.findall(item[0])\n",
    "            if al:\n",
    "                # cut date to length of al list\n",
    "                date = date[:len(al)]\n",
    "                azs.append((al, date))\n",
    "            # standard\n",
    "            az = rs_citation_standard.findall(item[0])\n",
    "            if az:\n",
    "                # cut date to length of az list\n",
    "                date = date[:len(az)]\n",
    "                azs.append((az, date))\n",
    "            # roman\n",
    "            azr = rs_citation_roman.findall(item[0])\n",
    "            if azr:\n",
    "                # cut date to length of azs list\n",
    "                date = date[:len(azr)]\n",
    "                azs.append((azr, date))\n",
    "            # ohne vorangehende Ziffer\n",
    "            if not az and not azr:\n",
    "                azsp = rs_citation_special.findall(item[0])\n",
    "                if azsp:\n",
    "                    # cut date to length of azsp list\n",
    "                    date = date[:len(azsp)]\n",
    "                    \n",
    "                    # remove space at beginning\n",
    "                    for i, a in enumerate(azsp):\n",
    "                        if a.startswith(\" \"):\n",
    "                            azsp[i] = a[1:]\n",
    "                    \n",
    "                    azs.append((azsp, date))\n",
    "        return azs\n",
    "    else:\n",
    "        return None"
   ]
  },
  {
   "cell_type": "code",
   "execution_count": 199,
   "metadata": {},
   "outputs": [],
   "source": [
    "# apply extractAktenzeichenWithDate on df data_all_az\n",
    "data_all_az[\"cited_az_gruende_date\"] = data_all_az[\"citations_gruende\"].apply(extractAktenzeichenWithDate)"
   ]
  },
  {
   "cell_type": "code",
   "execution_count": 204,
   "metadata": {},
   "outputs": [
    {
     "data": {
      "text/plain": [
       "[['BGH, Beschluss vom 21. Juli 2006 - 2 ARs 302/06, NStZ-RR 2007, 94',\n",
       "  2672,\n",
       "  2737],\n",
       " ['BGH, Beschluss vom 14. August 1981 - 2 ARs 174/81, BGHSt 30, 189',\n",
       "  3173,\n",
       "  3237],\n",
       " ['Beschluss vom 11. Juli 2012 - 2 ARs 164/12', 3239, 3281],\n",
       " ['BGH, Beschluss vom 14. August 1981 - 2 ARs 174/81, BGHSt 30, 189',\n",
       "  4096,\n",
       "  4160],\n",
       " ['BGH, Beschluss vom 21. Dezember 2010 - 2 ARs 441/10, BGH, Beschluss vom 11. Juli 2012 - 2 ARs 164/12, KK-StPO-Appl 6. Auflage 2008 § 462a',\n",
       "  4162,\n",
       "  4299],\n",
       " ['OLG Düsseldorf NStZ 1982, 47', 5261, 5289],\n",
       " ['BGH, Beschluss vom 22. November 2000 - 2 ARs 302/00, KK-StPO-Appl 6. Auflage 2008 § 462a',\n",
       "  5534,\n",
       "  5622]]"
      ]
     },
     "execution_count": 204,
     "metadata": {},
     "output_type": "execute_result"
    }
   ],
   "source": [
    "# test on one date\n",
    "data_all_az.citations_gruende.iloc[256]"
   ]
  },
  {
   "cell_type": "code",
   "execution_count": 203,
   "metadata": {},
   "outputs": [
    {
     "data": {
      "text/plain": [
       "['2 ARs 302/06',\n",
       " '2 ARs 174/81',\n",
       " '2 ARs 164/12',\n",
       " '2 ARs 174/81',\n",
       " '2 ARs 441/10',\n",
       " '2 ARs 164/12',\n",
       " '2 ARs 302/00']"
      ]
     },
     "execution_count": 203,
     "metadata": {},
     "output_type": "execute_result"
    }
   ],
   "source": [
    "data_all_az.cited_az_gruende[256]"
   ]
  },
  {
   "cell_type": "code",
   "execution_count": 1299,
   "metadata": {},
   "outputs": [
    {
     "data": {
      "text/plain": [
       "[(['2 ARs 302/06'], ['21. Juli 2006']),\n",
       " (['2 ARs 174/81'], ['14. August 1981']),\n",
       " (['2 ARs 164/12'], ['11. Juli 2012']),\n",
       " (['2 ARs 174/81'], ['14. August 1981']),\n",
       " (['2 ARs 441/10', '2 ARs 164/12'], ['21. Dezember 2010', '11. Juli 2012']),\n",
       " (['2 ARs 302/00'], ['22. November 2000'])]"
      ]
     },
     "execution_count": 1299,
     "metadata": {},
     "output_type": "execute_result"
    }
   ],
   "source": [
    "data_all_az.cited_az_gruende_date.iloc[256]"
   ]
  },
  {
   "cell_type": "code",
   "execution_count": 1301,
   "metadata": {},
   "outputs": [],
   "source": [
    "# save\n",
    "data_all_az.to_json(\"data/dataframes/df_all_az_date.json\")"
   ]
  },
  {
   "cell_type": "code",
   "execution_count": 206,
   "metadata": {},
   "outputs": [],
   "source": [
    "# load\n",
    "data_all_citations = pd.read_json('data/dataframes/df_all_az_date.json', orient='columns', encoding='utf-8')"
   ]
  },
  {
   "cell_type": "code",
   "execution_count": 191,
   "metadata": {},
   "outputs": [],
   "source": [
    "def flatAzWithDate(az_date: list):\n",
    "    if az_date:\n",
    "        citlis = []\n",
    "        for citation in az_date:\n",
    "            # one quote in list\n",
    "            if len(citation[0]) == 1:\n",
    "                # no date given\n",
    "                if not citation[1]:                    \n",
    "                    citlis.append((citation[0][0], None))\n",
    "                else:\n",
    "                    citlis.append((citation[0][0], citation[1][0]))\n",
    "            # more than one quote\n",
    "            else:\n",
    "                # list of citations and list of dates of same length\n",
    "                if len(citation[0])==len(citation[1]):\n",
    "                    zipped = zip(citation[0], citation[1])\n",
    "                    zipped = list(zipped)\n",
    "                    for z in zipped:\n",
    "                        citlis.append(z)\n",
    "                # list of citations with more items than list of dates                \n",
    "                if len(citation[0])>len(citation[1]):\n",
    "                    # date list contains at least 1 date\n",
    "                    # auffüllen und dann zippen\n",
    "                    if citation[1]:\n",
    "                        citation1 = list(citation[1]) * len(citation[0])\n",
    "                        zipped = zip(citation[0], citation1)\n",
    "                        zipped = list(zipped)\n",
    "                        for z in zipped:\n",
    "                            citlis.append(z)\n",
    "                    # date list is empty\n",
    "                    if not citation[1]:\n",
    "                        citation1 = [None] * len(citation[0])\n",
    "                        zipped = zip(citation[0], citation1)\n",
    "                        zipped = list(zipped)\n",
    "                        for z in zipped:\n",
    "                            citlis.append(z)                        \n",
    "                    \n",
    "        return citlis"
   ]
  },
  {
   "cell_type": "code",
   "execution_count": 209,
   "metadata": {},
   "outputs": [
    {
     "data": {
      "text/plain": [
       "[[['2 StR 137/14'], []],\n",
       " [['2 StR 337/14'], []],\n",
       " [['2 StR 137/14', '2 StR 337/14'], ['8. Oktober 2014']],\n",
       " [['2 StR 137/14'], []],\n",
       " [['2 StR 337/14'], []],\n",
       " [['III ZR 340/51'], ['29. September 1952']],\n",
       " [['GZ 1/55'], ['6. Juli 1955']],\n",
       " [['VI ZR 112/60'], ['16. Mai 1961']],\n",
       " [['III ZR 48/63'], ['13. Januar 1964']],\n",
       " [['VI ZR 137/63', 'VI ZR 139/63'], ['25. September 1964']],\n",
       " [['VI ZR 29/92'], ['16. Februar 1993']],\n",
       " [['VI ZB 26/05'], ['10. Januar 2006']],\n",
       " [['VI ZB 27/05', 'VI ZB 28/05'], []],\n",
       " [['4 U 165/13'], ['28. Mai 2014']],\n",
       " [['0 U 4757/13'], ['11. April 2014']],\n",
       " [['2 StR 151/98'], ['26. August 1998']],\n",
       " [['2 StR 503/13'], ['5. März 2014']],\n",
       " [['3 StR 478/92'], ['30. Oktober 1992']],\n",
       " [['3 StR 602/98'], ['5. Januar 1999']],\n",
       " [['3 StR 325/14'], ['2. September 2014']],\n",
       " [['4 StR 217/14'], ['18. Juni 2014']],\n",
       " [['3 StR 478/92'], ['30. Oktober 1992']],\n",
       " [['2 StR 232/93'], ['9. Juni 1993']],\n",
       " [['1 StR 668/94'], ['7. Februar 1995']],\n",
       " [['3 StR 338/95'], ['27. September 1995']],\n",
       " [['3 StR 346/14'], ['2. September 2014']],\n",
       " [['VI ZR 201/91'], ['13. Oktober 1992']],\n",
       " [['VI ZR 182/97'], ['12. Mai 1998']],\n",
       " [['III ZR 340/51'], ['29. September 1952']],\n",
       " [['GZ 1/55'], ['6. Juli 1955']],\n",
       " [['III ZR 340/51'], ['29. September 1952']],\n",
       " [['III ZR 340/51'], ['29. September 1952']]]"
      ]
     },
     "execution_count": 209,
     "metadata": {},
     "output_type": "execute_result"
    }
   ],
   "source": [
    "# before applying function\n",
    "data_all_citations.cited_az_gruende_date.iloc[389]"
   ]
  },
  {
   "cell_type": "code",
   "execution_count": 210,
   "metadata": {},
   "outputs": [],
   "source": [
    "# apply flatAzWithDate on df\n",
    "data_all_citations[\"cited_az_gruende_date_flat\"] = data_all_citations[\"cited_az_gruende_date\"].apply(flatAzWithDate)"
   ]
  },
  {
   "cell_type": "code",
   "execution_count": 211,
   "metadata": {},
   "outputs": [
    {
     "data": {
      "text/plain": [
       "[('2 StR 137/14', None),\n",
       " ('2 StR 337/14', None),\n",
       " ('2 StR 137/14', '8. Oktober 2014'),\n",
       " ('2 StR 337/14', '8. Oktober 2014'),\n",
       " ('2 StR 137/14', None),\n",
       " ('2 StR 337/14', None),\n",
       " ('III ZR 340/51', '29. September 1952'),\n",
       " ('GZ 1/55', '6. Juli 1955'),\n",
       " ('VI ZR 112/60', '16. Mai 1961'),\n",
       " ('III ZR 48/63', '13. Januar 1964'),\n",
       " ('VI ZR 137/63', '25. September 1964'),\n",
       " ('VI ZR 139/63', '25. September 1964'),\n",
       " ('VI ZR 29/92', '16. Februar 1993'),\n",
       " ('VI ZB 26/05', '10. Januar 2006'),\n",
       " ('VI ZB 27/05', None),\n",
       " ('VI ZB 28/05', None),\n",
       " ('4 U 165/13', '28. Mai 2014'),\n",
       " ('0 U 4757/13', '11. April 2014'),\n",
       " ('2 StR 151/98', '26. August 1998'),\n",
       " ('2 StR 503/13', '5. März 2014'),\n",
       " ('3 StR 478/92', '30. Oktober 1992'),\n",
       " ('3 StR 602/98', '5. Januar 1999'),\n",
       " ('3 StR 325/14', '2. September 2014'),\n",
       " ('4 StR 217/14', '18. Juni 2014'),\n",
       " ('3 StR 478/92', '30. Oktober 1992'),\n",
       " ('2 StR 232/93', '9. Juni 1993'),\n",
       " ('1 StR 668/94', '7. Februar 1995'),\n",
       " ('3 StR 338/95', '27. September 1995'),\n",
       " ('3 StR 346/14', '2. September 2014'),\n",
       " ('VI ZR 201/91', '13. Oktober 1992'),\n",
       " ('VI ZR 182/97', '12. Mai 1998'),\n",
       " ('III ZR 340/51', '29. September 1952'),\n",
       " ('GZ 1/55', '6. Juli 1955'),\n",
       " ('III ZR 340/51', '29. September 1952'),\n",
       " ('III ZR 340/51', '29. September 1952')]"
      ]
     },
     "execution_count": 211,
     "metadata": {},
     "output_type": "execute_result"
    }
   ],
   "source": [
    "# after applying flatAzWithDate\n",
    "data_all_citations.cited_az_gruende_date_flat[389]"
   ]
  },
  {
   "cell_type": "markdown",
   "metadata": {},
   "source": [
    "### convert dates of az / documents"
   ]
  },
  {
   "cell_type": "code",
   "execution_count": 212,
   "metadata": {},
   "outputs": [
    {
     "data": {
      "text/plain": [
       "0       1263340800000\n",
       "1       1263340800000\n",
       "2       1264464000000\n",
       "3       1264464000000\n",
       "4       1264032000000\n",
       "            ...      \n",
       "5821    1506556800000\n",
       "5822    1573603200000\n",
       "5823    1572912000000\n",
       "5824    1573603200000\n",
       "5825    1565827200000\n",
       "Name: datum, Length: 5826, dtype: int64"
      ]
     },
     "execution_count": 212,
     "metadata": {},
     "output_type": "execute_result"
    }
   ],
   "source": [
    "# before conversion\n",
    "data_all_citations.datum"
   ]
  },
  {
   "cell_type": "code",
   "execution_count": 213,
   "metadata": {},
   "outputs": [],
   "source": [
    "def convertDatum(datum: int):\n",
    "    datum = datum//1000\n",
    "    return datetime.datetime.utcfromtimestamp(datum).strftime('%Y%m%d')    "
   ]
  },
  {
   "cell_type": "code",
   "execution_count": 214,
   "metadata": {},
   "outputs": [],
   "source": [
    "# apply convertDatum on df\n",
    "data_all_citations[\"datum\"] = data_all_citations[\"datum\"].apply(convertDatum)"
   ]
  },
  {
   "cell_type": "code",
   "execution_count": 215,
   "metadata": {},
   "outputs": [
    {
     "data": {
      "text/plain": [
       "0       20100113\n",
       "1       20100113\n",
       "2       20100126\n",
       "3       20100126\n",
       "4       20100121\n",
       "          ...   \n",
       "5821    20170928\n",
       "5822    20191113\n",
       "5823    20191105\n",
       "5824    20191113\n",
       "5825    20190815\n",
       "Name: datum, Length: 5826, dtype: object"
      ]
     },
     "execution_count": 215,
     "metadata": {},
     "output_type": "execute_result"
    }
   ],
   "source": [
    "# after date conversion --> readable\n",
    "data_all_citations.datum"
   ]
  },
  {
   "cell_type": "markdown",
   "metadata": {},
   "source": [
    "### convert dates extracted from citations"
   ]
  },
  {
   "cell_type": "code",
   "execution_count": 227,
   "metadata": {},
   "outputs": [
    {
     "data": {
      "text/plain": [
       "'7. Februar 2007'"
      ]
     },
     "execution_count": 227,
     "metadata": {},
     "output_type": "execute_result"
    }
   ],
   "source": [
    "# example date\n",
    "bsp_datum = data_all_citations.cited_az_gruende_date_flat[0][0][1]\n",
    "bsp_datum\n",
    "# ist: '7. Februar 2007'\n",
    "# soll: 20070207"
   ]
  },
  {
   "cell_type": "code",
   "execution_count": 215,
   "metadata": {},
   "outputs": [],
   "source": [
    "# regex patterns for date\n",
    "re_month = re.compile(\"[J|F|M|A|S|O|N|D][a-zä]{2,}\")\n",
    "re_day = re.compile(\"\\d{1,2}\\.\")\n",
    "re_year = re.compile(\"[1|2]\\d{3}\")"
   ]
  },
  {
   "cell_type": "code",
   "execution_count": 216,
   "metadata": {},
   "outputs": [],
   "source": [
    "def convertMonth(month: str):\n",
    "        months={\n",
    "                \"Januar\":'01',\n",
    "                \"Februar\":'02',\n",
    "                \"März\":'03',\n",
    "                \"April\":'04',\n",
    "                \"Mai\":'05',\n",
    "                \"Juni\":'06',\n",
    "                \"Juli\":'07',\n",
    "                \"August\": \"08\",\n",
    "                \"September\": \"09\",\n",
    "                \"Oktober\": \"10\",\n",
    "                \"November\": \"11\",\n",
    "                \"Dezember\": \"12\"         \n",
    "                }\n",
    "        return months.get(month,\"Invalid month\")    "
   ]
  },
  {
   "cell_type": "code",
   "execution_count": 214,
   "metadata": {},
   "outputs": [],
   "source": [
    "def convertDate(datum: str):\n",
    "    year = re_year.findall(datum)[0]\n",
    "    month = re_month.findall(datum)[0]\n",
    "    day = re_day.findall(datum)[0]\n",
    "    # convert month\n",
    "    m = convertMonth(month)    \n",
    "    # convert day\n",
    "    d = day[:len(day)-1]\n",
    "    if int(d) < 10:\n",
    "        d = str(0) + d\n",
    "    return year+m+d"
   ]
  },
  {
   "cell_type": "code",
   "execution_count": 213,
   "metadata": {},
   "outputs": [],
   "source": [
    "def convertDateFromCitation(cit_tup_list: list):\n",
    "    if cit_tup_list:\n",
    "        new_tup_list = []\n",
    "        for tupel in cit_tup_list:\n",
    "            if tupel[1]:\n",
    "                tupel_2 = list(tupel)\n",
    "                tupel_2[1] = convertDate(tupel[1])\n",
    "                tupel = tuple(tupel_2)\n",
    "                new_tup_list.append(tupel)\n",
    "            else:\n",
    "                new_tup_list.append(tupel)\n",
    "        return new_tup_list    "
   ]
  },
  {
   "cell_type": "code",
   "execution_count": 225,
   "metadata": {},
   "outputs": [],
   "source": [
    "# apply date conversion on cited_az_gruende_date_flat\n",
    "data_all_citations[\"cited_az_gruende_date_converted\"] = data_all_citations[\"cited_az_gruende_date_flat\"].apply(convertDateFromCitation)"
   ]
  },
  {
   "cell_type": "code",
   "execution_count": 229,
   "metadata": {},
   "outputs": [
    {
     "data": {
      "text/plain": [
       "[('2 ARs 302/06', '20060721'),\n",
       " ('2 ARs 174/81', '19810814'),\n",
       " ('2 ARs 164/12', '20120711'),\n",
       " ('2 ARs 174/81', '19810814'),\n",
       " ('2 ARs 441/10', '20101221'),\n",
       " ('2 ARs 164/12', '20120711'),\n",
       " ('2 ARs 302/00', '20001122')]"
      ]
     },
     "execution_count": 229,
     "metadata": {},
     "output_type": "execute_result"
    }
   ],
   "source": [
    "data_all_citations.cited_az_gruende_date_converted.iloc[256]"
   ]
  },
  {
   "cell_type": "markdown",
   "metadata": {},
   "source": [
    "## Herausfinden, wie viele Zitate zuordbar sind zu Dokumenten in vorhandender Datenmenge. Verbindungen zwischen vorhandenen Dokumenten und zitierten Dokumenten finden"
   ]
  },
  {
   "cell_type": "code",
   "execution_count": 230,
   "metadata": {},
   "outputs": [],
   "source": [
    "def analyseCitationMatches(tup_list: list):   \n",
    "    count_same_az_ = 0\n",
    "    count_not_found = 0\n",
    "    count_ambiguous = 0\n",
    "    for tup in tup_list:\n",
    "        amount = data_all_citations['az'].str.match(tup[0]).sum()        \n",
    "        if amount > 1:\n",
    "            # additionally check for date --> convert dates to same format\n",
    "            occurrences = len(data_all_citations[data_all_citations['az'].str.match(tup[0])].index)\n",
    "            idxs = data_all_citations[data_all_citations['az'].str.match(tup[0])].index\n",
    "            statement = \"found \" + str(occurrences) + \" times: \" + str(tup) + \" at \" + str(idxs)\n",
    "            print(statement)\n",
    "            count_ambiguous += 1   \n",
    "        if amount == 1:\n",
    "            print(\"found once: \", tup[0])\n",
    "            count_same_az_ += 1\n",
    "        if amount == 0:\n",
    "            print(\"not found: \", tup[0])\n",
    "            count_not_found += 1\n",
    "    return count_same_az_, count_not_found, count_ambiguous"
   ]
  },
  {
   "cell_type": "code",
   "execution_count": 231,
   "metadata": {},
   "outputs": [],
   "source": [
    "# try an example\n",
    "tl = data_all_citations.cited_az_gruende_date_converted[5822]"
   ]
  },
  {
   "cell_type": "code",
   "execution_count": 232,
   "metadata": {},
   "outputs": [
    {
     "name": "stdout",
     "output_type": "stream",
     "text": [
      "found once:  1 StR 178/13\n",
      "found once:  5 StR 214/18\n",
      "found once:  2 StR 150/18\n",
      "found once:  1 StR 551/17\n",
      "not found:  2 BvR 930/04\n",
      "found once:  1 StR 76/17\n",
      "found once:  3 StR 417/15\n",
      "found once:  3 StR 214/15\n",
      "found once:  2 StR 460/16\n",
      "found once:  2 StR 214/16\n",
      "not found:  1 StR 577/05\n",
      "not found:  1 StR 213/04\n",
      "found once:  3 StR 214/15\n",
      "found once:  3 StR 417/15\n",
      "found 2 times: ('3 StR 452/18', '20190320') at Int64Index([4726, 5574], dtype='int64')\n",
      "found once:  2 StR 376/12\n",
      "found once:  2 StR 320/15\n",
      "found once:  2 StR 413/13\n",
      "found once:  1 StR 239/17\n",
      "found once:  2 StR 278/09\n",
      "not found:  3 StR 176/80\n"
     ]
    },
    {
     "data": {
      "text/plain": [
       "(16, 4, 1)"
      ]
     },
     "execution_count": 232,
     "metadata": {},
     "output_type": "execute_result"
    }
   ],
   "source": [
    "analyseCitationMatches(tl)"
   ]
  },
  {
   "cell_type": "code",
   "execution_count": 1334,
   "metadata": {},
   "outputs": [
    {
     "data": {
      "text/html": [
       "<div>\n",
       "<style scoped>\n",
       "    .dataframe tbody tr th:only-of-type {\n",
       "        vertical-align: middle;\n",
       "    }\n",
       "\n",
       "    .dataframe tbody tr th {\n",
       "        vertical-align: top;\n",
       "    }\n",
       "\n",
       "    .dataframe thead th {\n",
       "        text-align: right;\n",
       "    }\n",
       "</style>\n",
       "<table border=\"1\" class=\"dataframe\">\n",
       "  <thead>\n",
       "    <tr style=\"text-align: right;\">\n",
       "      <th></th>\n",
       "      <th>az</th>\n",
       "      <th>datum</th>\n",
       "      <th>doknr</th>\n",
       "      <th>gertyp</th>\n",
       "      <th>spruchkoerper</th>\n",
       "      <th>doktyp</th>\n",
       "      <th>titel</th>\n",
       "      <th>tenor</th>\n",
       "      <th>gruende</th>\n",
       "      <th>citations_gruende</th>\n",
       "      <th>citations_tenor</th>\n",
       "      <th>cited_az_gruende</th>\n",
       "      <th>cited_az_tenor</th>\n",
       "      <th>set_az_gruende</th>\n",
       "      <th>cited_az_gruende_date</th>\n",
       "      <th>cited_az_gruende_date_flat</th>\n",
       "      <th>cited_az_gruende_date_converted</th>\n",
       "    </tr>\n",
       "  </thead>\n",
       "  <tbody>\n",
       "    <tr>\n",
       "      <th>4726</th>\n",
       "      <td>3 StR 452/18</td>\n",
       "      <td>20190320</td>\n",
       "      <td>KORE605192019</td>\n",
       "      <td>BGH</td>\n",
       "      <td>3. Strafsenat</td>\n",
       "      <td>Beschluss</td>\n",
       "      <td>Berücksichtigung des Erziehungsgedankens bei A...</td>\n",
       "      <td>1. Auf die Revision des Angeklagten wird das U...</td>\n",
       "      <td>Das Landgericht hat den Angeklagten wegen beso...</td>\n",
       "      <td>[[BGH, Beschluss vom 20. März 2019 - 3 StR 452...</td>\n",
       "      <td>None</td>\n",
       "      <td>[3 StR 452/18, 1 StR 76/17, 3 StR 417/15, 3 St...</td>\n",
       "      <td>None</td>\n",
       "      <td>[2 StR 150/18, 1 StR 95/16, 2 StR 460/16, 1 St...</td>\n",
       "      <td>[[[3 StR 452/18], [20. März 2019]], [[1 StR 76...</td>\n",
       "      <td>[(3 StR 452/18, 20. März 2019), (1 StR 76/17, ...</td>\n",
       "      <td>[(3 StR 452/18, 20190320), (1 StR 76/17, 20170...</td>\n",
       "    </tr>\n",
       "    <tr>\n",
       "      <th>5574</th>\n",
       "      <td>3 StR 452/18</td>\n",
       "      <td>20190320</td>\n",
       "      <td>KORE605182019</td>\n",
       "      <td>BGH</td>\n",
       "      <td>3. Strafsenat</td>\n",
       "      <td>Beschluss</td>\n",
       "      <td>Verfahrenseröffnung: Anforderungen an die rich...</td>\n",
       "      <td>1. Auf die Revision des Angeklagten wird das U...</td>\n",
       "      <td>Das Landgericht hat den Angeklagten wegen beso...</td>\n",
       "      <td>[[BGH, Urteil vom 7. Januar 1959 - 2 StR 550/5...</td>\n",
       "      <td>None</td>\n",
       "      <td>[2 StR 550/58, 1 StR 377/88]</td>\n",
       "      <td>None</td>\n",
       "      <td>[1 StR 377/88, 2 StR 550/58]</td>\n",
       "      <td>[[[2 StR 550/58], [7. Januar 1959]], [[1 StR 3...</td>\n",
       "      <td>[(2 StR 550/58, 7. Januar 1959), (1 StR 377/88...</td>\n",
       "      <td>[(2 StR 550/58, 19590107), (1 StR 377/88, 1988...</td>\n",
       "    </tr>\n",
       "  </tbody>\n",
       "</table>\n",
       "</div>"
      ],
      "text/plain": [
       "                az     datum          doknr gertyp  spruchkoerper     doktyp  \\\n",
       "4726  3 StR 452/18  20190320  KORE605192019    BGH  3. Strafsenat  Beschluss   \n",
       "5574  3 StR 452/18  20190320  KORE605182019    BGH  3. Strafsenat  Beschluss   \n",
       "\n",
       "                                                  titel  \\\n",
       "4726  Berücksichtigung des Erziehungsgedankens bei A...   \n",
       "5574  Verfahrenseröffnung: Anforderungen an die rich...   \n",
       "\n",
       "                                                  tenor  \\\n",
       "4726  1. Auf die Revision des Angeklagten wird das U...   \n",
       "5574  1. Auf die Revision des Angeklagten wird das U...   \n",
       "\n",
       "                                                gruende  \\\n",
       "4726  Das Landgericht hat den Angeklagten wegen beso...   \n",
       "5574  Das Landgericht hat den Angeklagten wegen beso...   \n",
       "\n",
       "                                      citations_gruende citations_tenor  \\\n",
       "4726  [[BGH, Beschluss vom 20. März 2019 - 3 StR 452...            None   \n",
       "5574  [[BGH, Urteil vom 7. Januar 1959 - 2 StR 550/5...            None   \n",
       "\n",
       "                                       cited_az_gruende cited_az_tenor  \\\n",
       "4726  [3 StR 452/18, 1 StR 76/17, 3 StR 417/15, 3 St...           None   \n",
       "5574                       [2 StR 550/58, 1 StR 377/88]           None   \n",
       "\n",
       "                                         set_az_gruende  \\\n",
       "4726  [2 StR 150/18, 1 StR 95/16, 2 StR 460/16, 1 St...   \n",
       "5574                       [1 StR 377/88, 2 StR 550/58]   \n",
       "\n",
       "                                  cited_az_gruende_date  \\\n",
       "4726  [[[3 StR 452/18], [20. März 2019]], [[1 StR 76...   \n",
       "5574  [[[2 StR 550/58], [7. Januar 1959]], [[1 StR 3...   \n",
       "\n",
       "                             cited_az_gruende_date_flat  \\\n",
       "4726  [(3 StR 452/18, 20. März 2019), (1 StR 76/17, ...   \n",
       "5574  [(2 StR 550/58, 7. Januar 1959), (1 StR 377/88...   \n",
       "\n",
       "                        cited_az_gruende_date_converted  \n",
       "4726  [(3 StR 452/18, 20190320), (1 StR 76/17, 20170...  \n",
       "5574  [(2 StR 550/58, 19590107), (1 StR 377/88, 1988...  "
      ]
     },
     "execution_count": 1334,
     "metadata": {},
     "output_type": "execute_result"
    }
   ],
   "source": [
    "# look at '3 StR 452/18' (found twice)\n",
    "data_all_citations[data_all_citations['az'].str.match('3 StR 452/18')]\n",
    "# --> same az and same date..!"
   ]
  },
  {
   "cell_type": "code",
   "execution_count": 233,
   "metadata": {},
   "outputs": [
    {
     "name": "stdout",
     "output_type": "stream",
     "text": [
      "found once:  1 StR 104/15\n",
      "found once:  1 StR 220/09\n",
      "found once:  2 StR 111/09\n",
      "not found:  2 StR 587/07\n",
      "found once:  2 StR 111/09\n",
      "found once:  3 StR 90/10\n",
      "found once:  2 StR 111/09\n",
      "found once:  3 StR 265/14\n",
      "found once:  1 StR 540/16\n",
      "found once:  1 StR 220/09\n",
      "found once:  1 StR 532/12\n",
      "not found:  5 StR 119/05\n",
      "found once:  4 StR 345/09\n",
      "not found:  5 StR 299/03\n",
      "not found:  5 StR 299/03\n",
      "found once:  3 StR 265/14\n",
      "found once:  1 StR 220/09\n",
      "not found:  4 StR 571/74\n",
      "found once:  5 StR 182/14\n",
      "found once:  1 StR 220/09\n",
      "not found:  2 BvR 1235/11\n",
      "not found:  2 BvR 2559/08\n",
      "not found:  2 BvR 1235/11\n",
      "not found:  2 BvR 2559/08\n",
      "found once:  1 StR 94/10\n",
      "found once:  1 StR 220/09\n",
      "found once:  2 StR 591/11\n",
      "found 2 times: ('3 StR 17/15', '20151126') at Int64Index([1545, 3568], dtype='int64')\n",
      "found once:  2 StR 111/09\n",
      "found once:  1 StR 104/15\n",
      "found once:  2 StR 111/09\n",
      "not found:  2 StR 587/07\n",
      "found once:  2 StR 111/09\n",
      "found once:  2 StR 111/09\n",
      "not found:  2 StR 587/07\n",
      "not found:  4 StR 59/04\n",
      "found once:  2 StR 586/12\n",
      "found once:  1 StR 642/17\n",
      "not found:  5 StR 420/03\n",
      "not found:  3 Ws 80/84\n",
      "not found:  6 K 385/95\n",
      "not found:  3 StR 373/86\n",
      "found once:  1 StR 56/17\n",
      "found once:  1 StR 265/16\n",
      "found once:  1 StR 535/17\n",
      "found once:  1 StR 458/10\n",
      "not found:  StB 11/91\n",
      "not found:  2 StR 587/07\n",
      "found once:  5 StR 46/18\n",
      "found once:  1 StR 399/14\n",
      "not found:  2 StR 587/07\n",
      "not found:  1 StR 288/05\n",
      "found once:  1 StR 56/17\n"
     ]
    },
    {
     "data": {
      "text/plain": [
       "(32, 20, 1)"
      ]
     },
     "execution_count": 233,
     "metadata": {},
     "output_type": "execute_result"
    }
   ],
   "source": [
    "# another example\n",
    "analyseCitationMatches(data_all_citations.cited_az_gruende_date_converted[822])"
   ]
  },
  {
   "cell_type": "code",
   "execution_count": 234,
   "metadata": {},
   "outputs": [
    {
     "data": {
      "text/html": [
       "<div>\n",
       "<style scoped>\n",
       "    .dataframe tbody tr th:only-of-type {\n",
       "        vertical-align: middle;\n",
       "    }\n",
       "\n",
       "    .dataframe tbody tr th {\n",
       "        vertical-align: top;\n",
       "    }\n",
       "\n",
       "    .dataframe thead th {\n",
       "        text-align: right;\n",
       "    }\n",
       "</style>\n",
       "<table border=\"1\" class=\"dataframe\">\n",
       "  <thead>\n",
       "    <tr style=\"text-align: right;\">\n",
       "      <th></th>\n",
       "      <th>az</th>\n",
       "      <th>datum</th>\n",
       "      <th>doknr</th>\n",
       "      <th>gertyp</th>\n",
       "      <th>spruchkoerper</th>\n",
       "      <th>doktyp</th>\n",
       "      <th>titel</th>\n",
       "      <th>tenor</th>\n",
       "      <th>gruende</th>\n",
       "      <th>citations_gruende</th>\n",
       "      <th>citations_tenor</th>\n",
       "      <th>cited_az_gruende</th>\n",
       "      <th>cited_az_tenor</th>\n",
       "      <th>set_az_gruende</th>\n",
       "      <th>cited_az_gruende_date</th>\n",
       "      <th>cited_az_gruende_date_flat</th>\n",
       "      <th>cited_az_gruende_date_converted</th>\n",
       "    </tr>\n",
       "  </thead>\n",
       "  <tbody>\n",
       "    <tr>\n",
       "      <th>1545</th>\n",
       "      <td>3 StR 17/15</td>\n",
       "      <td>20160628</td>\n",
       "      <td>JURE160014078</td>\n",
       "      <td>BGH</td>\n",
       "      <td>3. Strafsenat</td>\n",
       "      <td>Beschluss</td>\n",
       "      <td>Rechtliches Gehör im Strafverfahren: Hinweis d...</td>\n",
       "      <td>Die Anhörungsrüge des Verurteilten gegen den S...</td>\n",
       "      <td>Der Senat hat mit Beschluss vom 26. November 2...</td>\n",
       "      <td>[[BVerfG, Beschlüsse vom 21. Januar 2002 - 2 B...</td>\n",
       "      <td>None</td>\n",
       "      <td>[2 BvR 1225/01, 2 BvR 792/11, 3 StR 95/12, 1 B...</td>\n",
       "      <td>None</td>\n",
       "      <td>[1 BvR 1383/90, 3 StR 95/12, 1 StR 215/01, 2 B...</td>\n",
       "      <td>[[[2 BvR 1225/01], [21. Januar 2002]], [[2 BvR...</td>\n",
       "      <td>[(2 BvR 1225/01, 21. Januar 2002), (2 BvR 792/...</td>\n",
       "      <td>[(2 BvR 1225/01, 20020121), (2 BvR 792/11, 201...</td>\n",
       "    </tr>\n",
       "    <tr>\n",
       "      <th>3568</th>\n",
       "      <td>3 StR 17/15</td>\n",
       "      <td>20151126</td>\n",
       "      <td>KORE303732016</td>\n",
       "      <td>BGH</td>\n",
       "      <td>3. Strafsenat</td>\n",
       "      <td>Beschluss</td>\n",
       "      <td>Untreue: Vermögensbetreuungspflicht eines Mitg...</td>\n",
       "      <td>1. Auf die Revisionen der Angeklagten wird das...</td>\n",
       "      <td>Das Landgericht hat den Angeklagten D. unter F...</td>\n",
       "      <td>[[BGH, Beschlüsse vom 1. April 2008 - 3 StR 49...</td>\n",
       "      <td>None</td>\n",
       "      <td>[3 StR 493/07, 1 StR 220/09, 4 StR 156/11, 3 S...</td>\n",
       "      <td>None</td>\n",
       "      <td>[1 StR 731/08, 1 StR 544/90, 1 StR 755/75, XI ...</td>\n",
       "      <td>[[[3 StR 493/07], [1. April 2008]], [[1 StR 22...</td>\n",
       "      <td>[(3 StR 493/07, 1. April 2008), (1 StR 220/09,...</td>\n",
       "      <td>[(3 StR 493/07, 20080401), (1 StR 220/09, 2010...</td>\n",
       "    </tr>\n",
       "  </tbody>\n",
       "</table>\n",
       "</div>"
      ],
      "text/plain": [
       "               az     datum          doknr gertyp  spruchkoerper     doktyp  \\\n",
       "1545  3 StR 17/15  20160628  JURE160014078    BGH  3. Strafsenat  Beschluss   \n",
       "3568  3 StR 17/15  20151126  KORE303732016    BGH  3. Strafsenat  Beschluss   \n",
       "\n",
       "                                                  titel  \\\n",
       "1545  Rechtliches Gehör im Strafverfahren: Hinweis d...   \n",
       "3568  Untreue: Vermögensbetreuungspflicht eines Mitg...   \n",
       "\n",
       "                                                  tenor  \\\n",
       "1545  Die Anhörungsrüge des Verurteilten gegen den S...   \n",
       "3568  1. Auf die Revisionen der Angeklagten wird das...   \n",
       "\n",
       "                                                gruende  \\\n",
       "1545  Der Senat hat mit Beschluss vom 26. November 2...   \n",
       "3568  Das Landgericht hat den Angeklagten D. unter F...   \n",
       "\n",
       "                                      citations_gruende citations_tenor  \\\n",
       "1545  [[BVerfG, Beschlüsse vom 21. Januar 2002 - 2 B...            None   \n",
       "3568  [[BGH, Beschlüsse vom 1. April 2008 - 3 StR 49...            None   \n",
       "\n",
       "                                       cited_az_gruende cited_az_tenor  \\\n",
       "1545  [2 BvR 1225/01, 2 BvR 792/11, 3 StR 95/12, 1 B...           None   \n",
       "3568  [3 StR 493/07, 1 StR 220/09, 4 StR 156/11, 3 S...           None   \n",
       "\n",
       "                                         set_az_gruende  \\\n",
       "1545  [1 BvR 1383/90, 3 StR 95/12, 1 StR 215/01, 2 B...   \n",
       "3568  [1 StR 731/08, 1 StR 544/90, 1 StR 755/75, XI ...   \n",
       "\n",
       "                                  cited_az_gruende_date  \\\n",
       "1545  [[[2 BvR 1225/01], [21. Januar 2002]], [[2 BvR...   \n",
       "3568  [[[3 StR 493/07], [1. April 2008]], [[1 StR 22...   \n",
       "\n",
       "                             cited_az_gruende_date_flat  \\\n",
       "1545  [(2 BvR 1225/01, 21. Januar 2002), (2 BvR 792/...   \n",
       "3568  [(3 StR 493/07, 1. April 2008), (1 StR 220/09,...   \n",
       "\n",
       "                        cited_az_gruende_date_converted  \n",
       "1545  [(2 BvR 1225/01, 20020121), (2 BvR 792/11, 201...  \n",
       "3568  [(3 StR 493/07, 20080401), (1 StR 220/09, 2010...  "
      ]
     },
     "execution_count": 234,
     "metadata": {},
     "output_type": "execute_result"
    }
   ],
   "source": [
    "# look at '3 StR 17/15' (found twice)\n",
    "data_all_citations[data_all_citations['az'].str.match('3 StR 17/15')]\n",
    "# --> same az, different date\n",
    "# hier ist das ältere Dokument mit Index 3568 gemeint"
   ]
  },
  {
   "cell_type": "code",
   "execution_count": 235,
   "metadata": {},
   "outputs": [],
   "source": [
    "def countCitationMatches(tup_list: list): \n",
    "    if tup_list:\n",
    "        count_same_az_ = 0\n",
    "        count_not_found = 0\n",
    "        count_ambiguous = 0\n",
    "        for tup in tup_list:\n",
    "            amount = data_all_citations['az'].str.contains(tup[0]).sum()\n",
    "            datum1 = tup[1]\n",
    "            if amount > 1:\n",
    "                count_ambiguous += 1\n",
    "            if amount == 1:\n",
    "                count_same_az_ += 1\n",
    "            if amount == 0:\n",
    "                count_not_found += 1\n",
    "        return {\"found\": count_same_az_, \"not found\": count_not_found, \"ambiguous\": count_ambiguous}"
   ]
  },
  {
   "cell_type": "code",
   "execution_count": 236,
   "metadata": {},
   "outputs": [
    {
     "data": {
      "text/plain": [
       "{'found': 16, 'not found': 4, 'ambiguous': 1}"
      ]
     },
     "execution_count": 236,
     "metadata": {},
     "output_type": "execute_result"
    }
   ],
   "source": [
    "# test countCitationMatches on example from above (document with index 5822)\n",
    "countCitationMatches(tl)"
   ]
  },
  {
   "cell_type": "code",
   "execution_count": 240,
   "metadata": {},
   "outputs": [],
   "source": [
    "# apply countCitationMatches on df\n",
    "# processing takes a while; better load directly from df (s. 2 cells further down)\n",
    "data_all_citations[\"matches_gruende\"] = data_all_citations[\"cited_az_gruende_date_converted\"].apply(countCitationMatches)"
   ]
  },
  {
   "cell_type": "code",
   "execution_count": 1340,
   "metadata": {},
   "outputs": [],
   "source": [
    "# save\n",
    "data_all_citations.to_json(\"data/dataframes/df_citations_matches.json\")"
   ]
  },
  {
   "cell_type": "code",
   "execution_count": 4,
   "metadata": {},
   "outputs": [],
   "source": [
    "# load\n",
    "data_citations_matches = pd.read_json('data/dataframes/df_citations_matches.json', orient='columns', encoding='utf-8')"
   ]
  },
  {
   "cell_type": "markdown",
   "metadata": {},
   "source": [
    "### Statistics of overall matches"
   ]
  },
  {
   "cell_type": "code",
   "execution_count": 241,
   "metadata": {},
   "outputs": [
    {
     "data": {
      "text/plain": [
       "0        {'found': 0, 'not found': 1, 'ambiguous': 0}\n",
       "1                                                None\n",
       "2                                                None\n",
       "3        {'found': 0, 'not found': 2, 'ambiguous': 0}\n",
       "4        {'found': 0, 'not found': 1, 'ambiguous': 0}\n",
       "                            ...                      \n",
       "5821     {'found': 5, 'not found': 9, 'ambiguous': 0}\n",
       "5822    {'found': 16, 'not found': 4, 'ambiguous': 1}\n",
       "5823     {'found': 4, 'not found': 1, 'ambiguous': 1}\n",
       "5824     {'found': 1, 'not found': 1, 'ambiguous': 0}\n",
       "5825     {'found': 5, 'not found': 1, 'ambiguous': 0}\n",
       "Name: matches_gruende, Length: 5826, dtype: object"
      ]
     },
     "execution_count": 241,
     "metadata": {},
     "output_type": "execute_result"
    }
   ],
   "source": [
    "data_citations_matches.matches_gruende"
   ]
  },
  {
   "cell_type": "code",
   "execution_count": 13,
   "metadata": {},
   "outputs": [],
   "source": [
    "all_matches_gruende = data_citations_matches.matches_gruende.tolist()"
   ]
  },
  {
   "cell_type": "code",
   "execution_count": 14,
   "metadata": {},
   "outputs": [],
   "source": [
    "# sum the values with same keys \n",
    "sum_matches_gruende = dict(functools.reduce(operator.add, map(collections.Counter, all_matches_gruende))) "
   ]
  },
  {
   "cell_type": "code",
   "execution_count": 15,
   "metadata": {},
   "outputs": [
    {
     "data": {
      "text/plain": [
       "{'not found': 29019, 'found': 16272, 'ambiguous': 1166}"
      ]
     },
     "execution_count": 15,
     "metadata": {},
     "output_type": "execute_result"
    }
   ],
   "source": [
    "sum_matches_gruende"
   ]
  },
  {
   "cell_type": "code",
   "execution_count": 245,
   "metadata": {},
   "outputs": [
    {
     "data": {
      "text/plain": [
       "<AxesSubplot:>"
      ]
     },
     "execution_count": 245,
     "metadata": {},
     "output_type": "execute_result"
    },
    {
     "data": {
      "image/png": "[encoded data removed]",
      "text/plain": [
       "<Figure size 432x288 with 1 Axes>"
      ]
     },
     "metadata": {
      "needs_background": "light"
     },
     "output_type": "display_data"
    }
   ],
   "source": [
    "sns.barplot(list(sum_matches_gruende.keys()), list(sum_matches_gruende.values()))"
   ]
  },
  {
   "cell_type": "code",
   "execution_count": 18,
   "metadata": {},
   "outputs": [
    {
     "data": {
      "text/plain": [
       "46457"
      ]
     },
     "execution_count": 18,
     "metadata": {},
     "output_type": "execute_result"
    }
   ],
   "source": [
    "sum_az = sum_matches_gruende.get(\"not found\") + sum_matches_gruende.get(\"found\") + sum_matches_gruende.get(\"ambiguous\")\n",
    "sum_az"
   ]
  },
  {
   "cell_type": "code",
   "execution_count": 16,
   "metadata": {},
   "outputs": [],
   "source": [
    "# davon ausgehend, dass ambiguous zuordbar ist:\n",
    "found = sum_matches_gruende.get(\"found\") + sum_matches_gruende.get(\"ambiguous\")"
   ]
  },
  {
   "cell_type": "code",
   "execution_count": 19,
   "metadata": {},
   "outputs": [
    {
     "data": {
      "text/plain": [
       "0.3753578578039908"
      ]
     },
     "execution_count": 19,
     "metadata": {},
     "output_type": "execute_result"
    }
   ],
   "source": [
    "found/sum_az\n",
    "# --> 37,5% aller aus Zitaten extrahierten Aktenzeichen (Gründe) sind in Dokumentenmenge auffindbar"
   ]
  },
  {
   "cell_type": "markdown",
   "metadata": {},
   "source": [
    "### Wie viele Zitate gibt es insgesamt in Gründe?"
   ]
  },
  {
   "cell_type": "code",
   "execution_count": 20,
   "metadata": {},
   "outputs": [],
   "source": [
    "citations_gruende_list = data_citations_matches.citations_gruende.tolist()"
   ]
  },
  {
   "cell_type": "code",
   "execution_count": 21,
   "metadata": {},
   "outputs": [],
   "source": [
    "def countAmountCitations(citlist: list):\n",
    "    if citlist:\n",
    "        return len(citlist)\n",
    "    else:\n",
    "        return 0"
   ]
  },
  {
   "cell_type": "code",
   "execution_count": 22,
   "metadata": {},
   "outputs": [],
   "source": [
    "# apply countAmountCitations on df\n",
    "data_citations_matches[\"amount_cit_gruende\"] = data_citations_matches.citations_gruende.apply(countAmountCitations)"
   ]
  },
  {
   "cell_type": "code",
   "execution_count": 23,
   "metadata": {},
   "outputs": [
    {
     "data": {
      "text/plain": [
       "[['BGH NJW 1980, 2423', 2452, 2470],\n",
       " ['NStZ 1985, 184', 2472, 2486],\n",
       " ['Senat, Urt. vom 20. März 2008 - 4 StR 5/08', 2529, 2571],\n",
       " ['BGH, Beschl. vom 9. November 2009 - 5 StR 136/09', 4696, 4744],\n",
       " ['BGH, Urt. vom 28. Oktober 2009 - 1 StR 205/09 Rdn.', 5317, 5367]]"
      ]
     },
     "execution_count": 23,
     "metadata": {},
     "output_type": "execute_result"
    }
   ],
   "source": [
    "data_citations_matches.citations_gruende.iloc[6]"
   ]
  },
  {
   "cell_type": "code",
   "execution_count": 24,
   "metadata": {},
   "outputs": [
    {
     "data": {
      "text/plain": [
       "5"
      ]
     },
     "execution_count": 24,
     "metadata": {},
     "output_type": "execute_result"
    }
   ],
   "source": [
    "data_citations_matches.amount_cit_gruende.iloc[6]"
   ]
  },
  {
   "cell_type": "code",
   "execution_count": 25,
   "metadata": {},
   "outputs": [
    {
     "data": {
      "text/plain": [
       "52699"
      ]
     },
     "execution_count": 25,
     "metadata": {},
     "output_type": "execute_result"
    }
   ],
   "source": [
    "sum_citations = data_citations_matches.amount_cit_gruende.sum(axis=0, skipna=True)\n",
    "sum_citations"
   ]
  },
  {
   "cell_type": "code",
   "execution_count": 26,
   "metadata": {},
   "outputs": [
    {
     "data": {
      "text/plain": [
       "0.33089811950890907"
      ]
     },
     "execution_count": 26,
     "metadata": {},
     "output_type": "execute_result"
    }
   ],
   "source": [
    "found/sum_citations\n",
    "# --> 33% aller aus Gründen extrahierten Zitate sind Dokumenten in Korpus zuordbar"
   ]
  },
  {
   "cell_type": "markdown",
   "metadata": {},
   "source": [
    "### Wie viele Aktenzeichen werden aus den Zitaten extrahiert?"
   ]
  },
  {
   "cell_type": "code",
   "execution_count": 27,
   "metadata": {},
   "outputs": [],
   "source": [
    "def countAmountAz(azlist: list):\n",
    "    if azlist: \n",
    "        return len(azlist)\n",
    "    else:\n",
    "        return 0    "
   ]
  },
  {
   "cell_type": "code",
   "execution_count": 28,
   "metadata": {},
   "outputs": [],
   "source": [
    "data_citations_matches[\"amount_az_gruende\"] = data_citations_matches.cited_az_gruende.apply(countAmountAz)"
   ]
  },
  {
   "cell_type": "code",
   "execution_count": 29,
   "metadata": {},
   "outputs": [
    {
     "data": {
      "text/plain": [
       "46457"
      ]
     },
     "execution_count": 29,
     "metadata": {},
     "output_type": "execute_result"
    }
   ],
   "source": [
    "sum_aktenz = data_citations_matches.amount_az_gruende.sum(axis=0, skipna=True)\n",
    "sum_aktenz"
   ]
  },
  {
   "cell_type": "code",
   "execution_count": 30,
   "metadata": {},
   "outputs": [
    {
     "data": {
      "text/plain": [
       "0.8815537296722898"
      ]
     },
     "execution_count": 30,
     "metadata": {},
     "output_type": "execute_result"
    }
   ],
   "source": [
    "sum_aktenz/sum_citations\n",
    "#--> 88,16% der Zitate werden aufgelöst in Aktenzeichen"
   ]
  },
  {
   "cell_type": "code",
   "execution_count": 31,
   "metadata": {},
   "outputs": [],
   "source": [
    "# az mit datum:\n",
    "# --> berücksichtigt jeweils einzeln, wenn mehrere Aktenzeichen in einem Zitat vorkommen (wurde geflatted)\n",
    "data_citations_matches[\"amount_az_date_gruende\"] = data_citations_matches.cited_az_gruende_date_converted.apply(countAmountCitations)"
   ]
  },
  {
   "cell_type": "code",
   "execution_count": 32,
   "metadata": {},
   "outputs": [
    {
     "data": {
      "text/plain": [
       "46457"
      ]
     },
     "execution_count": 32,
     "metadata": {},
     "output_type": "execute_result"
    }
   ],
   "source": [
    "data_citations_matches.amount_az_date_gruende.sum()"
   ]
  },
  {
   "cell_type": "code",
   "execution_count": 33,
   "metadata": {},
   "outputs": [
    {
     "data": {
      "text/plain": [
       "0.8815537296722898"
      ]
     },
     "execution_count": 33,
     "metadata": {},
     "output_type": "execute_result"
    }
   ],
   "source": [
    "sum_az/sum_citations\n",
    "# --> 88,16% der Zitate werden in Aktenzeichen aufgelöst"
   ]
  },
  {
   "cell_type": "markdown",
   "metadata": {},
   "source": [
    "### Wie einzigartig sind die doknr?"
   ]
  },
  {
   "cell_type": "code",
   "execution_count": 34,
   "metadata": {},
   "outputs": [
    {
     "data": {
      "text/plain": [
       "5826"
      ]
     },
     "execution_count": 34,
     "metadata": {},
     "output_type": "execute_result"
    }
   ],
   "source": [
    "len(data_citations_matches.doknr.unique())\n",
    "# --> doknr sind 100% eindeutig!"
   ]
  },
  {
   "cell_type": "markdown",
   "metadata": {},
   "source": [
    "### Wie einzigartig sind die az?"
   ]
  },
  {
   "cell_type": "code",
   "execution_count": 35,
   "metadata": {},
   "outputs": [
    {
     "data": {
      "text/plain": [
       "5640"
      ]
     },
     "execution_count": 35,
     "metadata": {},
     "output_type": "execute_result"
    }
   ],
   "source": [
    "len(data_citations_matches.az.unique())\n",
    "# --> nicht eindeutig! es gibt mehrfache Vorkommen (die sich immer auf denselben Fall beziehen),\n",
    "# aber mehrere Entscheidungen mit sich bringen.\n",
    "# Bestätigt Feststellung von oben, dass eindeutige Zuordbarkeit teils nur unter Hinzunahme von Datum\n",
    "# möglich ist"
   ]
  },
  {
   "cell_type": "markdown",
   "metadata": {},
   "source": [
    "# Matching Algorithmus"
   ]
  },
  {
   "cell_type": "code",
   "execution_count": 52,
   "metadata": {},
   "outputs": [],
   "source": [
    "# ALT\n",
    "def getCitationMatches(tup_list: list): \n",
    "    if tup_list:\n",
    "        doknr_list = []\n",
    "        \n",
    "        for tup in tup_list:\n",
    "            amount = data_citations_matches['az'].str.contains(tup[0]).sum()\n",
    "            datum1 = tup[1]\n",
    "            # mehr als ein Dokument mit Az in Korpus\n",
    "            if amount > 1:\n",
    "                # additionally check for date \n",
    "                idxs = data_citations_matches[data_citations_matches['az'].str.contains(tup[0])].index.values\n",
    "                \n",
    "                # zähle Treffer mit korrektem Datum\n",
    "                count_date_match = 0\n",
    "                for idx in idxs:\n",
    "                    datum2 = data_citations_matches.datum[idx]\n",
    "                    if datum2 == datum1:\n",
    "                        count_date_match += 1\n",
    "                # genau ein Datumstreffer\n",
    "                if count_date_match == 1:\n",
    "                    # take document with correct date\n",
    "                    doknr = data_citations_matches.loc[data_citations_matches['az'].str.contains(tup[0]) & (data_citations_matches['datum'] == datum1)].doknr.values[0]\n",
    "                    doknr_list.append(doknr)\n",
    "                # kein oder mehr als ein Datumstreffer\n",
    "                else:\n",
    "                    # take document with correct az with most citations\n",
    "                    citations = []\n",
    "                    for idx in idxs:\n",
    "                        if data_citations_matches.citations_gruende[idx]:\n",
    "                            cit_len = (idx, len(data_citations_matches.citations_gruende[idx]))\n",
    "                        else:\n",
    "                            cit_len = (idx, 0)\n",
    "                        citations.append(cit_len)\n",
    "                        \n",
    "                    max_cit = max(citations, key=lambda x:x[1])\n",
    "                    max_cit_idx = max_cit[0]\n",
    "                    doknr = data_citations_matches.doknr[max_cit_idx]\n",
    "                    doknr_list.append(doknr)\n",
    "\n",
    "            # ein Dokument mit Az in Korpus\n",
    "            if amount == 1:\n",
    "                # get doknr from matching document\n",
    "                doknr = data_citations_matches[data_citations_matches['az'].str.contains(tup[0])].doknr.values[0]\n",
    "                doknr_list.append(doknr)\n",
    "            \n",
    "        return doknr_list"
   ]
  },
  {
   "cell_type": "code",
   "execution_count": 53,
   "metadata": {},
   "outputs": [
    {
     "name": "stdout",
     "output_type": "stream",
     "text": [
      "[['1 StR 527/18', '20181108'], ['1 StR 115/04', '20040707'], ['5 StR 50/17', '20180828'], ['2 StR 112/14', '20160324']]\n"
     ]
    },
    {
     "data": {
      "text/plain": [
       "['KORE632172018', 'KORE305562018', 'JURE160008164']"
      ]
     },
     "execution_count": 53,
     "metadata": {},
     "output_type": "execute_result"
    }
   ],
   "source": [
    "# test function getCitationMatches\n",
    "test_list = data_citations_matches.cited_az_gruende_date_converted[4906]\n",
    "print(test_list)\n",
    "getCitationMatches(test_list)"
   ]
  },
  {
   "cell_type": "code",
   "execution_count": null,
   "metadata": {},
   "outputs": [],
   "source": [
    "# nachdem in Netz einige Cycles festgestellt wurden: Änderung der CitationMatches-Funktion. \n",
    "# --> Datum wird jetzt immer einbezogen\n",
    "# --> hierdurch wird sich die Gesamtmenge reduzieren, da nicht alle Zitate ein Datum nennen"
   ]
  },
  {
   "cell_type": "code",
   "execution_count": 40,
   "metadata": {},
   "outputs": [
    {
     "data": {
      "text/plain": [
       "[['4 StR 215/10', '20101028'],\n",
       " ['1 StR 75/11', '20110315'],\n",
       " ['4 StR 215/10', '20101028']]"
      ]
     },
     "execution_count": 40,
     "metadata": {},
     "output_type": "execute_result"
    }
   ],
   "source": [
    "data_citations_matches.cited_az_gruende_date_converted[2100]"
   ]
  },
  {
   "cell_type": "code",
   "execution_count": 323,
   "metadata": {},
   "outputs": [],
   "source": [
    "# NEU\n",
    "def getCitationMatchesWithDate(tup_list: list, self_doknr: str): \n",
    "    if tup_list:\n",
    "        doknr_list = []\n",
    "        \n",
    "        for tup in tup_list:\n",
    "            # how often does az exist in corpus\n",
    "            amount = data_citations_matches['az'].str.contains(tup[0]).sum()\n",
    "            datum = tup[1]\n",
    "            # convert datum to int to make comparable\n",
    "            if datum:\n",
    "                datum = int(datum)\n",
    "            else:\n",
    "                datum = -1\n",
    "                \n",
    "            own_index = data_citations_matches[data_citations_matches.doknr==self_doknr].index.values\n",
    "            \n",
    "            # mehr als ein Dokument mit Az in Korpus\n",
    "            if amount > 1 and datum != -1:\n",
    "                # get indizes \n",
    "                idxs = data_citations_matches[data_citations_matches['az'].str.contains(tup[0])].index.values\n",
    "                     \n",
    "                # zähle Treffer mit korrektem Datum\n",
    "                count_date_match = 0\n",
    "                possible_targets = []\n",
    "                for idx in idxs:\n",
    "                    datum2 = data_citations_matches.datum[idx]\n",
    "                    if datum2 == datum:\n",
    "                        count_date_match += 1\n",
    "                        possible_targets.append(idx)\n",
    "                \n",
    "                # prevent self-quotation\n",
    "                if own_index in possible_targets:\n",
    "                    possible_targets.remove(own_index)\n",
    "        \n",
    "                # genau ein Datumstreffer\n",
    "                if count_date_match == 1:\n",
    "                    # take document with correct date\n",
    "                    doknr = data_citations_matches.loc[data_citations_matches['az'].str.contains(tup[0]) & (data_citations_matches['datum'] == datum)].doknr.values[0]\n",
    "                    # prevent self-quotation\n",
    "                    if self_doknr != doknr:\n",
    "                        doknr_list.append(doknr)\n",
    "                        \n",
    "                # mehr als ein Datumstreffer\n",
    "                if count_date_match > 1:\n",
    "                    # take document with correct az with most citations\n",
    "                    citations = []\n",
    "                    #for idx in idxs:\n",
    "                    for target in possible_targets:                        \n",
    "                        if data_citations_matches.citations_gruende[target]:\n",
    "                            cit_len = (target, len(data_citations_matches.citations_gruende[target]))\n",
    "                        else:\n",
    "                            cit_len = (target, 0)\n",
    "                        citations.append(cit_len)\n",
    "                        \n",
    "                    max_cit = max(citations, key=lambda x:x[1])\n",
    "                    max_cit_idx = max_cit[0]\n",
    "                    doknr = data_citations_matches.doknr[max_cit_idx]\n",
    "                    doknr_list.append(doknr)\n",
    "                    \n",
    "\n",
    "                \n",
    "            # ein Dokument mit Az in Korpus\n",
    "            if amount == 1 and datum != -1:\n",
    "                az = tup[0]\n",
    "              \n",
    "                idx = data_citations_matches[data_citations_matches['az'].str.contains(az)].index.values[0]\n",
    "                \n",
    "                # get doknr from matching document with datum check\n",
    "                if data_citations_matches.loc[idx].datum == datum and idx != own_index:\n",
    "                    doknr = data_citations_matches.loc[idx].doknr\n",
    "                    doknr_list.append(doknr)\n",
    "                    \n",
    "            \n",
    "        return doknr_list"
   ]
  },
  {
   "cell_type": "code",
   "execution_count": 329,
   "metadata": {},
   "outputs": [
    {
     "name": "stdout",
     "output_type": "stream",
     "text": [
      "[['2 StR 137/14', None], ['2 StR 337/14', None], ['2 StR 137/14', '20141008'], ['2 StR 337/14', '20141008'], ['2 StR 137/14', None], ['2 StR 337/14', None], ['III ZR 340/51', '19520929'], ['GZ 1/55', '19550706'], ['VI ZR 112/60', '19610516'], ['III ZR 48/63', '19640113'], ['VI ZR 137/63', '19640925'], ['VI ZR 139/63', '19640925'], ['VI ZR 29/92', '19930216'], ['VI ZB 26/05', '20060110'], ['VI ZB 27/05', None], ['VI ZB 28/05', None], ['4 U 165/13', '20140528'], ['0 U 4757/13', '20140411'], ['2 StR 151/98', '19980826'], ['2 StR 503/13', '20140305'], ['3 StR 478/92', '19921030'], ['3 StR 602/98', '19990105'], ['3 StR 325/14', '20140902'], ['4 StR 217/14', '20140618'], ['3 StR 478/92', '19921030'], ['2 StR 232/93', '19930609'], ['1 StR 668/94', '19950207'], ['3 StR 338/95', '19950927'], ['3 StR 346/14', '20140902'], ['VI ZR 201/91', '19921013'], ['VI ZR 182/97', '19980512'], ['III ZR 340/51', '19520929'], ['GZ 1/55', '19550706'], ['III ZR 340/51', '19520929'], ['III ZR 340/51', '19520929']]\n"
     ]
    },
    {
     "data": {
      "text/plain": [
       "['JURE140020475', 'JURE140007283', 'JURE140016147', 'JURE140016149']"
      ]
     },
     "execution_count": 329,
     "metadata": {},
     "output_type": "execute_result"
    }
   ],
   "source": [
    "# test function getCitationMatchesWithDate for JURE140020456 / index 389\n",
    "# 389\n",
    "# special case: 2 az, different date\n",
    "\n",
    "test_list = data_citations_matches.cited_az_gruende_date_converted[389]\n",
    "print(test_list)\n",
    "getCitationMatchesWithDate(test_list, \"JURE140020456\")"
   ]
  },
  {
   "cell_type": "code",
   "execution_count": 330,
   "metadata": {},
   "outputs": [
    {
     "name": "stdout",
     "output_type": "stream",
     "text": [
      "[['1 StR 527/18', '20181108'], ['1 StR 115/04', '20040707'], ['5 StR 50/17', '20180828'], ['2 StR 112/14', '20160324']]\n"
     ]
    },
    {
     "data": {
      "text/plain": [
       "['KORE632172018', 'KORE305562018', 'JURE160008164']"
      ]
     },
     "execution_count": 330,
     "metadata": {},
     "output_type": "execute_result"
    }
   ],
   "source": [
    "# test function getCitationMatchesWithDate for 4906 / KORE624312019\n",
    "# standard case\n",
    "\n",
    "test_list = data_citations_matches.cited_az_gruende_date_converted[4906]\n",
    "print(test_list)\n",
    "getCitationMatchesWithDate(test_list, \"KORE624312019\")"
   ]
  },
  {
   "cell_type": "code",
   "execution_count": 331,
   "metadata": {},
   "outputs": [
    {
     "name": "stdout",
     "output_type": "stream",
     "text": [
      "[['2 BvR 1871/08', None], ['5 StR 482/05', '20060629'], ['2 BvR 527/06', '20060707'], ['1 StR 166/07', '20080530']]\n"
     ]
    },
    {
     "data": {
      "text/plain": [
       "[]"
      ]
     },
     "execution_count": 331,
     "metadata": {},
     "output_type": "execute_result"
    }
   ],
   "source": [
    "# test function getCitationMatchesWithDate for document with index 1043 / JURE100068632\n",
    "# edge case 1: az 1 StR 166/07 exists but with different date\n",
    "\n",
    "test_list = data_citations_matches.cited_az_gruende_date_converted[1043]\n",
    "print(test_list)\n",
    "getCitationMatchesWithDate(test_list, \"JURE100068632\")"
   ]
  },
  {
   "cell_type": "code",
   "execution_count": 332,
   "metadata": {},
   "outputs": [
    {
     "name": "stdout",
     "output_type": "stream",
     "text": [
      "[['1 StR 104/15', '20160906'], ['1 StR 220/09', '20100913'], ['2 StR 111/09', '20100827'], ['2 StR 587/07', '20080829'], ['2 StR 111/09', '20100827'], ['3 StR 90/10', '20100624'], ['2 StR 111/09', '20100827'], ['3 StR 265/14', '20141211'], ['1 StR 540/16', '20170308'], ['1 StR 220/09', '20100913'], ['1 StR 532/12', '20130710'], ['5 StR 119/05', '20051202'], ['4 StR 345/09', '20100202'], ['5 StR 299/03', '20041111'], ['5 StR 299/03', '20041111'], ['3 StR 265/14', '20141211'], ['1 StR 220/09', '20100913'], ['4 StR 571/74', '19750227'], ['5 StR 182/14', '20140702'], ['1 StR 220/09', '20100913'], ['2 BvR 1235/11', '20121101'], ['2 BvR 2559/08', '20100623'], ['2 BvR 1235/11', '20121101'], ['2 BvR 2559/08', '20100623'], ['1 StR 94/10', '20110413'], ['1 StR 220/09', '20100913'], ['2 StR 591/11', '20121010'], ['3 StR 17/15', '20151126'], ['2 StR 111/09', '20100827'], ['1 StR 104/15', '20160906'], ['2 StR 111/09', '20100827'], ['2 StR 587/07', '20080829'], ['2 StR 111/09', '20100827'], ['2 StR 111/09', '20100827'], ['2 StR 587/07', '20080829'], ['4 StR 59/04', '20041028'], ['2 StR 586/12', '20130313'], ['1 StR 642/17', '20180913'], ['5 StR 420/03', '20040205'], ['3 Ws 80/84', '19850306'], ['6 K 385/95', '20041110'], ['3 StR 373/86', '19870128'], ['1 StR 56/17', '20171219'], ['1 StR 265/16', '20170509'], ['1 StR 535/17', '20180122'], ['1 StR 458/10', '20110414'], ['StB 11/91', '19910529'], ['2 StR 587/07', '20080829'], ['5 StR 46/18', '20180704'], ['1 StR 399/14', '20150610'], ['2 StR 587/07', '20080829'], ['1 StR 288/05', '20050920'], ['1 StR 56/17', '20171219']]\n"
     ]
    },
    {
     "data": {
      "text/plain": [
       "['JURE160020707',\n",
       " 'KORE314222010',\n",
       " 'KORE315902010',\n",
       " 'KORE315902010',\n",
       " 'JURE100067750',\n",
       " 'KORE315902010',\n",
       " 'KORE308152015',\n",
       " 'KORE616092017',\n",
       " 'KORE314222010',\n",
       " 'JURE130016956',\n",
       " 'JURE100061287',\n",
       " 'KORE308152015',\n",
       " 'KORE314222010',\n",
       " 'JURE140012263',\n",
       " 'KORE314222010',\n",
       " 'KORE313092011',\n",
       " 'KORE314222010',\n",
       " 'JURE130001127',\n",
       " 'KORE303732016',\n",
       " 'KORE315902010',\n",
       " 'JURE160020707',\n",
       " 'KORE315902010',\n",
       " 'KORE315902010',\n",
       " 'KORE315902010',\n",
       " 'JURE130008400',\n",
       " 'KORE309552018',\n",
       " 'KORE620392018',\n",
       " 'KORE617832017',\n",
       " 'KORE629042018',\n",
       " 'JURE110011820',\n",
       " 'KORE606122018',\n",
       " 'KORE304082015',\n",
       " 'KORE620392018']"
      ]
     },
     "execution_count": 332,
     "metadata": {},
     "output_type": "execute_result"
    }
   ],
   "source": [
    "# test function getCitationMatchesWithDate for document with index 822 / KORE619192019\n",
    "# edge case 2: az 3 StR 17/15 exists twice but with two different dates\n",
    "# (JURE160014078 vs KORE303732016 (= correct))\n",
    "\n",
    "test_list = data_citations_matches.cited_az_gruende_date_converted[822]\n",
    "print(test_list)\n",
    "getCitationMatchesWithDate(test_list, \"KORE619192019\")"
   ]
  },
  {
   "cell_type": "code",
   "execution_count": 333,
   "metadata": {},
   "outputs": [
    {
     "name": "stdout",
     "output_type": "stream",
     "text": [
      "[['1 StR 178/13', '20130506'], ['5 StR 214/18', '20180829'], ['2 StR 150/18', '20180718'], ['1 StR 551/17', '20180109'], ['2 BvR 930/04', '20041209'], ['1 StR 76/17', '20170405'], ['3 StR 417/15', '20160308'], ['3 StR 214/15', '20150820'], ['2 StR 460/16', '20171129'], ['2 StR 214/16', '20161026'], ['1 StR 577/05', '20060317'], ['1 StR 213/04', '20040831'], ['3 StR 214/15', '20150820'], ['3 StR 417/15', '20160308'], ['3 StR 452/18', '20190320'], ['2 StR 376/12', '20121204'], ['2 StR 320/15', '20160420'], ['2 StR 413/13', '20140219'], ['1 StR 239/17', '20180109'], ['2 StR 278/09', '20100519'], ['3 StR 176/80', '19800528']]\n"
     ]
    },
    {
     "data": {
      "text/plain": [
       "['JURE130010202',\n",
       " 'KORE629092018',\n",
       " 'KORE627792018',\n",
       " 'KORE304862018',\n",
       " 'KORE600102017',\n",
       " 'JURE160006718',\n",
       " 'JURE150016039',\n",
       " 'KORE618122018',\n",
       " 'JURE160020031',\n",
       " 'JURE150016039',\n",
       " 'JURE160006718',\n",
       " 'KORE605192019',\n",
       " 'JURE130000272',\n",
       " 'KORE313582016',\n",
       " 'JURE140006565',\n",
       " 'KORE619142018',\n",
       " 'JURE100065079']"
      ]
     },
     "execution_count": 333,
     "metadata": {},
     "output_type": "execute_result"
    }
   ],
   "source": [
    "# test function getCitationMatchesWithDate for document with index 5822 / KORE634712019\n",
    "# edge case 3: az 3 StR 452/18 exists twice with same date\n",
    "# (KORE605192019 vs KORE605182019) --> KORE605192019 is selected because of more citations\n",
    "\n",
    "test_list = data_citations_matches.cited_az_gruende_date_converted[5822]\n",
    "print(test_list)\n",
    "getCitationMatchesWithDate(test_list, \"KORE634712019\")"
   ]
  },
  {
   "cell_type": "code",
   "execution_count": null,
   "metadata": {},
   "outputs": [],
   "source": []
  },
  {
   "cell_type": "code",
   "execution_count": 282,
   "metadata": {},
   "outputs": [],
   "source": [
    "# ALT --> keep to see the difference to new version\n",
    "# apply getCitationMatches on df\n",
    "data_citations_matches[\"matches_gruende_doknr\"] = data_citations_matches[\"cited_az_gruende_date_converted\"].apply(getCitationMatches)"
   ]
  },
  {
   "cell_type": "code",
   "execution_count": 1401,
   "metadata": {},
   "outputs": [],
   "source": [
    "# save\n",
    "data_citations_matches.to_json(\"data/dataframes/df_matches_doknr.json\")"
   ]
  },
  {
   "cell_type": "code",
   "execution_count": 170,
   "metadata": {},
   "outputs": [],
   "source": [
    "# load df\n",
    "df_matches = pd.read_json('data/dataframes/df_matches_doknr.json', orient='columns', encoding='utf-8')"
   ]
  },
  {
   "cell_type": "code",
   "execution_count": 171,
   "metadata": {},
   "outputs": [
    {
     "data": {
      "text/plain": [
       "['JURE130010202',\n",
       " 'KORE629092018',\n",
       " 'KORE627792018',\n",
       " 'KORE304862018',\n",
       " 'KORE600102017',\n",
       " 'JURE160006718',\n",
       " 'JURE150016039',\n",
       " 'KORE618122018',\n",
       " 'JURE160020031',\n",
       " 'JURE150016039',\n",
       " 'JURE160006718',\n",
       " 'KORE605192019',\n",
       " 'JURE130000272',\n",
       " 'KORE313582016',\n",
       " 'JURE140006565',\n",
       " 'KORE619142018',\n",
       " 'JURE100065079']"
      ]
     },
     "execution_count": 171,
     "metadata": {},
     "output_type": "execute_result"
    }
   ],
   "source": [
    "# show example\n",
    "df_matches.matches_gruende_doknr[5822]"
   ]
  },
  {
   "cell_type": "code",
   "execution_count": 172,
   "metadata": {},
   "outputs": [
    {
     "name": "stderr",
     "output_type": "stream",
     "text": [
      "/home/rosa/ba_recommender/recommender_venv/lib/python3.6/site-packages/pandas/core/strings.py:2001: UserWarning: This pattern has match groups. To actually get the groups, use str.extract.\n",
      "  return func(self, *args, **kwargs)\n",
      "/home/rosa/ba_recommender/recommender_venv/lib/python3.6/site-packages/pandas/core/strings.py:2001: UserWarning: This pattern has match groups. To actually get the groups, use str.extract.\n",
      "  return func(self, *args, **kwargs)\n",
      "/home/rosa/ba_recommender/recommender_venv/lib/python3.6/site-packages/pandas/core/strings.py:2001: UserWarning: This pattern has match groups. To actually get the groups, use str.extract.\n",
      "  return func(self, *args, **kwargs)\n",
      "/home/rosa/ba_recommender/recommender_venv/lib/python3.6/site-packages/pandas/core/strings.py:2001: UserWarning: This pattern has match groups. To actually get the groups, use str.extract.\n",
      "  return func(self, *args, **kwargs)\n",
      "/home/rosa/ba_recommender/recommender_venv/lib/python3.6/site-packages/pandas/core/strings.py:2001: UserWarning: This pattern has match groups. To actually get the groups, use str.extract.\n",
      "  return func(self, *args, **kwargs)\n",
      "/home/rosa/ba_recommender/recommender_venv/lib/python3.6/site-packages/pandas/core/strings.py:2001: UserWarning: This pattern has match groups. To actually get the groups, use str.extract.\n",
      "  return func(self, *args, **kwargs)\n",
      "/home/rosa/ba_recommender/recommender_venv/lib/python3.6/site-packages/pandas/core/strings.py:2001: UserWarning: This pattern has match groups. To actually get the groups, use str.extract.\n",
      "  return func(self, *args, **kwargs)\n",
      "/home/rosa/ba_recommender/recommender_venv/lib/python3.6/site-packages/pandas/core/strings.py:2001: UserWarning: This pattern has match groups. To actually get the groups, use str.extract.\n",
      "  return func(self, *args, **kwargs)\n",
      "/home/rosa/ba_recommender/recommender_venv/lib/python3.6/site-packages/pandas/core/strings.py:2001: UserWarning: This pattern has match groups. To actually get the groups, use str.extract.\n",
      "  return func(self, *args, **kwargs)\n",
      "/home/rosa/ba_recommender/recommender_venv/lib/python3.6/site-packages/pandas/core/strings.py:2001: UserWarning: This pattern has match groups. To actually get the groups, use str.extract.\n",
      "  return func(self, *args, **kwargs)\n",
      "/home/rosa/ba_recommender/recommender_venv/lib/python3.6/site-packages/pandas/core/strings.py:2001: UserWarning: This pattern has match groups. To actually get the groups, use str.extract.\n",
      "  return func(self, *args, **kwargs)\n"
     ]
    }
   ],
   "source": [
    "# NEU\n",
    "# apply getCitationMatchesWithDate on df\n",
    "df_matches[\"matches_gruende_doknr_date\"] = df_matches[\"cited_az_gruende_date_converted\"].apply(getCitationMatchesWithDate)"
   ]
  },
  {
   "cell_type": "code",
   "execution_count": 335,
   "metadata": {},
   "outputs": [
    {
     "name": "stderr",
     "output_type": "stream",
     "text": [
      "/home/rosa/ba_recommender/recommender_venv/lib/python3.6/site-packages/pandas/core/strings.py:2001: UserWarning: This pattern has match groups. To actually get the groups, use str.extract.\n",
      "  return func(self, *args, **kwargs)\n",
      "/home/rosa/ba_recommender/recommender_venv/lib/python3.6/site-packages/pandas/core/strings.py:2001: UserWarning: This pattern has match groups. To actually get the groups, use str.extract.\n",
      "  return func(self, *args, **kwargs)\n",
      "/home/rosa/ba_recommender/recommender_venv/lib/python3.6/site-packages/pandas/core/strings.py:2001: UserWarning: This pattern has match groups. To actually get the groups, use str.extract.\n",
      "  return func(self, *args, **kwargs)\n",
      "/home/rosa/ba_recommender/recommender_venv/lib/python3.6/site-packages/pandas/core/strings.py:2001: UserWarning: This pattern has match groups. To actually get the groups, use str.extract.\n",
      "  return func(self, *args, **kwargs)\n",
      "/home/rosa/ba_recommender/recommender_venv/lib/python3.6/site-packages/pandas/core/strings.py:2001: UserWarning: This pattern has match groups. To actually get the groups, use str.extract.\n",
      "  return func(self, *args, **kwargs)\n",
      "/home/rosa/ba_recommender/recommender_venv/lib/python3.6/site-packages/pandas/core/strings.py:2001: UserWarning: This pattern has match groups. To actually get the groups, use str.extract.\n",
      "  return func(self, *args, **kwargs)\n",
      "/home/rosa/ba_recommender/recommender_venv/lib/python3.6/site-packages/pandas/core/strings.py:2001: UserWarning: This pattern has match groups. To actually get the groups, use str.extract.\n",
      "  return func(self, *args, **kwargs)\n",
      "/home/rosa/ba_recommender/recommender_venv/lib/python3.6/site-packages/pandas/core/strings.py:2001: UserWarning: This pattern has match groups. To actually get the groups, use str.extract.\n",
      "  return func(self, *args, **kwargs)\n",
      "/home/rosa/ba_recommender/recommender_venv/lib/python3.6/site-packages/pandas/core/strings.py:2001: UserWarning: This pattern has match groups. To actually get the groups, use str.extract.\n",
      "  return func(self, *args, **kwargs)\n",
      "/home/rosa/ba_recommender/recommender_venv/lib/python3.6/site-packages/pandas/core/strings.py:2001: UserWarning: This pattern has match groups. To actually get the groups, use str.extract.\n",
      "  return func(self, *args, **kwargs)\n",
      "/home/rosa/ba_recommender/recommender_venv/lib/python3.6/site-packages/pandas/core/strings.py:2001: UserWarning: This pattern has match groups. To actually get the groups, use str.extract.\n",
      "  return func(self, *args, **kwargs)\n"
     ]
    }
   ],
   "source": [
    "# NEU 2\n",
    "# apply getCitationMatchesWithDate on df\n",
    "df_matches[\"matches_gruende_doknr_date_2\"] = df_matches.apply(lambda x: getCitationMatchesWithDate(x.cited_az_gruende_date_converted, x.doknr), axis=1)"
   ]
  },
  {
   "cell_type": "code",
   "execution_count": 173,
   "metadata": {},
   "outputs": [],
   "source": [
    "def countMatches(matches: list):\n",
    "    if matches:\n",
    "        amount_matches = len(matches)\n",
    "        return amount_matches\n",
    "    else:\n",
    "        return 0"
   ]
  },
  {
   "cell_type": "code",
   "execution_count": 174,
   "metadata": {},
   "outputs": [],
   "source": [
    "# ALT\n",
    "# apply countMatches on df\n",
    "df_matches[\"amount_matches_gruende\"] = df_matches[\"matches_gruende_doknr\"].apply(countMatches)"
   ]
  },
  {
   "cell_type": "code",
   "execution_count": 176,
   "metadata": {},
   "outputs": [],
   "source": [
    "# NEU \n",
    "# apply countMatches on df\n",
    "df_matches[\"amount_matches_gruende_date\"] = df_matches[\"matches_gruende_doknr_date\"].apply(countMatches)"
   ]
  },
  {
   "cell_type": "code",
   "execution_count": 336,
   "metadata": {},
   "outputs": [],
   "source": [
    "# NEU 2\n",
    "# apply countMatches on df\n",
    "df_matches[\"amount_matches_gruende_date_2\"] = df_matches[\"matches_gruende_doknr_date_2\"].apply(countMatches)"
   ]
  },
  {
   "cell_type": "code",
   "execution_count": 178,
   "metadata": {},
   "outputs": [
    {
     "data": {
      "text/plain": [
       "17438"
      ]
     },
     "execution_count": 178,
     "metadata": {},
     "output_type": "execute_result"
    }
   ],
   "source": [
    "# ALT\n",
    "sum_matches = sum(df_matches.amount_matches_gruende)\n",
    "sum_matches"
   ]
  },
  {
   "cell_type": "code",
   "execution_count": 179,
   "metadata": {},
   "outputs": [
    {
     "data": {
      "text/plain": [
       "17089"
      ]
     },
     "execution_count": 179,
     "metadata": {},
     "output_type": "execute_result"
    }
   ],
   "source": [
    "# NEU\n",
    "sum_matches_date = sum(df_matches.amount_matches_gruende_date)\n",
    "sum_matches_date"
   ]
  },
  {
   "cell_type": "code",
   "execution_count": 337,
   "metadata": {},
   "outputs": [
    {
     "data": {
      "text/plain": [
       "17084"
      ]
     },
     "execution_count": 337,
     "metadata": {},
     "output_type": "execute_result"
    }
   ],
   "source": [
    "# NEU 2\n",
    "sum_matches_date_2 = sum(df_matches.amount_matches_gruende_date_2)\n",
    "sum_matches_date_2"
   ]
  },
  {
   "cell_type": "code",
   "execution_count": 289,
   "metadata": {},
   "outputs": [
    {
     "data": {
      "text/plain": [
       "0.3753578578039908"
      ]
     },
     "execution_count": 289,
     "metadata": {},
     "output_type": "execute_result"
    }
   ],
   "source": [
    "# ALT\n",
    "sum_matches / sum_az\n",
    "# ---> bestätigt Annahme von oben, dass\n",
    "#  37,5% aller aus Zitaten extrahierten Aktenzeichen (Gründe) in Dokumentenmenge auffindbar sind"
   ]
  },
  {
   "cell_type": "code",
   "execution_count": 181,
   "metadata": {},
   "outputs": [
    {
     "data": {
      "text/plain": [
       "0.3678455345803646"
      ]
     },
     "execution_count": 181,
     "metadata": {},
     "output_type": "execute_result"
    }
   ],
   "source": [
    "# NEU\n",
    "sum_matches_date / sum_az\n",
    "#  36,8% aller aus Zitaten extrahierten Aktenzeichen (Gründe) sind in Dokumentenmenge auffindbar"
   ]
  },
  {
   "cell_type": "code",
   "execution_count": 338,
   "metadata": {},
   "outputs": [
    {
     "data": {
      "text/plain": [
       "0.3677379081731494"
      ]
     },
     "execution_count": 338,
     "metadata": {},
     "output_type": "execute_result"
    }
   ],
   "source": [
    "# NEU 2\n",
    "sum_matches_date_2 / sum_az\n",
    "#  36,8% aller aus Zitaten extrahierten Aktenzeichen (Gründe) sind in Dokumentenmenge auffindbar"
   ]
  },
  {
   "cell_type": "code",
   "execution_count": 182,
   "metadata": {},
   "outputs": [
    {
     "data": {
      "text/plain": [
       "0.33089811950890907"
      ]
     },
     "execution_count": 182,
     "metadata": {},
     "output_type": "execute_result"
    }
   ],
   "source": [
    "# ALT\n",
    "sum_matches / sum_citations\n",
    "# ---> bestätigt Annahme von oben, dass\n",
    "# 33% aller aus Gründen extrahierten Zitate Dokumenten in Korpus zuordbar sind"
   ]
  },
  {
   "cell_type": "code",
   "execution_count": 183,
   "metadata": {},
   "outputs": [
    {
     "data": {
      "text/plain": [
       "0.3242756029526177"
      ]
     },
     "execution_count": 183,
     "metadata": {},
     "output_type": "execute_result"
    }
   ],
   "source": [
    "# NEU\n",
    "sum_matches_date / sum_citations\n",
    "\n",
    "# ---> 32,4% aller aus Gründen extrahierten Zitate sind Dokumenten in Korpus zuordbar"
   ]
  },
  {
   "cell_type": "code",
   "execution_count": 339,
   "metadata": {},
   "outputs": [
    {
     "data": {
      "text/plain": [
       "0.32418072449192586"
      ]
     },
     "execution_count": 339,
     "metadata": {},
     "output_type": "execute_result"
    }
   ],
   "source": [
    "# NEU 2\n",
    "sum_matches_date_2 / sum_citations\n",
    "\n",
    "# ---> 32,4% aller aus Gründen extrahierten Zitate sind Dokumenten in Korpus zuordbar"
   ]
  },
  {
   "cell_type": "markdown",
   "metadata": {},
   "source": [
    "### Tenor: Matches finden"
   ]
  },
  {
   "cell_type": "code",
   "execution_count": 291,
   "metadata": {},
   "outputs": [
    {
     "data": {
      "text/plain": [
       "570"
      ]
     },
     "execution_count": 291,
     "metadata": {},
     "output_type": "execute_result"
    }
   ],
   "source": [
    "len(np.where(df_matches.citations_tenor)[0])\n",
    "# --> in 570 Dokumenten werden Rechtsprechungszitate in Tenor gefunden"
   ]
  },
  {
   "cell_type": "code",
   "execution_count": 204,
   "metadata": {},
   "outputs": [
    {
     "data": {
      "text/plain": [
       "1701"
      ]
     },
     "execution_count": 204,
     "metadata": {},
     "output_type": "execute_result"
    }
   ],
   "source": [
    "sum_cit_tenor = sum(amount_citations_in_tenor)\n",
    "sum_cit_tenor\n",
    "# --> insgesamt werden in Tenor 1701 Zitate gefunden"
   ]
  },
  {
   "cell_type": "code",
   "execution_count": 205,
   "metadata": {},
   "outputs": [
    {
     "data": {
      "text/plain": [
       "441"
      ]
     },
     "execution_count": 205,
     "metadata": {},
     "output_type": "execute_result"
    }
   ],
   "source": [
    "len(np.where(df_matches.cited_az_tenor)[0])\n",
    "# --> in 441 Dokumenten werden Aktenzeichen in Zitaten aus Tenor gefunden"
   ]
  },
  {
   "cell_type": "code",
   "execution_count": 206,
   "metadata": {},
   "outputs": [],
   "source": [
    "# apply extractAktenzeichenWithDate on tenor quotes\n",
    "df_matches[\"cited_az_tenor_date\"] = df_matches[\"citations_tenor\"].apply(extractAktenzeichenWithDate)"
   ]
  },
  {
   "cell_type": "code",
   "execution_count": 207,
   "metadata": {},
   "outputs": [],
   "source": [
    "# apply flatAzWithDate on tenor quotes\n",
    "df_matches[\"cited_az_tenor_date_flat\"] = df_matches[\"cited_az_tenor_date\"].apply(flatAzWithDate)"
   ]
  },
  {
   "cell_type": "code",
   "execution_count": 208,
   "metadata": {},
   "outputs": [
    {
     "data": {
      "text/plain": [
       "[('GSSt 1/07', '17. Januar 2008'),\n",
       " ('3 RVs 102/11', '8. Dezember 2011'),\n",
       " ('5 StR 495/08', '27. November 2008'),\n",
       " ('5 StR 330/10', '28. September 2010')]"
      ]
     },
     "execution_count": 208,
     "metadata": {},
     "output_type": "execute_result"
    }
   ],
   "source": [
    "# show example\n",
    "df_matches.cited_az_tenor_date_flat[4794]"
   ]
  },
  {
   "cell_type": "code",
   "execution_count": 209,
   "metadata": {},
   "outputs": [],
   "source": [
    "amount_az_in_tenor = df_matches.cited_az_tenor_date_flat.apply(countAmountAz)"
   ]
  },
  {
   "cell_type": "code",
   "execution_count": 210,
   "metadata": {},
   "outputs": [
    {
     "data": {
      "text/plain": [
       "1484"
      ]
     },
     "execution_count": 210,
     "metadata": {},
     "output_type": "execute_result"
    }
   ],
   "source": [
    "sum_az_tenor = sum(amount_az_in_tenor)\n",
    "sum_az_tenor\n",
    "# ---> insgesamt werden in allen Tenortexten 1484 zitierte Aktenzeichen gefunden"
   ]
  },
  {
   "cell_type": "code",
   "execution_count": 211,
   "metadata": {},
   "outputs": [
    {
     "data": {
      "text/plain": [
       "0.8724279835390947"
      ]
     },
     "execution_count": 211,
     "metadata": {},
     "output_type": "execute_result"
    }
   ],
   "source": [
    "sum_az_tenor/sum_cit_tenor\n",
    "# --> in 87% der Fälle können aus den Zitaten aus Tenortexten Aktenzeichen extrahiert werden"
   ]
  },
  {
   "cell_type": "code",
   "execution_count": 217,
   "metadata": {},
   "outputs": [],
   "source": [
    "# apply date conversion for tenor on cited_az_tenor_date_flat\n",
    "df_matches[\"cited_az_tenor_date_converted\"] = df_matches[\"cited_az_tenor_date_flat\"].apply(convertDateFromCitation)"
   ]
  },
  {
   "cell_type": "code",
   "execution_count": 218,
   "metadata": {},
   "outputs": [],
   "source": [
    "# ALT\n",
    "# get document matches for citations in tenor\n",
    "df_matches[\"matches_tenor_doknr\"] = df_matches[\"cited_az_tenor_date_converted\"].apply(getCitationMatches)"
   ]
  },
  {
   "cell_type": "code",
   "execution_count": 219,
   "metadata": {},
   "outputs": [],
   "source": [
    "# ALT\n",
    "# count matches for tenor\n",
    "df_matches[\"amount_matches_tenor\"] = df_matches[\"matches_tenor_doknr\"].apply(countMatches)"
   ]
  },
  {
   "cell_type": "code",
   "execution_count": 151,
   "metadata": {},
   "outputs": [],
   "source": [
    "# save\n",
    "df_matches.to_json(\"data/dataframes/df_matches_gruende_tenor.json\")"
   ]
  },
  {
   "cell_type": "code",
   "execution_count": 220,
   "metadata": {},
   "outputs": [],
   "source": [
    "# load\n",
    "df_match_t_g = pd.read_json(\"data/dataframes/df_matches_gruende_tenor.json\", orient='columns', encoding='utf-8')"
   ]
  },
  {
   "cell_type": "code",
   "execution_count": 221,
   "metadata": {},
   "outputs": [
    {
     "data": {
      "text/plain": [
       "443"
      ]
     },
     "execution_count": 221,
     "metadata": {},
     "output_type": "execute_result"
    }
   ],
   "source": [
    "# ALT\n",
    "sum_matches_tenor = sum(df_match_t_g.amount_matches_tenor)\n",
    "sum_matches_tenor\n",
    "# --> insgesamt können 443 aller Zitate aus Tenor innerhalb des Korpus zugeordnet werden"
   ]
  },
  {
   "cell_type": "code",
   "execution_count": 222,
   "metadata": {},
   "outputs": [
    {
     "data": {
      "text/plain": [
       "0.260435038212816"
      ]
     },
     "execution_count": 222,
     "metadata": {},
     "output_type": "execute_result"
    }
   ],
   "source": [
    "# ALT\n",
    "sum_matches_tenor/sum_cit_tenor\n",
    "# --> 26% aller Zitate aus Tenor können aufgelöst werden"
   ]
  },
  {
   "cell_type": "code",
   "execution_count": 223,
   "metadata": {},
   "outputs": [
    {
     "data": {
      "text/plain": [
       "0.29851752021563344"
      ]
     },
     "execution_count": 223,
     "metadata": {},
     "output_type": "execute_result"
    }
   ],
   "source": [
    "# ALT\n",
    "sum_matches_tenor/sum_az_tenor\n",
    "# --> knapp 30% aller zitierten Aktenzeichen können innerhalb des Datensatzes Dokumenten zugeordnet werden"
   ]
  },
  {
   "cell_type": "code",
   "execution_count": 224,
   "metadata": {},
   "outputs": [
    {
     "data": {
      "text/plain": [
       "180"
      ]
     },
     "execution_count": 224,
     "metadata": {},
     "output_type": "execute_result"
    }
   ],
   "source": [
    "# ALT\n",
    "len(np.where(df_match_t_g.amount_matches_tenor > 0)[0])\n",
    "# --> für 180 Dokumente können Zitate aus Tenor zugeordnet werden"
   ]
  },
  {
   "cell_type": "code",
   "execution_count": null,
   "metadata": {},
   "outputs": [],
   "source": [
    "# TODO: keep only ALT and NEU 2!!! (Funktion für NEU ist überschrieben..)"
   ]
  },
  {
   "cell_type": "markdown",
   "metadata": {},
   "source": [
    "NEU"
   ]
  },
  {
   "cell_type": "code",
   "execution_count": 225,
   "metadata": {},
   "outputs": [],
   "source": [
    "# NEU\n",
    "# get document matches for citations in tenor, always checking the date\n",
    "df_matches[\"matches_tenor_doknr_date\"] = df_matches[\"cited_az_tenor_date_converted\"].apply(getCitationMatchesWithDate)"
   ]
  },
  {
   "cell_type": "code",
   "execution_count": 226,
   "metadata": {},
   "outputs": [],
   "source": [
    "# NEU\n",
    "# count matches for tenor, always considering date\n",
    "df_matches[\"amount_matches_tenor_date\"] = df_matches[\"matches_tenor_doknr_date\"].apply(countMatches)"
   ]
  },
  {
   "cell_type": "code",
   "execution_count": 227,
   "metadata": {},
   "outputs": [],
   "source": [
    "# save\n",
    "df_matches.to_json(\"data/dataframes/df_matches_gruende_tenor_date.json\")"
   ]
  },
  {
   "cell_type": "code",
   "execution_count": 228,
   "metadata": {},
   "outputs": [
    {
     "data": {
      "text/plain": [
       "423"
      ]
     },
     "execution_count": 228,
     "metadata": {},
     "output_type": "execute_result"
    }
   ],
   "source": [
    "# NEU\n",
    "sum_matches_tenor_date = sum(df_matches.amount_matches_tenor_date)\n",
    "sum_matches_tenor_date\n",
    "# --> insgesamt können 423 aller Zitate aus Tenor innerhalb des Korpus zugeordnet werden"
   ]
  },
  {
   "cell_type": "code",
   "execution_count": 229,
   "metadata": {},
   "outputs": [
    {
     "data": {
      "text/plain": [
       "0.24867724867724866"
      ]
     },
     "execution_count": 229,
     "metadata": {},
     "output_type": "execute_result"
    }
   ],
   "source": [
    "# NEU\n",
    "sum_matches_tenor_date/sum_cit_tenor\n",
    "# --> 24,87% aller Zitate aus Tenor können aufgelöst werden"
   ]
  },
  {
   "cell_type": "code",
   "execution_count": 230,
   "metadata": {},
   "outputs": [
    {
     "data": {
      "text/plain": [
       "0.28504043126684636"
      ]
     },
     "execution_count": 230,
     "metadata": {},
     "output_type": "execute_result"
    }
   ],
   "source": [
    "# NEU\n",
    "sum_matches_tenor_date/sum_az_tenor\n",
    "# --> 28,5% aller zitierten Aktenzeichen können innerhalb des Datensatzes Dokumenten zugeordnet werden"
   ]
  },
  {
   "cell_type": "code",
   "execution_count": 231,
   "metadata": {},
   "outputs": [
    {
     "data": {
      "text/plain": [
       "173"
      ]
     },
     "execution_count": 231,
     "metadata": {},
     "output_type": "execute_result"
    }
   ],
   "source": [
    "# NEU\n",
    "len(np.where(df_matches.amount_matches_tenor_date > 0)[0])\n",
    "# --> für 173 Dokumente können Zitate aus Tenor zugeordnet werden"
   ]
  },
  {
   "cell_type": "markdown",
   "metadata": {},
   "source": [
    "NEU 2"
   ]
  },
  {
   "cell_type": "code",
   "execution_count": 341,
   "metadata": {},
   "outputs": [],
   "source": [
    "# NEU 2\n",
    "# get document matches for citations in tenor, always checking the date\n",
    "df_matches[\"matches_tenor_doknr_date_2\"] = df_matches.apply(lambda x: getCitationMatchesWithDate(x.cited_az_tenor_date_converted, x.doknr), axis=1)"
   ]
  },
  {
   "cell_type": "code",
   "execution_count": 344,
   "metadata": {},
   "outputs": [],
   "source": [
    "# NEU 2\n",
    "# count matches for tenor, always considering date\n",
    "df_matches[\"amount_matches_tenor_date_2\"] = df_matches[\"matches_tenor_doknr_date_2\"].apply(countMatches)"
   ]
  },
  {
   "cell_type": "code",
   "execution_count": 345,
   "metadata": {},
   "outputs": [],
   "source": [
    "# save\n",
    "df_matches.to_json(\"data/dataframes/df_matches_gruende_tenor_date_2.json\")"
   ]
  },
  {
   "cell_type": "code",
   "execution_count": 346,
   "metadata": {},
   "outputs": [
    {
     "data": {
      "text/plain": [
       "423"
      ]
     },
     "execution_count": 346,
     "metadata": {},
     "output_type": "execute_result"
    }
   ],
   "source": [
    "# NEU 2\n",
    "sum_matches_tenor_date_2 = sum(df_matches.amount_matches_tenor_date_2)\n",
    "sum_matches_tenor_date_2\n",
    "# --> insgesamt können 423 aller Zitate aus Tenor innerhalb des Korpus zugeordnet werden"
   ]
  },
  {
   "cell_type": "code",
   "execution_count": 347,
   "metadata": {},
   "outputs": [
    {
     "data": {
      "text/plain": [
       "0.24867724867724866"
      ]
     },
     "execution_count": 347,
     "metadata": {},
     "output_type": "execute_result"
    }
   ],
   "source": [
    "# NEU 2\n",
    "sum_matches_tenor_date_2/sum_cit_tenor\n",
    "# --> 24,87% aller Zitate aus Tenor können aufgelöst werden"
   ]
  },
  {
   "cell_type": "code",
   "execution_count": 348,
   "metadata": {},
   "outputs": [
    {
     "data": {
      "text/plain": [
       "0.28504043126684636"
      ]
     },
     "execution_count": 348,
     "metadata": {},
     "output_type": "execute_result"
    }
   ],
   "source": [
    "# NEU 2\n",
    "sum_matches_tenor_date_2/sum_az_tenor\n",
    "# --> 28,5% aller zitierten Aktenzeichen können innerhalb des Datensatzes Dokumenten zugeordnet werden"
   ]
  },
  {
   "cell_type": "code",
   "execution_count": 349,
   "metadata": {},
   "outputs": [
    {
     "data": {
      "text/plain": [
       "173"
      ]
     },
     "execution_count": 349,
     "metadata": {},
     "output_type": "execute_result"
    }
   ],
   "source": [
    "# NEU 2\n",
    "len(np.where(df_matches.amount_matches_tenor_date_2 > 0)[0])\n",
    "# --> für 173 Dokumente können Zitate aus Tenor zugeordnet werden"
   ]
  },
  {
   "cell_type": "markdown",
   "metadata": {},
   "source": [
    "## APPENDIX 1: Korrektheit der Registerzeichen prüfen.\n",
    "Möglicherweise tauchen in Gruende noch andere Formen von Registerzeichen auf,\n",
    "die bisher nicht beachtet wurden."
   ]
  },
  {
   "cell_type": "code",
   "execution_count": 114,
   "metadata": {},
   "outputs": [],
   "source": [
    "def extractFirstItemsFromTuples(tup_liste: list):\n",
    "    if tup_liste:\n",
    "        ts = []\n",
    "        for item in tup_liste:\n",
    "            ts.append(item[0])\n",
    "        return ts\n",
    "    else:\n",
    "        return None"
   ]
  },
  {
   "cell_type": "code",
   "execution_count": 115,
   "metadata": {},
   "outputs": [],
   "source": [
    "def searchSubstringInList(liste: list, subs: str):\n",
    "    if liste:\n",
    "        return list(filter(lambda x: subs in x, liste))"
   ]
  },
  {
   "cell_type": "code",
   "execution_count": 116,
   "metadata": {},
   "outputs": [],
   "source": [
    "# extract only citations as list (ignore start and end indices in text)\n",
    "citations = data_all_az[\"citations_gruende\"].apply(extractFirstItemsFromTuples)"
   ]
  },
  {
   "cell_type": "markdown",
   "metadata": {},
   "source": [
    "### historische (sehr alte) Aktenzeichen"
   ]
  },
  {
   "cell_type": "code",
   "execution_count": 118,
   "metadata": {},
   "outputs": [],
   "source": [
    "# search all citations for substring \"/21\"\n",
    "cit_wt_21 = citations.apply(lambda x:searchSubstringInList(x,\"/21\"))"
   ]
  },
  {
   "cell_type": "code",
   "execution_count": 119,
   "metadata": {},
   "outputs": [],
   "source": [
    "# remove None\n",
    "c = cit_wt_21.dropna()"
   ]
  },
  {
   "cell_type": "code",
   "execution_count": 122,
   "metadata": {},
   "outputs": [
    {
     "data": {
      "text/plain": [
       "Int64Index([611, 1227, 3677, 4495, 5294], dtype='int64')"
      ]
     },
     "execution_count": 122,
     "metadata": {},
     "output_type": "execute_result"
    }
   ],
   "source": [
    "# remove empty lists\n",
    "c[c.apply(len) > 0].index"
   ]
  },
  {
   "cell_type": "code",
   "execution_count": 157,
   "metadata": {},
   "outputs": [
    {
     "data": {
      "text/plain": [
       "['RG, Urteile vom 16. April 1912 - V 1263/11, RGSt 46, 67, 71 f.',\n",
       " 'vom 10. Mai 1921 - IV 20/21, RGSt 56, 91 f.',\n",
       " 'vom 1. Dezember 1922 - IV 457/22, RGSt 57, 158',\n",
       " 'vom 18. Februar 1926 - II 11/26, RGSt 60, 99 f.',\n",
       " 'BGH, Urteil vom 18. Januar 1963 - 4 StR 385/62, NJW 1963, 1019, 1020 [insoweit in BGHSt 18, 225 nicht abgedruckt ]',\n",
       " 'BGH, Beschlüsse vom 21. Dezember 1988 - 3 StR 460/88, BGHR StPO § 211 neue Tatsachen 1',\n",
       " 'vom 18. August 1993 - 5 StR 469/93, BGHR StPO § 211 neue Tatsachen 2',\n",
       " 'Beschluss vom 3. September 2004 - 2 BvR 2001/02, StV 2005, 196 f.)',\n",
       " 'BGH, Urteil vom 18. Januar 1963 - 4 StR 385/62, NJW 1963, 1019, 1020',\n",
       " 'OLG Frankfurt, Beschluss vom 23. November 2001 - 3 Ws 662/01, NStZ-RR 2002, 78',\n",
       " 'Urteile vom 28. Oktober 1986 - 1 StR 507/86, NStZ 1987, 132, 133',\n",
       " 'vom 12. Januar 1996 - 5 StR 756/94, BGHSt 42, 15, 22',\n",
       " 'vom 19. März 1996 - 1 StR 497/95, NJW 1996, 2239, 2241 [insoweit in BGHSt 42, 86 nicht abgedruckt ]',\n",
       " 'Beschluss vom 11. Juli 2008 - 5 StR 202/08, NStZ 2008, 643',\n",
       " '- Beschlüsse vom 9. November 2005 - 1 StR 447/05, NJW 2006, 707',\n",
       " 'vom 20. Oktober 2014 - 5 StR 176/14, BGHSt 60, 38, 43 f.',\n",
       " 'vom 27. September 2016 - 4 StR 263/16, juris) -',\n",
       " 'BGH, Beschluss vom 17. Juni 1997 - 4 StR 243/97, NStZ 1997, 502 f.',\n",
       " 'BVerfG, Urteil vom 3. März 2004 - 1 BvR 2378/98, 1 BvR 1084/99, NJW 2004, 999, 1007',\n",
       " 'BGH, Beschlüsse vom 4. April 1990 - StB 5/90, BGHSt 36, 396',\n",
       " 'vom 15. Mai 2008 - StB 4 und 5/08, NStZ 2008, 643',\n",
       " 'BGH, Urteile vom 3. Februar 1960 - 2 StR 576/58, BGHSt 14, 137, 139',\n",
       " 'vom 10. Juli 2014 - 3 StR 140/14, NStZ-RR 2014, 318, 319',\n",
       " 'BGH, Urteil vom 18. Januar 1963 - 4 StR 385/62, NJW 1963, 1019, 1020',\n",
       " 'RG, Urteil vom 18. Februar 1926 - II 11/26, RGSt 60, 99 f.',\n",
       " 'BGH, Urteile vom 28. April 1987 - 5 StR 666/86, BGHSt 34, 362',\n",
       " 'vom 27. September 1988 - 1 StR 187/88, BGHR StPO § 136a Abs. 1 Zwang 2',\n",
       " 'vom 8. Oktober 1993 - 2 StR 400/93, BGHSt 39, 335',\n",
       " 'vom 21. Juli 1998 - 5 StR 302/97, BGHSt 44, 129',\n",
       " 'vom 26. Juli 2007 - 3 StR 104/07, BGHSt 52, 11',\n",
       " 'Beschlüsse vom 13. Mai 1996 - GSSt 1/96, BGHSt 42, 139',\n",
       " 'vom 31. März 2011 - 3 StR 400/10, NStZ 2011, 596',\n",
       " 'EGMR, Urteile vom 5. November 2002 - 48539/99, JR 2004, 127',\n",
       " 'vom 10. März 2009 - 4378/02, NJW 2010, 213',\n",
       " 'Urteil vom 21. Juli 1998 (5 StR 302/97, BGHSt 44, 129']"
      ]
     },
     "execution_count": 157,
     "metadata": {},
     "output_type": "execute_result"
    }
   ],
   "source": [
    "citations[611]\n",
    "# bei ganz alten Verfahren aus Reichsgericht-Zeit (vor ca. 100 Jahren) gab es keine Registerzeichen,\n",
    "# sondern AZ beginnen mit römischer Zahl\n",
    "# RG, Urteile vom 16. April 1912 - V 1263/11, RGSt 46, 67, 71 f.',\n",
    "# 'vom 10. Mai 1921 - IV 20/21, RGSt 56, 91 f.',\n",
    "# 'vom 1. Dezember 1922 - IV 457/22, RGSt 57, 158',\n",
    "# 'vom 18. Februar 1926 - II 11/26, RGSt 60, 99 f.',\n",
    "# RG, Urteil vom 18. Februar 1926 - II 11/26, RGSt 60, 99 f."
   ]
  },
  {
   "cell_type": "code",
   "execution_count": 159,
   "metadata": {},
   "outputs": [
    {
     "data": {
      "text/plain": [
       "['RG, Urteil vom 29. September 1884 – Rep. 1763/84, RGSt 11, 103, 104',\n",
       " 'RG, Urteil vom 18. Juni 1920 – II 476/20, RGSt 55, 44',\n",
       " 'RG, Urteil vom 29. September 1884 – Rep. 1763/84, RGSt 11, 103, 104',\n",
       " 'RG, Urteil vom 9. November 1891 – Rep. 2638/91, RGSt 22, 213, 216',\n",
       " 'RG, Urteil vom 9. November 1891 – Rep. 2638/91, RGSt 22, 213, 216',\n",
       " 'Urteil vom 8. April 1892 – Rep. 822/92, RGSt 23, 47, 48',\n",
       " 'Urteil vom 1. Februar 1921 – II 899/20, RGSt 55, 228, 229',\n",
       " 'Urteil vom 19. April 1921 – IV 483/21, RGSt 56, 35 f.',\n",
       " 'Urteil vom 4. Januar 1923 – II 538/22, RGSt 57, 174 f.',\n",
       " 'RG, Urteil vom 30. April 1919 – III 156/19, RGSt 53, 231, 232',\n",
       " 'Beschluss vom 2. Mai 1934 – 1 D 1096/33 (RGSt 68, 257, 259 ff.)',\n",
       " 'RG, Urteil vom 12. November 1931 – 2 D 1078/31',\n",
       " 'BGH, Urteil vom 19. April 1951 – 3 StR 165/51, BGHSt 1, 127, 128',\n",
       " 'Urteil vom 21. Juni 1951 – 4 StR 26/51, BGHSt 1, 275, 276',\n",
       " 'BGH, Beschluss vom 15. Oktober 1956 – GSSt 2/56, BGHSt 9, 390, 392 ff. mit Anm. Dreher, MDR 1957, 179 f.',\n",
       " 'BGH, Urteil vom 11. November 1966 – 4 StR 387/66, BGHSt 21, 152, 153',\n",
       " 'BGH, Urteil vom 12. September 1951 – 4 StR 533/51, BGHSt 1, 302, 304',\n",
       " 'Urteil vom 2. Oktober 1951 – 1 StR 353/51, BGHSt 1, 327, 328',\n",
       " 'Urteil vom 16. April 1953 – 4 StR 377/52, BGHSt 4, 128, 129',\n",
       " 'Urteil vom 4. Dezember 1958 – 4 StR 411/58, BGHSt 12, 386, 388',\n",
       " 'Urteil vom 4. Dezember 1958 – 4 StR 411/58, BGHSt 12, 386, 388)',\n",
       " 'BGH, Urteil vom 12. Januar 1954 – 1 StR 631/53, BGHSt 5, 280, 281',\n",
       " 'Senat, Urteil vom 21. Oktober 1970 – 2 StR 316/70, BGHSt 23, 360 f.',\n",
       " 'BGH, Urteil vom 20. Februar 1974 – 3 StR 1/74, NJW 1974, 804, 805',\n",
       " 'Senat, Urteil vom 30. Juni 1960 – 2 StR 275/60, BGHSt 15, 63, 64 ff.)',\n",
       " 'Senat, Urteil vom 26. Juli 1961 – 2 StR 190/61, BGHSt 16, 184, 186 f.',\n",
       " 'BGH, Urteil vom 17. Oktober 1957 – 4 StR 73/57, BGHSt 11, 26, 28',\n",
       " 'BGH, Urteil vom 15. Mai 1973 – 4 StR 172/73, BGHSt 25, 182, 183 f. mit Anm. Hruschka, NJW 1973, 1804 ff.',\n",
       " 'BGH, Urteil vom 11. November 1966 – 4 StR 387/66, BGHSt 21, 152, 154',\n",
       " 'Senat, Beschluss vom 11. November 1987 – 2 StR 506/87, BGHSt 35, 86, 88',\n",
       " 'BGH, Urteil vom 29. März 1990 – 4 StR 681/89, BGHR StGB vor § 1 Wahlfeststellung, Postpendenz 4',\n",
       " 'Beschluss vom 28. Januar 2014 – 2 StR 495/12 (StV 2014, 580 ff.',\n",
       " 'BGH, Beschluss vom 24. Juni 2014 – 1 ARs 14/14, NStZ-RR 2014, 308 f.',\n",
       " 'Beschluss vom 30. September 2014 – 3 ARs 13/14, NStZ-RR 2015, 39 f.',\n",
       " 'Beschluss vom 11. September 2014 – 4 ARs 12/14, NStZ-RR 2015, 40 f.',\n",
       " 'Beschluss vom 16. Juli 2014 – 5 ARs 39/14, NStZ-RR 2014, 307 f.',\n",
       " 'Urteil vom 16. August 2016 – 5 StR 182/16 – (NJW 2016, 3317 f., für BGHSt bestimmt)',\n",
       " 'BGH, Beschluss vom 15. Juli 2016 – GSSt 1/16 Rn.',\n",
       " 'BVerfG, Beschluss vom 23. Juli 1968 – 2 BvL 15/68, BVerfGE 25, 269, 288',\n",
       " 'BVerfG, Beschluss vom 7. Dezember 2011 – 2 BvR 2500/09, 1857/10, BVerfGE 130, 1, 43',\n",
       " 'BVerfG, Beschluss vom 23. Juni 2010 – 2 BvR 2559/08, 105, 491/09, BVerfGE 126, 170, 194',\n",
       " 'BVerfGE 126, 170, 197',\n",
       " 'BVerfGE 126, 170, 198',\n",
       " 'BVerfG, Beschluss vom 23. Juli 1968 – 2 BvL 15/68, BVerfGE 25, 269, 286',\n",
       " 'Urteil vom 20. März 2002 – 2 BvR 794/95, BVerfGE 105, 135, 153 f.',\n",
       " 'RGSt 22, 213, 216)',\n",
       " 'BVerfG, Beschluss vom 23. Juni 2010 – 2 BvR 2559/08, 105, 491/09, BVerfGE 126, 170, 198',\n",
       " 'BGH, Beschluss vom 15. Oktober 1956 – GSSt 2/56, BGHSt 9, 390, 394',\n",
       " 'BVerfG, Beschluss vom 23. Juli 1968 – 2 BvL 15/68, BVerfGE 25, 269, 294',\n",
       " 'BVerfG, Beschluss vom 23. Juni 2010 – 2 BvR 2559/08, 105, 491/09, BVerfGE 126, 170, 198',\n",
       " 'BGH, Beschluss vom 31. Januar 2007 – 3 StB 18/06, BGHSt 51, 211, 218 f.',\n",
       " 'BVerfG, Beschluss vom 23. Juli 1968 – 2 BvL 15/68, BVerfGE 25, 269, 286',\n",
       " 'BVerfG, Beschluss vom 9. Juli 1997 – 2 BvR 1371/96, BVerfGE 96, 245, 289',\n",
       " 'BVerfG, Urteil vom 21. März 1961 – 2 BvR 27/60, BVerfGE 12, 296, 302',\n",
       " 'Beschluss vom 20. Dezember 2002 – StB 15/02, BGHSt 48, 153, 156',\n",
       " 'BGH, Urteil vom 8. Mai 2008 – 3 StR 53/98, NStZ 2008, 646',\n",
       " 'BVerfG, Urteil vom 20. März 2002 – 2 BvR 794/95, BVerfGE 105, 135, 153',\n",
       " 'BVerfG, Beschluss vom 6. Juli 2010 – 2 BvR 2661/06, BVerfGE 126, 286, 306',\n",
       " 'BVerfG, Urteil vom 20. März 2002 – 2 BvR 794/95, BVerfGE 105, 135, 153',\n",
       " 'BVerfG, Urteil vom 19. März 2013 – 2 BvR 2628, 2883/10, 2155/11, BVerfGE 133, 168, 197 f.',\n",
       " 'BVerfGE 133, 168, 199',\n",
       " 'BVerfGE 133, 168, 202',\n",
       " 'BVerfG, Beschluss vom 12. April 1983 – 2 BvR 1304/80 und 432/81, BVerfGE 63, 380, 392',\n",
       " 'Kotsoglou, ZStW 127 [2015], 334, 348 ff.',\n",
       " 'BVerfG, Beschluss vom 8. April 1998 – 1 BvR 1773/96, BVerfGE 98, 49, 59 f.',\n",
       " 'BVerfG, Beschluss vom 3. April 1990 – 1 BvR 1186/89, BVerfGE 82, 6, 12',\n",
       " 'BGH, Urteil vom 4. Februar 2010 – 1 StR 95/09, BGHSt 55, 36, 48 ff.',\n",
       " 'BGH, Urteil vom 17. Juli 1997 – 1 StR 791/96, BGHSt 43, 158, 165',\n",
       " 'Urteil vom 28. Januar 2003 – 1 StR 393/02, BGHR StGB § 261 Vortat 1',\n",
       " 'Beschluss vom 21. Januar 2016 – 4 StR 384/15, NStZ 2016, 538 f.',\n",
       " 'BGH, Beschluss vom 21. Januar 2016 – 4 StR 384/15, NStZ 2016, 538 f.',\n",
       " 'BGH, Urteil vom 24. Juni 2008 – 5 StR 89/08, NJW 2008, 2516, 2517',\n",
       " 'BGH, Urteil vom 24. Januar 2005 – 1 StR 357/05, BGHSt 50, 347, 356',\n",
       " 'BGH, Urteil vom 20. September 2000 – 5 StR 252/00, StV 2000, 680, 681',\n",
       " 'BGH, Beschluss vom 18. Februar 2009 – 1 StR 4/09, BGHSt 53, 205, 207']"
      ]
     },
     "execution_count": 159,
     "metadata": {},
     "output_type": "execute_result"
    }
   ],
   "source": [
    "citations[3677]\n",
    "\n",
    "# 'RG, Urteil vom 29. September 1884 – Rep. 1763/84, RGSt 11, 103, 104', --> Rep. --> 19tes Jh.!!\n",
    "# 'RG, Urteil vom 18. Juni 1920 – II 476/20, RGSt 55, 44',\n",
    "# 'RG, Urteil vom 29. September 1884 – Rep. 1763/84, RGSt 11, 103, 104',\n",
    "# 'RG, Urteil vom 9. November 1891 – Rep. 2638/91, RGSt 22, 213, 216',\n",
    "# 'RG, Urteil vom 9. November 1891 – Rep. 2638/91, RGSt 22, 213, 216',\n",
    "# 'Urteil vom 8. April 1892 – Rep. 822/92, RGSt 23, 47, 48',\n",
    "# 'Urteil vom 1. Februar 1921 – II 899/20, RGSt 55, 228, 229',\n",
    "# 'Urteil vom 19. April 1921 – IV 483/21, RGSt 56, 35 f.',\n",
    "# 'Urteil vom 4. Januar 1923 – II 538/22, RGSt 57, 174 f.',\n",
    "# 'RG, Urteil vom 30. April 1919 – III 156/19, RGSt 53, 231, 232',\n",
    "# 'Beschluss vom 2. Mai 1934 – 1 D 1096/33 (RGSt 68, 257, 259 ff.)', --> 1 D --> 1930er\n",
    "# 'RG, Urteil vom 12. November 1931 – 2 D 1078/31', --> 2 D"
   ]
  },
  {
   "cell_type": "markdown",
   "metadata": {},
   "source": [
    "### APPENDIX 2: Übersetzung von römisch zu arabisch notwendig für Abbildung? "
   ]
  },
  {
   "cell_type": "markdown",
   "metadata": {},
   "source": [
    "1. Enthalten az auch römische Ziffern?"
   ]
  },
  {
   "cell_type": "code",
   "execution_count": 123,
   "metadata": {},
   "outputs": [
    {
     "data": {
      "text/plain": [
       "(array([], dtype=int64),)"
      ]
     },
     "execution_count": 123,
     "metadata": {},
     "output_type": "execute_result"
    }
   ],
   "source": [
    "np.where(data_all_az.az.str.contains(\"X\"))\n",
    "# --> nein (alle röm. Ziffern wie I, V, X geprüft)"
   ]
  },
  {
   "cell_type": "code",
   "execution_count": 124,
   "metadata": {},
   "outputs": [],
   "source": [
    "def findSubstringInList(substring: str, strings: list):\n",
    "    if strings:\n",
    "        # flatten\n",
    "        flat_list = [item for sublist in strings for item in sublist]\n",
    "        strings_with_substring = [string for string in flat_list if substring in string]\n",
    "        return len(strings_with_substring) > 0"
   ]
  },
  {
   "cell_type": "code",
   "execution_count": 125,
   "metadata": {},
   "outputs": [],
   "source": [
    "rom_digits = data_all_az.cited_az_gruende.apply(lambda x: findSubstringInList(\"I\", x))"
   ]
  },
  {
   "cell_type": "code",
   "execution_count": 126,
   "metadata": {},
   "outputs": [
    {
     "data": {
      "text/plain": [
       "(array([  72,  148,  161,  195,  227,  244,  262,  268,  273,  282,  302,\n",
       "         328,  334,  359,  388,  389,  434,  461,  513,  518,  528,  536,\n",
       "         538,  553,  562,  572,  575,  594,  598,  601,  607,  609,  611,\n",
       "         623,  638,  686,  694,  719,  729,  738,  790,  801,  831,  859,\n",
       "         863,  874,  936,  944,  958,  992, 1074, 1089, 1115, 1126, 1128,\n",
       "        1129, 1157, 1176, 1230, 1250, 1303, 1306, 1330, 1374, 1402, 1443,\n",
       "        1447, 1468, 1473, 1481, 1496, 1532, 1544, 1570, 1580, 1586, 1591,\n",
       "        1595, 1597, 1599, 1607, 1620, 1623, 1646, 1648, 1650, 1653, 1663,\n",
       "        1692, 1770, 1776, 1782, 1789, 1797, 1857, 1863, 1871, 1897, 1915,\n",
       "        1922, 1930, 1962, 1971, 1980, 1987, 1995, 2022, 2044, 2064, 2095,\n",
       "        2135, 2154, 2197, 2254, 2261, 2273, 2277, 2305, 2314, 2321, 2335,\n",
       "        2376, 2389, 2429, 2432, 2463, 2468, 2470, 2509, 2548, 2561, 2568,\n",
       "        2576, 2585, 2586, 2587, 2588, 2595, 2599, 2604, 2608, 2610, 2623,\n",
       "        2629, 2640, 2642, 2651, 2664, 2672, 2689, 2699, 2721, 2755, 2764,\n",
       "        2786, 2791, 2824, 2854, 2876, 2886, 2895, 2926, 2997, 3012, 3059,\n",
       "        3079, 3216, 3242, 3375, 3395, 3466, 3516, 3520, 3529, 3545, 3555,\n",
       "        3564, 3568, 3569, 3570, 3574, 3591, 3628, 3632, 3634, 3645, 3650,\n",
       "        3656, 3661, 3670, 3677, 3698, 3740, 3782, 3790, 3864, 3878, 3931,\n",
       "        3941, 3949, 3953, 3957, 3987, 4233, 4250, 4290, 4327, 4336, 4348,\n",
       "        4356, 4397, 4422, 4425, 4441, 4458, 4487, 4495, 4513, 4515, 4544,\n",
       "        4555, 4564, 4584, 4609, 4627, 4632, 4641, 4652, 4661, 4666, 4673,\n",
       "        4677, 4679, 4692, 4703, 4738, 4742, 4757, 4768, 4784, 4795, 4807,\n",
       "        4812, 4816, 4830, 4856, 4887, 4933, 4961, 4980, 4992, 5075, 5154,\n",
       "        5190, 5222, 5294, 5339, 5428, 5452, 5453, 5475, 5476, 5488, 5489,\n",
       "        5494, 5499, 5503, 5508, 5515, 5517, 5518, 5520, 5524, 5558, 5596,\n",
       "        5605, 5610, 5611, 5618, 5628, 5637, 5638, 5643, 5657, 5674, 5705,\n",
       "        5707, 5761, 5762, 5784, 5799, 5801, 5815]),)"
      ]
     },
     "execution_count": 126,
     "metadata": {},
     "output_type": "execute_result"
    }
   ],
   "source": [
    "np.where(rom_digits)"
   ]
  },
  {
   "cell_type": "code",
   "execution_count": 127,
   "metadata": {},
   "outputs": [
    {
     "data": {
      "text/plain": [
       "[['1 StR 111/18'],\n",
       " ['1 StR 346/18'],\n",
       " ['1 StR 94/13'],\n",
       " ['1 StR 577/12'],\n",
       " ['1 StR 199/10'],\n",
       " ['1 StR 346/18'],\n",
       " ['1 StR 296/12'],\n",
       " ['VI R 77/12'],\n",
       " ['VI R 122/87'],\n",
       " [' I 301/87'],\n",
       " ['1 StR 76/15'],\n",
       " ['1 StR 346/18'],\n",
       " ['3 StR 344/03'],\n",
       " ['5 StR 477/17'],\n",
       " ['1 StR 186/18'],\n",
       " ['3 StR 620/17'],\n",
       " ['5 StR 335/17'],\n",
       " ['4 StR 134/15'],\n",
       " ['1 StR 416/08'],\n",
       " ['1 StR 199/10'],\n",
       " ['5 StR 547/14'],\n",
       " ['1 StR 458/10'],\n",
       " ['2 StR 91/09'],\n",
       " ['2 StR 252/89'],\n",
       " ['2 StR 91/09'],\n",
       " ['5 StR 405/13'],\n",
       " ['5 StR 136/14'],\n",
       " ['IV R 989/08'],\n",
       " ['4 StR 27/51'],\n",
       " ['1 RVs 210/16'],\n",
       " ['5 StR 394/08'],\n",
       " ['VII ZR 239/98'],\n",
       " ['VI ZR 363/12'],\n",
       " ['VI ZR 138/14'],\n",
       " ['1 Ws 167/07'],\n",
       " ['4 StR 27/51'],\n",
       " ['1 RVs 210/16'],\n",
       " ['3 StR 270/18'],\n",
       " ['2 StR 591/11'],\n",
       " [' RR 246/09'],\n",
       " ['V B 108/01'],\n",
       " ['XI B 81/17'],\n",
       " ['V R 25/10'],\n",
       " ['V R 60/03'],\n",
       " ['V R 22/02'],\n",
       " ['1 StR 422/13'],\n",
       " ['V B 108/01'],\n",
       " ['V R 60/03'],\n",
       " ['V R 22/02'],\n",
       " ['XI B 81/17'],\n",
       " ['V B 108/01'],\n",
       " ['V R 25/10'],\n",
       " ['V R 60/03'],\n",
       " ['V R 22/02'],\n",
       " ['1 StR 422/13'],\n",
       " ['1 StR 29/14'],\n",
       " ['1 StR 642/17'],\n",
       " ['1 StR 220/09'],\n",
       " ['5 StR 547/07'],\n",
       " ['1 StR 265/18'],\n",
       " ['1 StR 331/17'],\n",
       " ['1 StR 38/11'],\n",
       " ['1 RVs 210/16'],\n",
       " ['3 Ss 119/19'],\n",
       " ['7 M 2/06'],\n",
       " ['1 RVs 210/16'],\n",
       " ['3 Ss 119/19'],\n",
       " ['7 M 2/06'],\n",
       " ['1 StR 701/96'],\n",
       " ['3 StR 7/19'],\n",
       " ['2 StR 481/17'],\n",
       " [' GSSt 1/92'],\n",
       " ['4 StR 768/94'],\n",
       " [' GSSt 1/92'],\n",
       " ['3 StR 7/19'],\n",
       " ['2 StR 608/13'],\n",
       " ['3 StR 7/19'],\n",
       " ['3 StR 7/19'],\n",
       " ['7 M 2/06'],\n",
       " ['2 StR 178/51'],\n",
       " ['5 StR 64/06'],\n",
       " ['3 StR 398/55'],\n",
       " ['5 StR 394/08'],\n",
       " ['3 StR 84/18'],\n",
       " ['3 StR 7/19']]"
      ]
     },
     "execution_count": 127,
     "metadata": {},
     "output_type": "execute_result"
    }
   ],
   "source": [
    "data_all_az.cited_az_gruende[5707]\n",
    "# ---> röm. nur in Kontext von Registerzeichen, die sowieso nicht in Korpus enthalten sind..!\n",
    "# z.B. 'VIII R 2/02'\n",
    "# VII ZB 6/05\n",
    "# XII ZR 103/07\n",
    "# ' III. 841/31'\n",
    "# XI B 81/17"
   ]
  }
 ],
 "metadata": {
  "kernelspec": {
   "display_name": "Python 3",
   "language": "python",
   "name": "python3"
  },
  "language_info": {
   "codemirror_mode": {
    "name": "ipython",
    "version": 3
   },
   "file_extension": ".py",
   "mimetype": "text/x-python",
   "name": "python",
   "nbconvert_exporter": "python",
   "pygments_lexer": "ipython3",
   "version": "3.6.9"
  }
 },
 "nbformat": 4,
 "nbformat_minor": 4
}
