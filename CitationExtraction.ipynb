{
 "cells": [
  {
   "cell_type": "markdown",
   "metadata": {},
   "source": [
    "# Citation Extraction\n",
    "- Extrahiert Rechtsprechungszitate aus Gründe- sowie Tenor-Texten\n",
    "- Exploriert und analysiert die Resulate\n",
    "- Bildet Zitate auf Dokumente ab"
   ]
  },
  {
   "cell_type": "code",
   "execution_count": 1,
   "metadata": {},
   "outputs": [],
   "source": [
    "import pandas as pd\n",
    "import numpy as np\n",
    "import re\n",
    "import matplotlib.pyplot as plt\n",
    "import seaborn as sns\n",
    "import datetime\n",
    "import collections, functools, operator \n",
    "\n",
    "# import script extract_rs_citations.py\n",
    "from scripts import extract_rs_citations"
   ]
  },
  {
   "cell_type": "code",
   "execution_count": 2,
   "metadata": {},
   "outputs": [],
   "source": [
    "# load dataframe from DataAnalysis\n",
    "data = pd.read_json('data/dataframes/df.json', orient='columns', encoding='utf-8')"
   ]
  },
  {
   "cell_type": "code",
   "execution_count": 3,
   "metadata": {},
   "outputs": [
    {
     "data": {
      "text/html": [
       "<div>\n",
       "<style scoped>\n",
       "    .dataframe tbody tr th:only-of-type {\n",
       "        vertical-align: middle;\n",
       "    }\n",
       "\n",
       "    .dataframe tbody tr th {\n",
       "        vertical-align: top;\n",
       "    }\n",
       "\n",
       "    .dataframe thead th {\n",
       "        text-align: right;\n",
       "    }\n",
       "</style>\n",
       "<table border=\"1\" class=\"dataframe\">\n",
       "  <thead>\n",
       "    <tr style=\"text-align: right;\">\n",
       "      <th></th>\n",
       "      <th>az</th>\n",
       "      <th>datum</th>\n",
       "      <th>doknr</th>\n",
       "      <th>gertyp</th>\n",
       "      <th>spruchkoerper</th>\n",
       "      <th>doktyp</th>\n",
       "      <th>titel</th>\n",
       "      <th>tenor</th>\n",
       "      <th>gruende</th>\n",
       "    </tr>\n",
       "  </thead>\n",
       "  <tbody>\n",
       "    <tr>\n",
       "      <th>3048</th>\n",
       "      <td>1 StR 217/10</td>\n",
       "      <td>1282867200000</td>\n",
       "      <td>JURE100070231</td>\n",
       "      <td>BGH</td>\n",
       "      <td>1. Strafsenat</td>\n",
       "      <td>Beschluss</td>\n",
       "      <td>Gewerbsmäßiger Schmuggel: Strafbarkeit des Kom...</td>\n",
       "      <td>Die Revision des Angeklagten gegen das Urteil ...</td>\n",
       "      <td></td>\n",
       "    </tr>\n",
       "    <tr>\n",
       "      <th>4378</th>\n",
       "      <td>2 StR 175/14</td>\n",
       "      <td>1404777600000</td>\n",
       "      <td>JURE140014095</td>\n",
       "      <td>BGH</td>\n",
       "      <td>2. Strafsenat</td>\n",
       "      <td>Beschluss</td>\n",
       "      <td>Strafverfahren wegen schweren sexuellen Missbr...</td>\n",
       "      <td>1. Auf die Revision des Angeklagten wird das U...</td>\n",
       "      <td>Das Landgericht hat den Angeklagten wegen schw...</td>\n",
       "    </tr>\n",
       "    <tr>\n",
       "      <th>3926</th>\n",
       "      <td>1 StR 688/18</td>\n",
       "      <td>1557360000000</td>\n",
       "      <td>KORE627762019</td>\n",
       "      <td>BGH</td>\n",
       "      <td>1. Strafsenat</td>\n",
       "      <td>Urteil</td>\n",
       "      <td>Gerichtliche Hinweispflicht auf eine geänderte...</td>\n",
       "      <td>1. Auf die Revision des Angeklagten wird das U...</td>\n",
       "      <td>Das Landgericht hat den Angeklagten wegen sexu...</td>\n",
       "    </tr>\n",
       "  </tbody>\n",
       "</table>\n",
       "</div>"
      ],
      "text/plain": [
       "                az          datum          doknr gertyp  spruchkoerper  \\\n",
       "3048  1 StR 217/10  1282867200000  JURE100070231    BGH  1. Strafsenat   \n",
       "4378  2 StR 175/14  1404777600000  JURE140014095    BGH  2. Strafsenat   \n",
       "3926  1 StR 688/18  1557360000000  KORE627762019    BGH  1. Strafsenat   \n",
       "\n",
       "         doktyp                                              titel  \\\n",
       "3048  Beschluss  Gewerbsmäßiger Schmuggel: Strafbarkeit des Kom...   \n",
       "4378  Beschluss  Strafverfahren wegen schweren sexuellen Missbr...   \n",
       "3926     Urteil  Gerichtliche Hinweispflicht auf eine geänderte...   \n",
       "\n",
       "                                                  tenor  \\\n",
       "3048  Die Revision des Angeklagten gegen das Urteil ...   \n",
       "4378  1. Auf die Revision des Angeklagten wird das U...   \n",
       "3926  1. Auf die Revision des Angeklagten wird das U...   \n",
       "\n",
       "                                                gruende  \n",
       "3048                                                     \n",
       "4378  Das Landgericht hat den Angeklagten wegen schw...  \n",
       "3926  Das Landgericht hat den Angeklagten wegen sexu...  "
      ]
     },
     "execution_count": 3,
     "metadata": {},
     "output_type": "execute_result"
    }
   ],
   "source": [
    "# show sample from data\n",
    "data.sample(3)"
   ]
  },
  {
   "cell_type": "markdown",
   "metadata": {},
   "source": [
    "# Extrahieren"
   ]
  },
  {
   "cell_type": "code",
   "execution_count": 4,
   "metadata": {},
   "outputs": [],
   "source": [
    "# integrate imported script extract_rs_citations.py from scripts\n",
    "\n",
    "def extract_citations(text):\n",
    "    return extract_rs_citations.extract_annotations_from_text(text)    "
   ]
  },
  {
   "cell_type": "markdown",
   "metadata": {},
   "source": [
    "### Zitate in Gruende suchen"
   ]
  },
  {
   "cell_type": "code",
   "execution_count": 8,
   "metadata": {},
   "outputs": [],
   "source": [
    "# takes a while; better load results directly from below\n",
    "data[\"citations_gruende\"] = data[\"gruende\"].apply(extract_citations)"
   ]
  },
  {
   "cell_type": "markdown",
   "metadata": {},
   "source": [
    "#### <span style='background:pink'>Save dataframe with new column citations_gruende to json file:"
   ]
  },
  {
   "cell_type": "code",
   "execution_count": null,
   "metadata": {},
   "outputs": [],
   "source": [
    "# data.to_json(\"data/dataframes/df_citations_gruende.json\")"
   ]
  },
  {
   "cell_type": "markdown",
   "metadata": {},
   "source": [
    "#### <span style='background:lightgreen'>Read df_citations_gruende from json:"
   ]
  },
  {
   "cell_type": "code",
   "execution_count": 3,
   "metadata": {},
   "outputs": [],
   "source": [
    "# read df from json\n",
    "data_citations_gruende = pd.read_json('data/dataframes/df_citations_gruende.json', orient='columns', encoding='utf-8')"
   ]
  },
  {
   "cell_type": "code",
   "execution_count": 6,
   "metadata": {},
   "outputs": [
    {
     "data": {
      "text/plain": [
       "[['BGH, Beschluss vom 9. Oktober 2007 - 5 StR 374/07', 1749, 1798],\n",
       " ['BGH, Beschluss vom 26. August 2009 - 2 StR 302/09', 2232, 2281],\n",
       " ['BGH, Beschluss vom 25. Februar 2009 - 5 StR 22/09', 3122, 3171],\n",
       " ['Senatsbeschluss vom 8. April 2008 - 4 StR 21/08', 3580, 3627],\n",
       " ['Senatsbeschluss vom 16. Dezember 2008 - 4 StR 552/08, NStZ-RR 2009, 105',\n",
       "  3734,\n",
       "  3805]]"
      ]
     },
     "execution_count": 6,
     "metadata": {},
     "output_type": "execute_result"
    }
   ],
   "source": [
    "# display example (with index 7)\n",
    "data_citations_gruende.iloc[7].citations_gruende"
   ]
  },
  {
   "cell_type": "code",
   "execution_count": 7,
   "metadata": {},
   "outputs": [
    {
     "data": {
      "text/plain": [
       "[['BGH, Beschluss vom 22. November 2011 - 4 StR 522/11, NZV 2012, 249',\n",
       "  3721,\n",
       "  3787],\n",
       " ['Urteil vom 30. März 1995 - 4 StR 725/94, NJW 1995, 3131, 3132', 3789, 3850],\n",
       " ['BGH, Beschluss vom 2. Juli 2013 - 4 StR 187/13, NStZ-RR 2013, 320, 321',\n",
       "  4355,\n",
       "  4425],\n",
       " ['Beschluss vom 29. April 2008 - 4 StR 617/07, NStZ-RR 2008, 289',\n",
       "  4427,\n",
       "  4489],\n",
       " ['BGH, Beschluss vom 28. September 2010 - 4 StR 245/10, NStZ 2011, 215, 216',\n",
       "  4973,\n",
       "  5046],\n",
       " ['Beschluss vom 29. April 2008 - 4 StR 617/07, NStZ-RR 2008, 289',\n",
       "  5048,\n",
       "  5110]]"
      ]
     },
     "execution_count": 7,
     "metadata": {},
     "output_type": "execute_result"
    }
   ],
   "source": [
    "# display example (index 783)\n",
    "data_citations_gruende.iloc[783].citations_gruende"
   ]
  },
  {
   "cell_type": "markdown",
   "metadata": {},
   "source": [
    "### <span style='background:yellow'> Evaluation der Zitatextraktion in Notebook [EvaluationCitationExtraction](https://github.com/rosaba/legal-decisions-recommender/blob/master/EvaluationCitationExtraction.ipynb)"
   ]
  },
  {
   "cell_type": "markdown",
   "metadata": {},
   "source": [
    "### Wie viele Zitate gibt es pro (Gruende-)Text?"
   ]
  },
  {
   "cell_type": "code",
   "execution_count": 4,
   "metadata": {},
   "outputs": [],
   "source": [
    "def getAmountCitations(cit_list: list):\n",
    "    if cit_list:\n",
    "        return len(cit_list)\n",
    "    else:\n",
    "        return 0"
   ]
  },
  {
   "cell_type": "code",
   "execution_count": 5,
   "metadata": {},
   "outputs": [],
   "source": [
    "amount_citations_in_gruende = data_citations_gruende[\"citations_gruende\"].apply(getAmountCitations)"
   ]
  },
  {
   "cell_type": "code",
   "execution_count": 6,
   "metadata": {},
   "outputs": [
    {
     "data": {
      "text/plain": [
       "0     3\n",
       "1     1\n",
       "2     0\n",
       "3     3\n",
       "4    11\n",
       "5     0\n",
       "6     5\n",
       "7     5\n",
       "8    14\n",
       "9     3\n",
       "Name: citations_gruende, dtype: int64"
      ]
     },
     "execution_count": 6,
     "metadata": {},
     "output_type": "execute_result"
    }
   ],
   "source": [
    "amount_citations_in_gruende.head(10)"
   ]
  },
  {
   "cell_type": "markdown",
   "metadata": {},
   "source": [
    "Gesamtmenge von identifizierten Zitaten in allen Gruende-Texten: 52699"
   ]
  },
  {
   "cell_type": "code",
   "execution_count": 7,
   "metadata": {},
   "outputs": [
    {
     "data": {
      "text/plain": [
       "52699"
      ]
     },
     "execution_count": 7,
     "metadata": {},
     "output_type": "execute_result"
    }
   ],
   "source": [
    "sum(amount_citations_in_gruende)"
   ]
  },
  {
   "cell_type": "code",
   "execution_count": 77,
   "metadata": {},
   "outputs": [],
   "source": [
    "# set plot parameters globally\n",
    "import matplotlib.pylab as pylab\n",
    "params = {'legend.fontsize': 'x-large',\n",
    "         'axes.labelsize': 'xx-large',\n",
    "         'axes.titlesize':'x-large',\n",
    "         'xtick.labelsize':'x-large',\n",
    "         'ytick.labelsize':'x-large'}\n",
    "pylab.rcParams.update(params)"
   ]
  },
  {
   "cell_type": "code",
   "execution_count": 214,
   "metadata": {},
   "outputs": [
    {
     "data": {
      "image/png": "[encoded data removed]",
      "text/plain": [
       "<Figure size 1296x576 with 1 Axes>"
      ]
     },
     "metadata": {
      "needs_background": "light"
     },
     "output_type": "display_data"
    }
   ],
   "source": [
    "# plot number of detected citations in Gründe\n",
    "f = plt.figure(figsize=(18,8))\n",
    "ax = sns.countplot(amount_citations_in_gruende)\n",
    "ax.set(xlabel='Anzahl der Zitate', ylabel='Vorkommen absolut')\n",
    "plt.xticks(rotation=90)\n",
    "# log scale!\n",
    "plt.yscale('log')\n",
    "#f.savefig(\"images/plots/anz_zitate_gruende.png\", bbox_inches=\"tight\", dpi=600)"
   ]
  },
  {
   "cell_type": "markdown",
   "metadata": {},
   "source": [
    "maximale Menge an Zitationen in einem Gruende-Text:"
   ]
  },
  {
   "cell_type": "code",
   "execution_count": 19,
   "metadata": {},
   "outputs": [
    {
     "data": {
      "text/plain": [
       "165"
      ]
     },
     "execution_count": 19,
     "metadata": {},
     "output_type": "execute_result"
    }
   ],
   "source": [
    "amount_citations_in_gruende.max()"
   ]
  },
  {
   "cell_type": "markdown",
   "metadata": {},
   "source": [
    "durchschnittliche Anzahl von Rechtsprechungszitaten in Gruende:"
   ]
  },
  {
   "cell_type": "code",
   "execution_count": 20,
   "metadata": {},
   "outputs": [
    {
     "data": {
      "text/plain": [
       "9.04548575351871"
      ]
     },
     "execution_count": 20,
     "metadata": {},
     "output_type": "execute_result"
    }
   ],
   "source": [
    "amount_citations_in_gruende.mean()"
   ]
  },
  {
   "cell_type": "markdown",
   "metadata": {},
   "source": [
    "In 661 Fällen gibt es kein Rechtsprechungszitat (jedenfalls wurde keines gefunden) in Gruende:"
   ]
  },
  {
   "cell_type": "code",
   "execution_count": 21,
   "metadata": {},
   "outputs": [
    {
     "data": {
      "text/plain": [
       "661"
      ]
     },
     "execution_count": 21,
     "metadata": {},
     "output_type": "execute_result"
    }
   ],
   "source": [
    "np.where(amount_citations_in_gruende == 0)[0].size"
   ]
  },
  {
   "cell_type": "markdown",
   "metadata": {},
   "source": [
    "In 11% aller Dokumente werden keine Zitate in Gruende gefunden:"
   ]
  },
  {
   "cell_type": "code",
   "execution_count": 22,
   "metadata": {},
   "outputs": [
    {
     "data": {
      "text/plain": [
       "0.11345691726742191"
      ]
     },
     "execution_count": 22,
     "metadata": {},
     "output_type": "execute_result"
    }
   ],
   "source": [
    "np.where(amount_citations_in_gruende == 0)[0].size/len(amount_citations_in_gruende)"
   ]
  },
  {
   "cell_type": "markdown",
   "metadata": {},
   "source": [
    "### Zitate in Tenor suchen und Tabelle ergänzen"
   ]
  },
  {
   "cell_type": "code",
   "execution_count": 27,
   "metadata": {},
   "outputs": [],
   "source": [
    "# takes a while; better directly load from df_all_citations.json below\n",
    "data_citations_gruende[\"citations_tenor\"] = data_citations_gruende[\"tenor\"].apply(extract_citations)"
   ]
  },
  {
   "cell_type": "markdown",
   "metadata": {},
   "source": [
    "#### <span style='background:pink'>save dataframe with citations_gruende and citations_tenor:"
   ]
  },
  {
   "cell_type": "code",
   "execution_count": 160,
   "metadata": {},
   "outputs": [],
   "source": [
    "# data_citations_gruende.to_json(\"data/dataframes/df_all_citations.json\")"
   ]
  },
  {
   "cell_type": "markdown",
   "metadata": {},
   "source": [
    "#### <span style='background:lightgreen'>read df_all_citations.json from json:"
   ]
  },
  {
   "cell_type": "code",
   "execution_count": 14,
   "metadata": {},
   "outputs": [],
   "source": [
    "data_all_citations = pd.read_json('data/dataframes/df_all_citations.json', orient='columns', encoding='utf-8')"
   ]
  },
  {
   "cell_type": "code",
   "execution_count": 9,
   "metadata": {},
   "outputs": [
    {
     "data": {
      "text/html": [
       "<div>\n",
       "<style scoped>\n",
       "    .dataframe tbody tr th:only-of-type {\n",
       "        vertical-align: middle;\n",
       "    }\n",
       "\n",
       "    .dataframe tbody tr th {\n",
       "        vertical-align: top;\n",
       "    }\n",
       "\n",
       "    .dataframe thead th {\n",
       "        text-align: right;\n",
       "    }\n",
       "</style>\n",
       "<table border=\"1\" class=\"dataframe\">\n",
       "  <thead>\n",
       "    <tr style=\"text-align: right;\">\n",
       "      <th></th>\n",
       "      <th>az</th>\n",
       "      <th>datum</th>\n",
       "      <th>doknr</th>\n",
       "      <th>gertyp</th>\n",
       "      <th>spruchkoerper</th>\n",
       "      <th>doktyp</th>\n",
       "      <th>titel</th>\n",
       "      <th>tenor</th>\n",
       "      <th>gruende</th>\n",
       "      <th>citations_gruende</th>\n",
       "      <th>citations_tenor</th>\n",
       "    </tr>\n",
       "  </thead>\n",
       "  <tbody>\n",
       "    <tr>\n",
       "      <th>3090</th>\n",
       "      <td>5 StR 65/11</td>\n",
       "      <td>1304467200000</td>\n",
       "      <td>JURE110009886</td>\n",
       "      <td>BGH</td>\n",
       "      <td>5. Strafsenat</td>\n",
       "      <td>Beschluss</td>\n",
       "      <td>Mord: Ausnutzungsbewusstsein bei der heimtücki...</td>\n",
       "      <td>Auf die Revision des Angeklagten wird das Urte...</td>\n",
       "      <td>Das Landgericht hat den Angeklagten wegen Mord...</td>\n",
       "      <td>[[BGH, Urteil vom 26. November 1986 – 3 StR 37...</td>\n",
       "      <td>None</td>\n",
       "    </tr>\n",
       "    <tr>\n",
       "      <th>1368</th>\n",
       "      <td>3 StR 283/14</td>\n",
       "      <td>1408406400000</td>\n",
       "      <td>JURE140016845</td>\n",
       "      <td>BGH</td>\n",
       "      <td>3. Strafsenat</td>\n",
       "      <td>Beschluss</td>\n",
       "      <td>Richterablehnung im Strafverfahren: Unsachlich...</td>\n",
       "      <td>Auf die Revisionen der Angeklagten wird das Ur...</td>\n",
       "      <td>Das Landgericht hat die Angeklagten jeweils we...</td>\n",
       "      <td>[[BGH, Urteile vom 9. September 1966 - 4 StR 2...</td>\n",
       "      <td>None</td>\n",
       "    </tr>\n",
       "    <tr>\n",
       "      <th>3333</th>\n",
       "      <td>4 StR 365/14</td>\n",
       "      <td>1410220800000</td>\n",
       "      <td>JURE140015924</td>\n",
       "      <td>BGH</td>\n",
       "      <td>4. Strafsenat</td>\n",
       "      <td>Beschluss</td>\n",
       "      <td>Strafverfahren wegen vorsätzlicher Gefährdung ...</td>\n",
       "      <td>1. Auf die Revision des Angeklagten wird das U...</td>\n",
       "      <td>Das Landgericht hat den Angeklagten wegen vors...</td>\n",
       "      <td>None</td>\n",
       "      <td>None</td>\n",
       "    </tr>\n",
       "  </tbody>\n",
       "</table>\n",
       "</div>"
      ],
      "text/plain": [
       "                az          datum          doknr gertyp  spruchkoerper  \\\n",
       "3090   5 StR 65/11  1304467200000  JURE110009886    BGH  5. Strafsenat   \n",
       "1368  3 StR 283/14  1408406400000  JURE140016845    BGH  3. Strafsenat   \n",
       "3333  4 StR 365/14  1410220800000  JURE140015924    BGH  4. Strafsenat   \n",
       "\n",
       "         doktyp                                              titel  \\\n",
       "3090  Beschluss  Mord: Ausnutzungsbewusstsein bei der heimtücki...   \n",
       "1368  Beschluss  Richterablehnung im Strafverfahren: Unsachlich...   \n",
       "3333  Beschluss  Strafverfahren wegen vorsätzlicher Gefährdung ...   \n",
       "\n",
       "                                                  tenor  \\\n",
       "3090  Auf die Revision des Angeklagten wird das Urte...   \n",
       "1368  Auf die Revisionen der Angeklagten wird das Ur...   \n",
       "3333  1. Auf die Revision des Angeklagten wird das U...   \n",
       "\n",
       "                                                gruende  \\\n",
       "3090  Das Landgericht hat den Angeklagten wegen Mord...   \n",
       "1368  Das Landgericht hat die Angeklagten jeweils we...   \n",
       "3333  Das Landgericht hat den Angeklagten wegen vors...   \n",
       "\n",
       "                                      citations_gruende citations_tenor  \n",
       "3090  [[BGH, Urteil vom 26. November 1986 – 3 StR 37...            None  \n",
       "1368  [[BGH, Urteile vom 9. September 1966 - 4 StR 2...            None  \n",
       "3333                                               None            None  "
      ]
     },
     "execution_count": 9,
     "metadata": {},
     "output_type": "execute_result"
    }
   ],
   "source": [
    "data_all_citations.sample(3)"
   ]
  },
  {
   "cell_type": "markdown",
   "metadata": {},
   "source": [
    "### Wie viele Zitate gibt es pro (Tenor-)Text?"
   ]
  },
  {
   "cell_type": "code",
   "execution_count": 15,
   "metadata": {},
   "outputs": [],
   "source": [
    "amount_citations_in_tenor = data_all_citations[\"citations_tenor\"].apply(getAmountCitations)"
   ]
  },
  {
   "cell_type": "markdown",
   "metadata": {},
   "source": [
    "Gesamtmenge von identifizierten Zitaten in allen Tenor-Texten"
   ]
  },
  {
   "cell_type": "code",
   "execution_count": 16,
   "metadata": {},
   "outputs": [
    {
     "data": {
      "text/plain": [
       "1701"
      ]
     },
     "execution_count": 16,
     "metadata": {},
     "output_type": "execute_result"
    }
   ],
   "source": [
    "sum(amount_citations_in_tenor)"
   ]
  },
  {
   "cell_type": "markdown",
   "metadata": {},
   "source": [
    "in 570 (ca. 10%) der Tenortexte werden Zitate (min. 1 Zitat) gefunden"
   ]
  },
  {
   "cell_type": "code",
   "execution_count": 17,
   "metadata": {},
   "outputs": [
    {
     "data": {
      "text/plain": [
       "570"
      ]
     },
     "execution_count": 17,
     "metadata": {},
     "output_type": "execute_result"
    }
   ],
   "source": [
    "np.where(amount_citations_in_tenor != 0)[0].size"
   ]
  },
  {
   "cell_type": "code",
   "execution_count": 18,
   "metadata": {},
   "outputs": [
    {
     "data": {
      "text/plain": [
       "23"
      ]
     },
     "execution_count": 18,
     "metadata": {},
     "output_type": "execute_result"
    }
   ],
   "source": [
    "amount_citations_in_tenor.max()"
   ]
  },
  {
   "cell_type": "code",
   "execution_count": 19,
   "metadata": {},
   "outputs": [
    {
     "data": {
      "text/plain": [
       "0.291967044284243"
      ]
     },
     "execution_count": 19,
     "metadata": {},
     "output_type": "execute_result"
    }
   ],
   "source": [
    "amount_citations_in_tenor.mean()"
   ]
  },
  {
   "cell_type": "code",
   "execution_count": 216,
   "metadata": {},
   "outputs": [
    {
     "data": {
      "image/png": "[encoded data removed]",
      "text/plain": [
       "<Figure size 1296x576 with 1 Axes>"
      ]
     },
     "metadata": {
      "needs_background": "light"
     },
     "output_type": "display_data"
    }
   ],
   "source": [
    "# plot number of citations in Tenor\n",
    "f_t = plt.figure(figsize=(18,8))\n",
    "ax = sns.countplot(amount_citations_in_tenor)\n",
    "ax.set(xlabel='Anzahl der Zitate', ylabel='Vorkommen absolut')\n",
    "#plt.xticks(rotation=90)\n",
    "# log scale!\n",
    "plt.yscale('log')\n",
    "#f_t.savefig(\"images/plots/anz_zitate_tenor.png\", bbox_inches=\"tight\", dpi=600)"
   ]
  },
  {
   "cell_type": "markdown",
   "metadata": {},
   "source": [
    "## Aktenzeichen aus Zitaten extrahieren"
   ]
  },
  {
   "cell_type": "code",
   "execution_count": 63,
   "metadata": {},
   "outputs": [],
   "source": [
    "# typische Zitate mit AZ:\n",
    "# 'Senat, Beschlüsse vom 7. Juni 2017 - 2 ARs 46/15, NStZ-RR 2017, 256 f.',\n",
    "# 'vom 2. Januar 1990 - 2 ARs 588/89, BGHR OWiG § 68 Abs. 1 Satz 1'\n",
    "# 'Senatsbeschluss vom 8. April 2008 - 4 StR 21/08'\n",
    "# 'Senatsbeschluss vom 16. Dezember 2008 - 4 StR 552/08, NStZ-RR 2009, 105'"
   ]
  },
  {
   "cell_type": "code",
   "execution_count": 64,
   "metadata": {},
   "outputs": [
    {
     "data": {
      "text/plain": [
       "[['BGHSt 42, 368', 1333, 1346],\n",
       " ['BGH NJW 1999, 3206, 3207', 1359, 1383],\n",
       " ['BGH NStZ 2000, 433', 2040, 2058]]"
      ]
     },
     "execution_count": 64,
     "metadata": {},
     "output_type": "execute_result"
    }
   ],
   "source": [
    "# unmöglich ohne Wissensbasis!?\n",
    "data_citations_gruende.iloc[2039].citations_gruende"
   ]
  },
  {
   "cell_type": "code",
   "execution_count": 65,
   "metadata": {},
   "outputs": [],
   "source": [
    "# typischer Aufbau eines AZ (s. auch: https://www.gerichtsaktenzeichen.de/aufbau-der-gerichtsaktenzeichen/):\n",
    "# einzelne Ziffer, (es gibt Ausnahmen, wo diese Ziffer fehlt: \"StB 24/19\", \"AK 78/17\")\n",
    "# Leerzeichen,\n",
    "# Abkürzung (bestehend aus 2-3 Buchstaben (?), erster davon großgeschrieben),\n",
    "#     --> hier meist: StR, ARs. Sonderfälle hier: AK, StB, 5 AR (VS) 23/10\n",
    "# Leerzeichen,\n",
    "# Zahl (1 bis 3stellig)\n",
    "# /\n",
    "# Zahl (2-ziffrig)\n",
    "# ------------------------------\n",
    "# Besonderheiten historischer Aktenzeichen:\n",
    "# Rep. 1763/84 --> von 1884, d.h. 19. Jh.\n",
    "# II 476/20 --> von 1920\n",
    "# 1 D 1096/33 --> von 1933"
   ]
  },
  {
   "cell_type": "code",
   "execution_count": 184,
   "metadata": {},
   "outputs": [],
   "source": [
    "# Regex patterns\n",
    "\n",
    "# Standardfall:\n",
    "rs_citation_standard = re.compile(\"\\d{1}\\s+[A-Z][a-z]?[A-Z]?[a-z]?\\s+\\d+\\/\\d{2}\")  \n",
    "\n",
    "# 5 AR (VS) 23/10\n",
    "rs_citation_standard_extra = re.compile(\"\\d+\\s+[A-Z][a-z]?[A-Z]?[a-z]?\\s?(\\([A-Za-z]+\\)\\s)\\d+\\/\\d{2}\")\n",
    "\n",
    "# römisch\n",
    "# VI ZR 13/18\n",
    "rs_citation_roman = re.compile(\"[MDCLXVI]+\\s+[A-Z][a-z]?[A-Z]?[a-z]?\\s+\\d+\\/\\d{2}\")\n",
    "\n",
    "# Sonderfälle:\n",
    "# StB 21/10\n",
    "# AK 78/17\n",
    "# GSSt 3/57\n",
    "rs_citation_special = re.compile(\"\\s+[A-Z]+[a-z]?[A-Z]?[a-z]?\\.?\\s+\\d+\\/\\d{2}\")"
   ]
  },
  {
   "cell_type": "code",
   "execution_count": 18,
   "metadata": {},
   "outputs": [],
   "source": [
    "# extract AZ from list of citations based on regular expressions\n",
    "def extractAktenzeichen(citation_list: list):\n",
    "    if citation_list:\n",
    "        azs = []\n",
    "        for item in citation_list:\n",
    "            # long with parantheses\n",
    "            al = rs_citation_standard_extra.findall(item[0])\n",
    "            if al:\n",
    "                azs.append(al)\n",
    "            # standard\n",
    "            az = rs_citation_standard.findall(item[0])\n",
    "            if az:\n",
    "                azs.append(az)\n",
    "            # roman\n",
    "            azr = rs_citation_roman.findall(item[0])\n",
    "            if azr:\n",
    "                azs.append(azr)\n",
    "            # ohne vorangehende Ziffer\n",
    "            if not az and not azr:\n",
    "                azsp = rs_citation_special.findall(item[0])\n",
    "                if azsp:\n",
    "                    azs.append(azsp)\n",
    "        return azs\n",
    "    else:\n",
    "        return None"
   ]
  },
  {
   "cell_type": "code",
   "execution_count": 43,
   "metadata": {},
   "outputs": [],
   "source": [
    "data_all_citations[\"cited_az_gruende\"] = data_all_citations[\"citations_gruende\"].apply(extractAktenzeichen)"
   ]
  },
  {
   "cell_type": "code",
   "execution_count": 44,
   "metadata": {},
   "outputs": [],
   "source": [
    "data_all_citations[\"cited_az_tenor\"] = data_all_citations[\"citations_tenor\"].apply(extractAktenzeichen)"
   ]
  },
  {
   "cell_type": "markdown",
   "metadata": {},
   "source": [
    "#### <span style='background:pink'>save data_all_citations with extracted az as df_all_az.json:"
   ]
  },
  {
   "cell_type": "code",
   "execution_count": 1232,
   "metadata": {},
   "outputs": [],
   "source": [
    "# data_all_citations.to_json(\"data/dataframes/df_all_az.json\")"
   ]
  },
  {
   "cell_type": "markdown",
   "metadata": {},
   "source": [
    "#### <span style='background:lightgreen'>load json as data_all_az:"
   ]
  },
  {
   "cell_type": "code",
   "execution_count": 24,
   "metadata": {},
   "outputs": [],
   "source": [
    "data_all_az = pd.read_json('data/dataframes/df_all_az.json', orient='columns', encoding='utf-8')"
   ]
  },
  {
   "cell_type": "code",
   "execution_count": 37,
   "metadata": {},
   "outputs": [
    {
     "data": {
      "text/plain": [
       "3113    [[4 StR 10/09], [1 StR 126/08], [4 StR 193/03]...\n",
       "4566    [[1 StR 435/15], [2 StR 483/98], [1 StR 287/15...\n",
       "3351    [[3 StR 182/79], [3 StR 2/70], [4 StR 217/96],...\n",
       "3266    [[3 StR 425/11], [1 StR 407/12], [2 StR 525/65...\n",
       "3366    [[4 StR 89/86], [5 StR 465/95], [2 StR 336/07]...\n",
       "Name: cited_az_gruende, dtype: object"
      ]
     },
     "execution_count": 37,
     "metadata": {},
     "output_type": "execute_result"
    }
   ],
   "source": [
    "# show random examples of az\n",
    "data_all_az.cited_az_gruende.sample(5)"
   ]
  },
  {
   "cell_type": "code",
   "execution_count": 35,
   "metadata": {},
   "outputs": [
    {
     "data": {
      "text/plain": [
       "az                                                  AK 4/18, StB 29/17\n",
       "datum                                                    1519257600000\n",
       "doknr                                                    KORE620912018\n",
       "gertyp                                                             BGH\n",
       "spruchkoerper                                            3. Strafsenat\n",
       "doktyp                                                       Beschluss\n",
       "titel                Untersuchungshaft wegen des Verdachts von Krie...\n",
       "tenor                1. Auf die Beschwerde des Beschuldigten wird d...\n",
       "gruende              I. Der Beschuldigte befindet sich in dieser Sa...\n",
       "citations_gruende    [[BGH, Beschluss vom 14. Juni 2012 - AK 18/12,...\n",
       "citations_tenor                                                   None\n",
       "cited_az_gruende     [[ AK 18/12], [3 StR 230/16], [3 StR 57/17], [...\n",
       "cited_az_tenor                                                    None\n",
       "Name: 848, dtype: object"
      ]
     },
     "execution_count": 35,
     "metadata": {},
     "output_type": "execute_result"
    }
   ],
   "source": [
    "# manche Dokumente haben 2 AZ.\n",
    "# z.B. 848:\n",
    "data_all_az.iloc[848]\n",
    "# --> in az später immer nach substring suchen"
   ]
  },
  {
   "cell_type": "markdown",
   "metadata": {},
   "source": [
    "# Analyse der Zitate und Aktenzeichen "
   ]
  },
  {
   "cell_type": "markdown",
   "metadata": {},
   "source": [
    "## _I) nach Jahr_"
   ]
  },
  {
   "cell_type": "markdown",
   "metadata": {},
   "source": [
    "#### _1. aus Zitaten extrahierte_"
   ]
  },
  {
   "cell_type": "markdown",
   "metadata": {},
   "source": [
    "aus vollem Zitat, jeweils, wenn vorhanden, die erste (vierstellige) Jahreszahl extrahieren:"
   ]
  },
  {
   "cell_type": "code",
   "execution_count": 25,
   "metadata": {},
   "outputs": [],
   "source": [
    "# regex for year\n",
    "rs_full_year = re.compile(\"\\s(18|19|20)\\d{2}\\s\")"
   ]
  },
  {
   "cell_type": "code",
   "execution_count": 26,
   "metadata": {},
   "outputs": [],
   "source": [
    "# extract years from citations\n",
    "def getYearsFromFullCitation(az: list):\n",
    "    years = []\n",
    "    if az:\n",
    "        for item in az:\n",
    "            year = rs_full_year.search(item[0])\n",
    "            if year and int(year.group()) < 2021:\n",
    "                years.append(int(year.group()))\n",
    "        return years "
   ]
  },
  {
   "cell_type": "code",
   "execution_count": 27,
   "metadata": {},
   "outputs": [],
   "source": [
    "years_gruende = data_all_az.citations_gruende.apply(getYearsFromFullCitation)"
   ]
  },
  {
   "cell_type": "code",
   "execution_count": 28,
   "metadata": {},
   "outputs": [],
   "source": [
    "years_tenor = data_all_az.citations_tenor.apply(getYearsFromFullCitation)"
   ]
  },
  {
   "cell_type": "code",
   "execution_count": 29,
   "metadata": {},
   "outputs": [
    {
     "data": {
      "text/plain": [
       "3397                                   [2013, 2015, 2014]\n",
       "1039                                                   []\n",
       "5499    [2015, 2015, 2015, 1987, 1991, 2014, 2006, 201...\n",
       "3151                                   [1983, 2004, 2011]\n",
       "4948    [2004, 2016, 2018, 1988, 2013, 1993, 2016, 198...\n",
       "Name: citations_gruende, dtype: object"
      ]
     },
     "execution_count": 29,
     "metadata": {},
     "output_type": "execute_result"
    }
   ],
   "source": [
    "years_gruende.sample(5)"
   ]
  },
  {
   "cell_type": "code",
   "execution_count": 30,
   "metadata": {},
   "outputs": [],
   "source": [
    "# collect all years from gruende in one list\n",
    "all_years_gruende = []\n",
    "for item in years_gruende:\n",
    "    if item:\n",
    "        all_years_gruende += item"
   ]
  },
  {
   "cell_type": "code",
   "execution_count": 31,
   "metadata": {},
   "outputs": [],
   "source": [
    "# collect all years from tenor in one list\n",
    "all_years_tenor = []\n",
    "for item in years_tenor:\n",
    "    if item:\n",
    "        all_years_tenor += item"
   ]
  },
  {
   "cell_type": "code",
   "execution_count": 32,
   "metadata": {},
   "outputs": [
    {
     "data": {
      "text/plain": [
       "46629"
      ]
     },
     "execution_count": 32,
     "metadata": {},
     "output_type": "execute_result"
    }
   ],
   "source": [
    "len(all_years_gruende)"
   ]
  },
  {
   "cell_type": "code",
   "execution_count": 33,
   "metadata": {},
   "outputs": [
    {
     "data": {
      "text/plain": [
       "1422"
      ]
     },
     "execution_count": 33,
     "metadata": {},
     "output_type": "execute_result"
    }
   ],
   "source": [
    "len(all_years_tenor)"
   ]
  },
  {
   "cell_type": "code",
   "execution_count": 34,
   "metadata": {},
   "outputs": [
    {
     "data": {
      "text/plain": [
       "2020"
      ]
     },
     "execution_count": 34,
     "metadata": {},
     "output_type": "execute_result"
    }
   ],
   "source": [
    "# most recent year in az from Gründe\n",
    "max(all_years_gruende)"
   ]
  },
  {
   "cell_type": "code",
   "execution_count": 35,
   "metadata": {},
   "outputs": [
    {
     "data": {
      "text/plain": [
       "2020"
      ]
     },
     "execution_count": 35,
     "metadata": {},
     "output_type": "execute_result"
    }
   ],
   "source": [
    "# most recent year in az from Tenor\n",
    "max(all_years_tenor)"
   ]
  },
  {
   "cell_type": "code",
   "execution_count": 36,
   "metadata": {},
   "outputs": [
    {
     "data": {
      "text/plain": [
       "1812"
      ]
     },
     "execution_count": 36,
     "metadata": {},
     "output_type": "execute_result"
    }
   ],
   "source": [
    "# year of oldest az in Gründe\n",
    "min(all_years_gruende) "
   ]
  },
  {
   "cell_type": "code",
   "execution_count": 37,
   "metadata": {},
   "outputs": [
    {
     "data": {
      "text/plain": [
       "1917"
      ]
     },
     "execution_count": 37,
     "metadata": {},
     "output_type": "execute_result"
    }
   ],
   "source": [
    "# year of oldest az in Tenor\n",
    "min(all_years_tenor)"
   ]
  },
  {
   "cell_type": "code",
   "execution_count": 38,
   "metadata": {},
   "outputs": [
    {
     "data": {
      "text/plain": [
       "2003.6671170301743"
      ]
     },
     "execution_count": 38,
     "metadata": {},
     "output_type": "execute_result"
    }
   ],
   "source": [
    "# mean year of az in Gründe\n",
    "sum(all_years_gruende)/len(all_years_gruende)"
   ]
  },
  {
   "cell_type": "code",
   "execution_count": 39,
   "metadata": {},
   "outputs": [
    {
     "data": {
      "text/plain": [
       "2003.4697609001407"
      ]
     },
     "execution_count": 39,
     "metadata": {},
     "output_type": "execute_result"
    }
   ],
   "source": [
    "# mean year of az in Tenor\n",
    "sum(all_years_tenor)/len(all_years_tenor)"
   ]
  },
  {
   "cell_type": "code",
   "execution_count": 40,
   "metadata": {},
   "outputs": [],
   "source": [
    "# combine years of tenor and gruende\n",
    "all_years = all_years_tenor + all_years_gruende"
   ]
  },
  {
   "cell_type": "code",
   "execution_count": 84,
   "metadata": {},
   "outputs": [
    {
     "data": {
      "image/png": "[encoded data removed]",
      "text/plain": [
       "<Figure size 1296x720 with 1 Axes>"
      ]
     },
     "metadata": {
      "needs_background": "light"
     },
     "output_type": "display_data"
    }
   ],
   "source": [
    "# plot years of az for Gründe and Tenor combined\n",
    "f1 = plt.figure(figsize=(18,10))\n",
    "plt.xticks(rotation=90)#, fontsize=12)\n",
    "# log scale!\n",
    "plt.yscale('log')\n",
    "ax = sns.countplot(all_years)\n",
    "ax.set(xlabel='Jahr der zitierten Entscheidung', ylabel='Vorkommen absolut')\n",
    "ax.xaxis.set_major_locator(FixedLocator(range(0, 200, 2)))\n",
    "\n",
    "#f1.savefig(\"images/plots/jahre_aller_Zitate.png\", bbox_inches=\"tight\", dpi=600)"
   ]
  },
  {
   "cell_type": "code",
   "execution_count": 157,
   "metadata": {},
   "outputs": [
    {
     "data": {
      "image/png": "[encoded data removed]",
      "text/plain": [
       "<Figure size 1296x720 with 1 Axes>"
      ]
     },
     "metadata": {
      "needs_background": "light"
     },
     "output_type": "display_data"
    }
   ],
   "source": [
    "\"\"\"\n",
    "# plot years of az for Gründe and Tenor combined (workaround for diss, part I)\n",
    "f1 = plt.figure(figsize=(18,10))\n",
    "plt.xticks(rotation=90)\n",
    "plt.yscale('log')\n",
    "ax = sns.countplot(all_years)\n",
    "ax.set(xlabel='', ylabel='Vorkommen absolut')\n",
    "ax.xaxis.set_major_locator(FixedLocator(range(0, 200, 2)))\n",
    "\n",
    "#f1.savefig(\"images/plots/jahre_aller_Zitate_a.png\", bbox_inches=\"tight\", dpi=600)\n",
    "\"\"\""
   ]
  },
  {
   "cell_type": "code",
   "execution_count": 156,
   "metadata": {},
   "outputs": [
    {
     "data": {
      "image/png": "[encoded data removed]",
      "text/plain": [
       "<Figure size 1296x720 with 1 Axes>"
      ]
     },
     "metadata": {
      "needs_background": "light"
     },
     "output_type": "display_data"
    }
   ],
   "source": [
    "\"\"\"\n",
    "# plot years of az for Gründe and Tenor combined (workaround for diss, part II)\n",
    "f1 = plt.figure(figsize=(18,10))\n",
    "plt.xticks(rotation=90)\n",
    "plt.yscale('log')\n",
    "ax = sns.countplot(all_years)\n",
    "ax.set(xlabel='Jahr der zitierten Entscheidung', ylabel='')\n",
    "ax.xaxis.set_major_locator(FixedLocator(range(1, 200, 2)))\n",
    "ax.set_yticklabels([]) \n",
    "ax.tick_params(which='major', pad=55, axis='x')\n",
    "\n",
    "#f1.savefig(\"images/plots/jahre_aller_Zitate_b.png\", bbox_inches=\"tight\", dpi=600)\n",
    "\"\"\""
   ]
  },
  {
   "cell_type": "markdown",
   "metadata": {},
   "source": [
    "#### _2. Aktenzeichen der Dokumente des gegebenen Datensatzes_"
   ]
  },
  {
   "cell_type": "code",
   "execution_count": 85,
   "metadata": {},
   "outputs": [],
   "source": [
    "# extract year (Einbringungsjahr) from Aktenzeichen\n",
    "def getYearFromAzString(az: str):\n",
    "    year = \"20\" + az[len(az)-2:]\n",
    "    return int(year)  "
   ]
  },
  {
   "cell_type": "code",
   "execution_count": 86,
   "metadata": {},
   "outputs": [
    {
     "data": {
      "text/plain": [
       "az                                                      4 StR 96/19, 7\n",
       "datum                                                    1570665600000\n",
       "doknr                                                    KORE620012020\n",
       "gertyp                                                             BGH\n",
       "spruchkoerper                                            4. Strafsenat\n",
       "doktyp                                                       Beschluss\n",
       "titel                Straßenverkehrsdelikte: Anforderungen an die B...\n",
       "tenor                Auf die Revision des Angeklagten wird das Urte...\n",
       "gruende              Das Landgericht hat den Angeklagten wegen vors...\n",
       "citations_gruende    [[BGH, Urteile vom 1. März 2018 ‒ 4 StR 399/17...\n",
       "citations_tenor                                                   None\n",
       "cited_az_gruende     [[4 StR 399/17], [1 StR 416/17], [3 StR 172/17...\n",
       "cited_az_tenor                                                    None\n",
       "Name: 5685, dtype: object"
      ]
     },
     "execution_count": 86,
     "metadata": {},
     "output_type": "execute_result"
    }
   ],
   "source": [
    "data_all_az.iloc[5685]"
   ]
  },
  {
   "cell_type": "code",
   "execution_count": 93,
   "metadata": {},
   "outputs": [],
   "source": [
    "# correct \"4 StR 96/19, 7\" --> \"4 StR 96/19\":\n",
    "data_all_az[\"az\"][5685] = \"4 StR 96/19\""
   ]
  },
  {
   "cell_type": "code",
   "execution_count": 88,
   "metadata": {},
   "outputs": [],
   "source": [
    "doc_az_years = data_all_az['az'].apply(getYearFromAzString)"
   ]
  },
  {
   "cell_type": "code",
   "execution_count": 89,
   "metadata": {},
   "outputs": [
    {
     "data": {
      "text/plain": [
       "5462    2016\n",
       "709     2019\n",
       "5689    2019\n",
       "2350    2014\n",
       "2945    2018\n",
       "Name: az, dtype: int64"
      ]
     },
     "execution_count": 89,
     "metadata": {},
     "output_type": "execute_result"
    }
   ],
   "source": [
    "doc_az_years.sample(5)"
   ]
  },
  {
   "cell_type": "code",
   "execution_count": 90,
   "metadata": {},
   "outputs": [
    {
     "data": {
      "text/plain": [
       "2020"
      ]
     },
     "execution_count": 90,
     "metadata": {},
     "output_type": "execute_result"
    }
   ],
   "source": [
    "# year of latest AZ\n",
    "doc_az_years.max()"
   ]
  },
  {
   "cell_type": "code",
   "execution_count": 91,
   "metadata": {},
   "outputs": [
    {
     "data": {
      "text/plain": [
       "2007"
      ]
     },
     "execution_count": 91,
     "metadata": {},
     "output_type": "execute_result"
    }
   ],
   "source": [
    "# year of oldest AZ\n",
    "doc_az_years.min()"
   ]
  },
  {
   "cell_type": "code",
   "execution_count": 92,
   "metadata": {},
   "outputs": [
    {
     "data": {
      "text/plain": [
       "2014.4713353930656"
      ]
     },
     "execution_count": 92,
     "metadata": {},
     "output_type": "execute_result"
    }
   ],
   "source": [
    "# mean year of AZ\n",
    "sum(doc_az_years) / len(doc_az_years)"
   ]
  },
  {
   "cell_type": "code",
   "execution_count": 212,
   "metadata": {},
   "outputs": [
    {
     "data": {
      "image/png": "[encoded data removed]",
      "text/plain": [
       "<Figure size 1296x1008 with 1 Axes>"
      ]
     },
     "metadata": {
      "needs_background": "light"
     },
     "output_type": "display_data"
    }
   ],
   "source": [
    "# plot years of az\n",
    "f2 = plt.figure(figsize=(18,14))\n",
    "#plt.xticks(rotation=90)\n",
    "#plt.yscale('log')\n",
    "\n",
    "ax = sns.countplot(doc_az_years)\n",
    "ax.set(xlabel='Einbringungsjahr laut Aktenzeichen', ylabel='Vorkommen absolut')\n",
    "\n",
    "#f2.savefig(\"images/plots/jahre_aller_az.png\", bbox_inches=\"tight\", dpi=600)"
   ]
  },
  {
   "cell_type": "markdown",
   "metadata": {},
   "source": [
    "## _II) nach Registerzeichen --- welche kommen vor und wie sind sie verteilt?_"
   ]
  },
  {
   "cell_type": "markdown",
   "metadata": {},
   "source": [
    "#### _1. Aktenzeichen der Dokumente des gegebenen Datensatzes_"
   ]
  },
  {
   "cell_type": "code",
   "execution_count": 79,
   "metadata": {},
   "outputs": [],
   "source": [
    "# Durchschauen großer Menge von az ergibt folgende Besonderheiten:\n",
    "\n",
    "# 514    StB 9 und 10/16, StB 9/16, StB 10/16\n",
    "# 306       StB 16/13\n",
    "# 339        StB 4/14\n",
    "# 125        AK 17/11\n",
    "# 630    AK 15/19, StB 9/19\n",
    "# 733    5 AR (Vs) 5/17\n",
    "# 848    AK 4/18, StB 29/17\n",
    "# 1110    StB 8/11, StB 9/11\n",
    "# 1318    5 AR (VS) 29/13\n",
    "# 1532      2 StR 137/14, 2 StR 337/14\n",
    "# 1537    StB 14 - 16/16, StB 14/16, StB 15/16, StB 16/16\n",
    "# 4046    5 AR (VS) 23/10\n",
    "# 378    4 ARs 20-1/14, 2 StR 104/14\n",
    "# 389     2 StR 137/14, 2 StR 337/14\n",
    "# 392    4 ARs 20-1/14, 2 StR 104/14\n",
    "# 466    StB 10/15, StB 11/15\n",
    "# 695    5 StR 623/17 und 5 StR 624/17"
   ]
  },
  {
   "cell_type": "code",
   "execution_count": 95,
   "metadata": {},
   "outputs": [
    {
     "data": {
      "text/plain": [
       "2503    5 StR 599/15\n",
       "1032     3 StR 63/10\n",
       "3329    2 StR 105/14\n",
       "3190     1 StR 98/12\n",
       "293     2 StR 297/13\n",
       "Name: az, dtype: object"
      ]
     },
     "execution_count": 95,
     "metadata": {},
     "output_type": "execute_result"
    }
   ],
   "source": [
    "# Standard\n",
    "data_all_az.az.sample(5)"
   ]
  },
  {
   "cell_type": "code",
   "execution_count": 96,
   "metadata": {},
   "outputs": [],
   "source": [
    "# regex to find Registerzeichen\n",
    "registerz = re.compile(\"[A-Z][a-zA-Z]*\\s\")"
   ]
  },
  {
   "cell_type": "code",
   "execution_count": 97,
   "metadata": {},
   "outputs": [],
   "source": [
    "# regex to find Registerzeichen with different structure such as 5 AR (VS) 29/13\n",
    "registerz2 = re.compile(\"[A-Z][a-zA-Z]+\\s?\\([a-zA-Z]{2}\\)\\s\")"
   ]
  },
  {
   "cell_type": "code",
   "execution_count": 98,
   "metadata": {},
   "outputs": [],
   "source": [
    "# check for roman numbers\n",
    "def checkRoman(regz: str):\n",
    "    rom = [\"I \", \"II \", \"III \", \"IV \", \"V \", \"VI \", \"VII \", \"VIII \", \"IX \"]\n",
    "    return regz in rom"
   ]
  },
  {
   "cell_type": "code",
   "execution_count": 99,
   "metadata": {},
   "outputs": [],
   "source": [
    "# extract registerzeichen\n",
    "def getRegisterzeichen(az: str):\n",
    "    rz2 = registerz2.findall(az)\n",
    "    if rz2:\n",
    "        if len(rz2) > 1:\n",
    "            if checkRoman(rz2[0]):\n",
    "                return rz2[1]\n",
    "        else:\n",
    "            return rz2[0]\n",
    "    else:\n",
    "        rz1 = registerz.findall(az)\n",
    "        if rz1:\n",
    "            return rz1[0]   "
   ]
  },
  {
   "cell_type": "code",
   "execution_count": 100,
   "metadata": {},
   "outputs": [],
   "source": [
    "doc_az_regz = data_all_az[\"az\"].apply(getRegisterzeichen)\n",
    "\n",
    "# (hier wird immer nur das erste Registerzeichen geholt (auch falls im Original mehrere angegeben sind))"
   ]
  },
  {
   "cell_type": "code",
   "execution_count": 101,
   "metadata": {},
   "outputs": [
    {
     "data": {
      "text/plain": [
       "0"
      ]
     },
     "execution_count": 101,
     "metadata": {},
     "output_type": "execute_result"
    }
   ],
   "source": [
    "# check for None\n",
    "doc_az_regz.tolist().count(None)"
   ]
  },
  {
   "cell_type": "code",
   "execution_count": 102,
   "metadata": {},
   "outputs": [
    {
     "data": {
      "text/plain": [
       "{'AK ', 'AR (VS) ', 'AR (Vs) ', 'ARs ', 'StB ', 'StR '}"
      ]
     },
     "execution_count": 102,
     "metadata": {},
     "output_type": "execute_result"
    }
   ],
   "source": [
    "set(doc_az_regz)"
   ]
  },
  {
   "cell_type": "markdown",
   "metadata": {},
   "source": [
    "_Hintergrund:_\n",
    "\n",
    "Das Registerzeichen **ARs** wird beim Bundesgerichtshof für Gerichtsstandbestimmungen in Strafsachen\n",
    "sowie für Auslieferungssachen verwendet.\n",
    "\n",
    "Das Registerzeichen **AR** wird bei jedem Gericht für Vorverfahren oder sonstige \n",
    "Verfahren (als \"Allgemeines Register\") verwendet.\n",
    "\n",
    "Das Registerzeichen **StB** wird beim Bundesgerichtshof für Verfahren über\n",
    "Beschwerden in Strafsachen - in Ermittlungsverfahren des Generalbundesanwalts - verwendet.\n",
    "\n",
    "Das Registerzeichen **StR** wird beim (ehem.) Bayerisches Oberstes Landesgericht\n",
    "und beim Bundesgerichtshof für Revisionsverfahren in Strafsachen verwendet.\n",
    "\n",
    "Das Registerzeichen **AK** wird beim Bundesgerichtshof für Aktenkontrollen\n",
    "in Haftprüfungsverfahren verwendet.\n",
    "\n",
    "Das Registerzeichen **AR(VS)** wird beim Bundesgerichtshof für Entscheidungen über Justizverwaltungsakte\n",
    "im Bereich des Strafrechts verwendet."
   ]
  },
  {
   "cell_type": "code",
   "execution_count": 206,
   "metadata": {},
   "outputs": [
    {
     "data": {
      "image/png": "[encoded data removed]",
      "text/plain": [
       "<Figure size 864x576 with 1 Axes>"
      ]
     },
     "metadata": {
      "needs_background": "light"
     },
     "output_type": "display_data"
    }
   ],
   "source": [
    "# plot Registerzeichen in AZ\n",
    "f3 = plt.figure(figsize=(12,8))\n",
    "#plt.xticks(fontsize=14)\n",
    "plt.yscale('log')\n",
    "ax = sns.countplot(doc_az_regz)\n",
    "ax.set(xlabel='Registerzeichen', ylabel='Vorkommen absolut')\n",
    "f3.savefig(\"images/plots/regz_in_az.png\", bbox_inches=\"tight\", dpi=600)"
   ]
  },
  {
   "cell_type": "code",
   "execution_count": 77,
   "metadata": {},
   "outputs": [
    {
     "data": {
      "text/plain": [
       "{'ARs ': 152,\n",
       " 'StR ': 5535,\n",
       " 'StB ': 84,\n",
       " 'AK ': 47,\n",
       " 'AR (Vs) ': 3,\n",
       " 'AR (VS) ': 5}"
      ]
     },
     "execution_count": 77,
     "metadata": {},
     "output_type": "execute_result"
    }
   ],
   "source": [
    "# count Registerzeichen in AZ\n",
    "doc_az_regz_list = doc_az_regz.tolist()\n",
    "reg_dict = {i: doc_az_regz_list.count(i) for i in doc_az_regz_list}\n",
    "reg_dict"
   ]
  },
  {
   "cell_type": "code",
   "execution_count": 78,
   "metadata": {},
   "outputs": [
    {
     "data": {
      "text/plain": [
       "0.9500514933058702"
      ]
     },
     "execution_count": 78,
     "metadata": {},
     "output_type": "execute_result"
    }
   ],
   "source": [
    "reg_dict.get(\"StR \") / sum(reg_dict.values())\n",
    "# --> 95% der Registerzeichen in allen Az sind StR"
   ]
  },
  {
   "cell_type": "markdown",
   "metadata": {},
   "source": [
    "#### _2. aus Zitaten extrahierte_"
   ]
  },
  {
   "cell_type": "code",
   "execution_count": 106,
   "metadata": {},
   "outputs": [],
   "source": [
    "# get Registerzeichen from AZ in references\n",
    "def getRegZFromAz(az: list):\n",
    "    regzs = []  \n",
    "    if az:\n",
    "        # flatten to keep every az\n",
    "        flat_az = [item for sublist in az for item in sublist]\n",
    "        for item in flat_az:             \n",
    "            rz2 = registerz2.findall(item)                \n",
    "            if rz2:\n",
    "                if len(rz2) > 1:\n",
    "                    if checkRoman(rz2[0]):\n",
    "                        regzs.append(rz2[1])                \n",
    "                else:\n",
    "                    regzs.append(rz2[0])\n",
    "            else:\n",
    "                rz1 = registerz.findall(item)\n",
    "                if rz1:\n",
    "                    regzs.append(rz1[0])\n",
    "        return regzs  "
   ]
  },
  {
   "cell_type": "markdown",
   "metadata": {},
   "source": [
    "a) alle vorkommenden (erfassten) Registerzeichen in GRÜNDE:"
   ]
  },
  {
   "cell_type": "code",
   "execution_count": 107,
   "metadata": {},
   "outputs": [],
   "source": [
    "regz_gruende = data_all_az[\"cited_az_gruende\"].apply(getRegZFromAz)"
   ]
  },
  {
   "cell_type": "code",
   "execution_count": 108,
   "metadata": {},
   "outputs": [],
   "source": [
    "# collect all registerzeichen from Gründe in one list\n",
    "all_regz_gruende = []\n",
    "for item in regz_gruende:\n",
    "    if item:          \n",
    "        all_regz_gruende += item"
   ]
  },
  {
   "cell_type": "code",
   "execution_count": 109,
   "metadata": {},
   "outputs": [
    {
     "data": {
      "text/plain": [
       "46373"
      ]
     },
     "execution_count": 109,
     "metadata": {},
     "output_type": "execute_result"
    }
   ],
   "source": [
    "len(all_regz_gruende)"
   ]
  },
  {
   "cell_type": "code",
   "execution_count": 110,
   "metadata": {},
   "outputs": [],
   "source": [
    "# remove space at ending\n",
    "for i, a in enumerate(all_regz_gruende):\n",
    "    all_regz_gruende[i] = a[:len(a)-1]"
   ]
  },
  {
   "cell_type": "code",
   "execution_count": 111,
   "metadata": {},
   "outputs": [
    {
     "name": "stdout",
     "output_type": "stream",
     "text": [
      "{'VAs', 'Rs', 'AR', 'StR', 'Js', 'GZ', 'VGS', 'BvC', 'L', 'BvR', 'Bs', 'Ds', 'RKa', 'ZR', 'SsBs', 'ABR', 'BvF', 'WDB', 'Reh', 'Cs', 'Sa', 'Qs', 'III', 'EVY', 'AGH', 'BvE', 'BvQ', 'KRB', 'PBvU', 'GSZ', 'Ne', 'BGs', 'HEs', 'AK', 'ObJs', 'Z', 'UF', 'RAr', 'Ns', 'GSt', 'TB', 'WD', 'R', 'StE', 'V', 'E', 'SS', 'GA', 'IX', 'B', 'VR', 'O', 'M', 'TG', 'AZR', 'XII', 'OLGSs', 'Rev', 'XR', 'RR', 'AZN', 'St', 'VII', 'A', 'Q', 'BvK', 'OJs', 'W', 'D', 'GrS', 'Ws', 'U', 'Ls', 'LC', 'Rz', 'Ks', 'StS', 'Gs', 'RVs', 'WF', 'K', 'OWi', 'RBs', 'Os', 'N', 'IV', 'BvG', 'WS', 'S', 'ME', 'ZB', 'BJs', 'RA', 'Rep', 'VI', 'VIII', 'VG', 'XI', 'DG', 'BvA', 'AV', 'RH', 'Wx', 'Ss', 'BvL', 'Ta', 'SF', 'ARs', 'II', 'KR', 'KZR', 'C', 'RU', 'ARZ', 'AS', 'KLs', 'RK', 'StB', 'I', 'X', 'ObWs', 'UJs', 'GSSt', 'Ars', 'Str', 'EO', 'KA', 'BR'}\n"
     ]
    }
   ],
   "source": [
    "# alle vorkommenden (erfassten) Registerzeichen in GRUENDE:\n",
    "regz_gruende_set = set(all_regz_gruende)\n",
    "# 'I', 'II', 'III', 'IV', 'IX', 'V', 'VI', 'VIII', 'X', 'XI', 'XII'\n",
    "# können (Ersatz für) Registerzeichen (Anfang 20. Jahrhundert, z.B. .../21) sein oder\n",
    "# Registerzeichen vorangestellt stehen -- hier ist diese Zählung etwas ungenau\n",
    "print(regz_gruende_set)"
   ]
  },
  {
   "cell_type": "code",
   "execution_count": 152,
   "metadata": {},
   "outputs": [
    {
     "data": {
      "text/plain": [
       "[Text(0.5, 0, 'Registerzeichen'), Text(0, 0.5, 'Vorkommen absolut')]"
      ]
     },
     "execution_count": 152,
     "metadata": {},
     "output_type": "execute_result"
    },
    {
     "data": {
      "image/png": "[encoded data removed]",
      "text/plain": [
       "<Figure size 1296x720 with 1 Axes>"
      ]
     },
     "metadata": {
      "needs_background": "light"
     },
     "output_type": "display_data"
    }
   ],
   "source": [
    "# plot Registerzeichen in citations from Gründe\n",
    "\n",
    "# to get an ordered countplot\n",
    "df_regz_gruende = pd.DataFrame(all_regz_gruende,columns =['registerzeichen'])\n",
    "f3_ = plt.figure(figsize=(18,10))\n",
    "plt.yscale('log') # Vorsicht bei Interpretation!! nur, damit man die kleinen Vorkommen auch sehen kann..\n",
    "plt.xticks(rotation=90, fontsize=8)\n",
    "order = df_regz_gruende['registerzeichen'].value_counts().index\n",
    "ax = sns.countplot(x='registerzeichen', data=df_regz_gruende, order=order)\n",
    "ax.set(xlabel='Registerzeichen', ylabel='Vorkommen absolut')\n",
    "#f3_.savefig(\"images/plots/regz_in_cit_gruende.png\", bbox_inches=\"tight\", dpi=600)"
   ]
  },
  {
   "cell_type": "code",
   "execution_count": 149,
   "metadata": {},
   "outputs": [
    {
     "data": {
      "image/png": "[encoded data removed]",
      "text/plain": [
       "<Figure size 1296x720 with 1 Axes>"
      ]
     },
     "metadata": {
      "needs_background": "light"
     },
     "output_type": "display_data"
    }
   ],
   "source": [
    "\"\"\"\n",
    "# plot Registerzeichen in citations from Gründe (workaround for thesis, part I)\n",
    "\n",
    "df_regz_gruende = pd.DataFrame(all_regz_gruende,columns =['registerzeichen'])\n",
    "f3_ = plt.figure(figsize=(18,10))\n",
    "plt.yscale('log') \n",
    "plt.xticks(rotation=90)\n",
    "order = df_regz_gruende['registerzeichen'].value_counts().index\n",
    "ax = sns.countplot(x='registerzeichen', data=df_regz_gruende, order=order)\n",
    "ax.set(xlabel='', ylabel='Vorkommen absolut')\n",
    "ax.xaxis.set_major_locator(FixedLocator(range(0, 200, 2)))\n",
    "#f3_.savefig(\"images/plots/regz_in_cit_gruende_a.png\", bbox_inches=\"tight\", dpi=600)\n",
    "\"\"\""
   ]
  },
  {
   "cell_type": "code",
   "execution_count": 150,
   "metadata": {},
   "outputs": [
    {
     "data": {
      "image/png": "[encoded data removed]",
      "text/plain": [
       "<Figure size 1296x720 with 1 Axes>"
      ]
     },
     "metadata": {
      "needs_background": "light"
     },
     "output_type": "display_data"
    }
   ],
   "source": [
    "\"\"\"\n",
    "# plot Registerzeichen in citations from Gründe (workaround for thesis, part II)\n",
    "\n",
    "df_regz_gruende = pd.DataFrame(all_regz_gruende,columns =['registerzeichen'])\n",
    "f3_ = plt.figure(figsize=(18,10))\n",
    "plt.yscale('log')\n",
    "plt.xticks(rotation=90)\n",
    "order = df_regz_gruende['registerzeichen'].value_counts().index\n",
    "ax = sns.countplot(x='registerzeichen', data=df_regz_gruende, order=order)\n",
    "ax.set(xlabel='Registerzeichen', ylabel='')\n",
    "ax.set_yticklabels([]) \n",
    "ax.xaxis.set_major_locator(FixedLocator(range(1, 200, 2)))\n",
    "ax.tick_params(which='major', pad=55, axis='x')\n",
    "#f3_.savefig(\"images/plots/regz_in_cit_gruende_b.png\", bbox_inches=\"tight\", dpi=600)\n",
    "\"\"\""
   ]
  },
  {
   "cell_type": "code",
   "execution_count": 90,
   "metadata": {},
   "outputs": [
    {
     "name": "stdout",
     "output_type": "stream",
     "text": [
      "{'ARs': 338, 'StR': 40325, 'BvR': 1578, 'BJs': 6, 'R': 12, 'RK': 12, 'GSSt': 548, 'Ss': 286, 'I': 135, 'VIII': 87, 'K': 30, 'StB': 393, 'BGs': 135, 'HEs': 10, 'Ns': 3, 'Gs': 3, 'W': 10, 'Wx': 4, 'VII': 62, 'KZR': 1, 'XII': 24, 'PBvU': 10, 'BvL': 72, 'VI': 153, 'IV': 57, 'III': 117, 'RR': 51, 'St': 33, 'AK': 197, 'A': 24, 'II': 101, 'V': 185, 'XI': 57, 'X': 20, 'IX': 83, 'Js': 111, 'Ars': 1, 'D': 42, 'ObWs': 1, 'Ws': 329, 'ZR': 5, 'AZR': 29, 'WD': 1, 'GrS': 5, 'KLs': 12, 'GZ': 6, 'U': 35, 'ARZ': 9, 'AR': 26, 'Qs': 16, 'StS': 12, 'S': 4, 'ME': 10, 'C': 50, 'O': 7, 'KRB': 31, 'SsBs': 1, 'LC': 4, 'Bs': 6, 'EO': 3, 'B': 23, 'EVY': 1, 'Q': 1, 'KR': 57, 'Reh': 2, 'RVs': 25, 'GSt': 1, 'BvA': 2, 'Ds': 7, 'VGS': 45, 'OLGSs': 1, 'GSZ': 36, 'Rev': 4, 'AZN': 2, 'Sa': 4, 'OWi': 18, 'StE': 41, 'TG': 2, 'Ks': 4, 'M': 5, 'L': 7, 'Ls': 6, 'Cs': 1, 'UF': 4, 'RBs': 7, 'VAs': 14, 'Os': 1, 'Ne': 2, 'GA': 1, 'Rz': 2, 'BvF': 4, 'BvE': 38, 'KA': 7, 'AGH': 1, 'BvC': 1, 'Str': 1, 'SF': 1, 'ZB': 10, 'BvG': 1, 'BvQ': 6, 'RA': 1, 'VG': 1, 'RAr': 6, 'WS': 1, 'VR': 3, 'E': 1, 'OJs': 3, 'RKa': 3, 'XR': 1, 'Z': 2, 'WF': 3, 'Rep': 2, 'RH': 2, 'DG': 1, 'Rs': 5, 'ObJs': 1, 'BR': 1, 'UJs': 1, 'BvK': 1, 'ABR': 6, 'Ta': 1, 'RU': 3, 'AS': 4, 'AV': 1, 'TB': 1, 'N': 1, 'WDB': 1, 'SS': 2}\n"
     ]
    }
   ],
   "source": [
    "# count Registerzeichen in citations from Gründe texts\n",
    "reg_quote_dict = {i: all_regz_gruende.count(i) for i in all_regz_gruende}\n",
    "print(reg_quote_dict)"
   ]
  },
  {
   "cell_type": "code",
   "execution_count": 91,
   "metadata": {},
   "outputs": [
    {
     "data": {
      "text/plain": [
       "0.8695792810471611"
      ]
     },
     "execution_count": 91,
     "metadata": {},
     "output_type": "execute_result"
    }
   ],
   "source": [
    "reg_quote_dict.get(\"StR\")/sum(reg_quote_dict.values())\n",
    "# --> in 87% aller als Aktenzeichen erfassten Zitationen aus Gründe ist das Registerzeichen \"StR\""
   ]
  },
  {
   "cell_type": "markdown",
   "metadata": {},
   "source": [
    "b) alle vorkommenden (erfassten) Registerzeichen in TENOR:"
   ]
  },
  {
   "cell_type": "code",
   "execution_count": null,
   "metadata": {},
   "outputs": [],
   "source": [
    "regz_tenor = data_all_az[\"cited_az_tenor\"].apply(getRegZFromAz)"
   ]
  },
  {
   "cell_type": "code",
   "execution_count": 92,
   "metadata": {},
   "outputs": [],
   "source": [
    "# collect all registerzeichen from TENOR in one list\n",
    "all_regz_tenor = []\n",
    "for item in regz_tenor:\n",
    "    if item:\n",
    "        all_regz_tenor += item"
   ]
  },
  {
   "cell_type": "code",
   "execution_count": 93,
   "metadata": {},
   "outputs": [
    {
     "name": "stdout",
     "output_type": "stream",
     "text": [
      "{'Ns ', 'VI ', 'KLs ', 'OJs ', 'AR ', 'RVs ', 'D ', 'Js ', 'AK ', 'IX ', 'I ', 'AZR ', 'Ds ', 'StR ', 'St ', 'Wx ', 'Ks ', 'VGS ', 'KRB ', 'OGs ', 'BvR ', 'VII ', 'GSSt ', 'V ', 'SsBs ', 'T ', 'XI ', 'Qs ', 'KA ', 'C ', 'BJs ', 'VAs ', 'ARs ', 'Ws ', 'StE ', 'GSZ ', 'Ss ', 'StB ', 'BGs ', 'II '}\n"
     ]
    }
   ],
   "source": [
    "print(set(all_regz_tenor))"
   ]
  },
  {
   "cell_type": "code",
   "execution_count": 94,
   "metadata": {},
   "outputs": [
    {
     "data": {
      "text/plain": [
       "<AxesSubplot:ylabel='count'>"
      ]
     },
     "execution_count": 94,
     "metadata": {},
     "output_type": "execute_result"
    },
    {
     "data": {
      "image/png": "[encoded data removed]",
      "text/plain": [
       "<Figure size 432x288 with 1 Axes>"
      ]
     },
     "metadata": {
      "needs_background": "light"
     },
     "output_type": "display_data"
    }
   ],
   "source": [
    "# plot Registerzeichen from citations in Tenor texts\n",
    "plt.yscale('log')\n",
    "plt.xticks(rotation=90)\n",
    "sns.countplot(all_regz_tenor)"
   ]
  },
  {
   "cell_type": "code",
   "execution_count": 95,
   "metadata": {},
   "outputs": [
    {
     "name": "stdout",
     "output_type": "stream",
     "text": [
      "{'StR ': 1193, 'GSSt ': 18, 'V ': 9, 'VI ': 2, 'IX ': 1, 'BGs ': 75, 'Ss ': 14, 'Js ': 43, 'BvR ': 44, 'BJs ': 1, 'St ': 5, 'Ws ': 9, 'ARs ': 12, 'AZR ': 1, 'Ds ': 2, 'AK ': 9, 'VAs ': 3, 'StE ': 6, 'Wx ': 1, 'Ks ': 1, 'KLs ': 1, 'RVs ': 5, 'VII ': 4, 'StB ': 5, 'SsBs ': 1, 'D ': 1, 'KRB ': 1, 'XI ': 2, 'I ': 1, 'Ns ': 1, 'Qs ': 1, 'OJs ': 1, 'T ': 1, 'II ': 1, 'VGS ': 2, 'KA ': 1, 'C ': 1, 'GSZ ': 2, 'AR ': 1, 'OGs ': 1}\n"
     ]
    }
   ],
   "source": [
    "reg_quote_dict_tenor = {i: all_regz_tenor.count(i) for i in all_regz_tenor}\n",
    "print(reg_quote_dict_tenor)"
   ]
  },
  {
   "cell_type": "code",
   "execution_count": 97,
   "metadata": {},
   "outputs": [
    {
     "data": {
      "text/plain": [
       "0.8044504383007417"
      ]
     },
     "execution_count": 97,
     "metadata": {},
     "output_type": "execute_result"
    }
   ],
   "source": [
    "reg_quote_dict_tenor.get(\"StR \")/sum(reg_quote_dict_tenor.values())\n",
    "# --> in 80% aller als Aktenzeichen erfassten Zitationen aus Tenor ist das Registerzeichen \"StR\""
   ]
  },
  {
   "cell_type": "markdown",
   "metadata": {},
   "source": [
    "## Aktenzeichen: Häufigkeit und Vorkommen"
   ]
  },
  {
   "cell_type": "markdown",
   "metadata": {},
   "source": [
    "### I) Wie oft können aus den Zitaten Aktenzeichen entnommen werden?\n",
    "Ansatz: alle Zitate berücksichtigen, auch wenn sie mehrfach in einer Rechtsprechung auftauchen"
   ]
  },
  {
   "cell_type": "code",
   "execution_count": 160,
   "metadata": {},
   "outputs": [],
   "source": [
    "# flatten\n",
    "def flattenAz(az: list):\n",
    "    flat_az = []\n",
    "    if az:\n",
    "        flat_az = [item for sublist in az for item in sublist]\n",
    "    return flat_az"
   ]
  },
  {
   "cell_type": "markdown",
   "metadata": {},
   "source": [
    "a) Gründe"
   ]
  },
  {
   "cell_type": "code",
   "execution_count": 161,
   "metadata": {},
   "outputs": [],
   "source": [
    "# flatten lists of column cited_az_gruende\n",
    "data_all_az[\"cited_az_gruende\"] = data_all_az[\"cited_az_gruende\"].apply(flattenAz)"
   ]
  },
  {
   "cell_type": "code",
   "execution_count": 162,
   "metadata": {},
   "outputs": [
    {
     "data": {
      "text/plain": [
       "5783                           [1 StR 348/17, 1 StR 9/90]\n",
       "1880    [5 StR 202/18, 3 StR 466/10, 1 StR 300/09, 3 S...\n",
       "1737    [2 StR 94/05, 2 StR 242/04, 1 StR 205/09, 3 St...\n",
       "1376    [1 StR 351/97, 2 StR 534/13, 4 StR 452/04, 4 S...\n",
       "2845    [5 StR 545/11, 4 StR 530/17, 5 StR 517/11, 4 S...\n",
       "Name: cited_az_gruende, dtype: object"
      ]
     },
     "execution_count": 162,
     "metadata": {},
     "output_type": "execute_result"
    }
   ],
   "source": [
    "# display random sample of flattened AZ\n",
    "data_all_az.cited_az_gruende.sample(5)"
   ]
  },
  {
   "cell_type": "code",
   "execution_count": 163,
   "metadata": {},
   "outputs": [],
   "source": [
    "# collect all original az in one list \"all_cited_az\"\n",
    "all_cited_az_gruende = []\n",
    "for liste in data_all_az.cited_az_gruende:\n",
    "    if liste:\n",
    "        all_cited_az_gruende += liste        "
   ]
  },
  {
   "cell_type": "code",
   "execution_count": 164,
   "metadata": {},
   "outputs": [],
   "source": [
    "# entferne Leerzeichen am Anfang\n",
    "for i, az in enumerate(all_cited_az_gruende):\n",
    "    if az.startswith(\" \"):\n",
    "        all_cited_az_gruende[i] = az[1:]"
   ]
  },
  {
   "cell_type": "code",
   "execution_count": 165,
   "metadata": {},
   "outputs": [
    {
     "data": {
      "text/plain": [
       "46457"
      ]
     },
     "execution_count": 165,
     "metadata": {},
     "output_type": "execute_result"
    }
   ],
   "source": [
    "len(all_cited_az_gruende)"
   ]
  },
  {
   "cell_type": "code",
   "execution_count": 166,
   "metadata": {},
   "outputs": [
    {
     "data": {
      "text/plain": [
       "0.8815537296722898"
      ]
     },
     "execution_count": 166,
     "metadata": {},
     "output_type": "execute_result"
    }
   ],
   "source": [
    "len(all_cited_az_gruende)/sum(amount_citations_in_gruende)\n",
    "# -> aus 88,16% der Zitate (aus Gründe) werden erfolgreich Aktenzeichen entnommen"
   ]
  },
  {
   "cell_type": "markdown",
   "metadata": {},
   "source": [
    "b) Tenor"
   ]
  },
  {
   "cell_type": "code",
   "execution_count": 167,
   "metadata": {},
   "outputs": [],
   "source": [
    "# flatten lists of column cited_az_tenor\n",
    "data_all_az[\"cited_az_tenor\"] = data_all_az[\"cited_az_tenor\"].apply(flattenAz)"
   ]
  },
  {
   "cell_type": "code",
   "execution_count": 168,
   "metadata": {},
   "outputs": [],
   "source": [
    "# collect all original az in one list \"all_cited_az_tenor\"\n",
    "all_cited_az_tenor = []\n",
    "for liste in data_all_az.cited_az_tenor:\n",
    "    if liste:\n",
    "        all_cited_az_tenor += liste        "
   ]
  },
  {
   "cell_type": "code",
   "execution_count": 169,
   "metadata": {},
   "outputs": [],
   "source": [
    "# remove space at beginning\n",
    "for i, az in enumerate(all_cited_az_tenor):\n",
    "    if az.startswith(\" \"):\n",
    "        all_cited_az_tenor[i] = az[1:]"
   ]
  },
  {
   "cell_type": "code",
   "execution_count": 170,
   "metadata": {},
   "outputs": [
    {
     "data": {
      "text/plain": [
       "1484"
      ]
     },
     "execution_count": 170,
     "metadata": {},
     "output_type": "execute_result"
    }
   ],
   "source": [
    "len(all_cited_az_tenor)"
   ]
  },
  {
   "cell_type": "code",
   "execution_count": 171,
   "metadata": {},
   "outputs": [
    {
     "data": {
      "text/plain": [
       "0.8724279835390947"
      ]
     },
     "execution_count": 171,
     "metadata": {},
     "output_type": "execute_result"
    }
   ],
   "source": [
    "len(all_cited_az_tenor)/sum(amount_citations_in_tenor)\n",
    "# -> aus 87,24% der Zitate (aus Gründe) werden erfolgreich Aktenzeichen entnommen"
   ]
  },
  {
   "cell_type": "markdown",
   "metadata": {},
   "source": [
    "### II) Wie oft werden die vorkommenden Aktenzeichen zitiert?\n",
    "#### 1. Ansatz: hier wird jedes Zitat einzeln gezählt, egal ob mehrfach in einem Dokument vorkommend, oder verteilt auf unterschiedliche Dokumente"
   ]
  },
  {
   "cell_type": "code",
   "execution_count": 172,
   "metadata": {},
   "outputs": [],
   "source": [
    "def getDuplicatesWithCount(listOfElems):\n",
    "    dictOfElems = dict()\n",
    "    for elem in listOfElems:\n",
    "        if elem in dictOfElems:\n",
    "            dictOfElems[elem] += 1\n",
    "        else:\n",
    "            dictOfElems[elem] = 1    \n",
    "    return dictOfElems"
   ]
  },
  {
   "cell_type": "markdown",
   "metadata": {},
   "source": [
    "a) Gründe"
   ]
  },
  {
   "cell_type": "code",
   "execution_count": 173,
   "metadata": {},
   "outputs": [],
   "source": [
    "dict_all_az_gruende = getDuplicatesWithCount(all_cited_az_gruende)"
   ]
  },
  {
   "cell_type": "code",
   "execution_count": 174,
   "metadata": {},
   "outputs": [],
   "source": [
    "# sort dict descending by value\n",
    "sorted_dict_all_az_gruende = sorted(dict_all_az_gruende.items(), key=lambda x: x[1], reverse=True)"
   ]
  },
  {
   "cell_type": "code",
   "execution_count": 175,
   "metadata": {},
   "outputs": [
    {
     "data": {
      "text/plain": [
       "[('GSSt 1/86', 93),\n",
       " ('3 StR 552/08', 92),\n",
       " ('4 StR 558/11', 83),\n",
       " ('2 BvR 2628/10', 80),\n",
       " ('2 BvR 2559/08', 78)]"
      ]
     },
     "execution_count": 175,
     "metadata": {},
     "output_type": "execute_result"
    }
   ],
   "source": [
    "# show first 5 most popular az cited by Gründe texts\n",
    "sorted_dict_all_az_gruende[:5]"
   ]
  },
  {
   "cell_type": "code",
   "execution_count": 176,
   "metadata": {},
   "outputs": [],
   "source": [
    "# the 50 most often cited aktenzeichen (in Gruende only)\n",
    "most_popular_az_gruende = dict(sorted_dict_all_az_gruende[0:50])"
   ]
  },
  {
   "cell_type": "code",
   "execution_count": 177,
   "metadata": {},
   "outputs": [
    {
     "data": {
      "text/plain": [
       "<BarContainer object of 50 artists>"
      ]
     },
     "execution_count": 177,
     "metadata": {},
     "output_type": "execute_result"
    },
    {
     "data": {
      "image/png": "[encoded data removed]",
      "text/plain": [
       "<Figure size 1296x864 with 1 Axes>"
      ]
     },
     "metadata": {
      "needs_background": "light"
     },
     "output_type": "display_data"
    }
   ],
   "source": [
    "# plot the 50 most popular AZ\n",
    "plt.figure(figsize=(18,12))\n",
    "plt.xticks(rotation=90)\n",
    "plt.bar(most_popular_az_gruende.keys(), most_popular_az_gruende.values())"
   ]
  },
  {
   "cell_type": "markdown",
   "metadata": {},
   "source": [
    "b) Tenor"
   ]
  },
  {
   "cell_type": "code",
   "execution_count": 178,
   "metadata": {},
   "outputs": [],
   "source": [
    "dict_all_az_tenor = getDuplicatesWithCount(all_cited_az_tenor)"
   ]
  },
  {
   "cell_type": "code",
   "execution_count": 179,
   "metadata": {},
   "outputs": [],
   "source": [
    "# sort dict descending by value\n",
    "sorted_dict_all_az_tenor = sorted(dict_all_az_tenor.items(), key=lambda x: x[1], reverse=True)"
   ]
  },
  {
   "cell_type": "code",
   "execution_count": 180,
   "metadata": {},
   "outputs": [
    {
     "data": {
      "text/plain": [
       "[('2 BvR 2628/10', 9),\n",
       " ('GSSt 1/07', 8),\n",
       " ('1 StR 416/08', 6),\n",
       " ('3 StR 46/12', 5),\n",
       " ('1 StR 757/82', 5)]"
      ]
     },
     "execution_count": 180,
     "metadata": {},
     "output_type": "execute_result"
    }
   ],
   "source": [
    "# show first 5 az with most references\n",
    "sorted_dict_all_az_tenor[:5]"
   ]
  },
  {
   "cell_type": "code",
   "execution_count": 181,
   "metadata": {},
   "outputs": [],
   "source": [
    "# the 25 most often cited aktenzeichen (in Tenor only)\n",
    "most_popular_az_tenor = dict(sorted_dict_all_az_tenor[0:25])"
   ]
  },
  {
   "cell_type": "code",
   "execution_count": 182,
   "metadata": {},
   "outputs": [
    {
     "data": {
      "text/plain": [
       "<BarContainer object of 25 artists>"
      ]
     },
     "execution_count": 182,
     "metadata": {},
     "output_type": "execute_result"
    },
    {
     "data": {
      "image/png": "[encoded data removed]",
      "text/plain": [
       "<Figure size 1296x864 with 1 Axes>"
      ]
     },
     "metadata": {
      "needs_background": "light"
     },
     "output_type": "display_data"
    }
   ],
   "source": [
    "# plot the 25 most popular AZ from Tenor\n",
    "plt.figure(figsize=(18,12))\n",
    "plt.xticks(rotation=90)\n",
    "plt.bar(most_popular_az_tenor.keys(), most_popular_az_tenor.values())"
   ]
  },
  {
   "cell_type": "markdown",
   "metadata": {},
   "source": [
    "#### 2. Ansatz: pro Dokument jedes Zitat nur einzeln berücksichtigen aka \"wird von den meisten Dokumenten zitiert\""
   ]
  },
  {
   "cell_type": "markdown",
   "metadata": {},
   "source": [
    "a) Gründe"
   ]
  },
  {
   "cell_type": "code",
   "execution_count": 183,
   "metadata": {},
   "outputs": [],
   "source": [
    "# set pro dokument bilden\n",
    "def setOfAz(az: list):\n",
    "    return set(az)"
   ]
  },
  {
   "cell_type": "code",
   "execution_count": 184,
   "metadata": {},
   "outputs": [],
   "source": [
    "# apply on df\n",
    "data_all_az[\"set_az_gruende\"] = data_all_az[\"cited_az_gruende\"].apply(setOfAz)"
   ]
  },
  {
   "cell_type": "code",
   "execution_count": 185,
   "metadata": {},
   "outputs": [],
   "source": [
    "# collect all sets of az in one list \"all_cited_az_sets\"\n",
    "all_cited_az_sets_gruende = []\n",
    "for menge in data_all_az.set_az_gruende:\n",
    "    if menge:\n",
    "        all_cited_az_sets_gruende += list(menge)  "
   ]
  },
  {
   "cell_type": "code",
   "execution_count": 186,
   "metadata": {},
   "outputs": [
    {
     "data": {
      "text/plain": [
       "38005"
      ]
     },
     "execution_count": 186,
     "metadata": {},
     "output_type": "execute_result"
    }
   ],
   "source": [
    "len(all_cited_az_sets_gruende)"
   ]
  },
  {
   "cell_type": "code",
   "execution_count": 187,
   "metadata": {},
   "outputs": [],
   "source": [
    "# remove space at beginning\n",
    "for i, az in enumerate(all_cited_az_sets_gruende):\n",
    "    if az.startswith(\" \"):\n",
    "        all_cited_az_sets_gruende[i] = az[1:]"
   ]
  },
  {
   "cell_type": "code",
   "execution_count": 188,
   "metadata": {},
   "outputs": [],
   "source": [
    "# count\n",
    "dict_all_az_sets_gruende = getDuplicatesWithCount(all_cited_az_sets_gruende)"
   ]
  },
  {
   "cell_type": "code",
   "execution_count": 189,
   "metadata": {},
   "outputs": [],
   "source": [
    "# sort dict descending by value\n",
    "sorted_dict_all_az_sets_gruende = sorted(dict_all_az_sets_gruende.items(), key=lambda x: x[1], reverse=True)"
   ]
  },
  {
   "cell_type": "code",
   "execution_count": 190,
   "metadata": {},
   "outputs": [],
   "source": [
    "# the 50 most often cited aktenzeichen (in Gruende only).\n",
    "# counts appearance per document/gruende once by default\n",
    "most_popular_az_sets_gruende_50 = dict(sorted_dict_all_az_sets_gruende[0:50])"
   ]
  },
  {
   "cell_type": "code",
   "execution_count": 191,
   "metadata": {},
   "outputs": [],
   "source": [
    "# the 25 most often cited aktenzeichen (in Gruende)\n",
    "most_popular_az_sets_gruende_25 = dict(sorted_dict_all_az_sets_gruende[0:25])"
   ]
  },
  {
   "cell_type": "code",
   "execution_count": 196,
   "metadata": {},
   "outputs": [
    {
     "data": {
      "image/png": "[encoded data removed]",
      "text/plain": [
       "<Figure size 1296x864 with 1 Axes>"
      ]
     },
     "metadata": {
      "needs_background": "light"
     },
     "output_type": "display_data"
    }
   ],
   "source": [
    "# plot 25\n",
    "f3_ = plt.figure(figsize=(18,12))\n",
    "plt.xticks(rotation=90)\n",
    "plt.xlabel('Aktenzeichen')\n",
    "plt.ylabel(\"Anzahl zitierender Dokumente\")\n",
    "plt.bar(most_popular_az_sets_gruende_25.keys(), most_popular_az_sets_gruende_25.values())\n",
    "f3_.savefig(\"images/plots/az_von_meisten_dokumenten_zitiert_25.png\", bbox_inches=\"tight\", dpi=600)"
   ]
  },
  {
   "cell_type": "code",
   "execution_count": 198,
   "metadata": {},
   "outputs": [
    {
     "data": {
      "text/plain": [
       "<BarContainer object of 50 artists>"
      ]
     },
     "execution_count": 198,
     "metadata": {},
     "output_type": "execute_result"
    },
    {
     "data": {
      "image/png": "[encoded data removed]",
      "text/plain": [
       "<Figure size 1296x864 with 1 Axes>"
      ]
     },
     "metadata": {
      "needs_background": "light"
     },
     "output_type": "display_data"
    }
   ],
   "source": [
    "# plot 50\n",
    "f3 = plt.figure(figsize=(18,12))\n",
    "plt.xticks(rotation=90)\n",
    "plt.bar(most_popular_az_sets_gruende_50.keys(), most_popular_az_sets_gruende_50.values())\n",
    "#f3.savefig(\"images/plots/az_von_meisten_dokumenten_zitiert_50.png\", bbox_inches=\"tight\", dpi=600)"
   ]
  },
  {
   "cell_type": "markdown",
   "metadata": {},
   "source": [
    "Stichprobenhaft schauen, ob einige der Top-Treffer in Datenmenge als Dokument vorhanden sind:"
   ]
  },
  {
   "cell_type": "code",
   "execution_count": 140,
   "metadata": {},
   "outputs": [
    {
     "data": {
      "text/html": [
       "<div>\n",
       "<style scoped>\n",
       "    .dataframe tbody tr th:only-of-type {\n",
       "        vertical-align: middle;\n",
       "    }\n",
       "\n",
       "    .dataframe tbody tr th {\n",
       "        vertical-align: top;\n",
       "    }\n",
       "\n",
       "    .dataframe thead th {\n",
       "        text-align: right;\n",
       "    }\n",
       "</style>\n",
       "<table border=\"1\" class=\"dataframe\">\n",
       "  <thead>\n",
       "    <tr style=\"text-align: right;\">\n",
       "      <th></th>\n",
       "      <th>az</th>\n",
       "      <th>datum</th>\n",
       "      <th>doknr</th>\n",
       "      <th>gertyp</th>\n",
       "      <th>spruchkoerper</th>\n",
       "      <th>doktyp</th>\n",
       "      <th>titel</th>\n",
       "      <th>tenor</th>\n",
       "      <th>gruende</th>\n",
       "      <th>citations_gruende</th>\n",
       "      <th>citations_tenor</th>\n",
       "      <th>cited_az_gruende</th>\n",
       "      <th>cited_az_tenor</th>\n",
       "      <th>set_az_gruende</th>\n",
       "    </tr>\n",
       "  </thead>\n",
       "  <tbody>\n",
       "    <tr>\n",
       "      <th>5476</th>\n",
       "      <td>4 StR 558/11</td>\n",
       "      <td>1332374400000</td>\n",
       "      <td>KORE300532012</td>\n",
       "      <td>BGH</td>\n",
       "      <td>4. Strafsenat</td>\n",
       "      <td>Urteil</td>\n",
       "      <td>Bedingter Tötungsvorsatz im Lichte der Hemmsch...</td>\n",
       "      <td>1. Auf die Revision der Staatsanwaltschaft wir...</td>\n",
       "      <td>Das Landgericht hat den Angeklagten wegen gefä...</td>\n",
       "      <td>[[BGH, Urteile vom 30. März 1995 - 4 StR 725/9...</td>\n",
       "      <td>None</td>\n",
       "      <td>[4 StR 725/94, 4 StR 471/95, 4 StR 465/76, 4 S...</td>\n",
       "      <td>None</td>\n",
       "      <td>{5 StR 352/04, 4 StR 499/11, 4 StR 245/10, 4 S...</td>\n",
       "    </tr>\n",
       "  </tbody>\n",
       "</table>\n",
       "</div>"
      ],
      "text/plain": [
       "                az          datum          doknr gertyp  spruchkoerper  \\\n",
       "5476  4 StR 558/11  1332374400000  KORE300532012    BGH  4. Strafsenat   \n",
       "\n",
       "      doktyp                                              titel  \\\n",
       "5476  Urteil  Bedingter Tötungsvorsatz im Lichte der Hemmsch...   \n",
       "\n",
       "                                                  tenor  \\\n",
       "5476  1. Auf die Revision der Staatsanwaltschaft wir...   \n",
       "\n",
       "                                                gruende  \\\n",
       "5476  Das Landgericht hat den Angeklagten wegen gefä...   \n",
       "\n",
       "                                      citations_gruende citations_tenor  \\\n",
       "5476  [[BGH, Urteile vom 30. März 1995 - 4 StR 725/9...            None   \n",
       "\n",
       "                                       cited_az_gruende cited_az_tenor  \\\n",
       "5476  [4 StR 725/94, 4 StR 471/95, 4 StR 465/76, 4 S...           None   \n",
       "\n",
       "                                         set_az_gruende  \n",
       "5476  {5 StR 352/04, 4 StR 499/11, 4 StR 245/10, 4 S...  "
      ]
     },
     "execution_count": 140,
     "metadata": {},
     "output_type": "execute_result"
    }
   ],
   "source": [
    "data_all_az[data_all_az['az'].str.contains('4 StR 558/11')]\n",
    "# vorhanden"
   ]
  },
  {
   "cell_type": "code",
   "execution_count": 141,
   "metadata": {},
   "outputs": [
    {
     "data": {
      "text/html": [
       "<div>\n",
       "<style scoped>\n",
       "    .dataframe tbody tr th:only-of-type {\n",
       "        vertical-align: middle;\n",
       "    }\n",
       "\n",
       "    .dataframe tbody tr th {\n",
       "        vertical-align: top;\n",
       "    }\n",
       "\n",
       "    .dataframe thead th {\n",
       "        text-align: right;\n",
       "    }\n",
       "</style>\n",
       "<table border=\"1\" class=\"dataframe\">\n",
       "  <thead>\n",
       "    <tr style=\"text-align: right;\">\n",
       "      <th></th>\n",
       "      <th>az</th>\n",
       "      <th>datum</th>\n",
       "      <th>doknr</th>\n",
       "      <th>gertyp</th>\n",
       "      <th>spruchkoerper</th>\n",
       "      <th>doktyp</th>\n",
       "      <th>titel</th>\n",
       "      <th>tenor</th>\n",
       "      <th>gruende</th>\n",
       "      <th>citations_gruende</th>\n",
       "      <th>citations_tenor</th>\n",
       "      <th>cited_az_gruende</th>\n",
       "      <th>cited_az_tenor</th>\n",
       "      <th>set_az_gruende</th>\n",
       "    </tr>\n",
       "  </thead>\n",
       "  <tbody>\n",
       "  </tbody>\n",
       "</table>\n",
       "</div>"
      ],
      "text/plain": [
       "Empty DataFrame\n",
       "Columns: [az, datum, doknr, gertyp, spruchkoerper, doktyp, titel, tenor, gruende, citations_gruende, citations_tenor, cited_az_gruende, cited_az_tenor, set_az_gruende]\n",
       "Index: []"
      ]
     },
     "execution_count": 141,
     "metadata": {},
     "output_type": "execute_result"
    }
   ],
   "source": [
    "# --> zu alt\n",
    "data_all_az[data_all_az['az'].str.contains('3 StR 552/08')]"
   ]
  },
  {
   "cell_type": "code",
   "execution_count": 142,
   "metadata": {},
   "outputs": [
    {
     "data": {
      "text/html": [
       "<div>\n",
       "<style scoped>\n",
       "    .dataframe tbody tr th:only-of-type {\n",
       "        vertical-align: middle;\n",
       "    }\n",
       "\n",
       "    .dataframe tbody tr th {\n",
       "        vertical-align: top;\n",
       "    }\n",
       "\n",
       "    .dataframe thead th {\n",
       "        text-align: right;\n",
       "    }\n",
       "</style>\n",
       "<table border=\"1\" class=\"dataframe\">\n",
       "  <thead>\n",
       "    <tr style=\"text-align: right;\">\n",
       "      <th></th>\n",
       "      <th>az</th>\n",
       "      <th>datum</th>\n",
       "      <th>doknr</th>\n",
       "      <th>gertyp</th>\n",
       "      <th>spruchkoerper</th>\n",
       "      <th>doktyp</th>\n",
       "      <th>titel</th>\n",
       "      <th>tenor</th>\n",
       "      <th>gruende</th>\n",
       "      <th>citations_gruende</th>\n",
       "      <th>citations_tenor</th>\n",
       "      <th>cited_az_gruende</th>\n",
       "      <th>cited_az_tenor</th>\n",
       "      <th>set_az_gruende</th>\n",
       "    </tr>\n",
       "  </thead>\n",
       "  <tbody>\n",
       "  </tbody>\n",
       "</table>\n",
       "</div>"
      ],
      "text/plain": [
       "Empty DataFrame\n",
       "Columns: [az, datum, doknr, gertyp, spruchkoerper, doktyp, titel, tenor, gruende, citations_gruende, citations_tenor, cited_az_gruende, cited_az_tenor, set_az_gruende]\n",
       "Index: []"
      ]
     },
     "execution_count": 142,
     "metadata": {},
     "output_type": "execute_result"
    }
   ],
   "source": [
    "# falsches Gericht --> Bundesverfassungsgericht\n",
    "data_all_az[data_all_az['az'].str.contains('2 BvR 2628/10')]"
   ]
  },
  {
   "cell_type": "code",
   "execution_count": 143,
   "metadata": {},
   "outputs": [
    {
     "data": {
      "text/html": [
       "<div>\n",
       "<style scoped>\n",
       "    .dataframe tbody tr th:only-of-type {\n",
       "        vertical-align: middle;\n",
       "    }\n",
       "\n",
       "    .dataframe tbody tr th {\n",
       "        vertical-align: top;\n",
       "    }\n",
       "\n",
       "    .dataframe thead th {\n",
       "        text-align: right;\n",
       "    }\n",
       "</style>\n",
       "<table border=\"1\" class=\"dataframe\">\n",
       "  <thead>\n",
       "    <tr style=\"text-align: right;\">\n",
       "      <th></th>\n",
       "      <th>az</th>\n",
       "      <th>datum</th>\n",
       "      <th>doknr</th>\n",
       "      <th>gertyp</th>\n",
       "      <th>spruchkoerper</th>\n",
       "      <th>doktyp</th>\n",
       "      <th>titel</th>\n",
       "      <th>tenor</th>\n",
       "      <th>gruende</th>\n",
       "      <th>citations_gruende</th>\n",
       "      <th>citations_tenor</th>\n",
       "      <th>cited_az_gruende</th>\n",
       "      <th>cited_az_tenor</th>\n",
       "      <th>set_az_gruende</th>\n",
       "    </tr>\n",
       "  </thead>\n",
       "  <tbody>\n",
       "    <tr>\n",
       "      <th>639</th>\n",
       "      <td>4 StR 215/10</td>\n",
       "      <td>1288224000000</td>\n",
       "      <td>KORE314442010</td>\n",
       "      <td>BGH</td>\n",
       "      <td>4. Strafsenat</td>\n",
       "      <td>Urteil</td>\n",
       "      <td>Beschlagnahme und Verfall: Urteilsfeststellung...</td>\n",
       "      <td>1. Auf die Revisionen der Angeklagten T. und Y...</td>\n",
       "      <td>Das Landgericht hat die Angeklagten T. und Y. ...</td>\n",
       "      <td>[[BGH, Beschlüsse vom 5. August 2010 - 2 StR 2...</td>\n",
       "      <td>None</td>\n",
       "      <td>[2 StR 254/10, 3 StR 460/08, 4 StR 393/10, 2 S...</td>\n",
       "      <td>None</td>\n",
       "      <td>{5 StR 365/07, 2 StR 174/08, 2 StR 254/10, 4 S...</td>\n",
       "    </tr>\n",
       "  </tbody>\n",
       "</table>\n",
       "</div>"
      ],
      "text/plain": [
       "               az          datum          doknr gertyp  spruchkoerper  doktyp  \\\n",
       "639  4 StR 215/10  1288224000000  KORE314442010    BGH  4. Strafsenat  Urteil   \n",
       "\n",
       "                                                 titel  \\\n",
       "639  Beschlagnahme und Verfall: Urteilsfeststellung...   \n",
       "\n",
       "                                                 tenor  \\\n",
       "639  1. Auf die Revisionen der Angeklagten T. und Y...   \n",
       "\n",
       "                                               gruende  \\\n",
       "639  Das Landgericht hat die Angeklagten T. und Y. ...   \n",
       "\n",
       "                                     citations_gruende citations_tenor  \\\n",
       "639  [[BGH, Beschlüsse vom 5. August 2010 - 2 StR 2...            None   \n",
       "\n",
       "                                      cited_az_gruende cited_az_tenor  \\\n",
       "639  [2 StR 254/10, 3 StR 460/08, 4 StR 393/10, 2 S...           None   \n",
       "\n",
       "                                        set_az_gruende  \n",
       "639  {5 StR 365/07, 2 StR 174/08, 2 StR 254/10, 4 S...  "
      ]
     },
     "execution_count": 143,
     "metadata": {},
     "output_type": "execute_result"
    }
   ],
   "source": [
    "# vorhanden\n",
    "data_all_az[data_all_az['az'].str.contains('4 StR 215/10')]"
   ]
  },
  {
   "cell_type": "code",
   "execution_count": 144,
   "metadata": {},
   "outputs": [
    {
     "data": {
      "text/html": [
       "<div>\n",
       "<style scoped>\n",
       "    .dataframe tbody tr th:only-of-type {\n",
       "        vertical-align: middle;\n",
       "    }\n",
       "\n",
       "    .dataframe tbody tr th {\n",
       "        vertical-align: top;\n",
       "    }\n",
       "\n",
       "    .dataframe thead th {\n",
       "        text-align: right;\n",
       "    }\n",
       "</style>\n",
       "<table border=\"1\" class=\"dataframe\">\n",
       "  <thead>\n",
       "    <tr style=\"text-align: right;\">\n",
       "      <th></th>\n",
       "      <th>az</th>\n",
       "      <th>datum</th>\n",
       "      <th>doknr</th>\n",
       "      <th>gertyp</th>\n",
       "      <th>spruchkoerper</th>\n",
       "      <th>doktyp</th>\n",
       "      <th>titel</th>\n",
       "      <th>tenor</th>\n",
       "      <th>gruende</th>\n",
       "      <th>citations_gruende</th>\n",
       "      <th>citations_tenor</th>\n",
       "      <th>cited_az_gruende</th>\n",
       "      <th>cited_az_tenor</th>\n",
       "      <th>set_az_gruende</th>\n",
       "    </tr>\n",
       "  </thead>\n",
       "  <tbody>\n",
       "  </tbody>\n",
       "</table>\n",
       "</div>"
      ],
      "text/plain": [
       "Empty DataFrame\n",
       "Columns: [az, datum, doknr, gertyp, spruchkoerper, doktyp, titel, tenor, gruende, citations_gruende, citations_tenor, cited_az_gruende, cited_az_tenor, set_az_gruende]\n",
       "Index: []"
      ]
     },
     "execution_count": 144,
     "metadata": {},
     "output_type": "execute_result"
    }
   ],
   "source": [
    "# auch zu alt\n",
    "data_all_az[data_all_az['az'].str.contains('3 StR 250/09')]"
   ]
  },
  {
   "cell_type": "code",
   "execution_count": 145,
   "metadata": {},
   "outputs": [
    {
     "data": {
      "text/html": [
       "<div>\n",
       "<style scoped>\n",
       "    .dataframe tbody tr th:only-of-type {\n",
       "        vertical-align: middle;\n",
       "    }\n",
       "\n",
       "    .dataframe tbody tr th {\n",
       "        vertical-align: top;\n",
       "    }\n",
       "\n",
       "    .dataframe thead th {\n",
       "        text-align: right;\n",
       "    }\n",
       "</style>\n",
       "<table border=\"1\" class=\"dataframe\">\n",
       "  <thead>\n",
       "    <tr style=\"text-align: right;\">\n",
       "      <th></th>\n",
       "      <th>az</th>\n",
       "      <th>datum</th>\n",
       "      <th>doknr</th>\n",
       "      <th>gertyp</th>\n",
       "      <th>spruchkoerper</th>\n",
       "      <th>doktyp</th>\n",
       "      <th>titel</th>\n",
       "      <th>tenor</th>\n",
       "      <th>gruende</th>\n",
       "      <th>citations_gruende</th>\n",
       "      <th>citations_tenor</th>\n",
       "      <th>cited_az_gruende</th>\n",
       "      <th>cited_az_tenor</th>\n",
       "      <th>set_az_gruende</th>\n",
       "    </tr>\n",
       "  </thead>\n",
       "  <tbody>\n",
       "    <tr>\n",
       "      <th>77</th>\n",
       "      <td>4 StR 502/10</td>\n",
       "      <td>1296086400000</td>\n",
       "      <td>JURE110003769</td>\n",
       "      <td>BGH</td>\n",
       "      <td>4. Strafsenat</td>\n",
       "      <td>Urteil</td>\n",
       "      <td>Besonders schwerer Raub bzw. besonders schwere...</td>\n",
       "      <td>1. Auf die Revision der Staatsanwaltschaft wir...</td>\n",
       "      <td>Das Landgericht hat den Angeklagten A. wegen K...</td>\n",
       "      <td>[[BGH, Urteil vom 26. September 1984 - 3 StR 3...</td>\n",
       "      <td>None</td>\n",
       "      <td>[3 StR 367/84, 1 StR 167/77, 3 StR 367/84, 3 S...</td>\n",
       "      <td>None</td>\n",
       "      <td>{4 StR 397/71, 3 StR 367/84, 2 StR 161/07, 5 S...</td>\n",
       "    </tr>\n",
       "  </tbody>\n",
       "</table>\n",
       "</div>"
      ],
      "text/plain": [
       "              az          datum          doknr gertyp  spruchkoerper  doktyp  \\\n",
       "77  4 StR 502/10  1296086400000  JURE110003769    BGH  4. Strafsenat  Urteil   \n",
       "\n",
       "                                                titel  \\\n",
       "77  Besonders schwerer Raub bzw. besonders schwere...   \n",
       "\n",
       "                                                tenor  \\\n",
       "77  1. Auf die Revision der Staatsanwaltschaft wir...   \n",
       "\n",
       "                                              gruende  \\\n",
       "77  Das Landgericht hat den Angeklagten A. wegen K...   \n",
       "\n",
       "                                    citations_gruende citations_tenor  \\\n",
       "77  [[BGH, Urteil vom 26. September 1984 - 3 StR 3...            None   \n",
       "\n",
       "                                     cited_az_gruende cited_az_tenor  \\\n",
       "77  [3 StR 367/84, 1 StR 167/77, 3 StR 367/84, 3 S...           None   \n",
       "\n",
       "                                       set_az_gruende  \n",
       "77  {4 StR 397/71, 3 StR 367/84, 2 StR 161/07, 5 S...  "
      ]
     },
     "execution_count": 145,
     "metadata": {},
     "output_type": "execute_result"
    }
   ],
   "source": [
    "# vorhanden\n",
    "data_all_az[data_all_az['az'].str.match('4 StR 502/10')]"
   ]
  },
  {
   "cell_type": "markdown",
   "metadata": {},
   "source": [
    "b) Tenor"
   ]
  },
  {
   "cell_type": "code",
   "execution_count": 166,
   "metadata": {},
   "outputs": [],
   "source": [
    "data_all_az[\"set_az_tenor\"] = data_all_az[\"cited_az_tenor\"].apply(setOfAz)"
   ]
  },
  {
   "cell_type": "code",
   "execution_count": 167,
   "metadata": {},
   "outputs": [],
   "source": [
    "# collect all sets of az in one list \"all_cited_az_sets_tenor\"\n",
    "all_cited_az_sets_tenor = []\n",
    "for menge in data_all_az.set_az_tenor:\n",
    "    if menge:\n",
    "        all_cited_az_sets_tenor += list(menge)  "
   ]
  },
  {
   "cell_type": "code",
   "execution_count": 168,
   "metadata": {},
   "outputs": [
    {
     "data": {
      "text/plain": [
       "1339"
      ]
     },
     "execution_count": 168,
     "metadata": {},
     "output_type": "execute_result"
    }
   ],
   "source": [
    "len(all_cited_az_sets_tenor)"
   ]
  },
  {
   "cell_type": "code",
   "execution_count": 169,
   "metadata": {},
   "outputs": [],
   "source": [
    "# remove space at beginning\n",
    "for i, az in enumerate(all_cited_az_sets_tenor):\n",
    "    if az.startswith(\" \"):\n",
    "        all_cited_az_sets_tenor[i] = az[1:]"
   ]
  },
  {
   "cell_type": "code",
   "execution_count": 170,
   "metadata": {},
   "outputs": [],
   "source": [
    "dict_all_az_sets_tenor = getDuplicatesWithCount(all_cited_az_sets_tenor)"
   ]
  },
  {
   "cell_type": "code",
   "execution_count": 171,
   "metadata": {},
   "outputs": [],
   "source": [
    "# sort dict descending by value\n",
    "sorted_dict_all_az_sets_tenor = sorted(dict_all_az_sets_tenor.items(), key=lambda x: x[1], reverse=True)"
   ]
  },
  {
   "cell_type": "code",
   "execution_count": 172,
   "metadata": {},
   "outputs": [
    {
     "data": {
      "text/plain": [
       "[('2 BvR 2628/10', 8),\n",
       " ('1 StR 416/08', 6),\n",
       " ('GSSt 1/07', 5),\n",
       " ('1 StR 359/10', 3),\n",
       " ('1 StR 718/08', 3)]"
      ]
     },
     "execution_count": 172,
     "metadata": {},
     "output_type": "execute_result"
    }
   ],
   "source": [
    "sorted_dict_all_az_sets_tenor[:5]"
   ]
  },
  {
   "cell_type": "code",
   "execution_count": 174,
   "metadata": {},
   "outputs": [
    {
     "data": {
      "text/plain": [
       "<BarContainer object of 25 artists>"
      ]
     },
     "execution_count": 174,
     "metadata": {},
     "output_type": "execute_result"
    },
    {
     "data": {
      "image/png": "[encoded data removed]",
      "text/plain": [
       "<Figure size 1296x864 with 1 Axes>"
      ]
     },
     "metadata": {
      "needs_background": "light"
     },
     "output_type": "display_data"
    }
   ],
   "source": [
    "plt.figure(figsize=(18,12))\n",
    "plt.xticks(rotation=90, fontsize=8)\n",
    "plt.bar(dict(sorted_dict_all_az_sets_tenor[:25]).keys(), dict(sorted_dict_all_az_sets_tenor[:25]).values())"
   ]
  },
  {
   "cell_type": "markdown",
   "metadata": {},
   "source": [
    "# Abbildung der Zitate / AZ auf Dokumente"
   ]
  },
  {
   "cell_type": "markdown",
   "metadata": {},
   "source": [
    "### Datum zusätzlich zu Aktenzeichen aus Zitaten extrahieren,\n",
    "um korrekte Zuordbarkeit bei mehrfach vorkommenden Aktenzeichen zu schaffen"
   ]
  },
  {
   "cell_type": "code",
   "execution_count": 180,
   "metadata": {},
   "outputs": [],
   "source": [
    "# wenn Aktenzeichen vorhanden in Zitation, steht zuvor fast immer das Datum in der Form 8.Oktober 2010\n",
    "# Vorgehen: alle Az extrahieren, wenn möglich mit Datum"
   ]
  },
  {
   "cell_type": "code",
   "execution_count": 181,
   "metadata": {},
   "outputs": [],
   "source": [
    "# Regex für Datum\n",
    "rs_datum = re.compile(\"\\d{1,2}\\.\\s[J|F|M|A|S|O|N|D][a-zä]{2,}\\s[1|2]\\d{3}\")"
   ]
  },
  {
   "cell_type": "code",
   "execution_count": 182,
   "metadata": {},
   "outputs": [],
   "source": [
    "# extract az with date from citation list\n",
    "def extractAktenzeichenWithDate(citation_list: list):\n",
    "    if citation_list:\n",
    "        azs = []\n",
    "        for item in citation_list:\n",
    "            # date\n",
    "            date = rs_datum.findall(item[0])\n",
    "            # long with parantheses\n",
    "            al = rs_citation_standard_extra.findall(item[0])\n",
    "            if al:\n",
    "                # cut date to length of al list\n",
    "                date = date[:len(al)]\n",
    "                azs.append((al, date))\n",
    "            # standard\n",
    "            az = rs_citation_standard.findall(item[0])\n",
    "            if az:\n",
    "                # cut date to length of az list\n",
    "                date = date[:len(az)]\n",
    "                azs.append((az, date))\n",
    "            # roman\n",
    "            azr = rs_citation_roman.findall(item[0])\n",
    "            if azr:\n",
    "                # cut date to length of azs list\n",
    "                date = date[:len(azr)]\n",
    "                azs.append((azr, date))\n",
    "            # ohne vorangehende Ziffer\n",
    "            if not az and not azr:\n",
    "                azsp = rs_citation_special.findall(item[0])\n",
    "                if azsp:\n",
    "                    # cut date to length of azsp list\n",
    "                    date = date[:len(azsp)]\n",
    "                    \n",
    "                    # remove space at beginning\n",
    "                    for i, a in enumerate(azsp):\n",
    "                        if a.startswith(\" \"):\n",
    "                            azsp[i] = a[1:]\n",
    "                    \n",
    "                    azs.append((azsp, date))\n",
    "        return azs\n",
    "    else:\n",
    "        return None"
   ]
  },
  {
   "cell_type": "code",
   "execution_count": 185,
   "metadata": {},
   "outputs": [],
   "source": [
    "# apply extractAktenzeichenWithDate on df data_all_az\n",
    "data_all_az[\"cited_az_gruende_date\"] = data_all_az[\"citations_gruende\"].apply(extractAktenzeichenWithDate)"
   ]
  },
  {
   "cell_type": "markdown",
   "metadata": {},
   "source": [
    "test on one date (256):"
   ]
  },
  {
   "cell_type": "code",
   "execution_count": 187,
   "metadata": {},
   "outputs": [
    {
     "data": {
      "text/plain": [
       "[['BGH, Beschluss vom 21. Juli 2006 - 2 ARs 302/06, NStZ-RR 2007, 94',\n",
       "  2672,\n",
       "  2737],\n",
       " ['BGH, Beschluss vom 14. August 1981 - 2 ARs 174/81, BGHSt 30, 189',\n",
       "  3173,\n",
       "  3237],\n",
       " ['Beschluss vom 11. Juli 2012 - 2 ARs 164/12', 3239, 3281],\n",
       " ['BGH, Beschluss vom 14. August 1981 - 2 ARs 174/81, BGHSt 30, 189',\n",
       "  4096,\n",
       "  4160],\n",
       " ['BGH, Beschluss vom 21. Dezember 2010 - 2 ARs 441/10, BGH, Beschluss vom 11. Juli 2012 - 2 ARs 164/12, KK-StPO-Appl 6. Auflage 2008 § 462a',\n",
       "  4162,\n",
       "  4299],\n",
       " ['OLG Düsseldorf NStZ 1982, 47', 5261, 5289],\n",
       " ['BGH, Beschluss vom 22. November 2000 - 2 ARs 302/00, KK-StPO-Appl 6. Auflage 2008 § 462a',\n",
       "  5534,\n",
       "  5622]]"
      ]
     },
     "execution_count": 187,
     "metadata": {},
     "output_type": "execute_result"
    }
   ],
   "source": [
    "data_all_az.citations_gruende.iloc[256]"
   ]
  },
  {
   "cell_type": "code",
   "execution_count": 188,
   "metadata": {},
   "outputs": [
    {
     "data": {
      "text/plain": [
       "['2 ARs 302/06',\n",
       " '2 ARs 174/81',\n",
       " '2 ARs 164/12',\n",
       " '2 ARs 174/81',\n",
       " '2 ARs 441/10',\n",
       " '2 ARs 164/12',\n",
       " '2 ARs 302/00']"
      ]
     },
     "execution_count": 188,
     "metadata": {},
     "output_type": "execute_result"
    }
   ],
   "source": [
    "data_all_az.cited_az_gruende[256]"
   ]
  },
  {
   "cell_type": "code",
   "execution_count": 189,
   "metadata": {},
   "outputs": [
    {
     "data": {
      "text/plain": [
       "[(['2 ARs 302/06'], ['21. Juli 2006']),\n",
       " (['2 ARs 174/81'], ['14. August 1981']),\n",
       " (['2 ARs 164/12'], ['11. Juli 2012']),\n",
       " (['2 ARs 174/81'], ['14. August 1981']),\n",
       " (['2 ARs 441/10', '2 ARs 164/12'], ['21. Dezember 2010', '11. Juli 2012']),\n",
       " (['2 ARs 302/00'], ['22. November 2000'])]"
      ]
     },
     "execution_count": 189,
     "metadata": {},
     "output_type": "execute_result"
    }
   ],
   "source": [
    "data_all_az.cited_az_gruende_date.iloc[256]"
   ]
  },
  {
   "cell_type": "markdown",
   "metadata": {},
   "source": [
    "#### <span style='background:pink'>Save dataframe data_all_az to json file:"
   ]
  },
  {
   "cell_type": "code",
   "execution_count": 1301,
   "metadata": {},
   "outputs": [],
   "source": [
    "# data_all_az.to_json(\"data/dataframes/df_all_az_date.json\")"
   ]
  },
  {
   "cell_type": "markdown",
   "metadata": {},
   "source": [
    "#### <span style='background:lightgreen'>Load dataframe df_all_az_date from file:"
   ]
  },
  {
   "cell_type": "code",
   "execution_count": 11,
   "metadata": {},
   "outputs": [],
   "source": [
    "# load\n",
    "data_all_citations = pd.read_json('data/dataframes/df_all_az_date.json', orient='columns', encoding='utf-8')"
   ]
  },
  {
   "cell_type": "code",
   "execution_count": 191,
   "metadata": {},
   "outputs": [],
   "source": [
    "# flatten list of AZ with dates\n",
    "def flatAzWithDate(az_date: list):\n",
    "    if az_date:\n",
    "        citlis = []\n",
    "        for citation in az_date:\n",
    "            # one quote in list\n",
    "            if len(citation[0]) == 1:\n",
    "                # no date given\n",
    "                if not citation[1]:                    \n",
    "                    citlis.append((citation[0][0], None))\n",
    "                else:\n",
    "                    citlis.append((citation[0][0], citation[1][0]))\n",
    "            # more than one quote\n",
    "            else:\n",
    "                # list of citations and list of dates of same length\n",
    "                if len(citation[0])==len(citation[1]):\n",
    "                    zipped = zip(citation[0], citation[1])\n",
    "                    zipped = list(zipped)\n",
    "                    for z in zipped:\n",
    "                        citlis.append(z)\n",
    "                # list of citations with more items than list of dates                \n",
    "                if len(citation[0])>len(citation[1]):\n",
    "                    # date list contains at least 1 date\n",
    "                    # auffüllen und dann zippen\n",
    "                    if citation[1]:\n",
    "                        citation1 = list(citation[1]) * len(citation[0])\n",
    "                        zipped = zip(citation[0], citation1)\n",
    "                        zipped = list(zipped)\n",
    "                        for z in zipped:\n",
    "                            citlis.append(z)\n",
    "                    # date list is empty\n",
    "                    if not citation[1]:\n",
    "                        citation1 = [None] * len(citation[0])\n",
    "                        zipped = zip(citation[0], citation1)\n",
    "                        zipped = list(zipped)\n",
    "                        for z in zipped:\n",
    "                            citlis.append(z)                        \n",
    "                    \n",
    "        return citlis"
   ]
  },
  {
   "cell_type": "code",
   "execution_count": 12,
   "metadata": {},
   "outputs": [
    {
     "data": {
      "text/plain": [
       "[[['2 StR 137/14'], []],\n",
       " [['2 StR 337/14'], []],\n",
       " [['2 StR 137/14', '2 StR 337/14'], ['8. Oktober 2014']],\n",
       " [['2 StR 137/14'], []],\n",
       " [['2 StR 337/14'], []],\n",
       " [['III ZR 340/51'], ['29. September 1952']],\n",
       " [['GZ 1/55'], ['6. Juli 1955']],\n",
       " [['VI ZR 112/60'], ['16. Mai 1961']],\n",
       " [['III ZR 48/63'], ['13. Januar 1964']],\n",
       " [['VI ZR 137/63', 'VI ZR 139/63'], ['25. September 1964']],\n",
       " [['VI ZR 29/92'], ['16. Februar 1993']],\n",
       " [['VI ZB 26/05'], ['10. Januar 2006']],\n",
       " [['VI ZB 27/05', 'VI ZB 28/05'], []],\n",
       " [['4 U 165/13'], ['28. Mai 2014']],\n",
       " [['0 U 4757/13'], ['11. April 2014']],\n",
       " [['2 StR 151/98'], ['26. August 1998']],\n",
       " [['2 StR 503/13'], ['5. März 2014']],\n",
       " [['3 StR 478/92'], ['30. Oktober 1992']],\n",
       " [['3 StR 602/98'], ['5. Januar 1999']],\n",
       " [['3 StR 325/14'], ['2. September 2014']],\n",
       " [['4 StR 217/14'], ['18. Juni 2014']],\n",
       " [['3 StR 478/92'], ['30. Oktober 1992']],\n",
       " [['2 StR 232/93'], ['9. Juni 1993']],\n",
       " [['1 StR 668/94'], ['7. Februar 1995']],\n",
       " [['3 StR 338/95'], ['27. September 1995']],\n",
       " [['3 StR 346/14'], ['2. September 2014']],\n",
       " [['VI ZR 201/91'], ['13. Oktober 1992']],\n",
       " [['VI ZR 182/97'], ['12. Mai 1998']],\n",
       " [['III ZR 340/51'], ['29. September 1952']],\n",
       " [['GZ 1/55'], ['6. Juli 1955']],\n",
       " [['III ZR 340/51'], ['29. September 1952']],\n",
       " [['III ZR 340/51'], ['29. September 1952']]]"
      ]
     },
     "execution_count": 12,
     "metadata": {},
     "output_type": "execute_result"
    }
   ],
   "source": [
    "# before applying function\n",
    "data_all_citations.cited_az_gruende_date.iloc[389]"
   ]
  },
  {
   "cell_type": "code",
   "execution_count": 211,
   "metadata": {},
   "outputs": [],
   "source": [
    "# apply flatAzWithDate on df\n",
    "data_all_citations[\"cited_az_gruende_date_flat\"] = data_all_citations[\"cited_az_gruende_date\"].apply(flatAzWithDate)"
   ]
  },
  {
   "cell_type": "code",
   "execution_count": 212,
   "metadata": {},
   "outputs": [
    {
     "data": {
      "text/plain": [
       "[('2 StR 137/14', None),\n",
       " ('2 StR 337/14', None),\n",
       " ('2 StR 137/14', '8. Oktober 2014'),\n",
       " ('2 StR 337/14', '8. Oktober 2014'),\n",
       " ('2 StR 137/14', None),\n",
       " ('2 StR 337/14', None),\n",
       " ('III ZR 340/51', '29. September 1952'),\n",
       " ('GZ 1/55', '6. Juli 1955'),\n",
       " ('VI ZR 112/60', '16. Mai 1961'),\n",
       " ('III ZR 48/63', '13. Januar 1964'),\n",
       " ('VI ZR 137/63', '25. September 1964'),\n",
       " ('VI ZR 139/63', '25. September 1964'),\n",
       " ('VI ZR 29/92', '16. Februar 1993'),\n",
       " ('VI ZB 26/05', '10. Januar 2006'),\n",
       " ('VI ZB 27/05', None),\n",
       " ('VI ZB 28/05', None),\n",
       " ('4 U 165/13', '28. Mai 2014'),\n",
       " ('0 U 4757/13', '11. April 2014'),\n",
       " ('2 StR 151/98', '26. August 1998'),\n",
       " ('2 StR 503/13', '5. März 2014'),\n",
       " ('3 StR 478/92', '30. Oktober 1992'),\n",
       " ('3 StR 602/98', '5. Januar 1999'),\n",
       " ('3 StR 325/14', '2. September 2014'),\n",
       " ('4 StR 217/14', '18. Juni 2014'),\n",
       " ('3 StR 478/92', '30. Oktober 1992'),\n",
       " ('2 StR 232/93', '9. Juni 1993'),\n",
       " ('1 StR 668/94', '7. Februar 1995'),\n",
       " ('3 StR 338/95', '27. September 1995'),\n",
       " ('3 StR 346/14', '2. September 2014'),\n",
       " ('VI ZR 201/91', '13. Oktober 1992'),\n",
       " ('VI ZR 182/97', '12. Mai 1998'),\n",
       " ('III ZR 340/51', '29. September 1952'),\n",
       " ('GZ 1/55', '6. Juli 1955'),\n",
       " ('III ZR 340/51', '29. September 1952'),\n",
       " ('III ZR 340/51', '29. September 1952')]"
      ]
     },
     "execution_count": 212,
     "metadata": {},
     "output_type": "execute_result"
    }
   ],
   "source": [
    "# after applying flatAzWithDate\n",
    "data_all_citations.cited_az_gruende_date_flat[389]"
   ]
  },
  {
   "cell_type": "markdown",
   "metadata": {},
   "source": [
    "### convert dates of az / documents"
   ]
  },
  {
   "cell_type": "code",
   "execution_count": 206,
   "metadata": {},
   "outputs": [
    {
     "data": {
      "text/plain": [
       "4889    1505174400000\n",
       "921     1556236800000\n",
       "2828    1585094400000\n",
       "34      1273622400000\n",
       "2615    1361318400000\n",
       "Name: datum, dtype: int64"
      ]
     },
     "execution_count": 206,
     "metadata": {},
     "output_type": "execute_result"
    }
   ],
   "source": [
    "# before conversion:\n",
    "data_all_citations.datum.sample(5)"
   ]
  },
  {
   "cell_type": "code",
   "execution_count": 207,
   "metadata": {},
   "outputs": [],
   "source": [
    "# convert date to readable format\n",
    "def convertDatum(datum: int):\n",
    "    datum = datum//1000\n",
    "    return datetime.datetime.utcfromtimestamp(datum).strftime('%Y%m%d')    "
   ]
  },
  {
   "cell_type": "code",
   "execution_count": 208,
   "metadata": {},
   "outputs": [],
   "source": [
    "# apply convertDatum on df\n",
    "data_all_citations[\"datum\"] = data_all_citations[\"datum\"].apply(convertDatum)"
   ]
  },
  {
   "cell_type": "code",
   "execution_count": 209,
   "metadata": {},
   "outputs": [
    {
     "data": {
      "text/plain": [
       "2230    20130213\n",
       "3600    20180322\n",
       "235     20130130\n",
       "1291    20130902\n",
       "2216    20121204\n",
       "Name: datum, dtype: object"
      ]
     },
     "execution_count": 209,
     "metadata": {},
     "output_type": "execute_result"
    }
   ],
   "source": [
    "# after date conversion:\n",
    "data_all_citations.datum.sample(5)"
   ]
  },
  {
   "cell_type": "markdown",
   "metadata": {},
   "source": [
    "### convert dates extracted from citations"
   ]
  },
  {
   "cell_type": "code",
   "execution_count": 213,
   "metadata": {},
   "outputs": [
    {
     "data": {
      "text/plain": [
       "'7. Februar 2007'"
      ]
     },
     "execution_count": 213,
     "metadata": {},
     "output_type": "execute_result"
    }
   ],
   "source": [
    "# example date\n",
    "bsp_datum = data_all_citations.cited_az_gruende_date_flat[0][0][1]\n",
    "bsp_datum\n",
    "# ist: '7. Februar 2007'\n",
    "# soll: 20070207"
   ]
  },
  {
   "cell_type": "code",
   "execution_count": 214,
   "metadata": {},
   "outputs": [],
   "source": [
    "# regex patterns for date\n",
    "re_month = re.compile(\"[J|F|M|A|S|O|N|D][a-zä]{2,}\")\n",
    "re_day = re.compile(\"\\d{1,2}\\.\")\n",
    "re_year = re.compile(\"[1|2]\\d{3}\")"
   ]
  },
  {
   "cell_type": "code",
   "execution_count": 215,
   "metadata": {},
   "outputs": [],
   "source": [
    "def convertMonth(month: str):\n",
    "        months={\n",
    "                \"Januar\":'01',\n",
    "                \"Februar\":'02',\n",
    "                \"März\":'03',\n",
    "                \"April\":'04',\n",
    "                \"Mai\":'05',\n",
    "                \"Juni\":'06',\n",
    "                \"Juli\":'07',\n",
    "                \"August\": \"08\",\n",
    "                \"September\": \"09\",\n",
    "                \"Oktober\": \"10\",\n",
    "                \"November\": \"11\",\n",
    "                \"Dezember\": \"12\"         \n",
    "                }\n",
    "        return months.get(month,\"Invalid month\")    "
   ]
  },
  {
   "cell_type": "code",
   "execution_count": 216,
   "metadata": {},
   "outputs": [],
   "source": [
    "def convertDate(datum: str):\n",
    "    year = re_year.findall(datum)[0]\n",
    "    month = re_month.findall(datum)[0]\n",
    "    day = re_day.findall(datum)[0]\n",
    "    # convert month\n",
    "    m = convertMonth(month)    \n",
    "    # convert day\n",
    "    d = day[:len(day)-1]\n",
    "    if int(d) < 10:\n",
    "        d = str(0) + d\n",
    "    return year+m+d"
   ]
  },
  {
   "cell_type": "code",
   "execution_count": 217,
   "metadata": {},
   "outputs": [],
   "source": [
    "def convertDateFromCitation(cit_tup_list: list):\n",
    "    if cit_tup_list:\n",
    "        new_tup_list = []\n",
    "        for tupel in cit_tup_list:\n",
    "            if tupel[1]:\n",
    "                tupel_2 = list(tupel)\n",
    "                tupel_2[1] = convertDate(tupel[1])\n",
    "                tupel = tuple(tupel_2)\n",
    "                new_tup_list.append(tupel)\n",
    "            else:\n",
    "                new_tup_list.append(tupel)\n",
    "        return new_tup_list    "
   ]
  },
  {
   "cell_type": "code",
   "execution_count": 218,
   "metadata": {},
   "outputs": [],
   "source": [
    "# apply date conversion on cited_az_gruende_date_flat\n",
    "data_all_citations[\"cited_az_gruende_date_converted\"] = data_all_citations[\"cited_az_gruende_date_flat\"].apply(convertDateFromCitation)"
   ]
  },
  {
   "cell_type": "code",
   "execution_count": 219,
   "metadata": {},
   "outputs": [
    {
     "data": {
      "text/plain": [
       "[('2 ARs 302/06', '20060721'),\n",
       " ('2 ARs 174/81', '19810814'),\n",
       " ('2 ARs 164/12', '20120711'),\n",
       " ('2 ARs 174/81', '19810814'),\n",
       " ('2 ARs 441/10', '20101221'),\n",
       " ('2 ARs 164/12', '20120711'),\n",
       " ('2 ARs 302/00', '20001122')]"
      ]
     },
     "execution_count": 219,
     "metadata": {},
     "output_type": "execute_result"
    }
   ],
   "source": [
    "data_all_citations.cited_az_gruende_date_converted.iloc[256]"
   ]
  },
  {
   "cell_type": "markdown",
   "metadata": {},
   "source": [
    "### Herausfinden, wie viele Zitate zuordbar sind zu Dokumenten in vorhandener Datenmenge. Verbindungen zwischen vorhandenen Dokumenten und zitierten Dokumenten finden"
   ]
  },
  {
   "cell_type": "code",
   "execution_count": 240,
   "metadata": {},
   "outputs": [],
   "source": [
    "def analyseCitationMatches(tup_list: list):   \n",
    "    count_same_az_ = 0\n",
    "    count_not_found = 0\n",
    "    count_ambiguous = 0\n",
    "    for tup in tup_list:\n",
    "        amount = data_all_citations['az'].str.match(tup[0]).sum()        \n",
    "        if amount > 1:\n",
    "            # additionally check for date --> convert dates to same format\n",
    "            occurrences = len(data_all_citations[data_all_citations['az'].str.match(tup[0])].index)\n",
    "            idxs = data_all_citations[data_all_citations['az'].str.match(tup[0])].index\n",
    "            statement = \"found \" + str(occurrences) + \" times: \" + str(tup) + \" at \" + str(idxs)\n",
    "            print(statement)\n",
    "            count_ambiguous += 1   \n",
    "        if amount == 1:\n",
    "            print(\"found once: \", tup[0])\n",
    "            count_same_az_ += 1\n",
    "        if amount == 0:\n",
    "            print(\"not found: \", tup[0])\n",
    "            count_not_found += 1\n",
    "    return count_same_az_, count_not_found, count_ambiguous"
   ]
  },
  {
   "cell_type": "code",
   "execution_count": 241,
   "metadata": {},
   "outputs": [],
   "source": [
    "# try an example\n",
    "tl = data_all_citations.cited_az_gruende_date_converted[5822]"
   ]
  },
  {
   "cell_type": "code",
   "execution_count": 242,
   "metadata": {},
   "outputs": [
    {
     "name": "stdout",
     "output_type": "stream",
     "text": [
      "found once:  1 StR 178/13\n",
      "found once:  5 StR 214/18\n",
      "found once:  2 StR 150/18\n",
      "found once:  1 StR 551/17\n",
      "not found:  2 BvR 930/04\n",
      "found once:  1 StR 76/17\n",
      "found once:  3 StR 417/15\n",
      "found once:  3 StR 214/15\n",
      "found once:  2 StR 460/16\n",
      "found once:  2 StR 214/16\n",
      "not found:  1 StR 577/05\n",
      "not found:  1 StR 213/04\n",
      "found once:  3 StR 214/15\n",
      "found once:  3 StR 417/15\n",
      "found 2 times: ('3 StR 452/18', '20190320') at Int64Index([4726, 5574], dtype='int64')\n",
      "found once:  2 StR 376/12\n",
      "found once:  2 StR 320/15\n",
      "found once:  2 StR 413/13\n",
      "found once:  1 StR 239/17\n",
      "found once:  2 StR 278/09\n",
      "not found:  3 StR 176/80\n"
     ]
    },
    {
     "data": {
      "text/plain": [
       "(16, 4, 1)"
      ]
     },
     "execution_count": 242,
     "metadata": {},
     "output_type": "execute_result"
    }
   ],
   "source": [
    "analyseCitationMatches(tl)"
   ]
  },
  {
   "cell_type": "code",
   "execution_count": 1334,
   "metadata": {},
   "outputs": [
    {
     "data": {
      "text/html": [
       "<div>\n",
       "<style scoped>\n",
       "    .dataframe tbody tr th:only-of-type {\n",
       "        vertical-align: middle;\n",
       "    }\n",
       "\n",
       "    .dataframe tbody tr th {\n",
       "        vertical-align: top;\n",
       "    }\n",
       "\n",
       "    .dataframe thead th {\n",
       "        text-align: right;\n",
       "    }\n",
       "</style>\n",
       "<table border=\"1\" class=\"dataframe\">\n",
       "  <thead>\n",
       "    <tr style=\"text-align: right;\">\n",
       "      <th></th>\n",
       "      <th>az</th>\n",
       "      <th>datum</th>\n",
       "      <th>doknr</th>\n",
       "      <th>gertyp</th>\n",
       "      <th>spruchkoerper</th>\n",
       "      <th>doktyp</th>\n",
       "      <th>titel</th>\n",
       "      <th>tenor</th>\n",
       "      <th>gruende</th>\n",
       "      <th>citations_gruende</th>\n",
       "      <th>citations_tenor</th>\n",
       "      <th>cited_az_gruende</th>\n",
       "      <th>cited_az_tenor</th>\n",
       "      <th>set_az_gruende</th>\n",
       "      <th>cited_az_gruende_date</th>\n",
       "      <th>cited_az_gruende_date_flat</th>\n",
       "      <th>cited_az_gruende_date_converted</th>\n",
       "    </tr>\n",
       "  </thead>\n",
       "  <tbody>\n",
       "    <tr>\n",
       "      <th>4726</th>\n",
       "      <td>3 StR 452/18</td>\n",
       "      <td>20190320</td>\n",
       "      <td>KORE605192019</td>\n",
       "      <td>BGH</td>\n",
       "      <td>3. Strafsenat</td>\n",
       "      <td>Beschluss</td>\n",
       "      <td>Berücksichtigung des Erziehungsgedankens bei A...</td>\n",
       "      <td>1. Auf die Revision des Angeklagten wird das U...</td>\n",
       "      <td>Das Landgericht hat den Angeklagten wegen beso...</td>\n",
       "      <td>[[BGH, Beschluss vom 20. März 2019 - 3 StR 452...</td>\n",
       "      <td>None</td>\n",
       "      <td>[3 StR 452/18, 1 StR 76/17, 3 StR 417/15, 3 St...</td>\n",
       "      <td>None</td>\n",
       "      <td>[2 StR 150/18, 1 StR 95/16, 2 StR 460/16, 1 St...</td>\n",
       "      <td>[[[3 StR 452/18], [20. März 2019]], [[1 StR 76...</td>\n",
       "      <td>[(3 StR 452/18, 20. März 2019), (1 StR 76/17, ...</td>\n",
       "      <td>[(3 StR 452/18, 20190320), (1 StR 76/17, 20170...</td>\n",
       "    </tr>\n",
       "    <tr>\n",
       "      <th>5574</th>\n",
       "      <td>3 StR 452/18</td>\n",
       "      <td>20190320</td>\n",
       "      <td>KORE605182019</td>\n",
       "      <td>BGH</td>\n",
       "      <td>3. Strafsenat</td>\n",
       "      <td>Beschluss</td>\n",
       "      <td>Verfahrenseröffnung: Anforderungen an die rich...</td>\n",
       "      <td>1. Auf die Revision des Angeklagten wird das U...</td>\n",
       "      <td>Das Landgericht hat den Angeklagten wegen beso...</td>\n",
       "      <td>[[BGH, Urteil vom 7. Januar 1959 - 2 StR 550/5...</td>\n",
       "      <td>None</td>\n",
       "      <td>[2 StR 550/58, 1 StR 377/88]</td>\n",
       "      <td>None</td>\n",
       "      <td>[1 StR 377/88, 2 StR 550/58]</td>\n",
       "      <td>[[[2 StR 550/58], [7. Januar 1959]], [[1 StR 3...</td>\n",
       "      <td>[(2 StR 550/58, 7. Januar 1959), (1 StR 377/88...</td>\n",
       "      <td>[(2 StR 550/58, 19590107), (1 StR 377/88, 1988...</td>\n",
       "    </tr>\n",
       "  </tbody>\n",
       "</table>\n",
       "</div>"
      ],
      "text/plain": [
       "                az     datum          doknr gertyp  spruchkoerper     doktyp  \\\n",
       "4726  3 StR 452/18  20190320  KORE605192019    BGH  3. Strafsenat  Beschluss   \n",
       "5574  3 StR 452/18  20190320  KORE605182019    BGH  3. Strafsenat  Beschluss   \n",
       "\n",
       "                                                  titel  \\\n",
       "4726  Berücksichtigung des Erziehungsgedankens bei A...   \n",
       "5574  Verfahrenseröffnung: Anforderungen an die rich...   \n",
       "\n",
       "                                                  tenor  \\\n",
       "4726  1. Auf die Revision des Angeklagten wird das U...   \n",
       "5574  1. Auf die Revision des Angeklagten wird das U...   \n",
       "\n",
       "                                                gruende  \\\n",
       "4726  Das Landgericht hat den Angeklagten wegen beso...   \n",
       "5574  Das Landgericht hat den Angeklagten wegen beso...   \n",
       "\n",
       "                                      citations_gruende citations_tenor  \\\n",
       "4726  [[BGH, Beschluss vom 20. März 2019 - 3 StR 452...            None   \n",
       "5574  [[BGH, Urteil vom 7. Januar 1959 - 2 StR 550/5...            None   \n",
       "\n",
       "                                       cited_az_gruende cited_az_tenor  \\\n",
       "4726  [3 StR 452/18, 1 StR 76/17, 3 StR 417/15, 3 St...           None   \n",
       "5574                       [2 StR 550/58, 1 StR 377/88]           None   \n",
       "\n",
       "                                         set_az_gruende  \\\n",
       "4726  [2 StR 150/18, 1 StR 95/16, 2 StR 460/16, 1 St...   \n",
       "5574                       [1 StR 377/88, 2 StR 550/58]   \n",
       "\n",
       "                                  cited_az_gruende_date  \\\n",
       "4726  [[[3 StR 452/18], [20. März 2019]], [[1 StR 76...   \n",
       "5574  [[[2 StR 550/58], [7. Januar 1959]], [[1 StR 3...   \n",
       "\n",
       "                             cited_az_gruende_date_flat  \\\n",
       "4726  [(3 StR 452/18, 20. März 2019), (1 StR 76/17, ...   \n",
       "5574  [(2 StR 550/58, 7. Januar 1959), (1 StR 377/88...   \n",
       "\n",
       "                        cited_az_gruende_date_converted  \n",
       "4726  [(3 StR 452/18, 20190320), (1 StR 76/17, 20170...  \n",
       "5574  [(2 StR 550/58, 19590107), (1 StR 377/88, 1988...  "
      ]
     },
     "execution_count": 1334,
     "metadata": {},
     "output_type": "execute_result"
    }
   ],
   "source": [
    "# look at '3 StR 452/18' (found twice)\n",
    "data_all_citations[data_all_citations['az'].str.match('3 StR 452/18')]\n",
    "# --> same az AND same date..!"
   ]
  },
  {
   "cell_type": "code",
   "execution_count": 233,
   "metadata": {},
   "outputs": [
    {
     "name": "stdout",
     "output_type": "stream",
     "text": [
      "found once:  1 StR 104/15\n",
      "found once:  1 StR 220/09\n",
      "found once:  2 StR 111/09\n",
      "not found:  2 StR 587/07\n",
      "found once:  2 StR 111/09\n",
      "found once:  3 StR 90/10\n",
      "found once:  2 StR 111/09\n",
      "found once:  3 StR 265/14\n",
      "found once:  1 StR 540/16\n",
      "found once:  1 StR 220/09\n",
      "found once:  1 StR 532/12\n",
      "not found:  5 StR 119/05\n",
      "found once:  4 StR 345/09\n",
      "not found:  5 StR 299/03\n",
      "not found:  5 StR 299/03\n",
      "found once:  3 StR 265/14\n",
      "found once:  1 StR 220/09\n",
      "not found:  4 StR 571/74\n",
      "found once:  5 StR 182/14\n",
      "found once:  1 StR 220/09\n",
      "not found:  2 BvR 1235/11\n",
      "not found:  2 BvR 2559/08\n",
      "not found:  2 BvR 1235/11\n",
      "not found:  2 BvR 2559/08\n",
      "found once:  1 StR 94/10\n",
      "found once:  1 StR 220/09\n",
      "found once:  2 StR 591/11\n",
      "found 2 times: ('3 StR 17/15', '20151126') at Int64Index([1545, 3568], dtype='int64')\n",
      "found once:  2 StR 111/09\n",
      "found once:  1 StR 104/15\n",
      "found once:  2 StR 111/09\n",
      "not found:  2 StR 587/07\n",
      "found once:  2 StR 111/09\n",
      "found once:  2 StR 111/09\n",
      "not found:  2 StR 587/07\n",
      "not found:  4 StR 59/04\n",
      "found once:  2 StR 586/12\n",
      "found once:  1 StR 642/17\n",
      "not found:  5 StR 420/03\n",
      "not found:  3 Ws 80/84\n",
      "not found:  6 K 385/95\n",
      "not found:  3 StR 373/86\n",
      "found once:  1 StR 56/17\n",
      "found once:  1 StR 265/16\n",
      "found once:  1 StR 535/17\n",
      "found once:  1 StR 458/10\n",
      "not found:  StB 11/91\n",
      "not found:  2 StR 587/07\n",
      "found once:  5 StR 46/18\n",
      "found once:  1 StR 399/14\n",
      "not found:  2 StR 587/07\n",
      "not found:  1 StR 288/05\n",
      "found once:  1 StR 56/17\n"
     ]
    },
    {
     "data": {
      "text/plain": [
       "(32, 20, 1)"
      ]
     },
     "execution_count": 233,
     "metadata": {},
     "output_type": "execute_result"
    }
   ],
   "source": [
    "# another example\n",
    "analyseCitationMatches(data_all_citations.cited_az_gruende_date_converted[822])"
   ]
  },
  {
   "cell_type": "code",
   "execution_count": 234,
   "metadata": {},
   "outputs": [
    {
     "data": {
      "text/html": [
       "<div>\n",
       "<style scoped>\n",
       "    .dataframe tbody tr th:only-of-type {\n",
       "        vertical-align: middle;\n",
       "    }\n",
       "\n",
       "    .dataframe tbody tr th {\n",
       "        vertical-align: top;\n",
       "    }\n",
       "\n",
       "    .dataframe thead th {\n",
       "        text-align: right;\n",
       "    }\n",
       "</style>\n",
       "<table border=\"1\" class=\"dataframe\">\n",
       "  <thead>\n",
       "    <tr style=\"text-align: right;\">\n",
       "      <th></th>\n",
       "      <th>az</th>\n",
       "      <th>datum</th>\n",
       "      <th>doknr</th>\n",
       "      <th>gertyp</th>\n",
       "      <th>spruchkoerper</th>\n",
       "      <th>doktyp</th>\n",
       "      <th>titel</th>\n",
       "      <th>tenor</th>\n",
       "      <th>gruende</th>\n",
       "      <th>citations_gruende</th>\n",
       "      <th>citations_tenor</th>\n",
       "      <th>cited_az_gruende</th>\n",
       "      <th>cited_az_tenor</th>\n",
       "      <th>set_az_gruende</th>\n",
       "      <th>cited_az_gruende_date</th>\n",
       "      <th>cited_az_gruende_date_flat</th>\n",
       "      <th>cited_az_gruende_date_converted</th>\n",
       "    </tr>\n",
       "  </thead>\n",
       "  <tbody>\n",
       "    <tr>\n",
       "      <th>1545</th>\n",
       "      <td>3 StR 17/15</td>\n",
       "      <td>20160628</td>\n",
       "      <td>JURE160014078</td>\n",
       "      <td>BGH</td>\n",
       "      <td>3. Strafsenat</td>\n",
       "      <td>Beschluss</td>\n",
       "      <td>Rechtliches Gehör im Strafverfahren: Hinweis d...</td>\n",
       "      <td>Die Anhörungsrüge des Verurteilten gegen den S...</td>\n",
       "      <td>Der Senat hat mit Beschluss vom 26. November 2...</td>\n",
       "      <td>[[BVerfG, Beschlüsse vom 21. Januar 2002 - 2 B...</td>\n",
       "      <td>None</td>\n",
       "      <td>[2 BvR 1225/01, 2 BvR 792/11, 3 StR 95/12, 1 B...</td>\n",
       "      <td>None</td>\n",
       "      <td>[1 BvR 1383/90, 3 StR 95/12, 1 StR 215/01, 2 B...</td>\n",
       "      <td>[[[2 BvR 1225/01], [21. Januar 2002]], [[2 BvR...</td>\n",
       "      <td>[(2 BvR 1225/01, 21. Januar 2002), (2 BvR 792/...</td>\n",
       "      <td>[(2 BvR 1225/01, 20020121), (2 BvR 792/11, 201...</td>\n",
       "    </tr>\n",
       "    <tr>\n",
       "      <th>3568</th>\n",
       "      <td>3 StR 17/15</td>\n",
       "      <td>20151126</td>\n",
       "      <td>KORE303732016</td>\n",
       "      <td>BGH</td>\n",
       "      <td>3. Strafsenat</td>\n",
       "      <td>Beschluss</td>\n",
       "      <td>Untreue: Vermögensbetreuungspflicht eines Mitg...</td>\n",
       "      <td>1. Auf die Revisionen der Angeklagten wird das...</td>\n",
       "      <td>Das Landgericht hat den Angeklagten D. unter F...</td>\n",
       "      <td>[[BGH, Beschlüsse vom 1. April 2008 - 3 StR 49...</td>\n",
       "      <td>None</td>\n",
       "      <td>[3 StR 493/07, 1 StR 220/09, 4 StR 156/11, 3 S...</td>\n",
       "      <td>None</td>\n",
       "      <td>[1 StR 731/08, 1 StR 544/90, 1 StR 755/75, XI ...</td>\n",
       "      <td>[[[3 StR 493/07], [1. April 2008]], [[1 StR 22...</td>\n",
       "      <td>[(3 StR 493/07, 1. April 2008), (1 StR 220/09,...</td>\n",
       "      <td>[(3 StR 493/07, 20080401), (1 StR 220/09, 2010...</td>\n",
       "    </tr>\n",
       "  </tbody>\n",
       "</table>\n",
       "</div>"
      ],
      "text/plain": [
       "               az     datum          doknr gertyp  spruchkoerper     doktyp  \\\n",
       "1545  3 StR 17/15  20160628  JURE160014078    BGH  3. Strafsenat  Beschluss   \n",
       "3568  3 StR 17/15  20151126  KORE303732016    BGH  3. Strafsenat  Beschluss   \n",
       "\n",
       "                                                  titel  \\\n",
       "1545  Rechtliches Gehör im Strafverfahren: Hinweis d...   \n",
       "3568  Untreue: Vermögensbetreuungspflicht eines Mitg...   \n",
       "\n",
       "                                                  tenor  \\\n",
       "1545  Die Anhörungsrüge des Verurteilten gegen den S...   \n",
       "3568  1. Auf die Revisionen der Angeklagten wird das...   \n",
       "\n",
       "                                                gruende  \\\n",
       "1545  Der Senat hat mit Beschluss vom 26. November 2...   \n",
       "3568  Das Landgericht hat den Angeklagten D. unter F...   \n",
       "\n",
       "                                      citations_gruende citations_tenor  \\\n",
       "1545  [[BVerfG, Beschlüsse vom 21. Januar 2002 - 2 B...            None   \n",
       "3568  [[BGH, Beschlüsse vom 1. April 2008 - 3 StR 49...            None   \n",
       "\n",
       "                                       cited_az_gruende cited_az_tenor  \\\n",
       "1545  [2 BvR 1225/01, 2 BvR 792/11, 3 StR 95/12, 1 B...           None   \n",
       "3568  [3 StR 493/07, 1 StR 220/09, 4 StR 156/11, 3 S...           None   \n",
       "\n",
       "                                         set_az_gruende  \\\n",
       "1545  [1 BvR 1383/90, 3 StR 95/12, 1 StR 215/01, 2 B...   \n",
       "3568  [1 StR 731/08, 1 StR 544/90, 1 StR 755/75, XI ...   \n",
       "\n",
       "                                  cited_az_gruende_date  \\\n",
       "1545  [[[2 BvR 1225/01], [21. Januar 2002]], [[2 BvR...   \n",
       "3568  [[[3 StR 493/07], [1. April 2008]], [[1 StR 22...   \n",
       "\n",
       "                             cited_az_gruende_date_flat  \\\n",
       "1545  [(2 BvR 1225/01, 21. Januar 2002), (2 BvR 792/...   \n",
       "3568  [(3 StR 493/07, 1. April 2008), (1 StR 220/09,...   \n",
       "\n",
       "                        cited_az_gruende_date_converted  \n",
       "1545  [(2 BvR 1225/01, 20020121), (2 BvR 792/11, 201...  \n",
       "3568  [(3 StR 493/07, 20080401), (1 StR 220/09, 2010...  "
      ]
     },
     "execution_count": 234,
     "metadata": {},
     "output_type": "execute_result"
    }
   ],
   "source": [
    "# look at '3 StR 17/15' (found twice)\n",
    "data_all_citations[data_all_citations['az'].str.match('3 StR 17/15')]\n",
    "# --> same az, different date\n",
    "# hier ist das ältere Dokument mit Index 3568 gemeint"
   ]
  },
  {
   "cell_type": "markdown",
   "metadata": {},
   "source": [
    "### Wie viele Zitate gibt es insgesamt in Gründe?"
   ]
  },
  {
   "cell_type": "code",
   "execution_count": 230,
   "metadata": {},
   "outputs": [],
   "source": [
    "def countAmountCitations(citlist: list):\n",
    "    if citlist:\n",
    "        return len(citlist)\n",
    "    else:\n",
    "        return 0"
   ]
  },
  {
   "cell_type": "code",
   "execution_count": 232,
   "metadata": {},
   "outputs": [],
   "source": [
    "# apply countAmountCitations on df\n",
    "data_all_citations[\"amount_cit_gruende\"] = data_all_citations.citations_gruende.apply(countAmountCitations)"
   ]
  },
  {
   "cell_type": "code",
   "execution_count": 235,
   "metadata": {},
   "outputs": [
    {
     "data": {
      "text/plain": [
       "[['BGH NJW 1980, 2423', 2452, 2470],\n",
       " ['NStZ 1985, 184', 2472, 2486],\n",
       " ['Senat, Urt. vom 20. März 2008 - 4 StR 5/08', 2529, 2571],\n",
       " ['BGH, Beschl. vom 9. November 2009 - 5 StR 136/09', 4696, 4744],\n",
       " ['BGH, Urt. vom 28. Oktober 2009 - 1 StR 205/09 Rdn.', 5317, 5367]]"
      ]
     },
     "execution_count": 235,
     "metadata": {},
     "output_type": "execute_result"
    }
   ],
   "source": [
    "# check application for document with index 6:\n",
    "data_all_citations.citations_gruende.iloc[6]"
   ]
  },
  {
   "cell_type": "code",
   "execution_count": 236,
   "metadata": {},
   "outputs": [
    {
     "data": {
      "text/plain": [
       "5"
      ]
     },
     "execution_count": 236,
     "metadata": {},
     "output_type": "execute_result"
    }
   ],
   "source": [
    "data_all_citations.amount_cit_gruende.iloc[6]"
   ]
  },
  {
   "cell_type": "code",
   "execution_count": 234,
   "metadata": {},
   "outputs": [
    {
     "data": {
      "text/plain": [
       "52699"
      ]
     },
     "execution_count": 234,
     "metadata": {},
     "output_type": "execute_result"
    }
   ],
   "source": [
    "sum_citations = data_all_citations.amount_cit_gruende.sum(axis=0, skipna=True)\n",
    "sum_citations"
   ]
  },
  {
   "cell_type": "markdown",
   "metadata": {},
   "source": [
    "### Wie viele Aktenzeichen werden aus den Zitaten extrahiert?"
   ]
  },
  {
   "cell_type": "code",
   "execution_count": 237,
   "metadata": {},
   "outputs": [],
   "source": [
    "def countAmountAz(azlist: list):\n",
    "    if azlist: \n",
    "        return len(azlist)\n",
    "    else:\n",
    "        return 0    "
   ]
  },
  {
   "cell_type": "code",
   "execution_count": 238,
   "metadata": {},
   "outputs": [],
   "source": [
    "data_all_citations[\"amount_az_gruende\"] = data_all_citations.cited_az_gruende.apply(countAmountAz)"
   ]
  },
  {
   "cell_type": "code",
   "execution_count": 239,
   "metadata": {},
   "outputs": [
    {
     "data": {
      "text/plain": [
       "46457"
      ]
     },
     "execution_count": 239,
     "metadata": {},
     "output_type": "execute_result"
    }
   ],
   "source": [
    "sum_aktenz = data_all_citations.amount_az_gruende.sum(axis=0, skipna=True)\n",
    "sum_aktenz"
   ]
  },
  {
   "cell_type": "code",
   "execution_count": 240,
   "metadata": {},
   "outputs": [
    {
     "data": {
      "text/plain": [
       "0.8815537296722898"
      ]
     },
     "execution_count": 240,
     "metadata": {},
     "output_type": "execute_result"
    }
   ],
   "source": [
    "sum_aktenz/sum_citations\n",
    "#--> 88,16% der Zitate werden aufgelöst in Aktenzeichen"
   ]
  },
  {
   "cell_type": "code",
   "execution_count": 243,
   "metadata": {},
   "outputs": [],
   "source": [
    "# az mit datum:\n",
    "# --> berücksichtigt jeweils einzeln, wenn mehrere Aktenzeichen in einem Zitat vorkommen (wurde geflatted)\n",
    "data_all_citations[\"amount_az_date_gruende\"] = data_all_citations.cited_az_gruende_date_converted.apply(countAmountCitations)"
   ]
  },
  {
   "cell_type": "markdown",
   "metadata": {},
   "source": [
    "### Wie einzigartig sind die doknr?"
   ]
  },
  {
   "cell_type": "code",
   "execution_count": 34,
   "metadata": {},
   "outputs": [
    {
     "data": {
      "text/plain": [
       "5826"
      ]
     },
     "execution_count": 34,
     "metadata": {},
     "output_type": "execute_result"
    }
   ],
   "source": [
    "len(data_citations_matches.doknr.unique())\n",
    "# --> doknr sind 100% eindeutig!"
   ]
  },
  {
   "cell_type": "markdown",
   "metadata": {},
   "source": [
    "### Wie einzigartig sind die az?"
   ]
  },
  {
   "cell_type": "code",
   "execution_count": 245,
   "metadata": {},
   "outputs": [
    {
     "data": {
      "text/plain": [
       "5640"
      ]
     },
     "execution_count": 245,
     "metadata": {},
     "output_type": "execute_result"
    }
   ],
   "source": [
    "len(data_all_citations.az.unique())\n",
    "# --> nicht eindeutig! es gibt mehrfache Vorkommen (die sich immer auf denselben Fall beziehen),\n",
    "# aber mehrere Entscheidungen mit sich bringen.\n",
    "# Bestätigt Feststellung von oben, dass eindeutige Zuordbarkeit nur unter Hinzunahme von Datum\n",
    "# möglich ist"
   ]
  },
  {
   "cell_type": "markdown",
   "metadata": {},
   "source": [
    "# Matching Algorithmus"
   ]
  },
  {
   "cell_type": "code",
   "execution_count": null,
   "metadata": {},
   "outputs": [],
   "source": [
    "\"\"\"\n",
    "(nachdem in Netz einige Fehler festgestellt wurden: Änderung der CitationMatches-Funktion. \n",
    "--> Datum wird jetzt immer einbezogen\n",
    "--> hierdurch wird sich die Gesamtmenge reduzieren, da nicht alle Zitate ein Datum nennen\n",
    "\"\"\""
   ]
  },
  {
   "cell_type": "code",
   "execution_count": 247,
   "metadata": {},
   "outputs": [
    {
     "data": {
      "text/plain": [
       "[('4 StR 215/10', '20101028'),\n",
       " ('1 StR 75/11', '20110315'),\n",
       " ('4 StR 215/10', '20101028')]"
      ]
     },
     "execution_count": 247,
     "metadata": {},
     "output_type": "execute_result"
    }
   ],
   "source": [
    "data_all_citations.cited_az_gruende_date_converted[2100]"
   ]
  },
  {
   "cell_type": "code",
   "execution_count": 381,
   "metadata": {},
   "outputs": [],
   "source": [
    "# NEU\n",
    "# matching function -> match citation and document, considering az and date\n",
    "def getCitationMatchesWithDate(tup_list: list, self_doknr: str, df): \n",
    "    if tup_list:\n",
    "        doknr_list = []\n",
    "        \n",
    "        for tup in tup_list:\n",
    "            # how often does az exist in corpus\n",
    "            amount = df['az'].str.contains(tup[0]).sum()\n",
    "            datum = tup[1]\n",
    "            \n",
    "            # convert datum to int to make comparable\n",
    "            if datum:\n",
    "                datum = int(datum)\n",
    "            else:\n",
    "                datum = -1\n",
    "            \n",
    "            own_index = df[df.doknr==self_doknr].index.values\n",
    "           \n",
    "            # mehr als ein Dokument mit Az in Korpus\n",
    "            if amount > 1 and datum != -1:\n",
    "                # get indizes \n",
    "                idxs = df[df['az'].str.contains(tup[0])].index.values\n",
    "\n",
    "                # zähle Treffer mit korrektem Datum\n",
    "                count_date_match = 0\n",
    "                possible_targets = []\n",
    "                for idx in idxs:\n",
    "\n",
    "                    datum2 = df.datum[idx]\n",
    "              \n",
    "\n",
    "                    if datum2 == str(datum):\n",
    "                  \n",
    "                        count_date_match += 1\n",
    "                        possible_targets.append(idx)\n",
    "\n",
    "                \n",
    "                # prevent self-quotation\n",
    "                if own_index in possible_targets:\n",
    "                    possible_targets.remove(own_index)\n",
    "                   \n",
    "                # genau ein Datumstreffer\n",
    "                if count_date_match == 1 and possible_targets:\n",
    "                    \n",
    "                    # take document with correct date\n",
    "                    doknr = df.loc[df['az'].str.contains(tup[0]) & (df['datum'] == str(datum))].doknr.values[0]\n",
    " \n",
    "                    # prevent self-quotation\n",
    "                    if self_doknr != doknr:\n",
    "                        doknr_list.append(doknr)\n",
    "                        \n",
    "                # mehr als ein Datumstreffer\n",
    "                if count_date_match > 1:\n",
    "                    # take document with correct az with most citations\n",
    "                    citations = []\n",
    "                    #for idx in idxs:\n",
    "                    for target in possible_targets:                        \n",
    "                        if df.citations_gruende[target]:\n",
    "                            cit_len = (target, len(df.citations_gruende[target]))\n",
    "                        else:\n",
    "                            cit_len = (target, 0)\n",
    "                        citations.append(cit_len)\n",
    "                        \n",
    "                    max_cit = max(citations, key=lambda x:x[1])\n",
    "                    max_cit_idx = max_cit[0]\n",
    "                    doknr = df.doknr[max_cit_idx]\n",
    "                    doknr_list.append(doknr)                    \n",
    "\n",
    "                \n",
    "            # ein Dokument mit Az in Korpus\n",
    "            if amount == 1 and datum != -1:\n",
    "                az = tup[0]\n",
    "              \n",
    "                idx = df[df['az'].str.contains(az)].index.values[0]\n",
    "           \n",
    "                # get doknr from matching document with datum check\n",
    "                if int(df.loc[idx].datum) == datum and idx != own_index:\n",
    "\n",
    "                    doknr = df.loc[idx].doknr\n",
    "                    doknr_list.append(doknr)\n",
    "            \n",
    "        return doknr_list"
   ]
  },
  {
   "cell_type": "markdown",
   "metadata": {},
   "source": [
    "Test getCitationMatchesWithDate on different cases:"
   ]
  },
  {
   "cell_type": "code",
   "execution_count": 382,
   "metadata": {},
   "outputs": [
    {
     "name": "stdout",
     "output_type": "stream",
     "text": [
      "[('2 StR 137/14', None), ('2 StR 337/14', None), ('2 StR 137/14', '20141008'), ('2 StR 337/14', '20141008'), ('2 StR 137/14', None), ('2 StR 337/14', None), ('III ZR 340/51', '19520929'), ('GZ 1/55', '19550706'), ('VI ZR 112/60', '19610516'), ('III ZR 48/63', '19640113'), ('VI ZR 137/63', '19640925'), ('VI ZR 139/63', '19640925'), ('VI ZR 29/92', '19930216'), ('VI ZB 26/05', '20060110'), ('VI ZB 27/05', None), ('VI ZB 28/05', None), ('4 U 165/13', '20140528'), ('0 U 4757/13', '20140411'), ('2 StR 151/98', '19980826'), ('2 StR 503/13', '20140305'), ('3 StR 478/92', '19921030'), ('3 StR 602/98', '19990105'), ('3 StR 325/14', '20140902'), ('4 StR 217/14', '20140618'), ('3 StR 478/92', '19921030'), ('2 StR 232/93', '19930609'), ('1 StR 668/94', '19950207'), ('3 StR 338/95', '19950927'), ('3 StR 346/14', '20140902'), ('VI ZR 201/91', '19921013'), ('VI ZR 182/97', '19980512'), ('III ZR 340/51', '19520929'), ('GZ 1/55', '19550706'), ('III ZR 340/51', '19520929'), ('III ZR 340/51', '19520929')]\n"
     ]
    },
    {
     "data": {
      "text/plain": [
       "['JURE140020475', 'JURE140007283', 'JURE140016147', 'JURE140016149']"
      ]
     },
     "execution_count": 382,
     "metadata": {},
     "output_type": "execute_result"
    }
   ],
   "source": [
    "# test function getCitationMatchesWithDate for JURE140020456 / index 389\n",
    "# special case: 2 az, # self-quotation, # same date\n",
    "\n",
    "test_list = data_all_citations.cited_az_gruende_date_converted[389]\n",
    "print(test_list)\n",
    "getCitationMatchesWithDate(test_list, \"JURE140020456\", data_all_citations)"
   ]
  },
  {
   "cell_type": "code",
   "execution_count": 346,
   "metadata": {},
   "outputs": [
    {
     "data": {
      "text/plain": [
       "az                                                        2 StR 137/14, 2 StR 337/14\n",
       "datum                                                                       20141008\n",
       "doknr                                                                  JURE140020456\n",
       "gertyp                                                                           BGH\n",
       "spruchkoerper                                                          2. Strafsenat\n",
       "doktyp                                                                     Beschluss\n",
       "titel                              Anfrage beim Großen Senat in Zivilsachen und d...\n",
       "tenor                              1. Der Senat beabsichtigt zu entscheiden: Bei ...\n",
       "gruende                            I. 1. Das Verfahren 2 StR 137/14 Das Landgeric...\n",
       "citations_gruende                  [[Verfahren 2 StR 137/14 Das Landgericht, 10, ...\n",
       "citations_tenor                                                                 None\n",
       "cited_az_gruende                   [2 StR 137/14, 2 StR 337/14, 2 StR 137/14, 2 S...\n",
       "cited_az_tenor                                                                  None\n",
       "set_az_gruende                     [4 U 165/13, 3 StR 602/98, VI ZR 182/97, 3 StR...\n",
       "cited_az_gruende_date              [[[2 StR 137/14], []], [[2 StR 337/14], []], [...\n",
       "cited_az_gruende_date_flat         [(2 StR 137/14, None), (2 StR 337/14, None), (...\n",
       "cited_az_gruende_date_converted    [(2 StR 137/14, None), (2 StR 337/14, None), (...\n",
       "amount_cit_gruende                                                                53\n",
       "amount_az_gruende                                                                 35\n",
       "amount_az_date_gruende                                                            35\n",
       "Name: 389, dtype: object"
      ]
     },
     "execution_count": 346,
     "metadata": {},
     "output_type": "execute_result"
    }
   ],
   "source": [
    "data_all_citations.iloc[389]"
   ]
  },
  {
   "cell_type": "code",
   "execution_count": 347,
   "metadata": {},
   "outputs": [
    {
     "data": {
      "text/plain": [
       "az                                                                      2 StR 337/14\n",
       "datum                                                                       20141008\n",
       "doknr                                                                  JURE140020475\n",
       "gertyp                                                                           BGH\n",
       "spruchkoerper                                                          2. Strafsenat\n",
       "doktyp                                                                     Beschluss\n",
       "titel                              Anfrage beim Großen Senat für Zivilsachen und ...\n",
       "tenor                              1. Die Revision des Angeklagten gegen das Urte...\n",
       "gruende                            Das Landgericht hat den Angeklagten wegen schw...\n",
       "citations_gruende                  [[Senat, Beschluss vom 26. September 2013 - 2 ...\n",
       "citations_tenor                                                                 None\n",
       "cited_az_gruende                   [2 StR 306/13,  GZ 1/55, 3 StR 325/14, 4 StR 2...\n",
       "cited_az_tenor                                                                  None\n",
       "set_az_gruende                     [2 StR 431/04, 2 StR 503/13, 2 StR 434/03, 3 S...\n",
       "cited_az_gruende_date              [[[2 StR 306/13], [26. September 2013]], [[GZ ...\n",
       "cited_az_gruende_date_flat         [(2 StR 306/13, 26. September 2013), (GZ 1/55,...\n",
       "cited_az_gruende_date_converted    [(2 StR 306/13, 20130926), (GZ 1/55, 19550706)...\n",
       "amount_cit_gruende                                                                12\n",
       "amount_az_gruende                                                                 13\n",
       "amount_az_date_gruende                                                            13\n",
       "Name: 3355, dtype: object"
      ]
     },
     "execution_count": 347,
     "metadata": {},
     "output_type": "execute_result"
    }
   ],
   "source": [
    "data_all_citations.iloc[3355]"
   ]
  },
  {
   "cell_type": "code",
   "execution_count": 383,
   "metadata": {},
   "outputs": [
    {
     "name": "stdout",
     "output_type": "stream",
     "text": [
      "[('1 StR 527/18', '20181108'), ('1 StR 115/04', '20040707'), ('5 StR 50/17', '20180828'), ('2 StR 112/14', '20160324')]\n"
     ]
    },
    {
     "data": {
      "text/plain": [
       "['KORE632172018', 'KORE305562018', 'JURE160008164']"
      ]
     },
     "execution_count": 383,
     "metadata": {},
     "output_type": "execute_result"
    }
   ],
   "source": [
    "# test function getCitationMatchesWithDate for 4906 / KORE624312019\n",
    "# standard case\n",
    "\n",
    "test_list = data_all_citations.cited_az_gruende_date_converted[4906]\n",
    "print(test_list)\n",
    "getCitationMatchesWithDate(test_list, \"KORE624312019\", data_all_citations)"
   ]
  },
  {
   "cell_type": "code",
   "execution_count": 384,
   "metadata": {},
   "outputs": [
    {
     "name": "stdout",
     "output_type": "stream",
     "text": [
      "[('2 BvR 1871/08', None), ('5 StR 482/05', '20060629'), ('2 BvR 527/06', '20060707'), ('1 StR 166/07', '20080530')]\n"
     ]
    },
    {
     "data": {
      "text/plain": [
       "[]"
      ]
     },
     "execution_count": 384,
     "metadata": {},
     "output_type": "execute_result"
    }
   ],
   "source": [
    "# test function getCitationMatchesWithDate for document with index 1043 / JURE100068632\n",
    "# edge case 1: az 1 StR 166/07 exists but with different date\n",
    "\n",
    "test_list = data_all_citations.cited_az_gruende_date_converted[1043]\n",
    "print(test_list)\n",
    "getCitationMatchesWithDate(test_list, \"JURE100068632\", data_all_citations)"
   ]
  },
  {
   "cell_type": "code",
   "execution_count": 361,
   "metadata": {},
   "outputs": [
    {
     "data": {
      "text/plain": [
       "az                                                                       3 StR 17/15\n",
       "datum                                                                       20151126\n",
       "doknr                                                                  KORE303732016\n",
       "gertyp                                                                           BGH\n",
       "spruchkoerper                                                          3. Strafsenat\n",
       "doktyp                                                                     Beschluss\n",
       "titel                              Untreue: Vermögensbetreuungspflicht eines Mitg...\n",
       "tenor                              1. Auf die Revisionen der Angeklagten wird das...\n",
       "gruende                            Das Landgericht hat den Angeklagten D. unter F...\n",
       "citations_gruende                  [[BGH, Beschlüsse vom 1. April 2008 - 3 StR 49...\n",
       "citations_tenor                                                                 None\n",
       "cited_az_gruende                   [3 StR 493/07, 1 StR 220/09, 4 StR 156/11, 3 S...\n",
       "cited_az_tenor                                                                  None\n",
       "set_az_gruende                     [1 StR 731/08, 1 StR 544/90, 1 StR 755/75, XI ...\n",
       "cited_az_gruende_date              [[[3 StR 493/07], [1. April 2008]], [[1 StR 22...\n",
       "cited_az_gruende_date_flat         [(3 StR 493/07, 1. April 2008), (1 StR 220/09,...\n",
       "cited_az_gruende_date_converted    [(3 StR 493/07, 20080401), (1 StR 220/09, 2010...\n",
       "amount_cit_gruende                                                                72\n",
       "amount_az_gruende                                                                 71\n",
       "amount_az_date_gruende                                                            71\n",
       "Name: 3568, dtype: object"
      ]
     },
     "execution_count": 361,
     "metadata": {},
     "output_type": "execute_result"
    }
   ],
   "source": [
    "data_all_citations.iloc[3568]"
   ]
  },
  {
   "cell_type": "code",
   "execution_count": 375,
   "metadata": {},
   "outputs": [
    {
     "data": {
      "text/plain": [
       "array(['KORE303732016'], dtype=object)"
      ]
     },
     "execution_count": 375,
     "metadata": {},
     "output_type": "execute_result"
    }
   ],
   "source": [
    "data_all_citations.loc[data_all_citations['az'].str.contains(\"3 StR 17/15\") & (data_all_citations['datum'] == \"20151126\")].doknr.values"
   ]
  },
  {
   "cell_type": "code",
   "execution_count": 385,
   "metadata": {},
   "outputs": [
    {
     "name": "stdout",
     "output_type": "stream",
     "text": [
      "[('1 StR 104/15', '20160906'), ('1 StR 220/09', '20100913'), ('2 StR 111/09', '20100827'), ('2 StR 587/07', '20080829'), ('2 StR 111/09', '20100827'), ('3 StR 90/10', '20100624'), ('2 StR 111/09', '20100827'), ('3 StR 265/14', '20141211'), ('1 StR 540/16', '20170308'), ('1 StR 220/09', '20100913'), ('1 StR 532/12', '20130710'), ('5 StR 119/05', '20051202'), ('4 StR 345/09', '20100202'), ('5 StR 299/03', '20041111'), ('5 StR 299/03', '20041111'), ('3 StR 265/14', '20141211'), ('1 StR 220/09', '20100913'), ('4 StR 571/74', '19750227'), ('5 StR 182/14', '20140702'), ('1 StR 220/09', '20100913'), ('2 BvR 1235/11', '20121101'), ('2 BvR 2559/08', '20100623'), ('2 BvR 1235/11', '20121101'), ('2 BvR 2559/08', '20100623'), ('1 StR 94/10', '20110413'), ('1 StR 220/09', '20100913'), ('2 StR 591/11', '20121010'), ('3 StR 17/15', '20151126'), ('2 StR 111/09', '20100827'), ('1 StR 104/15', '20160906'), ('2 StR 111/09', '20100827'), ('2 StR 587/07', '20080829'), ('2 StR 111/09', '20100827'), ('2 StR 111/09', '20100827'), ('2 StR 587/07', '20080829'), ('4 StR 59/04', '20041028'), ('2 StR 586/12', '20130313'), ('1 StR 642/17', '20180913'), ('5 StR 420/03', '20040205'), ('3 Ws 80/84', '19850306'), ('6 K 385/95', '20041110'), ('3 StR 373/86', '19870128'), ('1 StR 56/17', '20171219'), ('1 StR 265/16', '20170509'), ('1 StR 535/17', '20180122'), ('1 StR 458/10', '20110414'), ('StB 11/91', '19910529'), ('2 StR 587/07', '20080829'), ('5 StR 46/18', '20180704'), ('1 StR 399/14', '20150610'), ('2 StR 587/07', '20080829'), ('1 StR 288/05', '20050920'), ('1 StR 56/17', '20171219')]\n"
     ]
    },
    {
     "data": {
      "text/plain": [
       "['JURE160020707',\n",
       " 'KORE314222010',\n",
       " 'KORE315902010',\n",
       " 'KORE315902010',\n",
       " 'JURE100067750',\n",
       " 'KORE315902010',\n",
       " 'KORE308152015',\n",
       " 'KORE616092017',\n",
       " 'KORE314222010',\n",
       " 'JURE130016956',\n",
       " 'JURE100061287',\n",
       " 'KORE308152015',\n",
       " 'KORE314222010',\n",
       " 'JURE140012263',\n",
       " 'KORE314222010',\n",
       " 'KORE313092011',\n",
       " 'KORE314222010',\n",
       " 'JURE130001127',\n",
       " 'KORE303732016',\n",
       " 'KORE315902010',\n",
       " 'JURE160020707',\n",
       " 'KORE315902010',\n",
       " 'KORE315902010',\n",
       " 'KORE315902010',\n",
       " 'JURE130008400',\n",
       " 'KORE309552018',\n",
       " 'KORE620392018',\n",
       " 'KORE617832017',\n",
       " 'KORE629042018',\n",
       " 'JURE110011820',\n",
       " 'KORE606122018',\n",
       " 'KORE304082015',\n",
       " 'KORE620392018']"
      ]
     },
     "execution_count": 385,
     "metadata": {},
     "output_type": "execute_result"
    }
   ],
   "source": [
    "# test function getCitationMatchesWithDate for document with index 822 / KORE619192019\n",
    "# edge case 2: az 3 StR 17/15 exists twice but with two different dates\n",
    "# (JURE160014078 vs KORE303732016 (= correct))\n",
    "\n",
    "test_list = data_all_citations.cited_az_gruende_date_converted[822]\n",
    "print(test_list)\n",
    "getCitationMatchesWithDate(test_list, \"KORE619192019\", data_all_citations)"
   ]
  },
  {
   "cell_type": "code",
   "execution_count": 386,
   "metadata": {},
   "outputs": [
    {
     "name": "stdout",
     "output_type": "stream",
     "text": [
      "[('1 StR 178/13', '20130506'), ('5 StR 214/18', '20180829'), ('2 StR 150/18', '20180718'), ('1 StR 551/17', '20180109'), ('2 BvR 930/04', '20041209'), ('1 StR 76/17', '20170405'), ('3 StR 417/15', '20160308'), ('3 StR 214/15', '20150820'), ('2 StR 460/16', '20171129'), ('2 StR 214/16', '20161026'), ('1 StR 577/05', '20060317'), ('1 StR 213/04', '20040831'), ('3 StR 214/15', '20150820'), ('3 StR 417/15', '20160308'), ('3 StR 452/18', '20190320'), ('2 StR 376/12', '20121204'), ('2 StR 320/15', '20160420'), ('2 StR 413/13', '20140219'), ('1 StR 239/17', '20180109'), ('2 StR 278/09', '20100519'), ('3 StR 176/80', '19800528')]\n"
     ]
    },
    {
     "data": {
      "text/plain": [
       "['JURE130010202',\n",
       " 'KORE629092018',\n",
       " 'KORE627792018',\n",
       " 'KORE304862018',\n",
       " 'KORE600102017',\n",
       " 'JURE160006718',\n",
       " 'JURE150016039',\n",
       " 'KORE618122018',\n",
       " 'JURE160020031',\n",
       " 'JURE150016039',\n",
       " 'JURE160006718',\n",
       " 'KORE605192019',\n",
       " 'JURE130000272',\n",
       " 'KORE313582016',\n",
       " 'JURE140006565',\n",
       " 'KORE619142018',\n",
       " 'JURE100065079']"
      ]
     },
     "execution_count": 386,
     "metadata": {},
     "output_type": "execute_result"
    }
   ],
   "source": [
    "# test function getCitationMatchesWithDate for document with index 5822 / KORE634712019\n",
    "# edge case 3: az 3 StR 452/18 exists twice with same date\n",
    "# (KORE605192019 vs KORE605182019) --> KORE605192019 is selected because of more citations\n",
    "\n",
    "test_list = data_all_citations.cited_az_gruende_date_converted[5822]\n",
    "print(test_list)\n",
    "getCitationMatchesWithDate(test_list, \"KORE634712019\", data_all_citations)"
   ]
  },
  {
   "cell_type": "code",
   "execution_count": 427,
   "metadata": {},
   "outputs": [],
   "source": [
    "# apply getCitationMatchesWithDate on df:\n",
    "data_all_citations[\"matches_gruende_doknr_date_2\"] = data_all_citations.apply(lambda x: getCitationMatchesWithDate(x.cited_az_gruende_date_converted, x.doknr, data_all_citations), axis=1)"
   ]
  },
  {
   "cell_type": "code",
   "execution_count": 388,
   "metadata": {},
   "outputs": [],
   "source": [
    "def countMatches(matches: list):\n",
    "    if matches:\n",
    "        amount_matches = len(matches)\n",
    "        return amount_matches\n",
    "    else:\n",
    "        return 0"
   ]
  },
  {
   "cell_type": "code",
   "execution_count": 398,
   "metadata": {},
   "outputs": [],
   "source": [
    "# apply countMatches on df:\n",
    "data_all_citations[\"amount_matches_gruende_date_2\"] = data_all_citations[\"matches_gruende_doknr_date_2\"].apply(countMatches)"
   ]
  },
  {
   "cell_type": "code",
   "execution_count": 399,
   "metadata": {},
   "outputs": [
    {
     "data": {
      "text/plain": [
       "17084"
      ]
     },
     "execution_count": 399,
     "metadata": {},
     "output_type": "execute_result"
    }
   ],
   "source": [
    "sum_matches_date_2 = sum(data_all_citations.amount_matches_gruende_date_2)\n",
    "sum_matches_date_2"
   ]
  },
  {
   "cell_type": "code",
   "execution_count": 400,
   "metadata": {},
   "outputs": [
    {
     "data": {
      "text/plain": [
       "0.3677379081731494"
      ]
     },
     "execution_count": 400,
     "metadata": {},
     "output_type": "execute_result"
    }
   ],
   "source": [
    "sum_matches_date_2 / sum_aktenz\n",
    "#  36,8% aller aus Zitaten extrahierten Aktenzeichen (Gründe) sind in Dokumentenmenge auffindbar"
   ]
  },
  {
   "cell_type": "code",
   "execution_count": 401,
   "metadata": {},
   "outputs": [
    {
     "data": {
      "text/plain": [
       "0.32418072449192586"
      ]
     },
     "execution_count": 401,
     "metadata": {},
     "output_type": "execute_result"
    }
   ],
   "source": [
    "sum_matches_date_2 / sum_citations\n",
    "\n",
    "# ---> 32,4% aller aus Gründen extrahierten Zitate sind Dokumenten in Korpus zuordbar"
   ]
  },
  {
   "cell_type": "markdown",
   "metadata": {},
   "source": [
    "### Tenor: Matches finden"
   ]
  },
  {
   "cell_type": "code",
   "execution_count": 402,
   "metadata": {},
   "outputs": [
    {
     "data": {
      "text/plain": [
       "570"
      ]
     },
     "execution_count": 402,
     "metadata": {},
     "output_type": "execute_result"
    }
   ],
   "source": [
    "len(np.where(data_all_citations.citations_tenor)[0])\n",
    "# --> in 570 Dokumenten werden Rechtsprechungszitate in Tenor gefunden"
   ]
  },
  {
   "cell_type": "code",
   "execution_count": 403,
   "metadata": {},
   "outputs": [
    {
     "data": {
      "text/plain": [
       "1701"
      ]
     },
     "execution_count": 403,
     "metadata": {},
     "output_type": "execute_result"
    }
   ],
   "source": [
    "sum_cit_tenor = sum(amount_citations_in_tenor)\n",
    "sum_cit_tenor\n",
    "# --> insgesamt werden in Tenor 1701 Zitate gefunden"
   ]
  },
  {
   "cell_type": "code",
   "execution_count": 405,
   "metadata": {},
   "outputs": [
    {
     "data": {
      "text/plain": [
       "441"
      ]
     },
     "execution_count": 405,
     "metadata": {},
     "output_type": "execute_result"
    }
   ],
   "source": [
    "len(np.where(data_all_citations.cited_az_tenor)[0])\n",
    "# --> in 441 Dokumenten werden Aktenzeichen in Zitaten aus Tenor gefunden"
   ]
  },
  {
   "cell_type": "code",
   "execution_count": 406,
   "metadata": {},
   "outputs": [],
   "source": [
    "# apply extractAktenzeichenWithDate on tenor quotes\n",
    "data_all_citations[\"cited_az_tenor_date\"] = data_all_citations[\"citations_tenor\"].apply(extractAktenzeichenWithDate)"
   ]
  },
  {
   "cell_type": "code",
   "execution_count": 407,
   "metadata": {},
   "outputs": [],
   "source": [
    "# apply flatAzWithDate on tenor quotes\n",
    "data_all_citations[\"cited_az_tenor_date_flat\"] = data_all_citations[\"cited_az_tenor_date\"].apply(flatAzWithDate)"
   ]
  },
  {
   "cell_type": "code",
   "execution_count": 408,
   "metadata": {},
   "outputs": [
    {
     "data": {
      "text/plain": [
       "[('GSSt 1/07', '17. Januar 2008'),\n",
       " ('3 RVs 102/11', '8. Dezember 2011'),\n",
       " ('5 StR 495/08', '27. November 2008'),\n",
       " ('5 StR 330/10', '28. September 2010')]"
      ]
     },
     "execution_count": 408,
     "metadata": {},
     "output_type": "execute_result"
    }
   ],
   "source": [
    "# show example\n",
    "data_all_citations.cited_az_tenor_date_flat[4794]"
   ]
  },
  {
   "cell_type": "code",
   "execution_count": 409,
   "metadata": {},
   "outputs": [],
   "source": [
    "amount_az_in_tenor = data_all_citations.cited_az_tenor_date_flat.apply(countAmountAz)"
   ]
  },
  {
   "cell_type": "code",
   "execution_count": 410,
   "metadata": {},
   "outputs": [
    {
     "data": {
      "text/plain": [
       "1484"
      ]
     },
     "execution_count": 410,
     "metadata": {},
     "output_type": "execute_result"
    }
   ],
   "source": [
    "sum_az_tenor = sum(amount_az_in_tenor)\n",
    "sum_az_tenor\n",
    "# ---> insgesamt werden in allen Tenortexten 1484 zitierte Aktenzeichen gefunden"
   ]
  },
  {
   "cell_type": "code",
   "execution_count": 411,
   "metadata": {},
   "outputs": [
    {
     "data": {
      "text/plain": [
       "0.8724279835390947"
      ]
     },
     "execution_count": 411,
     "metadata": {},
     "output_type": "execute_result"
    }
   ],
   "source": [
    "sum_az_tenor/sum_cit_tenor\n",
    "# --> in 87% der Fälle können aus den Zitaten aus Tenortexten Aktenzeichen extrahiert werden"
   ]
  },
  {
   "cell_type": "code",
   "execution_count": 412,
   "metadata": {},
   "outputs": [],
   "source": [
    "# apply date conversion for tenor on cited_az_tenor_date_flat\n",
    "data_all_citations[\"cited_az_tenor_date_converted\"] = data_all_citations[\"cited_az_tenor_date_flat\"].apply(convertDateFromCitation)"
   ]
  },
  {
   "cell_type": "code",
   "execution_count": 413,
   "metadata": {},
   "outputs": [],
   "source": [
    "# get document matches for citations in tenor, always checking the date\n",
    "data_all_citations[\"matches_tenor_doknr_date_2\"] = data_all_citations.apply(lambda x: getCitationMatchesWithDate(x.cited_az_tenor_date_converted, x.doknr, data_all_citations), axis=1)"
   ]
  },
  {
   "cell_type": "code",
   "execution_count": 414,
   "metadata": {},
   "outputs": [],
   "source": [
    "# count matches for tenor, always considering date\n",
    "data_all_citations[\"amount_matches_tenor_date_2\"] = data_all_citations[\"matches_tenor_doknr_date_2\"].apply(countMatches)"
   ]
  },
  {
   "cell_type": "markdown",
   "metadata": {},
   "source": [
    "#### <span style='background:pink'>Save dataframe data_all_citations to json file:"
   ]
  },
  {
   "cell_type": "code",
   "execution_count": 418,
   "metadata": {},
   "outputs": [],
   "source": [
    "data_all_citations.to_json(\"data/dataframes/df_matches_gruende_tenor_date_.json\")"
   ]
  },
  {
   "cell_type": "markdown",
   "metadata": {},
   "source": [
    "#### <span style='background:lightgreen'>Load dataframe from file:"
   ]
  },
  {
   "cell_type": "code",
   "execution_count": 421,
   "metadata": {},
   "outputs": [],
   "source": [
    "data_all_citations = pd.read_json(\"data/dataframes/df_matches_gruende_tenor_date_.json\", orient='columns', encoding='utf-8')"
   ]
  },
  {
   "cell_type": "code",
   "execution_count": 422,
   "metadata": {},
   "outputs": [
    {
     "data": {
      "text/plain": [
       "423"
      ]
     },
     "execution_count": 422,
     "metadata": {},
     "output_type": "execute_result"
    }
   ],
   "source": [
    "sum_matches_tenor_date_2 = sum(data_all_citations.amount_matches_tenor_date_2)\n",
    "sum_matches_tenor_date_2\n",
    "# --> insgesamt können 423 aller Zitate aus Tenor innerhalb des Korpus zugeordnet werden"
   ]
  },
  {
   "cell_type": "code",
   "execution_count": 423,
   "metadata": {},
   "outputs": [
    {
     "data": {
      "text/plain": [
       "0.24867724867724866"
      ]
     },
     "execution_count": 423,
     "metadata": {},
     "output_type": "execute_result"
    }
   ],
   "source": [
    "sum_matches_tenor_date_2/sum_cit_tenor\n",
    "# --> 24,87% aller Zitate aus Tenor können aufgelöst werden"
   ]
  },
  {
   "cell_type": "code",
   "execution_count": 424,
   "metadata": {},
   "outputs": [
    {
     "data": {
      "text/plain": [
       "0.28504043126684636"
      ]
     },
     "execution_count": 424,
     "metadata": {},
     "output_type": "execute_result"
    }
   ],
   "source": [
    "sum_matches_tenor_date_2/sum_az_tenor\n",
    "# --> 28,5% aller zitierten Aktenzeichen können innerhalb des Datensatzes Dokumenten zugeordnet werden"
   ]
  },
  {
   "cell_type": "code",
   "execution_count": 425,
   "metadata": {},
   "outputs": [
    {
     "data": {
      "text/plain": [
       "173"
      ]
     },
     "execution_count": 425,
     "metadata": {},
     "output_type": "execute_result"
    }
   ],
   "source": [
    "len(np.where(data_all_citations.amount_matches_tenor_date_2 > 0)[0])\n",
    "# --> für 173 Dokumente können Zitate aus Tenor zugeordnet werden"
   ]
  },
  {
   "cell_type": "markdown",
   "metadata": {},
   "source": [
    "## APPENDIX 1: Korrektheit der Registerzeichen prüfen.\n",
    "Möglicherweise tauchen in Gruende noch andere Formen von Registerzeichen auf,\n",
    "die bisher nicht beachtet wurden."
   ]
  },
  {
   "cell_type": "code",
   "execution_count": 114,
   "metadata": {},
   "outputs": [],
   "source": [
    "def extractFirstItemsFromTuples(tup_liste: list):\n",
    "    if tup_liste:\n",
    "        ts = []\n",
    "        for item in tup_liste:\n",
    "            ts.append(item[0])\n",
    "        return ts\n",
    "    else:\n",
    "        return None"
   ]
  },
  {
   "cell_type": "code",
   "execution_count": 115,
   "metadata": {},
   "outputs": [],
   "source": [
    "def searchSubstringInList(liste: list, subs: str):\n",
    "    if liste:\n",
    "        return list(filter(lambda x: subs in x, liste))"
   ]
  },
  {
   "cell_type": "code",
   "execution_count": 116,
   "metadata": {},
   "outputs": [],
   "source": [
    "# extract only citations as list (ignore start and end indices in text)\n",
    "citations = data_all_az[\"citations_gruende\"].apply(extractFirstItemsFromTuples)"
   ]
  },
  {
   "cell_type": "markdown",
   "metadata": {},
   "source": [
    "### historische (sehr alte) Aktenzeichen"
   ]
  },
  {
   "cell_type": "code",
   "execution_count": 118,
   "metadata": {},
   "outputs": [],
   "source": [
    "# search all citations for substring \"/21\"\n",
    "cit_wt_21 = citations.apply(lambda x:searchSubstringInList(x,\"/21\"))"
   ]
  },
  {
   "cell_type": "code",
   "execution_count": 119,
   "metadata": {},
   "outputs": [],
   "source": [
    "# remove None\n",
    "c = cit_wt_21.dropna()"
   ]
  },
  {
   "cell_type": "code",
   "execution_count": 122,
   "metadata": {},
   "outputs": [
    {
     "data": {
      "text/plain": [
       "Int64Index([611, 1227, 3677, 4495, 5294], dtype='int64')"
      ]
     },
     "execution_count": 122,
     "metadata": {},
     "output_type": "execute_result"
    }
   ],
   "source": [
    "# remove empty lists\n",
    "c[c.apply(len) > 0].index"
   ]
  },
  {
   "cell_type": "code",
   "execution_count": 157,
   "metadata": {},
   "outputs": [
    {
     "data": {
      "text/plain": [
       "['RG, Urteile vom 16. April 1912 - V 1263/11, RGSt 46, 67, 71 f.',\n",
       " 'vom 10. Mai 1921 - IV 20/21, RGSt 56, 91 f.',\n",
       " 'vom 1. Dezember 1922 - IV 457/22, RGSt 57, 158',\n",
       " 'vom 18. Februar 1926 - II 11/26, RGSt 60, 99 f.',\n",
       " 'BGH, Urteil vom 18. Januar 1963 - 4 StR 385/62, NJW 1963, 1019, 1020 [insoweit in BGHSt 18, 225 nicht abgedruckt ]',\n",
       " 'BGH, Beschlüsse vom 21. Dezember 1988 - 3 StR 460/88, BGHR StPO § 211 neue Tatsachen 1',\n",
       " 'vom 18. August 1993 - 5 StR 469/93, BGHR StPO § 211 neue Tatsachen 2',\n",
       " 'Beschluss vom 3. September 2004 - 2 BvR 2001/02, StV 2005, 196 f.)',\n",
       " 'BGH, Urteil vom 18. Januar 1963 - 4 StR 385/62, NJW 1963, 1019, 1020',\n",
       " 'OLG Frankfurt, Beschluss vom 23. November 2001 - 3 Ws 662/01, NStZ-RR 2002, 78',\n",
       " 'Urteile vom 28. Oktober 1986 - 1 StR 507/86, NStZ 1987, 132, 133',\n",
       " 'vom 12. Januar 1996 - 5 StR 756/94, BGHSt 42, 15, 22',\n",
       " 'vom 19. März 1996 - 1 StR 497/95, NJW 1996, 2239, 2241 [insoweit in BGHSt 42, 86 nicht abgedruckt ]',\n",
       " 'Beschluss vom 11. Juli 2008 - 5 StR 202/08, NStZ 2008, 643',\n",
       " '- Beschlüsse vom 9. November 2005 - 1 StR 447/05, NJW 2006, 707',\n",
       " 'vom 20. Oktober 2014 - 5 StR 176/14, BGHSt 60, 38, 43 f.',\n",
       " 'vom 27. September 2016 - 4 StR 263/16, juris) -',\n",
       " 'BGH, Beschluss vom 17. Juni 1997 - 4 StR 243/97, NStZ 1997, 502 f.',\n",
       " 'BVerfG, Urteil vom 3. März 2004 - 1 BvR 2378/98, 1 BvR 1084/99, NJW 2004, 999, 1007',\n",
       " 'BGH, Beschlüsse vom 4. April 1990 - StB 5/90, BGHSt 36, 396',\n",
       " 'vom 15. Mai 2008 - StB 4 und 5/08, NStZ 2008, 643',\n",
       " 'BGH, Urteile vom 3. Februar 1960 - 2 StR 576/58, BGHSt 14, 137, 139',\n",
       " 'vom 10. Juli 2014 - 3 StR 140/14, NStZ-RR 2014, 318, 319',\n",
       " 'BGH, Urteil vom 18. Januar 1963 - 4 StR 385/62, NJW 1963, 1019, 1020',\n",
       " 'RG, Urteil vom 18. Februar 1926 - II 11/26, RGSt 60, 99 f.',\n",
       " 'BGH, Urteile vom 28. April 1987 - 5 StR 666/86, BGHSt 34, 362',\n",
       " 'vom 27. September 1988 - 1 StR 187/88, BGHR StPO § 136a Abs. 1 Zwang 2',\n",
       " 'vom 8. Oktober 1993 - 2 StR 400/93, BGHSt 39, 335',\n",
       " 'vom 21. Juli 1998 - 5 StR 302/97, BGHSt 44, 129',\n",
       " 'vom 26. Juli 2007 - 3 StR 104/07, BGHSt 52, 11',\n",
       " 'Beschlüsse vom 13. Mai 1996 - GSSt 1/96, BGHSt 42, 139',\n",
       " 'vom 31. März 2011 - 3 StR 400/10, NStZ 2011, 596',\n",
       " 'EGMR, Urteile vom 5. November 2002 - 48539/99, JR 2004, 127',\n",
       " 'vom 10. März 2009 - 4378/02, NJW 2010, 213',\n",
       " 'Urteil vom 21. Juli 1998 (5 StR 302/97, BGHSt 44, 129']"
      ]
     },
     "execution_count": 157,
     "metadata": {},
     "output_type": "execute_result"
    }
   ],
   "source": [
    "citations[611]\n",
    "# bei ganz alten Verfahren aus Reichsgericht-Zeit (vor ca. 100 Jahren) gab es keine Registerzeichen,\n",
    "# sondern AZ beginnen mit römischer Zahl\n",
    "# RG, Urteile vom 16. April 1912 - V 1263/11, RGSt 46, 67, 71 f.',\n",
    "# 'vom 10. Mai 1921 - IV 20/21, RGSt 56, 91 f.',\n",
    "# 'vom 1. Dezember 1922 - IV 457/22, RGSt 57, 158',\n",
    "# 'vom 18. Februar 1926 - II 11/26, RGSt 60, 99 f.',\n",
    "# RG, Urteil vom 18. Februar 1926 - II 11/26, RGSt 60, 99 f."
   ]
  },
  {
   "cell_type": "code",
   "execution_count": 159,
   "metadata": {},
   "outputs": [
    {
     "data": {
      "text/plain": [
       "['RG, Urteil vom 29. September 1884 – Rep. 1763/84, RGSt 11, 103, 104',\n",
       " 'RG, Urteil vom 18. Juni 1920 – II 476/20, RGSt 55, 44',\n",
       " 'RG, Urteil vom 29. September 1884 – Rep. 1763/84, RGSt 11, 103, 104',\n",
       " 'RG, Urteil vom 9. November 1891 – Rep. 2638/91, RGSt 22, 213, 216',\n",
       " 'RG, Urteil vom 9. November 1891 – Rep. 2638/91, RGSt 22, 213, 216',\n",
       " 'Urteil vom 8. April 1892 – Rep. 822/92, RGSt 23, 47, 48',\n",
       " 'Urteil vom 1. Februar 1921 – II 899/20, RGSt 55, 228, 229',\n",
       " 'Urteil vom 19. April 1921 – IV 483/21, RGSt 56, 35 f.',\n",
       " 'Urteil vom 4. Januar 1923 – II 538/22, RGSt 57, 174 f.',\n",
       " 'RG, Urteil vom 30. April 1919 – III 156/19, RGSt 53, 231, 232',\n",
       " 'Beschluss vom 2. Mai 1934 – 1 D 1096/33 (RGSt 68, 257, 259 ff.)',\n",
       " 'RG, Urteil vom 12. November 1931 – 2 D 1078/31',\n",
       " 'BGH, Urteil vom 19. April 1951 – 3 StR 165/51, BGHSt 1, 127, 128',\n",
       " 'Urteil vom 21. Juni 1951 – 4 StR 26/51, BGHSt 1, 275, 276',\n",
       " 'BGH, Beschluss vom 15. Oktober 1956 – GSSt 2/56, BGHSt 9, 390, 392 ff. mit Anm. Dreher, MDR 1957, 179 f.',\n",
       " 'BGH, Urteil vom 11. November 1966 – 4 StR 387/66, BGHSt 21, 152, 153',\n",
       " 'BGH, Urteil vom 12. September 1951 – 4 StR 533/51, BGHSt 1, 302, 304',\n",
       " 'Urteil vom 2. Oktober 1951 – 1 StR 353/51, BGHSt 1, 327, 328',\n",
       " 'Urteil vom 16. April 1953 – 4 StR 377/52, BGHSt 4, 128, 129',\n",
       " 'Urteil vom 4. Dezember 1958 – 4 StR 411/58, BGHSt 12, 386, 388',\n",
       " 'Urteil vom 4. Dezember 1958 – 4 StR 411/58, BGHSt 12, 386, 388)',\n",
       " 'BGH, Urteil vom 12. Januar 1954 – 1 StR 631/53, BGHSt 5, 280, 281',\n",
       " 'Senat, Urteil vom 21. Oktober 1970 – 2 StR 316/70, BGHSt 23, 360 f.',\n",
       " 'BGH, Urteil vom 20. Februar 1974 – 3 StR 1/74, NJW 1974, 804, 805',\n",
       " 'Senat, Urteil vom 30. Juni 1960 – 2 StR 275/60, BGHSt 15, 63, 64 ff.)',\n",
       " 'Senat, Urteil vom 26. Juli 1961 – 2 StR 190/61, BGHSt 16, 184, 186 f.',\n",
       " 'BGH, Urteil vom 17. Oktober 1957 – 4 StR 73/57, BGHSt 11, 26, 28',\n",
       " 'BGH, Urteil vom 15. Mai 1973 – 4 StR 172/73, BGHSt 25, 182, 183 f. mit Anm. Hruschka, NJW 1973, 1804 ff.',\n",
       " 'BGH, Urteil vom 11. November 1966 – 4 StR 387/66, BGHSt 21, 152, 154',\n",
       " 'Senat, Beschluss vom 11. November 1987 – 2 StR 506/87, BGHSt 35, 86, 88',\n",
       " 'BGH, Urteil vom 29. März 1990 – 4 StR 681/89, BGHR StGB vor § 1 Wahlfeststellung, Postpendenz 4',\n",
       " 'Beschluss vom 28. Januar 2014 – 2 StR 495/12 (StV 2014, 580 ff.',\n",
       " 'BGH, Beschluss vom 24. Juni 2014 – 1 ARs 14/14, NStZ-RR 2014, 308 f.',\n",
       " 'Beschluss vom 30. September 2014 – 3 ARs 13/14, NStZ-RR 2015, 39 f.',\n",
       " 'Beschluss vom 11. September 2014 – 4 ARs 12/14, NStZ-RR 2015, 40 f.',\n",
       " 'Beschluss vom 16. Juli 2014 – 5 ARs 39/14, NStZ-RR 2014, 307 f.',\n",
       " 'Urteil vom 16. August 2016 – 5 StR 182/16 – (NJW 2016, 3317 f., für BGHSt bestimmt)',\n",
       " 'BGH, Beschluss vom 15. Juli 2016 – GSSt 1/16 Rn.',\n",
       " 'BVerfG, Beschluss vom 23. Juli 1968 – 2 BvL 15/68, BVerfGE 25, 269, 288',\n",
       " 'BVerfG, Beschluss vom 7. Dezember 2011 – 2 BvR 2500/09, 1857/10, BVerfGE 130, 1, 43',\n",
       " 'BVerfG, Beschluss vom 23. Juni 2010 – 2 BvR 2559/08, 105, 491/09, BVerfGE 126, 170, 194',\n",
       " 'BVerfGE 126, 170, 197',\n",
       " 'BVerfGE 126, 170, 198',\n",
       " 'BVerfG, Beschluss vom 23. Juli 1968 – 2 BvL 15/68, BVerfGE 25, 269, 286',\n",
       " 'Urteil vom 20. März 2002 – 2 BvR 794/95, BVerfGE 105, 135, 153 f.',\n",
       " 'RGSt 22, 213, 216)',\n",
       " 'BVerfG, Beschluss vom 23. Juni 2010 – 2 BvR 2559/08, 105, 491/09, BVerfGE 126, 170, 198',\n",
       " 'BGH, Beschluss vom 15. Oktober 1956 – GSSt 2/56, BGHSt 9, 390, 394',\n",
       " 'BVerfG, Beschluss vom 23. Juli 1968 – 2 BvL 15/68, BVerfGE 25, 269, 294',\n",
       " 'BVerfG, Beschluss vom 23. Juni 2010 – 2 BvR 2559/08, 105, 491/09, BVerfGE 126, 170, 198',\n",
       " 'BGH, Beschluss vom 31. Januar 2007 – 3 StB 18/06, BGHSt 51, 211, 218 f.',\n",
       " 'BVerfG, Beschluss vom 23. Juli 1968 – 2 BvL 15/68, BVerfGE 25, 269, 286',\n",
       " 'BVerfG, Beschluss vom 9. Juli 1997 – 2 BvR 1371/96, BVerfGE 96, 245, 289',\n",
       " 'BVerfG, Urteil vom 21. März 1961 – 2 BvR 27/60, BVerfGE 12, 296, 302',\n",
       " 'Beschluss vom 20. Dezember 2002 – StB 15/02, BGHSt 48, 153, 156',\n",
       " 'BGH, Urteil vom 8. Mai 2008 – 3 StR 53/98, NStZ 2008, 646',\n",
       " 'BVerfG, Urteil vom 20. März 2002 – 2 BvR 794/95, BVerfGE 105, 135, 153',\n",
       " 'BVerfG, Beschluss vom 6. Juli 2010 – 2 BvR 2661/06, BVerfGE 126, 286, 306',\n",
       " 'BVerfG, Urteil vom 20. März 2002 – 2 BvR 794/95, BVerfGE 105, 135, 153',\n",
       " 'BVerfG, Urteil vom 19. März 2013 – 2 BvR 2628, 2883/10, 2155/11, BVerfGE 133, 168, 197 f.',\n",
       " 'BVerfGE 133, 168, 199',\n",
       " 'BVerfGE 133, 168, 202',\n",
       " 'BVerfG, Beschluss vom 12. April 1983 – 2 BvR 1304/80 und 432/81, BVerfGE 63, 380, 392',\n",
       " 'Kotsoglou, ZStW 127 [2015], 334, 348 ff.',\n",
       " 'BVerfG, Beschluss vom 8. April 1998 – 1 BvR 1773/96, BVerfGE 98, 49, 59 f.',\n",
       " 'BVerfG, Beschluss vom 3. April 1990 – 1 BvR 1186/89, BVerfGE 82, 6, 12',\n",
       " 'BGH, Urteil vom 4. Februar 2010 – 1 StR 95/09, BGHSt 55, 36, 48 ff.',\n",
       " 'BGH, Urteil vom 17. Juli 1997 – 1 StR 791/96, BGHSt 43, 158, 165',\n",
       " 'Urteil vom 28. Januar 2003 – 1 StR 393/02, BGHR StGB § 261 Vortat 1',\n",
       " 'Beschluss vom 21. Januar 2016 – 4 StR 384/15, NStZ 2016, 538 f.',\n",
       " 'BGH, Beschluss vom 21. Januar 2016 – 4 StR 384/15, NStZ 2016, 538 f.',\n",
       " 'BGH, Urteil vom 24. Juni 2008 – 5 StR 89/08, NJW 2008, 2516, 2517',\n",
       " 'BGH, Urteil vom 24. Januar 2005 – 1 StR 357/05, BGHSt 50, 347, 356',\n",
       " 'BGH, Urteil vom 20. September 2000 – 5 StR 252/00, StV 2000, 680, 681',\n",
       " 'BGH, Beschluss vom 18. Februar 2009 – 1 StR 4/09, BGHSt 53, 205, 207']"
      ]
     },
     "execution_count": 159,
     "metadata": {},
     "output_type": "execute_result"
    }
   ],
   "source": [
    "citations[3677]\n",
    "\n",
    "# 'RG, Urteil vom 29. September 1884 – Rep. 1763/84, RGSt 11, 103, 104', --> Rep. --> 19tes Jh.!!\n",
    "# 'RG, Urteil vom 18. Juni 1920 – II 476/20, RGSt 55, 44',\n",
    "# 'RG, Urteil vom 29. September 1884 – Rep. 1763/84, RGSt 11, 103, 104',\n",
    "# 'RG, Urteil vom 9. November 1891 – Rep. 2638/91, RGSt 22, 213, 216',\n",
    "# 'RG, Urteil vom 9. November 1891 – Rep. 2638/91, RGSt 22, 213, 216',\n",
    "# 'Urteil vom 8. April 1892 – Rep. 822/92, RGSt 23, 47, 48',\n",
    "# 'Urteil vom 1. Februar 1921 – II 899/20, RGSt 55, 228, 229',\n",
    "# 'Urteil vom 19. April 1921 – IV 483/21, RGSt 56, 35 f.',\n",
    "# 'Urteil vom 4. Januar 1923 – II 538/22, RGSt 57, 174 f.',\n",
    "# 'RG, Urteil vom 30. April 1919 – III 156/19, RGSt 53, 231, 232',\n",
    "# 'Beschluss vom 2. Mai 1934 – 1 D 1096/33 (RGSt 68, 257, 259 ff.)', --> 1 D --> 1930er\n",
    "# 'RG, Urteil vom 12. November 1931 – 2 D 1078/31', --> 2 D"
   ]
  },
  {
   "cell_type": "markdown",
   "metadata": {},
   "source": [
    "### APPENDIX 2: Übersetzung von römisch zu arabisch notwendig für Abbildung? "
   ]
  },
  {
   "cell_type": "markdown",
   "metadata": {},
   "source": [
    "1. Enthalten az auch römische Ziffern?"
   ]
  },
  {
   "cell_type": "code",
   "execution_count": 123,
   "metadata": {},
   "outputs": [
    {
     "data": {
      "text/plain": [
       "(array([], dtype=int64),)"
      ]
     },
     "execution_count": 123,
     "metadata": {},
     "output_type": "execute_result"
    }
   ],
   "source": [
    "np.where(data_all_az.az.str.contains(\"X\"))\n",
    "# --> nein (alle röm. Ziffern wie I, V, X geprüft)"
   ]
  },
  {
   "cell_type": "code",
   "execution_count": 124,
   "metadata": {},
   "outputs": [],
   "source": [
    "def findSubstringInList(substring: str, strings: list):\n",
    "    if strings:\n",
    "        # flatten\n",
    "        flat_list = [item for sublist in strings for item in sublist]\n",
    "        strings_with_substring = [string for string in flat_list if substring in string]\n",
    "        return len(strings_with_substring) > 0"
   ]
  },
  {
   "cell_type": "code",
   "execution_count": 125,
   "metadata": {},
   "outputs": [],
   "source": [
    "rom_digits = data_all_az.cited_az_gruende.apply(lambda x: findSubstringInList(\"I\", x))"
   ]
  },
  {
   "cell_type": "code",
   "execution_count": 126,
   "metadata": {},
   "outputs": [
    {
     "data": {
      "text/plain": [
       "(array([  72,  148,  161,  195,  227,  244,  262,  268,  273,  282,  302,\n",
       "         328,  334,  359,  388,  389,  434,  461,  513,  518,  528,  536,\n",
       "         538,  553,  562,  572,  575,  594,  598,  601,  607,  609,  611,\n",
       "         623,  638,  686,  694,  719,  729,  738,  790,  801,  831,  859,\n",
       "         863,  874,  936,  944,  958,  992, 1074, 1089, 1115, 1126, 1128,\n",
       "        1129, 1157, 1176, 1230, 1250, 1303, 1306, 1330, 1374, 1402, 1443,\n",
       "        1447, 1468, 1473, 1481, 1496, 1532, 1544, 1570, 1580, 1586, 1591,\n",
       "        1595, 1597, 1599, 1607, 1620, 1623, 1646, 1648, 1650, 1653, 1663,\n",
       "        1692, 1770, 1776, 1782, 1789, 1797, 1857, 1863, 1871, 1897, 1915,\n",
       "        1922, 1930, 1962, 1971, 1980, 1987, 1995, 2022, 2044, 2064, 2095,\n",
       "        2135, 2154, 2197, 2254, 2261, 2273, 2277, 2305, 2314, 2321, 2335,\n",
       "        2376, 2389, 2429, 2432, 2463, 2468, 2470, 2509, 2548, 2561, 2568,\n",
       "        2576, 2585, 2586, 2587, 2588, 2595, 2599, 2604, 2608, 2610, 2623,\n",
       "        2629, 2640, 2642, 2651, 2664, 2672, 2689, 2699, 2721, 2755, 2764,\n",
       "        2786, 2791, 2824, 2854, 2876, 2886, 2895, 2926, 2997, 3012, 3059,\n",
       "        3079, 3216, 3242, 3375, 3395, 3466, 3516, 3520, 3529, 3545, 3555,\n",
       "        3564, 3568, 3569, 3570, 3574, 3591, 3628, 3632, 3634, 3645, 3650,\n",
       "        3656, 3661, 3670, 3677, 3698, 3740, 3782, 3790, 3864, 3878, 3931,\n",
       "        3941, 3949, 3953, 3957, 3987, 4233, 4250, 4290, 4327, 4336, 4348,\n",
       "        4356, 4397, 4422, 4425, 4441, 4458, 4487, 4495, 4513, 4515, 4544,\n",
       "        4555, 4564, 4584, 4609, 4627, 4632, 4641, 4652, 4661, 4666, 4673,\n",
       "        4677, 4679, 4692, 4703, 4738, 4742, 4757, 4768, 4784, 4795, 4807,\n",
       "        4812, 4816, 4830, 4856, 4887, 4933, 4961, 4980, 4992, 5075, 5154,\n",
       "        5190, 5222, 5294, 5339, 5428, 5452, 5453, 5475, 5476, 5488, 5489,\n",
       "        5494, 5499, 5503, 5508, 5515, 5517, 5518, 5520, 5524, 5558, 5596,\n",
       "        5605, 5610, 5611, 5618, 5628, 5637, 5638, 5643, 5657, 5674, 5705,\n",
       "        5707, 5761, 5762, 5784, 5799, 5801, 5815]),)"
      ]
     },
     "execution_count": 126,
     "metadata": {},
     "output_type": "execute_result"
    }
   ],
   "source": [
    "np.where(rom_digits)"
   ]
  },
  {
   "cell_type": "code",
   "execution_count": 127,
   "metadata": {},
   "outputs": [
    {
     "data": {
      "text/plain": [
       "[['1 StR 111/18'],\n",
       " ['1 StR 346/18'],\n",
       " ['1 StR 94/13'],\n",
       " ['1 StR 577/12'],\n",
       " ['1 StR 199/10'],\n",
       " ['1 StR 346/18'],\n",
       " ['1 StR 296/12'],\n",
       " ['VI R 77/12'],\n",
       " ['VI R 122/87'],\n",
       " [' I 301/87'],\n",
       " ['1 StR 76/15'],\n",
       " ['1 StR 346/18'],\n",
       " ['3 StR 344/03'],\n",
       " ['5 StR 477/17'],\n",
       " ['1 StR 186/18'],\n",
       " ['3 StR 620/17'],\n",
       " ['5 StR 335/17'],\n",
       " ['4 StR 134/15'],\n",
       " ['1 StR 416/08'],\n",
       " ['1 StR 199/10'],\n",
       " ['5 StR 547/14'],\n",
       " ['1 StR 458/10'],\n",
       " ['2 StR 91/09'],\n",
       " ['2 StR 252/89'],\n",
       " ['2 StR 91/09'],\n",
       " ['5 StR 405/13'],\n",
       " ['5 StR 136/14'],\n",
       " ['IV R 989/08'],\n",
       " ['4 StR 27/51'],\n",
       " ['1 RVs 210/16'],\n",
       " ['5 StR 394/08'],\n",
       " ['VII ZR 239/98'],\n",
       " ['VI ZR 363/12'],\n",
       " ['VI ZR 138/14'],\n",
       " ['1 Ws 167/07'],\n",
       " ['4 StR 27/51'],\n",
       " ['1 RVs 210/16'],\n",
       " ['3 StR 270/18'],\n",
       " ['2 StR 591/11'],\n",
       " [' RR 246/09'],\n",
       " ['V B 108/01'],\n",
       " ['XI B 81/17'],\n",
       " ['V R 25/10'],\n",
       " ['V R 60/03'],\n",
       " ['V R 22/02'],\n",
       " ['1 StR 422/13'],\n",
       " ['V B 108/01'],\n",
       " ['V R 60/03'],\n",
       " ['V R 22/02'],\n",
       " ['XI B 81/17'],\n",
       " ['V B 108/01'],\n",
       " ['V R 25/10'],\n",
       " ['V R 60/03'],\n",
       " ['V R 22/02'],\n",
       " ['1 StR 422/13'],\n",
       " ['1 StR 29/14'],\n",
       " ['1 StR 642/17'],\n",
       " ['1 StR 220/09'],\n",
       " ['5 StR 547/07'],\n",
       " ['1 StR 265/18'],\n",
       " ['1 StR 331/17'],\n",
       " ['1 StR 38/11'],\n",
       " ['1 RVs 210/16'],\n",
       " ['3 Ss 119/19'],\n",
       " ['7 M 2/06'],\n",
       " ['1 RVs 210/16'],\n",
       " ['3 Ss 119/19'],\n",
       " ['7 M 2/06'],\n",
       " ['1 StR 701/96'],\n",
       " ['3 StR 7/19'],\n",
       " ['2 StR 481/17'],\n",
       " [' GSSt 1/92'],\n",
       " ['4 StR 768/94'],\n",
       " [' GSSt 1/92'],\n",
       " ['3 StR 7/19'],\n",
       " ['2 StR 608/13'],\n",
       " ['3 StR 7/19'],\n",
       " ['3 StR 7/19'],\n",
       " ['7 M 2/06'],\n",
       " ['2 StR 178/51'],\n",
       " ['5 StR 64/06'],\n",
       " ['3 StR 398/55'],\n",
       " ['5 StR 394/08'],\n",
       " ['3 StR 84/18'],\n",
       " ['3 StR 7/19']]"
      ]
     },
     "execution_count": 127,
     "metadata": {},
     "output_type": "execute_result"
    }
   ],
   "source": [
    "data_all_az.cited_az_gruende[5707]\n",
    "# ---> röm. nur in Kontext von Registerzeichen, die sowieso nicht in Korpus enthalten sind..!\n",
    "# z.B. 'VIII R 2/02'\n",
    "# VII ZB 6/05\n",
    "# XII ZR 103/07\n",
    "# ' III. 841/31'\n",
    "# XI B 81/17"
   ]
  }
 ],
 "metadata": {
  "kernelspec": {
   "display_name": "Python 3",
   "language": "python",
   "name": "python3"
  },
  "language_info": {
   "codemirror_mode": {
    "name": "ipython",
    "version": 3
   },
   "file_extension": ".py",
   "mimetype": "text/x-python",
   "name": "python",
   "nbconvert_exporter": "python",
   "pygments_lexer": "ipython3",
   "version": "3.6.9"
  }
 },
 "nbformat": 4,
 "nbformat_minor": 4
}
