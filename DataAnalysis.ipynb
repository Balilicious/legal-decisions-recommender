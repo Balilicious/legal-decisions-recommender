{
 "cells": [
  {
   "cell_type": "markdown",
   "metadata": {},
   "source": [
    "# Data Analysis\n",
    "explore decisions 2010-2020 concerning Strafsachen (criminal cases) from Bundesgerichtshof (Federal Court of Justice) "
   ]
  },
  {
   "cell_type": "code",
   "execution_count": 1,
   "metadata": {},
   "outputs": [],
   "source": [
    "import pandas as pd\n",
    "import numpy as np\n",
    "import matplotlib.pyplot as plt\n",
    "import seaborn as sns\n",
    "import re\n",
    "import datetime"
   ]
  },
  {
   "cell_type": "code",
   "execution_count": 3,
   "metadata": {},
   "outputs": [],
   "source": [
    "df = pd.read_json('data/dataframes/restructured_bgh_decisions.json', orient='columns', encoding='utf-8')"
   ]
  },
  {
   "cell_type": "code",
   "execution_count": 4,
   "metadata": {},
   "outputs": [
    {
     "data": {
      "text/html": [
       "<div>\n",
       "<style scoped>\n",
       "    .dataframe tbody tr th:only-of-type {\n",
       "        vertical-align: middle;\n",
       "    }\n",
       "\n",
       "    .dataframe tbody tr th {\n",
       "        vertical-align: top;\n",
       "    }\n",
       "\n",
       "    .dataframe thead th {\n",
       "        text-align: right;\n",
       "    }\n",
       "</style>\n",
       "<table border=\"1\" class=\"dataframe\">\n",
       "  <thead>\n",
       "    <tr style=\"text-align: right;\">\n",
       "      <th></th>\n",
       "      <th>az</th>\n",
       "      <th>datum</th>\n",
       "      <th>doknr</th>\n",
       "      <th>gertyp</th>\n",
       "      <th>spruchkoerper</th>\n",
       "      <th>doktyp</th>\n",
       "      <th>titel</th>\n",
       "      <th>tenor</th>\n",
       "      <th>gruende</th>\n",
       "    </tr>\n",
       "  </thead>\n",
       "  <tbody>\n",
       "    <tr>\n",
       "      <th>0</th>\n",
       "      <td>2 ARs 569/09</td>\n",
       "      <td>20100113</td>\n",
       "      <td>JURE100055051</td>\n",
       "      <td>BGH</td>\n",
       "      <td>2. Strafsenat</td>\n",
       "      <td>Beschluss</td>\n",
       "      <td>Jugendgerichtsverfahren: Abgabe an das nach Wo...</td>\n",
       "      <td>[Für die Untersuchung und Entscheidung der Sac...</td>\n",
       "      <td>[Die Abgabe durch das Amtsgericht Darmstadt ge...</td>\n",
       "    </tr>\n",
       "    <tr>\n",
       "      <th>1</th>\n",
       "      <td>3 StR 500/09</td>\n",
       "      <td>20100113</td>\n",
       "      <td>JURE100056016</td>\n",
       "      <td>BGH</td>\n",
       "      <td>3. Strafsenat</td>\n",
       "      <td>Beschluss</td>\n",
       "      <td>Betrug: Erforderliche Urteilsfeststellungen zu...</td>\n",
       "      <td>[1. Auf die Revision des Angeklagten wird das ...</td>\n",
       "      <td>[Das Landgericht hat den Angeklagten wegen Bet...</td>\n",
       "    </tr>\n",
       "    <tr>\n",
       "      <th>2</th>\n",
       "      <td>5 StR 507/09</td>\n",
       "      <td>20100126</td>\n",
       "      <td>JURE100056026</td>\n",
       "      <td>BGH</td>\n",
       "      <td>5. Strafsenat</td>\n",
       "      <td>Beschluss</td>\n",
       "      <td>Gesamtstrafenbildung: Aufhebung der Gesamtstra...</td>\n",
       "      <td>[Auf die Revision des Angeklagten wird das Urt...</td>\n",
       "      <td>[Das Landgericht hat den Angeklagten wegen bes...</td>\n",
       "    </tr>\n",
       "    <tr>\n",
       "      <th>3</th>\n",
       "      <td>5 StR 509/09</td>\n",
       "      <td>20100126</td>\n",
       "      <td>JURE100056027</td>\n",
       "      <td>BGH</td>\n",
       "      <td>5. Strafsenat</td>\n",
       "      <td>Beschluss</td>\n",
       "      <td>Betäubungsmitteleinfuhr: Vollendete Einfuhr zu...</td>\n",
       "      <td>[1. Auf die Revision des Angeklagten wird das ...</td>\n",
       "      <td>[None, Das Landgericht hat den Angeklagten weg...</td>\n",
       "    </tr>\n",
       "    <tr>\n",
       "      <th>4</th>\n",
       "      <td>3 StR 502/09</td>\n",
       "      <td>20100121</td>\n",
       "      <td>JURE100057396</td>\n",
       "      <td>BGH</td>\n",
       "      <td>3. Strafsenat</td>\n",
       "      <td>Beschluss</td>\n",
       "      <td>Unterbringung in einer Entziehungsanstalt: Abs...</td>\n",
       "      <td>[I. 1. Auf die Revision des Angeklagten T. wir...</td>\n",
       "      <td>[Das Landgericht hat den Angeklagten T. wegen ...</td>\n",
       "    </tr>\n",
       "    <tr>\n",
       "      <th>...</th>\n",
       "      <td>...</td>\n",
       "      <td>...</td>\n",
       "      <td>...</td>\n",
       "      <td>...</td>\n",
       "      <td>...</td>\n",
       "      <td>...</td>\n",
       "      <td>...</td>\n",
       "      <td>...</td>\n",
       "      <td>...</td>\n",
       "    </tr>\n",
       "    <tr>\n",
       "      <th>5821</th>\n",
       "      <td>4 StR 282/17</td>\n",
       "      <td>20170928</td>\n",
       "      <td>KORE634632017</td>\n",
       "      <td>BGH</td>\n",
       "      <td>4. Strafsenat</td>\n",
       "      <td>Urteil</td>\n",
       "      <td>Rücktritt vom Versuch eines Tötungsdelikts: Fr...</td>\n",
       "      <td>[1. Auf die Revisionen der Staatsanwaltschaft ...</td>\n",
       "      <td>[Das Landgericht hat den Angeklagten wegen gef...</td>\n",
       "    </tr>\n",
       "    <tr>\n",
       "      <th>5822</th>\n",
       "      <td>2 StR 217/19</td>\n",
       "      <td>20191113</td>\n",
       "      <td>KORE634712019</td>\n",
       "      <td>BGH</td>\n",
       "      <td>2. Strafsenat</td>\n",
       "      <td>Urteil</td>\n",
       "      <td>Jugendstrafverfahren: jugendspezifische Bestim...</td>\n",
       "      <td>[Die Revision des Angeklagten gegen das Urteil...</td>\n",
       "      <td>[Das Landgericht hat den Angeklagten wegen Tot...</td>\n",
       "    </tr>\n",
       "    <tr>\n",
       "      <th>5823</th>\n",
       "      <td>2 StR 447/19</td>\n",
       "      <td>20191105</td>\n",
       "      <td>KORE634732019</td>\n",
       "      <td>BGH</td>\n",
       "      <td>2. Strafsenat</td>\n",
       "      <td>Beschluss</td>\n",
       "      <td>Berücksichtigung von Einziehung bei Strafzumes...</td>\n",
       "      <td>[1. Auf die Revision des Angeklagten wird das ...</td>\n",
       "      <td>[Das Landgericht hat den Angeklagten wegen une...</td>\n",
       "    </tr>\n",
       "    <tr>\n",
       "      <th>5824</th>\n",
       "      <td>3 StR 249/19</td>\n",
       "      <td>20191113</td>\n",
       "      <td>KORE634742019</td>\n",
       "      <td>BGH</td>\n",
       "      <td>3. Strafsenat</td>\n",
       "      <td>Beschluss</td>\n",
       "      <td>Formulierung des Antrags auf Einziehung im obj...</td>\n",
       "      <td>[1. Auf die Revision des Angeklagten wird das ...</td>\n",
       "      <td>[Das Landgericht hat den Angeklagten der Gründ...</td>\n",
       "    </tr>\n",
       "    <tr>\n",
       "      <th>5825</th>\n",
       "      <td>4 StR 289/19</td>\n",
       "      <td>20190815</td>\n",
       "      <td>KORE634782019</td>\n",
       "      <td>BGH</td>\n",
       "      <td>4. Strafsenat</td>\n",
       "      <td>Beschluss</td>\n",
       "      <td>Schwerer sexueller Kindesmissbrauch: Erfordern...</td>\n",
       "      <td>[Auf die Revision des Angeklagten wird das Urt...</td>\n",
       "      <td>[Das Landgericht hat den Angeklagten wegen sch...</td>\n",
       "    </tr>\n",
       "  </tbody>\n",
       "</table>\n",
       "<p>5826 rows × 9 columns</p>\n",
       "</div>"
      ],
      "text/plain": [
       "                az     datum          doknr gertyp  spruchkoerper     doktyp  \\\n",
       "0     2 ARs 569/09  20100113  JURE100055051    BGH  2. Strafsenat  Beschluss   \n",
       "1     3 StR 500/09  20100113  JURE100056016    BGH  3. Strafsenat  Beschluss   \n",
       "2     5 StR 507/09  20100126  JURE100056026    BGH  5. Strafsenat  Beschluss   \n",
       "3     5 StR 509/09  20100126  JURE100056027    BGH  5. Strafsenat  Beschluss   \n",
       "4     3 StR 502/09  20100121  JURE100057396    BGH  3. Strafsenat  Beschluss   \n",
       "...            ...       ...            ...    ...            ...        ...   \n",
       "5821  4 StR 282/17  20170928  KORE634632017    BGH  4. Strafsenat     Urteil   \n",
       "5822  2 StR 217/19  20191113  KORE634712019    BGH  2. Strafsenat     Urteil   \n",
       "5823  2 StR 447/19  20191105  KORE634732019    BGH  2. Strafsenat  Beschluss   \n",
       "5824  3 StR 249/19  20191113  KORE634742019    BGH  3. Strafsenat  Beschluss   \n",
       "5825  4 StR 289/19  20190815  KORE634782019    BGH  4. Strafsenat  Beschluss   \n",
       "\n",
       "                                                  titel  \\\n",
       "0     Jugendgerichtsverfahren: Abgabe an das nach Wo...   \n",
       "1     Betrug: Erforderliche Urteilsfeststellungen zu...   \n",
       "2     Gesamtstrafenbildung: Aufhebung der Gesamtstra...   \n",
       "3     Betäubungsmitteleinfuhr: Vollendete Einfuhr zu...   \n",
       "4     Unterbringung in einer Entziehungsanstalt: Abs...   \n",
       "...                                                 ...   \n",
       "5821  Rücktritt vom Versuch eines Tötungsdelikts: Fr...   \n",
       "5822  Jugendstrafverfahren: jugendspezifische Bestim...   \n",
       "5823  Berücksichtigung von Einziehung bei Strafzumes...   \n",
       "5824  Formulierung des Antrags auf Einziehung im obj...   \n",
       "5825  Schwerer sexueller Kindesmissbrauch: Erfordern...   \n",
       "\n",
       "                                                  tenor  \\\n",
       "0     [Für die Untersuchung und Entscheidung der Sac...   \n",
       "1     [1. Auf die Revision des Angeklagten wird das ...   \n",
       "2     [Auf die Revision des Angeklagten wird das Urt...   \n",
       "3     [1. Auf die Revision des Angeklagten wird das ...   \n",
       "4     [I. 1. Auf die Revision des Angeklagten T. wir...   \n",
       "...                                                 ...   \n",
       "5821  [1. Auf die Revisionen der Staatsanwaltschaft ...   \n",
       "5822  [Die Revision des Angeklagten gegen das Urteil...   \n",
       "5823  [1. Auf die Revision des Angeklagten wird das ...   \n",
       "5824  [1. Auf die Revision des Angeklagten wird das ...   \n",
       "5825  [Auf die Revision des Angeklagten wird das Urt...   \n",
       "\n",
       "                                                gruende  \n",
       "0     [Die Abgabe durch das Amtsgericht Darmstadt ge...  \n",
       "1     [Das Landgericht hat den Angeklagten wegen Bet...  \n",
       "2     [Das Landgericht hat den Angeklagten wegen bes...  \n",
       "3     [None, Das Landgericht hat den Angeklagten weg...  \n",
       "4     [Das Landgericht hat den Angeklagten T. wegen ...  \n",
       "...                                                 ...  \n",
       "5821  [Das Landgericht hat den Angeklagten wegen gef...  \n",
       "5822  [Das Landgericht hat den Angeklagten wegen Tot...  \n",
       "5823  [Das Landgericht hat den Angeklagten wegen une...  \n",
       "5824  [Das Landgericht hat den Angeklagten der Gründ...  \n",
       "5825  [Das Landgericht hat den Angeklagten wegen sch...  \n",
       "\n",
       "[5826 rows x 9 columns]"
      ]
     },
     "execution_count": 4,
     "metadata": {},
     "output_type": "execute_result"
    }
   ],
   "source": [
    "df"
   ]
  },
  {
   "cell_type": "markdown",
   "metadata": {},
   "source": [
    "# Dokumenttypen"
   ]
  },
  {
   "cell_type": "markdown",
   "metadata": {},
   "source": [
    "Es gibt 6 verschiedene Dokumententypen: ['Beschluss' 'Urteil' 'Vorlagebeschluss' 'EuGH-Vorlage' 'Entscheidung'\n",
    " 'Verfügung']. Insgesamt 1277 Urteile, 4526 Beschlüsse, 1 Entscheidung, 2 Verfügungen, 11 Vorlagebeschlüsse, 9 EuGH-Vorlagen."
   ]
  },
  {
   "cell_type": "code",
   "execution_count": 12,
   "metadata": {},
   "outputs": [
    {
     "data": {
      "text/plain": [
       "array(['Beschluss', 'Urteil', 'Vorlagebeschluss', 'EuGH-Vorlage',\n",
       "       'Entscheidung', 'Verfügung'], dtype=object)"
      ]
     },
     "execution_count": 12,
     "metadata": {},
     "output_type": "execute_result"
    }
   ],
   "source": [
    "unique_values_doktyp = df.doktyp.unique()\n",
    "unique_values_doktyp"
   ]
  },
  {
   "cell_type": "code",
   "execution_count": 13,
   "metadata": {},
   "outputs": [
    {
     "data": {
      "text/plain": [
       "1277"
      ]
     },
     "execution_count": 13,
     "metadata": {},
     "output_type": "execute_result"
    }
   ],
   "source": [
    "anz_urteil = df[df.doktyp == 'Urteil'].shape[0]\n",
    "anz_urteil"
   ]
  },
  {
   "cell_type": "code",
   "execution_count": 14,
   "metadata": {},
   "outputs": [
    {
     "data": {
      "text/plain": [
       "4526"
      ]
     },
     "execution_count": 14,
     "metadata": {},
     "output_type": "execute_result"
    }
   ],
   "source": [
    "anz_beschluss = df[df.doktyp == 'Beschluss'].shape[0]\n",
    "anz_beschluss"
   ]
  },
  {
   "cell_type": "code",
   "execution_count": 15,
   "metadata": {},
   "outputs": [
    {
     "data": {
      "text/plain": [
       "1"
      ]
     },
     "execution_count": 15,
     "metadata": {},
     "output_type": "execute_result"
    }
   ],
   "source": [
    "anz_entscheidung = df[df.doktyp == 'Entscheidung'].shape[0]\n",
    "anz_entscheidung"
   ]
  },
  {
   "cell_type": "code",
   "execution_count": 16,
   "metadata": {},
   "outputs": [
    {
     "data": {
      "text/plain": [
       "2"
      ]
     },
     "execution_count": 16,
     "metadata": {},
     "output_type": "execute_result"
    }
   ],
   "source": [
    "anz_verfuegung = df[df.doktyp == 'Verfügung'].shape[0]\n",
    "anz_verfuegung"
   ]
  },
  {
   "cell_type": "code",
   "execution_count": 17,
   "metadata": {},
   "outputs": [
    {
     "data": {
      "text/plain": [
       "11"
      ]
     },
     "execution_count": 17,
     "metadata": {},
     "output_type": "execute_result"
    }
   ],
   "source": [
    "anz_vorlagebeschluss = df[df.doktyp == 'Vorlagebeschluss'].shape[0]\n",
    "anz_vorlagebeschluss"
   ]
  },
  {
   "cell_type": "code",
   "execution_count": 18,
   "metadata": {},
   "outputs": [
    {
     "data": {
      "text/plain": [
       "9"
      ]
     },
     "execution_count": 18,
     "metadata": {},
     "output_type": "execute_result"
    }
   ],
   "source": [
    "anz_eughvorlage = df[df.doktyp == 'EuGH-Vorlage'].shape[0]\n",
    "anz_eughvorlage"
   ]
  },
  {
   "cell_type": "markdown",
   "metadata": {},
   "source": [
    "# Spruchkörper"
   ]
  },
  {
   "cell_type": "markdown",
   "metadata": {},
   "source": [
    "Es gibt 6 verschiedene Spruchkörper: ['2. Strafsenat' '3. Strafsenat' '5. Strafsenat' '4. Strafsenat'\n",
    " '1. Strafsenat' '6. Strafsenat']. 1245 mal 1. Strafsenat, 1255 mal 2. Strafsenat, 1290 mal 3. Strafsenat, 1195 mal 4. Strafsenat, 835 mal 5. Strafsenat, 6 mal 6. Stafsenat. "
   ]
  },
  {
   "cell_type": "code",
   "execution_count": 19,
   "metadata": {},
   "outputs": [
    {
     "data": {
      "text/plain": [
       "array(['2. Strafsenat', '3. Strafsenat', '5. Strafsenat', '4. Strafsenat',\n",
       "       '1. Strafsenat', '6. Strafsenat'], dtype=object)"
      ]
     },
     "execution_count": 19,
     "metadata": {},
     "output_type": "execute_result"
    }
   ],
   "source": [
    "unique_values_spruchkoerper = df.spruchkoerper.unique()\n",
    "unique_values_spruchkoerper"
   ]
  },
  {
   "cell_type": "code",
   "execution_count": 20,
   "metadata": {},
   "outputs": [
    {
     "data": {
      "text/plain": [
       "1245"
      ]
     },
     "execution_count": 20,
     "metadata": {},
     "output_type": "execute_result"
    }
   ],
   "source": [
    "anz_ersterStrSen = df[df.spruchkoerper == '1. Strafsenat'].shape[0]\n",
    "anz_ersterStrSen"
   ]
  },
  {
   "cell_type": "code",
   "execution_count": 21,
   "metadata": {},
   "outputs": [
    {
     "data": {
      "text/plain": [
       "1255"
      ]
     },
     "execution_count": 21,
     "metadata": {},
     "output_type": "execute_result"
    }
   ],
   "source": [
    "anz_zweiterStrSen = df[df.spruchkoerper == '2. Strafsenat'].shape[0]\n",
    "anz_zweiterStrSen"
   ]
  },
  {
   "cell_type": "code",
   "execution_count": 22,
   "metadata": {},
   "outputs": [
    {
     "data": {
      "text/plain": [
       "1290"
      ]
     },
     "execution_count": 22,
     "metadata": {},
     "output_type": "execute_result"
    }
   ],
   "source": [
    "anz_dritterStrSen = df[df.spruchkoerper == '3. Strafsenat'].shape[0]\n",
    "anz_dritterStrSen"
   ]
  },
  {
   "cell_type": "code",
   "execution_count": 23,
   "metadata": {},
   "outputs": [
    {
     "data": {
      "text/plain": [
       "1195"
      ]
     },
     "execution_count": 23,
     "metadata": {},
     "output_type": "execute_result"
    }
   ],
   "source": [
    "anz_vierterStrSen = df[df.spruchkoerper == '4. Strafsenat'].shape[0]\n",
    "anz_vierterStrSen"
   ]
  },
  {
   "cell_type": "code",
   "execution_count": 24,
   "metadata": {},
   "outputs": [
    {
     "data": {
      "text/plain": [
       "835"
      ]
     },
     "execution_count": 24,
     "metadata": {},
     "output_type": "execute_result"
    }
   ],
   "source": [
    "anz_fuenfterStrSen = df[df.spruchkoerper == '5. Strafsenat'].shape[0]\n",
    "anz_fuenfterStrSen"
   ]
  },
  {
   "cell_type": "code",
   "execution_count": 25,
   "metadata": {},
   "outputs": [
    {
     "data": {
      "text/plain": [
       "6"
      ]
     },
     "execution_count": 25,
     "metadata": {},
     "output_type": "execute_result"
    }
   ],
   "source": [
    "anz_sechsterStrSen = df[df.spruchkoerper == '6. Strafsenat'].shape[0]\n",
    "anz_sechsterStrSen"
   ]
  },
  {
   "cell_type": "markdown",
   "metadata": {},
   "source": [
    "# fehlende Daten"
   ]
  },
  {
   "cell_type": "markdown",
   "metadata": {},
   "source": [
    "In 198 Fällen fehlen die Titel. Die anderen Kategorien / Spalten sind vollständig belegt. (Bemerkung: stimmt nicht, wie sich später zeigt: Text sind auch leer)"
   ]
  },
  {
   "cell_type": "code",
   "execution_count": 26,
   "metadata": {},
   "outputs": [
    {
     "data": {
      "text/plain": [
       "198"
      ]
     },
     "execution_count": 26,
     "metadata": {},
     "output_type": "execute_result"
    }
   ],
   "source": [
    "len(np.where(pd.isnull(df))[0])"
   ]
  },
  {
   "cell_type": "code",
   "execution_count": 27,
   "metadata": {},
   "outputs": [
    {
     "data": {
      "text/plain": [
       "(array([ 378,  392,  400,  499,  517,  544,  560,  562,  660,  680,  686,\n",
       "         716,  725,  744,  755,  774,  778,  779,  787,  791,  795,  816,\n",
       "         820,  830,  850,  851,  852,  853,  863,  868,  903,  935,  968,\n",
       "         978, 1387, 1404, 1430, 1509, 1546, 1667, 1682, 1694, 1696, 1730,\n",
       "        1740, 1745, 1748, 1769, 1781, 1786, 1795, 1819, 1821, 1836, 1840,\n",
       "        1843, 1845, 1846, 1867, 1871, 1876, 1883, 1889, 1895, 1972, 1983,\n",
       "        1986, 2028, 2105, 2266, 2300, 2346, 2369, 2658, 2667, 2676, 2679,\n",
       "        2680, 2685, 2694, 2698, 2713, 2758, 2770, 2777, 2781, 2782, 2788,\n",
       "        2795, 2803, 2812, 2820, 2826, 2840, 2842, 2846, 2914, 2928, 2952,\n",
       "        2969, 2997, 3086, 3325, 3329, 3348, 3363, 3434, 3493, 3627, 3631,\n",
       "        3642, 3645, 3651, 3677, 3679, 3707, 3723, 3732, 3737, 3752, 3759,\n",
       "        3761, 3765, 3777, 3817, 3829, 3831, 3834, 3848, 3862, 3871, 3899,\n",
       "        4104, 4192, 4401, 4420, 4495, 4541, 4551, 4580, 4685, 4714, 4716,\n",
       "        4717, 4718, 4724, 4725, 4728, 4741, 4746, 4747, 4756, 4763, 4772,\n",
       "        4782, 4783, 4787, 4788, 4791, 4802, 4827, 4828, 4833, 4836, 4840,\n",
       "        4857, 4886, 4930, 4937, 5085, 5326, 5373, 5388, 5562, 5599, 5605,\n",
       "        5610, 5660, 5661, 5665, 5666, 5668, 5669, 5673, 5682, 5687, 5689,\n",
       "        5692, 5694, 5698, 5704, 5707, 5711, 5715, 5716, 5735, 5761, 5763]),\n",
       " array([6, 6, 6, 6, 6, 6, 6, 6, 6, 6, 6, 6, 6, 6, 6, 6, 6, 6, 6, 6, 6, 6,\n",
       "        6, 6, 6, 6, 6, 6, 6, 6, 6, 6, 6, 6, 6, 6, 6, 6, 6, 6, 6, 6, 6, 6,\n",
       "        6, 6, 6, 6, 6, 6, 6, 6, 6, 6, 6, 6, 6, 6, 6, 6, 6, 6, 6, 6, 6, 6,\n",
       "        6, 6, 6, 6, 6, 6, 6, 6, 6, 6, 6, 6, 6, 6, 6, 6, 6, 6, 6, 6, 6, 6,\n",
       "        6, 6, 6, 6, 6, 6, 6, 6, 6, 6, 6, 6, 6, 6, 6, 6, 6, 6, 6, 6, 6, 6,\n",
       "        6, 6, 6, 6, 6, 6, 6, 6, 6, 6, 6, 6, 6, 6, 6, 6, 6, 6, 6, 6, 6, 6,\n",
       "        6, 6, 6, 6, 6, 6, 6, 6, 6, 6, 6, 6, 6, 6, 6, 6, 6, 6, 6, 6, 6, 6,\n",
       "        6, 6, 6, 6, 6, 6, 6, 6, 6, 6, 6, 6, 6, 6, 6, 6, 6, 6, 6, 6, 6, 6,\n",
       "        6, 6, 6, 6, 6, 6, 6, 6, 6, 6, 6, 6, 6, 6, 6, 6, 6, 6, 6, 6, 6, 6]))"
      ]
     },
     "execution_count": 27,
     "metadata": {},
     "output_type": "execute_result"
    }
   ],
   "source": [
    "np.where(pd.isnull(df))"
   ]
  },
  {
   "cell_type": "code",
   "execution_count": 31,
   "metadata": {},
   "outputs": [
    {
     "name": "stdout",
     "output_type": "stream",
     "text": [
      "None\n"
     ]
    }
   ],
   "source": [
    "print(df.iloc[378, 6])"
   ]
  },
  {
   "cell_type": "markdown",
   "metadata": {},
   "source": [
    "# Plotversuche"
   ]
  },
  {
   "cell_type": "code",
   "execution_count": 32,
   "metadata": {},
   "outputs": [
    {
     "data": {
      "text/plain": [
       "<AxesSubplot:xlabel='spruchkoerper', ylabel='count'>"
      ]
     },
     "execution_count": 32,
     "metadata": {},
     "output_type": "execute_result"
    },
    {
     "data": {
      "image/png": "[encoded data removed]",
      "text/plain": [
       "<Figure size 432x288 with 1 Axes>"
      ]
     },
     "metadata": {
      "needs_background": "light"
     },
     "output_type": "display_data"
    }
   ],
   "source": [
    "sns.countplot(df.spruchkoerper)"
   ]
  },
  {
   "cell_type": "code",
   "execution_count": 35,
   "metadata": {},
   "outputs": [
    {
     "data": {
      "image/png": "[encoded data removed]",
      "text/plain": [
       "<Figure size 432x288 with 1 Axes>"
      ]
     },
     "metadata": {},
     "output_type": "display_data"
    }
   ],
   "source": [
    "f = plt.figure()\n",
    "sns.set(style=\"white\", context=\"notebook\")\n",
    "x = [\"1.\", \"2.\", \"3.\",\"4.\", \"5.\", \"6.\"]\n",
    "y = [anz_ersterStrSen, anz_zweiterStrSen, anz_dritterStrSen, anz_vierterStrSen, anz_fuenfterStrSen, anz_sechsterStrSen]\n",
    "ax = sns.barplot(x=x, y=y, palette=\"rocket\")\n",
    "ax.set(xlabel='Strafsenate (Spruchkörper)', ylabel='Vorkommen absolut')\n",
    "\n",
    "plt.show()\n",
    "\n",
    "f.savefig(\"images/plots/strafsenate.png\", bbox_inches=\"tight\", dpi=600)"
   ]
  },
  {
   "cell_type": "code",
   "execution_count": 36,
   "metadata": {},
   "outputs": [
    {
     "data": {
      "image/png": "[encoded data removed]",
      "text/plain": [
       "<Figure size 720x288 with 1 Axes>"
      ]
     },
     "metadata": {},
     "output_type": "display_data"
    }
   ],
   "source": [
    "plt.figure(figsize=(10,4))\n",
    "x2 = unique_values_doktyp\n",
    "y2 = [anz_beschluss, anz_urteil, anz_vorlagebeschluss, anz_eughvorlage, anz_entscheidung, anz_verfuegung]\n",
    "ax2 = sns.barplot(x=x2, y=y2)\n",
    "ax2.set(xlabel='Dokumenttyp', ylabel='Vorkommen absolut')\n",
    "plt.xticks(rotation=15)\n",
    "plt.show()"
   ]
  },
  {
   "cell_type": "code",
   "execution_count": 37,
   "metadata": {},
   "outputs": [
    {
     "data": {
      "text/plain": [
       "<AxesSubplot:>"
      ]
     },
     "execution_count": 37,
     "metadata": {},
     "output_type": "execute_result"
    },
    {
     "data": {
      "image/png": "[encoded data removed]",
      "text/plain": [
       "<Figure size 720x576 with 1 Axes>"
      ]
     },
     "metadata": {},
     "output_type": "display_data"
    }
   ],
   "source": [
    "df['doktyp'].value_counts().plot(kind='barh', figsize=(10,8))"
   ]
  },
  {
   "cell_type": "markdown",
   "metadata": {},
   "source": [
    "# Entscheidungsdatum"
   ]
  },
  {
   "cell_type": "code",
   "execution_count": 38,
   "metadata": {},
   "outputs": [],
   "source": [
    "unique_values_datum = df.datum.unique()"
   ]
  },
  {
   "cell_type": "code",
   "execution_count": 39,
   "metadata": {},
   "outputs": [
    {
     "name": "stdout",
     "output_type": "stream",
     "text": [
      "1520\n"
     ]
    }
   ],
   "source": [
    "print(len(unique_values_datum))"
   ]
  },
  {
   "cell_type": "code",
   "execution_count": 40,
   "metadata": {},
   "outputs": [
    {
     "data": {
      "text/plain": [
       "numpy.int64"
      ]
     },
     "execution_count": 40,
     "metadata": {},
     "output_type": "execute_result"
    }
   ],
   "source": [
    "type(df.datum[0])"
   ]
  },
  {
   "cell_type": "code",
   "execution_count": 41,
   "metadata": {},
   "outputs": [],
   "source": [
    "# datum in df in datumsformat umwandeln\n",
    "df['datum'] = df['datum'].apply(lambda x: pd.to_datetime(str(x), format='%Y%m%d'))"
   ]
  },
  {
   "cell_type": "code",
   "execution_count": 42,
   "metadata": {},
   "outputs": [
    {
     "data": {
      "text/html": [
       "<div>\n",
       "<style scoped>\n",
       "    .dataframe tbody tr th:only-of-type {\n",
       "        vertical-align: middle;\n",
       "    }\n",
       "\n",
       "    .dataframe tbody tr th {\n",
       "        vertical-align: top;\n",
       "    }\n",
       "\n",
       "    .dataframe thead th {\n",
       "        text-align: right;\n",
       "    }\n",
       "</style>\n",
       "<table border=\"1\" class=\"dataframe\">\n",
       "  <thead>\n",
       "    <tr style=\"text-align: right;\">\n",
       "      <th></th>\n",
       "      <th>az</th>\n",
       "      <th>datum</th>\n",
       "      <th>doknr</th>\n",
       "      <th>gertyp</th>\n",
       "      <th>spruchkoerper</th>\n",
       "      <th>doktyp</th>\n",
       "      <th>titel</th>\n",
       "      <th>tenor</th>\n",
       "      <th>gruende</th>\n",
       "    </tr>\n",
       "  </thead>\n",
       "  <tbody>\n",
       "    <tr>\n",
       "      <th>0</th>\n",
       "      <td>2 ARs 569/09</td>\n",
       "      <td>2010-01-13</td>\n",
       "      <td>JURE100055051</td>\n",
       "      <td>BGH</td>\n",
       "      <td>2. Strafsenat</td>\n",
       "      <td>Beschluss</td>\n",
       "      <td>Jugendgerichtsverfahren: Abgabe an das nach Wo...</td>\n",
       "      <td>[Für die Untersuchung und Entscheidung der Sac...</td>\n",
       "      <td>[Die Abgabe durch das Amtsgericht Darmstadt ge...</td>\n",
       "    </tr>\n",
       "    <tr>\n",
       "      <th>1</th>\n",
       "      <td>3 StR 500/09</td>\n",
       "      <td>2010-01-13</td>\n",
       "      <td>JURE100056016</td>\n",
       "      <td>BGH</td>\n",
       "      <td>3. Strafsenat</td>\n",
       "      <td>Beschluss</td>\n",
       "      <td>Betrug: Erforderliche Urteilsfeststellungen zu...</td>\n",
       "      <td>[1. Auf die Revision des Angeklagten wird das ...</td>\n",
       "      <td>[Das Landgericht hat den Angeklagten wegen Bet...</td>\n",
       "    </tr>\n",
       "    <tr>\n",
       "      <th>2</th>\n",
       "      <td>5 StR 507/09</td>\n",
       "      <td>2010-01-26</td>\n",
       "      <td>JURE100056026</td>\n",
       "      <td>BGH</td>\n",
       "      <td>5. Strafsenat</td>\n",
       "      <td>Beschluss</td>\n",
       "      <td>Gesamtstrafenbildung: Aufhebung der Gesamtstra...</td>\n",
       "      <td>[Auf die Revision des Angeklagten wird das Urt...</td>\n",
       "      <td>[Das Landgericht hat den Angeklagten wegen bes...</td>\n",
       "    </tr>\n",
       "    <tr>\n",
       "      <th>3</th>\n",
       "      <td>5 StR 509/09</td>\n",
       "      <td>2010-01-26</td>\n",
       "      <td>JURE100056027</td>\n",
       "      <td>BGH</td>\n",
       "      <td>5. Strafsenat</td>\n",
       "      <td>Beschluss</td>\n",
       "      <td>Betäubungsmitteleinfuhr: Vollendete Einfuhr zu...</td>\n",
       "      <td>[1. Auf die Revision des Angeklagten wird das ...</td>\n",
       "      <td>[None, Das Landgericht hat den Angeklagten weg...</td>\n",
       "    </tr>\n",
       "    <tr>\n",
       "      <th>4</th>\n",
       "      <td>3 StR 502/09</td>\n",
       "      <td>2010-01-21</td>\n",
       "      <td>JURE100057396</td>\n",
       "      <td>BGH</td>\n",
       "      <td>3. Strafsenat</td>\n",
       "      <td>Beschluss</td>\n",
       "      <td>Unterbringung in einer Entziehungsanstalt: Abs...</td>\n",
       "      <td>[I. 1. Auf die Revision des Angeklagten T. wir...</td>\n",
       "      <td>[Das Landgericht hat den Angeklagten T. wegen ...</td>\n",
       "    </tr>\n",
       "    <tr>\n",
       "      <th>...</th>\n",
       "      <td>...</td>\n",
       "      <td>...</td>\n",
       "      <td>...</td>\n",
       "      <td>...</td>\n",
       "      <td>...</td>\n",
       "      <td>...</td>\n",
       "      <td>...</td>\n",
       "      <td>...</td>\n",
       "      <td>...</td>\n",
       "    </tr>\n",
       "    <tr>\n",
       "      <th>5821</th>\n",
       "      <td>4 StR 282/17</td>\n",
       "      <td>2017-09-28</td>\n",
       "      <td>KORE634632017</td>\n",
       "      <td>BGH</td>\n",
       "      <td>4. Strafsenat</td>\n",
       "      <td>Urteil</td>\n",
       "      <td>Rücktritt vom Versuch eines Tötungsdelikts: Fr...</td>\n",
       "      <td>[1. Auf die Revisionen der Staatsanwaltschaft ...</td>\n",
       "      <td>[Das Landgericht hat den Angeklagten wegen gef...</td>\n",
       "    </tr>\n",
       "    <tr>\n",
       "      <th>5822</th>\n",
       "      <td>2 StR 217/19</td>\n",
       "      <td>2019-11-13</td>\n",
       "      <td>KORE634712019</td>\n",
       "      <td>BGH</td>\n",
       "      <td>2. Strafsenat</td>\n",
       "      <td>Urteil</td>\n",
       "      <td>Jugendstrafverfahren: jugendspezifische Bestim...</td>\n",
       "      <td>[Die Revision des Angeklagten gegen das Urteil...</td>\n",
       "      <td>[Das Landgericht hat den Angeklagten wegen Tot...</td>\n",
       "    </tr>\n",
       "    <tr>\n",
       "      <th>5823</th>\n",
       "      <td>2 StR 447/19</td>\n",
       "      <td>2019-11-05</td>\n",
       "      <td>KORE634732019</td>\n",
       "      <td>BGH</td>\n",
       "      <td>2. Strafsenat</td>\n",
       "      <td>Beschluss</td>\n",
       "      <td>Berücksichtigung von Einziehung bei Strafzumes...</td>\n",
       "      <td>[1. Auf die Revision des Angeklagten wird das ...</td>\n",
       "      <td>[Das Landgericht hat den Angeklagten wegen une...</td>\n",
       "    </tr>\n",
       "    <tr>\n",
       "      <th>5824</th>\n",
       "      <td>3 StR 249/19</td>\n",
       "      <td>2019-11-13</td>\n",
       "      <td>KORE634742019</td>\n",
       "      <td>BGH</td>\n",
       "      <td>3. Strafsenat</td>\n",
       "      <td>Beschluss</td>\n",
       "      <td>Formulierung des Antrags auf Einziehung im obj...</td>\n",
       "      <td>[1. Auf die Revision des Angeklagten wird das ...</td>\n",
       "      <td>[Das Landgericht hat den Angeklagten der Gründ...</td>\n",
       "    </tr>\n",
       "    <tr>\n",
       "      <th>5825</th>\n",
       "      <td>4 StR 289/19</td>\n",
       "      <td>2019-08-15</td>\n",
       "      <td>KORE634782019</td>\n",
       "      <td>BGH</td>\n",
       "      <td>4. Strafsenat</td>\n",
       "      <td>Beschluss</td>\n",
       "      <td>Schwerer sexueller Kindesmissbrauch: Erfordern...</td>\n",
       "      <td>[Auf die Revision des Angeklagten wird das Urt...</td>\n",
       "      <td>[Das Landgericht hat den Angeklagten wegen sch...</td>\n",
       "    </tr>\n",
       "  </tbody>\n",
       "</table>\n",
       "<p>5826 rows × 9 columns</p>\n",
       "</div>"
      ],
      "text/plain": [
       "                az      datum          doknr gertyp  spruchkoerper     doktyp  \\\n",
       "0     2 ARs 569/09 2010-01-13  JURE100055051    BGH  2. Strafsenat  Beschluss   \n",
       "1     3 StR 500/09 2010-01-13  JURE100056016    BGH  3. Strafsenat  Beschluss   \n",
       "2     5 StR 507/09 2010-01-26  JURE100056026    BGH  5. Strafsenat  Beschluss   \n",
       "3     5 StR 509/09 2010-01-26  JURE100056027    BGH  5. Strafsenat  Beschluss   \n",
       "4     3 StR 502/09 2010-01-21  JURE100057396    BGH  3. Strafsenat  Beschluss   \n",
       "...            ...        ...            ...    ...            ...        ...   \n",
       "5821  4 StR 282/17 2017-09-28  KORE634632017    BGH  4. Strafsenat     Urteil   \n",
       "5822  2 StR 217/19 2019-11-13  KORE634712019    BGH  2. Strafsenat     Urteil   \n",
       "5823  2 StR 447/19 2019-11-05  KORE634732019    BGH  2. Strafsenat  Beschluss   \n",
       "5824  3 StR 249/19 2019-11-13  KORE634742019    BGH  3. Strafsenat  Beschluss   \n",
       "5825  4 StR 289/19 2019-08-15  KORE634782019    BGH  4. Strafsenat  Beschluss   \n",
       "\n",
       "                                                  titel  \\\n",
       "0     Jugendgerichtsverfahren: Abgabe an das nach Wo...   \n",
       "1     Betrug: Erforderliche Urteilsfeststellungen zu...   \n",
       "2     Gesamtstrafenbildung: Aufhebung der Gesamtstra...   \n",
       "3     Betäubungsmitteleinfuhr: Vollendete Einfuhr zu...   \n",
       "4     Unterbringung in einer Entziehungsanstalt: Abs...   \n",
       "...                                                 ...   \n",
       "5821  Rücktritt vom Versuch eines Tötungsdelikts: Fr...   \n",
       "5822  Jugendstrafverfahren: jugendspezifische Bestim...   \n",
       "5823  Berücksichtigung von Einziehung bei Strafzumes...   \n",
       "5824  Formulierung des Antrags auf Einziehung im obj...   \n",
       "5825  Schwerer sexueller Kindesmissbrauch: Erfordern...   \n",
       "\n",
       "                                                  tenor  \\\n",
       "0     [Für die Untersuchung und Entscheidung der Sac...   \n",
       "1     [1. Auf die Revision des Angeklagten wird das ...   \n",
       "2     [Auf die Revision des Angeklagten wird das Urt...   \n",
       "3     [1. Auf die Revision des Angeklagten wird das ...   \n",
       "4     [I. 1. Auf die Revision des Angeklagten T. wir...   \n",
       "...                                                 ...   \n",
       "5821  [1. Auf die Revisionen der Staatsanwaltschaft ...   \n",
       "5822  [Die Revision des Angeklagten gegen das Urteil...   \n",
       "5823  [1. Auf die Revision des Angeklagten wird das ...   \n",
       "5824  [1. Auf die Revision des Angeklagten wird das ...   \n",
       "5825  [Auf die Revision des Angeklagten wird das Urt...   \n",
       "\n",
       "                                                gruende  \n",
       "0     [Die Abgabe durch das Amtsgericht Darmstadt ge...  \n",
       "1     [Das Landgericht hat den Angeklagten wegen Bet...  \n",
       "2     [Das Landgericht hat den Angeklagten wegen bes...  \n",
       "3     [None, Das Landgericht hat den Angeklagten weg...  \n",
       "4     [Das Landgericht hat den Angeklagten T. wegen ...  \n",
       "...                                                 ...  \n",
       "5821  [Das Landgericht hat den Angeklagten wegen gef...  \n",
       "5822  [Das Landgericht hat den Angeklagten wegen Tot...  \n",
       "5823  [Das Landgericht hat den Angeklagten wegen une...  \n",
       "5824  [Das Landgericht hat den Angeklagten der Gründ...  \n",
       "5825  [Das Landgericht hat den Angeklagten wegen sch...  \n",
       "\n",
       "[5826 rows x 9 columns]"
      ]
     },
     "execution_count": 42,
     "metadata": {},
     "output_type": "execute_result"
    }
   ],
   "source": [
    "df"
   ]
  },
  {
   "cell_type": "code",
   "execution_count": 43,
   "metadata": {},
   "outputs": [
    {
     "data": {
      "image/png": "[encoded data removed]",
      "text/plain": [
       "<Figure size 1440x288 with 1 Axes>"
      ]
     },
     "metadata": {},
     "output_type": "display_data"
    }
   ],
   "source": [
    "f2 = plt.figure(figsize=(20,4))\n",
    "plt.plot(df['datum'].value_counts().sort_index())\n",
    "\n",
    "f2.savefig(\"images/plots/entscheidungsdaten.png\", bbox_inches=\"tight\", dpi=600)"
   ]
  },
  {
   "cell_type": "markdown",
   "metadata": {},
   "source": [
    "# Tenor"
   ]
  },
  {
   "cell_type": "markdown",
   "metadata": {},
   "source": [
    "None aus Tenorlisten entfernen"
   ]
  },
  {
   "cell_type": "code",
   "execution_count": 44,
   "metadata": {},
   "outputs": [],
   "source": [
    "def filterNone(liste: list):\n",
    "    return list(filter(None, liste))"
   ]
  },
  {
   "cell_type": "markdown",
   "metadata": {},
   "source": [
    "style information aus Tenor entfernen"
   ]
  },
  {
   "cell_type": "code",
   "execution_count": 45,
   "metadata": {},
   "outputs": [],
   "source": [
    "def filterStyle(liste: list):\n",
    "    for i, item in enumerate(liste):\n",
    "        if type(item) == dict and \"#text\" in item:\n",
    "            liste[i] = item[\"#text\"]\n",
    "        if type(item) == dict and \"#text\" not in item:\n",
    "            liste[i] = None\n",
    "    return liste"
   ]
  },
  {
   "cell_type": "markdown",
   "metadata": {},
   "source": [
    "Filterfunktionen auf data frame anwenden"
   ]
  },
  {
   "cell_type": "code",
   "execution_count": 46,
   "metadata": {},
   "outputs": [],
   "source": [
    "df[\"tenor\"] = df[\"tenor\"].apply(filterStyle).apply(filterNone)"
   ]
  },
  {
   "cell_type": "markdown",
   "metadata": {},
   "source": [
    "Beispiel für gefilterten Tenor"
   ]
  },
  {
   "cell_type": "code",
   "execution_count": 47,
   "metadata": {},
   "outputs": [
    {
     "data": {
      "text/plain": [
       "['1. Die Revision des Angeklagten I.\\xa0gegen das Urteil des Landgerichts Berlin vom 14. Mai 2009 wird nach § 349 Abs. 2 StPO als unbegründet verworfen. Der Beschwerdeführer hat die Kosten seines Rechtsmittels zu tragen.',\n",
       " '2. Auf die Revision des Angeklagten Q.\\xa0wird das vorgenannte Urteil, soweit es ihn betrifft, nach § 349 Abs. 4 StPO mit den zugehörigen Feststellungen aufgehoben. Die Sache wird insoweit zu erneuter Verhandlung und Entscheidung, auch über die Kosten des Rechtsmittels, an eine andere Strafkammer des Landgerichts zurückverwiesen.']"
      ]
     },
     "execution_count": 47,
     "metadata": {},
     "output_type": "execute_result"
    }
   ],
   "source": [
    "df.iloc[4003].tenor"
   ]
  },
  {
   "cell_type": "markdown",
   "metadata": {},
   "source": [
    "Listenelemente in Tenor zu einem Tenortext zusammenführen"
   ]
  },
  {
   "cell_type": "code",
   "execution_count": 48,
   "metadata": {},
   "outputs": [],
   "source": [
    "def concatenateTenor(tenor_list: list):\n",
    "    return \" \".join(tenor_list)"
   ]
  },
  {
   "cell_type": "markdown",
   "metadata": {},
   "source": [
    "Text bereinigen: \"\\xa0\" entfernen"
   ]
  },
  {
   "cell_type": "code",
   "execution_count": 49,
   "metadata": {},
   "outputs": [],
   "source": [
    "def cleanTenorTxt(tenor_text: str):\n",
    "    #return tenor_text.replace(\"\\xa0\", \" \")\n",
    "    return re.sub(r\"[\\xa0]+\", \" \", tenor_text)"
   ]
  },
  {
   "cell_type": "markdown",
   "metadata": {},
   "source": [
    "Anwenden auf Dataframe. Listen in Text zusammenführen, anschließend Text säubern"
   ]
  },
  {
   "cell_type": "code",
   "execution_count": 50,
   "metadata": {},
   "outputs": [],
   "source": [
    "df[\"tenor\"] = df[\"tenor\"].apply(concatenateTenor).apply(cleanTenorTxt)"
   ]
  },
  {
   "cell_type": "markdown",
   "metadata": {},
   "source": [
    "2 Beispiele für gesäuberten Tenor"
   ]
  },
  {
   "cell_type": "code",
   "execution_count": 51,
   "metadata": {},
   "outputs": [
    {
     "data": {
      "text/plain": [
       "'Die Revisionen der Angeklagten gegen das Urteil des Landgerichts Bielefeld vom 18. Mai 2009 werden als unbegründet verworfen, da die Nachprüfung des Urteils auf Grund der Revisionsrechtfertigungen im Ergebnis keinen Rechtsfehler zum Nachteil der Angeklagten ergeben hat (§ 349 Abs. 2 StPO). Es wird davon abgesehen, den Angeklagten D. und H. die Kosten und gerichtlichen Auslagen ihrer Rechtsmittel aufzuerlegen. Jedoch werden ihnen, ebenso wie der Angeklagten B., die ihrerseits die Kosten ihres Rechtsmittels zu tragen hat, die dem Nebenkläger im Revisionsverfahren entstandenen notwendigen Auslagen auferlegt. Ergänzend zu den Ausführungen des Generalbundesanwalts bemerkt der Senat: Bei keinem der drei Angeklagten ist das Landgericht von mittäterschaftlichem Zusammenwirken ausgegangen. Aus der - für sich genommen missverständlichen - Formulierung, der Angeklagten B. seien auch die durch die Tritte des Angeklagten H. verursachten Kopfverletzungen als vorsätzlich verursacht zuzurechnen (UA 27 unten), ergibt sich für diese Angeklagte nichts anderes. Dies folgt schon daraus, dass an anderer Stelle im Rahmen der rechtlichen Würdigung ausgeführt wird, eine konkrete, zumindest konkludente Absprache zwischen den Beteiligten und damit ein bewusstes gemeinschaftlich zusammenwirkendes Handeln im strafrechtlichen Sinne habe nicht festgestellt werden können (UA 27 oben, 28 oben sowie 28 unten). Der Senat entnimmt vielmehr dem Gesamtzusammenhang der Urteilsgründe, dass die Strafkammer der Angeklagten B. die schweren und dauerhaften gesundheitlichen Folgen für das Tatopfer als verschuldete Auswirkungen der Tat im Sinne des § 46 Abs. 2 Satz 2 StGB zugerechnet hat. Das ist hier aus Rechtsgründen nicht zu beanstanden, denn es genügt insoweit, wenn die Tatfolgen ihrer Art und ihrem Gewicht nach im Wesentlichen erkennbar waren (BGH, Beschl. vom 29. August 2006 - 1 StR 285/06, Tz. 4 m.w.N.). Die vom Generalbundesanwalt in Bezug auf den Angeklagten H. aufgeworfene Frage, ob diesem sämtliche Verletzungen mit allen Folgen für das Opfer (nur) dann hätten zugerechnet werden können, wenn er - was das Landgericht gerade nicht festgestellt hat - als sukzessiver Mittäter gehandelt hat, stellt sich nicht. Denn die Strafkammer führt insoweit rechtsfehlerfrei aus, dass, selbst wenn H. nicht alle Verletzungen selbst verursacht haben sollte, er bewusst und gewollt in brutaler Weise auf ein auch nach seiner Vorstellung durch die vorangegangenen Gewalthandlungen schon erheblich vorgeschädigtes Opfer eingewirkt hat, so dass das gesamte Verletzungsbild auch als Ergebnis seines Handelns anzusehen und ihm deshalb zuzurechnen ist. Tepperwien Maatz Solin-Stojanović Franke Mutzbauer'"
      ]
     },
     "execution_count": 51,
     "metadata": {},
     "output_type": "execute_result"
    }
   ],
   "source": [
    "df.iloc[5].tenor"
   ]
  },
  {
   "cell_type": "code",
   "execution_count": 52,
   "metadata": {},
   "outputs": [
    {
     "data": {
      "text/plain": [
       "'Die Revision des Angeklagten gegen das Urteil des Landgerichts Bonn vom 25. Mai 2011 wird mit der Maßgabe als unbegründet verworfen, dass die Urteilsformel dahin ergänzt wird, dass die in Griechenland erlittene Auslieferungshaft im Verhältnis 1 : 1 auf die erkannte Strafe angerechnet wird. Im Übrigen hat die Nachprüfung des Urteils auf Grund der Revisionsrechtfertigung keinen Rechtsfehler zum Nachteil des Angeklagten ergeben. Der Beschwerdeführer hat die Kosten des Rechtsmittels und die der Nebenklägerin im Revisionsverfahren entstandenen notwendigen Auslagen zu tragen. Ergänzend bemerkt der Senat: Zwar verstößt es in der Regel gegen das Doppelverwertungsverbot des § 46 Abs. 3 StGB, wenn der Umstand, dass der Angeklagte mit direktem Tötungsvorsatz gehandelt hat, als solcher straferschwerend verwertet wird, weil damit nur der Normalfall des § 212 StGB gekennzeichnet wird (BGHR StGB § 46 Abs. 3 Tötungsvorsatz 1, 3, 4, 5; BGH NStZ 2008, 624; aA S/S/W-StGB/Eschelbach § 46 Rn. 185). Dies gilt jedoch nicht, wenn der Täter - wie hier festgestellt - absichtlich einen Menschen tötet, er also nicht nur um den Todeseintritt sicher weiß, sondern es ihm vielmehr darauf ankommt. Ebenso ist es nicht ausgeschlossen, eine zur Herbeiführung des tatbestandlichen Erfolges notwendige, das Mordmerkmal der Grausamkeit noch nicht erfüllende Tötungshandlung unter dem Gesichtspunkt der besonderen Handlungsintensität strafschärfend zu berücksichtigen. Ernemann Fischer Appl Schmitt Eschelbach'"
      ]
     },
     "execution_count": 52,
     "metadata": {},
     "output_type": "execute_result"
    }
   ],
   "source": [
    "df.iloc[193].tenor"
   ]
  },
  {
   "cell_type": "markdown",
   "metadata": {},
   "source": [
    "# Gründe"
   ]
  },
  {
   "cell_type": "code",
   "execution_count": 53,
   "metadata": {},
   "outputs": [
    {
     "data": {
      "text/plain": [
       "[None]"
      ]
     },
     "execution_count": 53,
     "metadata": {},
     "output_type": "execute_result"
    }
   ],
   "source": [
    "df.iloc[193].gruende"
   ]
  },
  {
   "cell_type": "code",
   "execution_count": 54,
   "metadata": {},
   "outputs": [
    {
     "data": {
      "text/plain": [
       "['Das Landgericht hat den Angeklagten T.\\xa0wegen bandenmäßigen Handeltreibens mit Betäubungsmitteln in nicht geringer Menge in 13 Fällen zu der Gesamtfreiheitsstrafe von sechs Jahren und acht Monaten verurteilt. Den Angeklagten Ö.\\xa0hat es wegen bandenmäßigen Handeltreibens mit Betäubungsmitteln in nicht geringer Menge in acht Fällen, Handeltreibens mit Betäubungsmitteln in nicht geringer Menge in 3 Fällen sowie wegen schweren Menschenhandels zum Zweck der sexuellen Ausbeutung in Tateinheit mit schwerem Menschenhandel zum Zweck der sexuellen Ausbeutung zur Gesamtfreiheitsstrafe von sieben Jahren und acht Monaten verurteilt. Ferner hat das Landgericht die Unterbringung des Angeklagten Ö.\\xa0in einer Entziehungsanstalt angeordnet und bestimmt, dass die Freiheitsstrafe für die Dauer von einem Jahr und zehn Monaten vor der Unterbringung zu vollziehen ist.',\n",
       " None,\n",
       " 'Die Revision des Angeklagten Ö.\\xa0rügt allgemein die Verletzung materiellen Rechts. Der Angeklagte T.\\xa0wendet sich ebenfalls mit der auf die Rüge der Verletzung sachlichen Rechts gestützten Revision gegen seine Verurteilung und beanstandet im Einzelnen, dass das Landgericht die Anwendung des § 31 Nr. 1 BtMG abgelehnt hat. Die Rechtsmittel haben die aus der Entscheidungsformel ersichtlichen Teilerfolge.',\n",
       " None,\n",
       " {'span': {'@style': 'text-decoration:underline',\n",
       "   '#text': 'Revision des Angeklagten T.'},\n",
       "  '#text': 'I.'},\n",
       " None,\n",
       " 'Die Nachprüfung des angefochtenen Urteils aufgrund der Revisionsrechtfertigung hat zum Schuld- und Strafausspruch keinen Rechtsfehler zum Nachteil des Beschwerdeführers erbracht (§ 349 Abs. 2 StPO). Das Urteil hat indes keinen Bestand, soweit das Landgericht die Anordnung der Unterbringung des Angeklagten in einer Entziehungsanstalt (§ 64 StGB) abgelehnt hat. Die Begründung der Strafkammer, sie sehe \"eine Unterbringung zum gegenwärtigen Zeitpunkt jedenfalls als nicht viel versprechend\" an, da bei dem Angeklagten \"nicht die notwendige Einsichtsfähigkeit in eine Therapiebedürftigkeit festzustellen\" sei, vermag die Ablehnung der Maßregelanordnung nicht zu tragen.',\n",
       " None,\n",
       " '1. Fehlender Therapiewille allein hindert die Unterbringung nach § 64 StGB grundsätzlich nicht. Zwar kann dieser Umstand ein gegen die Erfolgsaussicht der Entwöhnungsbehandlung sprechendes Indiz sein. Ob der Mangel an Therapiebereitschaft den Schluss auf das Fehlen einer hinreichend konkreten Erfolgsaussicht der Maßregel rechtfertigt, lässt sich aber nur aufgrund einer - vom Landgericht hier nicht vorgenommenen - Gesamtwürdigung der Täterpersönlichkeit und aller sonstigen maßgeblichen Umstände beurteilen (BGH NJW 2000, 3015, 3016; Beschl. vom 24. März 2005 - 3 StR 71/05). Die Unterbringung in einer Entziehungsanstalt hängt nicht vom Therapiewillen des Betroffenen ab (BTDrucks. 16/1110 S. 13). Ziel einer Behandlung im Maßregelvollzug kann es vielmehr gerade sein, die Therapiebereitschaft beim Angeklagten erst zu wecken (BGH NStZ-RR 1997, 34 f.). Das Gericht hat daher gegebenenfalls zu prüfen, ob die konkrete Aussicht besteht, dass die Therapiebereitschaft für eine Erfolg versprechende Behandlung in der Maßregel geweckt werden kann (vgl. Fischer, StGB 57. Aufl. § 64 Rdn. 19 f. m. w. N.).',\n",
       " None,\n",
       " '2.Über die Anordnung der Unterbringung des Angeklagten in einer Entziehungsanstalt muss somit - unter Hinzuziehung eines Sachverständigen (§ 246 a StPO) - neu verhandelt und entschieden werden. Anhaltspunkte dafür, dass der Angeklagte nicht gefährlich im Sinne dieser Vorschrift ist oder keine hinreichend konkrete Aussicht besteht, ihn durch die Behandlung in einer Entziehungsanstalt von seinem Hang zu heilen oder über eine erhebliche Zeit vor dem Rückfall in den Hang zu bewahren (§ 64 Satz 2 StGB), sind - abgesehen von seiner Therapieunwilligkeit - nicht ersichtlich. Dass nur der Angeklagte Revision eingelegt hat, hindert die Nachholung der Unterbringungsanordnung nicht (§ 358 Abs. 2 Satz 2 StPO; BGHSt 37, 5; BGH NStZ-RR 2009, 48; NStZ 2009, 261). Er hat die Nichtanwendung des § 64 StGB durch das Tatgericht auch nicht vom Rechtsmittelangriff ausgenommen (vgl. BGHSt 38, 362 f.).',\n",
       " None,\n",
       " '3. Der Senat kann ausschließen, dass der Tatrichter bei Anordnung der Unterbringung auf niedrigere Einzelstrafen erkannt oder eine mildere Gesamtstrafe verhängt hätte. Der Strafausspruch kann deshalb bestehen bleiben.',\n",
       " None,\n",
       " '4. Der neue Tatrichter wird im Falle der Anordnung der Unterbringung des Angeklagten in einer Entziehungsanstalt nach § 67 Abs. 2 Satz 2 und 3, Abs. 5 Satz 1 StGB über die Reihenfolge der Vollstreckung von Strafe und Maßregel zu befinden haben (vgl. BGH NStZ 2008, 28; NStZ-RR 2008, 74). Bei Vorwegvollzug eines Teils der verhängten Freiheitsstrafe wird es für dessen Berechnung notwendig sein, die für den Angeklagten voraussichtlich erforderliche Therapiedauer zu bestimmen.',\n",
       " None,\n",
       " {'span': {'@style': 'text-decoration:underline',\n",
       "   '#text': 'Revision des Angeklagten Ö.'},\n",
       "  '#text': 'II.'},\n",
       " None,\n",
       " 'Die Überprüfung des angefochtenen Urteils aufgrund der Revisionsrechtfertigung hat zum Schuldspruch und zum Maßregelausspruch keinen Rechtsfehler zum Nachteil des Beschwerdeführers erbracht. Dies gilt auch für die Nachprüfung der in den Fällen B. VI. 1. bis 8. und C. der Urteilsgründe zugemessenen Einzelstrafen. Indes können die Einzelstrafen in den Fällen B. VI. 14. bis 16. der Urteilsgründe nicht bestehen bleiben. Das Landgericht hat insoweit rechtfehlerhaft nicht erörtert, ob die Voraussetzungen des § 31 Nr. 1 BtMG vorliegen und deshalb in diesen drei Fällen die angewendeten Strafrahmen zu mildern sind, obwohl die festgestellten Umstände dazu drängten.',\n",
       " None,\n",
       " '1. Danach hat der Angeklagte in den Fällen B. VI. 14. bis 16. der Urteilsgründe gemeinschaftlich mit seinem Bruder K.\\xa0Ö.\\xa0jeweils mit Betäubungsmitteln (Kokain) in nicht geringer Menge Handel getrieben. Das Landgericht hat im Rahmen der Strafzumessung festgestellt, dass sich der Angeklagte \"im Hinblick auf sämtliche von ihm begangene BtM-Delikte umfassend geständig eingelassen und sämtliche Fragen der Kammer freimütig beantwortet\" und \"dabei auch seinen Bruder K.\\xa0Ö.\\xa0bereits umfassend belastet\" hat (UA S. 130) sowie, dass \"die geständige Einlassung des A.\\xa0Ö., mit der er zugleich auch seinen Bruder überführt hat, von besonderer Freimütigkeit getragen\" gewesen ist (UA S. 154). Deshalb liegt es nahe, dass der Angeklagte dazu beigetragen hat, die Taten über seinen Tatbeitrag hinaus aufzuklären. Die getroffenen Feststellungen hätten daher für das Landgericht Anlass sein müssen, die Milderungsmöglichkeit des § 31 Nr. 1 BtMG zu erörtern (vgl. BGH NStZ 2009, 394, 395). Dies lässt das Urteil vermissen.',\n",
       " None,\n",
       " '2. Der Senat kann nicht ausschließen, dass das Landgericht in den betroffenen Einzelfällen bei rechtsfehlerfreier Prüfung § 31 Nr. 1 BtMG i. V. m. § 49 Abs. 2 StGB angewendet und mildere Einzelstrafen zugemessen hätte. Die festgesetzten Strafen können daher nicht bestehen bleiben. Dies zieht die Aufhebung der Gesamtfreiheitsstrafe nach sich. Die zu diesen Einzelstrafen und der Gesamtfreiheitsstrafe rechtsfehlerfrei getroffenen Feststellungen werden von dem aufgezeigten Rechtsfehler nicht berührt und können deshalb bestehen bleiben.',\n",
       " None,\n",
       " '3. Vorsorglich weist der Senat darauf hin, dass die am 1. September 2009 durch das 43. StrÄndG vom 29. Juli 2009 (BGBl I 2288 ff.) in Kraft getretene Änderung des § 31 BtMG gemäß Art. 316 d des Einführungsgesetzes zum Strafgesetzbuch nicht auf Verfahren anzuwenden ist, in denen vor dem 1. September 2009 die Eröffnung des Hauptverfahrens beschlossen wurde (vgl. BGH NStZ-RR 2010, 25).',\n",
       " None,\n",
       " None,\n",
       " None]"
      ]
     },
     "execution_count": 54,
     "metadata": {},
     "output_type": "execute_result"
    }
   ],
   "source": [
    "df.iloc[4].gruende"
   ]
  },
  {
   "cell_type": "markdown",
   "metadata": {},
   "source": [
    "In 443 Fällen ist \"Gründe\" leer."
   ]
  },
  {
   "cell_type": "code",
   "execution_count": 55,
   "metadata": {},
   "outputs": [],
   "source": [
    "def checkForEmptyList(liste: list):\n",
    "    return all(v is None for v in liste)"
   ]
  },
  {
   "cell_type": "code",
   "execution_count": 56,
   "metadata": {},
   "outputs": [],
   "source": [
    "empties = df[\"gruende\"].apply(checkForEmptyList)"
   ]
  },
  {
   "cell_type": "code",
   "execution_count": 57,
   "metadata": {},
   "outputs": [
    {
     "data": {
      "text/plain": [
       "443"
      ]
     },
     "execution_count": 57,
     "metadata": {},
     "output_type": "execute_result"
    }
   ],
   "source": [
    "empties.sum()"
   ]
  },
  {
   "cell_type": "code",
   "execution_count": 58,
   "metadata": {},
   "outputs": [
    {
     "data": {
      "text/plain": [
       "array([   5,   11,   23,   25,   66,   71,   79,   91,   98,  105,  108,\n",
       "        117,  128,  132,  144,  149,  154,  164,  191,  192,  193,  226,\n",
       "        233,  250,  261,  264,  276,  333,  350,  357,  406,  419,  433,\n",
       "        452,  456,  495,  498,  500,  511,  543,  625,  648,  663,  697,\n",
       "        698,  709,  712,  715,  731,  760,  764,  765,  803,  808,  811,\n",
       "        821,  827,  830,  838,  856,  872,  882,  883,  891,  900,  906,\n",
       "        933,  939,  976,  979,  993,  997, 1000, 1002, 1005, 1015, 1022,\n",
       "       1037, 1041, 1044, 1050, 1054, 1061, 1065, 1085, 1097, 1099, 1103,\n",
       "       1105, 1108, 1111, 1135, 1137, 1165, 1198, 1208, 1215, 1218, 1231,\n",
       "       1232, 1240, 1244, 1248, 1255, 1261, 1276, 1280, 1323, 1332, 1336,\n",
       "       1341, 1353, 1383, 1393, 1394, 1396, 1407, 1412, 1441, 1452, 1494,\n",
       "       1506, 1526, 1528, 1539, 1636, 1651, 1660, 1662, 1675, 1681, 1695,\n",
       "       1704, 1716, 1736, 1738, 1745, 1753, 1761, 1827, 1836, 1838, 1847,\n",
       "       1854, 1910, 1944, 1975, 1991, 2004, 2020, 2038, 2049, 2069, 2071,\n",
       "       2088, 2090, 2101, 2102, 2103, 2115, 2133, 2142, 2157, 2186, 2193,\n",
       "       2211, 2218, 2222, 2227, 2235, 2255, 2264, 2300, 2343, 2345, 2357,\n",
       "       2370, 2419, 2421, 2431, 2459, 2465, 2476, 2483, 2510, 2525, 2527,\n",
       "       2528, 2531, 2541, 2544, 2556, 2633, 2667, 2680, 2706, 2724, 2728,\n",
       "       2738, 2749, 2770, 2782, 2794, 2809, 2820, 2828, 2832, 2835, 2852,\n",
       "       2872, 2917, 2947, 2972, 2977, 3017, 3022, 3026, 3032, 3042, 3045,\n",
       "       3048, 3060, 3061, 3063, 3068, 3078, 3081, 3087, 3096, 3099, 3106,\n",
       "       3132, 3139, 3141, 3148, 3195, 3197, 3199, 3212, 3213, 3217, 3221,\n",
       "       3236, 3265, 3270, 3315, 3322, 3326, 3358, 3370, 3378, 3400, 3406,\n",
       "       3415, 3422, 3442, 3470, 3492, 3524, 3543, 3581, 3587, 3601, 3640,\n",
       "       3648, 3676, 3679, 3681, 3702, 3703, 3711, 3715, 3723, 3736, 3752,\n",
       "       3777, 3784, 3794, 3835, 3858, 3859, 3874, 3880, 3885, 3909, 3914,\n",
       "       3922, 3943, 3958, 3970, 3976, 3992, 3994, 3995, 4004, 4012, 4014,\n",
       "       4022, 4034, 4055, 4075, 4079, 4080, 4085, 4088, 4110, 4114, 4116,\n",
       "       4117, 4128, 4132, 4133, 4135, 4141, 4145, 4161, 4169, 4172, 4180,\n",
       "       4195, 4212, 4216, 4217, 4239, 4276, 4298, 4310, 4312, 4315, 4332,\n",
       "       4371, 4380, 4385, 4396, 4399, 4408, 4426, 4430, 4435, 4440, 4459,\n",
       "       4471, 4476, 4501, 4506, 4514, 4520, 4534, 4550, 4560, 4567, 4586,\n",
       "       4593, 4597, 4663, 4672, 4676, 4700, 4722, 4724, 4729, 4755, 4775,\n",
       "       4782, 4783, 4794, 4799, 4813, 4820, 4833, 4836, 4839, 4860, 4863,\n",
       "       4886, 4891, 4908, 4925, 5006, 5008, 5012, 5019, 5029, 5045, 5066,\n",
       "       5102, 5105, 5113, 5120, 5134, 5135, 5136, 5149, 5167, 5177, 5189,\n",
       "       5195, 5214, 5218, 5242, 5244, 5250, 5254, 5257, 5274, 5307, 5327,\n",
       "       5342, 5348, 5349, 5390, 5391, 5405, 5444, 5447, 5449, 5451, 5458,\n",
       "       5459, 5466, 5549, 5563, 5564, 5587, 5612, 5613, 5616, 5620, 5625,\n",
       "       5631, 5640, 5672, 5673, 5708, 5710, 5735, 5757, 5774, 5795, 5796,\n",
       "       5807, 5811, 5814])"
      ]
     },
     "execution_count": 58,
     "metadata": {},
     "output_type": "execute_result"
    }
   ],
   "source": [
    "np.where(empties)[0]"
   ]
  },
  {
   "cell_type": "code",
   "execution_count": 59,
   "metadata": {},
   "outputs": [],
   "source": [
    "def extract_values(obj, key):\n",
    "    \"\"\"Pull all values of specified key from nested JSON.\"\"\"\n",
    "    arr = []\n",
    "\n",
    "    def extract(obj, arr, key):\n",
    "        \"\"\"Recursively search for values of key in JSON tree.\"\"\"\n",
    "        if isinstance(obj, dict):\n",
    "            for k, v in obj.items():\n",
    "                if isinstance(v, (dict, list)):\n",
    "                    extract(v, arr, key)\n",
    "                elif k == key:\n",
    "                    arr.append(v)\n",
    "        elif isinstance(obj, list):\n",
    "            for item in obj:\n",
    "                extract(item, arr, key)\n",
    "        return arr\n",
    "\n",
    "    results = extract(obj, arr, key)\n",
    "    return results"
   ]
  },
  {
   "cell_type": "code",
   "execution_count": 60,
   "metadata": {},
   "outputs": [],
   "source": [
    "def filterStyleDeep(liste: list):\n",
    "    for i, item in enumerate(liste):\n",
    "        if type(item) == dict:\n",
    "            #liste[i] = item[\"#text\"]\n",
    "            values = extract_values(item, \"#text\")\n",
    "            liste[i] = \" \".join(values)\n",
    "        \n",
    "    return liste"
   ]
  },
  {
   "cell_type": "code",
   "execution_count": 61,
   "metadata": {},
   "outputs": [],
   "source": [
    "df[\"gruende\"] = df[\"gruende\"].apply(filterStyleDeep).apply(filterNone)"
   ]
  },
  {
   "cell_type": "code",
   "execution_count": 62,
   "metadata": {},
   "outputs": [],
   "source": [
    "df[\"gruende\"] = df[\"gruende\"].apply(concatenateTenor).apply(cleanTenorTxt)"
   ]
  },
  {
   "cell_type": "markdown",
   "metadata": {},
   "source": [
    "Save dataframe to json file:"
   ]
  },
  {
   "cell_type": "code",
   "execution_count": 63,
   "metadata": {},
   "outputs": [],
   "source": [
    "df.to_json(\"data/dataframes/df.json\")"
   ]
  },
  {
   "cell_type": "markdown",
   "metadata": {},
   "source": [
    "Load dataframe from df.json"
   ]
  },
  {
   "cell_type": "code",
   "execution_count": 65,
   "metadata": {},
   "outputs": [],
   "source": [
    "data = pd.read_json('data/dataframes/df.json', orient='columns', encoding='utf-8')"
   ]
  },
  {
   "cell_type": "code",
   "execution_count": 66,
   "metadata": {},
   "outputs": [
    {
     "data": {
      "text/html": [
       "<div>\n",
       "<style scoped>\n",
       "    .dataframe tbody tr th:only-of-type {\n",
       "        vertical-align: middle;\n",
       "    }\n",
       "\n",
       "    .dataframe tbody tr th {\n",
       "        vertical-align: top;\n",
       "    }\n",
       "\n",
       "    .dataframe thead th {\n",
       "        text-align: right;\n",
       "    }\n",
       "</style>\n",
       "<table border=\"1\" class=\"dataframe\">\n",
       "  <thead>\n",
       "    <tr style=\"text-align: right;\">\n",
       "      <th></th>\n",
       "      <th>az</th>\n",
       "      <th>datum</th>\n",
       "      <th>doknr</th>\n",
       "      <th>gertyp</th>\n",
       "      <th>spruchkoerper</th>\n",
       "      <th>doktyp</th>\n",
       "      <th>titel</th>\n",
       "      <th>tenor</th>\n",
       "      <th>gruende</th>\n",
       "    </tr>\n",
       "  </thead>\n",
       "  <tbody>\n",
       "    <tr>\n",
       "      <th>0</th>\n",
       "      <td>2 ARs 569/09</td>\n",
       "      <td>1263340800000</td>\n",
       "      <td>JURE100055051</td>\n",
       "      <td>BGH</td>\n",
       "      <td>2. Strafsenat</td>\n",
       "      <td>Beschluss</td>\n",
       "      <td>Jugendgerichtsverfahren: Abgabe an das nach Wo...</td>\n",
       "      <td>Für die Untersuchung und Entscheidung der Sach...</td>\n",
       "      <td>Die Abgabe durch das Amtsgericht Darmstadt gem...</td>\n",
       "    </tr>\n",
       "    <tr>\n",
       "      <th>1</th>\n",
       "      <td>3 StR 500/09</td>\n",
       "      <td>1263340800000</td>\n",
       "      <td>JURE100056016</td>\n",
       "      <td>BGH</td>\n",
       "      <td>3. Strafsenat</td>\n",
       "      <td>Beschluss</td>\n",
       "      <td>Betrug: Erforderliche Urteilsfeststellungen zu...</td>\n",
       "      <td>1. Auf die Revision des Angeklagten wird das U...</td>\n",
       "      <td>Das Landgericht hat den Angeklagten wegen Betr...</td>\n",
       "    </tr>\n",
       "    <tr>\n",
       "      <th>2</th>\n",
       "      <td>5 StR 507/09</td>\n",
       "      <td>1264464000000</td>\n",
       "      <td>JURE100056026</td>\n",
       "      <td>BGH</td>\n",
       "      <td>5. Strafsenat</td>\n",
       "      <td>Beschluss</td>\n",
       "      <td>Gesamtstrafenbildung: Aufhebung der Gesamtstra...</td>\n",
       "      <td>Auf die Revision des Angeklagten wird das Urte...</td>\n",
       "      <td>Das Landgericht hat den Angeklagten wegen beso...</td>\n",
       "    </tr>\n",
       "    <tr>\n",
       "      <th>3</th>\n",
       "      <td>5 StR 509/09</td>\n",
       "      <td>1264464000000</td>\n",
       "      <td>JURE100056027</td>\n",
       "      <td>BGH</td>\n",
       "      <td>5. Strafsenat</td>\n",
       "      <td>Beschluss</td>\n",
       "      <td>Betäubungsmitteleinfuhr: Vollendete Einfuhr zu...</td>\n",
       "      <td>1. Auf die Revision des Angeklagten wird das U...</td>\n",
       "      <td>Das Landgericht hat den Angeklagten wegen uner...</td>\n",
       "    </tr>\n",
       "    <tr>\n",
       "      <th>4</th>\n",
       "      <td>3 StR 502/09</td>\n",
       "      <td>1264032000000</td>\n",
       "      <td>JURE100057396</td>\n",
       "      <td>BGH</td>\n",
       "      <td>3. Strafsenat</td>\n",
       "      <td>Beschluss</td>\n",
       "      <td>Unterbringung in einer Entziehungsanstalt: Abs...</td>\n",
       "      <td>I. 1. Auf die Revision des Angeklagten T. wird...</td>\n",
       "      <td>Das Landgericht hat den Angeklagten T. wegen b...</td>\n",
       "    </tr>\n",
       "    <tr>\n",
       "      <th>...</th>\n",
       "      <td>...</td>\n",
       "      <td>...</td>\n",
       "      <td>...</td>\n",
       "      <td>...</td>\n",
       "      <td>...</td>\n",
       "      <td>...</td>\n",
       "      <td>...</td>\n",
       "      <td>...</td>\n",
       "      <td>...</td>\n",
       "    </tr>\n",
       "    <tr>\n",
       "      <th>5821</th>\n",
       "      <td>4 StR 282/17</td>\n",
       "      <td>1506556800000</td>\n",
       "      <td>KORE634632017</td>\n",
       "      <td>BGH</td>\n",
       "      <td>4. Strafsenat</td>\n",
       "      <td>Urteil</td>\n",
       "      <td>Rücktritt vom Versuch eines Tötungsdelikts: Fr...</td>\n",
       "      <td>1. Auf die Revisionen der Staatsanwaltschaft u...</td>\n",
       "      <td>Das Landgericht hat den Angeklagten wegen gefä...</td>\n",
       "    </tr>\n",
       "    <tr>\n",
       "      <th>5822</th>\n",
       "      <td>2 StR 217/19</td>\n",
       "      <td>1573603200000</td>\n",
       "      <td>KORE634712019</td>\n",
       "      <td>BGH</td>\n",
       "      <td>2. Strafsenat</td>\n",
       "      <td>Urteil</td>\n",
       "      <td>Jugendstrafverfahren: jugendspezifische Bestim...</td>\n",
       "      <td>Die Revision des Angeklagten gegen das Urteil ...</td>\n",
       "      <td>Das Landgericht hat den Angeklagten wegen Tots...</td>\n",
       "    </tr>\n",
       "    <tr>\n",
       "      <th>5823</th>\n",
       "      <td>2 StR 447/19</td>\n",
       "      <td>1572912000000</td>\n",
       "      <td>KORE634732019</td>\n",
       "      <td>BGH</td>\n",
       "      <td>2. Strafsenat</td>\n",
       "      <td>Beschluss</td>\n",
       "      <td>Berücksichtigung von Einziehung bei Strafzumes...</td>\n",
       "      <td>1. Auf die Revision des Angeklagten wird das U...</td>\n",
       "      <td>Das Landgericht hat den Angeklagten wegen uner...</td>\n",
       "    </tr>\n",
       "    <tr>\n",
       "      <th>5824</th>\n",
       "      <td>3 StR 249/19</td>\n",
       "      <td>1573603200000</td>\n",
       "      <td>KORE634742019</td>\n",
       "      <td>BGH</td>\n",
       "      <td>3. Strafsenat</td>\n",
       "      <td>Beschluss</td>\n",
       "      <td>Formulierung des Antrags auf Einziehung im obj...</td>\n",
       "      <td>1. Auf die Revision des Angeklagten wird das U...</td>\n",
       "      <td>Das Landgericht hat den Angeklagten der Gründu...</td>\n",
       "    </tr>\n",
       "    <tr>\n",
       "      <th>5825</th>\n",
       "      <td>4 StR 289/19</td>\n",
       "      <td>1565827200000</td>\n",
       "      <td>KORE634782019</td>\n",
       "      <td>BGH</td>\n",
       "      <td>4. Strafsenat</td>\n",
       "      <td>Beschluss</td>\n",
       "      <td>Schwerer sexueller Kindesmissbrauch: Erfordern...</td>\n",
       "      <td>Auf die Revision des Angeklagten wird das Urte...</td>\n",
       "      <td>Das Landgericht hat den Angeklagten wegen schw...</td>\n",
       "    </tr>\n",
       "  </tbody>\n",
       "</table>\n",
       "<p>5826 rows × 9 columns</p>\n",
       "</div>"
      ],
      "text/plain": [
       "                az          datum          doknr gertyp  spruchkoerper  \\\n",
       "0     2 ARs 569/09  1263340800000  JURE100055051    BGH  2. Strafsenat   \n",
       "1     3 StR 500/09  1263340800000  JURE100056016    BGH  3. Strafsenat   \n",
       "2     5 StR 507/09  1264464000000  JURE100056026    BGH  5. Strafsenat   \n",
       "3     5 StR 509/09  1264464000000  JURE100056027    BGH  5. Strafsenat   \n",
       "4     3 StR 502/09  1264032000000  JURE100057396    BGH  3. Strafsenat   \n",
       "...            ...            ...            ...    ...            ...   \n",
       "5821  4 StR 282/17  1506556800000  KORE634632017    BGH  4. Strafsenat   \n",
       "5822  2 StR 217/19  1573603200000  KORE634712019    BGH  2. Strafsenat   \n",
       "5823  2 StR 447/19  1572912000000  KORE634732019    BGH  2. Strafsenat   \n",
       "5824  3 StR 249/19  1573603200000  KORE634742019    BGH  3. Strafsenat   \n",
       "5825  4 StR 289/19  1565827200000  KORE634782019    BGH  4. Strafsenat   \n",
       "\n",
       "         doktyp                                              titel  \\\n",
       "0     Beschluss  Jugendgerichtsverfahren: Abgabe an das nach Wo...   \n",
       "1     Beschluss  Betrug: Erforderliche Urteilsfeststellungen zu...   \n",
       "2     Beschluss  Gesamtstrafenbildung: Aufhebung der Gesamtstra...   \n",
       "3     Beschluss  Betäubungsmitteleinfuhr: Vollendete Einfuhr zu...   \n",
       "4     Beschluss  Unterbringung in einer Entziehungsanstalt: Abs...   \n",
       "...         ...                                                ...   \n",
       "5821     Urteil  Rücktritt vom Versuch eines Tötungsdelikts: Fr...   \n",
       "5822     Urteil  Jugendstrafverfahren: jugendspezifische Bestim...   \n",
       "5823  Beschluss  Berücksichtigung von Einziehung bei Strafzumes...   \n",
       "5824  Beschluss  Formulierung des Antrags auf Einziehung im obj...   \n",
       "5825  Beschluss  Schwerer sexueller Kindesmissbrauch: Erfordern...   \n",
       "\n",
       "                                                  tenor  \\\n",
       "0     Für die Untersuchung und Entscheidung der Sach...   \n",
       "1     1. Auf die Revision des Angeklagten wird das U...   \n",
       "2     Auf die Revision des Angeklagten wird das Urte...   \n",
       "3     1. Auf die Revision des Angeklagten wird das U...   \n",
       "4     I. 1. Auf die Revision des Angeklagten T. wird...   \n",
       "...                                                 ...   \n",
       "5821  1. Auf die Revisionen der Staatsanwaltschaft u...   \n",
       "5822  Die Revision des Angeklagten gegen das Urteil ...   \n",
       "5823  1. Auf die Revision des Angeklagten wird das U...   \n",
       "5824  1. Auf die Revision des Angeklagten wird das U...   \n",
       "5825  Auf die Revision des Angeklagten wird das Urte...   \n",
       "\n",
       "                                                gruende  \n",
       "0     Die Abgabe durch das Amtsgericht Darmstadt gem...  \n",
       "1     Das Landgericht hat den Angeklagten wegen Betr...  \n",
       "2     Das Landgericht hat den Angeklagten wegen beso...  \n",
       "3     Das Landgericht hat den Angeklagten wegen uner...  \n",
       "4     Das Landgericht hat den Angeklagten T. wegen b...  \n",
       "...                                                 ...  \n",
       "5821  Das Landgericht hat den Angeklagten wegen gefä...  \n",
       "5822  Das Landgericht hat den Angeklagten wegen Tots...  \n",
       "5823  Das Landgericht hat den Angeklagten wegen uner...  \n",
       "5824  Das Landgericht hat den Angeklagten der Gründu...  \n",
       "5825  Das Landgericht hat den Angeklagten wegen schw...  \n",
       "\n",
       "[5826 rows x 9 columns]"
      ]
     },
     "execution_count": 66,
     "metadata": {},
     "output_type": "execute_result"
    }
   ],
   "source": [
    "data\n",
    "# datum ist in unleserlichem Format..\n",
    "# 20100113 -> 2010-01-13 -> 1263340800000"
   ]
  },
  {
   "cell_type": "code",
   "execution_count": 67,
   "metadata": {},
   "outputs": [],
   "source": [
    "# Datum zurückkonvertieren\n",
    "newTimeString = datetime.datetime.utcfromtimestamp(1263340800)#.strftime('%I:%M %p %b. %d, %Y')"
   ]
  },
  {
   "cell_type": "code",
   "execution_count": 68,
   "metadata": {},
   "outputs": [
    {
     "data": {
      "text/plain": [
       "datetime.datetime(2010, 1, 13, 0, 0)"
      ]
     },
     "execution_count": 68,
     "metadata": {},
     "output_type": "execute_result"
    }
   ],
   "source": [
    "newTimeString"
   ]
  },
  {
   "cell_type": "code",
   "execution_count": 69,
   "metadata": {},
   "outputs": [
    {
     "data": {
      "text/plain": [
       "numpy.int64"
      ]
     },
     "execution_count": 69,
     "metadata": {},
     "output_type": "execute_result"
    }
   ],
   "source": [
    "type(data.datum[9])"
   ]
  },
  {
   "cell_type": "code",
   "execution_count": 70,
   "metadata": {},
   "outputs": [
    {
     "data": {
      "text/plain": [
       "'Die Revisionen der Angeklagten gegen das Urteil des Landgerichts Bielefeld vom 18. Mai 2009 werden als unbegründet verworfen, da die Nachprüfung des Urteils auf Grund der Revisionsrechtfertigungen im Ergebnis keinen Rechtsfehler zum Nachteil der Angeklagten ergeben hat (§ 349 Abs. 2 StPO). Es wird davon abgesehen, den Angeklagten D. und H. die Kosten und gerichtlichen Auslagen ihrer Rechtsmittel aufzuerlegen. Jedoch werden ihnen, ebenso wie der Angeklagten B., die ihrerseits die Kosten ihres Rechtsmittels zu tragen hat, die dem Nebenkläger im Revisionsverfahren entstandenen notwendigen Auslagen auferlegt. Ergänzend zu den Ausführungen des Generalbundesanwalts bemerkt der Senat: Bei keinem der drei Angeklagten ist das Landgericht von mittäterschaftlichem Zusammenwirken ausgegangen. Aus der - für sich genommen missverständlichen - Formulierung, der Angeklagten B. seien auch die durch die Tritte des Angeklagten H. verursachten Kopfverletzungen als vorsätzlich verursacht zuzurechnen (UA 27 unten), ergibt sich für diese Angeklagte nichts anderes. Dies folgt schon daraus, dass an anderer Stelle im Rahmen der rechtlichen Würdigung ausgeführt wird, eine konkrete, zumindest konkludente Absprache zwischen den Beteiligten und damit ein bewusstes gemeinschaftlich zusammenwirkendes Handeln im strafrechtlichen Sinne habe nicht festgestellt werden können (UA 27 oben, 28 oben sowie 28 unten). Der Senat entnimmt vielmehr dem Gesamtzusammenhang der Urteilsgründe, dass die Strafkammer der Angeklagten B. die schweren und dauerhaften gesundheitlichen Folgen für das Tatopfer als verschuldete Auswirkungen der Tat im Sinne des § 46 Abs. 2 Satz 2 StGB zugerechnet hat. Das ist hier aus Rechtsgründen nicht zu beanstanden, denn es genügt insoweit, wenn die Tatfolgen ihrer Art und ihrem Gewicht nach im Wesentlichen erkennbar waren (BGH, Beschl. vom 29. August 2006 - 1 StR 285/06, Tz. 4 m.w.N.). Die vom Generalbundesanwalt in Bezug auf den Angeklagten H. aufgeworfene Frage, ob diesem sämtliche Verletzungen mit allen Folgen für das Opfer (nur) dann hätten zugerechnet werden können, wenn er - was das Landgericht gerade nicht festgestellt hat - als sukzessiver Mittäter gehandelt hat, stellt sich nicht. Denn die Strafkammer führt insoweit rechtsfehlerfrei aus, dass, selbst wenn H. nicht alle Verletzungen selbst verursacht haben sollte, er bewusst und gewollt in brutaler Weise auf ein auch nach seiner Vorstellung durch die vorangegangenen Gewalthandlungen schon erheblich vorgeschädigtes Opfer eingewirkt hat, so dass das gesamte Verletzungsbild auch als Ergebnis seines Handelns anzusehen und ihm deshalb zuzurechnen ist. Tepperwien Maatz Solin-Stojanović Franke Mutzbauer'"
      ]
     },
     "execution_count": 70,
     "metadata": {},
     "output_type": "execute_result"
    }
   ],
   "source": [
    "data.iloc[5].tenor"
   ]
  },
  {
   "cell_type": "code",
   "execution_count": 71,
   "metadata": {},
   "outputs": [
    {
     "data": {
      "text/plain": [
       "''"
      ]
     },
     "execution_count": 71,
     "metadata": {},
     "output_type": "execute_result"
    }
   ],
   "source": [
    "data.iloc[5].gruende"
   ]
  },
  {
   "cell_type": "code",
   "execution_count": 72,
   "metadata": {},
   "outputs": [
    {
     "data": {
      "text/plain": [
       "az                                                    1 StR 219/14\n",
       "datum                                                1416355200000\n",
       "doknr                                                JURE140020222\n",
       "gertyp                                                         BGH\n",
       "spruchkoerper                                        1. Strafsenat\n",
       "doktyp                                                   Beschluss\n",
       "titel            Strafverfahren wegen Steuerhinterziehung: Unbe...\n",
       "tenor            Auf die Revision der Angeklagten wird das Urte...\n",
       "gruende          Das Landgericht hat die Angeklagte S. wegen St...\n",
       "Name: 387, dtype: object"
      ]
     },
     "execution_count": 72,
     "metadata": {},
     "output_type": "execute_result"
    }
   ],
   "source": [
    "data.iloc[387]"
   ]
  },
  {
   "cell_type": "code",
   "execution_count": 73,
   "metadata": {},
   "outputs": [
    {
     "data": {
      "text/plain": [
       "(array([1303]),)"
      ]
     },
     "execution_count": 73,
     "metadata": {},
     "output_type": "execute_result"
    }
   ],
   "source": [
    "np.where(data[\"az\"] == \"1 StR 312/13\")"
   ]
  },
  {
   "cell_type": "code",
   "execution_count": 74,
   "metadata": {},
   "outputs": [
    {
     "data": {
      "text/plain": [
       "az                                                    1 StR 312/13\n",
       "datum                                                1380585600000\n",
       "doknr                                                JURE140000285\n",
       "gertyp                                                         BGH\n",
       "spruchkoerper                                        1. Strafsenat\n",
       "doktyp                                                   Beschluss\n",
       "titel            Umsatzsteuerhinterziehung: Zeitpunkt für die Z...\n",
       "tenor            1. Auf die Revision des Angeklagten wird das U...\n",
       "gruende          Das Landgericht hat den Angeklagten wegen Steu...\n",
       "Name: 1303, dtype: object"
      ]
     },
     "execution_count": 74,
     "metadata": {},
     "output_type": "execute_result"
    }
   ],
   "source": [
    "data.iloc[1303]"
   ]
  },
  {
   "cell_type": "code",
   "execution_count": 75,
   "metadata": {},
   "outputs": [],
   "source": [
    "def checkForEmptyString(item):\n",
    "    if item == \"\":\n",
    "        return True\n",
    "    else:\n",
    "        return False    "
   ]
  },
  {
   "cell_type": "markdown",
   "metadata": {},
   "source": [
    "gruende fehlt 443 mal"
   ]
  },
  {
   "cell_type": "code",
   "execution_count": 76,
   "metadata": {},
   "outputs": [],
   "source": [
    "empties_gruende = data[\"gruende\"].apply(checkForEmptyString)"
   ]
  },
  {
   "cell_type": "code",
   "execution_count": 77,
   "metadata": {},
   "outputs": [
    {
     "data": {
      "text/plain": [
       "443"
      ]
     },
     "execution_count": 77,
     "metadata": {},
     "output_type": "execute_result"
    }
   ],
   "source": [
    "empties_gruende.sum()"
   ]
  },
  {
   "cell_type": "markdown",
   "metadata": {},
   "source": [
    "Tenor fehlt 1 mal"
   ]
  },
  {
   "cell_type": "code",
   "execution_count": 78,
   "metadata": {},
   "outputs": [],
   "source": [
    "empties_tenor = data[\"tenor\"].apply(checkForEmptyString)"
   ]
  },
  {
   "cell_type": "code",
   "execution_count": 79,
   "metadata": {},
   "outputs": [
    {
     "data": {
      "text/plain": [
       "1"
      ]
     },
     "execution_count": 79,
     "metadata": {},
     "output_type": "execute_result"
    }
   ],
   "source": [
    "empties_tenor.sum()"
   ]
  },
  {
   "cell_type": "code",
   "execution_count": 80,
   "metadata": {},
   "outputs": [
    {
     "data": {
      "text/plain": [
       "(array([3679]),)"
      ]
     },
     "execution_count": 80,
     "metadata": {},
     "output_type": "execute_result"
    }
   ],
   "source": [
    "np.where(empties_tenor)"
   ]
  },
  {
   "cell_type": "code",
   "execution_count": 81,
   "metadata": {},
   "outputs": [
    {
     "data": {
      "text/plain": [
       "az                 5 ARs 60/15\n",
       "datum            1456876800000\n",
       "doknr            KORE607042016\n",
       "gertyp                     BGH\n",
       "spruchkoerper    5. Strafsenat\n",
       "doktyp               Beschluss\n",
       "titel                     None\n",
       "tenor                         \n",
       "gruende                       \n",
       "Name: 3679, dtype: object"
      ]
     },
     "execution_count": 81,
     "metadata": {},
     "output_type": "execute_result"
    }
   ],
   "source": [
    "data.iloc[3679]"
   ]
  },
  {
   "cell_type": "markdown",
   "metadata": {},
   "source": [
    "titel fehlt 198 mal"
   ]
  },
  {
   "cell_type": "code",
   "execution_count": 82,
   "metadata": {},
   "outputs": [
    {
     "data": {
      "text/plain": [
       "(198,)"
      ]
     },
     "execution_count": 82,
     "metadata": {},
     "output_type": "execute_result"
    }
   ],
   "source": [
    "np.where(pd.isna(data[\"titel\"]))[0].shape"
   ]
  },
  {
   "cell_type": "code",
   "execution_count": 83,
   "metadata": {},
   "outputs": [
    {
     "data": {
      "text/plain": [
       "(array([ 378,  392,  400,  499,  517,  544,  560,  562,  660,  680,  686,\n",
       "         716,  725,  744,  755,  774,  778,  779,  787,  791,  795,  816,\n",
       "         820,  830,  850,  851,  852,  853,  863,  868,  903,  935,  968,\n",
       "         978, 1387, 1404, 1430, 1509, 1546, 1667, 1682, 1694, 1696, 1730,\n",
       "        1740, 1745, 1748, 1769, 1781, 1786, 1795, 1819, 1821, 1836, 1840,\n",
       "        1843, 1845, 1846, 1867, 1871, 1876, 1883, 1889, 1895, 1972, 1983,\n",
       "        1986, 2028, 2105, 2266, 2300, 2346, 2369, 2658, 2667, 2676, 2679,\n",
       "        2680, 2685, 2694, 2698, 2713, 2758, 2770, 2777, 2781, 2782, 2788,\n",
       "        2795, 2803, 2812, 2820, 2826, 2840, 2842, 2846, 2914, 2928, 2952,\n",
       "        2969, 2997, 3086, 3325, 3329, 3348, 3363, 3434, 3493, 3627, 3631,\n",
       "        3642, 3645, 3651, 3677, 3679, 3707, 3723, 3732, 3737, 3752, 3759,\n",
       "        3761, 3765, 3777, 3817, 3829, 3831, 3834, 3848, 3862, 3871, 3899,\n",
       "        4104, 4192, 4401, 4420, 4495, 4541, 4551, 4580, 4685, 4714, 4716,\n",
       "        4717, 4718, 4724, 4725, 4728, 4741, 4746, 4747, 4756, 4763, 4772,\n",
       "        4782, 4783, 4787, 4788, 4791, 4802, 4827, 4828, 4833, 4836, 4840,\n",
       "        4857, 4886, 4930, 4937, 5085, 5326, 5373, 5388, 5562, 5599, 5605,\n",
       "        5610, 5660, 5661, 5665, 5666, 5668, 5669, 5673, 5682, 5687, 5689,\n",
       "        5692, 5694, 5698, 5704, 5707, 5711, 5715, 5716, 5735, 5761, 5763]),)"
      ]
     },
     "execution_count": 83,
     "metadata": {},
     "output_type": "execute_result"
    }
   ],
   "source": [
    "np.where(pd.isna(data[\"titel\"]))"
   ]
  },
  {
   "cell_type": "code",
   "execution_count": 84,
   "metadata": {},
   "outputs": [
    {
     "data": {
      "text/plain": [
       "az                                         2 StR 495/12, GSSt 2/15\n",
       "datum                                                1470700800000\n",
       "doknr                                                KORE605032016\n",
       "gertyp                                                         BGH\n",
       "spruchkoerper                                        2. Strafsenat\n",
       "doktyp                                                   Beschluss\n",
       "titel                                                         None\n",
       "tenor            Die Vorlage wird zurückgenommen. Fischer Krehl...\n",
       "gruende                                                           \n",
       "Name: 4724, dtype: object"
      ]
     },
     "execution_count": 84,
     "metadata": {},
     "output_type": "execute_result"
    }
   ],
   "source": [
    "data.iloc[4724]"
   ]
  },
  {
   "cell_type": "markdown",
   "metadata": {},
   "source": [
    "Die anderen Kategorien / Spalten scheinen vollständig belegt"
   ]
  },
  {
   "cell_type": "code",
   "execution_count": 85,
   "metadata": {},
   "outputs": [
    {
     "data": {
      "text/plain": [
       "(array([], dtype=int64),)"
      ]
     },
     "execution_count": 85,
     "metadata": {},
     "output_type": "execute_result"
    }
   ],
   "source": [
    "np.where(pd.isna(data[\"doktyp\"]))"
   ]
  },
  {
   "cell_type": "code",
   "execution_count": 86,
   "metadata": {},
   "outputs": [
    {
     "data": {
      "text/plain": [
       "(array([], dtype=int64),)"
      ]
     },
     "execution_count": 86,
     "metadata": {},
     "output_type": "execute_result"
    }
   ],
   "source": [
    "np.where(pd.isna(data[\"spruchkoerper\"]))"
   ]
  },
  {
   "cell_type": "code",
   "execution_count": 87,
   "metadata": {},
   "outputs": [
    {
     "data": {
      "text/plain": [
       "(array([], dtype=int64),)"
      ]
     },
     "execution_count": 87,
     "metadata": {},
     "output_type": "execute_result"
    }
   ],
   "source": [
    "np.where(pd.isna(data[\"az\"]))"
   ]
  },
  {
   "cell_type": "markdown",
   "metadata": {},
   "source": [
    "## Länge der Texte"
   ]
  },
  {
   "cell_type": "code",
   "execution_count": 88,
   "metadata": {},
   "outputs": [],
   "source": [
    "def getLengthOfText(text):\n",
    "    if text:\n",
    "        return len(text)\n",
    "    else:\n",
    "        return 0"
   ]
  },
  {
   "cell_type": "code",
   "execution_count": 89,
   "metadata": {},
   "outputs": [],
   "source": [
    "len_titel = data[\"titel\"].apply(getLengthOfText)"
   ]
  },
  {
   "cell_type": "code",
   "execution_count": 90,
   "metadata": {},
   "outputs": [
    {
     "data": {
      "text/plain": [
       "Int64Index([   0,    1,    2,    3,    4,    5,    6,    7,    8,    9,\n",
       "            ...\n",
       "            5816, 5817, 5818, 5819, 5820, 5821, 5822, 5823, 5824, 5825],\n",
       "           dtype='int64', length=5826)"
      ]
     },
     "execution_count": 90,
     "metadata": {},
     "output_type": "execute_result"
    }
   ],
   "source": [
    "len_titel.index"
   ]
  },
  {
   "cell_type": "code",
   "execution_count": 91,
   "metadata": {},
   "outputs": [],
   "source": [
    "len_tenor = data[\"tenor\"].apply(getLengthOfText)"
   ]
  },
  {
   "cell_type": "code",
   "execution_count": 92,
   "metadata": {},
   "outputs": [
    {
     "data": {
      "text/plain": [
       "15965"
      ]
     },
     "execution_count": 92,
     "metadata": {},
     "output_type": "execute_result"
    }
   ],
   "source": [
    "len_tenor.max()"
   ]
  },
  {
   "cell_type": "code",
   "execution_count": 93,
   "metadata": {},
   "outputs": [
    {
     "data": {
      "text/plain": [
       "0"
      ]
     },
     "execution_count": 93,
     "metadata": {},
     "output_type": "execute_result"
    }
   ],
   "source": [
    "len_tenor.min()"
   ]
  },
  {
   "cell_type": "code",
   "execution_count": 94,
   "metadata": {},
   "outputs": [
    {
     "data": {
      "text/plain": [
       "669.4249914177824"
      ]
     },
     "execution_count": 94,
     "metadata": {},
     "output_type": "execute_result"
    }
   ],
   "source": [
    "len_tenor.mean()"
   ]
  },
  {
   "cell_type": "code",
   "execution_count": 95,
   "metadata": {},
   "outputs": [],
   "source": [
    "len_gruende = data[\"gruende\"].apply(getLengthOfText)"
   ]
  },
  {
   "cell_type": "code",
   "execution_count": 96,
   "metadata": {},
   "outputs": [
    {
     "data": {
      "text/plain": [
       "132487"
      ]
     },
     "execution_count": 96,
     "metadata": {},
     "output_type": "execute_result"
    }
   ],
   "source": [
    "len_gruende.max()"
   ]
  },
  {
   "cell_type": "code",
   "execution_count": 97,
   "metadata": {},
   "outputs": [
    {
     "data": {
      "text/plain": [
       "9304.9733951253"
      ]
     },
     "execution_count": 97,
     "metadata": {},
     "output_type": "execute_result"
    }
   ],
   "source": [
    "len_gruende.mean()"
   ]
  },
  {
   "cell_type": "code",
   "execution_count": 98,
   "metadata": {},
   "outputs": [
    {
     "data": {
      "image/png": "[encoded data removed]",
      "text/plain": [
       "<Figure size 432x288 with 1 Axes>"
      ]
     },
     "metadata": {},
     "output_type": "display_data"
    }
   ],
   "source": [
    "length = len_titel\n",
    "document = len_titel.index\n",
    " \n",
    "titel_plot = pd.DataFrame({\"Document\":document, \"Length Titel\":length})\n",
    " \n",
    "sns.lineplot(x = \"Document\", y = \"Length Titel\", data=titel_plot)\n",
    "plt.show()"
   ]
  },
  {
   "cell_type": "code",
   "execution_count": 99,
   "metadata": {},
   "outputs": [
    {
     "data": {
      "text/html": [
       "<div>\n",
       "<style scoped>\n",
       "    .dataframe tbody tr th:only-of-type {\n",
       "        vertical-align: middle;\n",
       "    }\n",
       "\n",
       "    .dataframe tbody tr th {\n",
       "        vertical-align: top;\n",
       "    }\n",
       "\n",
       "    .dataframe thead th {\n",
       "        text-align: right;\n",
       "    }\n",
       "</style>\n",
       "<table border=\"1\" class=\"dataframe\">\n",
       "  <thead>\n",
       "    <tr style=\"text-align: right;\">\n",
       "      <th></th>\n",
       "      <th>Document</th>\n",
       "      <th>titel</th>\n",
       "      <th>tenor</th>\n",
       "      <th>gruende</th>\n",
       "    </tr>\n",
       "  </thead>\n",
       "  <tbody>\n",
       "    <tr>\n",
       "      <th>0</th>\n",
       "      <td>0</td>\n",
       "      <td>94</td>\n",
       "      <td>105</td>\n",
       "      <td>587</td>\n",
       "    </tr>\n",
       "    <tr>\n",
       "      <th>1</th>\n",
       "      <td>1</td>\n",
       "      <td>123</td>\n",
       "      <td>389</td>\n",
       "      <td>3403</td>\n",
       "    </tr>\n",
       "    <tr>\n",
       "      <th>2</th>\n",
       "      <td>2</td>\n",
       "      <td>110</td>\n",
       "      <td>500</td>\n",
       "      <td>4310</td>\n",
       "    </tr>\n",
       "    <tr>\n",
       "      <th>3</th>\n",
       "      <td>3</td>\n",
       "      <td>157</td>\n",
       "      <td>416</td>\n",
       "      <td>4962</td>\n",
       "    </tr>\n",
       "    <tr>\n",
       "      <th>4</th>\n",
       "      <td>4</td>\n",
       "      <td>124</td>\n",
       "      <td>1018</td>\n",
       "      <td>7273</td>\n",
       "    </tr>\n",
       "  </tbody>\n",
       "</table>\n",
       "</div>"
      ],
      "text/plain": [
       "   Document  titel  tenor  gruende\n",
       "0         0     94    105      587\n",
       "1         1    123    389     3403\n",
       "2         2    110    500     4310\n",
       "3         3    157    416     4962\n",
       "4         4    124   1018     7273"
      ]
     },
     "execution_count": 99,
     "metadata": {},
     "output_type": "execute_result"
    }
   ],
   "source": [
    "df_txt_length = pd.DataFrame({'Document':data.index, 'titel':len_titel,'tenor':len_tenor, 'gruende': len_gruende})\n",
    "df_txt_length.head()"
   ]
  },
  {
   "cell_type": "code",
   "execution_count": 100,
   "metadata": {},
   "outputs": [
    {
     "data": {
      "text/plain": [
       "<AxesSubplot:xlabel='Document', ylabel='titel'>"
      ]
     },
     "execution_count": 100,
     "metadata": {},
     "output_type": "execute_result"
    },
    {
     "data": {
      "image/png": "[encoded data removed]",
      "text/plain": [
       "<Figure size 432x288 with 1 Axes>"
      ]
     },
     "metadata": {},
     "output_type": "display_data"
    }
   ],
   "source": [
    "sns.lineplot('Document', 'titel', data=df_txt_length)"
   ]
  },
  {
   "cell_type": "code",
   "execution_count": 101,
   "metadata": {},
   "outputs": [
    {
     "data": {
      "text/plain": [
       "<AxesSubplot:>"
      ]
     },
     "execution_count": 101,
     "metadata": {},
     "output_type": "execute_result"
    },
    {
     "data": {
      "image/png": "[encoded data removed]",
      "text/plain": [
       "<Figure size 1008x576 with 1 Axes>"
      ]
     },
     "metadata": {},
     "output_type": "display_data"
    }
   ],
   "source": [
    "plt.figure(figsize=(14,8))\n",
    "sns.lineplot(data=df_txt_length)"
   ]
  },
  {
   "cell_type": "code",
   "execution_count": 102,
   "metadata": {},
   "outputs": [
    {
     "data": {
      "text/plain": [
       "<AxesSubplot:xlabel='Document', ylabel='value'>"
      ]
     },
     "execution_count": 102,
     "metadata": {},
     "output_type": "execute_result"
    },
    {
     "data": {
      "image/png": "[encoded data removed]",
      "text/plain": [
       "<Figure size 1008x576 with 1 Axes>"
      ]
     },
     "metadata": {},
     "output_type": "display_data"
    }
   ],
   "source": [
    "plt.figure(figsize=(14,8))\n",
    "\n",
    "data_preproc = pd.DataFrame({\n",
    "    'Document': data.index, \n",
    "    'Titel': len_titel,\n",
    "    'Tenor': len_tenor,\n",
    "    'Gruende': len_gruende})\n",
    "\n",
    "sns.lineplot(x='Document', y='value', hue='variable', data=pd.melt(data_preproc, ['Document']))"
   ]
  },
  {
   "cell_type": "code",
   "execution_count": 104,
   "metadata": {},
   "outputs": [
    {
     "data": {
      "image/png": "[encoded data removed]",
      "text/plain": [
       "<Figure size 432x288 with 1 Axes>"
      ]
     },
     "metadata": {},
     "output_type": "display_data"
    }
   ],
   "source": [
    "f3 = plt.figure()\n",
    "\n",
    "data_preproc = pd.DataFrame({\n",
    "    'Document': data.index, \n",
    "    'Gruende': len_gruende,\n",
    "    'Tenor': len_tenor})\n",
    "\n",
    "sns.lineplot(x='Document', y='value', hue='variable', legend=False, data=pd.melt(data_preproc, ['Document'])).set(xlabel='Dokument per Index', ylabel='Anzahl der Zeichen')\n",
    "plt.legend(title=\"Textart\",loc='upper right', labels=['Gründe', 'Tenor'])\n",
    "\n",
    "f3.savefig(\"images/plots/textlaenge.png\", bbox_inches=\"tight\", dpi=600)"
   ]
  }
 ],
 "metadata": {
  "kernelspec": {
   "display_name": "Python 3",
   "language": "python",
   "name": "python3"
  },
  "language_info": {
   "codemirror_mode": {
    "name": "ipython",
    "version": 3
   },
   "file_extension": ".py",
   "mimetype": "text/x-python",
   "name": "python",
   "nbconvert_exporter": "python",
   "pygments_lexer": "ipython3",
   "version": "3.6.9"
  }
 },
 "nbformat": 4,
 "nbformat_minor": 4
}
