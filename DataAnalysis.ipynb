{
 "cells": [
  {
   "cell_type": "markdown",
   "metadata": {},
   "source": [
    "# Data Analysis\n",
    "explore decisions 2010-2020 concerning Strafsachen (criminal cases) from Bundesgerichtshof BGH (Federal Court of Justice) "
   ]
  },
  {
   "cell_type": "code",
   "execution_count": 1,
   "metadata": {},
   "outputs": [],
   "source": [
    "import pandas as pd\n",
    "import numpy as np\n",
    "import matplotlib.pyplot as plt\n",
    "import seaborn as sns\n",
    "import re\n",
    "import datetime"
   ]
  },
  {
   "cell_type": "code",
   "execution_count": 50,
   "metadata": {},
   "outputs": [],
   "source": [
    "# set plot parameters globally\n",
    "import matplotlib.pylab as pylab\n",
    "params = {'legend.fontsize': 'x-large',\n",
    "         'axes.labelsize': 'xx-large',\n",
    "         'axes.titlesize':'x-large',\n",
    "         'xtick.labelsize':'x-large',\n",
    "         'ytick.labelsize':'x-large'}\n",
    "pylab.rcParams.update(params)"
   ]
  },
  {
   "cell_type": "code",
   "execution_count": 2,
   "metadata": {},
   "outputs": [],
   "source": [
    "# read json data as pandas dataframe df\n",
    "df = pd.read_json('data/dataframes/restructured_bgh_decisions.json', orient='columns', encoding='utf-8')"
   ]
  },
  {
   "cell_type": "code",
   "execution_count": 13,
   "metadata": {},
   "outputs": [
    {
     "data": {
      "text/html": [
       "<div>\n",
       "<style scoped>\n",
       "    .dataframe tbody tr th:only-of-type {\n",
       "        vertical-align: middle;\n",
       "    }\n",
       "\n",
       "    .dataframe tbody tr th {\n",
       "        vertical-align: top;\n",
       "    }\n",
       "\n",
       "    .dataframe thead th {\n",
       "        text-align: right;\n",
       "    }\n",
       "</style>\n",
       "<table border=\"1\" class=\"dataframe\">\n",
       "  <thead>\n",
       "    <tr style=\"text-align: right;\">\n",
       "      <th></th>\n",
       "      <th>az</th>\n",
       "      <th>datum</th>\n",
       "      <th>doknr</th>\n",
       "      <th>gertyp</th>\n",
       "      <th>spruchkoerper</th>\n",
       "      <th>doktyp</th>\n",
       "      <th>titel</th>\n",
       "      <th>tenor</th>\n",
       "      <th>gruende</th>\n",
       "    </tr>\n",
       "  </thead>\n",
       "  <tbody>\n",
       "    <tr>\n",
       "      <th>14</th>\n",
       "      <td>3 StR 499/09</td>\n",
       "      <td>20100119</td>\n",
       "      <td>JURE100059128</td>\n",
       "      <td>BGH</td>\n",
       "      <td>3. Strafsenat</td>\n",
       "      <td>Beschluss</td>\n",
       "      <td>Unterbringung in einer Entziehungsanstalt: Tei...</td>\n",
       "      <td>[1. Auf die Revision des Angeklagten wird das ...</td>\n",
       "      <td>[Das Landgericht hat den Angeklagten wegen Die...</td>\n",
       "    </tr>\n",
       "    <tr>\n",
       "      <th>5273</th>\n",
       "      <td>5 StR 522/13</td>\n",
       "      <td>20131212</td>\n",
       "      <td>JURE140000306</td>\n",
       "      <td>BGH</td>\n",
       "      <td>5. Strafsenat</td>\n",
       "      <td>Beschluss</td>\n",
       "      <td>Bewaffnetes Handeltreiben mit Betäubungsmittel...</td>\n",
       "      <td>[Die Revision des Angeklagten gegen das Urteil...</td>\n",
       "      <td>[Das Landgericht hat den Angeklagten wegen bew...</td>\n",
       "    </tr>\n",
       "    <tr>\n",
       "      <th>1733</th>\n",
       "      <td>2 StR 421/17</td>\n",
       "      <td>20180905</td>\n",
       "      <td>KORE607902018</td>\n",
       "      <td>BGH</td>\n",
       "      <td>2. Strafsenat</td>\n",
       "      <td>Beschluss</td>\n",
       "      <td>Prinzip des gesetzlichen Richters im Strafverf...</td>\n",
       "      <td>[Die Revisionen der Angeklagten gegen das Urte...</td>\n",
       "      <td>[Das Landgericht hat den Angeklagten M.   wege...</td>\n",
       "    </tr>\n",
       "    <tr>\n",
       "      <th>1234</th>\n",
       "      <td>3 StR 239/12</td>\n",
       "      <td>20121115</td>\n",
       "      <td>JURE130000688</td>\n",
       "      <td>BGH</td>\n",
       "      <td>3. Strafsenat</td>\n",
       "      <td>Beschluss</td>\n",
       "      <td>Strafverfahren: Richterablehnung mit einer völ...</td>\n",
       "      <td>[Das Ablehnungsgesuch gegen Richter am Bundesg...</td>\n",
       "      <td>[I., None, Mit Beschluss vom 18. September 201...</td>\n",
       "    </tr>\n",
       "    <tr>\n",
       "      <th>920</th>\n",
       "      <td>2 StR 545/18</td>\n",
       "      <td>20190430</td>\n",
       "      <td>KORE626052019</td>\n",
       "      <td>BGH</td>\n",
       "      <td>2. Strafsenat</td>\n",
       "      <td>Beschluss</td>\n",
       "      <td>Berücksichtigung eines rechtskräftig angeordne...</td>\n",
       "      <td>[1. Dem Angeklagten wird nach Versäumung der F...</td>\n",
       "      <td>[Das Landgericht hatte den Angeklagten mit Urt...</td>\n",
       "    </tr>\n",
       "  </tbody>\n",
       "</table>\n",
       "</div>"
      ],
      "text/plain": [
       "                az     datum          doknr gertyp  spruchkoerper     doktyp  \\\n",
       "14    3 StR 499/09  20100119  JURE100059128    BGH  3. Strafsenat  Beschluss   \n",
       "5273  5 StR 522/13  20131212  JURE140000306    BGH  5. Strafsenat  Beschluss   \n",
       "1733  2 StR 421/17  20180905  KORE607902018    BGH  2. Strafsenat  Beschluss   \n",
       "1234  3 StR 239/12  20121115  JURE130000688    BGH  3. Strafsenat  Beschluss   \n",
       "920   2 StR 545/18  20190430  KORE626052019    BGH  2. Strafsenat  Beschluss   \n",
       "\n",
       "                                                  titel  \\\n",
       "14    Unterbringung in einer Entziehungsanstalt: Tei...   \n",
       "5273  Bewaffnetes Handeltreiben mit Betäubungsmittel...   \n",
       "1733  Prinzip des gesetzlichen Richters im Strafverf...   \n",
       "1234  Strafverfahren: Richterablehnung mit einer völ...   \n",
       "920   Berücksichtigung eines rechtskräftig angeordne...   \n",
       "\n",
       "                                                  tenor  \\\n",
       "14    [1. Auf die Revision des Angeklagten wird das ...   \n",
       "5273  [Die Revision des Angeklagten gegen das Urteil...   \n",
       "1733  [Die Revisionen der Angeklagten gegen das Urte...   \n",
       "1234  [Das Ablehnungsgesuch gegen Richter am Bundesg...   \n",
       "920   [1. Dem Angeklagten wird nach Versäumung der F...   \n",
       "\n",
       "                                                gruende  \n",
       "14    [Das Landgericht hat den Angeklagten wegen Die...  \n",
       "5273  [Das Landgericht hat den Angeklagten wegen bew...  \n",
       "1733  [Das Landgericht hat den Angeklagten M.   wege...  \n",
       "1234  [I., None, Mit Beschluss vom 18. September 201...  \n",
       "920   [Das Landgericht hatte den Angeklagten mit Urt...  "
      ]
     },
     "execution_count": 13,
     "metadata": {},
     "output_type": "execute_result"
    }
   ],
   "source": [
    "# show 5 randomly selected rows from dataframe df\n",
    "df.sample(5)"
   ]
  },
  {
   "cell_type": "markdown",
   "metadata": {},
   "source": [
    "# fehlende Daten I"
   ]
  },
  {
   "cell_type": "markdown",
   "metadata": {},
   "source": [
    "In 198 Fällen fehlen die Titel."
   ]
  },
  {
   "cell_type": "code",
   "execution_count": 26,
   "metadata": {},
   "outputs": [
    {
     "data": {
      "text/plain": [
       "198"
      ]
     },
     "execution_count": 26,
     "metadata": {},
     "output_type": "execute_result"
    }
   ],
   "source": [
    "len(np.where(pd.isnull(df))[0])"
   ]
  },
  {
   "cell_type": "code",
   "execution_count": 27,
   "metadata": {},
   "outputs": [
    {
     "data": {
      "text/plain": [
       "(array([ 378,  392,  400,  499,  517,  544,  560,  562,  660,  680,  686,\n",
       "         716,  725,  744,  755,  774,  778,  779,  787,  791,  795,  816,\n",
       "         820,  830,  850,  851,  852,  853,  863,  868,  903,  935,  968,\n",
       "         978, 1387, 1404, 1430, 1509, 1546, 1667, 1682, 1694, 1696, 1730,\n",
       "        1740, 1745, 1748, 1769, 1781, 1786, 1795, 1819, 1821, 1836, 1840,\n",
       "        1843, 1845, 1846, 1867, 1871, 1876, 1883, 1889, 1895, 1972, 1983,\n",
       "        1986, 2028, 2105, 2266, 2300, 2346, 2369, 2658, 2667, 2676, 2679,\n",
       "        2680, 2685, 2694, 2698, 2713, 2758, 2770, 2777, 2781, 2782, 2788,\n",
       "        2795, 2803, 2812, 2820, 2826, 2840, 2842, 2846, 2914, 2928, 2952,\n",
       "        2969, 2997, 3086, 3325, 3329, 3348, 3363, 3434, 3493, 3627, 3631,\n",
       "        3642, 3645, 3651, 3677, 3679, 3707, 3723, 3732, 3737, 3752, 3759,\n",
       "        3761, 3765, 3777, 3817, 3829, 3831, 3834, 3848, 3862, 3871, 3899,\n",
       "        4104, 4192, 4401, 4420, 4495, 4541, 4551, 4580, 4685, 4714, 4716,\n",
       "        4717, 4718, 4724, 4725, 4728, 4741, 4746, 4747, 4756, 4763, 4772,\n",
       "        4782, 4783, 4787, 4788, 4791, 4802, 4827, 4828, 4833, 4836, 4840,\n",
       "        4857, 4886, 4930, 4937, 5085, 5326, 5373, 5388, 5562, 5599, 5605,\n",
       "        5610, 5660, 5661, 5665, 5666, 5668, 5669, 5673, 5682, 5687, 5689,\n",
       "        5692, 5694, 5698, 5704, 5707, 5711, 5715, 5716, 5735, 5761, 5763]),\n",
       " array([6, 6, 6, 6, 6, 6, 6, 6, 6, 6, 6, 6, 6, 6, 6, 6, 6, 6, 6, 6, 6, 6,\n",
       "        6, 6, 6, 6, 6, 6, 6, 6, 6, 6, 6, 6, 6, 6, 6, 6, 6, 6, 6, 6, 6, 6,\n",
       "        6, 6, 6, 6, 6, 6, 6, 6, 6, 6, 6, 6, 6, 6, 6, 6, 6, 6, 6, 6, 6, 6,\n",
       "        6, 6, 6, 6, 6, 6, 6, 6, 6, 6, 6, 6, 6, 6, 6, 6, 6, 6, 6, 6, 6, 6,\n",
       "        6, 6, 6, 6, 6, 6, 6, 6, 6, 6, 6, 6, 6, 6, 6, 6, 6, 6, 6, 6, 6, 6,\n",
       "        6, 6, 6, 6, 6, 6, 6, 6, 6, 6, 6, 6, 6, 6, 6, 6, 6, 6, 6, 6, 6, 6,\n",
       "        6, 6, 6, 6, 6, 6, 6, 6, 6, 6, 6, 6, 6, 6, 6, 6, 6, 6, 6, 6, 6, 6,\n",
       "        6, 6, 6, 6, 6, 6, 6, 6, 6, 6, 6, 6, 6, 6, 6, 6, 6, 6, 6, 6, 6, 6,\n",
       "        6, 6, 6, 6, 6, 6, 6, 6, 6, 6, 6, 6, 6, 6, 6, 6, 6, 6, 6, 6, 6, 6]))"
      ]
     },
     "execution_count": 27,
     "metadata": {},
     "output_type": "execute_result"
    }
   ],
   "source": [
    "np.where(pd.isnull(df))"
   ]
  },
  {
   "cell_type": "markdown",
   "metadata": {},
   "source": [
    "# Dokumenttypen"
   ]
  },
  {
   "cell_type": "markdown",
   "metadata": {},
   "source": [
    "Es gibt 6 verschiedene Dokumententypen: ['Beschluss' 'Urteil' 'Vorlagebeschluss' 'EuGH-Vorlage' 'Entscheidung'\n",
    " 'Verfügung']. Insgesamt 1277 Urteile, 4526 Beschlüsse, 1 Entscheidung, 2 Verfügungen, 11 Vorlagebeschlüsse, 9 EuGH-Vorlagen."
   ]
  },
  {
   "cell_type": "code",
   "execution_count": 12,
   "metadata": {},
   "outputs": [
    {
     "data": {
      "text/plain": [
       "array(['Beschluss', 'Urteil', 'Vorlagebeschluss', 'EuGH-Vorlage',\n",
       "       'Entscheidung', 'Verfügung'], dtype=object)"
      ]
     },
     "execution_count": 12,
     "metadata": {},
     "output_type": "execute_result"
    }
   ],
   "source": [
    "unique_values_doktyp = df.doktyp.unique()\n",
    "unique_values_doktyp"
   ]
  },
  {
   "cell_type": "code",
   "execution_count": 13,
   "metadata": {},
   "outputs": [
    {
     "data": {
      "text/plain": [
       "1277"
      ]
     },
     "execution_count": 13,
     "metadata": {},
     "output_type": "execute_result"
    }
   ],
   "source": [
    "anz_urteil = df[df.doktyp == 'Urteil'].shape[0]\n",
    "anz_urteil"
   ]
  },
  {
   "cell_type": "code",
   "execution_count": 14,
   "metadata": {},
   "outputs": [
    {
     "data": {
      "text/plain": [
       "4526"
      ]
     },
     "execution_count": 14,
     "metadata": {},
     "output_type": "execute_result"
    }
   ],
   "source": [
    "anz_beschluss = df[df.doktyp == 'Beschluss'].shape[0]\n",
    "anz_beschluss"
   ]
  },
  {
   "cell_type": "code",
   "execution_count": 15,
   "metadata": {},
   "outputs": [
    {
     "data": {
      "text/plain": [
       "1"
      ]
     },
     "execution_count": 15,
     "metadata": {},
     "output_type": "execute_result"
    }
   ],
   "source": [
    "anz_entscheidung = df[df.doktyp == 'Entscheidung'].shape[0]\n",
    "anz_entscheidung"
   ]
  },
  {
   "cell_type": "code",
   "execution_count": 16,
   "metadata": {},
   "outputs": [
    {
     "data": {
      "text/plain": [
       "2"
      ]
     },
     "execution_count": 16,
     "metadata": {},
     "output_type": "execute_result"
    }
   ],
   "source": [
    "anz_verfuegung = df[df.doktyp == 'Verfügung'].shape[0]\n",
    "anz_verfuegung"
   ]
  },
  {
   "cell_type": "code",
   "execution_count": 17,
   "metadata": {},
   "outputs": [
    {
     "data": {
      "text/plain": [
       "11"
      ]
     },
     "execution_count": 17,
     "metadata": {},
     "output_type": "execute_result"
    }
   ],
   "source": [
    "anz_vorlagebeschluss = df[df.doktyp == 'Vorlagebeschluss'].shape[0]\n",
    "anz_vorlagebeschluss"
   ]
  },
  {
   "cell_type": "code",
   "execution_count": 18,
   "metadata": {},
   "outputs": [
    {
     "data": {
      "text/plain": [
       "9"
      ]
     },
     "execution_count": 18,
     "metadata": {},
     "output_type": "execute_result"
    }
   ],
   "source": [
    "anz_eughvorlage = df[df.doktyp == 'EuGH-Vorlage'].shape[0]\n",
    "anz_eughvorlage"
   ]
  },
  {
   "cell_type": "code",
   "execution_count": 55,
   "metadata": {},
   "outputs": [
    {
     "data": {
      "image/png": "[encoded data removed]",
      "text/plain": [
       "<Figure size 864x576 with 1 Axes>"
      ]
     },
     "metadata": {
      "needs_background": "light"
     },
     "output_type": "display_data"
    }
   ],
   "source": [
    "# plot distribution of doktyp\n",
    "f1 = plt.figure(figsize=(12,8))\n",
    "x2 = unique_values_doktyp\n",
    "y2 = [anz_beschluss, anz_urteil, anz_vorlagebeschluss, anz_verfuegung, anz_entscheidung, anz_eughvorlage]\n",
    "ax2 = sns.barplot(x=x2, y=y2)\n",
    "ax2.set(xlabel='Dokumenttyp', ylabel='Vorkommen absolut')\n",
    "plt.yscale('log')\n",
    "plt.show()\n",
    "#f1.savefig(\"images/plots/doktyp.png\", bbox_inches=\"tight\", dpi=600)"
   ]
  },
  {
   "cell_type": "markdown",
   "metadata": {},
   "source": [
    "# Spruchkörper"
   ]
  },
  {
   "cell_type": "markdown",
   "metadata": {},
   "source": [
    "Es gibt 6 verschiedene Spruchkörper: ['2. Strafsenat' '3. Strafsenat' '5. Strafsenat' '4. Strafsenat'\n",
    " '1. Strafsenat' '6. Strafsenat']. 1245 mal 1. Strafsenat, 1255 mal 2. Strafsenat, 1290 mal 3. Strafsenat, 1195 mal 4. Strafsenat, 835 mal 5. Strafsenat, 6 mal 6. Stafsenat. "
   ]
  },
  {
   "cell_type": "code",
   "execution_count": 23,
   "metadata": {},
   "outputs": [
    {
     "data": {
      "text/plain": [
       "array(['2. Strafsenat', '3. Strafsenat', '5. Strafsenat', '4. Strafsenat',\n",
       "       '1. Strafsenat', '6. Strafsenat'], dtype=object)"
      ]
     },
     "execution_count": 23,
     "metadata": {},
     "output_type": "execute_result"
    }
   ],
   "source": [
    "unique_values_spruchkoerper = df.spruchkoerper.unique()\n",
    "unique_values_spruchkoerper"
   ]
  },
  {
   "cell_type": "code",
   "execution_count": 24,
   "metadata": {},
   "outputs": [
    {
     "data": {
      "text/plain": [
       "1245"
      ]
     },
     "execution_count": 24,
     "metadata": {},
     "output_type": "execute_result"
    }
   ],
   "source": [
    "anz_ersterStrSen = df[df.spruchkoerper == '1. Strafsenat'].shape[0]\n",
    "anz_ersterStrSen"
   ]
  },
  {
   "cell_type": "code",
   "execution_count": 25,
   "metadata": {},
   "outputs": [
    {
     "data": {
      "text/plain": [
       "1255"
      ]
     },
     "execution_count": 25,
     "metadata": {},
     "output_type": "execute_result"
    }
   ],
   "source": [
    "anz_zweiterStrSen = df[df.spruchkoerper == '2. Strafsenat'].shape[0]\n",
    "anz_zweiterStrSen"
   ]
  },
  {
   "cell_type": "code",
   "execution_count": 26,
   "metadata": {},
   "outputs": [
    {
     "data": {
      "text/plain": [
       "1290"
      ]
     },
     "execution_count": 26,
     "metadata": {},
     "output_type": "execute_result"
    }
   ],
   "source": [
    "anz_dritterStrSen = df[df.spruchkoerper == '3. Strafsenat'].shape[0]\n",
    "anz_dritterStrSen"
   ]
  },
  {
   "cell_type": "code",
   "execution_count": 27,
   "metadata": {},
   "outputs": [
    {
     "data": {
      "text/plain": [
       "1195"
      ]
     },
     "execution_count": 27,
     "metadata": {},
     "output_type": "execute_result"
    }
   ],
   "source": [
    "anz_vierterStrSen = df[df.spruchkoerper == '4. Strafsenat'].shape[0]\n",
    "anz_vierterStrSen"
   ]
  },
  {
   "cell_type": "code",
   "execution_count": 28,
   "metadata": {},
   "outputs": [
    {
     "data": {
      "text/plain": [
       "835"
      ]
     },
     "execution_count": 28,
     "metadata": {},
     "output_type": "execute_result"
    }
   ],
   "source": [
    "anz_fuenfterStrSen = df[df.spruchkoerper == '5. Strafsenat'].shape[0]\n",
    "anz_fuenfterStrSen"
   ]
  },
  {
   "cell_type": "code",
   "execution_count": 29,
   "metadata": {},
   "outputs": [
    {
     "data": {
      "text/plain": [
       "6"
      ]
     },
     "execution_count": 29,
     "metadata": {},
     "output_type": "execute_result"
    }
   ],
   "source": [
    "anz_sechsterStrSen = df[df.spruchkoerper == '6. Strafsenat'].shape[0]\n",
    "anz_sechsterStrSen"
   ]
  },
  {
   "cell_type": "code",
   "execution_count": 54,
   "metadata": {},
   "outputs": [
    {
     "data": {
      "image/png": "[encoded data removed]",
      "text/plain": [
       "<Figure size 864x576 with 1 Axes>"
      ]
     },
     "metadata": {
      "needs_background": "light"
     },
     "output_type": "display_data"
    }
   ],
   "source": [
    "f = plt.figure(figsize=(12,8))\n",
    "#sns.set(style=\"white\", context=\"notebook\")\n",
    "x = [\"1.\", \"2.\", \"3.\",\"4.\", \"5.\", \"6.\"]\n",
    "y = [anz_ersterStrSen, anz_zweiterStrSen, anz_dritterStrSen, anz_vierterStrSen, anz_fuenfterStrSen, anz_sechsterStrSen]\n",
    "ax = sns.barplot(x=x, y=y)#, palette=\"rocket\")\n",
    "ax.set(xlabel='Strafsenate (Spruchkörper)', ylabel='Vorkommen absolut')\n",
    "plt.show()\n",
    "#f.savefig(\"images/plots/strafsenate.png\", bbox_inches=\"tight\", dpi=600)"
   ]
  },
  {
   "cell_type": "markdown",
   "metadata": {},
   "source": [
    "# Entscheidungsdatum"
   ]
  },
  {
   "cell_type": "code",
   "execution_count": 31,
   "metadata": {},
   "outputs": [],
   "source": [
    "unique_values_datum = df.datum.unique()"
   ]
  },
  {
   "cell_type": "code",
   "execution_count": 32,
   "metadata": {},
   "outputs": [
    {
     "name": "stdout",
     "output_type": "stream",
     "text": [
      "1520\n"
     ]
    }
   ],
   "source": [
    "print(len(unique_values_datum))"
   ]
  },
  {
   "cell_type": "code",
   "execution_count": 4,
   "metadata": {},
   "outputs": [],
   "source": [
    "# datum in df in datumsformat umwandeln\n",
    "df['datum'] = df['datum'].apply(lambda x: pd.to_datetime(str(x), format='%Y%m%d'))"
   ]
  },
  {
   "cell_type": "code",
   "execution_count": 34,
   "metadata": {},
   "outputs": [
    {
     "data": {
      "text/html": [
       "<div>\n",
       "<style scoped>\n",
       "    .dataframe tbody tr th:only-of-type {\n",
       "        vertical-align: middle;\n",
       "    }\n",
       "\n",
       "    .dataframe tbody tr th {\n",
       "        vertical-align: top;\n",
       "    }\n",
       "\n",
       "    .dataframe thead th {\n",
       "        text-align: right;\n",
       "    }\n",
       "</style>\n",
       "<table border=\"1\" class=\"dataframe\">\n",
       "  <thead>\n",
       "    <tr style=\"text-align: right;\">\n",
       "      <th></th>\n",
       "      <th>az</th>\n",
       "      <th>datum</th>\n",
       "      <th>doknr</th>\n",
       "      <th>gertyp</th>\n",
       "      <th>spruchkoerper</th>\n",
       "      <th>doktyp</th>\n",
       "      <th>titel</th>\n",
       "      <th>tenor</th>\n",
       "      <th>gruende</th>\n",
       "    </tr>\n",
       "  </thead>\n",
       "  <tbody>\n",
       "    <tr>\n",
       "      <th>3753</th>\n",
       "      <td>2 StR 345/17</td>\n",
       "      <td>2017-12-13</td>\n",
       "      <td>KORE617722018</td>\n",
       "      <td>BGH</td>\n",
       "      <td>2. Strafsenat</td>\n",
       "      <td>Urteil</td>\n",
       "      <td>Schwerer sexueller Missbrauch von Kindern: Ein...</td>\n",
       "      <td>[1. Die Revision des Angeklagten gegen das Urt...</td>\n",
       "      <td>[Das Landgericht hat den Angeklagten wegen sch...</td>\n",
       "    </tr>\n",
       "    <tr>\n",
       "      <th>930</th>\n",
       "      <td>StB 4/18</td>\n",
       "      <td>2018-07-31</td>\n",
       "      <td>KORE626882018</td>\n",
       "      <td>BGH</td>\n",
       "      <td>3. Strafsenat</td>\n",
       "      <td>Beschluss</td>\n",
       "      <td>(Anfechtbarkeit einer ermittlungsrichterlichen...</td>\n",
       "      <td>[Die Beschwerde des Beschuldigten gegen den Be...</td>\n",
       "      <td>[I., None, Der Generalbundesanwalt hat gegen d...</td>\n",
       "    </tr>\n",
       "    <tr>\n",
       "      <th>198</th>\n",
       "      <td>1 StR 212/12</td>\n",
       "      <td>2012-08-07</td>\n",
       "      <td>JURE120015855</td>\n",
       "      <td>BGH</td>\n",
       "      <td>1. Strafsenat</td>\n",
       "      <td>Beschluss</td>\n",
       "      <td>Richterablehnung im Strafverfahren: Vorbefassu...</td>\n",
       "      <td>[Die Befangenheitsanträge des Angeklagten vom ...</td>\n",
       "      <td>[Der Senat hat über eine Revision des Antragst...</td>\n",
       "    </tr>\n",
       "  </tbody>\n",
       "</table>\n",
       "</div>"
      ],
      "text/plain": [
       "                az      datum          doknr gertyp  spruchkoerper     doktyp  \\\n",
       "3753  2 StR 345/17 2017-12-13  KORE617722018    BGH  2. Strafsenat     Urteil   \n",
       "930       StB 4/18 2018-07-31  KORE626882018    BGH  3. Strafsenat  Beschluss   \n",
       "198   1 StR 212/12 2012-08-07  JURE120015855    BGH  1. Strafsenat  Beschluss   \n",
       "\n",
       "                                                  titel  \\\n",
       "3753  Schwerer sexueller Missbrauch von Kindern: Ein...   \n",
       "930   (Anfechtbarkeit einer ermittlungsrichterlichen...   \n",
       "198   Richterablehnung im Strafverfahren: Vorbefassu...   \n",
       "\n",
       "                                                  tenor  \\\n",
       "3753  [1. Die Revision des Angeklagten gegen das Urt...   \n",
       "930   [Die Beschwerde des Beschuldigten gegen den Be...   \n",
       "198   [Die Befangenheitsanträge des Angeklagten vom ...   \n",
       "\n",
       "                                                gruende  \n",
       "3753  [Das Landgericht hat den Angeklagten wegen sch...  \n",
       "930   [I., None, Der Generalbundesanwalt hat gegen d...  \n",
       "198   [Der Senat hat über eine Revision des Antragst...  "
      ]
     },
     "execution_count": 34,
     "metadata": {},
     "output_type": "execute_result"
    }
   ],
   "source": [
    "# show sample rows with formatted datum\n",
    "df.sample(3)"
   ]
  },
  {
   "cell_type": "code",
   "execution_count": 53,
   "metadata": {},
   "outputs": [
    {
     "data": {
      "image/png": "[encoded data removed]",
      "text/plain": [
       "<Figure size 1152x288 with 1 Axes>"
      ]
     },
     "metadata": {
      "needs_background": "light"
     },
     "output_type": "display_data"
    }
   ],
   "source": [
    "# plot distribution of documents over time\n",
    "f2 = plt.figure(figsize=(16,4))\n",
    "plt.plot(df['datum'].value_counts().sort_index(), lw=0.5)\n",
    "plt.xlabel('Entscheidungsdatum')\n",
    "plt.ylabel(\"Vorkommen absolut\")\n",
    "#ax.xaxis.label.set_fontsize(20)\n",
    "\n",
    "#f2.savefig(\"images/plots/entscheidungsdaten.png\", bbox_inches=\"tight\", dpi=600)"
   ]
  },
  {
   "cell_type": "markdown",
   "metadata": {},
   "source": [
    "# Textkategorie Tenor"
   ]
  },
  {
   "cell_type": "markdown",
   "metadata": {},
   "source": [
    "None aus Tenorlisten entfernen"
   ]
  },
  {
   "cell_type": "code",
   "execution_count": 36,
   "metadata": {},
   "outputs": [],
   "source": [
    "def filterNone(liste: list):\n",
    "    return list(filter(None, liste))"
   ]
  },
  {
   "cell_type": "markdown",
   "metadata": {},
   "source": [
    "style information aus Tenor entfernen"
   ]
  },
  {
   "cell_type": "code",
   "execution_count": 37,
   "metadata": {},
   "outputs": [],
   "source": [
    "def filterStyle(liste: list):\n",
    "    for i, item in enumerate(liste):\n",
    "        if type(item) == dict and \"#text\" in item:\n",
    "            liste[i] = item[\"#text\"]\n",
    "        if type(item) == dict and \"#text\" not in item:\n",
    "            liste[i] = None\n",
    "    return liste"
   ]
  },
  {
   "cell_type": "markdown",
   "metadata": {},
   "source": [
    "Filterfunktionen auf data frame anwenden"
   ]
  },
  {
   "cell_type": "code",
   "execution_count": 38,
   "metadata": {},
   "outputs": [],
   "source": [
    "df[\"tenor\"] = df[\"tenor\"].apply(filterStyle).apply(filterNone)"
   ]
  },
  {
   "cell_type": "markdown",
   "metadata": {},
   "source": [
    "Beispiel für gefilterten Tenor"
   ]
  },
  {
   "cell_type": "code",
   "execution_count": 39,
   "metadata": {},
   "outputs": [
    {
     "data": {
      "text/plain": [
       "['1. Die Revision des Angeklagten I.\\xa0gegen das Urteil des Landgerichts Berlin vom 14. Mai 2009 wird nach § 349 Abs. 2 StPO als unbegründet verworfen. Der Beschwerdeführer hat die Kosten seines Rechtsmittels zu tragen.',\n",
       " '2. Auf die Revision des Angeklagten Q.\\xa0wird das vorgenannte Urteil, soweit es ihn betrifft, nach § 349 Abs. 4 StPO mit den zugehörigen Feststellungen aufgehoben. Die Sache wird insoweit zu erneuter Verhandlung und Entscheidung, auch über die Kosten des Rechtsmittels, an eine andere Strafkammer des Landgerichts zurückverwiesen.']"
      ]
     },
     "execution_count": 39,
     "metadata": {},
     "output_type": "execute_result"
    }
   ],
   "source": [
    "df.iloc[4003].tenor"
   ]
  },
  {
   "cell_type": "markdown",
   "metadata": {},
   "source": [
    "Listenelemente in Tenor zu einem Tenortext zusammenführen"
   ]
  },
  {
   "cell_type": "code",
   "execution_count": 40,
   "metadata": {},
   "outputs": [],
   "source": [
    "def concatenateTenor(tenor_list: list):\n",
    "    return \" \".join(tenor_list)"
   ]
  },
  {
   "cell_type": "markdown",
   "metadata": {},
   "source": [
    "Text bereinigen: \"\\xa0\" entfernen"
   ]
  },
  {
   "cell_type": "code",
   "execution_count": 41,
   "metadata": {},
   "outputs": [],
   "source": [
    "def cleanTenorTxt(tenor_text: str):\n",
    "    return re.sub(r\"[\\xa0]+\", \" \", tenor_text)"
   ]
  },
  {
   "cell_type": "markdown",
   "metadata": {},
   "source": [
    "Anwenden auf Dataframe. Listen in Text zusammenführen, anschließend Text säubern"
   ]
  },
  {
   "cell_type": "code",
   "execution_count": 42,
   "metadata": {},
   "outputs": [],
   "source": [
    "df[\"tenor\"] = df[\"tenor\"].apply(concatenateTenor).apply(cleanTenorTxt)"
   ]
  },
  {
   "cell_type": "markdown",
   "metadata": {},
   "source": [
    "2 Beispiele für gesäuberten Tenor"
   ]
  },
  {
   "cell_type": "code",
   "execution_count": 43,
   "metadata": {},
   "outputs": [
    {
     "data": {
      "text/plain": [
       "'Die Revisionen der Angeklagten gegen das Urteil des Landgerichts Bielefeld vom 18. Mai 2009 werden als unbegründet verworfen, da die Nachprüfung des Urteils auf Grund der Revisionsrechtfertigungen im Ergebnis keinen Rechtsfehler zum Nachteil der Angeklagten ergeben hat (§ 349 Abs. 2 StPO). Es wird davon abgesehen, den Angeklagten D. und H. die Kosten und gerichtlichen Auslagen ihrer Rechtsmittel aufzuerlegen. Jedoch werden ihnen, ebenso wie der Angeklagten B., die ihrerseits die Kosten ihres Rechtsmittels zu tragen hat, die dem Nebenkläger im Revisionsverfahren entstandenen notwendigen Auslagen auferlegt. Ergänzend zu den Ausführungen des Generalbundesanwalts bemerkt der Senat: Bei keinem der drei Angeklagten ist das Landgericht von mittäterschaftlichem Zusammenwirken ausgegangen. Aus der - für sich genommen missverständlichen - Formulierung, der Angeklagten B. seien auch die durch die Tritte des Angeklagten H. verursachten Kopfverletzungen als vorsätzlich verursacht zuzurechnen (UA 27 unten), ergibt sich für diese Angeklagte nichts anderes. Dies folgt schon daraus, dass an anderer Stelle im Rahmen der rechtlichen Würdigung ausgeführt wird, eine konkrete, zumindest konkludente Absprache zwischen den Beteiligten und damit ein bewusstes gemeinschaftlich zusammenwirkendes Handeln im strafrechtlichen Sinne habe nicht festgestellt werden können (UA 27 oben, 28 oben sowie 28 unten). Der Senat entnimmt vielmehr dem Gesamtzusammenhang der Urteilsgründe, dass die Strafkammer der Angeklagten B. die schweren und dauerhaften gesundheitlichen Folgen für das Tatopfer als verschuldete Auswirkungen der Tat im Sinne des § 46 Abs. 2 Satz 2 StGB zugerechnet hat. Das ist hier aus Rechtsgründen nicht zu beanstanden, denn es genügt insoweit, wenn die Tatfolgen ihrer Art und ihrem Gewicht nach im Wesentlichen erkennbar waren (BGH, Beschl. vom 29. August 2006 - 1 StR 285/06, Tz. 4 m.w.N.). Die vom Generalbundesanwalt in Bezug auf den Angeklagten H. aufgeworfene Frage, ob diesem sämtliche Verletzungen mit allen Folgen für das Opfer (nur) dann hätten zugerechnet werden können, wenn er - was das Landgericht gerade nicht festgestellt hat - als sukzessiver Mittäter gehandelt hat, stellt sich nicht. Denn die Strafkammer führt insoweit rechtsfehlerfrei aus, dass, selbst wenn H. nicht alle Verletzungen selbst verursacht haben sollte, er bewusst und gewollt in brutaler Weise auf ein auch nach seiner Vorstellung durch die vorangegangenen Gewalthandlungen schon erheblich vorgeschädigtes Opfer eingewirkt hat, so dass das gesamte Verletzungsbild auch als Ergebnis seines Handelns anzusehen und ihm deshalb zuzurechnen ist. Tepperwien Maatz Solin-Stojanović Franke Mutzbauer'"
      ]
     },
     "execution_count": 43,
     "metadata": {},
     "output_type": "execute_result"
    }
   ],
   "source": [
    "df.iloc[5].tenor"
   ]
  },
  {
   "cell_type": "code",
   "execution_count": 44,
   "metadata": {},
   "outputs": [
    {
     "data": {
      "text/plain": [
       "'Die Revision des Angeklagten gegen das Urteil des Landgerichts Bonn vom 25. Mai 2011 wird mit der Maßgabe als unbegründet verworfen, dass die Urteilsformel dahin ergänzt wird, dass die in Griechenland erlittene Auslieferungshaft im Verhältnis 1 : 1 auf die erkannte Strafe angerechnet wird. Im Übrigen hat die Nachprüfung des Urteils auf Grund der Revisionsrechtfertigung keinen Rechtsfehler zum Nachteil des Angeklagten ergeben. Der Beschwerdeführer hat die Kosten des Rechtsmittels und die der Nebenklägerin im Revisionsverfahren entstandenen notwendigen Auslagen zu tragen. Ergänzend bemerkt der Senat: Zwar verstößt es in der Regel gegen das Doppelverwertungsverbot des § 46 Abs. 3 StGB, wenn der Umstand, dass der Angeklagte mit direktem Tötungsvorsatz gehandelt hat, als solcher straferschwerend verwertet wird, weil damit nur der Normalfall des § 212 StGB gekennzeichnet wird (BGHR StGB § 46 Abs. 3 Tötungsvorsatz 1, 3, 4, 5; BGH NStZ 2008, 624; aA S/S/W-StGB/Eschelbach § 46 Rn. 185). Dies gilt jedoch nicht, wenn der Täter - wie hier festgestellt - absichtlich einen Menschen tötet, er also nicht nur um den Todeseintritt sicher weiß, sondern es ihm vielmehr darauf ankommt. Ebenso ist es nicht ausgeschlossen, eine zur Herbeiführung des tatbestandlichen Erfolges notwendige, das Mordmerkmal der Grausamkeit noch nicht erfüllende Tötungshandlung unter dem Gesichtspunkt der besonderen Handlungsintensität strafschärfend zu berücksichtigen. Ernemann Fischer Appl Schmitt Eschelbach'"
      ]
     },
     "execution_count": 44,
     "metadata": {},
     "output_type": "execute_result"
    }
   ],
   "source": [
    "df.iloc[193].tenor"
   ]
  },
  {
   "cell_type": "markdown",
   "metadata": {},
   "source": [
    "# Gründe"
   ]
  },
  {
   "cell_type": "code",
   "execution_count": 45,
   "metadata": {},
   "outputs": [
    {
     "data": {
      "text/plain": [
       "['Das Landgericht hat den Angeklagten T.\\xa0wegen bandenmäßigen Handeltreibens mit Betäubungsmitteln in nicht geringer Menge in 13 Fällen zu der Gesamtfreiheitsstrafe von sechs Jahren und acht Monaten verurteilt. Den Angeklagten Ö.\\xa0hat es wegen bandenmäßigen Handeltreibens mit Betäubungsmitteln in nicht geringer Menge in acht Fällen, Handeltreibens mit Betäubungsmitteln in nicht geringer Menge in 3 Fällen sowie wegen schweren Menschenhandels zum Zweck der sexuellen Ausbeutung in Tateinheit mit schwerem Menschenhandel zum Zweck der sexuellen Ausbeutung zur Gesamtfreiheitsstrafe von sieben Jahren und acht Monaten verurteilt. Ferner hat das Landgericht die Unterbringung des Angeklagten Ö.\\xa0in einer Entziehungsanstalt angeordnet und bestimmt, dass die Freiheitsstrafe für die Dauer von einem Jahr und zehn Monaten vor der Unterbringung zu vollziehen ist.',\n",
       " None,\n",
       " 'Die Revision des Angeklagten Ö.\\xa0rügt allgemein die Verletzung materiellen Rechts. Der Angeklagte T.\\xa0wendet sich ebenfalls mit der auf die Rüge der Verletzung sachlichen Rechts gestützten Revision gegen seine Verurteilung und beanstandet im Einzelnen, dass das Landgericht die Anwendung des § 31 Nr. 1 BtMG abgelehnt hat. Die Rechtsmittel haben die aus der Entscheidungsformel ersichtlichen Teilerfolge.',\n",
       " None,\n",
       " {'span': {'@style': 'text-decoration:underline',\n",
       "   '#text': 'Revision des Angeklagten T.'},\n",
       "  '#text': 'I.'},\n",
       " None,\n",
       " 'Die Nachprüfung des angefochtenen Urteils aufgrund der Revisionsrechtfertigung hat zum Schuld- und Strafausspruch keinen Rechtsfehler zum Nachteil des Beschwerdeführers erbracht (§ 349 Abs. 2 StPO). Das Urteil hat indes keinen Bestand, soweit das Landgericht die Anordnung der Unterbringung des Angeklagten in einer Entziehungsanstalt (§ 64 StGB) abgelehnt hat. Die Begründung der Strafkammer, sie sehe \"eine Unterbringung zum gegenwärtigen Zeitpunkt jedenfalls als nicht viel versprechend\" an, da bei dem Angeklagten \"nicht die notwendige Einsichtsfähigkeit in eine Therapiebedürftigkeit festzustellen\" sei, vermag die Ablehnung der Maßregelanordnung nicht zu tragen.',\n",
       " None,\n",
       " '1. Fehlender Therapiewille allein hindert die Unterbringung nach § 64 StGB grundsätzlich nicht. Zwar kann dieser Umstand ein gegen die Erfolgsaussicht der Entwöhnungsbehandlung sprechendes Indiz sein. Ob der Mangel an Therapiebereitschaft den Schluss auf das Fehlen einer hinreichend konkreten Erfolgsaussicht der Maßregel rechtfertigt, lässt sich aber nur aufgrund einer - vom Landgericht hier nicht vorgenommenen - Gesamtwürdigung der Täterpersönlichkeit und aller sonstigen maßgeblichen Umstände beurteilen (BGH NJW 2000, 3015, 3016; Beschl. vom 24. März 2005 - 3 StR 71/05). Die Unterbringung in einer Entziehungsanstalt hängt nicht vom Therapiewillen des Betroffenen ab (BTDrucks. 16/1110 S. 13). Ziel einer Behandlung im Maßregelvollzug kann es vielmehr gerade sein, die Therapiebereitschaft beim Angeklagten erst zu wecken (BGH NStZ-RR 1997, 34 f.). Das Gericht hat daher gegebenenfalls zu prüfen, ob die konkrete Aussicht besteht, dass die Therapiebereitschaft für eine Erfolg versprechende Behandlung in der Maßregel geweckt werden kann (vgl. Fischer, StGB 57. Aufl. § 64 Rdn. 19 f. m. w. N.).',\n",
       " None,\n",
       " '2.Über die Anordnung der Unterbringung des Angeklagten in einer Entziehungsanstalt muss somit - unter Hinzuziehung eines Sachverständigen (§ 246 a StPO) - neu verhandelt und entschieden werden. Anhaltspunkte dafür, dass der Angeklagte nicht gefährlich im Sinne dieser Vorschrift ist oder keine hinreichend konkrete Aussicht besteht, ihn durch die Behandlung in einer Entziehungsanstalt von seinem Hang zu heilen oder über eine erhebliche Zeit vor dem Rückfall in den Hang zu bewahren (§ 64 Satz 2 StGB), sind - abgesehen von seiner Therapieunwilligkeit - nicht ersichtlich. Dass nur der Angeklagte Revision eingelegt hat, hindert die Nachholung der Unterbringungsanordnung nicht (§ 358 Abs. 2 Satz 2 StPO; BGHSt 37, 5; BGH NStZ-RR 2009, 48; NStZ 2009, 261). Er hat die Nichtanwendung des § 64 StGB durch das Tatgericht auch nicht vom Rechtsmittelangriff ausgenommen (vgl. BGHSt 38, 362 f.).',\n",
       " None,\n",
       " '3. Der Senat kann ausschließen, dass der Tatrichter bei Anordnung der Unterbringung auf niedrigere Einzelstrafen erkannt oder eine mildere Gesamtstrafe verhängt hätte. Der Strafausspruch kann deshalb bestehen bleiben.',\n",
       " None,\n",
       " '4. Der neue Tatrichter wird im Falle der Anordnung der Unterbringung des Angeklagten in einer Entziehungsanstalt nach § 67 Abs. 2 Satz 2 und 3, Abs. 5 Satz 1 StGB über die Reihenfolge der Vollstreckung von Strafe und Maßregel zu befinden haben (vgl. BGH NStZ 2008, 28; NStZ-RR 2008, 74). Bei Vorwegvollzug eines Teils der verhängten Freiheitsstrafe wird es für dessen Berechnung notwendig sein, die für den Angeklagten voraussichtlich erforderliche Therapiedauer zu bestimmen.',\n",
       " None,\n",
       " {'span': {'@style': 'text-decoration:underline',\n",
       "   '#text': 'Revision des Angeklagten Ö.'},\n",
       "  '#text': 'II.'},\n",
       " None,\n",
       " 'Die Überprüfung des angefochtenen Urteils aufgrund der Revisionsrechtfertigung hat zum Schuldspruch und zum Maßregelausspruch keinen Rechtsfehler zum Nachteil des Beschwerdeführers erbracht. Dies gilt auch für die Nachprüfung der in den Fällen B. VI. 1. bis 8. und C. der Urteilsgründe zugemessenen Einzelstrafen. Indes können die Einzelstrafen in den Fällen B. VI. 14. bis 16. der Urteilsgründe nicht bestehen bleiben. Das Landgericht hat insoweit rechtfehlerhaft nicht erörtert, ob die Voraussetzungen des § 31 Nr. 1 BtMG vorliegen und deshalb in diesen drei Fällen die angewendeten Strafrahmen zu mildern sind, obwohl die festgestellten Umstände dazu drängten.',\n",
       " None,\n",
       " '1. Danach hat der Angeklagte in den Fällen B. VI. 14. bis 16. der Urteilsgründe gemeinschaftlich mit seinem Bruder K.\\xa0Ö.\\xa0jeweils mit Betäubungsmitteln (Kokain) in nicht geringer Menge Handel getrieben. Das Landgericht hat im Rahmen der Strafzumessung festgestellt, dass sich der Angeklagte \"im Hinblick auf sämtliche von ihm begangene BtM-Delikte umfassend geständig eingelassen und sämtliche Fragen der Kammer freimütig beantwortet\" und \"dabei auch seinen Bruder K.\\xa0Ö.\\xa0bereits umfassend belastet\" hat (UA S. 130) sowie, dass \"die geständige Einlassung des A.\\xa0Ö., mit der er zugleich auch seinen Bruder überführt hat, von besonderer Freimütigkeit getragen\" gewesen ist (UA S. 154). Deshalb liegt es nahe, dass der Angeklagte dazu beigetragen hat, die Taten über seinen Tatbeitrag hinaus aufzuklären. Die getroffenen Feststellungen hätten daher für das Landgericht Anlass sein müssen, die Milderungsmöglichkeit des § 31 Nr. 1 BtMG zu erörtern (vgl. BGH NStZ 2009, 394, 395). Dies lässt das Urteil vermissen.',\n",
       " None,\n",
       " '2. Der Senat kann nicht ausschließen, dass das Landgericht in den betroffenen Einzelfällen bei rechtsfehlerfreier Prüfung § 31 Nr. 1 BtMG i. V. m. § 49 Abs. 2 StGB angewendet und mildere Einzelstrafen zugemessen hätte. Die festgesetzten Strafen können daher nicht bestehen bleiben. Dies zieht die Aufhebung der Gesamtfreiheitsstrafe nach sich. Die zu diesen Einzelstrafen und der Gesamtfreiheitsstrafe rechtsfehlerfrei getroffenen Feststellungen werden von dem aufgezeigten Rechtsfehler nicht berührt und können deshalb bestehen bleiben.',\n",
       " None,\n",
       " '3. Vorsorglich weist der Senat darauf hin, dass die am 1. September 2009 durch das 43. StrÄndG vom 29. Juli 2009 (BGBl I 2288 ff.) in Kraft getretene Änderung des § 31 BtMG gemäß Art. 316 d des Einführungsgesetzes zum Strafgesetzbuch nicht auf Verfahren anzuwenden ist, in denen vor dem 1. September 2009 die Eröffnung des Hauptverfahrens beschlossen wurde (vgl. BGH NStZ-RR 2010, 25).',\n",
       " None,\n",
       " None,\n",
       " None]"
      ]
     },
     "execution_count": 45,
     "metadata": {},
     "output_type": "execute_result"
    }
   ],
   "source": [
    "# Beispiel für noch unsauberen Text der Kategorie Gründe\n",
    "df.iloc[4].gruende"
   ]
  },
  {
   "cell_type": "markdown",
   "metadata": {},
   "source": [
    "### Texte der Kategorie Gründe säubern"
   ]
  },
  {
   "cell_type": "code",
   "execution_count": 59,
   "metadata": {},
   "outputs": [],
   "source": [
    "# function from https://hackersandslackers.com/extract-data-from-complex-json-python/\n",
    "def extract_values(obj, key):\n",
    "    \"\"\"Pull all values of specified key from nested JSON.\"\"\"\n",
    "    arr = []\n",
    "\n",
    "    def extract(obj, arr, key):\n",
    "        \"\"\"Recursively search for values of key in JSON tree.\"\"\"\n",
    "        if isinstance(obj, dict):\n",
    "            for k, v in obj.items():\n",
    "                if isinstance(v, (dict, list)):\n",
    "                    extract(v, arr, key)\n",
    "                elif k == key:\n",
    "                    arr.append(v)\n",
    "        elif isinstance(obj, list):\n",
    "            for item in obj:\n",
    "                extract(item, arr, key)\n",
    "        return arr\n",
    "\n",
    "    results = extract(obj, arr, key)\n",
    "    return results"
   ]
  },
  {
   "cell_type": "code",
   "execution_count": 60,
   "metadata": {},
   "outputs": [],
   "source": [
    "# filter #text tags\n",
    "def filterStyleDeep(liste: list):\n",
    "    for i, item in enumerate(liste):\n",
    "        if type(item) == dict:\n",
    "            values = extract_values(item, \"#text\")\n",
    "            liste[i] = \" \".join(values)        \n",
    "    return liste"
   ]
  },
  {
   "cell_type": "code",
   "execution_count": 61,
   "metadata": {},
   "outputs": [],
   "source": [
    "# apply filterStyleDeep on df\n",
    "df[\"gruende\"] = df[\"gruende\"].apply(filterStyleDeep).apply(filterNone)"
   ]
  },
  {
   "cell_type": "code",
   "execution_count": 62,
   "metadata": {},
   "outputs": [],
   "source": [
    "# concatenate text fragments of Gründe\n",
    "df[\"gruende\"] = df[\"gruende\"].apply(concatenateTenor).apply(cleanTenorTxt)"
   ]
  },
  {
   "cell_type": "markdown",
   "metadata": {},
   "source": [
    "#### <span style='background:pink'>Save dataframe to json file:"
   ]
  },
  {
   "cell_type": "code",
   "execution_count": 63,
   "metadata": {},
   "outputs": [],
   "source": [
    "# df.to_json(\"data/dataframes/df.json\")"
   ]
  },
  {
   "cell_type": "markdown",
   "metadata": {},
   "source": [
    "#### <span style='background:lightgreen'>Load dataframe from df.json</span>"
   ]
  },
  {
   "cell_type": "code",
   "execution_count": 33,
   "metadata": {},
   "outputs": [],
   "source": [
    "data = pd.read_json('data/dataframes/df.json', orient='columns', encoding='utf-8')"
   ]
  },
  {
   "cell_type": "markdown",
   "metadata": {},
   "source": [
    "### Fehlende Daten II"
   ]
  },
  {
   "cell_type": "code",
   "execution_count": 53,
   "metadata": {},
   "outputs": [],
   "source": [
    "def checkForEmptyString(item):\n",
    "    if item == \"\":\n",
    "        return True\n",
    "    else:\n",
    "        return False    "
   ]
  },
  {
   "cell_type": "markdown",
   "metadata": {},
   "source": [
    "Gruende fehlt 443 mal"
   ]
  },
  {
   "cell_type": "code",
   "execution_count": 62,
   "metadata": {},
   "outputs": [
    {
     "data": {
      "text/plain": [
       "443"
      ]
     },
     "execution_count": 62,
     "metadata": {},
     "output_type": "execute_result"
    }
   ],
   "source": [
    "empties_gruende = data[\"gruende\"].apply(checkForEmptyString)\n",
    "empties_gruende.sum()"
   ]
  },
  {
   "cell_type": "markdown",
   "metadata": {},
   "source": [
    "Tenor fehlt 1 mal"
   ]
  },
  {
   "cell_type": "code",
   "execution_count": 63,
   "metadata": {},
   "outputs": [
    {
     "data": {
      "text/plain": [
       "1"
      ]
     },
     "execution_count": 63,
     "metadata": {},
     "output_type": "execute_result"
    }
   ],
   "source": [
    "empties_tenor = data[\"tenor\"].apply(checkForEmptyString)\n",
    "empties_tenor.sum()"
   ]
  },
  {
   "cell_type": "markdown",
   "metadata": {},
   "source": [
    "Titel fehlt 198 mal"
   ]
  },
  {
   "cell_type": "code",
   "execution_count": 82,
   "metadata": {},
   "outputs": [
    {
     "data": {
      "text/plain": [
       "(198,)"
      ]
     },
     "execution_count": 82,
     "metadata": {},
     "output_type": "execute_result"
    }
   ],
   "source": [
    "np.where(pd.isna(data[\"titel\"]))[0].shape"
   ]
  },
  {
   "cell_type": "markdown",
   "metadata": {},
   "source": [
    "Die anderen Kategorien / Spalten scheinen vollständig belegt"
   ]
  },
  {
   "cell_type": "code",
   "execution_count": 85,
   "metadata": {},
   "outputs": [
    {
     "data": {
      "text/plain": [
       "(array([], dtype=int64),)"
      ]
     },
     "execution_count": 85,
     "metadata": {},
     "output_type": "execute_result"
    }
   ],
   "source": [
    "np.where(pd.isna(data[\"doktyp\"]))"
   ]
  },
  {
   "cell_type": "code",
   "execution_count": 86,
   "metadata": {},
   "outputs": [
    {
     "data": {
      "text/plain": [
       "(array([], dtype=int64),)"
      ]
     },
     "execution_count": 86,
     "metadata": {},
     "output_type": "execute_result"
    }
   ],
   "source": [
    "np.where(pd.isna(data[\"spruchkoerper\"]))"
   ]
  },
  {
   "cell_type": "code",
   "execution_count": 87,
   "metadata": {},
   "outputs": [
    {
     "data": {
      "text/plain": [
       "(array([], dtype=int64),)"
      ]
     },
     "execution_count": 87,
     "metadata": {},
     "output_type": "execute_result"
    }
   ],
   "source": [
    "np.where(pd.isna(data[\"az\"]))"
   ]
  },
  {
   "cell_type": "markdown",
   "metadata": {},
   "source": [
    "## Länge der Texte"
   ]
  },
  {
   "cell_type": "code",
   "execution_count": 34,
   "metadata": {},
   "outputs": [],
   "source": [
    "def getLengthOfText(text):\n",
    "    if text:\n",
    "        return len(text)\n",
    "    else:\n",
    "        return 0"
   ]
  },
  {
   "cell_type": "code",
   "execution_count": 35,
   "metadata": {},
   "outputs": [],
   "source": [
    "len_titel = data[\"titel\"].apply(getLengthOfText)"
   ]
  },
  {
   "cell_type": "code",
   "execution_count": 36,
   "metadata": {},
   "outputs": [
    {
     "data": {
      "text/plain": [
       "563"
      ]
     },
     "execution_count": 36,
     "metadata": {},
     "output_type": "execute_result"
    }
   ],
   "source": [
    "# maximum length Titel\n",
    "len_titel.max()"
   ]
  },
  {
   "cell_type": "code",
   "execution_count": 37,
   "metadata": {},
   "outputs": [],
   "source": [
    "len_tenor = data[\"tenor\"].apply(getLengthOfText)"
   ]
  },
  {
   "cell_type": "code",
   "execution_count": 38,
   "metadata": {},
   "outputs": [
    {
     "data": {
      "text/plain": [
       "15965"
      ]
     },
     "execution_count": 38,
     "metadata": {},
     "output_type": "execute_result"
    }
   ],
   "source": [
    "# maximum length Tenor\n",
    "len_tenor.max()"
   ]
  },
  {
   "cell_type": "code",
   "execution_count": 39,
   "metadata": {},
   "outputs": [
    {
     "data": {
      "text/plain": [
       "0"
      ]
     },
     "execution_count": 39,
     "metadata": {},
     "output_type": "execute_result"
    }
   ],
   "source": [
    "len_tenor.min()"
   ]
  },
  {
   "cell_type": "code",
   "execution_count": 40,
   "metadata": {},
   "outputs": [
    {
     "data": {
      "text/plain": [
       "669.4249914177824"
      ]
     },
     "execution_count": 40,
     "metadata": {},
     "output_type": "execute_result"
    }
   ],
   "source": [
    "# mean length Tenor\n",
    "len_tenor.mean()"
   ]
  },
  {
   "cell_type": "code",
   "execution_count": 41,
   "metadata": {},
   "outputs": [],
   "source": [
    "len_gruende = data[\"gruende\"].apply(getLengthOfText)"
   ]
  },
  {
   "cell_type": "code",
   "execution_count": 42,
   "metadata": {},
   "outputs": [
    {
     "data": {
      "text/plain": [
       "132487"
      ]
     },
     "execution_count": 42,
     "metadata": {},
     "output_type": "execute_result"
    }
   ],
   "source": [
    "# maximum length Gründe\n",
    "len_gruende.max()"
   ]
  },
  {
   "cell_type": "code",
   "execution_count": 43,
   "metadata": {},
   "outputs": [
    {
     "data": {
      "text/plain": [
       "9304.9733951253"
      ]
     },
     "execution_count": 43,
     "metadata": {},
     "output_type": "execute_result"
    }
   ],
   "source": [
    "# mean length Gründe\n",
    "len_gruende.mean()"
   ]
  },
  {
   "cell_type": "code",
   "execution_count": 52,
   "metadata": {},
   "outputs": [
    {
     "data": {
      "image/png": "[encoded data removed]",
      "text/plain": [
       "<Figure size 1008x576 with 1 Axes>"
      ]
     },
     "metadata": {
      "needs_background": "light"
     },
     "output_type": "display_data"
    }
   ],
   "source": [
    "f3 = plt.figure(figsize=(14,8))\n",
    "\n",
    "data_preproc = pd.DataFrame({\n",
    "    'Document': data.index, \n",
    "    'Gruende': len_gruende,\n",
    "    'Tenor': len_tenor})\n",
    "\n",
    "sns.lineplot(x='Document', y='value', hue='variable', legend=False, data=pd.melt(data_preproc, ['Document']), lw=0.5).set(xlabel='Dokument per Index', ylabel='Anzahl der Zeichen')\n",
    "plt.legend(loc='upper right', labels=['Gründe', 'Tenor'])\n",
    "\n",
    "#f3.savefig(\"images/plots/textlaenge.png\", bbox_inches=\"tight\", dpi=600)"
   ]
  }
 ],
 "metadata": {
  "kernelspec": {
   "display_name": "Python 3",
   "language": "python",
   "name": "python3"
  },
  "language_info": {
   "codemirror_mode": {
    "name": "ipython",
    "version": 3
   },
   "file_extension": ".py",
   "mimetype": "text/x-python",
   "name": "python",
   "nbconvert_exporter": "python",
   "pygments_lexer": "ipython3",
   "version": "3.6.9"
  }
 },
 "nbformat": 4,
 "nbformat_minor": 4
}
